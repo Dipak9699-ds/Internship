{
 "cells": [
  {
   "cell_type": "markdown",
   "id": "76f633ee",
   "metadata": {},
   "source": [
    "# Import the libraries."
   ]
  },
  {
   "cell_type": "code",
   "execution_count": 118,
   "id": "2351db5c",
   "metadata": {},
   "outputs": [],
   "source": [
    "import numpy as np\n",
    "import matplotlib.pyplot as plt\n",
    "import seaborn as sns\n",
    "import warnings\n",
    "warnings.filterwarnings('ignore')"
   ]
  },
  {
   "cell_type": "markdown",
   "id": "b1c323e8",
   "metadata": {},
   "source": [
    "# Load the dataset."
   ]
  },
  {
   "cell_type": "code",
   "execution_count": 119,
   "id": "68c27d5b",
   "metadata": {},
   "outputs": [
    {
     "data": {
      "text/html": [
       "<div>\n",
       "<style scoped>\n",
       "    .dataframe tbody tr th:only-of-type {\n",
       "        vertical-align: middle;\n",
       "    }\n",
       "\n",
       "    .dataframe tbody tr th {\n",
       "        vertical-align: top;\n",
       "    }\n",
       "\n",
       "    .dataframe thead th {\n",
       "        text-align: right;\n",
       "    }\n",
       "</style>\n",
       "<table border=\"1\" class=\"dataframe\">\n",
       "  <thead>\n",
       "    <tr style=\"text-align: right;\">\n",
       "      <th></th>\n",
       "      <th>Unnamed: 0</th>\n",
       "      <th>Date</th>\n",
       "      <th>AveragePrice</th>\n",
       "      <th>Total Volume</th>\n",
       "      <th>4046</th>\n",
       "      <th>4225</th>\n",
       "      <th>4770</th>\n",
       "      <th>Total Bags</th>\n",
       "      <th>Small Bags</th>\n",
       "      <th>Large Bags</th>\n",
       "      <th>XLarge Bags</th>\n",
       "      <th>type</th>\n",
       "      <th>year</th>\n",
       "      <th>region</th>\n",
       "    </tr>\n",
       "  </thead>\n",
       "  <tbody>\n",
       "    <tr>\n",
       "      <th>0</th>\n",
       "      <td>0</td>\n",
       "      <td>2015-12-27</td>\n",
       "      <td>1.33</td>\n",
       "      <td>64236.62</td>\n",
       "      <td>1036.74</td>\n",
       "      <td>54454.85</td>\n",
       "      <td>48.16</td>\n",
       "      <td>8696.87</td>\n",
       "      <td>8603.62</td>\n",
       "      <td>93.25</td>\n",
       "      <td>0.0</td>\n",
       "      <td>conventional</td>\n",
       "      <td>2015</td>\n",
       "      <td>Albany</td>\n",
       "    </tr>\n",
       "    <tr>\n",
       "      <th>1</th>\n",
       "      <td>1</td>\n",
       "      <td>2015-12-20</td>\n",
       "      <td>1.35</td>\n",
       "      <td>54876.98</td>\n",
       "      <td>674.28</td>\n",
       "      <td>44638.81</td>\n",
       "      <td>58.33</td>\n",
       "      <td>9505.56</td>\n",
       "      <td>9408.07</td>\n",
       "      <td>97.49</td>\n",
       "      <td>0.0</td>\n",
       "      <td>conventional</td>\n",
       "      <td>2015</td>\n",
       "      <td>Albany</td>\n",
       "    </tr>\n",
       "    <tr>\n",
       "      <th>2</th>\n",
       "      <td>2</td>\n",
       "      <td>2015-12-13</td>\n",
       "      <td>0.93</td>\n",
       "      <td>118220.22</td>\n",
       "      <td>794.70</td>\n",
       "      <td>109149.67</td>\n",
       "      <td>130.50</td>\n",
       "      <td>8145.35</td>\n",
       "      <td>8042.21</td>\n",
       "      <td>103.14</td>\n",
       "      <td>0.0</td>\n",
       "      <td>conventional</td>\n",
       "      <td>2015</td>\n",
       "      <td>Albany</td>\n",
       "    </tr>\n",
       "    <tr>\n",
       "      <th>3</th>\n",
       "      <td>3</td>\n",
       "      <td>2015-12-06</td>\n",
       "      <td>1.08</td>\n",
       "      <td>78992.15</td>\n",
       "      <td>1132.00</td>\n",
       "      <td>71976.41</td>\n",
       "      <td>72.58</td>\n",
       "      <td>5811.16</td>\n",
       "      <td>5677.40</td>\n",
       "      <td>133.76</td>\n",
       "      <td>0.0</td>\n",
       "      <td>conventional</td>\n",
       "      <td>2015</td>\n",
       "      <td>Albany</td>\n",
       "    </tr>\n",
       "    <tr>\n",
       "      <th>4</th>\n",
       "      <td>4</td>\n",
       "      <td>2015-11-29</td>\n",
       "      <td>1.28</td>\n",
       "      <td>51039.60</td>\n",
       "      <td>941.48</td>\n",
       "      <td>43838.39</td>\n",
       "      <td>75.78</td>\n",
       "      <td>6183.95</td>\n",
       "      <td>5986.26</td>\n",
       "      <td>197.69</td>\n",
       "      <td>0.0</td>\n",
       "      <td>conventional</td>\n",
       "      <td>2015</td>\n",
       "      <td>Albany</td>\n",
       "    </tr>\n",
       "    <tr>\n",
       "      <th>...</th>\n",
       "      <td>...</td>\n",
       "      <td>...</td>\n",
       "      <td>...</td>\n",
       "      <td>...</td>\n",
       "      <td>...</td>\n",
       "      <td>...</td>\n",
       "      <td>...</td>\n",
       "      <td>...</td>\n",
       "      <td>...</td>\n",
       "      <td>...</td>\n",
       "      <td>...</td>\n",
       "      <td>...</td>\n",
       "      <td>...</td>\n",
       "      <td>...</td>\n",
       "    </tr>\n",
       "    <tr>\n",
       "      <th>18244</th>\n",
       "      <td>7</td>\n",
       "      <td>2018-02-04</td>\n",
       "      <td>1.63</td>\n",
       "      <td>17074.83</td>\n",
       "      <td>2046.96</td>\n",
       "      <td>1529.20</td>\n",
       "      <td>0.00</td>\n",
       "      <td>13498.67</td>\n",
       "      <td>13066.82</td>\n",
       "      <td>431.85</td>\n",
       "      <td>0.0</td>\n",
       "      <td>organic</td>\n",
       "      <td>2018</td>\n",
       "      <td>WestTexNewMexico</td>\n",
       "    </tr>\n",
       "    <tr>\n",
       "      <th>18245</th>\n",
       "      <td>8</td>\n",
       "      <td>2018-01-28</td>\n",
       "      <td>1.71</td>\n",
       "      <td>13888.04</td>\n",
       "      <td>1191.70</td>\n",
       "      <td>3431.50</td>\n",
       "      <td>0.00</td>\n",
       "      <td>9264.84</td>\n",
       "      <td>8940.04</td>\n",
       "      <td>324.80</td>\n",
       "      <td>0.0</td>\n",
       "      <td>organic</td>\n",
       "      <td>2018</td>\n",
       "      <td>WestTexNewMexico</td>\n",
       "    </tr>\n",
       "    <tr>\n",
       "      <th>18246</th>\n",
       "      <td>9</td>\n",
       "      <td>2018-01-21</td>\n",
       "      <td>1.87</td>\n",
       "      <td>13766.76</td>\n",
       "      <td>1191.92</td>\n",
       "      <td>2452.79</td>\n",
       "      <td>727.94</td>\n",
       "      <td>9394.11</td>\n",
       "      <td>9351.80</td>\n",
       "      <td>42.31</td>\n",
       "      <td>0.0</td>\n",
       "      <td>organic</td>\n",
       "      <td>2018</td>\n",
       "      <td>WestTexNewMexico</td>\n",
       "    </tr>\n",
       "    <tr>\n",
       "      <th>18247</th>\n",
       "      <td>10</td>\n",
       "      <td>2018-01-14</td>\n",
       "      <td>1.93</td>\n",
       "      <td>16205.22</td>\n",
       "      <td>1527.63</td>\n",
       "      <td>2981.04</td>\n",
       "      <td>727.01</td>\n",
       "      <td>10969.54</td>\n",
       "      <td>10919.54</td>\n",
       "      <td>50.00</td>\n",
       "      <td>0.0</td>\n",
       "      <td>organic</td>\n",
       "      <td>2018</td>\n",
       "      <td>WestTexNewMexico</td>\n",
       "    </tr>\n",
       "    <tr>\n",
       "      <th>18248</th>\n",
       "      <td>11</td>\n",
       "      <td>2018-01-07</td>\n",
       "      <td>1.62</td>\n",
       "      <td>17489.58</td>\n",
       "      <td>2894.77</td>\n",
       "      <td>2356.13</td>\n",
       "      <td>224.53</td>\n",
       "      <td>12014.15</td>\n",
       "      <td>11988.14</td>\n",
       "      <td>26.01</td>\n",
       "      <td>0.0</td>\n",
       "      <td>organic</td>\n",
       "      <td>2018</td>\n",
       "      <td>WestTexNewMexico</td>\n",
       "    </tr>\n",
       "  </tbody>\n",
       "</table>\n",
       "<p>18249 rows × 14 columns</p>\n",
       "</div>"
      ],
      "text/plain": [
       "       Unnamed: 0        Date  AveragePrice  Total Volume     4046       4225  \\\n",
       "0               0  2015-12-27          1.33      64236.62  1036.74   54454.85   \n",
       "1               1  2015-12-20          1.35      54876.98   674.28   44638.81   \n",
       "2               2  2015-12-13          0.93     118220.22   794.70  109149.67   \n",
       "3               3  2015-12-06          1.08      78992.15  1132.00   71976.41   \n",
       "4               4  2015-11-29          1.28      51039.60   941.48   43838.39   \n",
       "...           ...         ...           ...           ...      ...        ...   \n",
       "18244           7  2018-02-04          1.63      17074.83  2046.96    1529.20   \n",
       "18245           8  2018-01-28          1.71      13888.04  1191.70    3431.50   \n",
       "18246           9  2018-01-21          1.87      13766.76  1191.92    2452.79   \n",
       "18247          10  2018-01-14          1.93      16205.22  1527.63    2981.04   \n",
       "18248          11  2018-01-07          1.62      17489.58  2894.77    2356.13   \n",
       "\n",
       "         4770  Total Bags  Small Bags  Large Bags  XLarge Bags          type  \\\n",
       "0       48.16     8696.87     8603.62       93.25          0.0  conventional   \n",
       "1       58.33     9505.56     9408.07       97.49          0.0  conventional   \n",
       "2      130.50     8145.35     8042.21      103.14          0.0  conventional   \n",
       "3       72.58     5811.16     5677.40      133.76          0.0  conventional   \n",
       "4       75.78     6183.95     5986.26      197.69          0.0  conventional   \n",
       "...       ...         ...         ...         ...          ...           ...   \n",
       "18244    0.00    13498.67    13066.82      431.85          0.0       organic   \n",
       "18245    0.00     9264.84     8940.04      324.80          0.0       organic   \n",
       "18246  727.94     9394.11     9351.80       42.31          0.0       organic   \n",
       "18247  727.01    10969.54    10919.54       50.00          0.0       organic   \n",
       "18248  224.53    12014.15    11988.14       26.01          0.0       organic   \n",
       "\n",
       "       year            region  \n",
       "0      2015            Albany  \n",
       "1      2015            Albany  \n",
       "2      2015            Albany  \n",
       "3      2015            Albany  \n",
       "4      2015            Albany  \n",
       "...     ...               ...  \n",
       "18244  2018  WestTexNewMexico  \n",
       "18245  2018  WestTexNewMexico  \n",
       "18246  2018  WestTexNewMexico  \n",
       "18247  2018  WestTexNewMexico  \n",
       "18248  2018  WestTexNewMexico  \n",
       "\n",
       "[18249 rows x 14 columns]"
      ]
     },
     "execution_count": 119,
     "metadata": {},
     "output_type": "execute_result"
    }
   ],
   "source": [
    "import pandas as pd\n",
    "df = pd.read_csv(r'C:/Users/dipak/Downloads/avocado.csv')\n",
    "df"
   ]
  },
  {
   "cell_type": "code",
   "execution_count": 120,
   "id": "324f5d3b",
   "metadata": {},
   "outputs": [],
   "source": [
    "#drop unnamed index column\n",
    "df.drop('Unnamed: 0', axis=1, inplace=True)"
   ]
  },
  {
   "cell_type": "code",
   "execution_count": 121,
   "id": "5d95cd08",
   "metadata": {},
   "outputs": [
    {
     "data": {
      "text/plain": [
       "(18249, 13)"
      ]
     },
     "execution_count": 121,
     "metadata": {},
     "output_type": "execute_result"
    }
   ],
   "source": [
    "#Get the numbers of rows and columns.\n",
    "df.shape"
   ]
  },
  {
   "cell_type": "code",
   "execution_count": 122,
   "id": "3d9491df",
   "metadata": {},
   "outputs": [
    {
     "data": {
      "text/plain": [
       "Index(['Date', 'AveragePrice', 'Total Volume', '4046', '4225', '4770',\n",
       "       'Total Bags', 'Small Bags', 'Large Bags', 'XLarge Bags', 'type', 'year',\n",
       "       'region'],\n",
       "      dtype='object')"
      ]
     },
     "execution_count": 122,
     "metadata": {},
     "output_type": "execute_result"
    }
   ],
   "source": [
    "#Check column of the dataframe.\n",
    "df.columns"
   ]
  },
  {
   "cell_type": "code",
   "execution_count": 123,
   "id": "e803ceff",
   "metadata": {},
   "outputs": [
    {
     "data": {
      "text/plain": [
       "Date             object\n",
       "AveragePrice    float64\n",
       "Total Volume    float64\n",
       "4046            float64\n",
       "4225            float64\n",
       "4770            float64\n",
       "Total Bags      float64\n",
       "Small Bags      float64\n",
       "Large Bags      float64\n",
       "XLarge Bags     float64\n",
       "type             object\n",
       "year              int64\n",
       "region           object\n",
       "dtype: object"
      ]
     },
     "execution_count": 123,
     "metadata": {},
     "output_type": "execute_result"
    }
   ],
   "source": [
    "#Get the column datatypes.\n",
    "df.dtypes"
   ]
  },
  {
   "cell_type": "code",
   "execution_count": 124,
   "id": "8078b7f2",
   "metadata": {},
   "outputs": [
    {
     "data": {
      "text/plain": [
       "Date            0\n",
       "AveragePrice    0\n",
       "Total Volume    0\n",
       "4046            0\n",
       "4225            0\n",
       "4770            0\n",
       "Total Bags      0\n",
       "Small Bags      0\n",
       "Large Bags      0\n",
       "XLarge Bags     0\n",
       "type            0\n",
       "year            0\n",
       "region          0\n",
       "dtype: int64"
      ]
     },
     "execution_count": 124,
     "metadata": {},
     "output_type": "execute_result"
    }
   ],
   "source": [
    "#Get a count of the empty values for each column.\n",
    "df.isna().sum()"
   ]
  },
  {
   "cell_type": "code",
   "execution_count": 125,
   "id": "805ba799",
   "metadata": {},
   "outputs": [
    {
     "data": {
      "text/plain": [
       "False"
      ]
     },
     "execution_count": 125,
     "metadata": {},
     "output_type": "execute_result"
    }
   ],
   "source": [
    "#Check any missing/null values in the dataset.\n",
    "df.isnull().values.any()"
   ]
  },
  {
   "cell_type": "code",
   "execution_count": 126,
   "id": "7f3b56cc",
   "metadata": {},
   "outputs": [
    {
     "data": {
      "text/plain": [
       "<AxesSubplot:>"
      ]
     },
     "execution_count": 126,
     "metadata": {},
     "output_type": "execute_result"
    },
    {
     "data": {
      "image/png": "[encoded data removed]",
      "text/plain": [
       "<Figure size 432x288 with 2 Axes>"
      ]
     },
     "metadata": {
      "needs_background": "light"
     },
     "output_type": "display_data"
    }
   ],
   "source": [
    "#Checking for null values using heatmap.\n",
    "sns.heatmap(df.isnull())"
   ]
  },
  {
   "cell_type": "code",
   "execution_count": 127,
   "id": "a4538f09",
   "metadata": {},
   "outputs": [
    {
     "name": "stdout",
     "output_type": "stream",
     "text": [
      "<class 'pandas.core.frame.DataFrame'>\n",
      "RangeIndex: 18249 entries, 0 to 18248\n",
      "Data columns (total 13 columns):\n",
      " #   Column        Non-Null Count  Dtype  \n",
      "---  ------        --------------  -----  \n",
      " 0   Date          18249 non-null  object \n",
      " 1   AveragePrice  18249 non-null  float64\n",
      " 2   Total Volume  18249 non-null  float64\n",
      " 3   4046          18249 non-null  float64\n",
      " 4   4225          18249 non-null  float64\n",
      " 5   4770          18249 non-null  float64\n",
      " 6   Total Bags    18249 non-null  float64\n",
      " 7   Small Bags    18249 non-null  float64\n",
      " 8   Large Bags    18249 non-null  float64\n",
      " 9   XLarge Bags   18249 non-null  float64\n",
      " 10  type          18249 non-null  object \n",
      " 11  year          18249 non-null  int64  \n",
      " 12  region        18249 non-null  object \n",
      "dtypes: float64(9), int64(1), object(3)\n",
      "memory usage: 1.8+ MB\n"
     ]
    }
   ],
   "source": [
    "#Basic information about dataset.\n",
    "df.info()"
   ]
  },
  {
   "cell_type": "code",
   "execution_count": 128,
   "id": "70935f24",
   "metadata": {},
   "outputs": [
    {
     "name": "stdout",
     "output_type": "stream",
     "text": [
      "Date : ['2015-12-27' '2015-12-20' '2015-12-13' '2015-12-06' '2015-11-29'\n",
      " '2015-11-22' '2015-11-15' '2015-11-08' '2015-11-01' '2015-10-25'\n",
      " '2015-10-18' '2015-10-11' '2015-10-04' '2015-09-27' '2015-09-20'\n",
      " '2015-09-13' '2015-09-06' '2015-08-30' '2015-08-23' '2015-08-16'\n",
      " '2015-08-09' '2015-08-02' '2015-07-26' '2015-07-19' '2015-07-12'\n",
      " '2015-07-05' '2015-06-28' '2015-06-21' '2015-06-14' '2015-06-07'\n",
      " '2015-05-31' '2015-05-24' '2015-05-17' '2015-05-10' '2015-05-03'\n",
      " '2015-04-26' '2015-04-19' '2015-04-12' '2015-04-05' '2015-03-29'\n",
      " '2015-03-22' '2015-03-15' '2015-03-08' '2015-03-01' '2015-02-22'\n",
      " '2015-02-15' '2015-02-08' '2015-02-01' '2015-01-25' '2015-01-18'\n",
      " '2015-01-11' '2015-01-04' '2016-12-25' '2016-12-18' '2016-12-11'\n",
      " '2016-12-04' '2016-11-27' '2016-11-20' '2016-11-13' '2016-11-06'\n",
      " '2016-10-30' '2016-10-23' '2016-10-16' '2016-10-09' '2016-10-02'\n",
      " '2016-09-25' '2016-09-18' '2016-09-11' '2016-09-04' '2016-08-28'\n",
      " '2016-08-21' '2016-08-14' '2016-08-07' '2016-07-31' '2016-07-24'\n",
      " '2016-07-17' '2016-07-10' '2016-07-03' '2016-06-26' '2016-06-19'\n",
      " '2016-06-12' '2016-06-05' '2016-05-29' '2016-05-22' '2016-05-15'\n",
      " '2016-05-08' '2016-05-01' '2016-04-24' '2016-04-17' '2016-04-10'\n",
      " '2016-04-03' '2016-03-27' '2016-03-20' '2016-03-13' '2016-03-06'\n",
      " '2016-02-28' '2016-02-21' '2016-02-14' '2016-02-07' '2016-01-31'\n",
      " '2016-01-24' '2016-01-17' '2016-01-10' '2016-01-03' '2017-12-31'\n",
      " '2017-12-24' '2017-12-17' '2017-12-10' '2017-12-03' '2017-11-26'\n",
      " '2017-11-19' '2017-11-12' '2017-11-05' '2017-10-29' '2017-10-22'\n",
      " '2017-10-15' '2017-10-08' '2017-10-01' '2017-09-24' '2017-09-17'\n",
      " '2017-09-10' '2017-09-03' '2017-08-27' '2017-08-20' '2017-08-13'\n",
      " '2017-08-06' '2017-07-30' '2017-07-23' '2017-07-16' '2017-07-09'\n",
      " '2017-07-02' '2017-06-25' '2017-06-18' '2017-06-11' '2017-06-04'\n",
      " '2017-05-28' '2017-05-21' '2017-05-14' '2017-05-07' '2017-04-30'\n",
      " '2017-04-23' '2017-04-16' '2017-04-09' '2017-04-02' '2017-03-26'\n",
      " '2017-03-19' '2017-03-12' '2017-03-05' '2017-02-26' '2017-02-19'\n",
      " '2017-02-12' '2017-02-05' '2017-01-29' '2017-01-22' '2017-01-15'\n",
      " '2017-01-08' '2017-01-01' '2018-03-25' '2018-03-18' '2018-03-11'\n",
      " '2018-03-04' '2018-02-25' '2018-02-18' '2018-02-11' '2018-02-04'\n",
      " '2018-01-28' '2018-01-21' '2018-01-14' '2018-01-07']\n",
      "2015-12-27    108\n",
      "2017-12-24    108\n",
      "2017-12-10    108\n",
      "2017-12-03    108\n",
      "2017-11-26    108\n",
      "             ... \n",
      "2016-11-06    108\n",
      "2018-01-07    108\n",
      "2017-06-18    107\n",
      "2017-06-25    107\n",
      "2015-12-06    107\n",
      "Name: Date, Length: 169, dtype: int64\n",
      "____________________________________________\n",
      "type : ['conventional' 'organic']\n",
      "conventional    9126\n",
      "organic         9123\n",
      "Name: type, dtype: int64\n",
      "____________________________________________\n",
      "region : ['Albany' 'Atlanta' 'BaltimoreWashington' 'Boise' 'Boston'\n",
      " 'BuffaloRochester' 'California' 'Charlotte' 'Chicago' 'CincinnatiDayton'\n",
      " 'Columbus' 'DallasFtWorth' 'Denver' 'Detroit' 'GrandRapids' 'GreatLakes'\n",
      " 'HarrisburgScranton' 'HartfordSpringfield' 'Houston' 'Indianapolis'\n",
      " 'Jacksonville' 'LasVegas' 'LosAngeles' 'Louisville' 'MiamiFtLauderdale'\n",
      " 'Midsouth' 'Nashville' 'NewOrleansMobile' 'NewYork' 'Northeast'\n",
      " 'NorthernNewEngland' 'Orlando' 'Philadelphia' 'PhoenixTucson'\n",
      " 'Pittsburgh' 'Plains' 'Portland' 'RaleighGreensboro' 'RichmondNorfolk'\n",
      " 'Roanoke' 'Sacramento' 'SanDiego' 'SanFrancisco' 'Seattle'\n",
      " 'SouthCarolina' 'SouthCentral' 'Southeast' 'Spokane' 'StLouis' 'Syracuse'\n",
      " 'Tampa' 'TotalUS' 'West' 'WestTexNewMexico']\n",
      "Albany                 338\n",
      "Sacramento             338\n",
      "Northeast              338\n",
      "NorthernNewEngland     338\n",
      "Orlando                338\n",
      "Philadelphia           338\n",
      "PhoenixTucson          338\n",
      "Pittsburgh             338\n",
      "Plains                 338\n",
      "Portland               338\n",
      "RaleighGreensboro      338\n",
      "RichmondNorfolk        338\n",
      "Roanoke                338\n",
      "SanDiego               338\n",
      "Atlanta                338\n",
      "SanFrancisco           338\n",
      "Seattle                338\n",
      "SouthCarolina          338\n",
      "SouthCentral           338\n",
      "Southeast              338\n",
      "Spokane                338\n",
      "StLouis                338\n",
      "Syracuse               338\n",
      "Tampa                  338\n",
      "TotalUS                338\n",
      "West                   338\n",
      "NewYork                338\n",
      "NewOrleansMobile       338\n",
      "Nashville              338\n",
      "Midsouth               338\n",
      "BaltimoreWashington    338\n",
      "Boise                  338\n",
      "Boston                 338\n",
      "BuffaloRochester       338\n",
      "California             338\n",
      "Charlotte              338\n",
      "Chicago                338\n",
      "CincinnatiDayton       338\n",
      "Columbus               338\n",
      "DallasFtWorth          338\n",
      "Denver                 338\n",
      "Detroit                338\n",
      "GrandRapids            338\n",
      "GreatLakes             338\n",
      "HarrisburgScranton     338\n",
      "HartfordSpringfield    338\n",
      "Houston                338\n",
      "Indianapolis           338\n",
      "Jacksonville           338\n",
      "LasVegas               338\n",
      "LosAngeles             338\n",
      "Louisville             338\n",
      "MiamiFtLauderdale      338\n",
      "WestTexNewMexico       335\n",
      "Name: region, dtype: int64\n",
      "____________________________________________\n"
     ]
    }
   ],
   "source": [
    "#Print all of the data types and their unique values.\n",
    "for column in df.columns:\n",
    "    if df[column].dtype == object:\n",
    "        print(str(column) + ' : ' + str(df[column].unique()))\n",
    "        print(df[column].value_counts())\n",
    "        print('____________________________________________')"
   ]
  },
  {
   "cell_type": "markdown",
   "id": "fb41131e",
   "metadata": {},
   "source": [
    "# Data Analysis and Visualization"
   ]
  },
  {
   "cell_type": "code",
   "execution_count": 129,
   "id": "741a2666",
   "metadata": {},
   "outputs": [
    {
     "data": {
      "text/html": [
       "<style type=\"text/css\">\n",
       "#T_c9d11_row0_col0, #T_c9d11_row0_col9, #T_c9d11_row7_col1, #T_c9d11_row7_col2, #T_c9d11_row7_col3, #T_c9d11_row7_col4, #T_c9d11_row7_col5, #T_c9d11_row7_col6, #T_c9d11_row7_col7, #T_c9d11_row7_col8 {\n",
       "  background-color: #023858;\n",
       "  color: #f1f1f1;\n",
       "}\n",
       "#T_c9d11_row0_col1, #T_c9d11_row0_col2, #T_c9d11_row0_col3, #T_c9d11_row0_col5, #T_c9d11_row0_col6, #T_c9d11_row0_col7, #T_c9d11_row1_col0, #T_c9d11_row2_col0, #T_c9d11_row2_col9, #T_c9d11_row3_col0, #T_c9d11_row3_col1, #T_c9d11_row3_col2, #T_c9d11_row3_col3, #T_c9d11_row3_col4, #T_c9d11_row3_col5, #T_c9d11_row3_col6, #T_c9d11_row3_col7, #T_c9d11_row3_col8, #T_c9d11_row4_col0, #T_c9d11_row4_col1, #T_c9d11_row4_col2, #T_c9d11_row4_col3, #T_c9d11_row4_col4, #T_c9d11_row4_col5, #T_c9d11_row4_col6, #T_c9d11_row4_col7, #T_c9d11_row4_col8, #T_c9d11_row5_col0, #T_c9d11_row5_col1, #T_c9d11_row5_col2, #T_c9d11_row5_col3, #T_c9d11_row5_col4, #T_c9d11_row5_col5, #T_c9d11_row5_col6, #T_c9d11_row5_col7, #T_c9d11_row5_col8, #T_c9d11_row6_col0, #T_c9d11_row6_col4, #T_c9d11_row6_col7, #T_c9d11_row6_col8, #T_c9d11_row7_col0 {\n",
       "  background-color: #fff7fb;\n",
       "  color: #000000;\n",
       "}\n",
       "#T_c9d11_row0_col4, #T_c9d11_row1_col8, #T_c9d11_row6_col1, #T_c9d11_row6_col2, #T_c9d11_row6_col3, #T_c9d11_row6_col5, #T_c9d11_row6_col6 {\n",
       "  background-color: #fef6fb;\n",
       "  color: #000000;\n",
       "}\n",
       "#T_c9d11_row0_col8, #T_c9d11_row2_col8 {\n",
       "  background-color: #faf3f9;\n",
       "  color: #000000;\n",
       "}\n",
       "#T_c9d11_row1_col1, #T_c9d11_row1_col2, #T_c9d11_row1_col3, #T_c9d11_row1_col5, #T_c9d11_row1_col6 {\n",
       "  background-color: #fdf5fa;\n",
       "  color: #000000;\n",
       "}\n",
       "#T_c9d11_row1_col4, #T_c9d11_row1_col7 {\n",
       "  background-color: #fef6fa;\n",
       "  color: #000000;\n",
       "}\n",
       "#T_c9d11_row1_col9, #T_c9d11_row3_col9, #T_c9d11_row4_col9, #T_c9d11_row5_col9, #T_c9d11_row6_col9, #T_c9d11_row7_col9 {\n",
       "  background-color: #eee9f3;\n",
       "  color: #000000;\n",
       "}\n",
       "#T_c9d11_row2_col1, #T_c9d11_row2_col2, #T_c9d11_row2_col5, #T_c9d11_row2_col6 {\n",
       "  background-color: #f7f0f7;\n",
       "  color: #000000;\n",
       "}\n",
       "#T_c9d11_row2_col3 {\n",
       "  background-color: #f6eff7;\n",
       "  color: #000000;\n",
       "}\n",
       "#T_c9d11_row2_col4, #T_c9d11_row2_col7 {\n",
       "  background-color: #f9f2f8;\n",
       "  color: #000000;\n",
       "}\n",
       "</style>\n",
       "<table id=\"T_c9d11_\">\n",
       "  <thead>\n",
       "    <tr>\n",
       "      <th class=\"blank level0\" >&nbsp;</th>\n",
       "      <th class=\"col_heading level0 col0\" >AveragePrice</th>\n",
       "      <th class=\"col_heading level0 col1\" >Total Volume</th>\n",
       "      <th class=\"col_heading level0 col2\" >4046</th>\n",
       "      <th class=\"col_heading level0 col3\" >4225</th>\n",
       "      <th class=\"col_heading level0 col4\" >4770</th>\n",
       "      <th class=\"col_heading level0 col5\" >Total Bags</th>\n",
       "      <th class=\"col_heading level0 col6\" >Small Bags</th>\n",
       "      <th class=\"col_heading level0 col7\" >Large Bags</th>\n",
       "      <th class=\"col_heading level0 col8\" >XLarge Bags</th>\n",
       "      <th class=\"col_heading level0 col9\" >year</th>\n",
       "    </tr>\n",
       "  </thead>\n",
       "  <tbody>\n",
       "    <tr>\n",
       "      <th id=\"T_c9d11_level0_row0\" class=\"row_heading level0 row0\" >count</th>\n",
       "      <td id=\"T_c9d11_row0_col0\" class=\"data row0 col0\" >18249.000000</td>\n",
       "      <td id=\"T_c9d11_row0_col1\" class=\"data row0 col1\" >18249.000000</td>\n",
       "      <td id=\"T_c9d11_row0_col2\" class=\"data row0 col2\" >18249.000000</td>\n",
       "      <td id=\"T_c9d11_row0_col3\" class=\"data row0 col3\" >18249.000000</td>\n",
       "      <td id=\"T_c9d11_row0_col4\" class=\"data row0 col4\" >18249.000000</td>\n",
       "      <td id=\"T_c9d11_row0_col5\" class=\"data row0 col5\" >18249.000000</td>\n",
       "      <td id=\"T_c9d11_row0_col6\" class=\"data row0 col6\" >18249.000000</td>\n",
       "      <td id=\"T_c9d11_row0_col7\" class=\"data row0 col7\" >18249.000000</td>\n",
       "      <td id=\"T_c9d11_row0_col8\" class=\"data row0 col8\" >18249.000000</td>\n",
       "      <td id=\"T_c9d11_row0_col9\" class=\"data row0 col9\" >18249.000000</td>\n",
       "    </tr>\n",
       "    <tr>\n",
       "      <th id=\"T_c9d11_level0_row1\" class=\"row_heading level0 row1\" >mean</th>\n",
       "      <td id=\"T_c9d11_row1_col0\" class=\"data row1 col0\" >1.405978</td>\n",
       "      <td id=\"T_c9d11_row1_col1\" class=\"data row1 col1\" >850644.013009</td>\n",
       "      <td id=\"T_c9d11_row1_col2\" class=\"data row1 col2\" >293008.424531</td>\n",
       "      <td id=\"T_c9d11_row1_col3\" class=\"data row1 col3\" >295154.568356</td>\n",
       "      <td id=\"T_c9d11_row1_col4\" class=\"data row1 col4\" >22839.735993</td>\n",
       "      <td id=\"T_c9d11_row1_col5\" class=\"data row1 col5\" >239639.202060</td>\n",
       "      <td id=\"T_c9d11_row1_col6\" class=\"data row1 col6\" >182194.686696</td>\n",
       "      <td id=\"T_c9d11_row1_col7\" class=\"data row1 col7\" >54338.088145</td>\n",
       "      <td id=\"T_c9d11_row1_col8\" class=\"data row1 col8\" >3106.426507</td>\n",
       "      <td id=\"T_c9d11_row1_col9\" class=\"data row1 col9\" >2016.147899</td>\n",
       "    </tr>\n",
       "    <tr>\n",
       "      <th id=\"T_c9d11_level0_row2\" class=\"row_heading level0 row2\" >std</th>\n",
       "      <td id=\"T_c9d11_row2_col0\" class=\"data row2 col0\" >0.402677</td>\n",
       "      <td id=\"T_c9d11_row2_col1\" class=\"data row2 col1\" >3453545.355399</td>\n",
       "      <td id=\"T_c9d11_row2_col2\" class=\"data row2 col2\" >1264989.081763</td>\n",
       "      <td id=\"T_c9d11_row2_col3\" class=\"data row2 col3\" >1204120.401135</td>\n",
       "      <td id=\"T_c9d11_row2_col4\" class=\"data row2 col4\" >107464.068435</td>\n",
       "      <td id=\"T_c9d11_row2_col5\" class=\"data row2 col5\" >986242.399216</td>\n",
       "      <td id=\"T_c9d11_row2_col6\" class=\"data row2 col6\" >746178.514962</td>\n",
       "      <td id=\"T_c9d11_row2_col7\" class=\"data row2 col7\" >243965.964547</td>\n",
       "      <td id=\"T_c9d11_row2_col8\" class=\"data row2 col8\" >17692.894652</td>\n",
       "      <td id=\"T_c9d11_row2_col9\" class=\"data row2 col9\" >0.939938</td>\n",
       "    </tr>\n",
       "    <tr>\n",
       "      <th id=\"T_c9d11_level0_row3\" class=\"row_heading level0 row3\" >min</th>\n",
       "      <td id=\"T_c9d11_row3_col0\" class=\"data row3 col0\" >0.440000</td>\n",
       "      <td id=\"T_c9d11_row3_col1\" class=\"data row3 col1\" >84.560000</td>\n",
       "      <td id=\"T_c9d11_row3_col2\" class=\"data row3 col2\" >0.000000</td>\n",
       "      <td id=\"T_c9d11_row3_col3\" class=\"data row3 col3\" >0.000000</td>\n",
       "      <td id=\"T_c9d11_row3_col4\" class=\"data row3 col4\" >0.000000</td>\n",
       "      <td id=\"T_c9d11_row3_col5\" class=\"data row3 col5\" >0.000000</td>\n",
       "      <td id=\"T_c9d11_row3_col6\" class=\"data row3 col6\" >0.000000</td>\n",
       "      <td id=\"T_c9d11_row3_col7\" class=\"data row3 col7\" >0.000000</td>\n",
       "      <td id=\"T_c9d11_row3_col8\" class=\"data row3 col8\" >0.000000</td>\n",
       "      <td id=\"T_c9d11_row3_col9\" class=\"data row3 col9\" >2015.000000</td>\n",
       "    </tr>\n",
       "    <tr>\n",
       "      <th id=\"T_c9d11_level0_row4\" class=\"row_heading level0 row4\" >25%</th>\n",
       "      <td id=\"T_c9d11_row4_col0\" class=\"data row4 col0\" >1.100000</td>\n",
       "      <td id=\"T_c9d11_row4_col1\" class=\"data row4 col1\" >10838.580000</td>\n",
       "      <td id=\"T_c9d11_row4_col2\" class=\"data row4 col2\" >854.070000</td>\n",
       "      <td id=\"T_c9d11_row4_col3\" class=\"data row4 col3\" >3008.780000</td>\n",
       "      <td id=\"T_c9d11_row4_col4\" class=\"data row4 col4\" >0.000000</td>\n",
       "      <td id=\"T_c9d11_row4_col5\" class=\"data row4 col5\" >5088.640000</td>\n",
       "      <td id=\"T_c9d11_row4_col6\" class=\"data row4 col6\" >2849.420000</td>\n",
       "      <td id=\"T_c9d11_row4_col7\" class=\"data row4 col7\" >127.470000</td>\n",
       "      <td id=\"T_c9d11_row4_col8\" class=\"data row4 col8\" >0.000000</td>\n",
       "      <td id=\"T_c9d11_row4_col9\" class=\"data row4 col9\" >2015.000000</td>\n",
       "    </tr>\n",
       "    <tr>\n",
       "      <th id=\"T_c9d11_level0_row5\" class=\"row_heading level0 row5\" >50%</th>\n",
       "      <td id=\"T_c9d11_row5_col0\" class=\"data row5 col0\" >1.370000</td>\n",
       "      <td id=\"T_c9d11_row5_col1\" class=\"data row5 col1\" >107376.760000</td>\n",
       "      <td id=\"T_c9d11_row5_col2\" class=\"data row5 col2\" >8645.300000</td>\n",
       "      <td id=\"T_c9d11_row5_col3\" class=\"data row5 col3\" >29061.020000</td>\n",
       "      <td id=\"T_c9d11_row5_col4\" class=\"data row5 col4\" >184.990000</td>\n",
       "      <td id=\"T_c9d11_row5_col5\" class=\"data row5 col5\" >39743.830000</td>\n",
       "      <td id=\"T_c9d11_row5_col6\" class=\"data row5 col6\" >26362.820000</td>\n",
       "      <td id=\"T_c9d11_row5_col7\" class=\"data row5 col7\" >2647.710000</td>\n",
       "      <td id=\"T_c9d11_row5_col8\" class=\"data row5 col8\" >0.000000</td>\n",
       "      <td id=\"T_c9d11_row5_col9\" class=\"data row5 col9\" >2016.000000</td>\n",
       "    </tr>\n",
       "    <tr>\n",
       "      <th id=\"T_c9d11_level0_row6\" class=\"row_heading level0 row6\" >75%</th>\n",
       "      <td id=\"T_c9d11_row6_col0\" class=\"data row6 col0\" >1.660000</td>\n",
       "      <td id=\"T_c9d11_row6_col1\" class=\"data row6 col1\" >432962.290000</td>\n",
       "      <td id=\"T_c9d11_row6_col2\" class=\"data row6 col2\" >111020.200000</td>\n",
       "      <td id=\"T_c9d11_row6_col3\" class=\"data row6 col3\" >150206.860000</td>\n",
       "      <td id=\"T_c9d11_row6_col4\" class=\"data row6 col4\" >6243.420000</td>\n",
       "      <td id=\"T_c9d11_row6_col5\" class=\"data row6 col5\" >110783.370000</td>\n",
       "      <td id=\"T_c9d11_row6_col6\" class=\"data row6 col6\" >83337.670000</td>\n",
       "      <td id=\"T_c9d11_row6_col7\" class=\"data row6 col7\" >22029.250000</td>\n",
       "      <td id=\"T_c9d11_row6_col8\" class=\"data row6 col8\" >132.500000</td>\n",
       "      <td id=\"T_c9d11_row6_col9\" class=\"data row6 col9\" >2017.000000</td>\n",
       "    </tr>\n",
       "    <tr>\n",
       "      <th id=\"T_c9d11_level0_row7\" class=\"row_heading level0 row7\" >max</th>\n",
       "      <td id=\"T_c9d11_row7_col0\" class=\"data row7 col0\" >3.250000</td>\n",
       "      <td id=\"T_c9d11_row7_col1\" class=\"data row7 col1\" >62505646.520000</td>\n",
       "      <td id=\"T_c9d11_row7_col2\" class=\"data row7 col2\" >22743616.170000</td>\n",
       "      <td id=\"T_c9d11_row7_col3\" class=\"data row7 col3\" >20470572.610000</td>\n",
       "      <td id=\"T_c9d11_row7_col4\" class=\"data row7 col4\" >2546439.110000</td>\n",
       "      <td id=\"T_c9d11_row7_col5\" class=\"data row7 col5\" >19373134.370000</td>\n",
       "      <td id=\"T_c9d11_row7_col6\" class=\"data row7 col6\" >13384586.800000</td>\n",
       "      <td id=\"T_c9d11_row7_col7\" class=\"data row7 col7\" >5719096.610000</td>\n",
       "      <td id=\"T_c9d11_row7_col8\" class=\"data row7 col8\" >551693.650000</td>\n",
       "      <td id=\"T_c9d11_row7_col9\" class=\"data row7 col9\" >2018.000000</td>\n",
       "    </tr>\n",
       "  </tbody>\n",
       "</table>\n"
      ],
      "text/plain": [
       "<pandas.io.formats.style.Styler at 0x1c37a049e20>"
      ]
     },
     "execution_count": 129,
     "metadata": {},
     "output_type": "execute_result"
    }
   ],
   "source": [
    "#summary statistics.\n",
    "df.describe().style.background_gradient()"
   ]
  },
  {
   "cell_type": "code",
   "execution_count": 130,
   "id": "a530d50c",
   "metadata": {},
   "outputs": [],
   "source": [
    "#Change in to datatype:\n",
    "df['Date']=pd.to_datetime(df['Date'])\n",
    "df['Month']=df['Date'].apply(lambda x:x.month)\n",
    "df['Day']=df['Date'].apply(lambda x:x.day)"
   ]
  },
  {
   "cell_type": "code",
   "execution_count": 131,
   "id": "8a672a04",
   "metadata": {},
   "outputs": [
    {
     "data": {
      "text/html": [
       "<div>\n",
       "<style scoped>\n",
       "    .dataframe tbody tr th:only-of-type {\n",
       "        vertical-align: middle;\n",
       "    }\n",
       "\n",
       "    .dataframe tbody tr th {\n",
       "        vertical-align: top;\n",
       "    }\n",
       "\n",
       "    .dataframe thead th {\n",
       "        text-align: right;\n",
       "    }\n",
       "</style>\n",
       "<table border=\"1\" class=\"dataframe\">\n",
       "  <thead>\n",
       "    <tr style=\"text-align: right;\">\n",
       "      <th></th>\n",
       "      <th>Date</th>\n",
       "      <th>AveragePrice</th>\n",
       "      <th>Total Volume</th>\n",
       "      <th>4046</th>\n",
       "      <th>4225</th>\n",
       "      <th>4770</th>\n",
       "      <th>Total Bags</th>\n",
       "      <th>Small Bags</th>\n",
       "      <th>Large Bags</th>\n",
       "      <th>XLarge Bags</th>\n",
       "      <th>type</th>\n",
       "      <th>year</th>\n",
       "      <th>region</th>\n",
       "      <th>Month</th>\n",
       "      <th>Day</th>\n",
       "    </tr>\n",
       "  </thead>\n",
       "  <tbody>\n",
       "    <tr>\n",
       "      <th>0</th>\n",
       "      <td>2015-12-27</td>\n",
       "      <td>1.33</td>\n",
       "      <td>64236.62</td>\n",
       "      <td>1036.74</td>\n",
       "      <td>54454.85</td>\n",
       "      <td>48.16</td>\n",
       "      <td>8696.87</td>\n",
       "      <td>8603.62</td>\n",
       "      <td>93.25</td>\n",
       "      <td>0.0</td>\n",
       "      <td>conventional</td>\n",
       "      <td>2015</td>\n",
       "      <td>Albany</td>\n",
       "      <td>12</td>\n",
       "      <td>27</td>\n",
       "    </tr>\n",
       "    <tr>\n",
       "      <th>1</th>\n",
       "      <td>2015-12-20</td>\n",
       "      <td>1.35</td>\n",
       "      <td>54876.98</td>\n",
       "      <td>674.28</td>\n",
       "      <td>44638.81</td>\n",
       "      <td>58.33</td>\n",
       "      <td>9505.56</td>\n",
       "      <td>9408.07</td>\n",
       "      <td>97.49</td>\n",
       "      <td>0.0</td>\n",
       "      <td>conventional</td>\n",
       "      <td>2015</td>\n",
       "      <td>Albany</td>\n",
       "      <td>12</td>\n",
       "      <td>20</td>\n",
       "    </tr>\n",
       "    <tr>\n",
       "      <th>2</th>\n",
       "      <td>2015-12-13</td>\n",
       "      <td>0.93</td>\n",
       "      <td>118220.22</td>\n",
       "      <td>794.70</td>\n",
       "      <td>109149.67</td>\n",
       "      <td>130.50</td>\n",
       "      <td>8145.35</td>\n",
       "      <td>8042.21</td>\n",
       "      <td>103.14</td>\n",
       "      <td>0.0</td>\n",
       "      <td>conventional</td>\n",
       "      <td>2015</td>\n",
       "      <td>Albany</td>\n",
       "      <td>12</td>\n",
       "      <td>13</td>\n",
       "    </tr>\n",
       "    <tr>\n",
       "      <th>3</th>\n",
       "      <td>2015-12-06</td>\n",
       "      <td>1.08</td>\n",
       "      <td>78992.15</td>\n",
       "      <td>1132.00</td>\n",
       "      <td>71976.41</td>\n",
       "      <td>72.58</td>\n",
       "      <td>5811.16</td>\n",
       "      <td>5677.40</td>\n",
       "      <td>133.76</td>\n",
       "      <td>0.0</td>\n",
       "      <td>conventional</td>\n",
       "      <td>2015</td>\n",
       "      <td>Albany</td>\n",
       "      <td>12</td>\n",
       "      <td>6</td>\n",
       "    </tr>\n",
       "    <tr>\n",
       "      <th>4</th>\n",
       "      <td>2015-11-29</td>\n",
       "      <td>1.28</td>\n",
       "      <td>51039.60</td>\n",
       "      <td>941.48</td>\n",
       "      <td>43838.39</td>\n",
       "      <td>75.78</td>\n",
       "      <td>6183.95</td>\n",
       "      <td>5986.26</td>\n",
       "      <td>197.69</td>\n",
       "      <td>0.0</td>\n",
       "      <td>conventional</td>\n",
       "      <td>2015</td>\n",
       "      <td>Albany</td>\n",
       "      <td>11</td>\n",
       "      <td>29</td>\n",
       "    </tr>\n",
       "  </tbody>\n",
       "</table>\n",
       "</div>"
      ],
      "text/plain": [
       "        Date  AveragePrice  Total Volume     4046       4225    4770  \\\n",
       "0 2015-12-27          1.33      64236.62  1036.74   54454.85   48.16   \n",
       "1 2015-12-20          1.35      54876.98   674.28   44638.81   58.33   \n",
       "2 2015-12-13          0.93     118220.22   794.70  109149.67  130.50   \n",
       "3 2015-12-06          1.08      78992.15  1132.00   71976.41   72.58   \n",
       "4 2015-11-29          1.28      51039.60   941.48   43838.39   75.78   \n",
       "\n",
       "   Total Bags  Small Bags  Large Bags  XLarge Bags          type  year  \\\n",
       "0     8696.87     8603.62       93.25          0.0  conventional  2015   \n",
       "1     9505.56     9408.07       97.49          0.0  conventional  2015   \n",
       "2     8145.35     8042.21      103.14          0.0  conventional  2015   \n",
       "3     5811.16     5677.40      133.76          0.0  conventional  2015   \n",
       "4     6183.95     5986.26      197.69          0.0  conventional  2015   \n",
       "\n",
       "   region  Month  Day  \n",
       "0  Albany     12   27  \n",
       "1  Albany     12   20  \n",
       "2  Albany     12   13  \n",
       "3  Albany     12    6  \n",
       "4  Albany     11   29  "
      ]
     },
     "execution_count": 131,
     "metadata": {},
     "output_type": "execute_result"
    }
   ],
   "source": [
    "df.head()"
   ]
  },
  {
   "cell_type": "code",
   "execution_count": 132,
   "id": "79cde0bc",
   "metadata": {},
   "outputs": [
    {
     "data": {
      "text/plain": [
       "<AxesSubplot:xlabel='year', ylabel='AveragePrice'>"
      ]
     },
     "execution_count": 132,
     "metadata": {},
     "output_type": "execute_result"
    },
    {
     "data": {
      "image/png": "[encoded data removed]",
      "text/plain": [
       "<Figure size 432x288 with 1 Axes>"
      ]
     },
     "metadata": {
      "needs_background": "light"
     },
     "output_type": "display_data"
    }
   ],
   "source": [
    "#checking ratio of year and avg price that which year has max avg price.\n",
    "sns.barplot(x='year', y='AveragePrice', data=df)"
   ]
  },
  {
   "cell_type": "code",
   "execution_count": 133,
   "id": "849fab60",
   "metadata": {},
   "outputs": [
    {
     "data": {
      "text/plain": [
       "<AxesSubplot:xlabel='year', ylabel='Total Volume'>"
      ]
     },
     "execution_count": 133,
     "metadata": {},
     "output_type": "execute_result"
    },
    {
     "data": {
      "image/png": "[encoded data removed]",
      "text/plain": [
       "<Figure size 432x288 with 1 Axes>"
      ]
     },
     "metadata": {
      "needs_background": "light"
     },
     "output_type": "display_data"
    }
   ],
   "source": [
    "#checking ratio of year and total volume that which year has max sell.\n",
    "sns.barplot(x='year', y='Total Volume', data=df)"
   ]
  },
  {
   "cell_type": "code",
   "execution_count": 149,
   "id": "68eb59a3",
   "metadata": {},
   "outputs": [
    {
     "data": {
      "text/plain": [
       "<AxesSubplot:xlabel='Month', ylabel='AveragePrice'>"
      ]
     },
     "execution_count": 149,
     "metadata": {},
     "output_type": "execute_result"
    },
    {
     "data": {
      "image/png": "[encoded data removed]",
      "text/plain": [
       "<Figure size 432x288 with 1 Axes>"
      ]
     },
     "metadata": {
      "needs_background": "light"
     },
     "output_type": "display_data"
    }
   ],
   "source": [
    "# Checking the months and price average by barplot:\n",
    "sns.barplot(x='Month',y='AveragePrice',data=df)"
   ]
  },
  {
   "cell_type": "code",
   "execution_count": 134,
   "id": "a74412a1",
   "metadata": {},
   "outputs": [
    {
     "data": {
      "image/png": "[encoded data removed]",
      "text/plain": [
       "<Figure size 2160x1080 with 16 Axes>"
      ]
     },
     "metadata": {
      "needs_background": "light"
     },
     "output_type": "display_data"
    }
   ],
   "source": [
    "#plotting histogram for univariate analysis and checking the normal distribution:\n",
    "df.hist(bins=50,figsize=(30,15))\n",
    "plt.show()"
   ]
  },
  {
   "cell_type": "code",
   "execution_count": 135,
   "id": "8143709f",
   "metadata": {},
   "outputs": [],
   "source": [
    "#display pairplot of columns.\n",
    "#sns.pairplot(df, size=3)\n",
    "#plt.show()"
   ]
  },
  {
   "cell_type": "code",
   "execution_count": 136,
   "id": "29703840",
   "metadata": {},
   "outputs": [
    {
     "data": {
      "text/plain": [
       "<function matplotlib.pyplot.show(close=None, block=None)>"
      ]
     },
     "execution_count": 136,
     "metadata": {},
     "output_type": "execute_result"
    },
    {
     "data": {
      "image/png": "[encoded data removed]",
      "text/plain": [
       "<Figure size 720x360 with 1 Axes>"
      ]
     },
     "metadata": {
      "needs_background": "light"
     },
     "output_type": "display_data"
    }
   ],
   "source": [
    "# Checking the AveragePrice average by subplot:\n",
    "plt.subplots(figsize=(10, 5))\n",
    "sns.distplot(a=df.AveragePrice, kde=False)\n",
    "plt.xlabel('AveragePrice')\n",
    "plt.show"
   ]
  },
  {
   "cell_type": "code",
   "execution_count": 137,
   "id": "afbc3a34",
   "metadata": {},
   "outputs": [
    {
     "data": {
      "text/html": [
       "<div>\n",
       "<style scoped>\n",
       "    .dataframe tbody tr th:only-of-type {\n",
       "        vertical-align: middle;\n",
       "    }\n",
       "\n",
       "    .dataframe tbody tr th {\n",
       "        vertical-align: top;\n",
       "    }\n",
       "\n",
       "    .dataframe thead th {\n",
       "        text-align: right;\n",
       "    }\n",
       "</style>\n",
       "<table border=\"1\" class=\"dataframe\">\n",
       "  <thead>\n",
       "    <tr style=\"text-align: right;\">\n",
       "      <th></th>\n",
       "      <th>AveragePrice</th>\n",
       "      <th>Total Volume</th>\n",
       "      <th>4046</th>\n",
       "      <th>4225</th>\n",
       "      <th>4770</th>\n",
       "      <th>Total Bags</th>\n",
       "      <th>Small Bags</th>\n",
       "      <th>Large Bags</th>\n",
       "      <th>XLarge Bags</th>\n",
       "      <th>year</th>\n",
       "      <th>Month</th>\n",
       "      <th>Day</th>\n",
       "    </tr>\n",
       "  </thead>\n",
       "  <tbody>\n",
       "    <tr>\n",
       "      <th>AveragePrice</th>\n",
       "      <td>1.000000</td>\n",
       "      <td>-0.192752</td>\n",
       "      <td>-0.208317</td>\n",
       "      <td>-0.172928</td>\n",
       "      <td>-0.179446</td>\n",
       "      <td>-0.177088</td>\n",
       "      <td>-0.174730</td>\n",
       "      <td>-0.172940</td>\n",
       "      <td>-0.117592</td>\n",
       "      <td>0.093197</td>\n",
       "      <td>0.162409</td>\n",
       "      <td>0.027386</td>\n",
       "    </tr>\n",
       "    <tr>\n",
       "      <th>Total Volume</th>\n",
       "      <td>-0.192752</td>\n",
       "      <td>1.000000</td>\n",
       "      <td>0.977863</td>\n",
       "      <td>0.974181</td>\n",
       "      <td>0.872202</td>\n",
       "      <td>0.963047</td>\n",
       "      <td>0.967238</td>\n",
       "      <td>0.880640</td>\n",
       "      <td>0.747157</td>\n",
       "      <td>0.017193</td>\n",
       "      <td>-0.024689</td>\n",
       "      <td>-0.009747</td>\n",
       "    </tr>\n",
       "    <tr>\n",
       "      <th>4046</th>\n",
       "      <td>-0.208317</td>\n",
       "      <td>0.977863</td>\n",
       "      <td>1.000000</td>\n",
       "      <td>0.926110</td>\n",
       "      <td>0.833389</td>\n",
       "      <td>0.920057</td>\n",
       "      <td>0.925280</td>\n",
       "      <td>0.838645</td>\n",
       "      <td>0.699377</td>\n",
       "      <td>0.003353</td>\n",
       "      <td>-0.025803</td>\n",
       "      <td>-0.010159</td>\n",
       "    </tr>\n",
       "    <tr>\n",
       "      <th>4225</th>\n",
       "      <td>-0.172928</td>\n",
       "      <td>0.974181</td>\n",
       "      <td>0.926110</td>\n",
       "      <td>1.000000</td>\n",
       "      <td>0.887855</td>\n",
       "      <td>0.905787</td>\n",
       "      <td>0.916031</td>\n",
       "      <td>0.810015</td>\n",
       "      <td>0.688809</td>\n",
       "      <td>-0.009559</td>\n",
       "      <td>-0.022108</td>\n",
       "      <td>-0.012393</td>\n",
       "    </tr>\n",
       "    <tr>\n",
       "      <th>4770</th>\n",
       "      <td>-0.179446</td>\n",
       "      <td>0.872202</td>\n",
       "      <td>0.833389</td>\n",
       "      <td>0.887855</td>\n",
       "      <td>1.000000</td>\n",
       "      <td>0.792314</td>\n",
       "      <td>0.802733</td>\n",
       "      <td>0.698471</td>\n",
       "      <td>0.679861</td>\n",
       "      <td>-0.036531</td>\n",
       "      <td>-0.033424</td>\n",
       "      <td>-0.009009</td>\n",
       "    </tr>\n",
       "    <tr>\n",
       "      <th>Total Bags</th>\n",
       "      <td>-0.177088</td>\n",
       "      <td>0.963047</td>\n",
       "      <td>0.920057</td>\n",
       "      <td>0.905787</td>\n",
       "      <td>0.792314</td>\n",
       "      <td>1.000000</td>\n",
       "      <td>0.994335</td>\n",
       "      <td>0.943009</td>\n",
       "      <td>0.804233</td>\n",
       "      <td>0.071552</td>\n",
       "      <td>-0.022724</td>\n",
       "      <td>-0.004988</td>\n",
       "    </tr>\n",
       "    <tr>\n",
       "      <th>Small Bags</th>\n",
       "      <td>-0.174730</td>\n",
       "      <td>0.967238</td>\n",
       "      <td>0.925280</td>\n",
       "      <td>0.916031</td>\n",
       "      <td>0.802733</td>\n",
       "      <td>0.994335</td>\n",
       "      <td>1.000000</td>\n",
       "      <td>0.902589</td>\n",
       "      <td>0.806845</td>\n",
       "      <td>0.063915</td>\n",
       "      <td>-0.023126</td>\n",
       "      <td>-0.003870</td>\n",
       "    </tr>\n",
       "    <tr>\n",
       "      <th>Large Bags</th>\n",
       "      <td>-0.172940</td>\n",
       "      <td>0.880640</td>\n",
       "      <td>0.838645</td>\n",
       "      <td>0.810015</td>\n",
       "      <td>0.698471</td>\n",
       "      <td>0.943009</td>\n",
       "      <td>0.902589</td>\n",
       "      <td>1.000000</td>\n",
       "      <td>0.710858</td>\n",
       "      <td>0.087891</td>\n",
       "      <td>-0.020187</td>\n",
       "      <td>-0.008352</td>\n",
       "    </tr>\n",
       "    <tr>\n",
       "      <th>XLarge Bags</th>\n",
       "      <td>-0.117592</td>\n",
       "      <td>0.747157</td>\n",
       "      <td>0.699377</td>\n",
       "      <td>0.688809</td>\n",
       "      <td>0.679861</td>\n",
       "      <td>0.804233</td>\n",
       "      <td>0.806845</td>\n",
       "      <td>0.710858</td>\n",
       "      <td>1.000000</td>\n",
       "      <td>0.081033</td>\n",
       "      <td>-0.012969</td>\n",
       "      <td>0.000319</td>\n",
       "    </tr>\n",
       "    <tr>\n",
       "      <th>year</th>\n",
       "      <td>0.093197</td>\n",
       "      <td>0.017193</td>\n",
       "      <td>0.003353</td>\n",
       "      <td>-0.009559</td>\n",
       "      <td>-0.036531</td>\n",
       "      <td>0.071552</td>\n",
       "      <td>0.063915</td>\n",
       "      <td>0.087891</td>\n",
       "      <td>0.081033</td>\n",
       "      <td>1.000000</td>\n",
       "      <td>-0.177050</td>\n",
       "      <td>0.004475</td>\n",
       "    </tr>\n",
       "    <tr>\n",
       "      <th>Month</th>\n",
       "      <td>0.162409</td>\n",
       "      <td>-0.024689</td>\n",
       "      <td>-0.025803</td>\n",
       "      <td>-0.022108</td>\n",
       "      <td>-0.033424</td>\n",
       "      <td>-0.022724</td>\n",
       "      <td>-0.023126</td>\n",
       "      <td>-0.020187</td>\n",
       "      <td>-0.012969</td>\n",
       "      <td>-0.177050</td>\n",
       "      <td>1.000000</td>\n",
       "      <td>0.010621</td>\n",
       "    </tr>\n",
       "    <tr>\n",
       "      <th>Day</th>\n",
       "      <td>0.027386</td>\n",
       "      <td>-0.009747</td>\n",
       "      <td>-0.010159</td>\n",
       "      <td>-0.012393</td>\n",
       "      <td>-0.009009</td>\n",
       "      <td>-0.004988</td>\n",
       "      <td>-0.003870</td>\n",
       "      <td>-0.008352</td>\n",
       "      <td>0.000319</td>\n",
       "      <td>0.004475</td>\n",
       "      <td>0.010621</td>\n",
       "      <td>1.000000</td>\n",
       "    </tr>\n",
       "  </tbody>\n",
       "</table>\n",
       "</div>"
      ],
      "text/plain": [
       "              AveragePrice  Total Volume      4046      4225      4770  \\\n",
       "AveragePrice      1.000000     -0.192752 -0.208317 -0.172928 -0.179446   \n",
       "Total Volume     -0.192752      1.000000  0.977863  0.974181  0.872202   \n",
       "4046             -0.208317      0.977863  1.000000  0.926110  0.833389   \n",
       "4225             -0.172928      0.974181  0.926110  1.000000  0.887855   \n",
       "4770             -0.179446      0.872202  0.833389  0.887855  1.000000   \n",
       "Total Bags       -0.177088      0.963047  0.920057  0.905787  0.792314   \n",
       "Small Bags       -0.174730      0.967238  0.925280  0.916031  0.802733   \n",
       "Large Bags       -0.172940      0.880640  0.838645  0.810015  0.698471   \n",
       "XLarge Bags      -0.117592      0.747157  0.699377  0.688809  0.679861   \n",
       "year              0.093197      0.017193  0.003353 -0.009559 -0.036531   \n",
       "Month             0.162409     -0.024689 -0.025803 -0.022108 -0.033424   \n",
       "Day               0.027386     -0.009747 -0.010159 -0.012393 -0.009009   \n",
       "\n",
       "              Total Bags  Small Bags  Large Bags  XLarge Bags      year  \\\n",
       "AveragePrice   -0.177088   -0.174730   -0.172940    -0.117592  0.093197   \n",
       "Total Volume    0.963047    0.967238    0.880640     0.747157  0.017193   \n",
       "4046            0.920057    0.925280    0.838645     0.699377  0.003353   \n",
       "4225            0.905787    0.916031    0.810015     0.688809 -0.009559   \n",
       "4770            0.792314    0.802733    0.698471     0.679861 -0.036531   \n",
       "Total Bags      1.000000    0.994335    0.943009     0.804233  0.071552   \n",
       "Small Bags      0.994335    1.000000    0.902589     0.806845  0.063915   \n",
       "Large Bags      0.943009    0.902589    1.000000     0.710858  0.087891   \n",
       "XLarge Bags     0.804233    0.806845    0.710858     1.000000  0.081033   \n",
       "year            0.071552    0.063915    0.087891     0.081033  1.000000   \n",
       "Month          -0.022724   -0.023126   -0.020187    -0.012969 -0.177050   \n",
       "Day            -0.004988   -0.003870   -0.008352     0.000319  0.004475   \n",
       "\n",
       "                 Month       Day  \n",
       "AveragePrice  0.162409  0.027386  \n",
       "Total Volume -0.024689 -0.009747  \n",
       "4046         -0.025803 -0.010159  \n",
       "4225         -0.022108 -0.012393  \n",
       "4770         -0.033424 -0.009009  \n",
       "Total Bags   -0.022724 -0.004988  \n",
       "Small Bags   -0.023126 -0.003870  \n",
       "Large Bags   -0.020187 -0.008352  \n",
       "XLarge Bags  -0.012969  0.000319  \n",
       "year         -0.177050  0.004475  \n",
       "Month         1.000000  0.010621  \n",
       "Day           0.010621  1.000000  "
      ]
     },
     "execution_count": 137,
     "metadata": {},
     "output_type": "execute_result"
    }
   ],
   "source": [
    "#Get the correlation.\n",
    "df.corr()"
   ]
  },
  {
   "cell_type": "code",
   "execution_count": 138,
   "id": "0b6c9bec",
   "metadata": {},
   "outputs": [
    {
     "data": {
      "image/png": "[encoded data removed]",
      "text/plain": [
       "<Figure size 1080x1080 with 2 Axes>"
      ]
     },
     "metadata": {
      "needs_background": "light"
     },
     "output_type": "display_data"
    }
   ],
   "source": [
    "#check correlation matrix with heatmap.\n",
    "corr_mat = df.corr()\n",
    "plt.figure(figsize=(15,15))\n",
    "sns.heatmap(corr_mat, annot=True, fmt = '.0%',cmap = 'Blues')\n",
    "plt.title('Correlation matrix')\n",
    "plt.show()"
   ]
  },
  {
   "cell_type": "code",
   "execution_count": 139,
   "id": "36eb41f1",
   "metadata": {},
   "outputs": [
    {
     "data": {
      "text/plain": [
       "AveragePrice    1.000000\n",
       "Month           0.162409\n",
       "year            0.093197\n",
       "Day             0.027386\n",
       "XLarge Bags    -0.117592\n",
       "4225           -0.172928\n",
       "Large Bags     -0.172940\n",
       "Small Bags     -0.174730\n",
       "Total Bags     -0.177088\n",
       "4770           -0.179446\n",
       "Total Volume   -0.192752\n",
       "4046           -0.208317\n",
       "Name: AveragePrice, dtype: float64"
      ]
     },
     "execution_count": 139,
     "metadata": {},
     "output_type": "execute_result"
    }
   ],
   "source": [
    "corr_matrix = df.corr()\n",
    "corr_matrix['AveragePrice'].sort_values(ascending=False)"
   ]
  },
  {
   "cell_type": "code",
   "execution_count": 140,
   "id": "9bdf6a9c",
   "metadata": {},
   "outputs": [
    {
     "data": {
      "text/plain": [
       "Date            datetime64[ns]\n",
       "AveragePrice           float64\n",
       "Total Volume           float64\n",
       "4046                   float64\n",
       "4225                   float64\n",
       "4770                   float64\n",
       "Total Bags             float64\n",
       "Small Bags             float64\n",
       "Large Bags             float64\n",
       "XLarge Bags            float64\n",
       "type                    object\n",
       "year                     int64\n",
       "region                  object\n",
       "Month                    int64\n",
       "Day                      int64\n",
       "dtype: object"
      ]
     },
     "execution_count": 140,
     "metadata": {},
     "output_type": "execute_result"
    }
   ],
   "source": [
    "df.dtypes"
   ]
  },
  {
   "cell_type": "markdown",
   "id": "d792a319",
   "metadata": {},
   "source": [
    "# Transform the data."
   ]
  },
  {
   "cell_type": "code",
   "execution_count": 141,
   "id": "0a3d26f4",
   "metadata": {},
   "outputs": [],
   "source": [
    "#Transform non-numerical into numerical column.\n",
    "from sklearn.preprocessing import LabelEncoder\n",
    "\n",
    "for column in df.columns:\n",
    "    if df[column].dtype == np.number:\n",
    "        continue\n",
    "    df[column] = LabelEncoder().fit_transform(df[column])"
   ]
  },
  {
   "cell_type": "markdown",
   "id": "bf216660",
   "metadata": {},
   "source": [
    "# Remove skewness and outliers"
   ]
  },
  {
   "cell_type": "code",
   "execution_count": 143,
   "id": "96c217a8",
   "metadata": {},
   "outputs": [
    {
     "data": {
      "text/plain": [
       "XLarge Bags     13.139751\n",
       "4770            10.159396\n",
       "Large Bags       9.796455\n",
       "Total Bags       9.756072\n",
       "Small Bags       9.540660\n",
       "Total Volume     9.007687\n",
       "4225             8.942466\n",
       "4046             8.648220\n",
       "AveragePrice     0.580303\n",
       "year             0.215339\n",
       "Month            0.106617\n",
       "Day              0.014310\n",
       "type             0.000329\n",
       "Date             0.000117\n",
       "region           0.000030\n",
       "dtype: float64"
      ]
     },
     "execution_count": 143,
     "metadata": {},
     "output_type": "execute_result"
    }
   ],
   "source": [
    "#checking skewness\n",
    "df.skew().sort_values(ascending=False)"
   ]
  },
  {
   "cell_type": "code",
   "execution_count": 144,
   "id": "8c01f913",
   "metadata": {},
   "outputs": [],
   "source": [
    "#Making the ske less than or equal to 0.55 for better prediction and plotting Normal distribution.\n",
    "skew=('Total Volume','4046','4225','4770','Total Bags','Small Bags','Large Bags','XLarge Bags')\n",
    "\n",
    "for col in skew:\n",
    "    if df.skew().loc[col]>0.55:\n",
    "        df[col]=np.log1p(df[col])"
   ]
  },
  {
   "cell_type": "code",
   "execution_count": 145,
   "id": "9d1e1d63",
   "metadata": {},
   "outputs": [
    {
     "data": {
      "text/plain": [
       "XLarge Bags     1.176494\n",
       "AveragePrice    0.580303\n",
       "year            0.215339\n",
       "Month           0.106617\n",
       "4770            0.099986\n",
       "Total Volume    0.088098\n",
       "Day             0.014310\n",
       "type            0.000329\n",
       "Date            0.000117\n",
       "region          0.000030\n",
       "Total Bags     -0.218874\n",
       "4046           -0.328195\n",
       "4225           -0.486654\n",
       "Large Bags     -0.547765\n",
       "Small Bags     -0.622148\n",
       "dtype: float64"
      ]
     },
     "execution_count": 145,
     "metadata": {},
     "output_type": "execute_result"
    }
   ],
   "source": [
    "#checking skewness\n",
    "df.skew().sort_values(ascending=False)"
   ]
  },
  {
   "cell_type": "code",
   "execution_count": 146,
   "id": "2c5fe1f7",
   "metadata": {},
   "outputs": [
    {
     "data": {
      "text/plain": [
       "Date                AxesSubplot(0.125,0.71587;0.133621x0.16413)\n",
       "AveragePrice     AxesSubplot(0.285345,0.71587;0.133621x0.16413)\n",
       "Total Volume      AxesSubplot(0.44569,0.71587;0.133621x0.16413)\n",
       "4046             AxesSubplot(0.606034,0.71587;0.133621x0.16413)\n",
       "4225             AxesSubplot(0.766379,0.71587;0.133621x0.16413)\n",
       "4770               AxesSubplot(0.125,0.518913;0.133621x0.16413)\n",
       "Total Bags      AxesSubplot(0.285345,0.518913;0.133621x0.16413)\n",
       "Small Bags       AxesSubplot(0.44569,0.518913;0.133621x0.16413)\n",
       "Large Bags      AxesSubplot(0.606034,0.518913;0.133621x0.16413)\n",
       "XLarge Bags     AxesSubplot(0.766379,0.518913;0.133621x0.16413)\n",
       "type               AxesSubplot(0.125,0.321957;0.133621x0.16413)\n",
       "year            AxesSubplot(0.285345,0.321957;0.133621x0.16413)\n",
       "region           AxesSubplot(0.44569,0.321957;0.133621x0.16413)\n",
       "Month           AxesSubplot(0.606034,0.321957;0.133621x0.16413)\n",
       "Day             AxesSubplot(0.766379,0.321957;0.133621x0.16413)\n",
       "dtype: object"
      ]
     },
     "execution_count": 146,
     "metadata": {},
     "output_type": "execute_result"
    },
    {
     "data": {
      "image/png": "[encoded data removed]",
      "text/plain": [
       "<Figure size 1440x1080 with 20 Axes>"
      ]
     },
     "metadata": {
      "needs_background": "light"
     },
     "output_type": "display_data"
    }
   ],
   "source": [
    "#checking outliers with boxplot.\n",
    "df.plot(kind='box',subplots=True,layout=(4,5),figsize=(20,15))"
   ]
  },
  {
   "cell_type": "code",
   "execution_count": 148,
   "id": "b8f9a690",
   "metadata": {},
   "outputs": [],
   "source": [
    "df.drop('Date', axis=1, inplace=True)"
   ]
  },
  {
   "cell_type": "code",
   "execution_count": 151,
   "id": "fbd1c6f3",
   "metadata": {},
   "outputs": [
    {
     "data": {
      "text/plain": [
       "AveragePrice    False\n",
       "Total Volume     True\n",
       "4046             True\n",
       "4225            False\n",
       "4770             True\n",
       "Total Bags      False\n",
       "Small Bags      False\n",
       "Large Bags       True\n",
       "XLarge Bags     False\n",
       "type             True\n",
       "year             True\n",
       "region           True\n",
       "Month            True\n",
       "Day              True\n",
       "dtype: bool"
      ]
     },
     "execution_count": 151,
     "metadata": {},
     "output_type": "execute_result"
    }
   ],
   "source": [
    "#Lets quantify.\n",
    "from scipy.stats import zscore\n",
    "(np.abs(zscore(df))<3).all()"
   ]
  },
  {
   "cell_type": "code",
   "execution_count": null,
   "id": "826e316d",
   "metadata": {},
   "outputs": [],
   "source": [
    "#display zscore for removing outliers.\n",
    "from scipy.stats import zscore\n",
    "z = np.abs(zscore(df))\n",
    "z"
   ]
  },
  {
   "cell_type": "code",
   "execution_count": 156,
   "id": "a170513d",
   "metadata": {},
   "outputs": [
    {
     "name": "stdout",
     "output_type": "stream",
     "text": [
      "(array([    0,     0,     0, ..., 18248, 18248, 18248], dtype=int64), array([ 0,  1,  2, ..., 11, 12, 13], dtype=int64))\n"
     ]
    }
   ],
   "source": [
    "#threshold for zscore values ----> above 3 are considerd outliers.\n",
    "threshold = 3 \n",
    "print(np.where(z<3))"
   ]
  },
  {
   "cell_type": "code",
   "execution_count": 157,
   "id": "5e3619e4",
   "metadata": {},
   "outputs": [
    {
     "name": "stdout",
     "output_type": "stream",
     "text": [
      "(18249, 14)\n",
      "(17834, 14)\n",
      "(17834, 14)\n"
     ]
    }
   ],
   "source": [
    "#assign the value to new_df which are less the threshold value and removing outliers.\n",
    "new_df = df[(z<3).all(axis=1)]\n",
    "print(df.shape)\n",
    "print(new_df.shape)\n",
    "\n",
    "df = new_df\n",
    "print(df.shape)"
   ]
  },
  {
   "cell_type": "markdown",
   "id": "26ccb9c9",
   "metadata": {},
   "source": [
    "# Prediction of Price :-"
   ]
  },
  {
   "cell_type": "markdown",
   "id": "a3b847b9",
   "metadata": {},
   "source": [
    "# Data Preprocessing"
   ]
  },
  {
   "cell_type": "code",
   "execution_count": 158,
   "id": "f537315a",
   "metadata": {},
   "outputs": [],
   "source": [
    "#Splitting the independent and target variable in x and y\n",
    "x = df.drop(\"AveragePrice\",axis=1)\n",
    "y = df['AveragePrice']"
   ]
  },
  {
   "cell_type": "code",
   "execution_count": 159,
   "id": "d66a893f",
   "metadata": {},
   "outputs": [
    {
     "data": {
      "text/html": [
       "<div>\n",
       "<style scoped>\n",
       "    .dataframe tbody tr th:only-of-type {\n",
       "        vertical-align: middle;\n",
       "    }\n",
       "\n",
       "    .dataframe tbody tr th {\n",
       "        vertical-align: top;\n",
       "    }\n",
       "\n",
       "    .dataframe thead th {\n",
       "        text-align: right;\n",
       "    }\n",
       "</style>\n",
       "<table border=\"1\" class=\"dataframe\">\n",
       "  <thead>\n",
       "    <tr style=\"text-align: right;\">\n",
       "      <th></th>\n",
       "      <th>Total Volume</th>\n",
       "      <th>4046</th>\n",
       "      <th>4225</th>\n",
       "      <th>4770</th>\n",
       "      <th>Total Bags</th>\n",
       "      <th>Small Bags</th>\n",
       "      <th>Large Bags</th>\n",
       "      <th>XLarge Bags</th>\n",
       "      <th>type</th>\n",
       "      <th>year</th>\n",
       "      <th>region</th>\n",
       "      <th>Month</th>\n",
       "      <th>Day</th>\n",
       "    </tr>\n",
       "  </thead>\n",
       "  <tbody>\n",
       "    <tr>\n",
       "      <th>0</th>\n",
       "      <td>11.070344</td>\n",
       "      <td>6.944801</td>\n",
       "      <td>10.905146</td>\n",
       "      <td>3.895080</td>\n",
       "      <td>9.070833</td>\n",
       "      <td>9.060055</td>\n",
       "      <td>4.545951</td>\n",
       "      <td>0.0</td>\n",
       "      <td>0</td>\n",
       "      <td>0</td>\n",
       "      <td>0</td>\n",
       "      <td>11</td>\n",
       "      <td>26</td>\n",
       "    </tr>\n",
       "    <tr>\n",
       "      <th>1</th>\n",
       "      <td>10.912867</td>\n",
       "      <td>6.515127</td>\n",
       "      <td>10.706381</td>\n",
       "      <td>4.083115</td>\n",
       "      <td>9.159737</td>\n",
       "      <td>9.149429</td>\n",
       "      <td>4.589955</td>\n",
       "      <td>0.0</td>\n",
       "      <td>0</td>\n",
       "      <td>0</td>\n",
       "      <td>0</td>\n",
       "      <td>11</td>\n",
       "      <td>19</td>\n",
       "    </tr>\n",
       "    <tr>\n",
       "      <th>2</th>\n",
       "      <td>11.680313</td>\n",
       "      <td>6.679222</td>\n",
       "      <td>11.600485</td>\n",
       "      <td>4.879007</td>\n",
       "      <td>9.005325</td>\n",
       "      <td>8.992584</td>\n",
       "      <td>4.645736</td>\n",
       "      <td>0.0</td>\n",
       "      <td>0</td>\n",
       "      <td>0</td>\n",
       "      <td>0</td>\n",
       "      <td>11</td>\n",
       "      <td>12</td>\n",
       "    </tr>\n",
       "    <tr>\n",
       "      <th>3</th>\n",
       "      <td>11.277116</td>\n",
       "      <td>7.032624</td>\n",
       "      <td>11.184108</td>\n",
       "      <td>4.298373</td>\n",
       "      <td>8.667708</td>\n",
       "      <td>8.644425</td>\n",
       "      <td>4.903495</td>\n",
       "      <td>0.0</td>\n",
       "      <td>0</td>\n",
       "      <td>0</td>\n",
       "      <td>0</td>\n",
       "      <td>11</td>\n",
       "      <td>5</td>\n",
       "    </tr>\n",
       "    <tr>\n",
       "      <th>4</th>\n",
       "      <td>10.840377</td>\n",
       "      <td>6.848515</td>\n",
       "      <td>10.688288</td>\n",
       "      <td>4.340944</td>\n",
       "      <td>8.729874</td>\n",
       "      <td>8.697389</td>\n",
       "      <td>5.291746</td>\n",
       "      <td>0.0</td>\n",
       "      <td>0</td>\n",
       "      <td>0</td>\n",
       "      <td>0</td>\n",
       "      <td>10</td>\n",
       "      <td>28</td>\n",
       "    </tr>\n",
       "  </tbody>\n",
       "</table>\n",
       "</div>"
      ],
      "text/plain": [
       "   Total Volume      4046       4225      4770  Total Bags  Small Bags  \\\n",
       "0     11.070344  6.944801  10.905146  3.895080    9.070833    9.060055   \n",
       "1     10.912867  6.515127  10.706381  4.083115    9.159737    9.149429   \n",
       "2     11.680313  6.679222  11.600485  4.879007    9.005325    8.992584   \n",
       "3     11.277116  7.032624  11.184108  4.298373    8.667708    8.644425   \n",
       "4     10.840377  6.848515  10.688288  4.340944    8.729874    8.697389   \n",
       "\n",
       "   Large Bags  XLarge Bags  type  year  region  Month  Day  \n",
       "0    4.545951          0.0     0     0       0     11   26  \n",
       "1    4.589955          0.0     0     0       0     11   19  \n",
       "2    4.645736          0.0     0     0       0     11   12  \n",
       "3    4.903495          0.0     0     0       0     11    5  \n",
       "4    5.291746          0.0     0     0       0     10   28  "
      ]
     },
     "execution_count": 159,
     "metadata": {},
     "output_type": "execute_result"
    }
   ],
   "source": [
    "x.head()"
   ]
  },
  {
   "cell_type": "code",
   "execution_count": 160,
   "id": "5c136851",
   "metadata": {},
   "outputs": [
    {
     "data": {
      "text/plain": [
       "0    1.33\n",
       "1    1.35\n",
       "2    0.93\n",
       "3    1.08\n",
       "4    1.28\n",
       "Name: AveragePrice, dtype: float64"
      ]
     },
     "execution_count": 160,
     "metadata": {},
     "output_type": "execute_result"
    }
   ],
   "source": [
    "y.head()"
   ]
  },
  {
   "cell_type": "code",
   "execution_count": 161,
   "id": "78c3d1ab",
   "metadata": {},
   "outputs": [
    {
     "name": "stdout",
     "output_type": "stream",
     "text": [
      "(17834, 13) (17834,)\n"
     ]
    }
   ],
   "source": [
    "print(x.shape, y.shape)"
   ]
  },
  {
   "cell_type": "markdown",
   "id": "4e0f79a2",
   "metadata": {},
   "source": [
    "# Scaling the data"
   ]
  },
  {
   "cell_type": "code",
   "execution_count": 162,
   "id": "1360ed70",
   "metadata": {},
   "outputs": [
    {
     "data": {
      "text/plain": [
       "array([[-0.13249789, -0.62742619,  0.35800125, ..., -1.69078431,\n",
       "         1.64836388,  1.29278384],\n",
       "       [-0.20162572, -0.75550098,  0.28688711, ..., -1.69078431,\n",
       "         1.64836388,  0.49488527],\n",
       "       [ 0.13526087, -0.70658843,  0.6067806 , ..., -1.69078431,\n",
       "         1.64836388, -0.30301329],\n",
       "       ...,\n",
       "       [-0.8086277 , -0.58588682, -0.75103402, ...,  1.71404749,\n",
       "        -1.45632855,  0.60887078],\n",
       "       [-0.73704662, -0.51197383, -0.681276  , ...,  1.71404749,\n",
       "        -1.45632855, -0.18902778],\n",
       "       [-0.70356744, -0.32153998, -0.76541289, ...,  1.71404749,\n",
       "        -1.45632855, -0.98692634]])"
      ]
     },
     "execution_count": 162,
     "metadata": {},
     "output_type": "execute_result"
    }
   ],
   "source": [
    "from sklearn.preprocessing import StandardScaler\n",
    "\n",
    "st = StandardScaler()\n",
    "x = st.fit_transform(x)\n",
    "x"
   ]
  },
  {
   "cell_type": "markdown",
   "id": "f7f35151",
   "metadata": {},
   "source": [
    "# Training process begins"
   ]
  },
  {
   "cell_type": "markdown",
   "id": "5f8d8236",
   "metadata": {},
   "source": [
    "Finding best random_state"
   ]
  },
  {
   "cell_type": "code",
   "execution_count": 184,
   "id": "7af1ab60",
   "metadata": {},
   "outputs": [],
   "source": [
    "from sklearn.linear_model import LinearRegression\n",
    "lr = LinearRegression()\n",
    "\n",
    "from sklearn.ensemble import AdaBoostRegressor\n",
    "abr = AdaBoostRegressor()\n",
    "\n",
    "from sklearn.ensemble import GradientBoostingRegressor\n",
    "abr = GradientBoostingRegressor()\n",
    "\n",
    "from sklearn.neighbors import KNeighborsRegressor\n",
    "knr = KNeighborsRegressor()\n",
    "\n",
    "from sklearn.tree import DecisionTreeRegressor\n",
    "dtr = DecisionTreeRegressor()\n",
    "\n",
    "from sklearn.metrics import r2_score\n",
    "from sklearn.model_selection import train_test_split"
   ]
  },
  {
   "cell_type": "code",
   "execution_count": 187,
   "id": "12522f35",
   "metadata": {},
   "outputs": [
    {
     "name": "stdout",
     "output_type": "stream",
     "text": [
      "R2 score correspond to random state  0 is 0.5704436034071334\n",
      "R2 score correspond to random state  0 is 0.7476693102878618\n",
      "R2 score correspond to random state  0 is 0.8079344157393695\n",
      "R2 score correspond to random state  0 is 0.5853860529190664\n",
      "R2 score correspond to random state  0 is 0.7521843833639762\n",
      "R2 score correspond to random state  1 is 0.5711094824790519\n",
      "R2 score correspond to random state  1 is 0.7537657010042156\n",
      "R2 score correspond to random state  1 is 0.804842366169213\n",
      "R2 score correspond to random state  1 is 0.5666460530921769\n",
      "R2 score correspond to random state  1 is 0.7514978738878758\n",
      "R2 score correspond to random state  2 is 0.5636999399000234\n",
      "R2 score correspond to random state  2 is 0.7551830338012838\n",
      "R2 score correspond to random state  2 is 0.7989314154011656\n",
      "R2 score correspond to random state  2 is 0.5531934738201796\n",
      "R2 score correspond to random state  2 is 0.745217292079071\n",
      "R2 score correspond to random state  3 is 0.5898406854765388\n",
      "R2 score correspond to random state  3 is 0.7584298693811765\n",
      "R2 score correspond to random state  3 is 0.8189630922509832\n",
      "R2 score correspond to random state  3 is 0.5803150251136502\n",
      "R2 score correspond to random state  3 is 0.7505486433109778\n",
      "R2 score correspond to random state  4 is 0.5763210390607805\n",
      "R2 score correspond to random state  4 is 0.7473599673217475\n",
      "R2 score correspond to random state  4 is 0.806645876747261\n",
      "R2 score correspond to random state  4 is 0.5680384406581872\n",
      "R2 score correspond to random state  4 is 0.7491106261743385\n",
      "R2 score correspond to random state  5 is 0.5772513243726498\n",
      "R2 score correspond to random state  5 is 0.7547423655360748\n",
      "R2 score correspond to random state  5 is 0.8121011620802556\n",
      "R2 score correspond to random state  5 is 0.5664556622041035\n",
      "R2 score correspond to random state  5 is 0.748348177651305\n",
      "R2 score correspond to random state  6 is 0.5699291852386991\n",
      "R2 score correspond to random state  6 is 0.7789824533637459\n",
      "R2 score correspond to random state  6 is 0.806419959936912\n",
      "R2 score correspond to random state  6 is 0.578891452206006\n",
      "R2 score correspond to random state  6 is 0.7553751081945594\n",
      "R2 score correspond to random state  7 is 0.5913469808106411\n",
      "R2 score correspond to random state  7 is 0.770617837953725\n",
      "R2 score correspond to random state  7 is 0.8118436688201691\n",
      "R2 score correspond to random state  7 is 0.5832848769113618\n",
      "R2 score correspond to random state  7 is 0.7582058353502239\n",
      "R2 score correspond to random state  8 is 0.5773539421110314\n",
      "R2 score correspond to random state  8 is 0.7667811097926622\n",
      "R2 score correspond to random state  8 is 0.813581410453579\n",
      "R2 score correspond to random state  8 is 0.5689398276685249\n",
      "R2 score correspond to random state  8 is 0.7597002653872695\n",
      "R2 score correspond to random state  9 is 0.569130860219399\n",
      "R2 score correspond to random state  9 is 0.7713483767298983\n",
      "R2 score correspond to random state  9 is 0.795945837258965\n",
      "R2 score correspond to random state  9 is 0.5535365006621717\n",
      "R2 score correspond to random state  9 is 0.7534121531134914\n",
      "R2 score correspond to random state  10 is 0.5806729025483732\n",
      "R2 score correspond to random state  10 is 0.7672505724995415\n",
      "R2 score correspond to random state  10 is 0.8045793401832678\n",
      "R2 score correspond to random state  10 is 0.5428084674830739\n",
      "R2 score correspond to random state  10 is 0.7529209636560923\n",
      "R2 score correspond to random state  11 is 0.5645507492450941\n",
      "R2 score correspond to random state  11 is 0.7535422438755337\n",
      "R2 score correspond to random state  11 is 0.8088306213660312\n",
      "R2 score correspond to random state  11 is 0.5714733475169789\n",
      "R2 score correspond to random state  11 is 0.7445687320492065\n",
      "R2 score correspond to random state  12 is 0.5660009936390282\n",
      "R2 score correspond to random state  12 is 0.7596776008434769\n",
      "R2 score correspond to random state  12 is 0.8005680273912421\n",
      "R2 score correspond to random state  12 is 0.5407921162214635\n",
      "R2 score correspond to random state  12 is 0.7418590295938607\n",
      "R2 score correspond to random state  13 is 0.576377575039605\n",
      "R2 score correspond to random state  13 is 0.7633210169189153\n",
      "R2 score correspond to random state  13 is 0.8115532558266875\n",
      "R2 score correspond to random state  13 is 0.5516250687836799\n",
      "R2 score correspond to random state  13 is 0.755714000443196\n",
      "R2 score correspond to random state  14 is 0.5843893111667087\n",
      "R2 score correspond to random state  14 is 0.7740603668645368\n",
      "R2 score correspond to random state  14 is 0.803693872159233\n",
      "R2 score correspond to random state  14 is 0.5643208750849268\n",
      "R2 score correspond to random state  14 is 0.7569678982770451\n",
      "R2 score correspond to random state  15 is 0.5732236835510494\n",
      "R2 score correspond to random state  15 is 0.7735051174800313\n",
      "R2 score correspond to random state  15 is 0.8048418409947478\n",
      "R2 score correspond to random state  15 is 0.5732146261749842\n",
      "R2 score correspond to random state  15 is 0.7550228653853758\n",
      "R2 score correspond to random state  16 is 0.5681699461857159\n",
      "R2 score correspond to random state  16 is 0.7535806377635548\n",
      "R2 score correspond to random state  16 is 0.7961906055903283\n",
      "R2 score correspond to random state  16 is 0.5663123932564003\n",
      "R2 score correspond to random state  16 is 0.7485510159688318\n",
      "R2 score correspond to random state  17 is 0.5696673868087914\n",
      "R2 score correspond to random state  17 is 0.7719587699189197\n",
      "R2 score correspond to random state  17 is 0.8127690548772337\n",
      "R2 score correspond to random state  17 is 0.5879395392251769\n",
      "R2 score correspond to random state  17 is 0.7504188671339258\n",
      "R2 score correspond to random state  18 is 0.5776075005456228\n",
      "R2 score correspond to random state  18 is 0.7492402927681963\n",
      "R2 score correspond to random state  18 is 0.7965506655919509\n",
      "R2 score correspond to random state  18 is 0.5619781397826995\n",
      "R2 score correspond to random state  18 is 0.7512463178281562\n",
      "R2 score correspond to random state  19 is 0.5787292298329318\n",
      "R2 score correspond to random state  19 is 0.76362800257372\n",
      "R2 score correspond to random state  19 is 0.8073464607278874\n",
      "R2 score correspond to random state  19 is 0.5619227313135398\n",
      "R2 score correspond to random state  19 is 0.7602346199799599\n",
      "R2 score correspond to random state  20 is 0.5896627261222227\n",
      "R2 score correspond to random state  20 is 0.7855202235623934\n",
      "R2 score correspond to random state  20 is 0.8059103458176304\n",
      "R2 score correspond to random state  20 is 0.5754747747851222\n",
      "R2 score correspond to random state  20 is 0.759199997791382\n",
      "R2 score correspond to random state  21 is 0.5722950234905688\n",
      "R2 score correspond to random state  21 is 0.7568939770718387\n",
      "R2 score correspond to random state  21 is 0.8109998988754707\n",
      "R2 score correspond to random state  21 is 0.5671377088332015\n",
      "R2 score correspond to random state  21 is 0.7477267744605398\n",
      "R2 score correspond to random state  22 is 0.5835284837400416\n",
      "R2 score correspond to random state  22 is 0.7406456323878785\n",
      "R2 score correspond to random state  22 is 0.7973356359865246\n",
      "R2 score correspond to random state  22 is 0.5873426643843106\n",
      "R2 score correspond to random state  22 is 0.7578568945784632\n",
      "R2 score correspond to random state  23 is 0.5885620842363277\n",
      "R2 score correspond to random state  23 is 0.7666823000599636\n",
      "R2 score correspond to random state  23 is 0.8081893823824979\n",
      "R2 score correspond to random state  23 is 0.5735023170389884\n",
      "R2 score correspond to random state  23 is 0.7556554435467511\n",
      "R2 score correspond to random state  24 is 0.5817757016747054\n",
      "R2 score correspond to random state  24 is 0.7555581192556049\n",
      "R2 score correspond to random state  24 is 0.80397504814824\n",
      "R2 score correspond to random state  24 is 0.5956104045214415\n",
      "R2 score correspond to random state  24 is 0.7556253624085517\n",
      "R2 score correspond to random state  25 is 0.582136555972405\n",
      "R2 score correspond to random state  25 is 0.7782030887565583\n",
      "R2 score correspond to random state  25 is 0.8058582583050011\n",
      "R2 score correspond to random state  25 is 0.5843217313266762\n",
      "R2 score correspond to random state  25 is 0.7570035337218851\n",
      "R2 score correspond to random state  26 is 0.5778636869699982\n",
      "R2 score correspond to random state  26 is 0.7570366837364337\n",
      "R2 score correspond to random state  26 is 0.7966583868919282\n",
      "R2 score correspond to random state  26 is 0.582341134461142\n"
     ]
    },
    {
     "name": "stdout",
     "output_type": "stream",
     "text": [
      "R2 score correspond to random state  26 is 0.7477639623307439\n",
      "R2 score correspond to random state  27 is 0.5853241825099826\n",
      "R2 score correspond to random state  27 is 0.7702095651210173\n",
      "R2 score correspond to random state  27 is 0.809433256558082\n",
      "R2 score correspond to random state  27 is 0.5473856495561065\n",
      "R2 score correspond to random state  27 is 0.7564286874768273\n",
      "R2 score correspond to random state  28 is 0.5803256707640638\n",
      "R2 score correspond to random state  28 is 0.7615996013289805\n",
      "R2 score correspond to random state  28 is 0.8092151489116162\n",
      "R2 score correspond to random state  28 is 0.5703712435657313\n",
      "R2 score correspond to random state  28 is 0.7495642455260356\n",
      "R2 score correspond to random state  29 is 0.5590141683273364\n",
      "R2 score correspond to random state  29 is 0.753826508228125\n",
      "R2 score correspond to random state  29 is 0.8013728003143483\n",
      "R2 score correspond to random state  29 is 0.5376374467689706\n",
      "R2 score correspond to random state  29 is 0.7457263808753589\n",
      "R2 score correspond to random state  30 is 0.5722681543929347\n",
      "R2 score correspond to random state  30 is 0.7546469272077146\n",
      "R2 score correspond to random state  30 is 0.8072240548993578\n",
      "R2 score correspond to random state  30 is 0.5767852694824775\n",
      "R2 score correspond to random state  30 is 0.7473877685494316\n",
      "R2 score correspond to random state  31 is 0.5766995449518709\n",
      "R2 score correspond to random state  31 is 0.7720281641295946\n",
      "R2 score correspond to random state  31 is 0.809503705020981\n",
      "R2 score correspond to random state  31 is 0.5724460528119233\n",
      "R2 score correspond to random state  31 is 0.7486861953966994\n",
      "R2 score correspond to random state  32 is 0.5753912329637153\n",
      "R2 score correspond to random state  32 is 0.7580723688256423\n",
      "R2 score correspond to random state  32 is 0.8078456701794654\n",
      "R2 score correspond to random state  32 is 0.5715998605390509\n",
      "R2 score correspond to random state  32 is 0.7550742280480881\n",
      "R2 score correspond to random state  33 is 0.5709011080601537\n",
      "R2 score correspond to random state  33 is 0.7668231147747246\n",
      "R2 score correspond to random state  33 is 0.8064792505263969\n",
      "R2 score correspond to random state  33 is 0.5729702064455594\n",
      "R2 score correspond to random state  33 is 0.7535604264678519\n",
      "R2 score correspond to random state  34 is 0.5752411034829257\n",
      "R2 score correspond to random state  34 is 0.7703370382678377\n",
      "R2 score correspond to random state  34 is 0.8095882218691538\n",
      "R2 score correspond to random state  34 is 0.5648230819422757\n",
      "R2 score correspond to random state  34 is 0.7546757956441231\n",
      "R2 score correspond to random state  35 is 0.5656544376550121\n",
      "R2 score correspond to random state  35 is 0.7383981766995306\n",
      "R2 score correspond to random state  35 is 0.7965452140637419\n",
      "R2 score correspond to random state  35 is 0.5566399828825109\n",
      "R2 score correspond to random state  35 is 0.7365401525845496\n",
      "R2 score correspond to random state  36 is 0.5737245944413927\n",
      "R2 score correspond to random state  36 is 0.7586644081396265\n",
      "R2 score correspond to random state  36 is 0.8009036468498414\n",
      "R2 score correspond to random state  36 is 0.5654556528206374\n",
      "R2 score correspond to random state  36 is 0.7507913643401763\n",
      "R2 score correspond to random state  37 is 0.581861314496225\n",
      "R2 score correspond to random state  37 is 0.7750618343773383\n",
      "R2 score correspond to random state  37 is 0.8094281836525374\n",
      "R2 score correspond to random state  37 is 0.5728364993683477\n",
      "R2 score correspond to random state  37 is 0.7573133908198584\n",
      "R2 score correspond to random state  38 is 0.5629424955405085\n",
      "R2 score correspond to random state  38 is 0.7825499512338122\n",
      "R2 score correspond to random state  38 is 0.8119869150632126\n",
      "R2 score correspond to random state  38 is 0.5591420327315275\n",
      "R2 score correspond to random state  38 is 0.7548536400012871\n",
      "R2 score correspond to random state  39 is 0.5743976431473139\n",
      "R2 score correspond to random state  39 is 0.7437167636392401\n",
      "R2 score correspond to random state  39 is 0.8025412200153224\n",
      "R2 score correspond to random state  39 is 0.580729941646695\n",
      "R2 score correspond to random state  39 is 0.7491847690002056\n",
      "R2 score correspond to random state  40 is 0.5682097458887589\n",
      "R2 score correspond to random state  40 is 0.756657580914727\n",
      "R2 score correspond to random state  40 is 0.8087391446125358\n",
      "R2 score correspond to random state  40 is 0.5629730367269563\n",
      "R2 score correspond to random state  40 is 0.7494615472478703\n",
      "R2 score correspond to random state  41 is 0.5821731857340342\n",
      "R2 score correspond to random state  41 is 0.7640224786333021\n",
      "R2 score correspond to random state  41 is 0.8023096665112228\n",
      "R2 score correspond to random state  41 is 0.563553234540328\n",
      "R2 score correspond to random state  41 is 0.7547351909477282\n",
      "R2 score correspond to random state  42 is 0.573860278207028\n",
      "R2 score correspond to random state  42 is 0.745938125519235\n",
      "R2 score correspond to random state  42 is 0.7987211730774368\n",
      "R2 score correspond to random state  42 is 0.561097641729676\n",
      "R2 score correspond to random state  42 is 0.7446273565941447\n",
      "R2 score correspond to random state  43 is 0.5678338093708797\n",
      "R2 score correspond to random state  43 is 0.7575537019381213\n",
      "R2 score correspond to random state  43 is 0.8049752297738337\n",
      "R2 score correspond to random state  43 is 0.5474179159745042\n",
      "R2 score correspond to random state  43 is 0.7437003583256484\n",
      "R2 score correspond to random state  44 is 0.5710962979362671\n",
      "R2 score correspond to random state  44 is 0.7455045160060859\n",
      "R2 score correspond to random state  44 is 0.804560736307992\n",
      "R2 score correspond to random state  44 is 0.5582212026036092\n",
      "R2 score correspond to random state  44 is 0.7471260907061372\n",
      "R2 score correspond to random state  45 is 0.5612270682367002\n",
      "R2 score correspond to random state  45 is 0.7514083367919479\n",
      "R2 score correspond to random state  45 is 0.7950312359258149\n",
      "R2 score correspond to random state  45 is 0.5580517467647605\n",
      "R2 score correspond to random state  45 is 0.749330611364162\n",
      "R2 score correspond to random state  46 is 0.5703162405541662\n",
      "R2 score correspond to random state  46 is 0.7674511003512813\n",
      "R2 score correspond to random state  46 is 0.8155005363762009\n",
      "R2 score correspond to random state  46 is 0.551571161027971\n",
      "R2 score correspond to random state  46 is 0.7492304693321727\n",
      "R2 score correspond to random state  47 is 0.5733245585306692\n",
      "R2 score correspond to random state  47 is 0.7690866532842053\n",
      "R2 score correspond to random state  47 is 0.8006637067419388\n",
      "R2 score correspond to random state  47 is 0.5638931629009252\n",
      "R2 score correspond to random state  47 is 0.7547240784631178\n",
      "R2 score correspond to random state  48 is 0.5682118688227156\n",
      "R2 score correspond to random state  48 is 0.7633698286142951\n",
      "R2 score correspond to random state  48 is 0.8086528210792576\n",
      "R2 score correspond to random state  48 is 0.5646303516049982\n",
      "R2 score correspond to random state  48 is 0.7551167404082137\n",
      "R2 score correspond to random state  49 is 0.5641845548987203\n",
      "R2 score correspond to random state  49 is 0.7340275337298299\n",
      "R2 score correspond to random state  49 is 0.8000752551431592\n",
      "R2 score correspond to random state  49 is 0.5633327730570235\n",
      "R2 score correspond to random state  49 is 0.7431659914997271\n",
      "R2 score correspond to random state  50 is 0.5712327031164229\n",
      "R2 score correspond to random state  50 is 0.7779450870859101\n",
      "R2 score correspond to random state  50 is 0.7994363512942376\n",
      "R2 score correspond to random state  50 is 0.5565205953024934\n",
      "R2 score correspond to random state  50 is 0.7528655025163684\n",
      "R2 score correspond to random state  51 is 0.5745059402803716\n",
      "R2 score correspond to random state  51 is 0.7611720720370712\n",
      "R2 score correspond to random state  51 is 0.8115786633135491\n",
      "R2 score correspond to random state  51 is 0.5735242660050026\n",
      "R2 score correspond to random state  51 is 0.7527838793749461\n",
      "R2 score correspond to random state  52 is 0.5741511669345193\n",
      "R2 score correspond to random state  52 is 0.7580547649012445\n",
      "R2 score correspond to random state  52 is 0.81001525525467\n",
      "R2 score correspond to random state  52 is 0.556691924197297\n",
      "R2 score correspond to random state  52 is 0.7530798540425435\n",
      "R2 score correspond to random state  53 is 0.572602927458297\n",
      "R2 score correspond to random state  53 is 0.7477858508418322\n"
     ]
    },
    {
     "name": "stdout",
     "output_type": "stream",
     "text": [
      "R2 score correspond to random state  53 is 0.7986526606156413\n",
      "R2 score correspond to random state  53 is 0.5583829725206015\n",
      "R2 score correspond to random state  53 is 0.7432531702695324\n",
      "R2 score correspond to random state  54 is 0.5717908930485336\n",
      "R2 score correspond to random state  54 is 0.7801041035398552\n",
      "R2 score correspond to random state  54 is 0.8058390061698097\n",
      "R2 score correspond to random state  54 is 0.5740507166147899\n",
      "R2 score correspond to random state  54 is 0.7519571661006108\n",
      "R2 score correspond to random state  55 is 0.5713698314596001\n",
      "R2 score correspond to random state  55 is 0.7443668778631332\n",
      "R2 score correspond to random state  55 is 0.8015245961721188\n",
      "R2 score correspond to random state  55 is 0.5756210230771553\n",
      "R2 score correspond to random state  55 is 0.7511854031951033\n",
      "R2 score correspond to random state  56 is 0.5626121021818726\n",
      "R2 score correspond to random state  56 is 0.7595654715756307\n",
      "R2 score correspond to random state  56 is 0.7997607136606745\n",
      "R2 score correspond to random state  56 is 0.5480734296205085\n",
      "R2 score correspond to random state  56 is 0.7417431168160435\n",
      "R2 score correspond to random state  57 is 0.5821177129512953\n",
      "R2 score correspond to random state  57 is 0.7596770783361856\n",
      "R2 score correspond to random state  57 is 0.7980071733912792\n",
      "R2 score correspond to random state  57 is 0.5836662243642834\n",
      "R2 score correspond to random state  57 is 0.7569540415728526\n",
      "R2 score correspond to random state  58 is 0.5740874384642802\n",
      "R2 score correspond to random state  58 is 0.7601786898084819\n",
      "R2 score correspond to random state  58 is 0.8056851110558806\n",
      "R2 score correspond to random state  58 is 0.5712269041395537\n",
      "R2 score correspond to random state  58 is 0.7514763257182361\n",
      "R2 score correspond to random state  59 is 0.5662994813517697\n",
      "R2 score correspond to random state  59 is 0.7627086505563061\n",
      "R2 score correspond to random state  59 is 0.7991877649707502\n",
      "R2 score correspond to random state  59 is 0.5663201210013031\n",
      "R2 score correspond to random state  59 is 0.7477153343167653\n",
      "R2 score correspond to random state  60 is 0.5866229014734727\n",
      "R2 score correspond to random state  60 is 0.7561231449512567\n",
      "R2 score correspond to random state  60 is 0.8092388536203488\n",
      "R2 score correspond to random state  60 is 0.5885137737669557\n",
      "R2 score correspond to random state  60 is 0.7557387397649575\n",
      "R2 score correspond to random state  61 is 0.5802407487163479\n",
      "R2 score correspond to random state  61 is 0.7663001038081945\n",
      "R2 score correspond to random state  61 is 0.8085860681551831\n",
      "R2 score correspond to random state  61 is 0.5831906036921252\n",
      "R2 score correspond to random state  61 is 0.7551710131431013\n",
      "R2 score correspond to random state  62 is 0.5888990450050257\n",
      "R2 score correspond to random state  62 is 0.7563499679770568\n",
      "R2 score correspond to random state  62 is 0.8041649632561896\n",
      "R2 score correspond to random state  62 is 0.5737286354662864\n",
      "R2 score correspond to random state  62 is 0.7517774871522193\n",
      "R2 score correspond to random state  63 is 0.5537474611235049\n",
      "R2 score correspond to random state  63 is 0.7543730222769547\n",
      "R2 score correspond to random state  63 is 0.7945901634669733\n",
      "R2 score correspond to random state  63 is 0.5446002299141943\n",
      "R2 score correspond to random state  63 is 0.7405651231782141\n",
      "R2 score correspond to random state  64 is 0.5747948146933106\n",
      "R2 score correspond to random state  64 is 0.7632259870891794\n",
      "R2 score correspond to random state  64 is 0.8071614033095598\n",
      "R2 score correspond to random state  64 is 0.5600842689608637\n",
      "R2 score correspond to random state  64 is 0.7494341494322412\n",
      "R2 score correspond to random state  65 is 0.575000647825832\n",
      "R2 score correspond to random state  65 is 0.7622188866613608\n",
      "R2 score correspond to random state  65 is 0.7957670116192277\n",
      "R2 score correspond to random state  65 is 0.5911701972249819\n",
      "R2 score correspond to random state  65 is 0.7477137193638597\n",
      "R2 score correspond to random state  66 is 0.5784855200286525\n",
      "R2 score correspond to random state  66 is 0.7803944448690086\n",
      "R2 score correspond to random state  66 is 0.8121439340639767\n",
      "R2 score correspond to random state  66 is 0.5769058256081789\n",
      "R2 score correspond to random state  66 is 0.748918820991815\n",
      "R2 score correspond to random state  67 is 0.5483784377375849\n",
      "R2 score correspond to random state  67 is 0.728247750131169\n",
      "R2 score correspond to random state  67 is 0.7901575963633665\n",
      "R2 score correspond to random state  67 is 0.5580810450730465\n",
      "R2 score correspond to random state  67 is 0.734639321808932\n",
      "R2 score correspond to random state  68 is 0.5804535139007514\n",
      "R2 score correspond to random state  68 is 0.7565362200315654\n",
      "R2 score correspond to random state  68 is 0.8024388626025776\n",
      "R2 score correspond to random state  68 is 0.5856107062009905\n",
      "R2 score correspond to random state  68 is 0.7570077683982003\n",
      "R2 score correspond to random state  69 is 0.5762872878536727\n",
      "R2 score correspond to random state  69 is 0.7755587630211781\n",
      "R2 score correspond to random state  69 is 0.8085094270958731\n",
      "R2 score correspond to random state  69 is 0.5687112785221651\n",
      "R2 score correspond to random state  69 is 0.755548079782881\n",
      "R2 score correspond to random state  70 is 0.5691958856320516\n",
      "R2 score correspond to random state  70 is 0.76771437163273\n",
      "R2 score correspond to random state  70 is 0.8096329918224177\n",
      "R2 score correspond to random state  70 is 0.5760978333631386\n",
      "R2 score correspond to random state  70 is 0.7439340153836436\n",
      "R2 score correspond to random state  71 is 0.5828284833013808\n",
      "R2 score correspond to random state  71 is 0.7812194090202764\n",
      "R2 score correspond to random state  71 is 0.812853538157893\n",
      "R2 score correspond to random state  71 is 0.5725961873723394\n",
      "R2 score correspond to random state  71 is 0.7518039107999558\n",
      "R2 score correspond to random state  72 is 0.5634273356971944\n",
      "R2 score correspond to random state  72 is 0.7706525336438163\n",
      "R2 score correspond to random state  72 is 0.8011981252867169\n",
      "R2 score correspond to random state  72 is 0.5690054817837488\n",
      "R2 score correspond to random state  72 is 0.7411580803008551\n",
      "R2 score correspond to random state  73 is 0.5590895399300532\n",
      "R2 score correspond to random state  73 is 0.763601954777156\n",
      "R2 score correspond to random state  73 is 0.8037838085845064\n",
      "R2 score correspond to random state  73 is 0.5557348033027856\n",
      "R2 score correspond to random state  73 is 0.7475509550948898\n",
      "R2 score correspond to random state  74 is 0.567958064396751\n",
      "R2 score correspond to random state  74 is 0.776721268986823\n",
      "R2 score correspond to random state  74 is 0.8138167731527167\n",
      "R2 score correspond to random state  74 is 0.5850666464286371\n",
      "R2 score correspond to random state  74 is 0.7521164599111493\n",
      "R2 score correspond to random state  75 is 0.5587535449267198\n",
      "R2 score correspond to random state  75 is 0.7461265512946159\n",
      "R2 score correspond to random state  75 is 0.7999750852150959\n",
      "R2 score correspond to random state  75 is 0.5603456625600102\n",
      "R2 score correspond to random state  75 is 0.7507939866387962\n",
      "R2 score correspond to random state  76 is 0.5667686805471472\n",
      "R2 score correspond to random state  76 is 0.7762998667067205\n",
      "R2 score correspond to random state  76 is 0.80999829218813\n",
      "R2 score correspond to random state  76 is 0.5570735212096567\n",
      "R2 score correspond to random state  76 is 0.7496049002948499\n",
      "R2 score correspond to random state  77 is 0.5683368834713147\n",
      "R2 score correspond to random state  77 is 0.7394215212958133\n",
      "R2 score correspond to random state  77 is 0.8041471117863364\n",
      "R2 score correspond to random state  77 is 0.5568868339763711\n",
      "R2 score correspond to random state  77 is 0.7536313567616528\n",
      "R2 score correspond to random state  78 is 0.5737303467986503\n",
      "R2 score correspond to random state  78 is 0.7681992855988612\n",
      "R2 score correspond to random state  78 is 0.8097339858535139\n",
      "R2 score correspond to random state  78 is 0.5627536663994659\n",
      "R2 score correspond to random state  78 is 0.7497888241548836\n",
      "R2 score correspond to random state  79 is 0.5870405822483686\n",
      "R2 score correspond to random state  79 is 0.7635332585130812\n",
      "R2 score correspond to random state  79 is 0.8095278747367167\n",
      "R2 score correspond to random state  79 is 0.5786281008485261\n",
      "R2 score correspond to random state  79 is 0.7649278471349753\n",
      "R2 score correspond to random state  80 is 0.5676648087394727\n"
     ]
    },
    {
     "name": "stdout",
     "output_type": "stream",
     "text": [
      "R2 score correspond to random state  80 is 0.7620871526275985\n",
      "R2 score correspond to random state  80 is 0.8014201079263437\n",
      "R2 score correspond to random state  80 is 0.5629381871991238\n",
      "R2 score correspond to random state  80 is 0.7444010327623598\n",
      "R2 score correspond to random state  81 is 0.5940237831849644\n",
      "R2 score correspond to random state  81 is 0.7650059946997341\n",
      "R2 score correspond to random state  81 is 0.8075148718123871\n",
      "R2 score correspond to random state  81 is 0.5686911755956167\n",
      "R2 score correspond to random state  81 is 0.7674952922309983\n",
      "R2 score correspond to random state  82 is 0.5557405011569941\n",
      "R2 score correspond to random state  82 is 0.7399032745677201\n",
      "R2 score correspond to random state  82 is 0.8049499959522624\n",
      "R2 score correspond to random state  82 is 0.5491977647909374\n",
      "R2 score correspond to random state  82 is 0.740699623434914\n",
      "R2 score correspond to random state  83 is 0.5641616139754023\n",
      "R2 score correspond to random state  83 is 0.7513724149446739\n",
      "R2 score correspond to random state  83 is 0.8054086915736022\n",
      "R2 score correspond to random state  83 is 0.5735814846552849\n",
      "R2 score correspond to random state  83 is 0.7435054959006042\n",
      "R2 score correspond to random state  84 is 0.5830250634307401\n",
      "R2 score correspond to random state  84 is 0.77169522031152\n",
      "R2 score correspond to random state  84 is 0.8056504760388588\n",
      "R2 score correspond to random state  84 is 0.5741391216666822\n",
      "R2 score correspond to random state  84 is 0.7587618646273189\n",
      "R2 score correspond to random state  85 is 0.5642603191837176\n",
      "R2 score correspond to random state  85 is 0.7666808054103614\n",
      "R2 score correspond to random state  85 is 0.8042860549047163\n",
      "R2 score correspond to random state  85 is 0.5575435369133482\n",
      "R2 score correspond to random state  85 is 0.7463795889809439\n",
      "R2 score correspond to random state  86 is 0.5833549736135688\n",
      "R2 score correspond to random state  86 is 0.7488063615677878\n",
      "R2 score correspond to random state  86 is 0.8106223698532142\n",
      "R2 score correspond to random state  86 is 0.579854964028905\n",
      "R2 score correspond to random state  86 is 0.7582541243930535\n",
      "R2 score correspond to random state  87 is 0.5625675587537791\n",
      "R2 score correspond to random state  87 is 0.7515555582218121\n",
      "R2 score correspond to random state  87 is 0.8024954331976347\n",
      "R2 score correspond to random state  87 is 0.5477642171798869\n",
      "R2 score correspond to random state  87 is 0.7488948993402109\n",
      "R2 score correspond to random state  88 is 0.5542880504436333\n",
      "R2 score correspond to random state  88 is 0.7559066768639472\n",
      "R2 score correspond to random state  88 is 0.7948732874748277\n",
      "R2 score correspond to random state  88 is 0.5235384970161829\n",
      "R2 score correspond to random state  88 is 0.7429453770927037\n",
      "R2 score correspond to random state  89 is 0.5657406390824348\n",
      "R2 score correspond to random state  89 is 0.7709623376693779\n",
      "R2 score correspond to random state  89 is 0.799043973162532\n",
      "R2 score correspond to random state  89 is 0.5728516138002989\n",
      "R2 score correspond to random state  89 is 0.744277996723243\n",
      "R2 score correspond to random state  90 is 0.5702763058195397\n",
      "R2 score correspond to random state  90 is 0.7703398766052596\n",
      "R2 score correspond to random state  90 is 0.8007934462651877\n",
      "R2 score correspond to random state  90 is 0.5710774206793068\n",
      "R2 score correspond to random state  90 is 0.7446471831528843\n",
      "R2 score correspond to random state  91 is 0.5688968880409356\n",
      "R2 score correspond to random state  91 is 0.7617571935993498\n",
      "R2 score correspond to random state  91 is 0.8086142582161367\n",
      "R2 score correspond to random state  91 is 0.5566778970310083\n",
      "R2 score correspond to random state  91 is 0.7535592282653304\n",
      "R2 score correspond to random state  92 is 0.5822879777629366\n",
      "R2 score correspond to random state  92 is 0.7580092816673387\n",
      "R2 score correspond to random state  92 is 0.8132048924099253\n",
      "R2 score correspond to random state  92 is 0.5781204617936652\n",
      "R2 score correspond to random state  92 is 0.7508397082668565\n",
      "R2 score correspond to random state  93 is 0.5667014352835885\n",
      "R2 score correspond to random state  93 is 0.7741722590010929\n",
      "R2 score correspond to random state  93 is 0.7978754861596341\n",
      "R2 score correspond to random state  93 is 0.5774709208325317\n",
      "R2 score correspond to random state  93 is 0.751451151453349\n",
      "R2 score correspond to random state  94 is 0.5710746997496823\n",
      "R2 score correspond to random state  94 is 0.7636451702030119\n",
      "R2 score correspond to random state  94 is 0.8077151649543499\n",
      "R2 score correspond to random state  94 is 0.5689928992745626\n",
      "R2 score correspond to random state  94 is 0.752012027958489\n",
      "R2 score correspond to random state  95 is 0.5732677680345329\n",
      "R2 score correspond to random state  95 is 0.771941519126628\n",
      "R2 score correspond to random state  95 is 0.8008161868223077\n",
      "R2 score correspond to random state  95 is 0.5589681342848687\n",
      "R2 score correspond to random state  95 is 0.7506576483297558\n",
      "R2 score correspond to random state  96 is 0.5762064768195845\n",
      "R2 score correspond to random state  96 is 0.7587820959119238\n",
      "R2 score correspond to random state  96 is 0.8183908892036044\n",
      "R2 score correspond to random state  96 is 0.565341003851386\n",
      "R2 score correspond to random state  96 is 0.7559712957948649\n",
      "R2 score correspond to random state  97 is 0.5769620174969823\n",
      "R2 score correspond to random state  97 is 0.7576469929772642\n",
      "R2 score correspond to random state  97 is 0.8105621015475273\n",
      "R2 score correspond to random state  97 is 0.5706426375648301\n",
      "R2 score correspond to random state  97 is 0.76231131819456\n",
      "R2 score correspond to random state  98 is 0.563343849074053\n",
      "R2 score correspond to random state  98 is 0.7697878460160963\n",
      "R2 score correspond to random state  98 is 0.8131689587709028\n",
      "R2 score correspond to random state  98 is 0.5602197384310879\n",
      "R2 score correspond to random state  98 is 0.7447937315264974\n",
      "R2 score correspond to random state  99 is 0.5834506655624578\n",
      "R2 score correspond to random state  99 is 0.7510724550620506\n",
      "R2 score correspond to random state  99 is 0.8015390188024372\n",
      "R2 score correspond to random state  99 is 0.567854031264855\n",
      "R2 score correspond to random state  99 is 0.7549562024486091\n",
      "max R2 score correspond to random state  3 is 0.8189630922509832 and model is KNeighborsRegressor()\n"
     ]
    }
   ],
   "source": [
    "model = [LinearRegression(),DecisionTreeRegressor(),KNeighborsRegressor(),AdaBoostRegressor(),GradientBoostingRegressor()]\n",
    "max_r2_score = 0\n",
    "for r_state in range(0,100):\n",
    "    x_train, x_test, y_train, y_test = train_test_split(x,y,test_size=.20,random_state = r_state)\n",
    "    for i in model:\n",
    "        i.fit(x_train,y_train)\n",
    "        pred_test = i.predict(x_test)\n",
    "        r2_sc = r2_score(y_test,pred_test)\n",
    "        print(\"R2 score correspond to random state \",r_state,\"is\",r2_sc)\n",
    "        if r2_sc > max_r2_score:\n",
    "            max_r2_score = r2_sc\n",
    "            final_state = r_state\n",
    "            final_model = i\n",
    "            \n",
    "print(\"max R2 score correspond to random state \",final_state,\"is\",max_r2_score,\"and model is\",final_model)"
   ]
  },
  {
   "cell_type": "markdown",
   "id": "75cae6dc",
   "metadata": {},
   "source": [
    "# Creating train-test split"
   ]
  },
  {
   "cell_type": "code",
   "execution_count": 202,
   "id": "ed7eb071",
   "metadata": {},
   "outputs": [
    {
     "data": {
      "text/plain": [
       "{'n_neighbors': 4}"
      ]
     },
     "execution_count": 202,
     "metadata": {},
     "output_type": "execute_result"
    }
   ],
   "source": [
    "x_train, x_test, y_train, y_test = train_test_split(x,y,test_size=.20,random_state = 3)\n",
    "kn = KNeighborsRegressor()\n",
    "parameters = {'n_neighbors' : range(1,30)}\n",
    "gridsearch = GridSearchCV(kn,parameters)\n",
    "gridsearch.fit(x_train,y_train)\n",
    "gridsearch.best_params_"
   ]
  },
  {
   "cell_type": "code",
   "execution_count": 205,
   "id": "de7f21a7",
   "metadata": {},
   "outputs": [
    {
     "name": "stdout",
     "output_type": "stream",
     "text": [
      "0.8189630922509832\n"
     ]
    }
   ],
   "source": [
    "knn = KNeighborsRegressor(n_neighbors=4)\n",
    "knn.fit(x_train,y_train)\n",
    "pred = knn.predict(x_test)\n",
    "print(r2_score(y_test,pred_test))"
   ]
  },
  {
   "cell_type": "code",
   "execution_count": 206,
   "id": "4352a3fc",
   "metadata": {},
   "outputs": [
    {
     "name": "stdout",
     "output_type": "stream",
     "text": [
      "predicted result price: [1.592 1.484 1.23  ... 1.736 1.13  1.228]\n",
      "actual price 12621    1.74\n",
      "18153    1.45\n",
      "9048     1.16\n",
      "17793    1.36\n",
      "15182    2.05\n",
      "         ... \n",
      "16087    1.88\n",
      "8534     1.22\n",
      "11555    1.82\n",
      "8789     1.20\n",
      "5109     1.25\n",
      "Name: AveragePrice, Length: 3567, dtype: float64\n"
     ]
    }
   ],
   "source": [
    "#predict the value\n",
    "print(\"predicted result price:\",pred_test)\n",
    "print(\"actual price\",y_test)"
   ]
  },
  {
   "cell_type": "code",
   "execution_count": 207,
   "id": "6ba7376f",
   "metadata": {},
   "outputs": [
    {
     "name": "stdout",
     "output_type": "stream",
     "text": [
      "error:\n",
      "mean absolute error 0.12040257919820578\n",
      "mean squared error 0.027024477712363333\n",
      "Root mean squared error 0.16439123368465647\n"
     ]
    }
   ],
   "source": [
    "#display MAE, MSE and RMSE \n",
    "from sklearn.metrics import mean_squared_error, mean_absolute_error\n",
    "print('error:')\n",
    "\n",
    "print('mean absolute error',mean_absolute_error(y_test,pred_test))\n",
    "print('mean squared error',mean_squared_error(y_test,pred_test))\n",
    "\n",
    "print('Root mean squared error',np.sqrt(mean_squared_error(y_test,pred_test)))"
   ]
  },
  {
   "cell_type": "code",
   "execution_count": 213,
   "id": "202c0843",
   "metadata": {},
   "outputs": [
    {
     "data": {
      "image/png": "[encoded data removed]",
      "text/plain": [
       "<Figure size 576x432 with 1 Axes>"
      ]
     },
     "metadata": {
      "needs_background": "light"
     },
     "output_type": "display_data"
    }
   ],
   "source": [
    "plt.figure(figsize=(8,6))\n",
    "plt.scatter(x=y_test, y=pred_test, color = 'r')\n",
    "plt.plot(y_test,y_test,color='b')\n",
    "plt.xlabel(\"predicted price\",fontsize=14)\n",
    "plt.ylabel(\"actual price\",fontsize=14)\n",
    "plt.show()"
   ]
  },
  {
   "cell_type": "markdown",
   "id": "d7efbd31",
   "metadata": {},
   "source": [
    "# Conclusion"
   ]
  },
  {
   "cell_type": "code",
   "execution_count": 215,
   "id": "f4ba6ab9",
   "metadata": {},
   "outputs": [
    {
     "data": {
      "text/html": [
       "<div>\n",
       "<style scoped>\n",
       "    .dataframe tbody tr th:only-of-type {\n",
       "        vertical-align: middle;\n",
       "    }\n",
       "\n",
       "    .dataframe tbody tr th {\n",
       "        vertical-align: top;\n",
       "    }\n",
       "\n",
       "    .dataframe thead th {\n",
       "        text-align: right;\n",
       "    }\n",
       "</style>\n",
       "<table border=\"1\" class=\"dataframe\">\n",
       "  <thead>\n",
       "    <tr style=\"text-align: right;\">\n",
       "      <th></th>\n",
       "      <th>original</th>\n",
       "      <th>predicted</th>\n",
       "    </tr>\n",
       "  </thead>\n",
       "  <tbody>\n",
       "    <tr>\n",
       "      <th>0</th>\n",
       "      <td>1.74</td>\n",
       "      <td>1.4850</td>\n",
       "    </tr>\n",
       "    <tr>\n",
       "      <th>1</th>\n",
       "      <td>1.45</td>\n",
       "      <td>1.4800</td>\n",
       "    </tr>\n",
       "    <tr>\n",
       "      <th>2</th>\n",
       "      <td>1.16</td>\n",
       "      <td>1.2175</td>\n",
       "    </tr>\n",
       "    <tr>\n",
       "      <th>3</th>\n",
       "      <td>1.36</td>\n",
       "      <td>1.4600</td>\n",
       "    </tr>\n",
       "    <tr>\n",
       "      <th>4</th>\n",
       "      <td>2.05</td>\n",
       "      <td>1.7450</td>\n",
       "    </tr>\n",
       "    <tr>\n",
       "      <th>...</th>\n",
       "      <td>...</td>\n",
       "      <td>...</td>\n",
       "    </tr>\n",
       "    <tr>\n",
       "      <th>3562</th>\n",
       "      <td>1.88</td>\n",
       "      <td>2.0875</td>\n",
       "    </tr>\n",
       "    <tr>\n",
       "      <th>3563</th>\n",
       "      <td>1.22</td>\n",
       "      <td>1.2700</td>\n",
       "    </tr>\n",
       "    <tr>\n",
       "      <th>3564</th>\n",
       "      <td>1.82</td>\n",
       "      <td>1.7475</td>\n",
       "    </tr>\n",
       "    <tr>\n",
       "      <th>3565</th>\n",
       "      <td>1.20</td>\n",
       "      <td>1.1025</td>\n",
       "    </tr>\n",
       "    <tr>\n",
       "      <th>3566</th>\n",
       "      <td>1.25</td>\n",
       "      <td>1.2550</td>\n",
       "    </tr>\n",
       "  </tbody>\n",
       "</table>\n",
       "<p>3567 rows × 2 columns</p>\n",
       "</div>"
      ],
      "text/plain": [
       "      original  predicted\n",
       "0         1.74     1.4850\n",
       "1         1.45     1.4800\n",
       "2         1.16     1.2175\n",
       "3         1.36     1.4600\n",
       "4         2.05     1.7450\n",
       "...        ...        ...\n",
       "3562      1.88     2.0875\n",
       "3563      1.22     1.2700\n",
       "3564      1.82     1.7475\n",
       "3565      1.20     1.1025\n",
       "3566      1.25     1.2550\n",
       "\n",
       "[3567 rows x 2 columns]"
      ]
     },
     "execution_count": 215,
     "metadata": {},
     "output_type": "execute_result"
    }
   ],
   "source": [
    "import numpy as np\n",
    "a = np.array(y_test)\n",
    "predicted = np.array(knn.predict(x_test))\n",
    "df_comp = pd.DataFrame({'original':a,'predicted':predicted},index=range(len(a)))\n",
    "df_comp"
   ]
  },
  {
   "cell_type": "markdown",
   "id": "39033582",
   "metadata": {},
   "source": [
    "# Prediction of Region :-"
   ]
  },
  {
   "cell_type": "markdown",
   "id": "4ea4b663",
   "metadata": {},
   "source": [
    "# Data Preprocessing"
   ]
  },
  {
   "cell_type": "code",
   "execution_count": 217,
   "id": "cebe1c0b",
   "metadata": {},
   "outputs": [],
   "source": [
    "#Splitting the independent and target variable in x and y.\n",
    "x = df.drop(\"region\",axis=1)\n",
    "y = df['region']"
   ]
  },
  {
   "cell_type": "code",
   "execution_count": 218,
   "id": "507fb223",
   "metadata": {},
   "outputs": [
    {
     "name": "stdout",
     "output_type": "stream",
     "text": [
      "(17834, 13)\n",
      "(17834,)\n"
     ]
    }
   ],
   "source": [
    "print(x.shape)\n",
    "print(y.shape)"
   ]
  },
  {
   "cell_type": "code",
   "execution_count": 219,
   "id": "304be63d",
   "metadata": {},
   "outputs": [
    {
     "data": {
      "text/html": [
       "<div>\n",
       "<style scoped>\n",
       "    .dataframe tbody tr th:only-of-type {\n",
       "        vertical-align: middle;\n",
       "    }\n",
       "\n",
       "    .dataframe tbody tr th {\n",
       "        vertical-align: top;\n",
       "    }\n",
       "\n",
       "    .dataframe thead th {\n",
       "        text-align: right;\n",
       "    }\n",
       "</style>\n",
       "<table border=\"1\" class=\"dataframe\">\n",
       "  <thead>\n",
       "    <tr style=\"text-align: right;\">\n",
       "      <th></th>\n",
       "      <th>AveragePrice</th>\n",
       "      <th>Total Volume</th>\n",
       "      <th>4046</th>\n",
       "      <th>4225</th>\n",
       "      <th>4770</th>\n",
       "      <th>Total Bags</th>\n",
       "      <th>Small Bags</th>\n",
       "      <th>Large Bags</th>\n",
       "      <th>XLarge Bags</th>\n",
       "      <th>type</th>\n",
       "      <th>year</th>\n",
       "      <th>Month</th>\n",
       "      <th>Day</th>\n",
       "    </tr>\n",
       "  </thead>\n",
       "  <tbody>\n",
       "    <tr>\n",
       "      <th>0</th>\n",
       "      <td>1.33</td>\n",
       "      <td>11.070344</td>\n",
       "      <td>6.944801</td>\n",
       "      <td>10.905146</td>\n",
       "      <td>3.895080</td>\n",
       "      <td>9.070833</td>\n",
       "      <td>9.060055</td>\n",
       "      <td>4.545951</td>\n",
       "      <td>0.0</td>\n",
       "      <td>0</td>\n",
       "      <td>0</td>\n",
       "      <td>11</td>\n",
       "      <td>26</td>\n",
       "    </tr>\n",
       "    <tr>\n",
       "      <th>1</th>\n",
       "      <td>1.35</td>\n",
       "      <td>10.912867</td>\n",
       "      <td>6.515127</td>\n",
       "      <td>10.706381</td>\n",
       "      <td>4.083115</td>\n",
       "      <td>9.159737</td>\n",
       "      <td>9.149429</td>\n",
       "      <td>4.589955</td>\n",
       "      <td>0.0</td>\n",
       "      <td>0</td>\n",
       "      <td>0</td>\n",
       "      <td>11</td>\n",
       "      <td>19</td>\n",
       "    </tr>\n",
       "    <tr>\n",
       "      <th>2</th>\n",
       "      <td>0.93</td>\n",
       "      <td>11.680313</td>\n",
       "      <td>6.679222</td>\n",
       "      <td>11.600485</td>\n",
       "      <td>4.879007</td>\n",
       "      <td>9.005325</td>\n",
       "      <td>8.992584</td>\n",
       "      <td>4.645736</td>\n",
       "      <td>0.0</td>\n",
       "      <td>0</td>\n",
       "      <td>0</td>\n",
       "      <td>11</td>\n",
       "      <td>12</td>\n",
       "    </tr>\n",
       "    <tr>\n",
       "      <th>3</th>\n",
       "      <td>1.08</td>\n",
       "      <td>11.277116</td>\n",
       "      <td>7.032624</td>\n",
       "      <td>11.184108</td>\n",
       "      <td>4.298373</td>\n",
       "      <td>8.667708</td>\n",
       "      <td>8.644425</td>\n",
       "      <td>4.903495</td>\n",
       "      <td>0.0</td>\n",
       "      <td>0</td>\n",
       "      <td>0</td>\n",
       "      <td>11</td>\n",
       "      <td>5</td>\n",
       "    </tr>\n",
       "    <tr>\n",
       "      <th>4</th>\n",
       "      <td>1.28</td>\n",
       "      <td>10.840377</td>\n",
       "      <td>6.848515</td>\n",
       "      <td>10.688288</td>\n",
       "      <td>4.340944</td>\n",
       "      <td>8.729874</td>\n",
       "      <td>8.697389</td>\n",
       "      <td>5.291746</td>\n",
       "      <td>0.0</td>\n",
       "      <td>0</td>\n",
       "      <td>0</td>\n",
       "      <td>10</td>\n",
       "      <td>28</td>\n",
       "    </tr>\n",
       "    <tr>\n",
       "      <th>...</th>\n",
       "      <td>...</td>\n",
       "      <td>...</td>\n",
       "      <td>...</td>\n",
       "      <td>...</td>\n",
       "      <td>...</td>\n",
       "      <td>...</td>\n",
       "      <td>...</td>\n",
       "      <td>...</td>\n",
       "      <td>...</td>\n",
       "      <td>...</td>\n",
       "      <td>...</td>\n",
       "      <td>...</td>\n",
       "      <td>...</td>\n",
       "    </tr>\n",
       "    <tr>\n",
       "      <th>18244</th>\n",
       "      <td>1.63</td>\n",
       "      <td>9.745419</td>\n",
       "      <td>7.624599</td>\n",
       "      <td>7.333154</td>\n",
       "      <td>0.000000</td>\n",
       "      <td>9.510421</td>\n",
       "      <td>9.477908</td>\n",
       "      <td>6.070391</td>\n",
       "      <td>0.0</td>\n",
       "      <td>1</td>\n",
       "      <td>3</td>\n",
       "      <td>1</td>\n",
       "      <td>3</td>\n",
       "    </tr>\n",
       "    <tr>\n",
       "      <th>18245</th>\n",
       "      <td>1.71</td>\n",
       "      <td>9.538855</td>\n",
       "      <td>7.083975</td>\n",
       "      <td>8.141044</td>\n",
       "      <td>0.000000</td>\n",
       "      <td>9.134090</td>\n",
       "      <td>9.098407</td>\n",
       "      <td>5.786284</td>\n",
       "      <td>0.0</td>\n",
       "      <td>1</td>\n",
       "      <td>3</td>\n",
       "      <td>0</td>\n",
       "      <td>27</td>\n",
       "    </tr>\n",
       "    <tr>\n",
       "      <th>18246</th>\n",
       "      <td>1.87</td>\n",
       "      <td>9.530085</td>\n",
       "      <td>7.084159</td>\n",
       "      <td>7.805389</td>\n",
       "      <td>6.591591</td>\n",
       "      <td>9.147945</td>\n",
       "      <td>9.143431</td>\n",
       "      <td>3.768384</td>\n",
       "      <td>0.0</td>\n",
       "      <td>1</td>\n",
       "      <td>3</td>\n",
       "      <td>0</td>\n",
       "      <td>20</td>\n",
       "    </tr>\n",
       "    <tr>\n",
       "      <th>18247</th>\n",
       "      <td>1.93</td>\n",
       "      <td>9.693150</td>\n",
       "      <td>7.332127</td>\n",
       "      <td>8.000363</td>\n",
       "      <td>6.590315</td>\n",
       "      <td>9.302969</td>\n",
       "      <td>9.298401</td>\n",
       "      <td>3.931826</td>\n",
       "      <td>0.0</td>\n",
       "      <td>1</td>\n",
       "      <td>3</td>\n",
       "      <td>0</td>\n",
       "      <td>13</td>\n",
       "    </tr>\n",
       "    <tr>\n",
       "      <th>18248</th>\n",
       "      <td>1.62</td>\n",
       "      <td>9.769418</td>\n",
       "      <td>7.971006</td>\n",
       "      <td>7.765200</td>\n",
       "      <td>5.418453</td>\n",
       "      <td>9.393924</td>\n",
       "      <td>9.391757</td>\n",
       "      <td>3.296207</td>\n",
       "      <td>0.0</td>\n",
       "      <td>1</td>\n",
       "      <td>3</td>\n",
       "      <td>0</td>\n",
       "      <td>6</td>\n",
       "    </tr>\n",
       "  </tbody>\n",
       "</table>\n",
       "<p>17834 rows × 13 columns</p>\n",
       "</div>"
      ],
      "text/plain": [
       "       AveragePrice  Total Volume      4046       4225      4770  Total Bags  \\\n",
       "0              1.33     11.070344  6.944801  10.905146  3.895080    9.070833   \n",
       "1              1.35     10.912867  6.515127  10.706381  4.083115    9.159737   \n",
       "2              0.93     11.680313  6.679222  11.600485  4.879007    9.005325   \n",
       "3              1.08     11.277116  7.032624  11.184108  4.298373    8.667708   \n",
       "4              1.28     10.840377  6.848515  10.688288  4.340944    8.729874   \n",
       "...             ...           ...       ...        ...       ...         ...   \n",
       "18244          1.63      9.745419  7.624599   7.333154  0.000000    9.510421   \n",
       "18245          1.71      9.538855  7.083975   8.141044  0.000000    9.134090   \n",
       "18246          1.87      9.530085  7.084159   7.805389  6.591591    9.147945   \n",
       "18247          1.93      9.693150  7.332127   8.000363  6.590315    9.302969   \n",
       "18248          1.62      9.769418  7.971006   7.765200  5.418453    9.393924   \n",
       "\n",
       "       Small Bags  Large Bags  XLarge Bags  type  year  Month  Day  \n",
       "0        9.060055    4.545951          0.0     0     0     11   26  \n",
       "1        9.149429    4.589955          0.0     0     0     11   19  \n",
       "2        8.992584    4.645736          0.0     0     0     11   12  \n",
       "3        8.644425    4.903495          0.0     0     0     11    5  \n",
       "4        8.697389    5.291746          0.0     0     0     10   28  \n",
       "...           ...         ...          ...   ...   ...    ...  ...  \n",
       "18244    9.477908    6.070391          0.0     1     3      1    3  \n",
       "18245    9.098407    5.786284          0.0     1     3      0   27  \n",
       "18246    9.143431    3.768384          0.0     1     3      0   20  \n",
       "18247    9.298401    3.931826          0.0     1     3      0   13  \n",
       "18248    9.391757    3.296207          0.0     1     3      0    6  \n",
       "\n",
       "[17834 rows x 13 columns]"
      ]
     },
     "execution_count": 219,
     "metadata": {},
     "output_type": "execute_result"
    }
   ],
   "source": [
    "x"
   ]
  },
  {
   "cell_type": "code",
   "execution_count": 220,
   "id": "167f00c4",
   "metadata": {},
   "outputs": [
    {
     "data": {
      "text/plain": [
       "0         0\n",
       "1         0\n",
       "2         0\n",
       "3         0\n",
       "4         0\n",
       "         ..\n",
       "18244    53\n",
       "18245    53\n",
       "18246    53\n",
       "18247    53\n",
       "18248    53\n",
       "Name: region, Length: 17834, dtype: int32"
      ]
     },
     "execution_count": 220,
     "metadata": {},
     "output_type": "execute_result"
    }
   ],
   "source": [
    "y"
   ]
  },
  {
   "cell_type": "markdown",
   "id": "9cfc30f5",
   "metadata": {},
   "source": [
    "# Scaling with StandardScaler."
   ]
  },
  {
   "cell_type": "code",
   "execution_count": 221,
   "id": "40e4e0c4",
   "metadata": {},
   "outputs": [
    {
     "data": {
      "text/plain": [
       "array([[-0.16022288, -0.13249789, -0.62742619, ..., -1.22957126,\n",
       "         1.64836388,  1.29278384],\n",
       "       [-0.10846984, -0.20162572, -0.75550098, ..., -1.22957126,\n",
       "         1.64836388,  0.49488527],\n",
       "       [-1.19528376,  0.13526087, -0.70658843, ..., -1.22957126,\n",
       "         1.64836388, -0.30301329],\n",
       "       ...,\n",
       "       [ 1.23710929, -0.8086277 , -0.58588682, ...,  1.96090944,\n",
       "        -1.45632855,  0.60887078],\n",
       "       [ 1.39236842, -0.73704662, -0.51197383, ...,  1.96090944,\n",
       "        -1.45632855, -0.18902778],\n",
       "       [ 0.59019625, -0.70356744, -0.32153998, ...,  1.96090944,\n",
       "        -1.45632855, -0.98692634]])"
      ]
     },
     "execution_count": 221,
     "metadata": {},
     "output_type": "execute_result"
    }
   ],
   "source": [
    "from sklearn.preprocessing import StandardScaler\n",
    "\n",
    "st = StandardScaler()\n",
    "x = st.fit_transform(x)\n",
    "x"
   ]
  },
  {
   "cell_type": "markdown",
   "id": "f8bcdc73",
   "metadata": {},
   "source": [
    "# Training process begins"
   ]
  },
  {
   "cell_type": "markdown",
   "id": "90896445",
   "metadata": {},
   "source": [
    "Finding best random state"
   ]
  },
  {
   "cell_type": "code",
   "execution_count": 309,
   "id": "14e2076b",
   "metadata": {},
   "outputs": [],
   "source": [
    "from sklearn.model_selection import train_test_split\n",
    "\n",
    "from sklearn.linear_model import LogisticRegression\n",
    "lr = LogisticRegression()\n",
    "\n",
    "from sklearn.ensemble import RandomForestClassifier\n",
    "rfc = RandomForestClassifier()\n",
    "\n",
    "from sklearn.tree import DecisionTreeClassifier\n",
    "dtc = DecisionTreeClassifier()\n",
    "\n",
    "from sklearn.svm import SVC\n",
    "svc = SVC()\n",
    "\n",
    "from sklearn.neighbors import KNeighborsClassifier\n",
    "knn = KNeighborsClassifier()\n",
    "\n",
    "from sklearn.naive_bayes import GaussianNB\n",
    "\n",
    "from sklearn.metrics import accuracy_score\n",
    "from sklearn.metrics import confusion_matrix, classification_report"
   ]
  },
  {
   "cell_type": "code",
   "execution_count": 252,
   "id": "eaaad713",
   "metadata": {},
   "outputs": [
    {
     "name": "stdout",
     "output_type": "stream",
     "text": [
      "accuracy 0.5419119708438463 random_state 40\n",
      "accuracy 0.552565180824222 random_state 41\n",
      "accuracy 0.5469582282029717 random_state 42\n",
      "accuracy 0.5534062237174096 random_state 43\n",
      "accuracy 0.5393888421642837 random_state 44\n",
      "accuracy 0.543874404261284 random_state 45\n",
      "accuracy 0.5634987384356602 random_state 46\n",
      "accuracy 0.5522848331931595 random_state 47\n",
      "accuracy 0.545556490047659 random_state 48\n",
      "accuracy 0.5435940566302214 random_state 49\n",
      "accuracy 0.56013456686291 random_state 50\n",
      "accuracy 0.5534062237174096 random_state 51\n",
      "accuracy 0.5545276142416596 random_state 52\n",
      "accuracy 0.5472385758340342 random_state 53\n",
      "accuracy 0.5463975329408467 random_state 54\n",
      "accuracy 0.5477992710961592 random_state 55\n",
      "accuracy 0.5419119708438463 random_state 56\n",
      "accuracy 0.5640594336977852 random_state 57\n",
      "accuracy 0.5564900476590973 random_state 58\n",
      "accuracy 0.5424726661059714 random_state 59\n",
      "accuracy 0.5514437902999719 random_state 60\n",
      "accuracy 0.5545276142416596 random_state 61\n",
      "accuracy 0.5379871040089711 random_state 62\n",
      "accuracy 0.5475189234650967 random_state 63\n",
      "accuracy 0.5620970002803476 random_state 64\n",
      "accuracy 0.5388281469021586 random_state 65\n",
      "accuracy 0.5663022147462854 random_state 66\n",
      "accuracy 0.5329408466498458 random_state 67\n",
      "accuracy 0.5578917858144099 random_state 68\n",
      "accuracy 0.5452761424165966 random_state 69\n",
      "accuracy 0.5618166526492852 random_state 70\n",
      "accuracy 0.56013456686291 random_state 71\n",
      "accuracy 0.5522848331931595 random_state 72\n",
      "accuracy 0.5424726661059714 random_state 73\n",
      "accuracy 0.5578917858144099 random_state 74\n",
      "accuracy 0.5449957947855341 random_state 75\n",
      "accuracy 0.5559293523969723 random_state 76\n",
      "accuracy 0.5497617045135968 random_state 77\n",
      "accuracy 0.5604149144939725 random_state 78\n",
      "accuracy 0.5475189234650967 random_state 79\n",
      "accuracy 0.5500420521446594 random_state 80\n",
      "accuracy 0.5539669189795347 random_state 81\n",
      "accuracy 0.5584524810765349 random_state 82\n",
      "accuracy 0.5410709279506588 random_state 83\n",
      "accuracy 0.5604149144939725 random_state 84\n",
      "accuracy 0.5483599663582843 random_state 85\n",
      "accuracy 0.5536865713484721 random_state 86\n",
      "accuracy 0.5567703952901598 random_state 87\n",
      "accuracy 0.5332211942809083 random_state 88\n",
      "accuracy 0.5371460611157836 random_state 89\n"
     ]
    }
   ],
   "source": [
    "maxAccu = 0\n",
    "maxRS = 0\n",
    "\n",
    "for i in range(40,90):\n",
    "    x_train, x_test, y_train, y_test = train_test_split(x,y,test_size = .20, random_state = i)\n",
    "    lr = LogisticRegression()\n",
    "    lr.fit(x_train,y_train)\n",
    "    pred_test = lr.predict(x_test)\n",
    "    acc = accuracy_score(y_test, pred_test)\n",
    "    print('accuracy',acc,'random_state',i)\n",
    "    \n",
    "    if acc > maxAccu:\n",
    "        maxAccu = acc\n",
    "        maxRS = i"
   ]
  },
  {
   "cell_type": "code",
   "execution_count": 253,
   "id": "e214ec4a",
   "metadata": {},
   "outputs": [
    {
     "name": "stdout",
     "output_type": "stream",
     "text": [
      "Best accuracy is  0.5663022147462854 On Random_state  66\n"
     ]
    }
   ],
   "source": [
    "print(\"Best accuracy is \",maxAccu,\"On Random_state \",maxRS)"
   ]
  },
  {
   "cell_type": "code",
   "execution_count": 257,
   "id": "27828bca",
   "metadata": {},
   "outputs": [
    {
     "name": "stdout",
     "output_type": "stream",
     "text": [
      "accuracy 0.798990748528175 random_state 40\n",
      "accuracy 0.8045977011494253 random_state 41\n",
      "accuracy 0.8051583964115503 random_state 42\n",
      "accuracy 0.7961872722175498 random_state 43\n",
      "accuracy 0.8057190916736754 random_state 44\n",
      "accuracy 0.8048780487804879 random_state 45\n",
      "accuracy 0.8062797869358004 random_state 46\n",
      "accuracy 0.8116063919259883 random_state 47\n",
      "accuracy 0.7877768432856742 random_state 48\n",
      "accuracy 0.8029156153630502 random_state 49\n",
      "accuracy 0.80067283431455 random_state 50\n",
      "accuracy 0.8062797869358004 random_state 51\n",
      "accuracy 0.7936641435379871 random_state 52\n",
      "accuracy 0.7888982338099243 random_state 53\n",
      "accuracy 0.8141295206055509 random_state 54\n",
      "accuracy 0.8102046537706756 random_state 55\n",
      "accuracy 0.7973086627417998 random_state 56\n",
      "accuracy 0.8015138772077376 random_state 57\n",
      "accuracy 0.8031959629941127 random_state 58\n",
      "accuracy 0.7998317914213625 random_state 59\n",
      "accuracy 0.8015138772077376 random_state 60\n",
      "accuracy 0.8062797869358004 random_state 61\n",
      "accuracy 0.8043173535183628 random_state 62\n",
      "accuracy 0.7964676198486123 random_state 63\n",
      "accuracy 0.7975890103728623 random_state 64\n",
      "accuracy 0.7981497056349874 random_state 65\n",
      "accuracy 0.7950658816932997 random_state 66\n",
      "accuracy 0.7998317914213625 random_state 67\n",
      "accuracy 0.8057190916736754 random_state 68\n",
      "accuracy 0.7844126717129241 random_state 69\n",
      "accuracy 0.8057190916736754 random_state 70\n",
      "accuracy 0.7981497056349874 random_state 71\n",
      "accuracy 0.8031959629941127 random_state 72\n",
      "accuracy 0.7959069245864873 random_state 73\n",
      "accuracy 0.7872161480235492 random_state 74\n",
      "accuracy 0.8031959629941127 random_state 75\n",
      "accuracy 0.8116063919259883 random_state 76\n",
      "accuracy 0.7841323240818615 random_state 77\n",
      "accuracy 0.7950658816932997 random_state 78\n",
      "accuracy 0.7928231006447995 random_state 79\n",
      "accuracy 0.8009531819456126 random_state 80\n",
      "accuracy 0.7961872722175498 random_state 81\n",
      "accuracy 0.7846930193439865 random_state 82\n",
      "accuracy 0.7953462293243622 random_state 83\n",
      "accuracy 0.8040370058873002 random_state 84\n",
      "accuracy 0.7975890103728623 random_state 85\n",
      "accuracy 0.801233529576675 random_state 86\n",
      "accuracy 0.798990748528175 random_state 87\n",
      "accuracy 0.8003924866834875 random_state 88\n",
      "accuracy 0.7734791141014858 random_state 89\n"
     ]
    }
   ],
   "source": [
    "maxAccu = 0\n",
    "maxRS = 0\n",
    "\n",
    "for i in range(40,90):\n",
    "    x_train, x_test, y_train, y_test = train_test_split(x,y,test_size = .20, random_state = i)\n",
    "    dtc = DecisionTreeClassifier()\n",
    "    dtc.fit(x_train,y_train)\n",
    "    pred_test = dtc.predict(x_test)\n",
    "    acc = accuracy_score(y_test, pred_test)\n",
    "    print('accuracy',acc,'random_state',i)\n",
    "    \n",
    "    if acc > maxAccu:\n",
    "        maxAccu = acc\n",
    "        maxRS = i"
   ]
  },
  {
   "cell_type": "code",
   "execution_count": 258,
   "id": "cf091d4c",
   "metadata": {},
   "outputs": [
    {
     "name": "stdout",
     "output_type": "stream",
     "text": [
      "Best accuracy is  0.8141295206055509 On Random_state  54\n"
     ]
    }
   ],
   "source": [
    "print(\"Best accuracy is \",maxAccu,\"On Random_state \",maxRS)"
   ]
  },
  {
   "cell_type": "code",
   "execution_count": 259,
   "id": "02cebbb8",
   "metadata": {},
   "outputs": [
    {
     "name": "stdout",
     "output_type": "stream",
     "text": [
      "accuracy 0.8037566582562378 random_state 40\n",
      "accuracy 0.7874964956546118 random_state 41\n",
      "accuracy 0.7967479674796748 random_state 42\n",
      "accuracy 0.7959069245864873 random_state 43\n",
      "accuracy 0.7894589290720493 random_state 44\n",
      "accuracy 0.7953462293243622 random_state 45\n",
      "accuracy 0.8093636108774881 random_state 46\n",
      "accuracy 0.8034763106251752 random_state 47\n",
      "accuracy 0.7888982338099243 random_state 48\n",
      "accuracy 0.7866554527614241 random_state 49\n",
      "accuracy 0.8017942248388001 random_state 50\n",
      "accuracy 0.8113260442949257 random_state 51\n",
      "accuracy 0.8110456966638632 random_state 52\n",
      "accuracy 0.7950658816932997 random_state 53\n",
      "accuracy 0.7964676198486123 random_state 54\n",
      "accuracy 0.7992710961592374 random_state 55\n",
      "accuracy 0.7922624053826746 random_state 56\n",
      "accuracy 0.7964676198486123 random_state 57\n",
      "accuracy 0.8116063919259883 random_state 58\n",
      "accuracy 0.7855340622371741 random_state 59\n",
      "accuracy 0.8040370058873002 random_state 60\n",
      "accuracy 0.7973086627417998 random_state 61\n",
      "accuracy 0.7933837959069245 random_state 62\n",
      "accuracy 0.7961872722175498 random_state 63\n",
      "accuracy 0.7975890103728623 random_state 64\n",
      "accuracy 0.7939444911690496 random_state 65\n",
      "accuracy 0.8003924866834875 random_state 66\n",
      "accuracy 0.8065601345668629 random_state 67\n",
      "accuracy 0.8121670871881133 random_state 68\n",
      "accuracy 0.7942248388001122 random_state 69\n",
      "accuracy 0.7953462293243622 random_state 70\n",
      "accuracy 0.8088029156153631 random_state 71\n",
      "accuracy 0.7987104008971124 random_state 72\n",
      "accuracy 0.798990748528175 random_state 73\n",
      "accuracy 0.80067283431455 random_state 74\n",
      "accuracy 0.7987104008971124 random_state 75\n",
      "accuracy 0.8015138772077376 random_state 76\n",
      "accuracy 0.7998317914213625 random_state 77\n",
      "accuracy 0.7894589290720493 random_state 78\n",
      "accuracy 0.7936641435379871 random_state 79\n",
      "accuracy 0.791982057751612 random_state 80\n",
      "accuracy 0.798990748528175 random_state 81\n",
      "accuracy 0.7905803195962994 random_state 82\n",
      "accuracy 0.7961872722175498 random_state 83\n",
      "accuracy 0.798990748528175 random_state 84\n",
      "accuracy 0.7945051864311746 random_state 85\n",
      "accuracy 0.8054387440426128 random_state 86\n",
      "accuracy 0.7964676198486123 random_state 87\n",
      "accuracy 0.7869358003924867 random_state 88\n",
      "accuracy 0.7874964956546118 random_state 89\n"
     ]
    }
   ],
   "source": [
    "maxAccu = 0\n",
    "maxRS = 0\n",
    "\n",
    "for i in range(40,90):\n",
    "    x_train, x_test, y_train, y_test = train_test_split(x,y,test_size = .20, random_state = i)\n",
    "    svc = SVC()\n",
    "    svc.fit(x_train,y_train)\n",
    "    pred_test = svc.predict(x_test)\n",
    "    acc = accuracy_score(y_test, pred_test)\n",
    "    print('accuracy',acc,'random_state',i)\n",
    "    \n",
    "    if acc > maxAccu:\n",
    "        maxAccu = acc\n",
    "        maxRS = i"
   ]
  },
  {
   "cell_type": "code",
   "execution_count": 260,
   "id": "fa1afb36",
   "metadata": {},
   "outputs": [
    {
     "name": "stdout",
     "output_type": "stream",
     "text": [
      "Best accuracy is  0.8121670871881133 On Random_state  68\n"
     ]
    }
   ],
   "source": [
    "print(\"Best accuracy is \",maxAccu,\"On Random_state \",maxRS)"
   ]
  },
  {
   "cell_type": "code",
   "execution_count": 261,
   "id": "87fb429a",
   "metadata": {},
   "outputs": [
    {
     "name": "stdout",
     "output_type": "stream",
     "text": [
      "accuracy 0.6638631903560415 random_state 40\n",
      "accuracy 0.6568544995794785 random_state 41\n",
      "accuracy 0.6582562377347911 random_state 42\n",
      "accuracy 0.6568544995794785 random_state 43\n",
      "accuracy 0.657134847210541 random_state 44\n",
      "accuracy 0.6546117185309784 random_state 45\n",
      "accuracy 0.6767591813849173 random_state 46\n",
      "accuracy 0.6663863190356042 random_state 47\n",
      "accuracy 0.6442388561816653 random_state 48\n",
      "accuracy 0.6602186711522288 random_state 49\n",
      "accuracy 0.6725539669189795 random_state 50\n",
      "accuracy 0.6557331090552285 random_state 51\n",
      "accuracy 0.6616204093075414 random_state 52\n",
      "accuracy 0.6504065040650406 random_state 53\n",
      "accuracy 0.664704233249229 random_state 54\n",
      "accuracy 0.6576955424726662 random_state 55\n",
      "accuracy 0.6400336417157275 random_state 56\n",
      "accuracy 0.6504065040650406 random_state 57\n",
      "accuracy 0.6691897953462294 random_state 58\n",
      "accuracy 0.6613400616764789 random_state 59\n",
      "accuracy 0.6543313708999159 random_state 60\n",
      "accuracy 0.6610597140454163 random_state 61\n",
      "accuracy 0.655452761424166 random_state 62\n",
      "accuracy 0.6568544995794785 random_state 63\n",
      "accuracy 0.6543313708999159 random_state 64\n",
      "accuracy 0.6624614522007289 random_state 65\n",
      "accuracy 0.6624614522007289 random_state 66\n",
      "accuracy 0.6599383235211662 random_state 67\n",
      "accuracy 0.6532099803756658 random_state 68\n",
      "accuracy 0.6548920661620409 random_state 69\n",
      "accuracy 0.6638631903560415 random_state 70\n",
      "accuracy 0.6590972806279787 random_state 71\n",
      "accuracy 0.6677880571909167 random_state 72\n",
      "accuracy 0.6518082422203533 random_state 73\n",
      "accuracy 0.6476030277544155 random_state 74\n",
      "accuracy 0.647883375385478 random_state 75\n",
      "accuracy 0.6576955424726662 random_state 76\n",
      "accuracy 0.6607793664143538 random_state 77\n",
      "accuracy 0.6689094477151668 random_state 78\n",
      "accuracy 0.6621811045696664 random_state 79\n",
      "accuracy 0.647883375385478 random_state 80\n",
      "accuracy 0.6761984861227922 random_state 81\n",
      "accuracy 0.6515278945892907 random_state 82\n",
      "accuracy 0.6518082422203533 random_state 83\n",
      "accuracy 0.6574151948416036 random_state 84\n",
      "accuracy 0.6551724137931034 random_state 85\n",
      "accuracy 0.6467619848612279 random_state 86\n",
      "accuracy 0.6596579758901038 random_state 87\n",
      "accuracy 0.6512475469582282 random_state 88\n",
      "accuracy 0.657134847210541 random_state 89\n"
     ]
    }
   ],
   "source": [
    "maxAccu = 0\n",
    "maxRS = 0\n",
    "\n",
    "for i in range(40,90):\n",
    "    x_train, x_test, y_train, y_test = train_test_split(x,y,test_size = .20, random_state = i)\n",
    "    knn = KNeighborsClassifier()\n",
    "    knn.fit(x_train,y_train)\n",
    "    pred_test = knn.predict(x_test)\n",
    "    acc = accuracy_score(y_test, pred_test)\n",
    "    print('accuracy',acc,'random_state',i)\n",
    "    \n",
    "    if acc > maxAccu:\n",
    "        maxAccu = acc\n",
    "        maxRS = i"
   ]
  },
  {
   "cell_type": "code",
   "execution_count": 262,
   "id": "86f05564",
   "metadata": {},
   "outputs": [
    {
     "name": "stdout",
     "output_type": "stream",
     "text": [
      "Best accuracy is  0.6767591813849173 On Random_state  46\n"
     ]
    }
   ],
   "source": [
    "print(\"Best accuracy is \",maxAccu,\"On Random_state \",maxRS)"
   ]
  },
  {
   "cell_type": "code",
   "execution_count": 263,
   "id": "b09cd1ea",
   "metadata": {},
   "outputs": [
    {
     "name": "stdout",
     "output_type": "stream",
     "text": [
      "accuracy 0.9147743201569947 random_state 40\n",
      "accuracy 0.9156153630501822 random_state 41\n",
      "accuracy 0.9094477151668069 random_state 42\n",
      "accuracy 0.9100084104289319 random_state 43\n",
      "accuracy 0.9063638912251192 random_state 44\n",
      "accuracy 0.9105691056910569 random_state 45\n",
      "accuracy 0.9184188393608074 random_state 46\n",
      "accuracy 0.9201009251471826 random_state 47\n",
      "accuracy 0.9119708438463695 random_state 48\n",
      "accuracy 0.9153350154191197 random_state 49\n",
      "accuracy 0.9161760583123073 random_state 50\n",
      "accuracy 0.9139332772638071 random_state 51\n",
      "accuracy 0.912251191477432 random_state 52\n",
      "accuracy 0.9139332772638071 random_state 53\n",
      "accuracy 0.9184188393608074 random_state 54\n",
      "accuracy 0.912811886739557 random_state 55\n",
      "accuracy 0.911129800953182 random_state 56\n",
      "accuracy 0.913372582001682 random_state 57\n",
      "accuracy 0.9164564059433697 random_state 58\n",
      "accuracy 0.9125315391084945 random_state 59\n",
      "accuracy 0.9130922343706196 random_state 60\n",
      "accuracy 0.9226240538267452 random_state 61\n",
      "accuracy 0.9147743201569947 random_state 62\n",
      "accuracy 0.9153350154191197 random_state 63\n",
      "accuracy 0.911129800953182 random_state 64\n",
      "accuracy 0.9114101485842445 random_state 65\n",
      "accuracy 0.912811886739557 random_state 66\n",
      "accuracy 0.9119708438463695 random_state 67\n",
      "accuracy 0.9251471825063078 random_state 68\n",
      "accuracy 0.9077656293804317 random_state 69\n",
      "accuracy 0.9164564059433697 random_state 70\n",
      "accuracy 0.9147743201569947 random_state 71\n",
      "accuracy 0.9119708438463695 random_state 72\n",
      "accuracy 0.9097280627978693 random_state 73\n",
      "accuracy 0.9010372862349313 random_state 74\n",
      "accuracy 0.9139332772638071 random_state 75\n",
      "accuracy 0.9223437061956826 random_state 76\n",
      "accuracy 0.9074852817493693 random_state 77\n",
      "accuracy 0.9153350154191197 random_state 78\n",
      "accuracy 0.9139332772638071 random_state 79\n",
      "accuracy 0.9119708438463695 random_state 80\n",
      "accuracy 0.9024390243902439 random_state 81\n",
      "accuracy 0.912811886739557 random_state 82\n",
      "accuracy 0.9100084104289319 random_state 83\n",
      "accuracy 0.912811886739557 random_state 84\n",
      "accuracy 0.912811886739557 random_state 85\n",
      "accuracy 0.9170171012054948 random_state 86\n",
      "accuracy 0.9201009251471826 random_state 87\n",
      "accuracy 0.9027193720213064 random_state 88\n",
      "accuracy 0.904121110176619 random_state 89\n"
     ]
    }
   ],
   "source": [
    "maxAccu = 0\n",
    "maxRS = 0\n",
    "\n",
    "for i in range(40,90):\n",
    "    x_train, x_test, y_train, y_test = train_test_split(x,y,test_size = .20, random_state = i)\n",
    "    rfc = RandomForestClassifier()\n",
    "    rfc.fit(x_train,y_train)\n",
    "    pred_test = rfc.predict(x_test)\n",
    "    acc = accuracy_score(y_test, pred_test)\n",
    "    print('accuracy',acc,'random_state',i)\n",
    "    \n",
    "    if acc > maxAccu:\n",
    "        maxAccu = acc\n",
    "        maxRS = i"
   ]
  },
  {
   "cell_type": "code",
   "execution_count": 264,
   "id": "baf1046a",
   "metadata": {},
   "outputs": [
    {
     "name": "stdout",
     "output_type": "stream",
     "text": [
      "Best accuracy is  0.9251471825063078 On Random_state  68\n"
     ]
    }
   ],
   "source": [
    "print(\"Best accuracy is \",maxAccu,\"On Random_state \",maxRS)"
   ]
  },
  {
   "cell_type": "markdown",
   "id": "b09d0f64",
   "metadata": {},
   "source": [
    "# Creating train-test split"
   ]
  },
  {
   "cell_type": "code",
   "execution_count": 265,
   "id": "2edc559d",
   "metadata": {},
   "outputs": [],
   "source": [
    "x_train, x_test, y_train, y_test = train_test_split(x,y,test_size=.20,random_state = 68)"
   ]
  },
  {
   "cell_type": "code",
   "execution_count": 316,
   "id": "e9113abc",
   "metadata": {},
   "outputs": [
    {
     "name": "stdout",
     "output_type": "stream",
     "text": [
      "(17834, 13) (14267, 13) (3567, 13)\n"
     ]
    }
   ],
   "source": [
    "print(x.shape, x_train.shape, x_test.shape)"
   ]
  },
  {
   "cell_type": "code",
   "execution_count": 317,
   "id": "4c0f89c5",
   "metadata": {},
   "outputs": [
    {
     "name": "stdout",
     "output_type": "stream",
     "text": [
      "(17834,) (14267,) (3567,)\n"
     ]
    }
   ],
   "source": [
    "print(y.shape, y_train.shape, y_test.shape)"
   ]
  },
  {
   "cell_type": "markdown",
   "id": "c3199c2a",
   "metadata": {},
   "source": [
    "# Apply Model"
   ]
  },
  {
   "cell_type": "code",
   "execution_count": 313,
   "id": "c72bbe37",
   "metadata": {},
   "outputs": [
    {
     "name": "stdout",
     "output_type": "stream",
     "text": [
      "[33 41 41 ... 15 44 10]\n",
      "accuracy score: 0.9217830109335576\n"
     ]
    }
   ],
   "source": [
    "rfc.fit(x_train,y_train)\n",
    "pred = rfc.predict(x_test)\n",
    "print(pred)\n",
    "print(\"accuracy score:\",accuracy_score(y_test,pred))"
   ]
  },
  {
   "cell_type": "code",
   "execution_count": 314,
   "id": "bdbdac22",
   "metadata": {},
   "outputs": [
    {
     "name": "stdout",
     "output_type": "stream",
     "text": [
      "[[63  0  0 ...  0  0  0]\n",
      " [ 0 62  0 ...  0  0  0]\n",
      " [ 0  0 52 ...  0  0  0]\n",
      " ...\n",
      " [ 0  0  0 ... 76  0  0]\n",
      " [ 0  0  0 ...  1 81  0]\n",
      " [ 0  0  0 ...  0  0 50]]\n"
     ]
    }
   ],
   "source": [
    "print(confusion_matrix(y_test,pred))"
   ]
  },
  {
   "cell_type": "code",
   "execution_count": 315,
   "id": "e497c0b0",
   "metadata": {},
   "outputs": [
    {
     "name": "stdout",
     "output_type": "stream",
     "text": [
      "              precision    recall  f1-score   support\n",
      "\n",
      "           0       0.91      0.97      0.94        65\n",
      "           1       0.90      0.85      0.87        73\n",
      "           2       0.96      0.96      0.96        54\n",
      "           3       0.93      0.92      0.93        61\n",
      "           4       0.96      0.97      0.96        66\n",
      "           5       0.92      0.81      0.86        69\n",
      "           6       0.96      1.00      0.98        65\n",
      "           7       0.93      0.99      0.96        76\n",
      "           8       0.99      1.00      0.99        66\n",
      "           9       0.91      0.94      0.92        63\n",
      "          10       0.95      0.87      0.91        71\n",
      "          11       0.90      0.97      0.94        68\n",
      "          12       0.98      0.95      0.97        65\n",
      "          13       0.91      0.88      0.89        56\n",
      "          14       0.90      0.97      0.93        62\n",
      "          15       1.00      0.96      0.98        79\n",
      "          16       0.95      0.94      0.94        62\n",
      "          17       0.95      0.95      0.95        64\n",
      "          18       0.94      0.87      0.91        71\n",
      "          19       0.88      0.87      0.87        60\n",
      "          20       0.97      0.92      0.95        66\n",
      "          21       0.82      0.93      0.87        54\n",
      "          22       1.00      0.97      0.98        67\n",
      "          23       0.86      0.93      0.90        61\n",
      "          24       0.78      0.70      0.74        71\n",
      "          25       0.96      0.99      0.97        73\n",
      "          26       0.86      0.91      0.88        67\n",
      "          27       0.90      0.93      0.91        56\n",
      "          28       0.95      0.92      0.93        61\n",
      "          29       1.00      0.95      0.97        77\n",
      "          30       0.96      0.96      0.96        71\n",
      "          31       0.78      0.77      0.78        65\n",
      "          32       0.93      0.93      0.93        67\n",
      "          33       0.90      0.97      0.94        76\n",
      "          34       0.93      0.97      0.95        59\n",
      "          35       0.88      0.97      0.92        66\n",
      "          36       0.93      0.85      0.89        62\n",
      "          37       0.93      0.87      0.90        61\n",
      "          38       0.90      0.98      0.94        63\n",
      "          39       0.91      0.91      0.91        79\n",
      "          40       0.85      0.92      0.88        62\n",
      "          41       0.91      0.96      0.93        72\n",
      "          42       0.96      0.95      0.95        55\n",
      "          43       0.86      0.88      0.87        43\n",
      "          44       0.93      0.87      0.90        62\n",
      "          45       0.98      1.00      0.99        85\n",
      "          46       0.99      0.99      0.99        80\n",
      "          47       0.94      0.93      0.93        54\n",
      "          48       0.98      0.78      0.87        69\n",
      "          49       0.92      0.93      0.93        61\n",
      "          50       0.63      0.72      0.67        67\n",
      "          51       0.96      1.00      0.98        76\n",
      "          52       1.00      0.98      0.99        83\n",
      "          53       0.98      0.83      0.90        60\n",
      "\n",
      "    accuracy                           0.92      3567\n",
      "   macro avg       0.92      0.92      0.92      3567\n",
      "weighted avg       0.92      0.92      0.92      3567\n",
      "\n"
     ]
    }
   ],
   "source": [
    "from sklearn.metrics import classification_report\n",
    "print(classification_report(y_test,pred))"
   ]
  },
  {
   "cell_type": "markdown",
   "id": "dafdfbb0",
   "metadata": {},
   "source": [
    "# Cross validation score for random forest classifier"
   ]
  },
  {
   "cell_type": "code",
   "execution_count": 274,
   "id": "a1149333",
   "metadata": {},
   "outputs": [
    {
     "name": "stdout",
     "output_type": "stream",
     "text": [
      "At cv:- 2\n",
      "cross validation score is :- 8.988449029942807\n",
      "accuracy_score is :- 98.23380992430614\n",
      "\n",
      "\n",
      "At cv:- 3\n",
      "cross validation score is :- 54.01404511446145\n",
      "accuracy_score is :- 98.23380992430614\n",
      "\n",
      "\n",
      "At cv:- 4\n",
      "cross validation score is :- 62.17797170189567\n",
      "accuracy_score is :- 98.23380992430614\n",
      "\n",
      "\n",
      "At cv:- 5\n",
      "cross validation score is :- 67.77948323896955\n",
      "accuracy_score is :- 98.23380992430614\n",
      "\n",
      "\n",
      "At cv:- 6\n",
      "cross validation score is :- 69.33892055567553\n",
      "accuracy_score is :- 98.23380992430614\n",
      "\n",
      "\n",
      "At cv:- 7\n",
      "cross validation score is :- 76.3254955744319\n",
      "accuracy_score is :- 98.23380992430614\n",
      "\n",
      "\n",
      "At cv:- 8\n",
      "cross validation score is :- 76.36456705031716\n",
      "accuracy_score is :- 98.23380992430614\n",
      "\n",
      "\n",
      "At cv:- 9\n",
      "cross validation score is :- 76.8178398904403\n",
      "accuracy_score is :- 98.23380992430614\n",
      "\n",
      "\n"
     ]
    }
   ],
   "source": [
    "pred_rfc = rfc.predict(x_test)\n",
    "from sklearn.model_selection import cross_val_score\n",
    "lss = accuracy_score(y_test,pred_rfc)\n",
    "for j in range(2,10):\n",
    "    lsscore = cross_val_score(rfc,x,y,cv=j)\n",
    "    lsc = lsscore.mean()\n",
    "    print(\"At cv:-\",j)\n",
    "    print(\"cross validation score is :-\",lsc*100)\n",
    "    print(\"accuracy_score is :-\",lss*100)\n",
    "    print(\"\\n\")"
   ]
  },
  {
   "cell_type": "code",
   "execution_count": 275,
   "id": "fd1ab353",
   "metadata": {},
   "outputs": [
    {
     "name": "stdout",
     "output_type": "stream",
     "text": [
      "The cv score is:  0.7671688360876924 \n",
      "The accuracy score is:  0.9823380992430614\n"
     ]
    }
   ],
   "source": [
    "lsscore_selected = cross_val_score(rfc,x,y,cv=9).mean()\n",
    "print(\"The cv score is: \",lsscore_selected,\"\\nThe accuracy score is: \",lss)"
   ]
  },
  {
   "cell_type": "markdown",
   "id": "2ffe7df3",
   "metadata": {},
   "source": [
    "# AUC ROC Curve:"
   ]
  },
  {
   "cell_type": "code",
   "execution_count": 298,
   "id": "0a32efef",
   "metadata": {},
   "outputs": [
    {
     "data": {
      "image/png": "[encoded data removed]",
      "text/plain": [
       "<Figure size 432x288 with 1 Axes>"
      ]
     },
     "metadata": {
      "needs_background": "light"
     },
     "output_type": "display_data"
    }
   ],
   "source": [
    "from sklearn.metrics import roc_curve, auc\n",
    "fpr, tpr, threshold = roc_curve(y_test,pred_test, pos_label=0)\n",
    "roc_auc = auc(fpr,tpr)\n",
    "\n",
    "plt.figure()\n",
    "plt.plot(fpr,tpr,color = 'darkorange', lw=10, label='ROC curve (area = %0.2f)' % roc_auc)\n",
    "plt.plot([0,1],[0,1], color='navy', lw=10, linestyle='--')\n",
    "plt.xlim([0.0,1.0])\n",
    "plt.ylim([0.0,1.0])\n",
    "plt.xlabel('False Positive Rate')\n",
    "plt.ylabel('True Positive Rate')\n",
    "plt.title('Receiver operating characteristic')\n",
    "plt.legend(loc='lower right')\n",
    "plt.show()"
   ]
  },
  {
   "cell_type": "markdown",
   "id": "34f1aa66",
   "metadata": {},
   "source": [
    "# Model Saving:"
   ]
  },
  {
   "cell_type": "code",
   "execution_count": 303,
   "id": "bdbd9762",
   "metadata": {},
   "outputs": [],
   "source": [
    "import pickle\n",
    "filename = 'Avocado.pkl'\n",
    "pickle.dump(rfc,open(filename,'wb'))"
   ]
  },
  {
   "cell_type": "markdown",
   "id": "34bb145f",
   "metadata": {},
   "source": [
    "# Conclusion:"
   ]
  },
  {
   "cell_type": "code",
   "execution_count": 304,
   "id": "51a2c03c",
   "metadata": {},
   "outputs": [
    {
     "data": {
      "text/html": [
       "<div>\n",
       "<style scoped>\n",
       "    .dataframe tbody tr th:only-of-type {\n",
       "        vertical-align: middle;\n",
       "    }\n",
       "\n",
       "    .dataframe tbody tr th {\n",
       "        vertical-align: top;\n",
       "    }\n",
       "\n",
       "    .dataframe thead th {\n",
       "        text-align: right;\n",
       "    }\n",
       "</style>\n",
       "<table border=\"1\" class=\"dataframe\">\n",
       "  <thead>\n",
       "    <tr style=\"text-align: right;\">\n",
       "      <th></th>\n",
       "      <th>original</th>\n",
       "      <th>predicted</th>\n",
       "    </tr>\n",
       "  </thead>\n",
       "  <tbody>\n",
       "    <tr>\n",
       "      <th>0</th>\n",
       "      <td>33</td>\n",
       "      <td>33</td>\n",
       "    </tr>\n",
       "    <tr>\n",
       "      <th>1</th>\n",
       "      <td>41</td>\n",
       "      <td>41</td>\n",
       "    </tr>\n",
       "    <tr>\n",
       "      <th>2</th>\n",
       "      <td>41</td>\n",
       "      <td>41</td>\n",
       "    </tr>\n",
       "    <tr>\n",
       "      <th>3</th>\n",
       "      <td>5</td>\n",
       "      <td>5</td>\n",
       "    </tr>\n",
       "    <tr>\n",
       "      <th>4</th>\n",
       "      <td>45</td>\n",
       "      <td>45</td>\n",
       "    </tr>\n",
       "    <tr>\n",
       "      <th>...</th>\n",
       "      <td>...</td>\n",
       "      <td>...</td>\n",
       "    </tr>\n",
       "    <tr>\n",
       "      <th>3562</th>\n",
       "      <td>26</td>\n",
       "      <td>26</td>\n",
       "    </tr>\n",
       "    <tr>\n",
       "      <th>3563</th>\n",
       "      <td>37</td>\n",
       "      <td>37</td>\n",
       "    </tr>\n",
       "    <tr>\n",
       "      <th>3564</th>\n",
       "      <td>15</td>\n",
       "      <td>15</td>\n",
       "    </tr>\n",
       "    <tr>\n",
       "      <th>3565</th>\n",
       "      <td>31</td>\n",
       "      <td>31</td>\n",
       "    </tr>\n",
       "    <tr>\n",
       "      <th>3566</th>\n",
       "      <td>10</td>\n",
       "      <td>10</td>\n",
       "    </tr>\n",
       "  </tbody>\n",
       "</table>\n",
       "<p>3567 rows × 2 columns</p>\n",
       "</div>"
      ],
      "text/plain": [
       "      original  predicted\n",
       "0           33         33\n",
       "1           41         41\n",
       "2           41         41\n",
       "3            5          5\n",
       "4           45         45\n",
       "...        ...        ...\n",
       "3562        26         26\n",
       "3563        37         37\n",
       "3564        15         15\n",
       "3565        31         31\n",
       "3566        10         10\n",
       "\n",
       "[3567 rows x 2 columns]"
      ]
     },
     "execution_count": 304,
     "metadata": {},
     "output_type": "execute_result"
    }
   ],
   "source": [
    "import numpy as np\n",
    "a = np.array(y_test)\n",
    "predicted = np.array(rfc.predict(x_test))\n",
    "df_comp = pd.DataFrame({'original':a,'predicted':predicted},index=range(len(a)))\n",
    "df_comp"
   ]
  },
  {
   "cell_type": "markdown",
   "id": "fdab8204",
   "metadata": {},
   "source": [
    "# Observation:"
   ]
  },
  {
   "cell_type": "raw",
   "id": "fa96dfae",
   "metadata": {},
   "source": [
    "=> Taking region as y variable is predicting well for this model as compare to price.\n",
    "=> Also, I used the Label Encoder to make the categorical data into numeric data i.e. Region, Type etc.\n",
    "=> Also, Accuracy score value is also greater then R2 score.\n",
    "=> There is hike between month 8-10 of both type of Avocado.\n",
    "=> I had done prediction using region and price but using region the prediction score is high as compared to price.\n",
    "=> So in this data set I am using both regression and classification technique for making this model."
   ]
  }
 ],
 "metadata": {
  "kernelspec": {
   "display_name": "Python 3 (ipykernel)",
   "language": "python",
   "name": "python3"
  },
  "language_info": {
   "codemirror_mode": {
    "name": "ipython",
    "version": 3
   },
   "file_extension": ".py",
   "mimetype": "text/x-python",
   "name": "python",
   "nbconvert_exporter": "python",
   "pygments_lexer": "ipython3",
   "version": "3.9.7"
  },
  "varInspector": {
   "cols": {
    "lenName": 16,
    "lenType": 16,
    "lenVar": 40
   },
   "kernels_config": {
    "python": {
     "delete_cmd_postfix": "",
     "delete_cmd_prefix": "del ",
     "library": "var_list.py",
     "varRefreshCmd": "print(var_dic_list())"
    },
    "r": {
     "delete_cmd_postfix": ") ",
     "delete_cmd_prefix": "rm(",
     "library": "var_list.r",
     "varRefreshCmd": "cat(var_dic_list()) "
    }
   },
   "types_to_exclude": [
    "module",
    "function",
    "builtin_function_or_method",
    "instance",
    "_Feature"
   ],
   "window_display": false
  }
 },
 "nbformat": 4,
 "nbformat_minor": 5
}
