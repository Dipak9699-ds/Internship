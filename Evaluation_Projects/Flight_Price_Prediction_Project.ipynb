{
 "cells": [
  {
   "cell_type": "markdown",
   "id": "47633174",
   "metadata": {},
   "source": [
    "# Importing required libraries"
   ]
  },
  {
   "cell_type": "code",
   "execution_count": 9,
   "id": "8a40a2e0",
   "metadata": {},
   "outputs": [],
   "source": [
    "import numpy as np\n",
    "import matplotlib.pyplot as plt\n",
    "import seaborn as sns\n",
    "import warnings\n",
    "warnings.filterwarnings('ignore')"
   ]
  },
  {
   "cell_type": "code",
   "execution_count": 10,
   "id": "dba06c3a",
   "metadata": {},
   "outputs": [],
   "source": [
    "# Loading the train dataset:\n",
    "import pandas as pd\n",
    "train_df = pd.read_excel(r'C:/Users/dipak/Downloads/Flight_Ticket_Participant_Datasets/Data_Train.xlsx')"
   ]
  },
  {
   "cell_type": "code",
   "execution_count": 11,
   "id": "92ed5ed7",
   "metadata": {},
   "outputs": [],
   "source": [
    "# Print all columns:\n",
    "pd.set_option('display.max_columns',None)"
   ]
  },
  {
   "cell_type": "code",
   "execution_count": 12,
   "id": "e60ea9c0",
   "metadata": {},
   "outputs": [
    {
     "data": {
      "text/html": [
       "<div>\n",
       "<style scoped>\n",
       "    .dataframe tbody tr th:only-of-type {\n",
       "        vertical-align: middle;\n",
       "    }\n",
       "\n",
       "    .dataframe tbody tr th {\n",
       "        vertical-align: top;\n",
       "    }\n",
       "\n",
       "    .dataframe thead th {\n",
       "        text-align: right;\n",
       "    }\n",
       "</style>\n",
       "<table border=\"1\" class=\"dataframe\">\n",
       "  <thead>\n",
       "    <tr style=\"text-align: right;\">\n",
       "      <th></th>\n",
       "      <th>Airline</th>\n",
       "      <th>Date_of_Journey</th>\n",
       "      <th>Source</th>\n",
       "      <th>Destination</th>\n",
       "      <th>Route</th>\n",
       "      <th>Dep_Time</th>\n",
       "      <th>Arrival_Time</th>\n",
       "      <th>Duration</th>\n",
       "      <th>Total_Stops</th>\n",
       "      <th>Additional_Info</th>\n",
       "      <th>Price</th>\n",
       "    </tr>\n",
       "  </thead>\n",
       "  <tbody>\n",
       "    <tr>\n",
       "      <th>0</th>\n",
       "      <td>IndiGo</td>\n",
       "      <td>24/03/2019</td>\n",
       "      <td>Banglore</td>\n",
       "      <td>New Delhi</td>\n",
       "      <td>BLR → DEL</td>\n",
       "      <td>22:20</td>\n",
       "      <td>01:10 22 Mar</td>\n",
       "      <td>2h 50m</td>\n",
       "      <td>non-stop</td>\n",
       "      <td>No info</td>\n",
       "      <td>3897</td>\n",
       "    </tr>\n",
       "    <tr>\n",
       "      <th>1</th>\n",
       "      <td>Air India</td>\n",
       "      <td>1/05/2019</td>\n",
       "      <td>Kolkata</td>\n",
       "      <td>Banglore</td>\n",
       "      <td>CCU → IXR → BBI → BLR</td>\n",
       "      <td>05:50</td>\n",
       "      <td>13:15</td>\n",
       "      <td>7h 25m</td>\n",
       "      <td>2 stops</td>\n",
       "      <td>No info</td>\n",
       "      <td>7662</td>\n",
       "    </tr>\n",
       "    <tr>\n",
       "      <th>2</th>\n",
       "      <td>Jet Airways</td>\n",
       "      <td>9/06/2019</td>\n",
       "      <td>Delhi</td>\n",
       "      <td>Cochin</td>\n",
       "      <td>DEL → LKO → BOM → COK</td>\n",
       "      <td>09:25</td>\n",
       "      <td>04:25 10 Jun</td>\n",
       "      <td>19h</td>\n",
       "      <td>2 stops</td>\n",
       "      <td>No info</td>\n",
       "      <td>13882</td>\n",
       "    </tr>\n",
       "    <tr>\n",
       "      <th>3</th>\n",
       "      <td>IndiGo</td>\n",
       "      <td>12/05/2019</td>\n",
       "      <td>Kolkata</td>\n",
       "      <td>Banglore</td>\n",
       "      <td>CCU → NAG → BLR</td>\n",
       "      <td>18:05</td>\n",
       "      <td>23:30</td>\n",
       "      <td>5h 25m</td>\n",
       "      <td>1 stop</td>\n",
       "      <td>No info</td>\n",
       "      <td>6218</td>\n",
       "    </tr>\n",
       "    <tr>\n",
       "      <th>4</th>\n",
       "      <td>IndiGo</td>\n",
       "      <td>01/03/2019</td>\n",
       "      <td>Banglore</td>\n",
       "      <td>New Delhi</td>\n",
       "      <td>BLR → NAG → DEL</td>\n",
       "      <td>16:50</td>\n",
       "      <td>21:35</td>\n",
       "      <td>4h 45m</td>\n",
       "      <td>1 stop</td>\n",
       "      <td>No info</td>\n",
       "      <td>13302</td>\n",
       "    </tr>\n",
       "  </tbody>\n",
       "</table>\n",
       "</div>"
      ],
      "text/plain": [
       "       Airline Date_of_Journey    Source Destination                  Route  \\\n",
       "0       IndiGo      24/03/2019  Banglore   New Delhi              BLR → DEL   \n",
       "1    Air India       1/05/2019   Kolkata    Banglore  CCU → IXR → BBI → BLR   \n",
       "2  Jet Airways       9/06/2019     Delhi      Cochin  DEL → LKO → BOM → COK   \n",
       "3       IndiGo      12/05/2019   Kolkata    Banglore        CCU → NAG → BLR   \n",
       "4       IndiGo      01/03/2019  Banglore   New Delhi        BLR → NAG → DEL   \n",
       "\n",
       "  Dep_Time  Arrival_Time Duration Total_Stops Additional_Info  Price  \n",
       "0    22:20  01:10 22 Mar   2h 50m    non-stop         No info   3897  \n",
       "1    05:50         13:15   7h 25m     2 stops         No info   7662  \n",
       "2    09:25  04:25 10 Jun      19h     2 stops         No info  13882  \n",
       "3    18:05         23:30   5h 25m      1 stop         No info   6218  \n",
       "4    16:50         21:35   4h 45m      1 stop         No info  13302  "
      ]
     },
     "execution_count": 12,
     "metadata": {},
     "output_type": "execute_result"
    }
   ],
   "source": [
    "# Showing 5 raws of test data:\n",
    "train_df.head()"
   ]
  },
  {
   "cell_type": "code",
   "execution_count": 13,
   "id": "5f459f85",
   "metadata": {},
   "outputs": [],
   "source": [
    "# Loading the test dataset:\n",
    "test_df = pd.read_excel(r'C:/Users/dipak/Downloads/Flight_Ticket_Participant_Datasets/Test_set.xlsx')"
   ]
  },
  {
   "cell_type": "code",
   "execution_count": 14,
   "id": "503a03f0",
   "metadata": {},
   "outputs": [
    {
     "data": {
      "text/html": [
       "<div>\n",
       "<style scoped>\n",
       "    .dataframe tbody tr th:only-of-type {\n",
       "        vertical-align: middle;\n",
       "    }\n",
       "\n",
       "    .dataframe tbody tr th {\n",
       "        vertical-align: top;\n",
       "    }\n",
       "\n",
       "    .dataframe thead th {\n",
       "        text-align: right;\n",
       "    }\n",
       "</style>\n",
       "<table border=\"1\" class=\"dataframe\">\n",
       "  <thead>\n",
       "    <tr style=\"text-align: right;\">\n",
       "      <th></th>\n",
       "      <th>Airline</th>\n",
       "      <th>Date_of_Journey</th>\n",
       "      <th>Source</th>\n",
       "      <th>Destination</th>\n",
       "      <th>Route</th>\n",
       "      <th>Dep_Time</th>\n",
       "      <th>Arrival_Time</th>\n",
       "      <th>Duration</th>\n",
       "      <th>Total_Stops</th>\n",
       "      <th>Additional_Info</th>\n",
       "    </tr>\n",
       "  </thead>\n",
       "  <tbody>\n",
       "    <tr>\n",
       "      <th>0</th>\n",
       "      <td>Jet Airways</td>\n",
       "      <td>6/06/2019</td>\n",
       "      <td>Delhi</td>\n",
       "      <td>Cochin</td>\n",
       "      <td>DEL → BOM → COK</td>\n",
       "      <td>17:30</td>\n",
       "      <td>04:25 07 Jun</td>\n",
       "      <td>10h 55m</td>\n",
       "      <td>1 stop</td>\n",
       "      <td>No info</td>\n",
       "    </tr>\n",
       "    <tr>\n",
       "      <th>1</th>\n",
       "      <td>IndiGo</td>\n",
       "      <td>12/05/2019</td>\n",
       "      <td>Kolkata</td>\n",
       "      <td>Banglore</td>\n",
       "      <td>CCU → MAA → BLR</td>\n",
       "      <td>06:20</td>\n",
       "      <td>10:20</td>\n",
       "      <td>4h</td>\n",
       "      <td>1 stop</td>\n",
       "      <td>No info</td>\n",
       "    </tr>\n",
       "    <tr>\n",
       "      <th>2</th>\n",
       "      <td>Jet Airways</td>\n",
       "      <td>21/05/2019</td>\n",
       "      <td>Delhi</td>\n",
       "      <td>Cochin</td>\n",
       "      <td>DEL → BOM → COK</td>\n",
       "      <td>19:15</td>\n",
       "      <td>19:00 22 May</td>\n",
       "      <td>23h 45m</td>\n",
       "      <td>1 stop</td>\n",
       "      <td>In-flight meal not included</td>\n",
       "    </tr>\n",
       "    <tr>\n",
       "      <th>3</th>\n",
       "      <td>Multiple carriers</td>\n",
       "      <td>21/05/2019</td>\n",
       "      <td>Delhi</td>\n",
       "      <td>Cochin</td>\n",
       "      <td>DEL → BOM → COK</td>\n",
       "      <td>08:00</td>\n",
       "      <td>21:00</td>\n",
       "      <td>13h</td>\n",
       "      <td>1 stop</td>\n",
       "      <td>No info</td>\n",
       "    </tr>\n",
       "    <tr>\n",
       "      <th>4</th>\n",
       "      <td>Air Asia</td>\n",
       "      <td>24/06/2019</td>\n",
       "      <td>Banglore</td>\n",
       "      <td>Delhi</td>\n",
       "      <td>BLR → DEL</td>\n",
       "      <td>23:55</td>\n",
       "      <td>02:45 25 Jun</td>\n",
       "      <td>2h 50m</td>\n",
       "      <td>non-stop</td>\n",
       "      <td>No info</td>\n",
       "    </tr>\n",
       "  </tbody>\n",
       "</table>\n",
       "</div>"
      ],
      "text/plain": [
       "             Airline Date_of_Journey    Source Destination            Route  \\\n",
       "0        Jet Airways       6/06/2019     Delhi      Cochin  DEL → BOM → COK   \n",
       "1             IndiGo      12/05/2019   Kolkata    Banglore  CCU → MAA → BLR   \n",
       "2        Jet Airways      21/05/2019     Delhi      Cochin  DEL → BOM → COK   \n",
       "3  Multiple carriers      21/05/2019     Delhi      Cochin  DEL → BOM → COK   \n",
       "4           Air Asia      24/06/2019  Banglore       Delhi        BLR → DEL   \n",
       "\n",
       "  Dep_Time  Arrival_Time Duration Total_Stops              Additional_Info  \n",
       "0    17:30  04:25 07 Jun  10h 55m      1 stop                      No info  \n",
       "1    06:20         10:20       4h      1 stop                      No info  \n",
       "2    19:15  19:00 22 May  23h 45m      1 stop  In-flight meal not included  \n",
       "3    08:00         21:00      13h      1 stop                      No info  \n",
       "4    23:55  02:45 25 Jun   2h 50m    non-stop                      No info  "
      ]
     },
     "execution_count": 14,
     "metadata": {},
     "output_type": "execute_result"
    }
   ],
   "source": [
    "# Showing 5 raws of test data:\n",
    "test_df.head()"
   ]
  },
  {
   "cell_type": "code",
   "execution_count": 15,
   "id": "26d2c67b",
   "metadata": {},
   "outputs": [
    {
     "data": {
      "text/plain": [
       "(10683, 11)"
      ]
     },
     "execution_count": 15,
     "metadata": {},
     "output_type": "execute_result"
    }
   ],
   "source": [
    "# Here checking train data shape:\n",
    "train_df.shape"
   ]
  },
  {
   "cell_type": "code",
   "execution_count": 16,
   "id": "6f45af7e",
   "metadata": {},
   "outputs": [
    {
     "data": {
      "text/plain": [
       "(2671, 10)"
      ]
     },
     "execution_count": 16,
     "metadata": {},
     "output_type": "execute_result"
    }
   ],
   "source": [
    "# Here checking test data shape:\n",
    "test_df.shape"
   ]
  },
  {
   "cell_type": "code",
   "execution_count": 17,
   "id": "9025b85a",
   "metadata": {},
   "outputs": [
    {
     "data": {
      "text/plain": [
       "Index(['Airline', 'Date_of_Journey', 'Source', 'Destination', 'Route',\n",
       "       'Dep_Time', 'Arrival_Time', 'Duration', 'Total_Stops',\n",
       "       'Additional_Info', 'Price'],\n",
       "      dtype='object')"
      ]
     },
     "execution_count": 17,
     "metadata": {},
     "output_type": "execute_result"
    }
   ],
   "source": [
    "# Here checking columns name of train data set:\n",
    "train_df.columns"
   ]
  },
  {
   "cell_type": "code",
   "execution_count": 18,
   "id": "2e71e2b5",
   "metadata": {},
   "outputs": [
    {
     "data": {
      "text/plain": [
       "Index(['Airline', 'Date_of_Journey', 'Source', 'Destination', 'Route',\n",
       "       'Dep_Time', 'Arrival_Time', 'Duration', 'Total_Stops',\n",
       "       'Additional_Info'],\n",
       "      dtype='object')"
      ]
     },
     "execution_count": 18,
     "metadata": {},
     "output_type": "execute_result"
    }
   ],
   "source": [
    "# Here checking columns name of test data set:\n",
    "test_df.columns"
   ]
  },
  {
   "cell_type": "code",
   "execution_count": 19,
   "id": "3a45db26",
   "metadata": {},
   "outputs": [
    {
     "name": "stdout",
     "output_type": "stream",
     "text": [
      "<class 'pandas.core.frame.DataFrame'>\n",
      "RangeIndex: 10683 entries, 0 to 10682\n",
      "Data columns (total 11 columns):\n",
      " #   Column           Non-Null Count  Dtype \n",
      "---  ------           --------------  ----- \n",
      " 0   Airline          10683 non-null  object\n",
      " 1   Date_of_Journey  10683 non-null  object\n",
      " 2   Source           10683 non-null  object\n",
      " 3   Destination      10683 non-null  object\n",
      " 4   Route            10682 non-null  object\n",
      " 5   Dep_Time         10683 non-null  object\n",
      " 6   Arrival_Time     10683 non-null  object\n",
      " 7   Duration         10683 non-null  object\n",
      " 8   Total_Stops      10682 non-null  object\n",
      " 9   Additional_Info  10683 non-null  object\n",
      " 10  Price            10683 non-null  int64 \n",
      "dtypes: int64(1), object(10)\n",
      "memory usage: 918.2+ KB\n"
     ]
    }
   ],
   "source": [
    "# Here infromation about full Train data:\n",
    "train_df.info()"
   ]
  },
  {
   "cell_type": "code",
   "execution_count": 20,
   "id": "3be1bd89",
   "metadata": {},
   "outputs": [
    {
     "name": "stdout",
     "output_type": "stream",
     "text": [
      "<class 'pandas.core.frame.DataFrame'>\n",
      "RangeIndex: 2671 entries, 0 to 2670\n",
      "Data columns (total 10 columns):\n",
      " #   Column           Non-Null Count  Dtype \n",
      "---  ------           --------------  ----- \n",
      " 0   Airline          2671 non-null   object\n",
      " 1   Date_of_Journey  2671 non-null   object\n",
      " 2   Source           2671 non-null   object\n",
      " 3   Destination      2671 non-null   object\n",
      " 4   Route            2671 non-null   object\n",
      " 5   Dep_Time         2671 non-null   object\n",
      " 6   Arrival_Time     2671 non-null   object\n",
      " 7   Duration         2671 non-null   object\n",
      " 8   Total_Stops      2671 non-null   object\n",
      " 9   Additional_Info  2671 non-null   object\n",
      "dtypes: object(10)\n",
      "memory usage: 208.8+ KB\n"
     ]
    }
   ],
   "source": [
    "# Here infromation about full Train data:\n",
    "test_df.info()"
   ]
  },
  {
   "cell_type": "code",
   "execution_count": 21,
   "id": "436f4369",
   "metadata": {},
   "outputs": [
    {
     "data": {
      "text/plain": [
       "Airline            0\n",
       "Date_of_Journey    0\n",
       "Source             0\n",
       "Destination        0\n",
       "Route              1\n",
       "Dep_Time           0\n",
       "Arrival_Time       0\n",
       "Duration           0\n",
       "Total_Stops        1\n",
       "Additional_Info    0\n",
       "Price              0\n",
       "dtype: int64"
      ]
     },
     "execution_count": 21,
     "metadata": {},
     "output_type": "execute_result"
    }
   ],
   "source": [
    "# Checking missing values of train data:\n",
    "train_df.isnull().sum()"
   ]
  },
  {
   "cell_type": "code",
   "execution_count": 22,
   "id": "341eb013",
   "metadata": {},
   "outputs": [
    {
     "data": {
      "text/plain": [
       "Airline            0\n",
       "Date_of_Journey    0\n",
       "Source             0\n",
       "Destination        0\n",
       "Route              0\n",
       "Dep_Time           0\n",
       "Arrival_Time       0\n",
       "Duration           0\n",
       "Total_Stops        0\n",
       "Additional_Info    0\n",
       "dtype: int64"
      ]
     },
     "execution_count": 22,
     "metadata": {},
     "output_type": "execute_result"
    }
   ],
   "source": [
    "# Checking missing values of test data:\n",
    "test_df.isnull().sum()"
   ]
  },
  {
   "cell_type": "code",
   "execution_count": 23,
   "id": "1b4d38af",
   "metadata": {},
   "outputs": [
    {
     "data": {
      "text/plain": [
       "<AxesSubplot:>"
      ]
     },
     "execution_count": 23,
     "metadata": {},
     "output_type": "execute_result"
    },
    {
     "data": {
      "image/png": "[encoded data removed]",
      "text/plain": [
       "<Figure size 432x288 with 2 Axes>"
      ]
     },
     "metadata": {
      "needs_background": "light"
     },
     "output_type": "display_data"
    }
   ],
   "source": [
    "# Checking for null values of train data using heatmap:\n",
    "sns.heatmap(train_df.isnull())"
   ]
  },
  {
   "cell_type": "code",
   "execution_count": 24,
   "id": "7efad882",
   "metadata": {},
   "outputs": [
    {
     "data": {
      "text/plain": [
       "<AxesSubplot:>"
      ]
     },
     "execution_count": 24,
     "metadata": {},
     "output_type": "execute_result"
    },
    {
     "data": {
      "image/png": "[encoded data removed]",
      "text/plain": [
       "<Figure size 432x288 with 2 Axes>"
      ]
     },
     "metadata": {
      "needs_background": "light"
     },
     "output_type": "display_data"
    }
   ],
   "source": [
    "# Checking for null values of test data using heatmap:\n",
    "sns.heatmap(test_df.isnull())"
   ]
  },
  {
   "cell_type": "code",
   "execution_count": 25,
   "id": "ea1e8e97",
   "metadata": {},
   "outputs": [
    {
     "data": {
      "text/plain": [
       "Airline            object\n",
       "Date_of_Journey    object\n",
       "Source             object\n",
       "Destination        object\n",
       "Route              object\n",
       "Dep_Time           object\n",
       "Arrival_Time       object\n",
       "Duration           object\n",
       "Total_Stops        object\n",
       "Additional_Info    object\n",
       "Price               int64\n",
       "dtype: object"
      ]
     },
     "execution_count": 25,
     "metadata": {},
     "output_type": "execute_result"
    }
   ],
   "source": [
    "# Checking datatypes of train dataset columns:\n",
    "train_df.dtypes"
   ]
  },
  {
   "cell_type": "code",
   "execution_count": 26,
   "id": "54da82ba",
   "metadata": {},
   "outputs": [
    {
     "data": {
      "text/plain": [
       "Airline            object\n",
       "Date_of_Journey    object\n",
       "Source             object\n",
       "Destination        object\n",
       "Route              object\n",
       "Dep_Time           object\n",
       "Arrival_Time       object\n",
       "Duration           object\n",
       "Total_Stops        object\n",
       "Additional_Info    object\n",
       "dtype: object"
      ]
     },
     "execution_count": 26,
     "metadata": {},
     "output_type": "execute_result"
    }
   ],
   "source": [
    "# Checking datatypes of test dataset columns:\n",
    "test_df.dtypes"
   ]
  },
  {
   "cell_type": "code",
   "execution_count": 27,
   "id": "9770e4c9",
   "metadata": {},
   "outputs": [],
   "source": [
    "# Dropping NAN values:\n",
    "train_df.dropna(inplace = True)"
   ]
  },
  {
   "cell_type": "code",
   "execution_count": 28,
   "id": "723e07c9",
   "metadata": {},
   "outputs": [
    {
     "data": {
      "text/plain": [
       "Airline            0\n",
       "Date_of_Journey    0\n",
       "Source             0\n",
       "Destination        0\n",
       "Route              0\n",
       "Dep_Time           0\n",
       "Arrival_Time       0\n",
       "Duration           0\n",
       "Total_Stops        0\n",
       "Additional_Info    0\n",
       "Price              0\n",
       "dtype: int64"
      ]
     },
     "execution_count": 28,
     "metadata": {},
     "output_type": "execute_result"
    }
   ],
   "source": [
    "# Checking sum null values:\n",
    "train_df.isna().sum()"
   ]
  },
  {
   "cell_type": "code",
   "execution_count": 29,
   "id": "b6023a1f",
   "metadata": {},
   "outputs": [
    {
     "data": {
      "text/html": [
       "<div>\n",
       "<style scoped>\n",
       "    .dataframe tbody tr th:only-of-type {\n",
       "        vertical-align: middle;\n",
       "    }\n",
       "\n",
       "    .dataframe tbody tr th {\n",
       "        vertical-align: top;\n",
       "    }\n",
       "\n",
       "    .dataframe thead th {\n",
       "        text-align: right;\n",
       "    }\n",
       "</style>\n",
       "<table border=\"1\" class=\"dataframe\">\n",
       "  <thead>\n",
       "    <tr style=\"text-align: right;\">\n",
       "      <th></th>\n",
       "      <th>Airline</th>\n",
       "      <th>Date_of_Journey</th>\n",
       "      <th>Source</th>\n",
       "      <th>Destination</th>\n",
       "      <th>Route</th>\n",
       "      <th>Dep_Time</th>\n",
       "      <th>Arrival_Time</th>\n",
       "      <th>Duration</th>\n",
       "      <th>Total_Stops</th>\n",
       "      <th>Additional_Info</th>\n",
       "      <th>Price</th>\n",
       "    </tr>\n",
       "  </thead>\n",
       "  <tbody>\n",
       "    <tr>\n",
       "      <th>683</th>\n",
       "      <td>Jet Airways</td>\n",
       "      <td>1/06/2019</td>\n",
       "      <td>Delhi</td>\n",
       "      <td>Cochin</td>\n",
       "      <td>DEL → NAG → BOM → COK</td>\n",
       "      <td>14:35</td>\n",
       "      <td>04:25 02 Jun</td>\n",
       "      <td>13h 50m</td>\n",
       "      <td>2 stops</td>\n",
       "      <td>No info</td>\n",
       "      <td>13376</td>\n",
       "    </tr>\n",
       "    <tr>\n",
       "      <th>1061</th>\n",
       "      <td>Air India</td>\n",
       "      <td>21/05/2019</td>\n",
       "      <td>Delhi</td>\n",
       "      <td>Cochin</td>\n",
       "      <td>DEL → GOI → BOM → COK</td>\n",
       "      <td>22:00</td>\n",
       "      <td>19:15 22 May</td>\n",
       "      <td>21h 15m</td>\n",
       "      <td>2 stops</td>\n",
       "      <td>No info</td>\n",
       "      <td>10231</td>\n",
       "    </tr>\n",
       "    <tr>\n",
       "      <th>1348</th>\n",
       "      <td>Air India</td>\n",
       "      <td>18/05/2019</td>\n",
       "      <td>Delhi</td>\n",
       "      <td>Cochin</td>\n",
       "      <td>DEL → HYD → BOM → COK</td>\n",
       "      <td>17:15</td>\n",
       "      <td>19:15 19 May</td>\n",
       "      <td>26h</td>\n",
       "      <td>2 stops</td>\n",
       "      <td>No info</td>\n",
       "      <td>12392</td>\n",
       "    </tr>\n",
       "    <tr>\n",
       "      <th>1418</th>\n",
       "      <td>Jet Airways</td>\n",
       "      <td>6/06/2019</td>\n",
       "      <td>Delhi</td>\n",
       "      <td>Cochin</td>\n",
       "      <td>DEL → JAI → BOM → COK</td>\n",
       "      <td>05:30</td>\n",
       "      <td>04:25 07 Jun</td>\n",
       "      <td>22h 55m</td>\n",
       "      <td>2 stops</td>\n",
       "      <td>In-flight meal not included</td>\n",
       "      <td>10368</td>\n",
       "    </tr>\n",
       "    <tr>\n",
       "      <th>1674</th>\n",
       "      <td>IndiGo</td>\n",
       "      <td>24/03/2019</td>\n",
       "      <td>Banglore</td>\n",
       "      <td>New Delhi</td>\n",
       "      <td>BLR → DEL</td>\n",
       "      <td>18:25</td>\n",
       "      <td>21:20</td>\n",
       "      <td>2h 55m</td>\n",
       "      <td>non-stop</td>\n",
       "      <td>No info</td>\n",
       "      <td>7303</td>\n",
       "    </tr>\n",
       "  </tbody>\n",
       "</table>\n",
       "</div>"
      ],
      "text/plain": [
       "          Airline Date_of_Journey    Source Destination  \\\n",
       "683   Jet Airways       1/06/2019     Delhi      Cochin   \n",
       "1061    Air India      21/05/2019     Delhi      Cochin   \n",
       "1348    Air India      18/05/2019     Delhi      Cochin   \n",
       "1418  Jet Airways       6/06/2019     Delhi      Cochin   \n",
       "1674       IndiGo      24/03/2019  Banglore   New Delhi   \n",
       "\n",
       "                      Route Dep_Time  Arrival_Time Duration Total_Stops  \\\n",
       "683   DEL → NAG → BOM → COK    14:35  04:25 02 Jun  13h 50m     2 stops   \n",
       "1061  DEL → GOI → BOM → COK    22:00  19:15 22 May  21h 15m     2 stops   \n",
       "1348  DEL → HYD → BOM → COK    17:15  19:15 19 May      26h     2 stops   \n",
       "1418  DEL → JAI → BOM → COK    05:30  04:25 07 Jun  22h 55m     2 stops   \n",
       "1674              BLR → DEL    18:25         21:20   2h 55m    non-stop   \n",
       "\n",
       "                  Additional_Info  Price  \n",
       "683                       No info  13376  \n",
       "1061                      No info  10231  \n",
       "1348                      No info  12392  \n",
       "1418  In-flight meal not included  10368  \n",
       "1674                      No info   7303  "
      ]
     },
     "execution_count": 29,
     "metadata": {},
     "output_type": "execute_result"
    }
   ],
   "source": [
    "# Checking Duplicate values of tarin data:\n",
    "train_df[train_df.duplicated()].head()"
   ]
  },
  {
   "cell_type": "code",
   "execution_count": 30,
   "id": "3de87413",
   "metadata": {},
   "outputs": [
    {
     "data": {
      "text/html": [
       "<div>\n",
       "<style scoped>\n",
       "    .dataframe tbody tr th:only-of-type {\n",
       "        vertical-align: middle;\n",
       "    }\n",
       "\n",
       "    .dataframe tbody tr th {\n",
       "        vertical-align: top;\n",
       "    }\n",
       "\n",
       "    .dataframe thead th {\n",
       "        text-align: right;\n",
       "    }\n",
       "</style>\n",
       "<table border=\"1\" class=\"dataframe\">\n",
       "  <thead>\n",
       "    <tr style=\"text-align: right;\">\n",
       "      <th></th>\n",
       "      <th>Airline</th>\n",
       "      <th>Date_of_Journey</th>\n",
       "      <th>Source</th>\n",
       "      <th>Destination</th>\n",
       "      <th>Route</th>\n",
       "      <th>Dep_Time</th>\n",
       "      <th>Arrival_Time</th>\n",
       "      <th>Duration</th>\n",
       "      <th>Total_Stops</th>\n",
       "      <th>Additional_Info</th>\n",
       "      <th>Price</th>\n",
       "    </tr>\n",
       "  </thead>\n",
       "  <tbody>\n",
       "    <tr>\n",
       "      <th>0</th>\n",
       "      <td>IndiGo</td>\n",
       "      <td>24/03/2019</td>\n",
       "      <td>Banglore</td>\n",
       "      <td>New Delhi</td>\n",
       "      <td>BLR → DEL</td>\n",
       "      <td>22:20</td>\n",
       "      <td>01:10 22 Mar</td>\n",
       "      <td>2h 50m</td>\n",
       "      <td>non-stop</td>\n",
       "      <td>No info</td>\n",
       "      <td>3897</td>\n",
       "    </tr>\n",
       "    <tr>\n",
       "      <th>1</th>\n",
       "      <td>Air India</td>\n",
       "      <td>1/05/2019</td>\n",
       "      <td>Kolkata</td>\n",
       "      <td>Banglore</td>\n",
       "      <td>CCU → IXR → BBI → BLR</td>\n",
       "      <td>05:50</td>\n",
       "      <td>13:15</td>\n",
       "      <td>7h 25m</td>\n",
       "      <td>2 stops</td>\n",
       "      <td>No info</td>\n",
       "      <td>7662</td>\n",
       "    </tr>\n",
       "    <tr>\n",
       "      <th>2</th>\n",
       "      <td>Jet Airways</td>\n",
       "      <td>9/06/2019</td>\n",
       "      <td>Delhi</td>\n",
       "      <td>Cochin</td>\n",
       "      <td>DEL → LKO → BOM → COK</td>\n",
       "      <td>09:25</td>\n",
       "      <td>04:25 10 Jun</td>\n",
       "      <td>19h</td>\n",
       "      <td>2 stops</td>\n",
       "      <td>No info</td>\n",
       "      <td>13882</td>\n",
       "    </tr>\n",
       "    <tr>\n",
       "      <th>3</th>\n",
       "      <td>IndiGo</td>\n",
       "      <td>12/05/2019</td>\n",
       "      <td>Kolkata</td>\n",
       "      <td>Banglore</td>\n",
       "      <td>CCU → NAG → BLR</td>\n",
       "      <td>18:05</td>\n",
       "      <td>23:30</td>\n",
       "      <td>5h 25m</td>\n",
       "      <td>1 stop</td>\n",
       "      <td>No info</td>\n",
       "      <td>6218</td>\n",
       "    </tr>\n",
       "    <tr>\n",
       "      <th>4</th>\n",
       "      <td>IndiGo</td>\n",
       "      <td>01/03/2019</td>\n",
       "      <td>Banglore</td>\n",
       "      <td>New Delhi</td>\n",
       "      <td>BLR → NAG → DEL</td>\n",
       "      <td>16:50</td>\n",
       "      <td>21:35</td>\n",
       "      <td>4h 45m</td>\n",
       "      <td>1 stop</td>\n",
       "      <td>No info</td>\n",
       "      <td>13302</td>\n",
       "    </tr>\n",
       "  </tbody>\n",
       "</table>\n",
       "</div>"
      ],
      "text/plain": [
       "       Airline Date_of_Journey    Source Destination                  Route  \\\n",
       "0       IndiGo      24/03/2019  Banglore   New Delhi              BLR → DEL   \n",
       "1    Air India       1/05/2019   Kolkata    Banglore  CCU → IXR → BBI → BLR   \n",
       "2  Jet Airways       9/06/2019     Delhi      Cochin  DEL → LKO → BOM → COK   \n",
       "3       IndiGo      12/05/2019   Kolkata    Banglore        CCU → NAG → BLR   \n",
       "4       IndiGo      01/03/2019  Banglore   New Delhi        BLR → NAG → DEL   \n",
       "\n",
       "  Dep_Time  Arrival_Time Duration Total_Stops Additional_Info  Price  \n",
       "0    22:20  01:10 22 Mar   2h 50m    non-stop         No info   3897  \n",
       "1    05:50         13:15   7h 25m     2 stops         No info   7662  \n",
       "2    09:25  04:25 10 Jun      19h     2 stops         No info  13882  \n",
       "3    18:05         23:30   5h 25m      1 stop         No info   6218  \n",
       "4    16:50         21:35   4h 45m      1 stop         No info  13302  "
      ]
     },
     "execution_count": 30,
     "metadata": {},
     "output_type": "execute_result"
    }
   ],
   "source": [
    "train_df.drop_duplicates(keep='first',inplace=True)\n",
    "train_df.head()"
   ]
  },
  {
   "cell_type": "code",
   "execution_count": 31,
   "id": "8416a607",
   "metadata": {},
   "outputs": [
    {
     "data": {
      "text/plain": [
       "(10462, 11)"
      ]
     },
     "execution_count": 31,
     "metadata": {},
     "output_type": "execute_result"
    }
   ],
   "source": [
    "# Here checking train data shape:\n",
    "train_df.shape"
   ]
  },
  {
   "cell_type": "code",
   "execution_count": 32,
   "id": "7d50bb63",
   "metadata": {},
   "outputs": [
    {
     "name": "stdout",
     "output_type": "stream",
     "text": [
      "Airline : ['IndiGo' 'Air India' 'Jet Airways' 'SpiceJet' 'Multiple carriers' 'GoAir'\n",
      " 'Vistara' 'Air Asia' 'Vistara Premium economy' 'Jet Airways Business'\n",
      " 'Multiple carriers Premium economy' 'Trujet']\n",
      "Jet Airways                          3700\n",
      "IndiGo                               2043\n",
      "Air India                            1694\n",
      "Multiple carriers                    1196\n",
      "SpiceJet                              815\n",
      "Vistara                               478\n",
      "Air Asia                              319\n",
      "GoAir                                 194\n",
      "Multiple carriers Premium economy      13\n",
      "Jet Airways Business                    6\n",
      "Vistara Premium economy                 3\n",
      "Trujet                                  1\n",
      "Name: Airline, dtype: int64\n",
      "____________________________________________\n",
      "Date_of_Journey : ['24/03/2019' '1/05/2019' '9/06/2019' '12/05/2019' '01/03/2019'\n",
      " '24/06/2019' '12/03/2019' '27/05/2019' '1/06/2019' '18/04/2019'\n",
      " '9/05/2019' '24/04/2019' '3/03/2019' '15/04/2019' '12/06/2019'\n",
      " '6/03/2019' '21/03/2019' '3/04/2019' '6/05/2019' '15/05/2019'\n",
      " '18/06/2019' '15/06/2019' '6/04/2019' '18/05/2019' '27/06/2019'\n",
      " '21/05/2019' '06/03/2019' '3/06/2019' '15/03/2019' '3/05/2019'\n",
      " '9/03/2019' '6/06/2019' '24/05/2019' '09/03/2019' '1/04/2019'\n",
      " '21/04/2019' '21/06/2019' '27/03/2019' '18/03/2019' '12/04/2019'\n",
      " '9/04/2019' '1/03/2019' '03/03/2019' '27/04/2019']\n",
      "6/06/2019     490\n",
      "18/05/2019    486\n",
      "9/06/2019     485\n",
      "12/06/2019    483\n",
      "21/05/2019    482\n",
      "9/05/2019     466\n",
      "21/03/2019    412\n",
      "15/05/2019    402\n",
      "27/05/2019    369\n",
      "27/06/2019    339\n",
      "24/06/2019    330\n",
      "1/06/2019     330\n",
      "3/06/2019     326\n",
      "15/06/2019    314\n",
      "24/03/2019    314\n",
      "6/03/2019     302\n",
      "27/03/2019    290\n",
      "24/05/2019    286\n",
      "6/05/2019     281\n",
      "1/05/2019     274\n",
      "12/05/2019    259\n",
      "1/04/2019     256\n",
      "3/03/2019     217\n",
      "9/03/2019     199\n",
      "15/03/2019    162\n",
      "18/03/2019    156\n",
      "01/03/2019    151\n",
      "12/03/2019    141\n",
      "9/04/2019     125\n",
      "3/04/2019     110\n",
      "21/06/2019    109\n",
      "18/06/2019    105\n",
      "09/03/2019    100\n",
      "6/04/2019     100\n",
      "06/03/2019     95\n",
      "27/04/2019     94\n",
      "24/04/2019     92\n",
      "03/03/2019     92\n",
      "3/05/2019      90\n",
      "15/04/2019     89\n",
      "21/04/2019     82\n",
      "18/04/2019     67\n",
      "12/04/2019     63\n",
      "1/03/2019      47\n",
      "Name: Date_of_Journey, dtype: int64\n",
      "____________________________________________\n",
      "Source : ['Banglore' 'Kolkata' 'Delhi' 'Chennai' 'Mumbai']\n",
      "Delhi       4345\n",
      "Kolkata     2860\n",
      "Banglore    2179\n",
      "Mumbai       697\n",
      "Chennai      381\n",
      "Name: Source, dtype: int64\n",
      "____________________________________________\n",
      "Destination : ['New Delhi' 'Banglore' 'Cochin' 'Kolkata' 'Delhi' 'Hyderabad']\n",
      "Cochin       4345\n",
      "Banglore     2860\n",
      "Delhi        1265\n",
      "New Delhi     914\n",
      "Hyderabad     697\n",
      "Kolkata       381\n",
      "Name: Destination, dtype: int64\n",
      "____________________________________________\n",
      "Route : ['BLR → DEL' 'CCU → IXR → BBI → BLR' 'DEL → LKO → BOM → COK'\n",
      " 'CCU → NAG → BLR' 'BLR → NAG → DEL' 'CCU → BLR' 'BLR → BOM → DEL'\n",
      " 'DEL → BOM → COK' 'DEL → BLR → COK' 'MAA → CCU' 'CCU → BOM → BLR'\n",
      " 'DEL → AMD → BOM → COK' 'DEL → PNQ → COK' 'DEL → CCU → BOM → COK'\n",
      " 'BLR → COK → DEL' 'DEL → IDR → BOM → COK' 'DEL → LKO → COK'\n",
      " 'CCU → GAU → DEL → BLR' 'DEL → NAG → BOM → COK' 'CCU → MAA → BLR'\n",
      " 'DEL → HYD → COK' 'CCU → HYD → BLR' 'DEL → COK' 'CCU → DEL → BLR'\n",
      " 'BLR → BOM → AMD → DEL' 'BOM → DEL → HYD' 'DEL → MAA → COK' 'BOM → HYD'\n",
      " 'DEL → BHO → BOM → COK' 'DEL → JAI → BOM → COK' 'DEL → ATQ → BOM → COK'\n",
      " 'DEL → JDH → BOM → COK' 'CCU → BBI → BOM → BLR' 'BLR → MAA → DEL'\n",
      " 'DEL → GOI → BOM → COK' 'DEL → BDQ → BOM → COK' 'CCU → JAI → BOM → BLR'\n",
      " 'CCU → BBI → BLR' 'BLR → HYD → DEL' 'DEL → TRV → COK'\n",
      " 'CCU → IXR → DEL → BLR' 'DEL → IXU → BOM → COK' 'CCU → IXB → BLR'\n",
      " 'BLR → BOM → JDH → DEL' 'DEL → UDR → BOM → COK' 'DEL → HYD → MAA → COK'\n",
      " 'CCU → BOM → COK → BLR' 'BLR → CCU → DEL' 'CCU → BOM → GOI → BLR'\n",
      " 'DEL → RPR → NAG → BOM → COK' 'DEL → HYD → BOM → COK'\n",
      " 'CCU → DEL → AMD → BLR' 'CCU → PNQ → BLR' 'BLR → CCU → GAU → DEL'\n",
      " 'CCU → DEL → COK → BLR' 'BLR → PNQ → DEL' 'BOM → JDH → DEL → HYD'\n",
      " 'BLR → BOM → BHO → DEL' 'DEL → AMD → COK' 'BLR → LKO → DEL'\n",
      " 'CCU → GAU → BLR' 'BOM → GOI → HYD' 'CCU → BOM → AMD → BLR'\n",
      " 'CCU → BBI → IXR → DEL → BLR' 'DEL → DED → BOM → COK'\n",
      " 'DEL → MAA → BOM → COK' 'BLR → AMD → DEL' 'BLR → VGA → DEL'\n",
      " 'CCU → JAI → DEL → BLR' 'CCU → AMD → BLR' 'CCU → VNS → DEL → BLR'\n",
      " 'BLR → BOM → IDR → DEL' 'BLR → BBI → DEL' 'BLR → GOI → DEL'\n",
      " 'BOM → AMD → ISK → HYD' 'BOM → DED → DEL → HYD' 'DEL → IXC → BOM → COK'\n",
      " 'CCU → PAT → BLR' 'BLR → CCU → BBI → DEL' 'CCU → BBI → HYD → BLR'\n",
      " 'BLR → BOM → NAG → DEL' 'BLR → CCU → BBI → HYD → DEL' 'BLR → GAU → DEL'\n",
      " 'BOM → BHO → DEL → HYD' 'BOM → JLR → HYD' 'BLR → HYD → VGA → DEL'\n",
      " 'CCU → KNU → BLR' 'CCU → BOM → PNQ → BLR' 'DEL → BBI → COK'\n",
      " 'BLR → VGA → HYD → DEL' 'BOM → JDH → JAI → DEL → HYD'\n",
      " 'DEL → GWL → IDR → BOM → COK' 'CCU → RPR → HYD → BLR' 'CCU → VTZ → BLR'\n",
      " 'CCU → DEL → VGA → BLR' 'BLR → BOM → IDR → GWL → DEL'\n",
      " 'CCU → DEL → COK → TRV → BLR' 'BOM → COK → MAA → HYD' 'BOM → NDC → HYD'\n",
      " 'BLR → BDQ → DEL' 'CCU → BOM → TRV → BLR' 'CCU → BOM → HBX → BLR'\n",
      " 'BOM → BDQ → DEL → HYD' 'BOM → CCU → HYD' 'BLR → TRV → COK → DEL'\n",
      " 'BLR → IDR → DEL' 'CCU → IXZ → MAA → BLR' 'CCU → GAU → IMF → DEL → BLR'\n",
      " 'BOM → GOI → PNQ → HYD' 'BOM → BLR → CCU → BBI → HYD' 'BOM → MAA → HYD'\n",
      " 'BLR → BOM → UDR → DEL' 'BOM → UDR → DEL → HYD' 'BLR → VGA → VTZ → DEL'\n",
      " 'BLR → HBX → BOM → BHO → DEL' 'CCU → IXA → BLR' 'BOM → RPR → VTZ → HYD'\n",
      " 'BLR → HBX → BOM → AMD → DEL' 'BOM → IDR → DEL → HYD' 'BOM → BLR → HYD'\n",
      " 'BLR → STV → DEL' 'CCU → IXB → DEL → BLR' 'BOM → JAI → DEL → HYD'\n",
      " 'BOM → VNS → DEL → HYD' 'BLR → HBX → BOM → NAG → DEL'\n",
      " 'BLR → BOM → IXC → DEL' 'BLR → CCU → BBI → HYD → VGA → DEL'\n",
      " 'BOM → BBI → HYD']\n",
      "DEL → BOM → COK          2376\n",
      "BLR → DEL                1536\n",
      "CCU → BOM → BLR           979\n",
      "CCU → BLR                 724\n",
      "BOM → HYD                 621\n",
      "                         ... \n",
      "CCU → VTZ → BLR             1\n",
      "CCU → IXZ → MAA → BLR       1\n",
      "BOM → COK → MAA → HYD       1\n",
      "BOM → CCU → HYD             1\n",
      "BOM → BBI → HYD             1\n",
      "Name: Route, Length: 128, dtype: int64\n",
      "____________________________________________\n",
      "Dep_Time : ['22:20' '05:50' '09:25' '18:05' '16:50' '09:00' '18:55' '08:00' '08:55'\n",
      " '11:25' '09:45' '20:20' '11:40' '21:10' '17:15' '16:40' '08:45' '14:00'\n",
      " '20:15' '16:00' '14:10' '22:00' '04:00' '21:25' '21:50' '07:00' '07:05'\n",
      " '09:50' '14:35' '10:35' '15:05' '14:15' '06:45' '20:55' '11:10' '05:45'\n",
      " '19:00' '23:05' '11:00' '09:35' '21:15' '23:55' '19:45' '08:50' '15:40'\n",
      " '06:05' '15:00' '13:55' '05:55' '13:20' '05:05' '06:25' '17:30' '08:20'\n",
      " '19:55' '06:30' '14:05' '02:00' '09:40' '08:25' '20:25' '13:15' '02:15'\n",
      " '16:55' '20:45' '05:15' '19:50' '20:00' '06:10' '19:30' '04:45' '12:55'\n",
      " '18:15' '17:20' '15:25' '23:00' '12:00' '14:45' '11:50' '11:30' '14:40'\n",
      " '19:10' '06:00' '23:30' '07:35' '13:05' '12:30' '15:10' '12:50' '18:25'\n",
      " '16:30' '00:40' '06:50' '13:00' '19:15' '01:30' '17:00' '10:00' '19:35'\n",
      " '15:30' '12:10' '16:10' '20:35' '22:25' '21:05' '05:35' '05:10' '06:40'\n",
      " '15:15' '00:30' '08:30' '07:10' '05:30' '14:25' '05:25' '10:20' '17:45'\n",
      " '13:10' '22:10' '04:55' '17:50' '21:20' '06:20' '15:55' '20:30' '17:25'\n",
      " '09:30' '07:30' '02:35' '10:55' '17:10' '09:10' '18:45' '15:20' '22:50'\n",
      " '14:55' '14:20' '13:25' '22:15' '11:05' '16:15' '20:10' '06:55' '19:05'\n",
      " '07:55' '07:45' '10:10' '08:15' '11:35' '21:00' '17:55' '16:45' '18:20'\n",
      " '03:50' '08:35' '19:20' '20:05' '17:40' '04:40' '17:35' '09:55' '05:00'\n",
      " '18:00' '02:55' '20:40' '22:55' '22:40' '21:30' '08:10' '17:05' '07:25'\n",
      " '15:45' '09:15' '15:50' '11:45' '22:05' '18:35' '00:25' '19:40' '20:50'\n",
      " '22:45' '10:30' '23:25' '11:55' '10:45' '11:15' '12:20' '14:30' '07:15'\n",
      " '01:35' '18:40' '09:20' '21:55' '13:50' '01:40' '00:20' '04:15' '13:45'\n",
      " '18:30' '06:15' '02:05' '12:15' '13:30' '06:35' '10:05' '08:40' '03:05'\n",
      " '21:35' '16:35' '02:30' '16:25' '05:40' '15:35' '13:40' '07:20' '04:50'\n",
      " '12:45' '10:25' '12:05' '11:20' '21:40' '03:00']\n",
      "18:55    233\n",
      "17:00    227\n",
      "07:05    202\n",
      "07:10    201\n",
      "10:00    196\n",
      "        ... \n",
      "22:25      1\n",
      "16:25      1\n",
      "21:35      1\n",
      "04:15      1\n",
      "03:00      1\n",
      "Name: Dep_Time, Length: 222, dtype: int64\n",
      "____________________________________________\n",
      "Arrival_Time : ['01:10 22 Mar' '13:15' '04:25 10 Jun' ... '06:50 10 Mar' '00:05 19 Mar'\n",
      " '21:20 13 Mar']\n",
      "19:00           412\n",
      "21:00           360\n",
      "19:15           333\n",
      "16:10           154\n",
      "12:35           122\n",
      "               ... \n",
      "00:50 04 May      1\n",
      "00:50 02 Jun      1\n",
      "00:25 02 Jun      1\n",
      "08:55 13 Mar      1\n",
      "21:20 13 Mar      1\n",
      "Name: Arrival_Time, Length: 1343, dtype: int64\n",
      "____________________________________________\n",
      "Duration : ['2h 50m' '7h 25m' '19h' '5h 25m' '4h 45m' '2h 25m' '15h 30m' '21h 5m'\n",
      " '25h 30m' '7h 50m' '13h 15m' '2h 35m' '2h 15m' '12h 10m' '26h 35m'\n",
      " '4h 30m' '22h 35m' '23h' '20h 35m' '5h 10m' '15h 20m' '2h 55m' '13h 20m'\n",
      " '15h 10m' '5h 45m' '5h 55m' '13h 25m' '22h' '5h 30m' '10h 25m' '5h 15m'\n",
      " '2h 30m' '6h 15m' '11h 55m' '11h 5m' '8h 30m' '22h 5m' '2h 45m' '12h'\n",
      " '16h 5m' '19h 55m' '3h 15m' '25h 20m' '3h' '16h 15m' '15h 5m' '6h 30m'\n",
      " '25h 5m' '12h 25m' '27h 20m' '10h 15m' '10h 30m' '1h 30m' '1h 25m'\n",
      " '26h 30m' '7h 20m' '13h 30m' '5h' '19h 5m' '14h 50m' '2h 40m' '22h 10m'\n",
      " '9h 35m' '10h' '21h 20m' '18h 45m' '12h 20m' '18h' '9h 15m' '17h 30m'\n",
      " '16h 35m' '12h 15m' '7h 30m' '24h' '8h 55m' '7h 10m' '14h 30m' '30h 20m'\n",
      " '15h' '12h 45m' '10h 10m' '15h 25m' '14h 5m' '20h 15m' '23h 10m'\n",
      " '18h 10m' '16h' '2h 20m' '8h' '16h 55m' '3h 10m' '14h' '23h 50m'\n",
      " '21h 40m' '21h 15m' '10h 50m' '8h 15m' '8h 35m' '11h 50m' '27h 35m'\n",
      " '8h 25m' '20h 55m' '4h 50m' '8h 10m' '24h 25m' '23h 35m' '25h 45m'\n",
      " '26h 10m' '28h 50m' '25h 15m' '9h 20m' '9h 10m' '3h 5m' '11h 30m'\n",
      " '9h 30m' '17h 35m' '5h 5m' '25h 50m' '20h' '13h' '18h 25m' '24h 10m'\n",
      " '4h 55m' '25h 35m' '6h 20m' '18h 40m' '19h 25m' '29h 20m' '9h 5m'\n",
      " '10h 45m' '11h 40m' '22h 55m' '37h 25m' '25h 40m' '13h 55m' '8h 40m'\n",
      " '23h 30m' '12h 35m' '24h 15m' '1h 20m' '11h' '11h 15m' '14h 35m'\n",
      " '12h 55m' '9h' '7h 40m' '11h 45m' '24h 55m' '17h 5m' '29h 55m' '22h 15m'\n",
      " '14h 40m' '7h 15m' '20h 10m' '20h 45m' '27h' '24h 30m' '20h 25m' '5h 35m'\n",
      " '14h 45m' '5h 40m' '4h 5m' '15h 55m' '7h 45m' '28h 20m' '4h 20m' '3h 40m'\n",
      " '8h 50m' '23h 45m' '24h 45m' '21h 35m' '8h 5m' '6h 25m' '15h 50m'\n",
      " '26h 25m' '24h 50m' '26h' '23h 5m' '7h 55m' '26h 20m' '23h 15m' '5h 20m'\n",
      " '4h' '9h 45m' '8h 20m' '17h 25m' '7h 5m' '34h 5m' '6h 5m' '5h 50m' '7h'\n",
      " '4h 25m' '13h 45m' '19h 15m' '22h 30m' '16h 25m' '13h 50m' '27h 5m'\n",
      " '28h 10m' '4h 40m' '15h 40m' '4h 35m' '18h 30m' '38h 15m' '6h 35m'\n",
      " '12h 30m' '11h 20m' '7h 35m' '29h 35m' '26h 55m' '23h 40m' '12h 50m'\n",
      " '9h 50m' '21h 55m' '10h 55m' '21h 10m' '20h 40m' '30h' '13h 10m' '8h 45m'\n",
      " '6h 10m' '17h 45m' '21h 45m' '3h 55m' '17h 20m' '30h 30m' '21h 25m'\n",
      " '12h 40m' '24h 35m' '19h 10m' '22h 40m' '14h 55m' '21h' '6h 45m'\n",
      " '28h 40m' '9h 40m' '16h 40m' '16h 20m' '16h 45m' '1h 15m' '6h 55m'\n",
      " '11h 25m' '14h 20m' '12h 5m' '24h 5m' '28h 15m' '17h 50m' '20h 20m'\n",
      " '28h 5m' '10h 20m' '14h 15m' '35h 15m' '35h 35m' '26h 40m' '28h'\n",
      " '14h 25m' '13h 5m' '37h 20m' '36h 10m' '25h 55m' '35h 5m' '19h 45m'\n",
      " '27h 55m' '47h' '10h 35m' '1h 35m' '16h 10m' '38h 20m' '6h' '16h 50m'\n",
      " '14h 10m' '23h 20m' '17h 40m' '11h 35m' '18h 20m' '6h 40m' '30h 55m'\n",
      " '24h 40m' '29h 50m' '28h 25m' '17h 15m' '22h 45m' '25h 25m' '21h 50m'\n",
      " '33h 15m' '30h 15m' '3h 35m' '27h 40m' '30h 25m' '18h 50m' '27h 45m'\n",
      " '15h 15m' '10h 40m' '26h 15m' '36h 25m' '26h 50m' '15h 45m' '19h 40m'\n",
      " '22h 25m' '19h 35m' '25h' '26h 45m' '38h' '4h 15m' '25h 10m' '18h 15m'\n",
      " '6h 50m' '23h 55m' '17h 55m' '23h 25m' '17h 10m' '24h 20m' '28h 30m'\n",
      " '27h 10m' '19h 20m' '15h 35m' '9h 25m' '21h 30m' '34h 25m' '18h 35m'\n",
      " '29h 40m' '26h 5m' '29h 5m' '27h 25m' '16h 30m' '11h 10m' '28h 55m'\n",
      " '29h 10m' '34h' '30h 40m' '30h 45m' '32h 55m' '10h 5m' '35h 20m' '32h 5m'\n",
      " '31h 40m' '19h 50m' '33h 45m' '30h 10m' '13h 40m' '19h 30m' '31h 30m'\n",
      " '34h 30m' '27h 50m' '38h 35m' '42h 5m' '4h 10m' '39h 5m' '3h 50m' '5m'\n",
      " '32h 30m' '31h 55m' '33h 20m' '27h 30m' '18h 55m' '9h 55m' '41h 20m'\n",
      " '20h 5m' '31h 50m' '42h 45m' '3h 25m' '37h 10m' '29h 30m' '32h 20m'\n",
      " '20h 50m' '40h 20m' '13h 35m' '47h 40m']\n",
      "2h 50m     544\n",
      "1h 30m     386\n",
      "2h 45m     335\n",
      "2h 55m     332\n",
      "2h 35m     329\n",
      "          ... \n",
      "30h 25m      1\n",
      "30h 15m      1\n",
      "42h 5m       1\n",
      "28h 55m      1\n",
      "47h 40m      1\n",
      "Name: Duration, Length: 368, dtype: int64\n",
      "____________________________________________\n",
      "Total_Stops : ['non-stop' '2 stops' '1 stop' '3 stops' '4 stops']\n",
      "1 stop      5625\n",
      "non-stop    3475\n",
      "2 stops     1318\n",
      "3 stops       43\n",
      "4 stops        1\n",
      "Name: Total_Stops, dtype: int64\n",
      "____________________________________________\n",
      "Additional_Info : ['No info' 'In-flight meal not included' 'No check-in baggage included'\n",
      " '1 Short layover' 'No Info' '1 Long layover' 'Change airports'\n",
      " 'Business class' 'Red-eye flight' '2 Long layover']\n",
      "No info                         8182\n",
      "In-flight meal not included     1926\n",
      "No check-in baggage included     318\n",
      "1 Long layover                    19\n",
      "Change airports                    7\n",
      "Business class                     4\n",
      "No Info                            3\n",
      "1 Short layover                    1\n",
      "Red-eye flight                     1\n",
      "2 Long layover                     1\n",
      "Name: Additional_Info, dtype: int64\n",
      "____________________________________________\n"
     ]
    }
   ],
   "source": [
    "# Print all of the data types and their unique values:\n",
    "for column in train_df.columns:\n",
    "    if train_df[column].dtype == object:\n",
    "        print(str(column) + ' : ' + str(train_df[column].unique()))\n",
    "        print(train_df[column].value_counts())\n",
    "        print('____________________________________________')"
   ]
  },
  {
   "cell_type": "markdown",
   "id": "6f343fc8",
   "metadata": {},
   "source": [
    "# Data Analysis and Visualization"
   ]
  },
  {
   "cell_type": "code",
   "execution_count": 33,
   "id": "6e0423dd",
   "metadata": {},
   "outputs": [
    {
     "data": {
      "text/html": [
       "<style type=\"text/css\">\n",
       "#T_0e6fa_row0_col0 {\n",
       "  background-color: #eee9f3;\n",
       "  color: #000000;\n",
       "}\n",
       "#T_0e6fa_row1_col0 {\n",
       "  background-color: #f1ebf5;\n",
       "  color: #000000;\n",
       "}\n",
       "#T_0e6fa_row2_col0 {\n",
       "  background-color: #faf2f8;\n",
       "  color: #000000;\n",
       "}\n",
       "#T_0e6fa_row3_col0 {\n",
       "  background-color: #fff7fb;\n",
       "  color: #000000;\n",
       "}\n",
       "#T_0e6fa_row4_col0 {\n",
       "  background-color: #f8f1f8;\n",
       "  color: #000000;\n",
       "}\n",
       "#T_0e6fa_row5_col0 {\n",
       "  background-color: #f2ecf5;\n",
       "  color: #000000;\n",
       "}\n",
       "#T_0e6fa_row6_col0 {\n",
       "  background-color: #eae6f1;\n",
       "  color: #000000;\n",
       "}\n",
       "#T_0e6fa_row7_col0 {\n",
       "  background-color: #023858;\n",
       "  color: #f1f1f1;\n",
       "}\n",
       "</style>\n",
       "<table id=\"T_0e6fa_\">\n",
       "  <thead>\n",
       "    <tr>\n",
       "      <th class=\"blank level0\" >&nbsp;</th>\n",
       "      <th class=\"col_heading level0 col0\" >Price</th>\n",
       "    </tr>\n",
       "  </thead>\n",
       "  <tbody>\n",
       "    <tr>\n",
       "      <th id=\"T_0e6fa_level0_row0\" class=\"row_heading level0 row0\" >count</th>\n",
       "      <td id=\"T_0e6fa_row0_col0\" class=\"data row0 col0\" >10462.000000</td>\n",
       "    </tr>\n",
       "    <tr>\n",
       "      <th id=\"T_0e6fa_level0_row1\" class=\"row_heading level0 row1\" >mean</th>\n",
       "      <td id=\"T_0e6fa_row1_col0\" class=\"data row1 col0\" >9026.790289</td>\n",
       "    </tr>\n",
       "    <tr>\n",
       "      <th id=\"T_0e6fa_level0_row2\" class=\"row_heading level0 row2\" >std</th>\n",
       "      <td id=\"T_0e6fa_row2_col0\" class=\"data row2 col0\" >4624.849541</td>\n",
       "    </tr>\n",
       "    <tr>\n",
       "      <th id=\"T_0e6fa_level0_row3\" class=\"row_heading level0 row3\" >min</th>\n",
       "      <td id=\"T_0e6fa_row3_col0\" class=\"data row3 col0\" >1759.000000</td>\n",
       "    </tr>\n",
       "    <tr>\n",
       "      <th id=\"T_0e6fa_level0_row4\" class=\"row_heading level0 row4\" >25%</th>\n",
       "      <td id=\"T_0e6fa_row4_col0\" class=\"data row4 col0\" >5224.000000</td>\n",
       "    </tr>\n",
       "    <tr>\n",
       "      <th id=\"T_0e6fa_level0_row5\" class=\"row_heading level0 row5\" >50%</th>\n",
       "      <td id=\"T_0e6fa_row5_col0\" class=\"data row5 col0\" >8266.000000</td>\n",
       "    </tr>\n",
       "    <tr>\n",
       "      <th id=\"T_0e6fa_level0_row6\" class=\"row_heading level0 row6\" >75%</th>\n",
       "      <td id=\"T_0e6fa_row6_col0\" class=\"data row6 col0\" >12344.750000</td>\n",
       "    </tr>\n",
       "    <tr>\n",
       "      <th id=\"T_0e6fa_level0_row7\" class=\"row_heading level0 row7\" >max</th>\n",
       "      <td id=\"T_0e6fa_row7_col0\" class=\"data row7 col0\" >79512.000000</td>\n",
       "    </tr>\n",
       "  </tbody>\n",
       "</table>\n"
      ],
      "text/plain": [
       "<pandas.io.formats.style.Styler at 0x1d78a0532e0>"
      ]
     },
     "execution_count": 33,
     "metadata": {},
     "output_type": "execute_result"
    }
   ],
   "source": [
    "# Summary statistics:\n",
    "train_df.describe().style.background_gradient()"
   ]
  },
  {
   "cell_type": "code",
   "execution_count": 26,
   "id": "c47f5f59",
   "metadata": {},
   "outputs": [
    {
     "data": {
      "image/png": "[encoded data removed]",
      "text/plain": [
       "<Figure size 864x432 with 1 Axes>"
      ]
     },
     "metadata": {
      "needs_background": "light"
     },
     "output_type": "display_data"
    }
   ],
   "source": [
    "# Here ploting Count of Airlines :\n",
    "plt.figure(figsize=(12,6))\n",
    "sns.countplot(train_df['Airline'], palette='Set2')\n",
    "plt.title('Count of Airlines', size=30)\n",
    "plt.xticks(rotation=90)\n",
    "plt.show()"
   ]
  },
  {
   "cell_type": "markdown",
   "id": "135d9a17",
   "metadata": {},
   "source": [
    "observation :- count of jet airways, indigo and air india airline is high. Travellars are likes this airlines for travelling."
   ]
  },
  {
   "cell_type": "code",
   "execution_count": 8,
   "id": "dae8562a",
   "metadata": {},
   "outputs": [
    {
     "data": {
      "image/png": "[encoded data removed]",
      "text/plain": [
       "<Figure size 864x432 with 1 Axes>"
      ]
     },
     "metadata": {
      "needs_background": "light"
     },
     "output_type": "display_data"
    }
   ],
   "source": [
    "# Here ploting Count of Source :\n",
    "plt.figure(figsize=(12,6))\n",
    "sns.countplot(train_df['Source'], palette='rainbow')\n",
    "plt.title('Count of Source', size=30)\n",
    "plt.xticks(rotation=90)\n",
    "plt.show()"
   ]
  },
  {
   "cell_type": "markdown",
   "id": "d57409a2",
   "metadata": {},
   "source": [
    "observation :- count of Delhi, Kolkata and Banglore city source is high then other city. Delhi is capital of india so obvious source of this city is high."
   ]
  },
  {
   "cell_type": "code",
   "execution_count": 28,
   "id": "e2f0ae9d",
   "metadata": {},
   "outputs": [
    {
     "data": {
      "image/png": "[encoded data removed]",
      "text/plain": [
       "<Figure size 864x432 with 1 Axes>"
      ]
     },
     "metadata": {
      "needs_background": "light"
     },
     "output_type": "display_data"
    }
   ],
   "source": [
    "# Here ploting Count of Source :\n",
    "plt.figure(figsize=(12,6))\n",
    "sns.countplot(train_df['Destination'], palette='coolwarm')\n",
    "plt.title('Count of Destination', size=30)\n",
    "plt.xticks(rotation=90)\n",
    "plt.show()"
   ]
  },
  {
   "cell_type": "markdown",
   "id": "9291be3c",
   "metadata": {},
   "source": [
    "observation :- count of Cochin and Banglore city destination is high then other city. All It sector releted and digital things releted banglore is first choice."
   ]
  },
  {
   "cell_type": "code",
   "execution_count": 29,
   "id": "09615309",
   "metadata": {},
   "outputs": [
    {
     "data": {
      "image/png": "[encoded data removed]",
      "text/plain": [
       "<Figure size 864x432 with 1 Axes>"
      ]
     },
     "metadata": {
      "needs_background": "light"
     },
     "output_type": "display_data"
    }
   ],
   "source": [
    "# Here ploting Count of Days :\n",
    "plt.figure(figsize=(12,6))\n",
    "sns.countplot(train_df['Date_of_Journey'], palette='Set3')\n",
    "plt.title('Count of Days', size=30)\n",
    "plt.xticks(rotation=90)\n",
    "plt.show()"
   ]
  },
  {
   "cell_type": "markdown",
   "id": "610a9d2a",
   "metadata": {},
   "source": [
    "Observation :-In this may and june month days are very much because of vacation time."
   ]
  },
  {
   "cell_type": "code",
   "execution_count": 30,
   "id": "fe6ee015",
   "metadata": {},
   "outputs": [
    {
     "data": {
      "image/png": "[encoded data removed]",
      "text/plain": [
       "<Figure size 864x432 with 1 Axes>"
      ]
     },
     "metadata": {
      "needs_background": "light"
     },
     "output_type": "display_data"
    }
   ],
   "source": [
    "# Here Plotting days vs price plot:\n",
    "plt.figure(figsize=(12,6))\n",
    "sns.barplot(train_df['Date_of_Journey'], train_df['Price'], palette='Set3')\n",
    "plt.title('Days vs Price', size=30)\n",
    "plt.xticks(rotation=90)\n",
    "plt.show()"
   ]
  },
  {
   "cell_type": "markdown",
   "id": "d0d1654c",
   "metadata": {},
   "source": [
    "Observation :-In this march month ticket price is high then other months."
   ]
  },
  {
   "cell_type": "code",
   "execution_count": 31,
   "id": "b2df327a",
   "metadata": {},
   "outputs": [
    {
     "data": {
      "image/png": "[encoded data removed]",
      "text/plain": [
       "<Figure size 864x432 with 1 Axes>"
      ]
     },
     "metadata": {
      "needs_background": "light"
     },
     "output_type": "display_data"
    }
   ],
   "source": [
    "# Here Plotting Price vs Airline plot:\n",
    "plt.figure(figsize=(12,6))\n",
    "sns.boxenplot(train_df['Airline'], train_df['Price'],palette='Set3')\n",
    "plt.title('Airlines vs Price', size=30)\n",
    "plt.xticks(rotation=90)\n",
    "plt.show()"
   ]
  },
  {
   "cell_type": "markdown",
   "id": "2ee2138f",
   "metadata": {},
   "source": [
    "Observation :-jet airways airline has outlier in this boxplot."
   ]
  },
  {
   "cell_type": "code",
   "execution_count": 32,
   "id": "a17ec93d",
   "metadata": {},
   "outputs": [
    {
     "data": {
      "image/png": "[encoded data removed]",
      "text/plain": [
       "<Figure size 864x864 with 9 Axes>"
      ]
     },
     "metadata": {
      "needs_background": "light"
     },
     "output_type": "display_data"
    }
   ],
   "source": [
    "# display histogram:\n",
    "train_df.hist(figsize=(12,12), layout=(3,3), sharex=False);"
   ]
  },
  {
   "cell_type": "code",
   "execution_count": 33,
   "id": "9a435547",
   "metadata": {},
   "outputs": [
    {
     "data": {
      "text/plain": [
       "<seaborn.axisgrid.PairGrid at 0x21e9ea90490>"
      ]
     },
     "execution_count": 33,
     "metadata": {},
     "output_type": "execute_result"
    },
    {
     "data": {
      "image/png": "[encoded data removed]",
      "text/plain": [
       "<Figure size 180x180 with 2 Axes>"
      ]
     },
     "metadata": {
      "needs_background": "light"
     },
     "output_type": "display_data"
    }
   ],
   "source": [
    "# display pairplot:\n",
    "sns.pairplot(train_df)"
   ]
  },
  {
   "cell_type": "code",
   "execution_count": 34,
   "id": "dd6b3803",
   "metadata": {},
   "outputs": [
    {
     "data": {
      "image/png": "[encoded data removed]",
      "text/plain": [
       "<Figure size 720x360 with 1 Axes>"
      ]
     },
     "metadata": {
      "needs_background": "light"
     },
     "output_type": "display_data"
    }
   ],
   "source": [
    "# Let's check desity plot:\n",
    "train_df.plot(kind='density', subplots=True, layout=(1,1), sharex=False, legend=True, fontsize=1, figsize=(10,5))\n",
    "plt.show()"
   ]
  },
  {
   "cell_type": "code",
   "execution_count": 35,
   "id": "aabd5155",
   "metadata": {},
   "outputs": [
    {
     "data": {
      "text/plain": [
       "<AxesSubplot:xlabel='Price', ylabel='Density'>"
      ]
     },
     "execution_count": 35,
     "metadata": {},
     "output_type": "execute_result"
    },
    {
     "data": {
      "image/png": "[encoded data removed]",
      "text/plain": [
       "<Figure size 576x360 with 1 Axes>"
      ]
     },
     "metadata": {
      "needs_background": "light"
     },
     "output_type": "display_data"
    }
   ],
   "source": [
    "#display distplot of Price column:\n",
    "plt.figure(figsize=(8,5))\n",
    "sns.distplot(train_df['Price'])"
   ]
  },
  {
   "cell_type": "markdown",
   "id": "32a88b28",
   "metadata": {},
   "source": [
    "Observation :- Price column has right skewed to see this from histplot, pairplot, distplot and density plot."
   ]
  },
  {
   "cell_type": "code",
   "execution_count": 34,
   "id": "27093022",
   "metadata": {},
   "outputs": [
    {
     "data": {
      "text/html": [
       "<div>\n",
       "<style scoped>\n",
       "    .dataframe tbody tr th:only-of-type {\n",
       "        vertical-align: middle;\n",
       "    }\n",
       "\n",
       "    .dataframe tbody tr th {\n",
       "        vertical-align: top;\n",
       "    }\n",
       "\n",
       "    .dataframe thead th {\n",
       "        text-align: right;\n",
       "    }\n",
       "</style>\n",
       "<table border=\"1\" class=\"dataframe\">\n",
       "  <thead>\n",
       "    <tr style=\"text-align: right;\">\n",
       "      <th></th>\n",
       "      <th>Airline_Air India</th>\n",
       "      <th>Airline_GoAir</th>\n",
       "      <th>Airline_IndiGo</th>\n",
       "      <th>Airline_Jet Airways</th>\n",
       "      <th>Airline_Jet Airways Business</th>\n",
       "      <th>Airline_Multiple carriers</th>\n",
       "      <th>Airline_Multiple carriers Premium economy</th>\n",
       "      <th>Airline_SpiceJet</th>\n",
       "      <th>Airline_Trujet</th>\n",
       "      <th>Airline_Vistara</th>\n",
       "      <th>Airline_Vistara Premium economy</th>\n",
       "    </tr>\n",
       "  </thead>\n",
       "  <tbody>\n",
       "    <tr>\n",
       "      <th>0</th>\n",
       "      <td>0</td>\n",
       "      <td>0</td>\n",
       "      <td>1</td>\n",
       "      <td>0</td>\n",
       "      <td>0</td>\n",
       "      <td>0</td>\n",
       "      <td>0</td>\n",
       "      <td>0</td>\n",
       "      <td>0</td>\n",
       "      <td>0</td>\n",
       "      <td>0</td>\n",
       "    </tr>\n",
       "    <tr>\n",
       "      <th>1</th>\n",
       "      <td>1</td>\n",
       "      <td>0</td>\n",
       "      <td>0</td>\n",
       "      <td>0</td>\n",
       "      <td>0</td>\n",
       "      <td>0</td>\n",
       "      <td>0</td>\n",
       "      <td>0</td>\n",
       "      <td>0</td>\n",
       "      <td>0</td>\n",
       "      <td>0</td>\n",
       "    </tr>\n",
       "    <tr>\n",
       "      <th>2</th>\n",
       "      <td>0</td>\n",
       "      <td>0</td>\n",
       "      <td>0</td>\n",
       "      <td>1</td>\n",
       "      <td>0</td>\n",
       "      <td>0</td>\n",
       "      <td>0</td>\n",
       "      <td>0</td>\n",
       "      <td>0</td>\n",
       "      <td>0</td>\n",
       "      <td>0</td>\n",
       "    </tr>\n",
       "    <tr>\n",
       "      <th>3</th>\n",
       "      <td>0</td>\n",
       "      <td>0</td>\n",
       "      <td>1</td>\n",
       "      <td>0</td>\n",
       "      <td>0</td>\n",
       "      <td>0</td>\n",
       "      <td>0</td>\n",
       "      <td>0</td>\n",
       "      <td>0</td>\n",
       "      <td>0</td>\n",
       "      <td>0</td>\n",
       "    </tr>\n",
       "    <tr>\n",
       "      <th>4</th>\n",
       "      <td>0</td>\n",
       "      <td>0</td>\n",
       "      <td>1</td>\n",
       "      <td>0</td>\n",
       "      <td>0</td>\n",
       "      <td>0</td>\n",
       "      <td>0</td>\n",
       "      <td>0</td>\n",
       "      <td>0</td>\n",
       "      <td>0</td>\n",
       "      <td>0</td>\n",
       "    </tr>\n",
       "  </tbody>\n",
       "</table>\n",
       "</div>"
      ],
      "text/plain": [
       "   Airline_Air India  Airline_GoAir  Airline_IndiGo  Airline_Jet Airways  \\\n",
       "0                  0              0               1                    0   \n",
       "1                  1              0               0                    0   \n",
       "2                  0              0               0                    1   \n",
       "3                  0              0               1                    0   \n",
       "4                  0              0               1                    0   \n",
       "\n",
       "   Airline_Jet Airways Business  Airline_Multiple carriers  \\\n",
       "0                             0                          0   \n",
       "1                             0                          0   \n",
       "2                             0                          0   \n",
       "3                             0                          0   \n",
       "4                             0                          0   \n",
       "\n",
       "   Airline_Multiple carriers Premium economy  Airline_SpiceJet  \\\n",
       "0                                          0                 0   \n",
       "1                                          0                 0   \n",
       "2                                          0                 0   \n",
       "3                                          0                 0   \n",
       "4                                          0                 0   \n",
       "\n",
       "   Airline_Trujet  Airline_Vistara  Airline_Vistara Premium economy  \n",
       "0               0                0                                0  \n",
       "1               0                0                                0  \n",
       "2               0                0                                0  \n",
       "3               0                0                                0  \n",
       "4               0                0                                0  "
      ]
     },
     "execution_count": 34,
     "metadata": {},
     "output_type": "execute_result"
    }
   ],
   "source": [
    "# Here Airline  Nominal Categorical data:\n",
    "Airline = train_df[[\"Airline\"]]\n",
    "Airline = pd.get_dummies(Airline, drop_first =True)\n",
    "Airline.head()"
   ]
  },
  {
   "cell_type": "markdown",
   "id": "3c60885c",
   "metadata": {},
   "source": [
    "### Feature Engineering"
   ]
  },
  {
   "cell_type": "code",
   "execution_count": 35,
   "id": "20c26473",
   "metadata": {},
   "outputs": [],
   "source": [
    "# Here converting the hours in minutes:\n",
    "train_df['Duration'] = train_df['Duration'].str.replace(\"h\", '*60').str.replace(' ','+').str.replace('m','*1').apply(eval)\n",
    "test_df['Duration'] = test_df['Duration'].str.replace(\"h\", '*60').str.replace(' ','+').str.replace('m','*1').apply(eval)"
   ]
  },
  {
   "cell_type": "code",
   "execution_count": 36,
   "id": "5f61d8b0",
   "metadata": {},
   "outputs": [],
   "source": [
    "# Here we are organizing the format of the date of journey in our dataset for better:\n",
    "train_df[\"Journey_day\"] = train_df['Date_of_Journey'].str.split('/').str[0].astype(int)\n",
    "train_df[\"Journey_month\"] = train_df['Date_of_Journey'].str.split('/').str[1].astype(int)\n",
    "train_df.drop([\"Date_of_Journey\"], axis = 1, inplace = True)"
   ]
  },
  {
   "cell_type": "code",
   "execution_count": 37,
   "id": "fc606c5e",
   "metadata": {},
   "outputs": [],
   "source": [
    "#converting departure time into hours and minutes:\n",
    "train_df[\"Dep_hour\"] = pd.to_datetime(train_df[\"Dep_Time\"]).dt.hour\n",
    "train_df[\"Dep_min\"] = pd.to_datetime(train_df[\"Dep_Time\"]).dt.minute\n",
    "train_df.drop([\"Dep_Time\"], axis = 1, inplace = True)"
   ]
  },
  {
   "cell_type": "code",
   "execution_count": 38,
   "id": "5e6a4d3e",
   "metadata": {},
   "outputs": [],
   "source": [
    "#Here converting the arrival time into hours and minutes:\n",
    "train_df[\"Arrival_hour\"] = pd.to_datetime(train_df.Arrival_Time).dt.hour\n",
    "train_df[\"Arrival_min\"] = pd.to_datetime(train_df.Arrival_Time).dt.minute\n",
    "train_df.drop([\"Arrival_Time\"], axis = 1, inplace = True)"
   ]
  },
  {
   "cell_type": "code",
   "execution_count": 41,
   "id": "044bdf9b",
   "metadata": {},
   "outputs": [
    {
     "data": {
      "text/html": [
       "<div>\n",
       "<style scoped>\n",
       "    .dataframe tbody tr th:only-of-type {\n",
       "        vertical-align: middle;\n",
       "    }\n",
       "\n",
       "    .dataframe tbody tr th {\n",
       "        vertical-align: top;\n",
       "    }\n",
       "\n",
       "    .dataframe thead th {\n",
       "        text-align: right;\n",
       "    }\n",
       "</style>\n",
       "<table border=\"1\" class=\"dataframe\">\n",
       "  <thead>\n",
       "    <tr style=\"text-align: right;\">\n",
       "      <th></th>\n",
       "      <th>Airline</th>\n",
       "      <th>Source</th>\n",
       "      <th>Destination</th>\n",
       "      <th>Route</th>\n",
       "      <th>Duration</th>\n",
       "      <th>Total_Stops</th>\n",
       "      <th>Additional_Info</th>\n",
       "      <th>Price</th>\n",
       "      <th>Journey_day</th>\n",
       "      <th>Journey_month</th>\n",
       "      <th>Dep_hour</th>\n",
       "      <th>Dep_min</th>\n",
       "      <th>Arrival_hour</th>\n",
       "      <th>Arrival_min</th>\n",
       "    </tr>\n",
       "  </thead>\n",
       "  <tbody>\n",
       "    <tr>\n",
       "      <th>0</th>\n",
       "      <td>IndiGo</td>\n",
       "      <td>Banglore</td>\n",
       "      <td>New Delhi</td>\n",
       "      <td>BLR → DEL</td>\n",
       "      <td>170</td>\n",
       "      <td>non-stop</td>\n",
       "      <td>No info</td>\n",
       "      <td>3897</td>\n",
       "      <td>24</td>\n",
       "      <td>3</td>\n",
       "      <td>22</td>\n",
       "      <td>20</td>\n",
       "      <td>1</td>\n",
       "      <td>10</td>\n",
       "    </tr>\n",
       "    <tr>\n",
       "      <th>1</th>\n",
       "      <td>Air India</td>\n",
       "      <td>Kolkata</td>\n",
       "      <td>Banglore</td>\n",
       "      <td>CCU → IXR → BBI → BLR</td>\n",
       "      <td>445</td>\n",
       "      <td>2 stops</td>\n",
       "      <td>No info</td>\n",
       "      <td>7662</td>\n",
       "      <td>1</td>\n",
       "      <td>5</td>\n",
       "      <td>5</td>\n",
       "      <td>50</td>\n",
       "      <td>13</td>\n",
       "      <td>15</td>\n",
       "    </tr>\n",
       "    <tr>\n",
       "      <th>2</th>\n",
       "      <td>Jet Airways</td>\n",
       "      <td>Delhi</td>\n",
       "      <td>Cochin</td>\n",
       "      <td>DEL → LKO → BOM → COK</td>\n",
       "      <td>1140</td>\n",
       "      <td>2 stops</td>\n",
       "      <td>No info</td>\n",
       "      <td>13882</td>\n",
       "      <td>9</td>\n",
       "      <td>6</td>\n",
       "      <td>9</td>\n",
       "      <td>25</td>\n",
       "      <td>4</td>\n",
       "      <td>25</td>\n",
       "    </tr>\n",
       "    <tr>\n",
       "      <th>3</th>\n",
       "      <td>IndiGo</td>\n",
       "      <td>Kolkata</td>\n",
       "      <td>Banglore</td>\n",
       "      <td>CCU → NAG → BLR</td>\n",
       "      <td>325</td>\n",
       "      <td>1 stop</td>\n",
       "      <td>No info</td>\n",
       "      <td>6218</td>\n",
       "      <td>12</td>\n",
       "      <td>5</td>\n",
       "      <td>18</td>\n",
       "      <td>5</td>\n",
       "      <td>23</td>\n",
       "      <td>30</td>\n",
       "    </tr>\n",
       "    <tr>\n",
       "      <th>4</th>\n",
       "      <td>IndiGo</td>\n",
       "      <td>Banglore</td>\n",
       "      <td>New Delhi</td>\n",
       "      <td>BLR → NAG → DEL</td>\n",
       "      <td>285</td>\n",
       "      <td>1 stop</td>\n",
       "      <td>No info</td>\n",
       "      <td>13302</td>\n",
       "      <td>1</td>\n",
       "      <td>3</td>\n",
       "      <td>16</td>\n",
       "      <td>50</td>\n",
       "      <td>21</td>\n",
       "      <td>35</td>\n",
       "    </tr>\n",
       "  </tbody>\n",
       "</table>\n",
       "</div>"
      ],
      "text/plain": [
       "       Airline    Source Destination                  Route  Duration  \\\n",
       "0       IndiGo  Banglore   New Delhi              BLR → DEL       170   \n",
       "1    Air India   Kolkata    Banglore  CCU → IXR → BBI → BLR       445   \n",
       "2  Jet Airways     Delhi      Cochin  DEL → LKO → BOM → COK      1140   \n",
       "3       IndiGo   Kolkata    Banglore        CCU → NAG → BLR       325   \n",
       "4       IndiGo  Banglore   New Delhi        BLR → NAG → DEL       285   \n",
       "\n",
       "  Total_Stops Additional_Info  Price  Journey_day  Journey_month  Dep_hour  \\\n",
       "0    non-stop         No info   3897           24              3        22   \n",
       "1     2 stops         No info   7662            1              5         5   \n",
       "2     2 stops         No info  13882            9              6         9   \n",
       "3      1 stop         No info   6218           12              5        18   \n",
       "4      1 stop         No info  13302            1              3        16   \n",
       "\n",
       "   Dep_min  Arrival_hour  Arrival_min  \n",
       "0       20             1           10  \n",
       "1       50            13           15  \n",
       "2       25             4           25  \n",
       "3        5            23           30  \n",
       "4       50            21           35  "
      ]
     },
     "execution_count": 41,
     "metadata": {},
     "output_type": "execute_result"
    }
   ],
   "source": [
    "train_df.head()"
   ]
  },
  {
   "cell_type": "markdown",
   "id": "e9910d65",
   "metadata": {},
   "source": [
    "### Correlation of dataset:"
   ]
  },
  {
   "cell_type": "code",
   "execution_count": 42,
   "id": "36afe5ca",
   "metadata": {},
   "outputs": [
    {
     "data": {
      "text/html": [
       "<div>\n",
       "<style scoped>\n",
       "    .dataframe tbody tr th:only-of-type {\n",
       "        vertical-align: middle;\n",
       "    }\n",
       "\n",
       "    .dataframe tbody tr th {\n",
       "        vertical-align: top;\n",
       "    }\n",
       "\n",
       "    .dataframe thead th {\n",
       "        text-align: right;\n",
       "    }\n",
       "</style>\n",
       "<table border=\"1\" class=\"dataframe\">\n",
       "  <thead>\n",
       "    <tr style=\"text-align: right;\">\n",
       "      <th></th>\n",
       "      <th>Duration</th>\n",
       "      <th>Price</th>\n",
       "      <th>Journey_day</th>\n",
       "      <th>Journey_month</th>\n",
       "      <th>Dep_hour</th>\n",
       "      <th>Dep_min</th>\n",
       "      <th>Arrival_hour</th>\n",
       "      <th>Arrival_min</th>\n",
       "    </tr>\n",
       "  </thead>\n",
       "  <tbody>\n",
       "    <tr>\n",
       "      <th>Duration</th>\n",
       "      <td>1.000000</td>\n",
       "      <td>0.501758</td>\n",
       "      <td>-0.029810</td>\n",
       "      <td>0.004874</td>\n",
       "      <td>-0.001285</td>\n",
       "      <td>-0.019225</td>\n",
       "      <td>0.061912</td>\n",
       "      <td>-0.070977</td>\n",
       "    </tr>\n",
       "    <tr>\n",
       "      <th>Price</th>\n",
       "      <td>0.501758</td>\n",
       "      <td>1.000000</td>\n",
       "      <td>-0.159044</td>\n",
       "      <td>-0.113396</td>\n",
       "      <td>0.005155</td>\n",
       "      <td>-0.024155</td>\n",
       "      <td>0.031023</td>\n",
       "      <td>-0.086163</td>\n",
       "    </tr>\n",
       "    <tr>\n",
       "      <th>Journey_day</th>\n",
       "      <td>-0.029810</td>\n",
       "      <td>-0.159044</td>\n",
       "      <td>1.000000</td>\n",
       "      <td>-0.038331</td>\n",
       "      <td>-0.003394</td>\n",
       "      <td>-0.004741</td>\n",
       "      <td>-0.002448</td>\n",
       "      <td>-0.015086</td>\n",
       "    </tr>\n",
       "    <tr>\n",
       "      <th>Journey_month</th>\n",
       "      <td>0.004874</td>\n",
       "      <td>-0.113396</td>\n",
       "      <td>-0.038331</td>\n",
       "      <td>1.000000</td>\n",
       "      <td>0.040406</td>\n",
       "      <td>-0.062636</td>\n",
       "      <td>0.001423</td>\n",
       "      <td>-0.099261</td>\n",
       "    </tr>\n",
       "    <tr>\n",
       "      <th>Dep_hour</th>\n",
       "      <td>-0.001285</td>\n",
       "      <td>0.005155</td>\n",
       "      <td>-0.003394</td>\n",
       "      <td>0.040406</td>\n",
       "      <td>1.000000</td>\n",
       "      <td>-0.015068</td>\n",
       "      <td>-0.003827</td>\n",
       "      <td>0.072989</td>\n",
       "    </tr>\n",
       "    <tr>\n",
       "      <th>Dep_min</th>\n",
       "      <td>-0.019225</td>\n",
       "      <td>-0.024155</td>\n",
       "      <td>-0.004741</td>\n",
       "      <td>-0.062636</td>\n",
       "      <td>-0.015068</td>\n",
       "      <td>1.000000</td>\n",
       "      <td>0.046564</td>\n",
       "      <td>-0.021353</td>\n",
       "    </tr>\n",
       "    <tr>\n",
       "      <th>Arrival_hour</th>\n",
       "      <td>0.061912</td>\n",
       "      <td>0.031023</td>\n",
       "      <td>-0.002448</td>\n",
       "      <td>0.001423</td>\n",
       "      <td>-0.003827</td>\n",
       "      <td>0.046564</td>\n",
       "      <td>1.000000</td>\n",
       "      <td>-0.152036</td>\n",
       "    </tr>\n",
       "    <tr>\n",
       "      <th>Arrival_min</th>\n",
       "      <td>-0.070977</td>\n",
       "      <td>-0.086163</td>\n",
       "      <td>-0.015086</td>\n",
       "      <td>-0.099261</td>\n",
       "      <td>0.072989</td>\n",
       "      <td>-0.021353</td>\n",
       "      <td>-0.152036</td>\n",
       "      <td>1.000000</td>\n",
       "    </tr>\n",
       "  </tbody>\n",
       "</table>\n",
       "</div>"
      ],
      "text/plain": [
       "               Duration     Price  Journey_day  Journey_month  Dep_hour  \\\n",
       "Duration       1.000000  0.501758    -0.029810       0.004874 -0.001285   \n",
       "Price          0.501758  1.000000    -0.159044      -0.113396  0.005155   \n",
       "Journey_day   -0.029810 -0.159044     1.000000      -0.038331 -0.003394   \n",
       "Journey_month  0.004874 -0.113396    -0.038331       1.000000  0.040406   \n",
       "Dep_hour      -0.001285  0.005155    -0.003394       0.040406  1.000000   \n",
       "Dep_min       -0.019225 -0.024155    -0.004741      -0.062636 -0.015068   \n",
       "Arrival_hour   0.061912  0.031023    -0.002448       0.001423 -0.003827   \n",
       "Arrival_min   -0.070977 -0.086163    -0.015086      -0.099261  0.072989   \n",
       "\n",
       "                Dep_min  Arrival_hour  Arrival_min  \n",
       "Duration      -0.019225      0.061912    -0.070977  \n",
       "Price         -0.024155      0.031023    -0.086163  \n",
       "Journey_day   -0.004741     -0.002448    -0.015086  \n",
       "Journey_month -0.062636      0.001423    -0.099261  \n",
       "Dep_hour      -0.015068     -0.003827     0.072989  \n",
       "Dep_min        1.000000      0.046564    -0.021353  \n",
       "Arrival_hour   0.046564      1.000000    -0.152036  \n",
       "Arrival_min   -0.021353     -0.152036     1.000000  "
      ]
     },
     "execution_count": 42,
     "metadata": {},
     "output_type": "execute_result"
    }
   ],
   "source": [
    "#check correlation of columns.\n",
    "train_df.corr()"
   ]
  },
  {
   "cell_type": "code",
   "execution_count": 43,
   "id": "0a9219bb",
   "metadata": {},
   "outputs": [
    {
     "data": {
      "image/png": "[encoded data removed]",
      "text/plain": [
       "<Figure size 864x720 with 2 Axes>"
      ]
     },
     "metadata": {
      "needs_background": "light"
     },
     "output_type": "display_data"
    }
   ],
   "source": [
    "plt.figure(figsize = (12,10))\n",
    "sns.heatmap(train_df.corr(), annot = True, cmap = \"coolwarm\")\n",
    "plt.show()"
   ]
  },
  {
   "cell_type": "markdown",
   "id": "27b1413b",
   "metadata": {},
   "source": [
    "##### Observation :- In this correlation matrix price and duration is highly correlate with each other."
   ]
  },
  {
   "cell_type": "code",
   "execution_count": 39,
   "id": "c67cbc87",
   "metadata": {},
   "outputs": [],
   "source": [
    "# Dropping the Price column:\n",
    "data = train_df.drop([\"Price\"], axis=1)"
   ]
  },
  {
   "cell_type": "code",
   "execution_count": 40,
   "id": "4c93db9e",
   "metadata": {},
   "outputs": [],
   "source": [
    "# Here convert into Categorical Data and Numerical Data:\n",
    "train_categorical_data = data.select_dtypes(exclude=['int64', 'float','int32'])\n",
    "train_numerical_data = data.select_dtypes(include=['int64', 'float','int32'])\n",
    "\n",
    "test_categorical_data = test_df.select_dtypes(exclude=['int64', 'float','int32','int32'])\n",
    "test_numerical_data  = test_df.select_dtypes(include=['int64', 'float','int32'])"
   ]
  },
  {
   "cell_type": "code",
   "execution_count": 41,
   "id": "8ee03005",
   "metadata": {},
   "outputs": [
    {
     "data": {
      "text/html": [
       "<div>\n",
       "<style scoped>\n",
       "    .dataframe tbody tr th:only-of-type {\n",
       "        vertical-align: middle;\n",
       "    }\n",
       "\n",
       "    .dataframe tbody tr th {\n",
       "        vertical-align: top;\n",
       "    }\n",
       "\n",
       "    .dataframe thead th {\n",
       "        text-align: right;\n",
       "    }\n",
       "</style>\n",
       "<table border=\"1\" class=\"dataframe\">\n",
       "  <thead>\n",
       "    <tr style=\"text-align: right;\">\n",
       "      <th></th>\n",
       "      <th>Airline</th>\n",
       "      <th>Source</th>\n",
       "      <th>Destination</th>\n",
       "      <th>Route</th>\n",
       "      <th>Total_Stops</th>\n",
       "      <th>Additional_Info</th>\n",
       "    </tr>\n",
       "  </thead>\n",
       "  <tbody>\n",
       "    <tr>\n",
       "      <th>0</th>\n",
       "      <td>IndiGo</td>\n",
       "      <td>Banglore</td>\n",
       "      <td>New Delhi</td>\n",
       "      <td>BLR → DEL</td>\n",
       "      <td>non-stop</td>\n",
       "      <td>No info</td>\n",
       "    </tr>\n",
       "    <tr>\n",
       "      <th>1</th>\n",
       "      <td>Air India</td>\n",
       "      <td>Kolkata</td>\n",
       "      <td>Banglore</td>\n",
       "      <td>CCU → IXR → BBI → BLR</td>\n",
       "      <td>2 stops</td>\n",
       "      <td>No info</td>\n",
       "    </tr>\n",
       "    <tr>\n",
       "      <th>2</th>\n",
       "      <td>Jet Airways</td>\n",
       "      <td>Delhi</td>\n",
       "      <td>Cochin</td>\n",
       "      <td>DEL → LKO → BOM → COK</td>\n",
       "      <td>2 stops</td>\n",
       "      <td>No info</td>\n",
       "    </tr>\n",
       "    <tr>\n",
       "      <th>3</th>\n",
       "      <td>IndiGo</td>\n",
       "      <td>Kolkata</td>\n",
       "      <td>Banglore</td>\n",
       "      <td>CCU → NAG → BLR</td>\n",
       "      <td>1 stop</td>\n",
       "      <td>No info</td>\n",
       "    </tr>\n",
       "    <tr>\n",
       "      <th>4</th>\n",
       "      <td>IndiGo</td>\n",
       "      <td>Banglore</td>\n",
       "      <td>New Delhi</td>\n",
       "      <td>BLR → NAG → DEL</td>\n",
       "      <td>1 stop</td>\n",
       "      <td>No info</td>\n",
       "    </tr>\n",
       "  </tbody>\n",
       "</table>\n",
       "</div>"
      ],
      "text/plain": [
       "       Airline    Source Destination                  Route Total_Stops  \\\n",
       "0       IndiGo  Banglore   New Delhi              BLR → DEL    non-stop   \n",
       "1    Air India   Kolkata    Banglore  CCU → IXR → BBI → BLR     2 stops   \n",
       "2  Jet Airways     Delhi      Cochin  DEL → LKO → BOM → COK     2 stops   \n",
       "3       IndiGo   Kolkata    Banglore        CCU → NAG → BLR      1 stop   \n",
       "4       IndiGo  Banglore   New Delhi        BLR → NAG → DEL      1 stop   \n",
       "\n",
       "  Additional_Info  \n",
       "0         No info  \n",
       "1         No info  \n",
       "2         No info  \n",
       "3         No info  \n",
       "4         No info  "
      ]
     },
     "execution_count": 41,
     "metadata": {},
     "output_type": "execute_result"
    }
   ],
   "source": [
    "train_categorical_data.head()"
   ]
  },
  {
   "cell_type": "code",
   "execution_count": 47,
   "id": "3fb93e7e",
   "metadata": {},
   "outputs": [],
   "source": [
    "# Apply Label Encoder to all datatset:\n",
    "from sklearn.preprocessing import LabelEncoder\n",
    "le = LabelEncoder()\n",
    "train_categorical_data = train_categorical_data.apply(LabelEncoder().fit_transform)\n",
    "test_categorical_data = test_categorical_data.apply(LabelEncoder().fit_transform)"
   ]
  },
  {
   "cell_type": "code",
   "execution_count": 48,
   "id": "f534394d",
   "metadata": {},
   "outputs": [
    {
     "data": {
      "text/html": [
       "<div>\n",
       "<style scoped>\n",
       "    .dataframe tbody tr th:only-of-type {\n",
       "        vertical-align: middle;\n",
       "    }\n",
       "\n",
       "    .dataframe tbody tr th {\n",
       "        vertical-align: top;\n",
       "    }\n",
       "\n",
       "    .dataframe thead th {\n",
       "        text-align: right;\n",
       "    }\n",
       "</style>\n",
       "<table border=\"1\" class=\"dataframe\">\n",
       "  <thead>\n",
       "    <tr style=\"text-align: right;\">\n",
       "      <th></th>\n",
       "      <th>Airline</th>\n",
       "      <th>Source</th>\n",
       "      <th>Destination</th>\n",
       "      <th>Route</th>\n",
       "      <th>Total_Stops</th>\n",
       "      <th>Additional_Info</th>\n",
       "    </tr>\n",
       "  </thead>\n",
       "  <tbody>\n",
       "    <tr>\n",
       "      <th>0</th>\n",
       "      <td>3</td>\n",
       "      <td>0</td>\n",
       "      <td>5</td>\n",
       "      <td>18</td>\n",
       "      <td>4</td>\n",
       "      <td>8</td>\n",
       "    </tr>\n",
       "    <tr>\n",
       "      <th>1</th>\n",
       "      <td>1</td>\n",
       "      <td>3</td>\n",
       "      <td>0</td>\n",
       "      <td>84</td>\n",
       "      <td>1</td>\n",
       "      <td>8</td>\n",
       "    </tr>\n",
       "    <tr>\n",
       "      <th>2</th>\n",
       "      <td>4</td>\n",
       "      <td>2</td>\n",
       "      <td>1</td>\n",
       "      <td>118</td>\n",
       "      <td>1</td>\n",
       "      <td>8</td>\n",
       "    </tr>\n",
       "    <tr>\n",
       "      <th>3</th>\n",
       "      <td>3</td>\n",
       "      <td>3</td>\n",
       "      <td>0</td>\n",
       "      <td>91</td>\n",
       "      <td>0</td>\n",
       "      <td>8</td>\n",
       "    </tr>\n",
       "    <tr>\n",
       "      <th>4</th>\n",
       "      <td>3</td>\n",
       "      <td>0</td>\n",
       "      <td>5</td>\n",
       "      <td>29</td>\n",
       "      <td>0</td>\n",
       "      <td>8</td>\n",
       "    </tr>\n",
       "  </tbody>\n",
       "</table>\n",
       "</div>"
      ],
      "text/plain": [
       "   Airline  Source  Destination  Route  Total_Stops  Additional_Info\n",
       "0        3       0            5     18            4                8\n",
       "1        1       3            0     84            1                8\n",
       "2        4       2            1    118            1                8\n",
       "3        3       3            0     91            0                8\n",
       "4        3       0            5     29            0                8"
      ]
     },
     "execution_count": 48,
     "metadata": {},
     "output_type": "execute_result"
    }
   ],
   "source": [
    "train_categorical_data.head()"
   ]
  },
  {
   "cell_type": "code",
   "execution_count": 49,
   "id": "e47a3b47",
   "metadata": {},
   "outputs": [
    {
     "data": {
      "text/html": [
       "<div>\n",
       "<style scoped>\n",
       "    .dataframe tbody tr th:only-of-type {\n",
       "        vertical-align: middle;\n",
       "    }\n",
       "\n",
       "    .dataframe tbody tr th {\n",
       "        vertical-align: top;\n",
       "    }\n",
       "\n",
       "    .dataframe thead th {\n",
       "        text-align: right;\n",
       "    }\n",
       "</style>\n",
       "<table border=\"1\" class=\"dataframe\">\n",
       "  <thead>\n",
       "    <tr style=\"text-align: right;\">\n",
       "      <th></th>\n",
       "      <th>Duration</th>\n",
       "      <th>Journey_day</th>\n",
       "      <th>Journey_month</th>\n",
       "      <th>Dep_hour</th>\n",
       "      <th>Dep_min</th>\n",
       "      <th>Arrival_hour</th>\n",
       "      <th>Arrival_min</th>\n",
       "    </tr>\n",
       "  </thead>\n",
       "  <tbody>\n",
       "    <tr>\n",
       "      <th>0</th>\n",
       "      <td>170</td>\n",
       "      <td>24</td>\n",
       "      <td>3</td>\n",
       "      <td>22</td>\n",
       "      <td>20</td>\n",
       "      <td>1</td>\n",
       "      <td>10</td>\n",
       "    </tr>\n",
       "    <tr>\n",
       "      <th>1</th>\n",
       "      <td>445</td>\n",
       "      <td>1</td>\n",
       "      <td>5</td>\n",
       "      <td>5</td>\n",
       "      <td>50</td>\n",
       "      <td>13</td>\n",
       "      <td>15</td>\n",
       "    </tr>\n",
       "    <tr>\n",
       "      <th>2</th>\n",
       "      <td>1140</td>\n",
       "      <td>9</td>\n",
       "      <td>6</td>\n",
       "      <td>9</td>\n",
       "      <td>25</td>\n",
       "      <td>4</td>\n",
       "      <td>25</td>\n",
       "    </tr>\n",
       "    <tr>\n",
       "      <th>3</th>\n",
       "      <td>325</td>\n",
       "      <td>12</td>\n",
       "      <td>5</td>\n",
       "      <td>18</td>\n",
       "      <td>5</td>\n",
       "      <td>23</td>\n",
       "      <td>30</td>\n",
       "    </tr>\n",
       "    <tr>\n",
       "      <th>4</th>\n",
       "      <td>285</td>\n",
       "      <td>1</td>\n",
       "      <td>3</td>\n",
       "      <td>16</td>\n",
       "      <td>50</td>\n",
       "      <td>21</td>\n",
       "      <td>35</td>\n",
       "    </tr>\n",
       "  </tbody>\n",
       "</table>\n",
       "</div>"
      ],
      "text/plain": [
       "   Duration  Journey_day  Journey_month  Dep_hour  Dep_min  Arrival_hour  \\\n",
       "0       170           24              3        22       20             1   \n",
       "1       445            1              5         5       50            13   \n",
       "2      1140            9              6         9       25             4   \n",
       "3       325           12              5        18        5            23   \n",
       "4       285            1              3        16       50            21   \n",
       "\n",
       "   Arrival_min  \n",
       "0           10  \n",
       "1           15  \n",
       "2           25  \n",
       "3           30  \n",
       "4           35  "
      ]
     },
     "execution_count": 49,
     "metadata": {},
     "output_type": "execute_result"
    }
   ],
   "source": [
    "train_numerical_data.head()"
   ]
  },
  {
   "cell_type": "markdown",
   "id": "74d1ffae",
   "metadata": {},
   "source": [
    "### Remove skewness and outliers"
   ]
  },
  {
   "cell_type": "code",
   "execution_count": 50,
   "id": "cee52d65",
   "metadata": {},
   "outputs": [
    {
     "data": {
      "text/plain": [
       "Duration         0.903973\n",
       "Dep_min          0.171301\n",
       "Journey_day      0.124628\n",
       "Arrival_min      0.110802\n",
       "Dep_hour         0.108306\n",
       "Journey_month   -0.377535\n",
       "Arrival_hour    -0.378978\n",
       "dtype: float64"
      ]
     },
     "execution_count": 50,
     "metadata": {},
     "output_type": "execute_result"
    }
   ],
   "source": [
    "# Check skewness:\n",
    "train_numerical_data.skew().sort_values(ascending=False)"
   ]
  },
  {
   "cell_type": "code",
   "execution_count": 51,
   "id": "9fe1c840",
   "metadata": {},
   "outputs": [],
   "source": [
    "# Remove skewness using log transform and sqrt method:\n",
    "import numpy as np\n",
    "train_numerical_data['Duration']=np.sqrt(train_numerical_data['Duration'])"
   ]
  },
  {
   "cell_type": "code",
   "execution_count": 52,
   "id": "2e0f6ba9",
   "metadata": {},
   "outputs": [
    {
     "data": {
      "text/plain": [
       "Duration         0.371269\n",
       "Dep_min          0.171301\n",
       "Journey_day      0.124628\n",
       "Arrival_min      0.110802\n",
       "Dep_hour         0.108306\n",
       "Journey_month   -0.377535\n",
       "Arrival_hour    -0.378978\n",
       "dtype: float64"
      ]
     },
     "execution_count": 52,
     "metadata": {},
     "output_type": "execute_result"
    }
   ],
   "source": [
    "# Check skewness:\n",
    "train_numerical_data.skew().sort_values(ascending=False)"
   ]
  },
  {
   "cell_type": "code",
   "execution_count": 53,
   "id": "a346f971",
   "metadata": {},
   "outputs": [
    {
     "data": {
      "text/plain": [
       "array([[<AxesSubplot:title={'center':'Duration'}>,\n",
       "        <AxesSubplot:title={'center':'Journey_day'}>,\n",
       "        <AxesSubplot:title={'center':'Journey_month'}>],\n",
       "       [<AxesSubplot:title={'center':'Dep_hour'}>,\n",
       "        <AxesSubplot:title={'center':'Dep_min'}>,\n",
       "        <AxesSubplot:title={'center':'Arrival_hour'}>],\n",
       "       [<AxesSubplot:title={'center':'Arrival_min'}>, <AxesSubplot:>,\n",
       "        <AxesSubplot:>]], dtype=object)"
      ]
     },
     "execution_count": 53,
     "metadata": {},
     "output_type": "execute_result"
    },
    {
     "data": {
      "image/png": "[encoded data removed]",
      "text/plain": [
       "<Figure size 1080x720 with 9 Axes>"
      ]
     },
     "metadata": {
      "needs_background": "light"
     },
     "output_type": "display_data"
    }
   ],
   "source": [
    "# Display histogram of all columns after remove skewness:\n",
    "train_numerical_data.hist(figsize=(15,10), layout=(3,3), sharex=False, bins=20)"
   ]
  },
  {
   "cell_type": "markdown",
   "id": "01abc2bc",
   "metadata": {},
   "source": [
    "In this histogram graph all columns is nominal."
   ]
  },
  {
   "cell_type": "code",
   "execution_count": 42,
   "id": "ec8d4198",
   "metadata": {},
   "outputs": [
    {
     "data": {
      "text/plain": [
       "Duration            AxesSubplot(0.125,0.657941;0.227941x0.222059)\n",
       "Journey_day      AxesSubplot(0.398529,0.657941;0.227941x0.222059)\n",
       "Journey_month    AxesSubplot(0.672059,0.657941;0.227941x0.222059)\n",
       "Dep_hour            AxesSubplot(0.125,0.391471;0.227941x0.222059)\n",
       "Dep_min          AxesSubplot(0.398529,0.391471;0.227941x0.222059)\n",
       "Arrival_hour     AxesSubplot(0.672059,0.391471;0.227941x0.222059)\n",
       "Arrival_min            AxesSubplot(0.125,0.125;0.227941x0.222059)\n",
       "dtype: object"
      ]
     },
     "execution_count": 42,
     "metadata": {},
     "output_type": "execute_result"
    },
    {
     "data": {
      "image/png": "[encoded data removed]",
      "text/plain": [
       "<Figure size 1440x1080 with 9 Axes>"
      ]
     },
     "metadata": {
      "needs_background": "light"
     },
     "output_type": "display_data"
    }
   ],
   "source": [
    "# Checking outliers with boxplot:\n",
    "train_numerical_data.plot(kind='box', subplots=True, layout=(3,3), figsize=(20,15))"
   ]
  },
  {
   "cell_type": "markdown",
   "id": "6805447e",
   "metadata": {},
   "source": [
    "Observation :- From this boxplot we seen that duration column has some outliers other has not outliers."
   ]
  },
  {
   "cell_type": "code",
   "execution_count": 55,
   "id": "322dc22d",
   "metadata": {},
   "outputs": [
    {
     "data": {
      "text/plain": [
       "Duration         False\n",
       "Journey_day       True\n",
       "Journey_month     True\n",
       "Dep_hour          True\n",
       "Dep_min           True\n",
       "Arrival_hour      True\n",
       "Arrival_min       True\n",
       "dtype: bool"
      ]
     },
     "execution_count": 55,
     "metadata": {},
     "output_type": "execute_result"
    }
   ],
   "source": [
    "# Lets quantify:\n",
    "from scipy.stats import zscore\n",
    "(np.abs(zscore(train_numerical_data))<3).all()"
   ]
  },
  {
   "cell_type": "code",
   "execution_count": 56,
   "id": "90f5da75",
   "metadata": {},
   "outputs": [
    {
     "name": "stdout",
     "output_type": "stream",
     "text": [
      "(array([ 1065, 10247], dtype=int64), array([0, 0], dtype=int64))\n"
     ]
    }
   ],
   "source": [
    "# Detecting outliers:\n",
    "from scipy.stats import zscore\n",
    "z = np.abs(zscore(train_numerical_data))\n",
    "print(np.where(z>3))"
   ]
  },
  {
   "cell_type": "code",
   "execution_count": 57,
   "id": "547f4b55",
   "metadata": {},
   "outputs": [
    {
     "name": "stdout",
     "output_type": "stream",
     "text": [
      "(10462, 7)\n",
      "(10460, 7)\n"
     ]
    }
   ],
   "source": [
    "# Assign the value to new_df which are less the threshold value and removing outliers:\n",
    "new_train_numerical_data = train_numerical_data[(z<3).all(axis=1)]\n",
    "print(train_numerical_data.shape)\n",
    "print(new_train_numerical_data.shape)\n",
    "\n",
    "#train_numerical_data = new_train_numerical_data\n",
    "#print(train_numerical_data.shape)"
   ]
  },
  {
   "cell_type": "code",
   "execution_count": 58,
   "id": "d2ed787e",
   "metadata": {},
   "outputs": [],
   "source": [
    "# Here Concatenating both Categorical Data and Numerical Data:\n",
    "x = pd.concat([train_categorical_data, train_numerical_data], axis=1)\n",
    "y = train_df['Price']\n",
    "test_set = pd.concat([test_categorical_data, test_numerical_data], axis=1)"
   ]
  },
  {
   "cell_type": "code",
   "execution_count": 59,
   "id": "35dc3ef8",
   "metadata": {},
   "outputs": [
    {
     "data": {
      "text/plain": [
       "Airline            0\n",
       "Source             0\n",
       "Destination        0\n",
       "Route              0\n",
       "Total_Stops        0\n",
       "Additional_Info    0\n",
       "Duration           0\n",
       "Journey_day        0\n",
       "Journey_month      0\n",
       "Dep_hour           0\n",
       "Dep_min            0\n",
       "Arrival_hour       0\n",
       "Arrival_min        0\n",
       "dtype: int64"
      ]
     },
     "execution_count": 59,
     "metadata": {},
     "output_type": "execute_result"
    }
   ],
   "source": [
    "# Checking missing values of train data:\n",
    "x.isnull().sum()"
   ]
  },
  {
   "cell_type": "code",
   "execution_count": 60,
   "id": "a20ab8b0",
   "metadata": {},
   "outputs": [
    {
     "data": {
      "text/html": [
       "<div>\n",
       "<style scoped>\n",
       "    .dataframe tbody tr th:only-of-type {\n",
       "        vertical-align: middle;\n",
       "    }\n",
       "\n",
       "    .dataframe tbody tr th {\n",
       "        vertical-align: top;\n",
       "    }\n",
       "\n",
       "    .dataframe thead th {\n",
       "        text-align: right;\n",
       "    }\n",
       "</style>\n",
       "<table border=\"1\" class=\"dataframe\">\n",
       "  <thead>\n",
       "    <tr style=\"text-align: right;\">\n",
       "      <th></th>\n",
       "      <th>Airline</th>\n",
       "      <th>Source</th>\n",
       "      <th>Destination</th>\n",
       "      <th>Route</th>\n",
       "      <th>Total_Stops</th>\n",
       "      <th>Additional_Info</th>\n",
       "      <th>Duration</th>\n",
       "      <th>Journey_day</th>\n",
       "      <th>Journey_month</th>\n",
       "      <th>Dep_hour</th>\n",
       "      <th>Dep_min</th>\n",
       "      <th>Arrival_hour</th>\n",
       "      <th>Arrival_min</th>\n",
       "    </tr>\n",
       "  </thead>\n",
       "  <tbody>\n",
       "    <tr>\n",
       "      <th>0</th>\n",
       "      <td>3</td>\n",
       "      <td>0</td>\n",
       "      <td>5</td>\n",
       "      <td>18</td>\n",
       "      <td>4</td>\n",
       "      <td>8</td>\n",
       "      <td>13.038405</td>\n",
       "      <td>24</td>\n",
       "      <td>3</td>\n",
       "      <td>22</td>\n",
       "      <td>20</td>\n",
       "      <td>1</td>\n",
       "      <td>10</td>\n",
       "    </tr>\n",
       "    <tr>\n",
       "      <th>1</th>\n",
       "      <td>1</td>\n",
       "      <td>3</td>\n",
       "      <td>0</td>\n",
       "      <td>84</td>\n",
       "      <td>1</td>\n",
       "      <td>8</td>\n",
       "      <td>21.095023</td>\n",
       "      <td>1</td>\n",
       "      <td>5</td>\n",
       "      <td>5</td>\n",
       "      <td>50</td>\n",
       "      <td>13</td>\n",
       "      <td>15</td>\n",
       "    </tr>\n",
       "    <tr>\n",
       "      <th>2</th>\n",
       "      <td>4</td>\n",
       "      <td>2</td>\n",
       "      <td>1</td>\n",
       "      <td>118</td>\n",
       "      <td>1</td>\n",
       "      <td>8</td>\n",
       "      <td>33.763886</td>\n",
       "      <td>9</td>\n",
       "      <td>6</td>\n",
       "      <td>9</td>\n",
       "      <td>25</td>\n",
       "      <td>4</td>\n",
       "      <td>25</td>\n",
       "    </tr>\n",
       "    <tr>\n",
       "      <th>3</th>\n",
       "      <td>3</td>\n",
       "      <td>3</td>\n",
       "      <td>0</td>\n",
       "      <td>91</td>\n",
       "      <td>0</td>\n",
       "      <td>8</td>\n",
       "      <td>18.027756</td>\n",
       "      <td>12</td>\n",
       "      <td>5</td>\n",
       "      <td>18</td>\n",
       "      <td>5</td>\n",
       "      <td>23</td>\n",
       "      <td>30</td>\n",
       "    </tr>\n",
       "    <tr>\n",
       "      <th>4</th>\n",
       "      <td>3</td>\n",
       "      <td>0</td>\n",
       "      <td>5</td>\n",
       "      <td>29</td>\n",
       "      <td>0</td>\n",
       "      <td>8</td>\n",
       "      <td>16.881943</td>\n",
       "      <td>1</td>\n",
       "      <td>3</td>\n",
       "      <td>16</td>\n",
       "      <td>50</td>\n",
       "      <td>21</td>\n",
       "      <td>35</td>\n",
       "    </tr>\n",
       "  </tbody>\n",
       "</table>\n",
       "</div>"
      ],
      "text/plain": [
       "   Airline  Source  Destination  Route  Total_Stops  Additional_Info  \\\n",
       "0        3       0            5     18            4                8   \n",
       "1        1       3            0     84            1                8   \n",
       "2        4       2            1    118            1                8   \n",
       "3        3       3            0     91            0                8   \n",
       "4        3       0            5     29            0                8   \n",
       "\n",
       "    Duration  Journey_day  Journey_month  Dep_hour  Dep_min  Arrival_hour  \\\n",
       "0  13.038405           24              3        22       20             1   \n",
       "1  21.095023            1              5         5       50            13   \n",
       "2  33.763886            9              6         9       25             4   \n",
       "3  18.027756           12              5        18        5            23   \n",
       "4  16.881943            1              3        16       50            21   \n",
       "\n",
       "   Arrival_min  \n",
       "0           10  \n",
       "1           15  \n",
       "2           25  \n",
       "3           30  \n",
       "4           35  "
      ]
     },
     "execution_count": 60,
     "metadata": {},
     "output_type": "execute_result"
    }
   ],
   "source": [
    "x.head()"
   ]
  },
  {
   "cell_type": "code",
   "execution_count": 61,
   "id": "c6fb7035",
   "metadata": {},
   "outputs": [
    {
     "data": {
      "text/plain": [
       "0     3897\n",
       "1     7662\n",
       "2    13882\n",
       "3     6218\n",
       "4    13302\n",
       "Name: Price, dtype: int64"
      ]
     },
     "execution_count": 61,
     "metadata": {},
     "output_type": "execute_result"
    }
   ],
   "source": [
    "y.head()"
   ]
  },
  {
   "cell_type": "code",
   "execution_count": 62,
   "id": "e1074776",
   "metadata": {},
   "outputs": [
    {
     "name": "stdout",
     "output_type": "stream",
     "text": [
      "(10462, 13) (10462,)\n"
     ]
    }
   ],
   "source": [
    "print(x.shape, y.shape)"
   ]
  },
  {
   "cell_type": "markdown",
   "id": "489dc971",
   "metadata": {},
   "source": [
    "# Scaling the data"
   ]
  },
  {
   "cell_type": "code",
   "execution_count": 63,
   "id": "d6133330",
   "metadata": {},
   "outputs": [],
   "source": [
    "from sklearn.preprocessing import StandardScaler"
   ]
  },
  {
   "cell_type": "code",
   "execution_count": 64,
   "id": "4cdb8ce8",
   "metadata": {},
   "outputs": [
    {
     "data": {
      "text/plain": [
       "array([[-0.41491593, -1.64687738,  2.40421327, ..., -0.2341234 ,\n",
       "        -1.8070449 , -0.88836709],\n",
       "       [-1.26075586,  0.88205718, -0.97201213, ...,  1.36036441,\n",
       "        -0.05655381, -0.58661071],\n",
       "       [ 0.00800403,  0.03907899, -0.29676705, ...,  0.03162457,\n",
       "        -1.36942213,  0.01690205],\n",
       "       ...,\n",
       "       [ 0.00800403, -1.64687738,  0.37847803, ..., -0.2341234 ,\n",
       "        -0.34830233, -0.28485433],\n",
       "       [ 2.5455238 , -1.64687738,  2.40421327, ...,  0.29737254,\n",
       "         0.08932044, -0.88836709],\n",
       "       [-1.26075586,  0.03907899, -0.29676705, ...,  1.62611238,\n",
       "         0.81869173, -0.58661071]])"
      ]
     },
     "execution_count": 64,
     "metadata": {},
     "output_type": "execute_result"
    }
   ],
   "source": [
    "scaler=StandardScaler()\n",
    "x_scaled=scaler.fit_transform(x)\n",
    "x_scaled"
   ]
  },
  {
   "cell_type": "markdown",
   "id": "f2a9a70e",
   "metadata": {},
   "source": [
    "# Training process begins"
   ]
  },
  {
   "cell_type": "markdown",
   "id": "c2102c3e",
   "metadata": {},
   "source": [
    "#### Finding best random_state"
   ]
  },
  {
   "cell_type": "code",
   "execution_count": 65,
   "id": "b7fc1bc4",
   "metadata": {},
   "outputs": [],
   "source": [
    "from sklearn.linear_model import LinearRegression\n",
    "lr = LinearRegression()\n",
    "\n",
    "from sklearn.ensemble import RandomForestRegressor\n",
    "rf = RandomForestRegressor()\n",
    "\n",
    "from sklearn.ensemble import AdaBoostRegressor\n",
    "abr = AdaBoostRegressor()\n",
    "\n",
    "from sklearn.ensemble import GradientBoostingRegressor\n",
    "gbr = GradientBoostingRegressor()\n",
    "\n",
    "from sklearn.tree import DecisionTreeRegressor\n",
    "dtr = DecisionTreeRegressor()\n",
    "\n",
    "from sklearn.metrics import r2_score\n",
    "from sklearn.model_selection import train_test_split"
   ]
  },
  {
   "cell_type": "code",
   "execution_count": 66,
   "id": "2adbac40",
   "metadata": {},
   "outputs": [
    {
     "name": "stdout",
     "output_type": "stream",
     "text": [
      "R2 score correspond to random state  0 is 0.4524414237055532\n",
      "R2 score correspond to random state  0 is 0.8845378594996396\n",
      "R2 score correspond to random state  0 is 0.2416872823930475\n",
      "R2 score correspond to random state  0 is 0.8009944791254516\n",
      "R2 score correspond to random state  0 is 0.775138755505161\n",
      "R2 score correspond to random state  1 is 0.44399775481823733\n",
      "R2 score correspond to random state  1 is 0.9048799338600277\n",
      "R2 score correspond to random state  1 is 0.4633056334720763\n",
      "R2 score correspond to random state  1 is 0.8391055163946846\n",
      "R2 score correspond to random state  1 is 0.8237192053326344\n",
      "R2 score correspond to random state  2 is 0.35695296074592975\n",
      "R2 score correspond to random state  2 is 0.7828170003965276\n",
      "R2 score correspond to random state  2 is 0.2696361095674843\n",
      "R2 score correspond to random state  2 is 0.7732882892344396\n",
      "R2 score correspond to random state  2 is 0.7581541800508214\n",
      "R2 score correspond to random state  3 is 0.4696825394162959\n",
      "R2 score correspond to random state  3 is 0.8889620988093871\n",
      "R2 score correspond to random state  3 is 0.1521047457129524\n",
      "R2 score correspond to random state  3 is 0.8159267544734515\n",
      "R2 score correspond to random state  3 is 0.7747952012350934\n",
      "R2 score correspond to random state  4 is 0.42966814923527197\n",
      "R2 score correspond to random state  4 is 0.8909762455426766\n",
      "R2 score correspond to random state  4 is 0.481164494738226\n",
      "R2 score correspond to random state  4 is 0.8190408609827466\n",
      "R2 score correspond to random state  4 is 0.8240131312828365\n",
      "R2 score correspond to random state  5 is 0.4529102709007916\n",
      "R2 score correspond to random state  5 is 0.8740018525321723\n",
      "R2 score correspond to random state  5 is 0.5281488801677752\n",
      "R2 score correspond to random state  5 is 0.7843835898110195\n",
      "R2 score correspond to random state  5 is 0.8401728716631405\n",
      "R2 score correspond to random state  6 is 0.41315336017445203\n",
      "R2 score correspond to random state  6 is 0.8450799424975705\n",
      "R2 score correspond to random state  6 is 0.33885600208855904\n",
      "R2 score correspond to random state  6 is 0.7597709715786987\n",
      "R2 score correspond to random state  6 is 0.7876263739479796\n",
      "R2 score correspond to random state  7 is 0.44156816595433745\n",
      "R2 score correspond to random state  7 is 0.9142456293509401\n",
      "R2 score correspond to random state  7 is 0.48492704198311254\n",
      "R2 score correspond to random state  7 is 0.8417160231100723\n",
      "R2 score correspond to random state  7 is 0.8813636112183095\n",
      "R2 score correspond to random state  8 is 0.418152737127337\n",
      "R2 score correspond to random state  8 is 0.8670131797401175\n",
      "R2 score correspond to random state  8 is 0.3592280881426654\n",
      "R2 score correspond to random state  8 is 0.793395520312012\n",
      "R2 score correspond to random state  8 is 0.770840780459538\n",
      "R2 score correspond to random state  9 is 0.41618890884902127\n",
      "R2 score correspond to random state  9 is 0.8779272985780092\n",
      "R2 score correspond to random state  9 is 0.27427932896000295\n",
      "R2 score correspond to random state  9 is 0.7965692826793639\n",
      "R2 score correspond to random state  9 is 0.8454231221433643\n",
      "R2 score correspond to random state  10 is 0.429735112882077\n",
      "R2 score correspond to random state  10 is 0.9165587929814866\n",
      "R2 score correspond to random state  10 is 0.2850765727570804\n",
      "R2 score correspond to random state  10 is 0.8550231935157339\n",
      "R2 score correspond to random state  10 is 0.8455260260281638\n",
      "R2 score correspond to random state  11 is 0.3963731335557732\n",
      "R2 score correspond to random state  11 is 0.8686151041865431\n",
      "R2 score correspond to random state  11 is 0.4802376129023672\n",
      "R2 score correspond to random state  11 is 0.8321277360959147\n",
      "R2 score correspond to random state  11 is 0.7612387825829806\n",
      "R2 score correspond to random state  12 is 0.410584110648735\n",
      "R2 score correspond to random state  12 is 0.9071527730740417\n",
      "R2 score correspond to random state  12 is 0.4355049829816391\n",
      "R2 score correspond to random state  12 is 0.8237088436764974\n",
      "R2 score correspond to random state  12 is 0.8014024525103101\n",
      "R2 score correspond to random state  13 is 0.3812401240982617\n",
      "R2 score correspond to random state  13 is 0.8878604199947105\n",
      "R2 score correspond to random state  13 is 0.47043877834057735\n",
      "R2 score correspond to random state  13 is 0.8088784204805737\n",
      "R2 score correspond to random state  13 is 0.8420438994875132\n",
      "R2 score correspond to random state  14 is 0.45822186893138184\n",
      "R2 score correspond to random state  14 is 0.9000907926373287\n",
      "R2 score correspond to random state  14 is 0.30592526663698083\n",
      "R2 score correspond to random state  14 is 0.8466425825108422\n",
      "R2 score correspond to random state  14 is 0.6950105578202144\n",
      "R2 score correspond to random state  15 is 0.4324432303389917\n",
      "R2 score correspond to random state  15 is 0.8902243028123792\n",
      "R2 score correspond to random state  15 is 0.27890499780719824\n",
      "R2 score correspond to random state  15 is 0.8266326242544191\n",
      "R2 score correspond to random state  15 is 0.797249699045676\n",
      "R2 score correspond to random state  16 is 0.44713317292993515\n",
      "R2 score correspond to random state  16 is 0.9212995690738013\n",
      "R2 score correspond to random state  16 is 0.24321066371474986\n",
      "R2 score correspond to random state  16 is 0.8424540590787291\n",
      "R2 score correspond to random state  16 is 0.7255889973170095\n",
      "R2 score correspond to random state  17 is 0.37294713902774634\n",
      "R2 score correspond to random state  17 is 0.8050294381397067\n",
      "R2 score correspond to random state  17 is 0.4859297166688854\n",
      "R2 score correspond to random state  17 is 0.8258425792687223\n",
      "R2 score correspond to random state  17 is 0.6857570948530792\n",
      "R2 score correspond to random state  18 is 0.44958247710924515\n",
      "R2 score correspond to random state  18 is 0.8830830453163384\n",
      "R2 score correspond to random state  18 is 0.14952320715615808\n",
      "R2 score correspond to random state  18 is 0.7984763794669553\n",
      "R2 score correspond to random state  18 is 0.791225869058735\n",
      "R2 score correspond to random state  19 is 0.4199862436801455\n",
      "R2 score correspond to random state  19 is 0.8922877792784737\n",
      "R2 score correspond to random state  19 is 0.3615588251386822\n",
      "R2 score correspond to random state  19 is 0.8454011097346683\n",
      "R2 score correspond to random state  19 is 0.8269898929049567\n",
      "R2 score correspond to random state  20 is 0.40209334610069314\n",
      "R2 score correspond to random state  20 is 0.8893554123089544\n",
      "R2 score correspond to random state  20 is 0.505883337101428\n",
      "R2 score correspond to random state  20 is 0.8068214109083196\n",
      "R2 score correspond to random state  20 is 0.794872220851106\n",
      "R2 score correspond to random state  21 is 0.4195941973162671\n",
      "R2 score correspond to random state  21 is 0.870473283508076\n",
      "R2 score correspond to random state  21 is 0.23621655504423933\n",
      "R2 score correspond to random state  21 is 0.8331136047330973\n",
      "R2 score correspond to random state  21 is 0.7208272926907493\n",
      "R2 score correspond to random state  22 is 0.4386950140728326\n",
      "R2 score correspond to random state  22 is 0.8612956681740838\n",
      "R2 score correspond to random state  22 is 0.3465856326029463\n",
      "R2 score correspond to random state  22 is 0.8455162510770529\n",
      "R2 score correspond to random state  22 is 0.7890370045033286\n",
      "R2 score correspond to random state  23 is 0.42063803454111004\n",
      "R2 score correspond to random state  23 is 0.8917461273738421\n",
      "R2 score correspond to random state  23 is 0.42512560524443876\n",
      "R2 score correspond to random state  23 is 0.8087438073431741\n",
      "R2 score correspond to random state  23 is 0.8526014213810811\n",
      "R2 score correspond to random state  24 is 0.3932820956174842\n",
      "R2 score correspond to random state  24 is 0.8296957906127139\n",
      "R2 score correspond to random state  24 is 0.3920749008274522\n",
      "R2 score correspond to random state  24 is 0.7870114588793111\n",
      "R2 score correspond to random state  24 is 0.6907563847731588\n",
      "R2 score correspond to random state  25 is 0.43933374141108317\n",
      "R2 score correspond to random state  25 is 0.8680511056469045\n",
      "R2 score correspond to random state  25 is 0.3654723990214216\n",
      "R2 score correspond to random state  25 is 0.8230514623980942\n",
      "R2 score correspond to random state  25 is 0.7060148011719125\n",
      "R2 score correspond to random state  26 is 0.43322742434363404\n",
      "R2 score correspond to random state  26 is 0.8913792369262052\n",
      "R2 score correspond to random state  26 is 0.3588011016259718\n"
     ]
    },
    {
     "name": "stdout",
     "output_type": "stream",
     "text": [
      "R2 score correspond to random state  26 is 0.8370373819420185\n",
      "R2 score correspond to random state  26 is 0.7555884569920359\n",
      "R2 score correspond to random state  27 is 0.3851531804014191\n",
      "R2 score correspond to random state  27 is 0.8174523524417889\n",
      "R2 score correspond to random state  27 is 0.48979902089492067\n",
      "R2 score correspond to random state  27 is 0.8018732296198606\n",
      "R2 score correspond to random state  27 is 0.6618766461934729\n",
      "R2 score correspond to random state  28 is 0.44117124648388495\n",
      "R2 score correspond to random state  28 is 0.9077370004278752\n",
      "R2 score correspond to random state  28 is 0.2117993962512612\n",
      "R2 score correspond to random state  28 is 0.8367866360099881\n",
      "R2 score correspond to random state  28 is 0.8080344757389759\n",
      "R2 score correspond to random state  29 is 0.45049889952470623\n",
      "R2 score correspond to random state  29 is 0.8982298051506918\n",
      "R2 score correspond to random state  29 is 0.2166138883736919\n",
      "R2 score correspond to random state  29 is 0.8152798685058081\n",
      "R2 score correspond to random state  29 is 0.7506044619837091\n",
      "R2 score correspond to random state  30 is 0.3964838617922032\n",
      "R2 score correspond to random state  30 is 0.8839646649530107\n",
      "R2 score correspond to random state  30 is 0.2649722042106878\n",
      "R2 score correspond to random state  30 is 0.795842087655544\n",
      "R2 score correspond to random state  30 is 0.8026908491103741\n",
      "R2 score correspond to random state  31 is 0.3826413609921455\n",
      "R2 score correspond to random state  31 is 0.8769262463594231\n",
      "R2 score correspond to random state  31 is 0.48078358657960807\n",
      "R2 score correspond to random state  31 is 0.794512071300324\n",
      "R2 score correspond to random state  31 is 0.8436841403578472\n",
      "R2 score correspond to random state  32 is 0.39274832506474866\n",
      "R2 score correspond to random state  32 is 0.8523588583072382\n",
      "R2 score correspond to random state  32 is 0.4596909103927377\n",
      "R2 score correspond to random state  32 is 0.7866684821598308\n",
      "R2 score correspond to random state  32 is 0.7234208296866356\n",
      "R2 score correspond to random state  33 is 0.46515110074676125\n",
      "R2 score correspond to random state  33 is 0.9159079593350331\n",
      "R2 score correspond to random state  33 is 0.35780709663981825\n",
      "R2 score correspond to random state  33 is 0.856068189069001\n",
      "R2 score correspond to random state  33 is 0.8470756175212713\n",
      "R2 score correspond to random state  34 is 0.46581696933126515\n",
      "R2 score correspond to random state  34 is 0.8921402239665157\n",
      "R2 score correspond to random state  34 is 0.27047972555486355\n",
      "R2 score correspond to random state  34 is 0.8383913472740006\n",
      "R2 score correspond to random state  34 is 0.8565197206510029\n",
      "R2 score correspond to random state  35 is 0.4230687836130925\n",
      "R2 score correspond to random state  35 is 0.8460512986569476\n",
      "R2 score correspond to random state  35 is 0.23092330435969954\n",
      "R2 score correspond to random state  35 is 0.8154888636259107\n",
      "R2 score correspond to random state  35 is 0.7808620707056029\n",
      "R2 score correspond to random state  36 is 0.45655602830753694\n",
      "R2 score correspond to random state  36 is 0.9032796314433245\n",
      "R2 score correspond to random state  36 is 0.2977960333228328\n",
      "R2 score correspond to random state  36 is 0.8363947806572977\n",
      "R2 score correspond to random state  36 is 0.8473124964080397\n",
      "R2 score correspond to random state  37 is 0.45616293513693285\n",
      "R2 score correspond to random state  37 is 0.8667458960959579\n",
      "R2 score correspond to random state  37 is 0.2794097849167484\n",
      "R2 score correspond to random state  37 is 0.8516850425003771\n",
      "R2 score correspond to random state  37 is 0.755106337471155\n",
      "R2 score correspond to random state  38 is 0.4422464520238779\n",
      "R2 score correspond to random state  38 is 0.8851907355604529\n",
      "R2 score correspond to random state  38 is 0.3038972163477488\n",
      "R2 score correspond to random state  38 is 0.8021573240435718\n",
      "R2 score correspond to random state  38 is 0.775450488905739\n",
      "R2 score correspond to random state  39 is 0.42142878473569834\n",
      "R2 score correspond to random state  39 is 0.8874048953436741\n",
      "R2 score correspond to random state  39 is 0.41776621970357053\n",
      "R2 score correspond to random state  39 is 0.8423073615030255\n",
      "R2 score correspond to random state  39 is 0.8486637099049275\n",
      "R2 score correspond to random state  40 is 0.4036152691461522\n",
      "R2 score correspond to random state  40 is 0.858255957879039\n",
      "R2 score correspond to random state  40 is 0.3810642657522285\n",
      "R2 score correspond to random state  40 is 0.8416992192771322\n",
      "R2 score correspond to random state  40 is 0.7967517486765588\n",
      "R2 score correspond to random state  41 is 0.46889036997087785\n",
      "R2 score correspond to random state  41 is 0.9028056410799078\n",
      "R2 score correspond to random state  41 is 0.301857134679281\n",
      "R2 score correspond to random state  41 is 0.8423276413965063\n",
      "R2 score correspond to random state  41 is 0.7627224225242368\n",
      "R2 score correspond to random state  42 is 0.4401719859089388\n",
      "R2 score correspond to random state  42 is 0.8877319192794807\n",
      "R2 score correspond to random state  42 is 0.3189697763976487\n",
      "R2 score correspond to random state  42 is 0.8195928819323319\n",
      "R2 score correspond to random state  42 is 0.8355889068847011\n",
      "R2 score correspond to random state  43 is 0.39614176665574463\n",
      "R2 score correspond to random state  43 is 0.8615130574920342\n",
      "R2 score correspond to random state  43 is 0.4522531266969526\n",
      "R2 score correspond to random state  43 is 0.7918044433552359\n",
      "R2 score correspond to random state  43 is 0.7930191069679227\n",
      "R2 score correspond to random state  44 is 0.39548171304650304\n",
      "R2 score correspond to random state  44 is 0.8565999040592089\n",
      "R2 score correspond to random state  44 is 0.45862093140904614\n",
      "R2 score correspond to random state  44 is 0.8462045820076619\n",
      "R2 score correspond to random state  44 is 0.7857036011870147\n",
      "R2 score correspond to random state  45 is 0.42345816232430233\n",
      "R2 score correspond to random state  45 is 0.8855710365904161\n",
      "R2 score correspond to random state  45 is 0.4809175273601045\n",
      "R2 score correspond to random state  45 is 0.830710417558292\n",
      "R2 score correspond to random state  45 is 0.869709127916771\n",
      "R2 score correspond to random state  46 is 0.4026058535894649\n",
      "R2 score correspond to random state  46 is 0.8528257028620492\n",
      "R2 score correspond to random state  46 is 0.3728716047123394\n",
      "R2 score correspond to random state  46 is 0.753928768639646\n",
      "R2 score correspond to random state  46 is 0.8227128801848678\n",
      "R2 score correspond to random state  47 is 0.4378088456136431\n",
      "R2 score correspond to random state  47 is 0.8643989283022304\n",
      "R2 score correspond to random state  47 is 0.2965859358749039\n",
      "R2 score correspond to random state  47 is 0.8350685434049665\n",
      "R2 score correspond to random state  47 is 0.8182833126859084\n",
      "R2 score correspond to random state  48 is 0.4657982561855589\n",
      "R2 score correspond to random state  48 is 0.8780799095567271\n",
      "R2 score correspond to random state  48 is 0.41701962643052093\n",
      "R2 score correspond to random state  48 is 0.8218879754305678\n",
      "R2 score correspond to random state  48 is 0.6663480992925704\n",
      "R2 score correspond to random state  49 is 0.4345005809158179\n",
      "R2 score correspond to random state  49 is 0.8501649406663692\n",
      "R2 score correspond to random state  49 is 0.2983679598705411\n",
      "R2 score correspond to random state  49 is 0.8085259461335563\n",
      "R2 score correspond to random state  49 is 0.8138714060538822\n",
      "R2 score correspond to random state  50 is 0.4470717938305474\n",
      "R2 score correspond to random state  50 is 0.9072997786688742\n",
      "R2 score correspond to random state  50 is 0.24375861884178296\n",
      "R2 score correspond to random state  50 is 0.8360677193132857\n",
      "R2 score correspond to random state  50 is 0.7737870461409697\n",
      "R2 score correspond to random state  51 is 0.46550650616067457\n",
      "R2 score correspond to random state  51 is 0.9085241525516017\n",
      "R2 score correspond to random state  51 is 0.3251530238962598\n",
      "R2 score correspond to random state  51 is 0.8298977239304428\n",
      "R2 score correspond to random state  51 is 0.7995965055032843\n",
      "R2 score correspond to random state  52 is 0.43817011409398954\n",
      "R2 score correspond to random state  52 is 0.9094000071668905\n",
      "R2 score correspond to random state  52 is 0.22179279055298495\n",
      "R2 score correspond to random state  52 is 0.8082150275796296\n",
      "R2 score correspond to random state  52 is 0.8673767073448582\n",
      "R2 score correspond to random state  53 is 0.4587283003657112\n"
     ]
    },
    {
     "name": "stdout",
     "output_type": "stream",
     "text": [
      "R2 score correspond to random state  53 is 0.9017149949213393\n",
      "R2 score correspond to random state  53 is 0.2961386683545574\n",
      "R2 score correspond to random state  53 is 0.8255882576151625\n",
      "R2 score correspond to random state  53 is 0.8552746169801176\n",
      "R2 score correspond to random state  54 is 0.43472024757556593\n",
      "R2 score correspond to random state  54 is 0.8612018814333648\n",
      "R2 score correspond to random state  54 is 0.3070510227831824\n",
      "R2 score correspond to random state  54 is 0.7963245953426478\n",
      "R2 score correspond to random state  54 is 0.7394973708647989\n",
      "R2 score correspond to random state  55 is 0.4081666030332304\n",
      "R2 score correspond to random state  55 is 0.844820925352884\n",
      "R2 score correspond to random state  55 is 0.26327142688238414\n",
      "R2 score correspond to random state  55 is 0.8042676701985512\n",
      "R2 score correspond to random state  55 is 0.7562710598807635\n",
      "R2 score correspond to random state  56 is 0.42017651654762\n",
      "R2 score correspond to random state  56 is 0.8516469493891321\n",
      "R2 score correspond to random state  56 is 0.3067576470444806\n",
      "R2 score correspond to random state  56 is 0.7943755984079875\n",
      "R2 score correspond to random state  56 is 0.76622716056251\n",
      "R2 score correspond to random state  57 is 0.41257853540294487\n",
      "R2 score correspond to random state  57 is 0.8620105074640605\n",
      "R2 score correspond to random state  57 is 0.3329201928928941\n",
      "R2 score correspond to random state  57 is 0.8200965132826107\n",
      "R2 score correspond to random state  57 is 0.8362558263897983\n",
      "R2 score correspond to random state  58 is 0.42525852053104396\n",
      "R2 score correspond to random state  58 is 0.8968328248782909\n",
      "R2 score correspond to random state  58 is 0.2149069881275224\n",
      "R2 score correspond to random state  58 is 0.8523150728610642\n",
      "R2 score correspond to random state  58 is 0.8320651897595543\n",
      "R2 score correspond to random state  59 is 0.3961982854257362\n",
      "R2 score correspond to random state  59 is 0.8779136454142769\n",
      "R2 score correspond to random state  59 is 0.3522871494260632\n",
      "R2 score correspond to random state  59 is 0.8333140003180587\n",
      "R2 score correspond to random state  59 is 0.8301792462305212\n",
      "R2 score correspond to random state  60 is 0.40400027399290805\n",
      "R2 score correspond to random state  60 is 0.8390706466749066\n",
      "R2 score correspond to random state  60 is 0.47116332399223715\n",
      "R2 score correspond to random state  60 is 0.8069304373422919\n",
      "R2 score correspond to random state  60 is 0.7885042779426616\n",
      "R2 score correspond to random state  61 is 0.37245249574876116\n",
      "R2 score correspond to random state  61 is 0.8035714082591763\n",
      "R2 score correspond to random state  61 is 0.30160312474989825\n",
      "R2 score correspond to random state  61 is 0.7688845731638747\n",
      "R2 score correspond to random state  61 is 0.7960083846737591\n",
      "R2 score correspond to random state  62 is 0.41742379553839004\n",
      "R2 score correspond to random state  62 is 0.8947645970910668\n",
      "R2 score correspond to random state  62 is 0.4609437947947055\n",
      "R2 score correspond to random state  62 is 0.7994855159642296\n",
      "R2 score correspond to random state  62 is 0.8386971349414016\n",
      "R2 score correspond to random state  63 is 0.36094224401302455\n",
      "R2 score correspond to random state  63 is 0.8050088385147702\n",
      "R2 score correspond to random state  63 is 0.5145302389002084\n",
      "R2 score correspond to random state  63 is 0.7986292770066483\n",
      "R2 score correspond to random state  63 is 0.7802190922209717\n",
      "R2 score correspond to random state  64 is 0.44101286533660167\n",
      "R2 score correspond to random state  64 is 0.8972383518568359\n",
      "R2 score correspond to random state  64 is 0.35156671601490774\n",
      "R2 score correspond to random state  64 is 0.8190536617556672\n",
      "R2 score correspond to random state  64 is 0.8355431387260052\n",
      "R2 score correspond to random state  65 is 0.409644744681801\n",
      "R2 score correspond to random state  65 is 0.8241098502685336\n",
      "R2 score correspond to random state  65 is 0.4426780696828353\n",
      "R2 score correspond to random state  65 is 0.8235714902895033\n",
      "R2 score correspond to random state  65 is 0.7325826454054156\n",
      "R2 score correspond to random state  66 is 0.3800319158050832\n",
      "R2 score correspond to random state  66 is 0.8396842745758769\n",
      "R2 score correspond to random state  66 is 0.5313893220116834\n",
      "R2 score correspond to random state  66 is 0.806374040752315\n",
      "R2 score correspond to random state  66 is 0.7606630025395174\n",
      "R2 score correspond to random state  67 is 0.447326272811882\n",
      "R2 score correspond to random state  67 is 0.8957305047220296\n",
      "R2 score correspond to random state  67 is 0.41168383352572424\n",
      "R2 score correspond to random state  67 is 0.8200590840789201\n",
      "R2 score correspond to random state  67 is 0.8559872024895084\n",
      "R2 score correspond to random state  68 is 0.3697267202549246\n",
      "R2 score correspond to random state  68 is 0.8178135237195576\n",
      "R2 score correspond to random state  68 is 0.4831312924903115\n",
      "R2 score correspond to random state  68 is 0.7924567842151452\n",
      "R2 score correspond to random state  68 is 0.7322260821814726\n",
      "R2 score correspond to random state  69 is 0.44973311035432784\n",
      "R2 score correspond to random state  69 is 0.9221469236768695\n",
      "R2 score correspond to random state  69 is 0.2820454070239665\n",
      "R2 score correspond to random state  69 is 0.8450950403166126\n",
      "R2 score correspond to random state  69 is 0.8059365944225528\n",
      "R2 score correspond to random state  70 is 0.4042232102736334\n",
      "R2 score correspond to random state  70 is 0.8221522751415857\n",
      "R2 score correspond to random state  70 is 0.4353387306793277\n",
      "R2 score correspond to random state  70 is 0.8133800718664249\n",
      "R2 score correspond to random state  70 is 0.7434677966081186\n",
      "R2 score correspond to random state  71 is 0.43654130384390355\n",
      "R2 score correspond to random state  71 is 0.8718370807065055\n",
      "R2 score correspond to random state  71 is 0.44823883873797454\n",
      "R2 score correspond to random state  71 is 0.8267647889593481\n",
      "R2 score correspond to random state  71 is 0.7775061617422931\n",
      "R2 score correspond to random state  72 is 0.3992940669025713\n",
      "R2 score correspond to random state  72 is 0.8856831324961486\n",
      "R2 score correspond to random state  72 is 0.41749786725889637\n",
      "R2 score correspond to random state  72 is 0.8215725002738818\n",
      "R2 score correspond to random state  72 is 0.7694354163370968\n",
      "R2 score correspond to random state  73 is 0.40541097667576376\n",
      "R2 score correspond to random state  73 is 0.844085196667109\n",
      "R2 score correspond to random state  73 is 0.32588471549277354\n",
      "R2 score correspond to random state  73 is 0.8151642954928487\n",
      "R2 score correspond to random state  73 is 0.7572034353530206\n",
      "R2 score correspond to random state  74 is 0.4432305900262713\n",
      "R2 score correspond to random state  74 is 0.9037583984767092\n",
      "R2 score correspond to random state  74 is 0.33096560500019845\n",
      "R2 score correspond to random state  74 is 0.8520643247444946\n",
      "R2 score correspond to random state  74 is 0.8531265524237833\n",
      "R2 score correspond to random state  75 is 0.4736234332388274\n",
      "R2 score correspond to random state  75 is 0.8868853614333516\n",
      "R2 score correspond to random state  75 is 0.35350852891338536\n",
      "R2 score correspond to random state  75 is 0.7877891830296989\n",
      "R2 score correspond to random state  75 is 0.8280105844411206\n",
      "R2 score correspond to random state  76 is 0.4249909500585376\n",
      "R2 score correspond to random state  76 is 0.9203942319702261\n",
      "R2 score correspond to random state  76 is 0.36947614927362893\n",
      "R2 score correspond to random state  76 is 0.8297474977369702\n",
      "R2 score correspond to random state  76 is 0.8631610217399844\n",
      "R2 score correspond to random state  77 is 0.44074223615754093\n",
      "R2 score correspond to random state  77 is 0.8892105347794866\n",
      "R2 score correspond to random state  77 is 0.37020554233500114\n",
      "R2 score correspond to random state  77 is 0.7800667560030152\n",
      "R2 score correspond to random state  77 is 0.8757155038125851\n",
      "R2 score correspond to random state  78 is 0.4356136767225406\n",
      "R2 score correspond to random state  78 is 0.8558545486253817\n",
      "R2 score correspond to random state  78 is 0.32986986963947706\n",
      "R2 score correspond to random state  78 is 0.7914657021164163\n",
      "R2 score correspond to random state  78 is 0.7902111318012984\n",
      "R2 score correspond to random state  79 is 0.4436392221241785\n",
      "R2 score correspond to random state  79 is 0.9189124925936137\n",
      "R2 score correspond to random state  79 is 0.3470369229354415\n"
     ]
    },
    {
     "name": "stdout",
     "output_type": "stream",
     "text": [
      "R2 score correspond to random state  79 is 0.8564827538507137\n",
      "R2 score correspond to random state  79 is 0.7856976338934931\n",
      "R2 score correspond to random state  80 is 0.45777791796018186\n",
      "R2 score correspond to random state  80 is 0.9159181708531073\n",
      "R2 score correspond to random state  80 is 0.3118380766588731\n",
      "R2 score correspond to random state  80 is 0.8429143189027992\n",
      "R2 score correspond to random state  80 is 0.8163130335050457\n",
      "R2 score correspond to random state  81 is 0.44403288179271483\n",
      "R2 score correspond to random state  81 is 0.9008792272452458\n",
      "R2 score correspond to random state  81 is 0.5350597638958795\n",
      "R2 score correspond to random state  81 is 0.8285911731239602\n",
      "R2 score correspond to random state  81 is 0.6960943000039824\n",
      "R2 score correspond to random state  82 is 0.3819788792094083\n",
      "R2 score correspond to random state  82 is 0.8259358107511166\n",
      "R2 score correspond to random state  82 is 0.2762201615349531\n",
      "R2 score correspond to random state  82 is 0.7706780711669583\n",
      "R2 score correspond to random state  82 is 0.7974390037776364\n",
      "R2 score correspond to random state  83 is 0.43531494717236263\n",
      "R2 score correspond to random state  83 is 0.873347635172189\n",
      "R2 score correspond to random state  83 is 0.2720918028094309\n",
      "R2 score correspond to random state  83 is 0.8274972870038897\n",
      "R2 score correspond to random state  83 is 0.7216783666031316\n",
      "R2 score correspond to random state  84 is 0.41162487287241856\n",
      "R2 score correspond to random state  84 is 0.9012614295343983\n",
      "R2 score correspond to random state  84 is 0.43583918770162444\n",
      "R2 score correspond to random state  84 is 0.8076717406984343\n",
      "R2 score correspond to random state  84 is 0.8098672028853124\n",
      "R2 score correspond to random state  85 is 0.422940436986069\n",
      "R2 score correspond to random state  85 is 0.9239315069078697\n",
      "R2 score correspond to random state  85 is 0.2736812150491784\n",
      "R2 score correspond to random state  85 is 0.8392409629226174\n",
      "R2 score correspond to random state  85 is 0.8272232109642697\n",
      "R2 score correspond to random state  86 is 0.4342313358083526\n",
      "R2 score correspond to random state  86 is 0.8515930277712032\n",
      "R2 score correspond to random state  86 is 0.2539133566465809\n",
      "R2 score correspond to random state  86 is 0.8194314713861748\n",
      "R2 score correspond to random state  86 is 0.7712157129181396\n",
      "R2 score correspond to random state  87 is 0.4291710638905768\n",
      "R2 score correspond to random state  87 is 0.840944265301474\n",
      "R2 score correspond to random state  87 is 0.3787621070899292\n",
      "R2 score correspond to random state  87 is 0.8186565131208114\n",
      "R2 score correspond to random state  87 is 0.7792386450626331\n",
      "R2 score correspond to random state  88 is 0.4415844735784096\n",
      "R2 score correspond to random state  88 is 0.9085592851672392\n",
      "R2 score correspond to random state  88 is 0.19736857608281977\n",
      "R2 score correspond to random state  88 is 0.8454484705540213\n",
      "R2 score correspond to random state  88 is 0.7457566573378467\n",
      "R2 score correspond to random state  89 is 0.4505038756470877\n",
      "R2 score correspond to random state  89 is 0.8766181817822079\n",
      "R2 score correspond to random state  89 is 0.3778901304326546\n",
      "R2 score correspond to random state  89 is 0.8313008780708256\n",
      "R2 score correspond to random state  89 is 0.8265797560356832\n",
      "R2 score correspond to random state  90 is 0.4276093059603686\n",
      "R2 score correspond to random state  90 is 0.8501785968854358\n",
      "R2 score correspond to random state  90 is 0.45110731682221306\n",
      "R2 score correspond to random state  90 is 0.8227883383708152\n",
      "R2 score correspond to random state  90 is 0.8240365908221756\n",
      "R2 score correspond to random state  91 is 0.45269850832780756\n",
      "R2 score correspond to random state  91 is 0.8973360814538642\n",
      "R2 score correspond to random state  91 is 0.4838909723918601\n",
      "R2 score correspond to random state  91 is 0.845018174960673\n",
      "R2 score correspond to random state  91 is 0.8324884280854106\n",
      "R2 score correspond to random state  92 is 0.4305809800472272\n",
      "R2 score correspond to random state  92 is 0.869637531374188\n",
      "R2 score correspond to random state  92 is 0.3015024853140942\n",
      "R2 score correspond to random state  92 is 0.8416541805231277\n",
      "R2 score correspond to random state  92 is 0.7885852267685187\n",
      "R2 score correspond to random state  93 is 0.41654951264707973\n",
      "R2 score correspond to random state  93 is 0.8410592368087862\n",
      "R2 score correspond to random state  93 is 0.46597279994835117\n",
      "R2 score correspond to random state  93 is 0.8244085965911394\n",
      "R2 score correspond to random state  93 is 0.813480195490732\n",
      "R2 score correspond to random state  94 is 0.4427389323371288\n",
      "R2 score correspond to random state  94 is 0.8500339962622065\n",
      "R2 score correspond to random state  94 is 0.4044318489036959\n",
      "R2 score correspond to random state  94 is 0.8508992238447941\n",
      "R2 score correspond to random state  94 is 0.7210796133931849\n",
      "R2 score correspond to random state  95 is 0.4577929645087869\n",
      "R2 score correspond to random state  95 is 0.905582395598126\n",
      "R2 score correspond to random state  95 is 0.4293688150180467\n",
      "R2 score correspond to random state  95 is 0.851798530580616\n",
      "R2 score correspond to random state  95 is 0.7977585991590782\n",
      "R2 score correspond to random state  96 is 0.4435305291498097\n",
      "R2 score correspond to random state  96 is 0.8515672793952104\n",
      "R2 score correspond to random state  96 is 0.5489328166609599\n",
      "R2 score correspond to random state  96 is 0.8259609808130499\n",
      "R2 score correspond to random state  96 is 0.824948801183462\n",
      "R2 score correspond to random state  97 is 0.4449578168786783\n",
      "R2 score correspond to random state  97 is 0.8401806882593954\n",
      "R2 score correspond to random state  97 is 0.31913712334592437\n",
      "R2 score correspond to random state  97 is 0.8428102063751644\n",
      "R2 score correspond to random state  97 is 0.7674988790518591\n",
      "R2 score correspond to random state  98 is 0.43499790803735583\n",
      "R2 score correspond to random state  98 is 0.8880119628131359\n",
      "R2 score correspond to random state  98 is 0.31405637681972887\n",
      "R2 score correspond to random state  98 is 0.8209871946132166\n",
      "R2 score correspond to random state  98 is 0.7680004892590085\n",
      "R2 score correspond to random state  99 is 0.443024379674253\n",
      "R2 score correspond to random state  99 is 0.90066666324358\n",
      "R2 score correspond to random state  99 is 0.44781828122903433\n",
      "R2 score correspond to random state  99 is 0.8201439637940626\n",
      "R2 score correspond to random state  99 is 0.8119925357341635\n",
      "max R2 score correspond to random state  85 is 0.9239315069078697 and model is RandomForestRegressor()\n"
     ]
    }
   ],
   "source": [
    "model = [lr,rf,abr,gbr,dtr]\n",
    "max_r2_score = 0\n",
    "for r_state in range(0,100):\n",
    "    x_train, x_test, y_train, y_test = train_test_split(x,y,test_size=.20,random_state = r_state)\n",
    "    for i in model:\n",
    "        i.fit(x_train,y_train)\n",
    "        pred_test = i.predict(x_test)\n",
    "        r2_sc = r2_score(y_test,pred_test)\n",
    "        print(\"R2 score correspond to random state \",r_state,\"is\",r2_sc)\n",
    "        if r2_sc > max_r2_score:\n",
    "            max_r2_score = r2_sc\n",
    "            final_state = r_state\n",
    "            final_model = i"
   ]
  },
  {
   "cell_type": "code",
   "execution_count": 72,
   "id": "efd5fc7a",
   "metadata": {},
   "outputs": [
    {
     "name": "stdout",
     "output_type": "stream",
     "text": [
      "max R2 score correspond to random state  85 is 0.9239315069078697 and model is RandomForestRegressor()\n"
     ]
    }
   ],
   "source": [
    "print(\"max R2 score correspond to random state \",final_state,\"is\",max_r2_score,\"and model is\",final_model)"
   ]
  },
  {
   "cell_type": "markdown",
   "id": "a685aab7",
   "metadata": {},
   "source": [
    "# Creating train-test split"
   ]
  },
  {
   "cell_type": "code",
   "execution_count": 73,
   "id": "4122d49f",
   "metadata": {},
   "outputs": [],
   "source": [
    "x_train, x_test, y_train, y_test = train_test_split(x,y,test_size=.20,random_state = 85)"
   ]
  },
  {
   "cell_type": "markdown",
   "id": "54d51756",
   "metadata": {},
   "source": [
    "### Apply best model"
   ]
  },
  {
   "cell_type": "code",
   "execution_count": 74,
   "id": "27764362",
   "metadata": {},
   "outputs": [
    {
     "name": "stdout",
     "output_type": "stream",
     "text": [
      "r2 score :-  0.9256267218796802\n"
     ]
    }
   ],
   "source": [
    "rf.fit(x_train,y_train)\n",
    "pred = rf.predict(x_test)\n",
    "print(\"r2 score :- \",r2_score(y_test,pred))"
   ]
  },
  {
   "cell_type": "code",
   "execution_count": 77,
   "id": "41f641d6",
   "metadata": {},
   "outputs": [
    {
     "name": "stdout",
     "output_type": "stream",
     "text": [
      "predicted ticket price: [10262.    4208.54  4590.23 ... 13853.99  7048.16 13788.73]\n",
      "actual ticket price 4596    10262\n",
      "7360     4174\n",
      "6636     4077\n",
      "4807     5797\n",
      "6397     4460\n",
      "        ...  \n",
      "1216     5796\n",
      "5116     6587\n",
      "2811    14388\n",
      "2294     7318\n",
      "2373    13377\n",
      "Name: Price, Length: 2093, dtype: int64\n"
     ]
    }
   ],
   "source": [
    "# Predict the value:\n",
    "print(\"predicted ticket price:\",pred)\n",
    "print(\"actual ticket price\",y_test)"
   ]
  },
  {
   "cell_type": "markdown",
   "id": "d8993276",
   "metadata": {},
   "source": [
    "### Check MAE, MSE and RMSE"
   ]
  },
  {
   "cell_type": "code",
   "execution_count": 78,
   "id": "1242d5d2",
   "metadata": {},
   "outputs": [
    {
     "name": "stdout",
     "output_type": "stream",
     "text": [
      "error:\n",
      "mean absolute error 611.4939927308716\n",
      "mean squared error 1573782.987360896\n",
      "Root mean squared error 1254.5050766580803\n"
     ]
    }
   ],
   "source": [
    "# Display MAE, MSE and RMSE:\n",
    "from sklearn.metrics import mean_squared_error, mean_absolute_error\n",
    "print('error:')\n",
    "\n",
    "print('mean absolute error',mean_absolute_error(y_test,pred))\n",
    "print('mean squared error',mean_squared_error(y_test,pred))\n",
    "\n",
    "print('Root mean squared error',np.sqrt(mean_squared_error(y_test,pred)))"
   ]
  },
  {
   "cell_type": "markdown",
   "id": "f46ccd18",
   "metadata": {},
   "source": [
    "# Cross Validation of the model"
   ]
  },
  {
   "cell_type": "code",
   "execution_count": 80,
   "id": "2b82d2df",
   "metadata": {},
   "outputs": [
    {
     "name": "stdout",
     "output_type": "stream",
     "text": [
      "At cv:- 2\n",
      "cross validation score is :- 85.50307146238536\n",
      "r2 score is :- 92.56267218796802\n",
      "\n",
      "\n",
      "At cv:- 3\n",
      "cross validation score is :- 86.10810248595837\n",
      "r2 score is :- 92.56267218796802\n",
      "\n",
      "\n",
      "At cv:- 4\n",
      "cross validation score is :- 87.37975983710197\n",
      "r2 score is :- 92.56267218796802\n",
      "\n",
      "\n",
      "At cv:- 5\n",
      "cross validation score is :- 87.97329127355049\n",
      "r2 score is :- 92.56267218796802\n",
      "\n",
      "\n",
      "At cv:- 6\n",
      "cross validation score is :- 88.14543163661305\n",
      "r2 score is :- 92.56267218796802\n",
      "\n",
      "\n",
      "At cv:- 7\n",
      "cross validation score is :- 88.18530534851796\n",
      "r2 score is :- 92.56267218796802\n",
      "\n",
      "\n",
      "At cv:- 8\n",
      "cross validation score is :- 88.32671992302932\n",
      "r2 score is :- 92.56267218796802\n",
      "\n",
      "\n",
      "At cv:- 9\n",
      "cross validation score is :- 88.44446869920893\n",
      "r2 score is :- 92.56267218796802\n",
      "\n",
      "\n"
     ]
    }
   ],
   "source": [
    "from sklearn.model_selection import cross_val_score\n",
    "lss = r2_score(y_test,pred)\n",
    "for i in range(2,10):\n",
    "    lsscore = cross_val_score(rf,x,y,cv=i)\n",
    "    lsc = lsscore.mean()\n",
    "    print(\"At cv:-\",i)\n",
    "    print(\"cross validation score is :-\",lsc*100)\n",
    "    print(\"r2 score is :-\",lss*100)\n",
    "    print(\"\\n\")"
   ]
  },
  {
   "cell_type": "code",
   "execution_count": 83,
   "id": "fb083dc0",
   "metadata": {},
   "outputs": [
    {
     "data": {
      "image/png": "[encoded data removed]",
      "text/plain": [
       "<Figure size 576x432 with 1 Axes>"
      ]
     },
     "metadata": {
      "needs_background": "light"
     },
     "output_type": "display_data"
    }
   ],
   "source": [
    "plt.figure(figsize=(8,6))\n",
    "plt.scatter(x=y_test, y=pred, color = 'r')\n",
    "plt.plot(y_test,y_test,color='b')\n",
    "plt.xlabel(\"predicted price\",fontsize=14)\n",
    "plt.ylabel(\"actual price\",fontsize=14)\n",
    "plt.title(\"RandomForest Regressor\",fontsize=18)\n",
    "plt.show()"
   ]
  },
  {
   "cell_type": "markdown",
   "id": "15e8bc26",
   "metadata": {},
   "source": [
    "Observation :- Best fit line is covering most of the datapoints which shows good fit of our model."
   ]
  },
  {
   "cell_type": "markdown",
   "id": "16e61a0a",
   "metadata": {},
   "source": [
    "# Hypertuning of the model:"
   ]
  },
  {
   "cell_type": "code",
   "execution_count": 93,
   "id": "a16305d1",
   "metadata": {},
   "outputs": [],
   "source": [
    "from sklearn.model_selection import RandomizedSearchCV"
   ]
  },
  {
   "cell_type": "code",
   "execution_count": 94,
   "id": "c15dc714",
   "metadata": {},
   "outputs": [],
   "source": [
    "#Randomized Search CV\n",
    "\n",
    "# Number of trees in random forest\n",
    "n_estimators = [int(x) for x in np.linspace(start = 100, stop = 1200, num = 12)]\n",
    "# Number of features to consider at every split\n",
    "max_features = ['auto', 'sqrt']\n",
    "# Maximum number of levels in tree\n",
    "max_depth = [int(x) for x in np.linspace(5, 30, num = 6)]\n",
    "# Minimum number of samples required to split a node\n",
    "min_samples_split = [2, 5, 10, 15, 100]\n",
    "# Minimum number of samples required at each leaf node\n",
    "min_samples_leaf = [1, 2, 5, 10]"
   ]
  },
  {
   "cell_type": "code",
   "execution_count": 95,
   "id": "f78a2ed4",
   "metadata": {},
   "outputs": [],
   "source": [
    "parameters = {'n_estimators': n_estimators,\n",
    "               'max_features': max_features,\n",
    "               'max_depth': max_depth,\n",
    "               'min_samples_split': min_samples_split,\n",
    "               'min_samples_leaf': min_samples_leaf}"
   ]
  },
  {
   "cell_type": "code",
   "execution_count": 96,
   "id": "060d37e4",
   "metadata": {},
   "outputs": [],
   "source": [
    "rf_random = RandomizedSearchCV(estimator = rf, param_distributions = parameters, scoring='neg_mean_squared_error', n_iter = 10, cv = 9, verbose=2, random_state=85, n_jobs = 1)"
   ]
  },
  {
   "cell_type": "code",
   "execution_count": 97,
   "id": "97bd5dac",
   "metadata": {},
   "outputs": [
    {
     "name": "stdout",
     "output_type": "stream",
     "text": [
      "Fitting 9 folds for each of 10 candidates, totalling 90 fits\n",
      "[CV] END max_depth=5, max_features=sqrt, min_samples_leaf=5, min_samples_split=2, n_estimators=300; total time=   0.9s\n",
      "[CV] END max_depth=5, max_features=sqrt, min_samples_leaf=5, min_samples_split=2, n_estimators=300; total time=   1.1s\n",
      "[CV] END max_depth=5, max_features=sqrt, min_samples_leaf=5, min_samples_split=2, n_estimators=300; total time=   0.9s\n",
      "[CV] END max_depth=5, max_features=sqrt, min_samples_leaf=5, min_samples_split=2, n_estimators=300; total time=   1.0s\n",
      "[CV] END max_depth=5, max_features=sqrt, min_samples_leaf=5, min_samples_split=2, n_estimators=300; total time=   1.3s\n",
      "[CV] END max_depth=5, max_features=sqrt, min_samples_leaf=5, min_samples_split=2, n_estimators=300; total time=   0.9s\n",
      "[CV] END max_depth=5, max_features=sqrt, min_samples_leaf=5, min_samples_split=2, n_estimators=300; total time=   0.9s\n",
      "[CV] END max_depth=5, max_features=sqrt, min_samples_leaf=5, min_samples_split=2, n_estimators=300; total time=   1.4s\n",
      "[CV] END max_depth=5, max_features=sqrt, min_samples_leaf=5, min_samples_split=2, n_estimators=300; total time=   1.2s\n",
      "[CV] END max_depth=15, max_features=auto, min_samples_leaf=10, min_samples_split=15, n_estimators=900; total time=  12.8s\n",
      "[CV] END max_depth=15, max_features=auto, min_samples_leaf=10, min_samples_split=15, n_estimators=900; total time=  12.9s\n",
      "[CV] END max_depth=15, max_features=auto, min_samples_leaf=10, min_samples_split=15, n_estimators=900; total time=  12.7s\n",
      "[CV] END max_depth=15, max_features=auto, min_samples_leaf=10, min_samples_split=15, n_estimators=900; total time=  14.0s\n",
      "[CV] END max_depth=15, max_features=auto, min_samples_leaf=10, min_samples_split=15, n_estimators=900; total time=  13.8s\n",
      "[CV] END max_depth=15, max_features=auto, min_samples_leaf=10, min_samples_split=15, n_estimators=900; total time=  13.2s\n",
      "[CV] END max_depth=15, max_features=auto, min_samples_leaf=10, min_samples_split=15, n_estimators=900; total time=  13.7s\n",
      "[CV] END max_depth=15, max_features=auto, min_samples_leaf=10, min_samples_split=15, n_estimators=900; total time=  12.6s\n",
      "[CV] END max_depth=15, max_features=auto, min_samples_leaf=10, min_samples_split=15, n_estimators=900; total time=  12.1s\n",
      "[CV] END max_depth=20, max_features=sqrt, min_samples_leaf=1, min_samples_split=100, n_estimators=500; total time=   2.1s\n",
      "[CV] END max_depth=20, max_features=sqrt, min_samples_leaf=1, min_samples_split=100, n_estimators=500; total time=   2.1s\n",
      "[CV] END max_depth=20, max_features=sqrt, min_samples_leaf=1, min_samples_split=100, n_estimators=500; total time=   2.1s\n",
      "[CV] END max_depth=20, max_features=sqrt, min_samples_leaf=1, min_samples_split=100, n_estimators=500; total time=   2.1s\n",
      "[CV] END max_depth=20, max_features=sqrt, min_samples_leaf=1, min_samples_split=100, n_estimators=500; total time=   2.1s\n",
      "[CV] END max_depth=20, max_features=sqrt, min_samples_leaf=1, min_samples_split=100, n_estimators=500; total time=   2.1s\n",
      "[CV] END max_depth=20, max_features=sqrt, min_samples_leaf=1, min_samples_split=100, n_estimators=500; total time=   2.1s\n",
      "[CV] END max_depth=20, max_features=sqrt, min_samples_leaf=1, min_samples_split=100, n_estimators=500; total time=   2.1s\n",
      "[CV] END max_depth=20, max_features=sqrt, min_samples_leaf=1, min_samples_split=100, n_estimators=500; total time=   2.2s\n",
      "[CV] END max_depth=20, max_features=auto, min_samples_leaf=5, min_samples_split=10, n_estimators=400; total time=   8.0s\n",
      "[CV] END max_depth=20, max_features=auto, min_samples_leaf=5, min_samples_split=10, n_estimators=400; total time=   7.8s\n",
      "[CV] END max_depth=20, max_features=auto, min_samples_leaf=5, min_samples_split=10, n_estimators=400; total time=   7.7s\n",
      "[CV] END max_depth=20, max_features=auto, min_samples_leaf=5, min_samples_split=10, n_estimators=400; total time=  12.2s\n",
      "[CV] END max_depth=20, max_features=auto, min_samples_leaf=5, min_samples_split=10, n_estimators=400; total time=   6.8s\n",
      "[CV] END max_depth=20, max_features=auto, min_samples_leaf=5, min_samples_split=10, n_estimators=400; total time=   7.2s\n",
      "[CV] END max_depth=20, max_features=auto, min_samples_leaf=5, min_samples_split=10, n_estimators=400; total time=   6.8s\n",
      "[CV] END max_depth=20, max_features=auto, min_samples_leaf=5, min_samples_split=10, n_estimators=400; total time=   6.5s\n",
      "[CV] END max_depth=20, max_features=auto, min_samples_leaf=5, min_samples_split=10, n_estimators=400; total time=   6.4s\n",
      "[CV] END max_depth=30, max_features=auto, min_samples_leaf=10, min_samples_split=10, n_estimators=900; total time=  13.8s\n",
      "[CV] END max_depth=30, max_features=auto, min_samples_leaf=10, min_samples_split=10, n_estimators=900; total time=  16.5s\n",
      "[CV] END max_depth=30, max_features=auto, min_samples_leaf=10, min_samples_split=10, n_estimators=900; total time=  14.9s\n",
      "[CV] END max_depth=30, max_features=auto, min_samples_leaf=10, min_samples_split=10, n_estimators=900; total time=  23.9s\n",
      "[CV] END max_depth=30, max_features=auto, min_samples_leaf=10, min_samples_split=10, n_estimators=900; total time=  16.9s\n",
      "[CV] END max_depth=30, max_features=auto, min_samples_leaf=10, min_samples_split=10, n_estimators=900; total time=  13.1s\n",
      "[CV] END max_depth=30, max_features=auto, min_samples_leaf=10, min_samples_split=10, n_estimators=900; total time=  13.3s\n",
      "[CV] END max_depth=30, max_features=auto, min_samples_leaf=10, min_samples_split=10, n_estimators=900; total time=  13.8s\n",
      "[CV] END max_depth=30, max_features=auto, min_samples_leaf=10, min_samples_split=10, n_estimators=900; total time=  13.2s\n",
      "[CV] END max_depth=20, max_features=auto, min_samples_leaf=5, min_samples_split=100, n_estimators=1200; total time=  14.4s\n",
      "[CV] END max_depth=20, max_features=auto, min_samples_leaf=5, min_samples_split=100, n_estimators=1200; total time=  14.9s\n",
      "[CV] END max_depth=20, max_features=auto, min_samples_leaf=5, min_samples_split=100, n_estimators=1200; total time=  14.6s\n",
      "[CV] END max_depth=20, max_features=auto, min_samples_leaf=5, min_samples_split=100, n_estimators=1200; total time=  14.3s\n",
      "[CV] END max_depth=20, max_features=auto, min_samples_leaf=5, min_samples_split=100, n_estimators=1200; total time=  14.7s\n",
      "[CV] END max_depth=20, max_features=auto, min_samples_leaf=5, min_samples_split=100, n_estimators=1200; total time=  14.3s\n",
      "[CV] END max_depth=20, max_features=auto, min_samples_leaf=5, min_samples_split=100, n_estimators=1200; total time=  13.4s\n",
      "[CV] END max_depth=20, max_features=auto, min_samples_leaf=5, min_samples_split=100, n_estimators=1200; total time=  13.5s\n",
      "[CV] END max_depth=20, max_features=auto, min_samples_leaf=5, min_samples_split=100, n_estimators=1200; total time=  13.8s\n",
      "[CV] END max_depth=20, max_features=auto, min_samples_leaf=5, min_samples_split=5, n_estimators=200; total time=   3.1s\n",
      "[CV] END max_depth=20, max_features=auto, min_samples_leaf=5, min_samples_split=5, n_estimators=200; total time=   3.4s\n",
      "[CV] END max_depth=20, max_features=auto, min_samples_leaf=5, min_samples_split=5, n_estimators=200; total time=   3.0s\n",
      "[CV] END max_depth=20, max_features=auto, min_samples_leaf=5, min_samples_split=5, n_estimators=200; total time=   3.1s\n",
      "[CV] END max_depth=20, max_features=auto, min_samples_leaf=5, min_samples_split=5, n_estimators=200; total time=   3.0s\n",
      "[CV] END max_depth=20, max_features=auto, min_samples_leaf=5, min_samples_split=5, n_estimators=200; total time=   3.1s\n",
      "[CV] END max_depth=20, max_features=auto, min_samples_leaf=5, min_samples_split=5, n_estimators=200; total time=   3.0s\n",
      "[CV] END max_depth=20, max_features=auto, min_samples_leaf=5, min_samples_split=5, n_estimators=200; total time=   3.0s\n",
      "[CV] END max_depth=20, max_features=auto, min_samples_leaf=5, min_samples_split=5, n_estimators=200; total time=   3.0s\n",
      "[CV] END max_depth=15, max_features=auto, min_samples_leaf=1, min_samples_split=5, n_estimators=400; total time=   7.0s\n",
      "[CV] END max_depth=15, max_features=auto, min_samples_leaf=1, min_samples_split=5, n_estimators=400; total time=   7.2s\n",
      "[CV] END max_depth=15, max_features=auto, min_samples_leaf=1, min_samples_split=5, n_estimators=400; total time=   7.1s\n",
      "[CV] END max_depth=15, max_features=auto, min_samples_leaf=1, min_samples_split=5, n_estimators=400; total time=   7.0s\n",
      "[CV] END max_depth=15, max_features=auto, min_samples_leaf=1, min_samples_split=5, n_estimators=400; total time=   7.0s\n"
     ]
    },
    {
     "name": "stdout",
     "output_type": "stream",
     "text": [
      "[CV] END max_depth=15, max_features=auto, min_samples_leaf=1, min_samples_split=5, n_estimators=400; total time=   7.2s\n",
      "[CV] END max_depth=15, max_features=auto, min_samples_leaf=1, min_samples_split=5, n_estimators=400; total time=   7.0s\n",
      "[CV] END max_depth=15, max_features=auto, min_samples_leaf=1, min_samples_split=5, n_estimators=400; total time=   7.0s\n",
      "[CV] END max_depth=15, max_features=auto, min_samples_leaf=1, min_samples_split=5, n_estimators=400; total time=   7.0s\n",
      "[CV] END max_depth=20, max_features=sqrt, min_samples_leaf=5, min_samples_split=100, n_estimators=300; total time=   1.2s\n",
      "[CV] END max_depth=20, max_features=sqrt, min_samples_leaf=5, min_samples_split=100, n_estimators=300; total time=   1.3s\n",
      "[CV] END max_depth=20, max_features=sqrt, min_samples_leaf=5, min_samples_split=100, n_estimators=300; total time=   1.5s\n",
      "[CV] END max_depth=20, max_features=sqrt, min_samples_leaf=5, min_samples_split=100, n_estimators=300; total time=   1.8s\n",
      "[CV] END max_depth=20, max_features=sqrt, min_samples_leaf=5, min_samples_split=100, n_estimators=300; total time=   1.8s\n",
      "[CV] END max_depth=20, max_features=sqrt, min_samples_leaf=5, min_samples_split=100, n_estimators=300; total time=   1.4s\n",
      "[CV] END max_depth=20, max_features=sqrt, min_samples_leaf=5, min_samples_split=100, n_estimators=300; total time=   1.2s\n",
      "[CV] END max_depth=20, max_features=sqrt, min_samples_leaf=5, min_samples_split=100, n_estimators=300; total time=   1.3s\n",
      "[CV] END max_depth=20, max_features=sqrt, min_samples_leaf=5, min_samples_split=100, n_estimators=300; total time=   1.6s\n",
      "[CV] END max_depth=20, max_features=auto, min_samples_leaf=1, min_samples_split=2, n_estimators=200; total time=   4.3s\n",
      "[CV] END max_depth=20, max_features=auto, min_samples_leaf=1, min_samples_split=2, n_estimators=200; total time=   4.0s\n",
      "[CV] END max_depth=20, max_features=auto, min_samples_leaf=1, min_samples_split=2, n_estimators=200; total time=   4.1s\n",
      "[CV] END max_depth=20, max_features=auto, min_samples_leaf=1, min_samples_split=2, n_estimators=200; total time=   4.1s\n",
      "[CV] END max_depth=20, max_features=auto, min_samples_leaf=1, min_samples_split=2, n_estimators=200; total time=   4.4s\n",
      "[CV] END max_depth=20, max_features=auto, min_samples_leaf=1, min_samples_split=2, n_estimators=200; total time=   4.1s\n",
      "[CV] END max_depth=20, max_features=auto, min_samples_leaf=1, min_samples_split=2, n_estimators=200; total time=   4.0s\n",
      "[CV] END max_depth=20, max_features=auto, min_samples_leaf=1, min_samples_split=2, n_estimators=200; total time=   4.0s\n",
      "[CV] END max_depth=20, max_features=auto, min_samples_leaf=1, min_samples_split=2, n_estimators=200; total time=   4.0s\n"
     ]
    },
    {
     "data": {
      "text/plain": [
       "RandomizedSearchCV(cv=9, estimator=RandomForestRegressor(max_features='log2'),\n",
       "                   n_jobs=1,\n",
       "                   param_distributions={'max_depth': [5, 10, 15, 20, 25, 30],\n",
       "                                        'max_features': ['auto', 'sqrt'],\n",
       "                                        'min_samples_leaf': [1, 2, 5, 10],\n",
       "                                        'min_samples_split': [2, 5, 10, 15,\n",
       "                                                              100],\n",
       "                                        'n_estimators': [100, 200, 300, 400,\n",
       "                                                         500, 600, 700, 800,\n",
       "                                                         900, 1000, 1100,\n",
       "                                                         1200]},\n",
       "                   random_state=85, scoring='neg_mean_squared_error',\n",
       "                   verbose=2)"
      ]
     },
     "execution_count": 97,
     "metadata": {},
     "output_type": "execute_result"
    }
   ],
   "source": [
    "rf_random.fit(x_train,y_train)"
   ]
  },
  {
   "cell_type": "code",
   "execution_count": 98,
   "id": "d65e2164",
   "metadata": {},
   "outputs": [
    {
     "data": {
      "text/plain": [
       "{'n_estimators': 200,\n",
       " 'min_samples_split': 2,\n",
       " 'min_samples_leaf': 1,\n",
       " 'max_features': 'auto',\n",
       " 'max_depth': 20}"
      ]
     },
     "execution_count": 98,
     "metadata": {},
     "output_type": "execute_result"
    }
   ],
   "source": [
    "rf_random.best_params_"
   ]
  },
  {
   "cell_type": "code",
   "execution_count": 99,
   "id": "f1cc9c04",
   "metadata": {},
   "outputs": [
    {
     "name": "stdout",
     "output_type": "stream",
     "text": [
      "R2 score: 92.65460157389597\n",
      "Cross Val Score is 88.63447998675908\n"
     ]
    }
   ],
   "source": [
    "rf = RandomForestRegressor(n_estimators=200, min_samples_split=2, min_samples_leaf=1, max_features='auto', max_depth=20)\n",
    "rf.fit(x_train,y_train)\n",
    "rf.score(x_train,y_train)\n",
    "pred_decision = rf.predict(x_test)\n",
    "\n",
    "rfs = r2_score(y_test,pred_decision)\n",
    "print(\"R2 score:\",rfs*100)\n",
    "\n",
    "rfscore = cross_val_score(rf,x,y,cv=9)\n",
    "rfc = rfscore.mean()\n",
    "print(\"Cross Val Score is\",rfc*100)"
   ]
  },
  {
   "cell_type": "code",
   "execution_count": 101,
   "id": "c9152b2c",
   "metadata": {},
   "outputs": [
    {
     "data": {
      "image/png": "[encoded data removed]",
      "text/plain": [
       "<Figure size 432x288 with 1 Axes>"
      ]
     },
     "metadata": {
      "needs_background": "light"
     },
     "output_type": "display_data"
    }
   ],
   "source": [
    "number_of_observations=50\n",
    "\n",
    "x_ax = range(len(y_test[:number_of_observations]))\n",
    "\n",
    "plt.plot(x_ax, y_test[:number_of_observations], label=\"original\")\n",
    "\n",
    "plt.plot(x_ax, pred_decision[:number_of_observations], label=\"predicted\")\n",
    "\n",
    "plt.title(\"Flight Price test and predicted data\")\n",
    "\n",
    "plt.xlabel('Observation Number')\n",
    "\n",
    "plt.ylabel('Price')\n",
    "\n",
    "plt.legend()\n",
    "\n",
    "plt.show()"
   ]
  },
  {
   "cell_type": "markdown",
   "id": "5f1ec095",
   "metadata": {},
   "source": [
    "# Model Saving:"
   ]
  },
  {
   "cell_type": "code",
   "execution_count": 102,
   "id": "68d7fdba",
   "metadata": {},
   "outputs": [],
   "source": [
    "import pickle\n",
    "filename = 'flight_price.pkl'\n",
    "pickle.dump(rf,open(filename,'wb'))"
   ]
  },
  {
   "cell_type": "markdown",
   "id": "60ebbe78",
   "metadata": {},
   "source": [
    "# Conclusion:"
   ]
  },
  {
   "cell_type": "code",
   "execution_count": 107,
   "id": "90bb1fbd",
   "metadata": {},
   "outputs": [
    {
     "data": {
      "text/html": [
       "<div>\n",
       "<style scoped>\n",
       "    .dataframe tbody tr th:only-of-type {\n",
       "        vertical-align: middle;\n",
       "    }\n",
       "\n",
       "    .dataframe tbody tr th {\n",
       "        vertical-align: top;\n",
       "    }\n",
       "\n",
       "    .dataframe thead th {\n",
       "        text-align: right;\n",
       "    }\n",
       "</style>\n",
       "<table border=\"1\" class=\"dataframe\">\n",
       "  <thead>\n",
       "    <tr style=\"text-align: right;\">\n",
       "      <th></th>\n",
       "      <th>original</th>\n",
       "      <th>predicted</th>\n",
       "    </tr>\n",
       "  </thead>\n",
       "  <tbody>\n",
       "    <tr>\n",
       "      <th>0</th>\n",
       "      <td>10262</td>\n",
       "      <td>10262.034239</td>\n",
       "    </tr>\n",
       "    <tr>\n",
       "      <th>1</th>\n",
       "      <td>4174</td>\n",
       "      <td>4222.334752</td>\n",
       "    </tr>\n",
       "    <tr>\n",
       "      <th>2</th>\n",
       "      <td>4077</td>\n",
       "      <td>4576.296560</td>\n",
       "    </tr>\n",
       "    <tr>\n",
       "      <th>3</th>\n",
       "      <td>5797</td>\n",
       "      <td>6136.165000</td>\n",
       "    </tr>\n",
       "    <tr>\n",
       "      <th>4</th>\n",
       "      <td>4460</td>\n",
       "      <td>4417.263506</td>\n",
       "    </tr>\n",
       "    <tr>\n",
       "      <th>...</th>\n",
       "      <td>...</td>\n",
       "      <td>...</td>\n",
       "    </tr>\n",
       "    <tr>\n",
       "      <th>2088</th>\n",
       "      <td>5796</td>\n",
       "      <td>6120.865000</td>\n",
       "    </tr>\n",
       "    <tr>\n",
       "      <th>2089</th>\n",
       "      <td>6587</td>\n",
       "      <td>5936.980000</td>\n",
       "    </tr>\n",
       "    <tr>\n",
       "      <th>2090</th>\n",
       "      <td>14388</td>\n",
       "      <td>13911.488447</td>\n",
       "    </tr>\n",
       "    <tr>\n",
       "      <th>2091</th>\n",
       "      <td>7318</td>\n",
       "      <td>7052.166798</td>\n",
       "    </tr>\n",
       "    <tr>\n",
       "      <th>2092</th>\n",
       "      <td>13377</td>\n",
       "      <td>13714.099992</td>\n",
       "    </tr>\n",
       "  </tbody>\n",
       "</table>\n",
       "<p>2093 rows × 2 columns</p>\n",
       "</div>"
      ],
      "text/plain": [
       "      original     predicted\n",
       "0        10262  10262.034239\n",
       "1         4174   4222.334752\n",
       "2         4077   4576.296560\n",
       "3         5797   6136.165000\n",
       "4         4460   4417.263506\n",
       "...        ...           ...\n",
       "2088      5796   6120.865000\n",
       "2089      6587   5936.980000\n",
       "2090     14388  13911.488447\n",
       "2091      7318   7052.166798\n",
       "2092     13377  13714.099992\n",
       "\n",
       "[2093 rows x 2 columns]"
      ]
     },
     "execution_count": 107,
     "metadata": {},
     "output_type": "execute_result"
    }
   ],
   "source": [
    "import numpy as np\n",
    "a = np.array(y_test)\n",
    "#predicted = np.array(ls.predict(x_test))\n",
    "df_comp = pd.DataFrame({'original':a,'predicted':pred_decision},index=range(len(a)))\n",
    "df_comp"
   ]
  }
 ],
 "metadata": {
  "kernelspec": {
   "display_name": "Python 3 (ipykernel)",
   "language": "python",
   "name": "python3"
  },
  "language_info": {
   "codemirror_mode": {
    "name": "ipython",
    "version": 3
   },
   "file_extension": ".py",
   "mimetype": "text/x-python",
   "name": "python",
   "nbconvert_exporter": "python",
   "pygments_lexer": "ipython3",
   "version": "3.9.7"
  },
  "varInspector": {
   "cols": {
    "lenName": 16,
    "lenType": 16,
    "lenVar": 40
   },
   "kernels_config": {
    "python": {
     "delete_cmd_postfix": "",
     "delete_cmd_prefix": "del ",
     "library": "var_list.py",
     "varRefreshCmd": "print(var_dic_list())"
    },
    "r": {
     "delete_cmd_postfix": ") ",
     "delete_cmd_prefix": "rm(",
     "library": "var_list.r",
     "varRefreshCmd": "cat(var_dic_list()) "
    }
   },
   "types_to_exclude": [
    "module",
    "function",
    "builtin_function_or_method",
    "instance",
    "_Feature"
   ],
   "window_display": false
  }
 },
 "nbformat": 4,
 "nbformat_minor": 5
}
