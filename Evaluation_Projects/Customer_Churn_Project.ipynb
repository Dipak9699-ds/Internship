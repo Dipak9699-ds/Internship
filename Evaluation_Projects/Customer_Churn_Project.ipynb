{
 "cells": [
  {
   "cell_type": "markdown",
   "id": "475c1b95",
   "metadata": {},
   "source": [
    "# Importing required libraries"
   ]
  },
  {
   "cell_type": "code",
   "execution_count": 117,
   "id": "276c6c54",
   "metadata": {},
   "outputs": [],
   "source": [
    "import numpy as np\n",
    "import matplotlib.pyplot as plt\n",
    "import seaborn as sns\n",
    "import warnings\n",
    "warnings.filterwarnings('ignore')"
   ]
  },
  {
   "cell_type": "code",
   "execution_count": 118,
   "id": "39a05660",
   "metadata": {},
   "outputs": [],
   "source": [
    "# Loading the dataset:\n",
    "import pandas as pd\n",
    "df = pd.read_csv(r'https://raw.githubusercontent.com/dsrscientist/DSData/master/Telecom_customer_churn.csv')"
   ]
  },
  {
   "cell_type": "code",
   "execution_count": 119,
   "id": "95409d42",
   "metadata": {},
   "outputs": [],
   "source": [
    "# Print all columns:\n",
    "pd.set_option('display.max_columns',None)"
   ]
  },
  {
   "cell_type": "code",
   "execution_count": 120,
   "id": "89d6ab30",
   "metadata": {},
   "outputs": [
    {
     "data": {
      "text/html": [
       "<div>\n",
       "<style scoped>\n",
       "    .dataframe tbody tr th:only-of-type {\n",
       "        vertical-align: middle;\n",
       "    }\n",
       "\n",
       "    .dataframe tbody tr th {\n",
       "        vertical-align: top;\n",
       "    }\n",
       "\n",
       "    .dataframe thead th {\n",
       "        text-align: right;\n",
       "    }\n",
       "</style>\n",
       "<table border=\"1\" class=\"dataframe\">\n",
       "  <thead>\n",
       "    <tr style=\"text-align: right;\">\n",
       "      <th></th>\n",
       "      <th>customerID</th>\n",
       "      <th>gender</th>\n",
       "      <th>SeniorCitizen</th>\n",
       "      <th>Partner</th>\n",
       "      <th>Dependents</th>\n",
       "      <th>tenure</th>\n",
       "      <th>PhoneService</th>\n",
       "      <th>MultipleLines</th>\n",
       "      <th>InternetService</th>\n",
       "      <th>OnlineSecurity</th>\n",
       "      <th>OnlineBackup</th>\n",
       "      <th>DeviceProtection</th>\n",
       "      <th>TechSupport</th>\n",
       "      <th>StreamingTV</th>\n",
       "      <th>StreamingMovies</th>\n",
       "      <th>Contract</th>\n",
       "      <th>PaperlessBilling</th>\n",
       "      <th>PaymentMethod</th>\n",
       "      <th>MonthlyCharges</th>\n",
       "      <th>TotalCharges</th>\n",
       "      <th>Churn</th>\n",
       "    </tr>\n",
       "  </thead>\n",
       "  <tbody>\n",
       "    <tr>\n",
       "      <th>0</th>\n",
       "      <td>7590-VHVEG</td>\n",
       "      <td>Female</td>\n",
       "      <td>0</td>\n",
       "      <td>Yes</td>\n",
       "      <td>No</td>\n",
       "      <td>1</td>\n",
       "      <td>No</td>\n",
       "      <td>No phone service</td>\n",
       "      <td>DSL</td>\n",
       "      <td>No</td>\n",
       "      <td>Yes</td>\n",
       "      <td>No</td>\n",
       "      <td>No</td>\n",
       "      <td>No</td>\n",
       "      <td>No</td>\n",
       "      <td>Month-to-month</td>\n",
       "      <td>Yes</td>\n",
       "      <td>Electronic check</td>\n",
       "      <td>29.85</td>\n",
       "      <td>29.85</td>\n",
       "      <td>No</td>\n",
       "    </tr>\n",
       "    <tr>\n",
       "      <th>1</th>\n",
       "      <td>5575-GNVDE</td>\n",
       "      <td>Male</td>\n",
       "      <td>0</td>\n",
       "      <td>No</td>\n",
       "      <td>No</td>\n",
       "      <td>34</td>\n",
       "      <td>Yes</td>\n",
       "      <td>No</td>\n",
       "      <td>DSL</td>\n",
       "      <td>Yes</td>\n",
       "      <td>No</td>\n",
       "      <td>Yes</td>\n",
       "      <td>No</td>\n",
       "      <td>No</td>\n",
       "      <td>No</td>\n",
       "      <td>One year</td>\n",
       "      <td>No</td>\n",
       "      <td>Mailed check</td>\n",
       "      <td>56.95</td>\n",
       "      <td>1889.5</td>\n",
       "      <td>No</td>\n",
       "    </tr>\n",
       "    <tr>\n",
       "      <th>2</th>\n",
       "      <td>3668-QPYBK</td>\n",
       "      <td>Male</td>\n",
       "      <td>0</td>\n",
       "      <td>No</td>\n",
       "      <td>No</td>\n",
       "      <td>2</td>\n",
       "      <td>Yes</td>\n",
       "      <td>No</td>\n",
       "      <td>DSL</td>\n",
       "      <td>Yes</td>\n",
       "      <td>Yes</td>\n",
       "      <td>No</td>\n",
       "      <td>No</td>\n",
       "      <td>No</td>\n",
       "      <td>No</td>\n",
       "      <td>Month-to-month</td>\n",
       "      <td>Yes</td>\n",
       "      <td>Mailed check</td>\n",
       "      <td>53.85</td>\n",
       "      <td>108.15</td>\n",
       "      <td>Yes</td>\n",
       "    </tr>\n",
       "    <tr>\n",
       "      <th>3</th>\n",
       "      <td>7795-CFOCW</td>\n",
       "      <td>Male</td>\n",
       "      <td>0</td>\n",
       "      <td>No</td>\n",
       "      <td>No</td>\n",
       "      <td>45</td>\n",
       "      <td>No</td>\n",
       "      <td>No phone service</td>\n",
       "      <td>DSL</td>\n",
       "      <td>Yes</td>\n",
       "      <td>No</td>\n",
       "      <td>Yes</td>\n",
       "      <td>Yes</td>\n",
       "      <td>No</td>\n",
       "      <td>No</td>\n",
       "      <td>One year</td>\n",
       "      <td>No</td>\n",
       "      <td>Bank transfer (automatic)</td>\n",
       "      <td>42.30</td>\n",
       "      <td>1840.75</td>\n",
       "      <td>No</td>\n",
       "    </tr>\n",
       "    <tr>\n",
       "      <th>4</th>\n",
       "      <td>9237-HQITU</td>\n",
       "      <td>Female</td>\n",
       "      <td>0</td>\n",
       "      <td>No</td>\n",
       "      <td>No</td>\n",
       "      <td>2</td>\n",
       "      <td>Yes</td>\n",
       "      <td>No</td>\n",
       "      <td>Fiber optic</td>\n",
       "      <td>No</td>\n",
       "      <td>No</td>\n",
       "      <td>No</td>\n",
       "      <td>No</td>\n",
       "      <td>No</td>\n",
       "      <td>No</td>\n",
       "      <td>Month-to-month</td>\n",
       "      <td>Yes</td>\n",
       "      <td>Electronic check</td>\n",
       "      <td>70.70</td>\n",
       "      <td>151.65</td>\n",
       "      <td>Yes</td>\n",
       "    </tr>\n",
       "  </tbody>\n",
       "</table>\n",
       "</div>"
      ],
      "text/plain": [
       "   customerID  gender  SeniorCitizen Partner Dependents  tenure PhoneService  \\\n",
       "0  7590-VHVEG  Female              0     Yes         No       1           No   \n",
       "1  5575-GNVDE    Male              0      No         No      34          Yes   \n",
       "2  3668-QPYBK    Male              0      No         No       2          Yes   \n",
       "3  7795-CFOCW    Male              0      No         No      45           No   \n",
       "4  9237-HQITU  Female              0      No         No       2          Yes   \n",
       "\n",
       "      MultipleLines InternetService OnlineSecurity OnlineBackup  \\\n",
       "0  No phone service             DSL             No          Yes   \n",
       "1                No             DSL            Yes           No   \n",
       "2                No             DSL            Yes          Yes   \n",
       "3  No phone service             DSL            Yes           No   \n",
       "4                No     Fiber optic             No           No   \n",
       "\n",
       "  DeviceProtection TechSupport StreamingTV StreamingMovies        Contract  \\\n",
       "0               No          No          No              No  Month-to-month   \n",
       "1              Yes          No          No              No        One year   \n",
       "2               No          No          No              No  Month-to-month   \n",
       "3              Yes         Yes          No              No        One year   \n",
       "4               No          No          No              No  Month-to-month   \n",
       "\n",
       "  PaperlessBilling              PaymentMethod  MonthlyCharges TotalCharges  \\\n",
       "0              Yes           Electronic check           29.85        29.85   \n",
       "1               No               Mailed check           56.95       1889.5   \n",
       "2              Yes               Mailed check           53.85       108.15   \n",
       "3               No  Bank transfer (automatic)           42.30      1840.75   \n",
       "4              Yes           Electronic check           70.70       151.65   \n",
       "\n",
       "  Churn  \n",
       "0    No  \n",
       "1    No  \n",
       "2   Yes  \n",
       "3    No  \n",
       "4   Yes  "
      ]
     },
     "execution_count": 120,
     "metadata": {},
     "output_type": "execute_result"
    }
   ],
   "source": [
    "# Showing 5 raws of dataframe:\n",
    "df.head()"
   ]
  },
  {
   "cell_type": "code",
   "execution_count": 121,
   "id": "00781000",
   "metadata": {},
   "outputs": [
    {
     "data": {
      "text/plain": [
       "(7043, 21)"
      ]
     },
     "execution_count": 121,
     "metadata": {},
     "output_type": "execute_result"
    }
   ],
   "source": [
    "# Get the numbers of rows and columns:\n",
    "df.shape"
   ]
  },
  {
   "cell_type": "code",
   "execution_count": 122,
   "id": "d449a481",
   "metadata": {},
   "outputs": [
    {
     "data": {
      "text/plain": [
       "Index(['customerID', 'gender', 'SeniorCitizen', 'Partner', 'Dependents',\n",
       "       'tenure', 'PhoneService', 'MultipleLines', 'InternetService',\n",
       "       'OnlineSecurity', 'OnlineBackup', 'DeviceProtection', 'TechSupport',\n",
       "       'StreamingTV', 'StreamingMovies', 'Contract', 'PaperlessBilling',\n",
       "       'PaymentMethod', 'MonthlyCharges', 'TotalCharges', 'Churn'],\n",
       "      dtype='object')"
      ]
     },
     "execution_count": 122,
     "metadata": {},
     "output_type": "execute_result"
    }
   ],
   "source": [
    "# Check column of the dataframe:\n",
    "df.columns"
   ]
  },
  {
   "cell_type": "code",
   "execution_count": 123,
   "id": "55861c67",
   "metadata": {},
   "outputs": [
    {
     "data": {
      "text/plain": [
       "customerID           object\n",
       "gender               object\n",
       "SeniorCitizen         int64\n",
       "Partner              object\n",
       "Dependents           object\n",
       "tenure                int64\n",
       "PhoneService         object\n",
       "MultipleLines        object\n",
       "InternetService      object\n",
       "OnlineSecurity       object\n",
       "OnlineBackup         object\n",
       "DeviceProtection     object\n",
       "TechSupport          object\n",
       "StreamingTV          object\n",
       "StreamingMovies      object\n",
       "Contract             object\n",
       "PaperlessBilling     object\n",
       "PaymentMethod        object\n",
       "MonthlyCharges      float64\n",
       "TotalCharges         object\n",
       "Churn                object\n",
       "dtype: object"
      ]
     },
     "execution_count": 123,
     "metadata": {},
     "output_type": "execute_result"
    }
   ],
   "source": [
    "# Get the column datatypes:\n",
    "df.dtypes"
   ]
  },
  {
   "cell_type": "code",
   "execution_count": 124,
   "id": "94985d46",
   "metadata": {},
   "outputs": [
    {
     "name": "stdout",
     "output_type": "stream",
     "text": [
      "<class 'pandas.core.frame.DataFrame'>\n",
      "RangeIndex: 7043 entries, 0 to 7042\n",
      "Data columns (total 21 columns):\n",
      " #   Column            Non-Null Count  Dtype  \n",
      "---  ------            --------------  -----  \n",
      " 0   customerID        7043 non-null   object \n",
      " 1   gender            7043 non-null   object \n",
      " 2   SeniorCitizen     7043 non-null   int64  \n",
      " 3   Partner           7043 non-null   object \n",
      " 4   Dependents        7043 non-null   object \n",
      " 5   tenure            7043 non-null   int64  \n",
      " 6   PhoneService      7043 non-null   object \n",
      " 7   MultipleLines     7043 non-null   object \n",
      " 8   InternetService   7043 non-null   object \n",
      " 9   OnlineSecurity    7043 non-null   object \n",
      " 10  OnlineBackup      7043 non-null   object \n",
      " 11  DeviceProtection  7043 non-null   object \n",
      " 12  TechSupport       7043 non-null   object \n",
      " 13  StreamingTV       7043 non-null   object \n",
      " 14  StreamingMovies   7043 non-null   object \n",
      " 15  Contract          7043 non-null   object \n",
      " 16  PaperlessBilling  7043 non-null   object \n",
      " 17  PaymentMethod     7043 non-null   object \n",
      " 18  MonthlyCharges    7043 non-null   float64\n",
      " 19  TotalCharges      7043 non-null   object \n",
      " 20  Churn             7043 non-null   object \n",
      "dtypes: float64(1), int64(2), object(18)\n",
      "memory usage: 1.1+ MB\n"
     ]
    }
   ],
   "source": [
    "# Basic information about dataset:\n",
    "df.info()"
   ]
  },
  {
   "cell_type": "code",
   "execution_count": 125,
   "id": "a25001b5",
   "metadata": {},
   "outputs": [
    {
     "data": {
      "text/plain": [
       "customerID          0\n",
       "gender              0\n",
       "SeniorCitizen       0\n",
       "Partner             0\n",
       "Dependents          0\n",
       "tenure              0\n",
       "PhoneService        0\n",
       "MultipleLines       0\n",
       "InternetService     0\n",
       "OnlineSecurity      0\n",
       "OnlineBackup        0\n",
       "DeviceProtection    0\n",
       "TechSupport         0\n",
       "StreamingTV         0\n",
       "StreamingMovies     0\n",
       "Contract            0\n",
       "PaperlessBilling    0\n",
       "PaymentMethod       0\n",
       "MonthlyCharges      0\n",
       "TotalCharges        0\n",
       "Churn               0\n",
       "dtype: int64"
      ]
     },
     "execution_count": 125,
     "metadata": {},
     "output_type": "execute_result"
    }
   ],
   "source": [
    "# Get a count of the empty values for each column:\n",
    "df.isna().sum()"
   ]
  },
  {
   "cell_type": "code",
   "execution_count": 126,
   "id": "1ae8c91b",
   "metadata": {},
   "outputs": [
    {
     "data": {
      "text/plain": [
       "False"
      ]
     },
     "execution_count": 126,
     "metadata": {},
     "output_type": "execute_result"
    }
   ],
   "source": [
    "# Check any missing/null values in the dataset:\n",
    "df.isnull().values.any()"
   ]
  },
  {
   "cell_type": "code",
   "execution_count": 127,
   "id": "6e52f3b8",
   "metadata": {},
   "outputs": [
    {
     "data": {
      "text/plain": [
       "<AxesSubplot:>"
      ]
     },
     "execution_count": 127,
     "metadata": {},
     "output_type": "execute_result"
    },
    {
     "data": {
      "image/png": "[encoded data removed]",
      "text/plain": [
       "<Figure size 432x288 with 2 Axes>"
      ]
     },
     "metadata": {
      "needs_background": "light"
     },
     "output_type": "display_data"
    }
   ],
   "source": [
    "# Checking for null values using heatmap:\n",
    "sns.heatmap(df.isnull())"
   ]
  },
  {
   "cell_type": "code",
   "execution_count": 128,
   "id": "0c0dfa4d",
   "metadata": {},
   "outputs": [
    {
     "name": "stdout",
     "output_type": "stream",
     "text": [
      "customerID : ['7590-VHVEG' '5575-GNVDE' '3668-QPYBK' ... '4801-JZAZL' '8361-LTMKD'\n",
      " '3186-AJIEK']\n",
      "7590-VHVEG    1\n",
      "3791-LGQCY    1\n",
      "6008-NAIXK    1\n",
      "5956-YHHRX    1\n",
      "5365-LLFYV    1\n",
      "             ..\n",
      "9796-MVYXX    1\n",
      "2637-FKFSY    1\n",
      "1552-AAGRX    1\n",
      "4304-TSPVK    1\n",
      "3186-AJIEK    1\n",
      "Name: customerID, Length: 7043, dtype: int64\n",
      "____________________________________________\n",
      "gender : ['Female' 'Male']\n",
      "Male      3555\n",
      "Female    3488\n",
      "Name: gender, dtype: int64\n",
      "____________________________________________\n",
      "Partner : ['Yes' 'No']\n",
      "No     3641\n",
      "Yes    3402\n",
      "Name: Partner, dtype: int64\n",
      "____________________________________________\n",
      "Dependents : ['No' 'Yes']\n",
      "No     4933\n",
      "Yes    2110\n",
      "Name: Dependents, dtype: int64\n",
      "____________________________________________\n",
      "PhoneService : ['No' 'Yes']\n",
      "Yes    6361\n",
      "No      682\n",
      "Name: PhoneService, dtype: int64\n",
      "____________________________________________\n",
      "MultipleLines : ['No phone service' 'No' 'Yes']\n",
      "No                  3390\n",
      "Yes                 2971\n",
      "No phone service     682\n",
      "Name: MultipleLines, dtype: int64\n",
      "____________________________________________\n",
      "InternetService : ['DSL' 'Fiber optic' 'No']\n",
      "Fiber optic    3096\n",
      "DSL            2421\n",
      "No             1526\n",
      "Name: InternetService, dtype: int64\n",
      "____________________________________________\n",
      "OnlineSecurity : ['No' 'Yes' 'No internet service']\n",
      "No                     3498\n",
      "Yes                    2019\n",
      "No internet service    1526\n",
      "Name: OnlineSecurity, dtype: int64\n",
      "____________________________________________\n",
      "OnlineBackup : ['Yes' 'No' 'No internet service']\n",
      "No                     3088\n",
      "Yes                    2429\n",
      "No internet service    1526\n",
      "Name: OnlineBackup, dtype: int64\n",
      "____________________________________________\n",
      "DeviceProtection : ['No' 'Yes' 'No internet service']\n",
      "No                     3095\n",
      "Yes                    2422\n",
      "No internet service    1526\n",
      "Name: DeviceProtection, dtype: int64\n",
      "____________________________________________\n",
      "TechSupport : ['No' 'Yes' 'No internet service']\n",
      "No                     3473\n",
      "Yes                    2044\n",
      "No internet service    1526\n",
      "Name: TechSupport, dtype: int64\n",
      "____________________________________________\n",
      "StreamingTV : ['No' 'Yes' 'No internet service']\n",
      "No                     2810\n",
      "Yes                    2707\n",
      "No internet service    1526\n",
      "Name: StreamingTV, dtype: int64\n",
      "____________________________________________\n",
      "StreamingMovies : ['No' 'Yes' 'No internet service']\n",
      "No                     2785\n",
      "Yes                    2732\n",
      "No internet service    1526\n",
      "Name: StreamingMovies, dtype: int64\n",
      "____________________________________________\n",
      "Contract : ['Month-to-month' 'One year' 'Two year']\n",
      "Month-to-month    3875\n",
      "Two year          1695\n",
      "One year          1473\n",
      "Name: Contract, dtype: int64\n",
      "____________________________________________\n",
      "PaperlessBilling : ['Yes' 'No']\n",
      "Yes    4171\n",
      "No     2872\n",
      "Name: PaperlessBilling, dtype: int64\n",
      "____________________________________________\n",
      "PaymentMethod : ['Electronic check' 'Mailed check' 'Bank transfer (automatic)'\n",
      " 'Credit card (automatic)']\n",
      "Electronic check             2365\n",
      "Mailed check                 1612\n",
      "Bank transfer (automatic)    1544\n",
      "Credit card (automatic)      1522\n",
      "Name: PaymentMethod, dtype: int64\n",
      "____________________________________________\n",
      "TotalCharges : ['29.85' '1889.5' '108.15' ... '346.45' '306.6' '6844.5']\n",
      "          11\n",
      "20.2      11\n",
      "19.75      9\n",
      "20.05      8\n",
      "19.9       8\n",
      "          ..\n",
      "6849.4     1\n",
      "692.35     1\n",
      "130.15     1\n",
      "3211.9     1\n",
      "6844.5     1\n",
      "Name: TotalCharges, Length: 6531, dtype: int64\n",
      "____________________________________________\n",
      "Churn : ['No' 'Yes']\n",
      "No     5174\n",
      "Yes    1869\n",
      "Name: Churn, dtype: int64\n",
      "____________________________________________\n"
     ]
    }
   ],
   "source": [
    "# Print all of the data types and their unique values:\n",
    "for column in df.columns:\n",
    "    if df[column].dtype == object:\n",
    "        print(str(column) + ' : ' + str(df[column].unique()))\n",
    "        print(df[column].value_counts())\n",
    "        print('____________________________________________')"
   ]
  },
  {
   "cell_type": "markdown",
   "id": "fbd0cc25",
   "metadata": {},
   "source": [
    "# Data Analysis and Visualization"
   ]
  },
  {
   "cell_type": "code",
   "execution_count": 129,
   "id": "0d596572",
   "metadata": {},
   "outputs": [
    {
     "data": {
      "text/html": [
       "<style type=\"text/css\">\n",
       "#T_a7977_row0_col0, #T_a7977_row0_col1, #T_a7977_row0_col2 {\n",
       "  background-color: #023858;\n",
       "  color: #f1f1f1;\n",
       "}\n",
       "#T_a7977_row1_col0, #T_a7977_row2_col0, #T_a7977_row2_col1, #T_a7977_row2_col2, #T_a7977_row3_col0, #T_a7977_row3_col1, #T_a7977_row3_col2, #T_a7977_row4_col0, #T_a7977_row4_col1, #T_a7977_row4_col2, #T_a7977_row5_col0, #T_a7977_row6_col0, #T_a7977_row7_col0 {\n",
       "  background-color: #fff7fb;\n",
       "  color: #000000;\n",
       "}\n",
       "#T_a7977_row1_col1, #T_a7977_row1_col2, #T_a7977_row5_col1, #T_a7977_row5_col2, #T_a7977_row6_col1 {\n",
       "  background-color: #fef6fb;\n",
       "  color: #000000;\n",
       "}\n",
       "#T_a7977_row6_col2, #T_a7977_row7_col1 {\n",
       "  background-color: #fef6fa;\n",
       "  color: #000000;\n",
       "}\n",
       "#T_a7977_row7_col2 {\n",
       "  background-color: #fdf5fa;\n",
       "  color: #000000;\n",
       "}\n",
       "</style>\n",
       "<table id=\"T_a7977_\">\n",
       "  <thead>\n",
       "    <tr>\n",
       "      <th class=\"blank level0\" >&nbsp;</th>\n",
       "      <th class=\"col_heading level0 col0\" >SeniorCitizen</th>\n",
       "      <th class=\"col_heading level0 col1\" >tenure</th>\n",
       "      <th class=\"col_heading level0 col2\" >MonthlyCharges</th>\n",
       "    </tr>\n",
       "  </thead>\n",
       "  <tbody>\n",
       "    <tr>\n",
       "      <th id=\"T_a7977_level0_row0\" class=\"row_heading level0 row0\" >count</th>\n",
       "      <td id=\"T_a7977_row0_col0\" class=\"data row0 col0\" >7043.000000</td>\n",
       "      <td id=\"T_a7977_row0_col1\" class=\"data row0 col1\" >7043.000000</td>\n",
       "      <td id=\"T_a7977_row0_col2\" class=\"data row0 col2\" >7043.000000</td>\n",
       "    </tr>\n",
       "    <tr>\n",
       "      <th id=\"T_a7977_level0_row1\" class=\"row_heading level0 row1\" >mean</th>\n",
       "      <td id=\"T_a7977_row1_col0\" class=\"data row1 col0\" >0.162147</td>\n",
       "      <td id=\"T_a7977_row1_col1\" class=\"data row1 col1\" >32.371149</td>\n",
       "      <td id=\"T_a7977_row1_col2\" class=\"data row1 col2\" >64.761692</td>\n",
       "    </tr>\n",
       "    <tr>\n",
       "      <th id=\"T_a7977_level0_row2\" class=\"row_heading level0 row2\" >std</th>\n",
       "      <td id=\"T_a7977_row2_col0\" class=\"data row2 col0\" >0.368612</td>\n",
       "      <td id=\"T_a7977_row2_col1\" class=\"data row2 col1\" >24.559481</td>\n",
       "      <td id=\"T_a7977_row2_col2\" class=\"data row2 col2\" >30.090047</td>\n",
       "    </tr>\n",
       "    <tr>\n",
       "      <th id=\"T_a7977_level0_row3\" class=\"row_heading level0 row3\" >min</th>\n",
       "      <td id=\"T_a7977_row3_col0\" class=\"data row3 col0\" >0.000000</td>\n",
       "      <td id=\"T_a7977_row3_col1\" class=\"data row3 col1\" >0.000000</td>\n",
       "      <td id=\"T_a7977_row3_col2\" class=\"data row3 col2\" >18.250000</td>\n",
       "    </tr>\n",
       "    <tr>\n",
       "      <th id=\"T_a7977_level0_row4\" class=\"row_heading level0 row4\" >25%</th>\n",
       "      <td id=\"T_a7977_row4_col0\" class=\"data row4 col0\" >0.000000</td>\n",
       "      <td id=\"T_a7977_row4_col1\" class=\"data row4 col1\" >9.000000</td>\n",
       "      <td id=\"T_a7977_row4_col2\" class=\"data row4 col2\" >35.500000</td>\n",
       "    </tr>\n",
       "    <tr>\n",
       "      <th id=\"T_a7977_level0_row5\" class=\"row_heading level0 row5\" >50%</th>\n",
       "      <td id=\"T_a7977_row5_col0\" class=\"data row5 col0\" >0.000000</td>\n",
       "      <td id=\"T_a7977_row5_col1\" class=\"data row5 col1\" >29.000000</td>\n",
       "      <td id=\"T_a7977_row5_col2\" class=\"data row5 col2\" >70.350000</td>\n",
       "    </tr>\n",
       "    <tr>\n",
       "      <th id=\"T_a7977_level0_row6\" class=\"row_heading level0 row6\" >75%</th>\n",
       "      <td id=\"T_a7977_row6_col0\" class=\"data row6 col0\" >0.000000</td>\n",
       "      <td id=\"T_a7977_row6_col1\" class=\"data row6 col1\" >55.000000</td>\n",
       "      <td id=\"T_a7977_row6_col2\" class=\"data row6 col2\" >89.850000</td>\n",
       "    </tr>\n",
       "    <tr>\n",
       "      <th id=\"T_a7977_level0_row7\" class=\"row_heading level0 row7\" >max</th>\n",
       "      <td id=\"T_a7977_row7_col0\" class=\"data row7 col0\" >1.000000</td>\n",
       "      <td id=\"T_a7977_row7_col1\" class=\"data row7 col1\" >72.000000</td>\n",
       "      <td id=\"T_a7977_row7_col2\" class=\"data row7 col2\" >118.750000</td>\n",
       "    </tr>\n",
       "  </tbody>\n",
       "</table>\n"
      ],
      "text/plain": [
       "<pandas.io.formats.style.Styler at 0x18bdb0d7d90>"
      ]
     },
     "execution_count": 129,
     "metadata": {},
     "output_type": "execute_result"
    }
   ],
   "source": [
    "# Summary statistics:\n",
    "df.describe().style.background_gradient()"
   ]
  },
  {
   "cell_type": "code",
   "execution_count": 14,
   "id": "baaa4580",
   "metadata": {},
   "outputs": [
    {
     "data": {
      "text/plain": [
       "<AxesSubplot:xlabel='Churn', ylabel='count'>"
      ]
     },
     "execution_count": 14,
     "metadata": {},
     "output_type": "execute_result"
    },
    {
     "data": {
      "image/png": "[encoded data removed]",
      "text/plain": [
       "<Figure size 432x288 with 1 Axes>"
      ]
     },
     "metadata": {
      "needs_background": "light"
     },
     "output_type": "display_data"
    }
   ],
   "source": [
    "# Visualize the number of Customer Churn:\n",
    "sns.countplot(df['Churn'])"
   ]
  },
  {
   "cell_type": "markdown",
   "id": "07a24ef6",
   "metadata": {},
   "source": [
    "Observation :- To see this from above graph that Churn No value is more than yes."
   ]
  },
  {
   "cell_type": "code",
   "execution_count": 15,
   "id": "54974b3c",
   "metadata": {},
   "outputs": [
    {
     "data": {
      "text/plain": [
       "<AxesSubplot:xlabel='Churn', ylabel='count'>"
      ]
     },
     "execution_count": 15,
     "metadata": {},
     "output_type": "execute_result"
    },
    {
     "data": {
      "image/png": "[encoded data removed]",
      "text/plain": [
       "<Figure size 432x288 with 1 Axes>"
      ]
     },
     "metadata": {
      "needs_background": "light"
     },
     "output_type": "display_data"
    }
   ],
   "source": [
    "# gender and churn.\n",
    "sns.countplot(x='Churn', data=df, hue='gender', palette=\"coolwarm_r\")"
   ]
  },
  {
   "cell_type": "markdown",
   "id": "81279508",
   "metadata": {},
   "source": [
    "Observation :- In this graph both gender has eqaullay that minor diff when customer churn has no"
   ]
  },
  {
   "cell_type": "code",
   "execution_count": 16,
   "id": "5e941ea4",
   "metadata": {},
   "outputs": [
    {
     "data": {
      "text/plain": [
       "<AxesSubplot:xlabel='SeniorCitizen', ylabel='count'>"
      ]
     },
     "execution_count": 16,
     "metadata": {},
     "output_type": "execute_result"
    },
    {
     "data": {
      "image/png": "[encoded data removed]",
      "text/plain": [
       "<Figure size 432x288 with 1 Axes>"
      ]
     },
     "metadata": {
      "needs_background": "light"
     },
     "output_type": "display_data"
    }
   ],
   "source": [
    "# Visualize the number of SeniorCitizen.\n",
    "sns.countplot(df['SeniorCitizen'])"
   ]
  },
  {
   "cell_type": "markdown",
   "id": "9ab7db5a",
   "metadata": {},
   "source": [
    "Observation :- In this graph SeniorCitizen value has less count."
   ]
  },
  {
   "cell_type": "code",
   "execution_count": 17,
   "id": "ded56bec",
   "metadata": {},
   "outputs": [
    {
     "data": {
      "image/png": "[encoded data removed]",
      "text/plain": [
       "<Figure size 432x288 with 1 Axes>"
      ]
     },
     "metadata": {
      "needs_background": "light"
     },
     "output_type": "display_data"
    }
   ],
   "source": [
    "# SeniorCitizen vs Churn\n",
    "fig_churn_phone_service = sns.countplot(x=\"SeniorCitizen\",hue=\"Churn\",data=df, palette='viridis')\n",
    "fig_churn_phone_service.set_title(\"Does Having a SeniorCitizen affect Churn rate?\")\n",
    "plt.show()"
   ]
  },
  {
   "cell_type": "markdown",
   "id": "52705e2d",
   "metadata": {},
   "source": [
    "Observation :- In this graph SC is not much affect the churn."
   ]
  },
  {
   "cell_type": "code",
   "execution_count": 18,
   "id": "36c26177",
   "metadata": {},
   "outputs": [
    {
     "data": {
      "text/plain": [
       "<AxesSubplot:xlabel='Partner', ylabel='count'>"
      ]
     },
     "execution_count": 18,
     "metadata": {},
     "output_type": "execute_result"
    },
    {
     "data": {
      "image/png": "[encoded data removed]",
      "text/plain": [
       "<Figure size 432x288 with 1 Axes>"
      ]
     },
     "metadata": {
      "needs_background": "light"
     },
     "output_type": "display_data"
    }
   ],
   "source": [
    "# Visualize the number of Partner.\n",
    "sns.countplot(df['Partner'])"
   ]
  },
  {
   "cell_type": "markdown",
   "id": "b4193829",
   "metadata": {},
   "source": [
    "Observation :- In this graph without patner is littlebit more then with partner."
   ]
  },
  {
   "cell_type": "code",
   "execution_count": 19,
   "id": "49bd33c7",
   "metadata": {},
   "outputs": [
    {
     "data": {
      "image/png": "[encoded data removed]",
      "text/plain": [
       "<Figure size 432x288 with 1 Axes>"
      ]
     },
     "metadata": {
      "needs_background": "light"
     },
     "output_type": "display_data"
    }
   ],
   "source": [
    "# partner vs churn.\n",
    "fig_churn_partner = sns.countplot(x=\"Partner\", hue=\"Churn\", data=df, palette=\"Set2\")\n",
    "fig_churn_partner.set_title(\"Does Marriage affect Churn rate?\")\n",
    "plt.show()"
   ]
  },
  {
   "cell_type": "code",
   "execution_count": 20,
   "id": "31a4bec7",
   "metadata": {},
   "outputs": [
    {
     "data": {
      "text/plain": [
       "<AxesSubplot:xlabel='Dependents', ylabel='count'>"
      ]
     },
     "execution_count": 20,
     "metadata": {},
     "output_type": "execute_result"
    },
    {
     "data": {
      "image/png": "[encoded data removed]",
      "text/plain": [
       "<Figure size 432x288 with 1 Axes>"
      ]
     },
     "metadata": {
      "needs_background": "light"
     },
     "output_type": "display_data"
    }
   ],
   "source": [
    "# Visualize the number of dependents.\n",
    "sns.countplot(df['Dependents'])"
   ]
  },
  {
   "cell_type": "code",
   "execution_count": 21,
   "id": "ced0ad4a",
   "metadata": {},
   "outputs": [
    {
     "data": {
      "image/png": "[encoded data removed]",
      "text/plain": [
       "<Figure size 432x288 with 1 Axes>"
      ]
     },
     "metadata": {
      "needs_background": "light"
     },
     "output_type": "display_data"
    }
   ],
   "source": [
    "# Dependents vs Churn\n",
    "fig_churn_phone_service = sns.countplot(x=\"Dependents\",hue=\"Churn\",data=df, palette='Set3')\n",
    "fig_churn_phone_service.set_title(\"Does Dependents affect Churn rate?\")\n",
    "plt.show()"
   ]
  },
  {
   "cell_type": "code",
   "execution_count": 22,
   "id": "9b8193cf",
   "metadata": {},
   "outputs": [
    {
     "data": {
      "text/plain": [
       "<AxesSubplot:xlabel='PhoneService', ylabel='count'>"
      ]
     },
     "execution_count": 22,
     "metadata": {},
     "output_type": "execute_result"
    },
    {
     "data": {
      "image/png": "[encoded data removed]",
      "text/plain": [
       "<Figure size 432x288 with 1 Axes>"
      ]
     },
     "metadata": {
      "needs_background": "light"
     },
     "output_type": "display_data"
    }
   ],
   "source": [
    "# Visualize the number of Phoneservice.\n",
    "sns.countplot(df['PhoneService'])"
   ]
  },
  {
   "cell_type": "code",
   "execution_count": 23,
   "id": "a89d527f",
   "metadata": {},
   "outputs": [
    {
     "data": {
      "text/plain": [
       "<AxesSubplot:xlabel='Churn', ylabel='count'>"
      ]
     },
     "execution_count": 23,
     "metadata": {},
     "output_type": "execute_result"
    },
    {
     "data": {
      "image/png": "[encoded data removed]",
      "text/plain": [
       "<Figure size 432x288 with 1 Axes>"
      ]
     },
     "metadata": {
      "needs_background": "light"
     },
     "output_type": "display_data"
    }
   ],
   "source": [
    "# PhoneService and churn.\n",
    "sns.countplot(x='Churn', data=df, hue='PhoneService', palette=\"rainbow\")"
   ]
  },
  {
   "cell_type": "code",
   "execution_count": 24,
   "id": "d3d327d7",
   "metadata": {},
   "outputs": [
    {
     "data": {
      "text/plain": [
       "<AxesSubplot:xlabel='MultipleLines', ylabel='count'>"
      ]
     },
     "execution_count": 24,
     "metadata": {},
     "output_type": "execute_result"
    },
    {
     "data": {
      "image/png": "[encoded data removed]",
      "text/plain": [
       "<Figure size 432x288 with 1 Axes>"
      ]
     },
     "metadata": {
      "needs_background": "light"
     },
     "output_type": "display_data"
    }
   ],
   "source": [
    "# Visualize the number of Multiplelines.\n",
    "sns.countplot(df['MultipleLines'])"
   ]
  },
  {
   "cell_type": "code",
   "execution_count": 25,
   "id": "5b1b1115",
   "metadata": {},
   "outputs": [
    {
     "data": {
      "text/plain": [
       "<AxesSubplot:xlabel='Churn', ylabel='count'>"
      ]
     },
     "execution_count": 25,
     "metadata": {},
     "output_type": "execute_result"
    },
    {
     "data": {
      "image/png": "[encoded data removed]",
      "text/plain": [
       "<Figure size 432x288 with 1 Axes>"
      ]
     },
     "metadata": {
      "needs_background": "light"
     },
     "output_type": "display_data"
    }
   ],
   "source": [
    "# MultipleLines and churn.\n",
    "sns.countplot(x='Churn', data=df, hue='MultipleLines', palette=\"rainbow\")"
   ]
  },
  {
   "cell_type": "code",
   "execution_count": 26,
   "id": "5ef4d00c",
   "metadata": {},
   "outputs": [
    {
     "data": {
      "text/plain": [
       "<AxesSubplot:xlabel='InternetService', ylabel='count'>"
      ]
     },
     "execution_count": 26,
     "metadata": {},
     "output_type": "execute_result"
    },
    {
     "data": {
      "image/png": "[encoded data removed]",
      "text/plain": [
       "<Figure size 432x288 with 1 Axes>"
      ]
     },
     "metadata": {
      "needs_background": "light"
     },
     "output_type": "display_data"
    }
   ],
   "source": [
    "# Visualize the number of InternetService.\n",
    "sns.countplot(df['InternetService'])"
   ]
  },
  {
   "cell_type": "code",
   "execution_count": 27,
   "id": "cbef25e4",
   "metadata": {},
   "outputs": [
    {
     "data": {
      "text/plain": [
       "<AxesSubplot:xlabel='Churn', ylabel='count'>"
      ]
     },
     "execution_count": 27,
     "metadata": {},
     "output_type": "execute_result"
    },
    {
     "data": {
      "image/png": "[encoded data removed]",
      "text/plain": [
       "<Figure size 432x288 with 1 Axes>"
      ]
     },
     "metadata": {
      "needs_background": "light"
     },
     "output_type": "display_data"
    }
   ],
   "source": [
    "# display countplot for InternetService in churn:\n",
    "sns.countplot(x='Churn',data=df, hue='InternetService')"
   ]
  },
  {
   "cell_type": "code",
   "execution_count": 28,
   "id": "cb68d673",
   "metadata": {},
   "outputs": [
    {
     "data": {
      "text/plain": [
       "[Text(0.5, 0, 'Tenure in Months'), Text(0, 0.5, 'Count')]"
      ]
     },
     "execution_count": 28,
     "metadata": {},
     "output_type": "execute_result"
    },
    {
     "data": {
      "image/png": "[encoded data removed]",
      "text/plain": [
       "<Figure size 432x288 with 1 Axes>"
      ]
     },
     "metadata": {
      "needs_background": "light"
     },
     "output_type": "display_data"
    }
   ],
   "source": [
    "# display histplot for tenure in Churn:\n",
    "ax = sns.histplot(x = 'tenure', hue = 'Churn', data = df, multiple='dodge', palette=\"Set2\")\n",
    "ax.set(xlabel=\"Tenure in Months\", ylabel = \"Count\")"
   ]
  },
  {
   "cell_type": "code",
   "execution_count": 29,
   "id": "21f793be",
   "metadata": {},
   "outputs": [
    {
     "data": {
      "text/plain": [
       "<AxesSubplot:xlabel='OnlineSecurity', ylabel='count'>"
      ]
     },
     "execution_count": 29,
     "metadata": {},
     "output_type": "execute_result"
    },
    {
     "data": {
      "image/png": "[encoded data removed]",
      "text/plain": [
       "<Figure size 432x288 with 1 Axes>"
      ]
     },
     "metadata": {
      "needs_background": "light"
     },
     "output_type": "display_data"
    }
   ],
   "source": [
    "# Visualize the number of OnlineSecurity.\n",
    "sns.countplot(df['OnlineSecurity'])"
   ]
  },
  {
   "cell_type": "code",
   "execution_count": 30,
   "id": "2d5faad1",
   "metadata": {},
   "outputs": [
    {
     "data": {
      "image/png": "[encoded data removed]",
      "text/plain": [
       "<Figure size 576x432 with 1 Axes>"
      ]
     },
     "metadata": {
      "needs_background": "light"
     },
     "output_type": "display_data"
    }
   ],
   "source": [
    "# OnlineSecurity vs Churn\n",
    "f, ax = plt.subplots(figsize=(8,6))\n",
    "fig_churn_phone_service = sns.countplot(x=\"OnlineSecurity\",hue=\"Churn\",data=df, palette='Set2')\n",
    "fig_churn_phone_service.set_title(\"Does Having a OnlineSecurity affect Churn rate?\")\n",
    "plt.show()"
   ]
  },
  {
   "cell_type": "code",
   "execution_count": 31,
   "id": "c01a88a8",
   "metadata": {},
   "outputs": [
    {
     "data": {
      "text/plain": [
       "<AxesSubplot:xlabel='OnlineBackup', ylabel='count'>"
      ]
     },
     "execution_count": 31,
     "metadata": {},
     "output_type": "execute_result"
    },
    {
     "data": {
      "image/png": "[encoded data removed]",
      "text/plain": [
       "<Figure size 432x288 with 1 Axes>"
      ]
     },
     "metadata": {
      "needs_background": "light"
     },
     "output_type": "display_data"
    }
   ],
   "source": [
    "# Visualize the number of OnlineBackup.\n",
    "sns.countplot(df['OnlineBackup'])"
   ]
  },
  {
   "cell_type": "code",
   "execution_count": 32,
   "id": "6de62a9a",
   "metadata": {},
   "outputs": [
    {
     "data": {
      "image/png": "[encoded data removed]",
      "text/plain": [
       "<Figure size 576x432 with 1 Axes>"
      ]
     },
     "metadata": {
      "needs_background": "light"
     },
     "output_type": "display_data"
    }
   ],
   "source": [
    "# OnlineBackup vs Churn\n",
    "f, ax = plt.subplots(figsize=(8,6))\n",
    "fig_churn_phone_service = sns.countplot(x=\"OnlineBackup\",hue=\"Churn\",data=df, palette='rainbow')\n",
    "fig_churn_phone_service.set_title(\"Does Having a OnlineBackup affect Churn rate?\")\n",
    "plt.show()"
   ]
  },
  {
   "cell_type": "code",
   "execution_count": 33,
   "id": "bbfb8c87",
   "metadata": {},
   "outputs": [
    {
     "data": {
      "text/plain": [
       "<AxesSubplot:xlabel='DeviceProtection', ylabel='count'>"
      ]
     },
     "execution_count": 33,
     "metadata": {},
     "output_type": "execute_result"
    },
    {
     "data": {
      "image/png": "[encoded data removed]",
      "text/plain": [
       "<Figure size 432x288 with 1 Axes>"
      ]
     },
     "metadata": {
      "needs_background": "light"
     },
     "output_type": "display_data"
    }
   ],
   "source": [
    "# Visualize the number of DeviceProtection.\n",
    "sns.countplot(df['DeviceProtection'])"
   ]
  },
  {
   "cell_type": "code",
   "execution_count": 34,
   "id": "0ebac6b2",
   "metadata": {},
   "outputs": [
    {
     "data": {
      "image/png": "[encoded data removed]",
      "text/plain": [
       "<Figure size 576x432 with 1 Axes>"
      ]
     },
     "metadata": {
      "needs_background": "light"
     },
     "output_type": "display_data"
    }
   ],
   "source": [
    "# DeviceProtection vs Churn\n",
    "f, ax = plt.subplots(figsize=(8,6))\n",
    "fig_churn_phone_service = sns.countplot(x=\"DeviceProtection\",hue=\"Churn\",data=df, palette='rainbow')\n",
    "fig_churn_phone_service.set_title(\"Does Having a DeviceProtection affect Churn rate?\")\n",
    "plt.show()"
   ]
  },
  {
   "cell_type": "code",
   "execution_count": 35,
   "id": "9a23283e",
   "metadata": {},
   "outputs": [
    {
     "data": {
      "text/plain": [
       "<AxesSubplot:xlabel='TechSupport', ylabel='count'>"
      ]
     },
     "execution_count": 35,
     "metadata": {},
     "output_type": "execute_result"
    },
    {
     "data": {
      "image/png": "[encoded data removed]",
      "text/plain": [
       "<Figure size 432x288 with 1 Axes>"
      ]
     },
     "metadata": {
      "needs_background": "light"
     },
     "output_type": "display_data"
    }
   ],
   "source": [
    "# Visualize the number of TechSupport.\n",
    "sns.countplot(df['TechSupport'])"
   ]
  },
  {
   "cell_type": "code",
   "execution_count": 36,
   "id": "e40c41c2",
   "metadata": {},
   "outputs": [
    {
     "data": {
      "image/png": "[encoded data removed]",
      "text/plain": [
       "<Figure size 576x432 with 1 Axes>"
      ]
     },
     "metadata": {
      "needs_background": "light"
     },
     "output_type": "display_data"
    }
   ],
   "source": [
    "# TechSupport vs Churn\n",
    "f, ax = plt.subplots(figsize=(8,6))\n",
    "fig_churn_phone_service = sns.countplot(x=\"TechSupport\",hue=\"Churn\",data=df, palette='viridis')\n",
    "fig_churn_phone_service.set_title(\"Does Having a TechSupport affect Churn rate?\")\n",
    "plt.show()"
   ]
  },
  {
   "cell_type": "code",
   "execution_count": 37,
   "id": "4cacca79",
   "metadata": {},
   "outputs": [],
   "source": [
    "# Replace white space value of totalcharges column with Nan:\n",
    "df['TotalCharges'] = df['TotalCharges'].replace(r'^\\s*$', np.nan, regex=True)"
   ]
  },
  {
   "cell_type": "code",
   "execution_count": 38,
   "id": "69d4bab4",
   "metadata": {},
   "outputs": [],
   "source": [
    "# Replace Nan value of totalcharges column with mode:\n",
    "from sklearn.impute import SimpleImputer\n",
    "cat_imputer = SimpleImputer(strategy='most_frequent')\n",
    "df[df.columns[df.dtypes=='object']] = cat_imputer.fit_transform(df[df.columns[df.dtypes=='object']])"
   ]
  },
  {
   "cell_type": "code",
   "execution_count": 39,
   "id": "7ede9ce6",
   "metadata": {},
   "outputs": [],
   "source": [
    "# Convert totalcharges column into float type:\n",
    "df['TotalCharges'] = pd.to_numeric(df['TotalCharges'])"
   ]
  },
  {
   "cell_type": "code",
   "execution_count": 40,
   "id": "c567b691",
   "metadata": {},
   "outputs": [
    {
     "data": {
      "image/png": "[encoded data removed]",
      "text/plain": [
       "<Figure size 864x720 with 6 Axes>"
      ]
     },
     "metadata": {
      "needs_background": "light"
     },
     "output_type": "display_data"
    }
   ],
   "source": [
    "# Display histogram:\n",
    "df.hist(figsize=(12,10), layout=(2,3), sharex=False);"
   ]
  },
  {
   "cell_type": "code",
   "execution_count": 41,
   "id": "ba901825",
   "metadata": {},
   "outputs": [
    {
     "data": {
      "image/png": "[encoded data removed]",
      "text/plain": [
       "<Figure size 864x720 with 6 Axes>"
      ]
     },
     "metadata": {
      "needs_background": "light"
     },
     "output_type": "display_data"
    }
   ],
   "source": [
    "# Let's check desity plot:\n",
    "df.plot(kind='density', subplots=True, layout=(2,3), sharex=False, legend=True, fontsize=1, figsize=(12,10))\n",
    "plt.show()"
   ]
  },
  {
   "cell_type": "code",
   "execution_count": 42,
   "id": "8abed27b",
   "metadata": {},
   "outputs": [
    {
     "data": {
      "text/plain": [
       "<AxesSubplot:xlabel='tenure', ylabel='Density'>"
      ]
     },
     "execution_count": 42,
     "metadata": {},
     "output_type": "execute_result"
    },
    {
     "data": {
      "image/png": "[encoded data removed]",
      "text/plain": [
       "<Figure size 576x360 with 1 Axes>"
      ]
     },
     "metadata": {
      "needs_background": "light"
     },
     "output_type": "display_data"
    }
   ],
   "source": [
    "# Display distplot of tenure column:\n",
    "plt.figure(figsize=(8,5))\n",
    "sns.distplot(df['tenure'])"
   ]
  },
  {
   "cell_type": "code",
   "execution_count": 43,
   "id": "5abe6c99",
   "metadata": {},
   "outputs": [
    {
     "data": {
      "text/plain": [
       "<AxesSubplot:xlabel='MonthlyCharges', ylabel='Density'>"
      ]
     },
     "execution_count": 43,
     "metadata": {},
     "output_type": "execute_result"
    },
    {
     "data": {
      "image/png": "[encoded data removed]",
      "text/plain": [
       "<Figure size 576x360 with 1 Axes>"
      ]
     },
     "metadata": {
      "needs_background": "light"
     },
     "output_type": "display_data"
    }
   ],
   "source": [
    "# Display distplot of monthly charges column:\n",
    "plt.figure(figsize=(8,5))\n",
    "sns.distplot(df['MonthlyCharges'])"
   ]
  },
  {
   "cell_type": "markdown",
   "id": "dae4c9c6",
   "metadata": {},
   "source": [
    "# Remove skewness and outliers"
   ]
  },
  {
   "cell_type": "code",
   "execution_count": 44,
   "id": "525a124d",
   "metadata": {},
   "outputs": [
    {
     "data": {
      "text/plain": [
       "SeniorCitizen     1.833633\n",
       "TotalCharges      0.963275\n",
       "tenure            0.239540\n",
       "MonthlyCharges   -0.220524\n",
       "dtype: float64"
      ]
     },
     "execution_count": 44,
     "metadata": {},
     "output_type": "execute_result"
    }
   ],
   "source": [
    "# Check skewness:\n",
    "df.skew().sort_values(ascending=False)"
   ]
  },
  {
   "cell_type": "code",
   "execution_count": 45,
   "id": "d0401a5d",
   "metadata": {},
   "outputs": [],
   "source": [
    "# Remove skewness using log transform and sqrt method:\n",
    "import numpy as np\n",
    "df['SeniorCitizen']=np.sqrt(df['SeniorCitizen'])"
   ]
  },
  {
   "cell_type": "code",
   "execution_count": 46,
   "id": "e9020c96",
   "metadata": {},
   "outputs": [
    {
     "data": {
      "text/plain": [
       "SeniorCitizen     1.833633\n",
       "TotalCharges      0.963275\n",
       "tenure            0.239540\n",
       "MonthlyCharges   -0.220524\n",
       "dtype: float64"
      ]
     },
     "execution_count": 46,
     "metadata": {},
     "output_type": "execute_result"
    }
   ],
   "source": [
    "# Check skewness:\n",
    "df.skew().sort_values(ascending=False)"
   ]
  },
  {
   "cell_type": "code",
   "execution_count": 47,
   "id": "933da560",
   "metadata": {},
   "outputs": [],
   "source": [
    "# Dropping the Price column:\n",
    "data = df.drop([\"Churn\"], axis=1)"
   ]
  },
  {
   "cell_type": "code",
   "execution_count": 48,
   "id": "8e5db8f0",
   "metadata": {},
   "outputs": [],
   "source": [
    "# Here convert into Categorical Data and Numerical Data:\n",
    "categorical_data = data.select_dtypes(exclude=['int64', 'float','int32'])\n",
    "numerical_data = data.select_dtypes(include=['int64', 'float','int32'])"
   ]
  },
  {
   "cell_type": "code",
   "execution_count": 49,
   "id": "7182384c",
   "metadata": {},
   "outputs": [
    {
     "data": {
      "text/html": [
       "<div>\n",
       "<style scoped>\n",
       "    .dataframe tbody tr th:only-of-type {\n",
       "        vertical-align: middle;\n",
       "    }\n",
       "\n",
       "    .dataframe tbody tr th {\n",
       "        vertical-align: top;\n",
       "    }\n",
       "\n",
       "    .dataframe thead th {\n",
       "        text-align: right;\n",
       "    }\n",
       "</style>\n",
       "<table border=\"1\" class=\"dataframe\">\n",
       "  <thead>\n",
       "    <tr style=\"text-align: right;\">\n",
       "      <th></th>\n",
       "      <th>customerID</th>\n",
       "      <th>gender</th>\n",
       "      <th>Partner</th>\n",
       "      <th>Dependents</th>\n",
       "      <th>PhoneService</th>\n",
       "      <th>MultipleLines</th>\n",
       "      <th>InternetService</th>\n",
       "      <th>OnlineSecurity</th>\n",
       "      <th>OnlineBackup</th>\n",
       "      <th>DeviceProtection</th>\n",
       "      <th>TechSupport</th>\n",
       "      <th>StreamingTV</th>\n",
       "      <th>StreamingMovies</th>\n",
       "      <th>Contract</th>\n",
       "      <th>PaperlessBilling</th>\n",
       "      <th>PaymentMethod</th>\n",
       "    </tr>\n",
       "  </thead>\n",
       "  <tbody>\n",
       "    <tr>\n",
       "      <th>0</th>\n",
       "      <td>7590-VHVEG</td>\n",
       "      <td>Female</td>\n",
       "      <td>Yes</td>\n",
       "      <td>No</td>\n",
       "      <td>No</td>\n",
       "      <td>No phone service</td>\n",
       "      <td>DSL</td>\n",
       "      <td>No</td>\n",
       "      <td>Yes</td>\n",
       "      <td>No</td>\n",
       "      <td>No</td>\n",
       "      <td>No</td>\n",
       "      <td>No</td>\n",
       "      <td>Month-to-month</td>\n",
       "      <td>Yes</td>\n",
       "      <td>Electronic check</td>\n",
       "    </tr>\n",
       "    <tr>\n",
       "      <th>1</th>\n",
       "      <td>5575-GNVDE</td>\n",
       "      <td>Male</td>\n",
       "      <td>No</td>\n",
       "      <td>No</td>\n",
       "      <td>Yes</td>\n",
       "      <td>No</td>\n",
       "      <td>DSL</td>\n",
       "      <td>Yes</td>\n",
       "      <td>No</td>\n",
       "      <td>Yes</td>\n",
       "      <td>No</td>\n",
       "      <td>No</td>\n",
       "      <td>No</td>\n",
       "      <td>One year</td>\n",
       "      <td>No</td>\n",
       "      <td>Mailed check</td>\n",
       "    </tr>\n",
       "    <tr>\n",
       "      <th>2</th>\n",
       "      <td>3668-QPYBK</td>\n",
       "      <td>Male</td>\n",
       "      <td>No</td>\n",
       "      <td>No</td>\n",
       "      <td>Yes</td>\n",
       "      <td>No</td>\n",
       "      <td>DSL</td>\n",
       "      <td>Yes</td>\n",
       "      <td>Yes</td>\n",
       "      <td>No</td>\n",
       "      <td>No</td>\n",
       "      <td>No</td>\n",
       "      <td>No</td>\n",
       "      <td>Month-to-month</td>\n",
       "      <td>Yes</td>\n",
       "      <td>Mailed check</td>\n",
       "    </tr>\n",
       "    <tr>\n",
       "      <th>3</th>\n",
       "      <td>7795-CFOCW</td>\n",
       "      <td>Male</td>\n",
       "      <td>No</td>\n",
       "      <td>No</td>\n",
       "      <td>No</td>\n",
       "      <td>No phone service</td>\n",
       "      <td>DSL</td>\n",
       "      <td>Yes</td>\n",
       "      <td>No</td>\n",
       "      <td>Yes</td>\n",
       "      <td>Yes</td>\n",
       "      <td>No</td>\n",
       "      <td>No</td>\n",
       "      <td>One year</td>\n",
       "      <td>No</td>\n",
       "      <td>Bank transfer (automatic)</td>\n",
       "    </tr>\n",
       "    <tr>\n",
       "      <th>4</th>\n",
       "      <td>9237-HQITU</td>\n",
       "      <td>Female</td>\n",
       "      <td>No</td>\n",
       "      <td>No</td>\n",
       "      <td>Yes</td>\n",
       "      <td>No</td>\n",
       "      <td>Fiber optic</td>\n",
       "      <td>No</td>\n",
       "      <td>No</td>\n",
       "      <td>No</td>\n",
       "      <td>No</td>\n",
       "      <td>No</td>\n",
       "      <td>No</td>\n",
       "      <td>Month-to-month</td>\n",
       "      <td>Yes</td>\n",
       "      <td>Electronic check</td>\n",
       "    </tr>\n",
       "  </tbody>\n",
       "</table>\n",
       "</div>"
      ],
      "text/plain": [
       "   customerID  gender Partner Dependents PhoneService     MultipleLines  \\\n",
       "0  7590-VHVEG  Female     Yes         No           No  No phone service   \n",
       "1  5575-GNVDE    Male      No         No          Yes                No   \n",
       "2  3668-QPYBK    Male      No         No          Yes                No   \n",
       "3  7795-CFOCW    Male      No         No           No  No phone service   \n",
       "4  9237-HQITU  Female      No         No          Yes                No   \n",
       "\n",
       "  InternetService OnlineSecurity OnlineBackup DeviceProtection TechSupport  \\\n",
       "0             DSL             No          Yes               No          No   \n",
       "1             DSL            Yes           No              Yes          No   \n",
       "2             DSL            Yes          Yes               No          No   \n",
       "3             DSL            Yes           No              Yes         Yes   \n",
       "4     Fiber optic             No           No               No          No   \n",
       "\n",
       "  StreamingTV StreamingMovies        Contract PaperlessBilling  \\\n",
       "0          No              No  Month-to-month              Yes   \n",
       "1          No              No        One year               No   \n",
       "2          No              No  Month-to-month              Yes   \n",
       "3          No              No        One year               No   \n",
       "4          No              No  Month-to-month              Yes   \n",
       "\n",
       "               PaymentMethod  \n",
       "0           Electronic check  \n",
       "1               Mailed check  \n",
       "2               Mailed check  \n",
       "3  Bank transfer (automatic)  \n",
       "4           Electronic check  "
      ]
     },
     "execution_count": 49,
     "metadata": {},
     "output_type": "execute_result"
    }
   ],
   "source": [
    "categorical_data.head()"
   ]
  },
  {
   "cell_type": "code",
   "execution_count": 50,
   "id": "4e85e063",
   "metadata": {},
   "outputs": [
    {
     "data": {
      "text/html": [
       "<div>\n",
       "<style scoped>\n",
       "    .dataframe tbody tr th:only-of-type {\n",
       "        vertical-align: middle;\n",
       "    }\n",
       "\n",
       "    .dataframe tbody tr th {\n",
       "        vertical-align: top;\n",
       "    }\n",
       "\n",
       "    .dataframe thead th {\n",
       "        text-align: right;\n",
       "    }\n",
       "</style>\n",
       "<table border=\"1\" class=\"dataframe\">\n",
       "  <thead>\n",
       "    <tr style=\"text-align: right;\">\n",
       "      <th></th>\n",
       "      <th>SeniorCitizen</th>\n",
       "      <th>tenure</th>\n",
       "      <th>MonthlyCharges</th>\n",
       "      <th>TotalCharges</th>\n",
       "    </tr>\n",
       "  </thead>\n",
       "  <tbody>\n",
       "    <tr>\n",
       "      <th>0</th>\n",
       "      <td>0.0</td>\n",
       "      <td>1</td>\n",
       "      <td>29.85</td>\n",
       "      <td>29.85</td>\n",
       "    </tr>\n",
       "    <tr>\n",
       "      <th>1</th>\n",
       "      <td>0.0</td>\n",
       "      <td>34</td>\n",
       "      <td>56.95</td>\n",
       "      <td>1889.50</td>\n",
       "    </tr>\n",
       "    <tr>\n",
       "      <th>2</th>\n",
       "      <td>0.0</td>\n",
       "      <td>2</td>\n",
       "      <td>53.85</td>\n",
       "      <td>108.15</td>\n",
       "    </tr>\n",
       "    <tr>\n",
       "      <th>3</th>\n",
       "      <td>0.0</td>\n",
       "      <td>45</td>\n",
       "      <td>42.30</td>\n",
       "      <td>1840.75</td>\n",
       "    </tr>\n",
       "    <tr>\n",
       "      <th>4</th>\n",
       "      <td>0.0</td>\n",
       "      <td>2</td>\n",
       "      <td>70.70</td>\n",
       "      <td>151.65</td>\n",
       "    </tr>\n",
       "  </tbody>\n",
       "</table>\n",
       "</div>"
      ],
      "text/plain": [
       "   SeniorCitizen  tenure  MonthlyCharges  TotalCharges\n",
       "0            0.0       1           29.85         29.85\n",
       "1            0.0      34           56.95       1889.50\n",
       "2            0.0       2           53.85        108.15\n",
       "3            0.0      45           42.30       1840.75\n",
       "4            0.0       2           70.70        151.65"
      ]
     },
     "execution_count": 50,
     "metadata": {},
     "output_type": "execute_result"
    }
   ],
   "source": [
    "numerical_data.head()"
   ]
  },
  {
   "cell_type": "code",
   "execution_count": 54,
   "id": "10ac45a4",
   "metadata": {},
   "outputs": [
    {
     "data": {
      "text/plain": [
       "SeniorCitizen        AxesSubplot(0.125,0.536818;0.352273x0.343182)\n",
       "tenure            AxesSubplot(0.547727,0.536818;0.352273x0.343182)\n",
       "MonthlyCharges          AxesSubplot(0.125,0.125;0.352273x0.343182)\n",
       "TotalCharges         AxesSubplot(0.547727,0.125;0.352273x0.343182)\n",
       "dtype: object"
      ]
     },
     "execution_count": 54,
     "metadata": {},
     "output_type": "execute_result"
    },
    {
     "data": {
      "image/png": "[encoded data removed]",
      "text/plain": [
       "<Figure size 864x432 with 4 Axes>"
      ]
     },
     "metadata": {
      "needs_background": "light"
     },
     "output_type": "display_data"
    }
   ],
   "source": [
    "# Checking outliers with boxplot:\n",
    "numerical_data.plot(kind='box', subplots=True, layout=(2,2), figsize=(12,6))"
   ]
  },
  {
   "cell_type": "code",
   "execution_count": 55,
   "id": "4415ccc8",
   "metadata": {},
   "outputs": [
    {
     "data": {
      "text/plain": [
       "SeniorCitizen     True\n",
       "tenure            True\n",
       "MonthlyCharges    True\n",
       "TotalCharges      True\n",
       "dtype: bool"
      ]
     },
     "execution_count": 55,
     "metadata": {},
     "output_type": "execute_result"
    }
   ],
   "source": [
    "# Lets quantify:\n",
    "from scipy.stats import zscore\n",
    "(np.abs(zscore(numerical_data))<3).all()"
   ]
  },
  {
   "cell_type": "code",
   "execution_count": 56,
   "id": "e5af292e",
   "metadata": {},
   "outputs": [
    {
     "name": "stdout",
     "output_type": "stream",
     "text": [
      "(array([], dtype=int64), array([], dtype=int64))\n"
     ]
    }
   ],
   "source": [
    "# Detecting outliers:\n",
    "from scipy.stats import zscore\n",
    "z = np.abs(zscore(numerical_data))\n",
    "print(np.where(z>3))"
   ]
  },
  {
   "cell_type": "markdown",
   "id": "23a0bd0b",
   "metadata": {},
   "source": [
    "#### no outlier detected on numeric columns."
   ]
  },
  {
   "cell_type": "code",
   "execution_count": 57,
   "id": "f81ba0ed",
   "metadata": {},
   "outputs": [
    {
     "data": {
      "text/html": [
       "<div>\n",
       "<style scoped>\n",
       "    .dataframe tbody tr th:only-of-type {\n",
       "        vertical-align: middle;\n",
       "    }\n",
       "\n",
       "    .dataframe tbody tr th {\n",
       "        vertical-align: top;\n",
       "    }\n",
       "\n",
       "    .dataframe thead th {\n",
       "        text-align: right;\n",
       "    }\n",
       "</style>\n",
       "<table border=\"1\" class=\"dataframe\">\n",
       "  <thead>\n",
       "    <tr style=\"text-align: right;\">\n",
       "      <th></th>\n",
       "      <th>customerID</th>\n",
       "      <th>gender</th>\n",
       "      <th>SeniorCitizen</th>\n",
       "      <th>Partner</th>\n",
       "      <th>Dependents</th>\n",
       "      <th>tenure</th>\n",
       "      <th>PhoneService</th>\n",
       "      <th>MultipleLines</th>\n",
       "      <th>InternetService</th>\n",
       "      <th>OnlineSecurity</th>\n",
       "      <th>OnlineBackup</th>\n",
       "      <th>DeviceProtection</th>\n",
       "      <th>TechSupport</th>\n",
       "      <th>StreamingTV</th>\n",
       "      <th>StreamingMovies</th>\n",
       "      <th>Contract</th>\n",
       "      <th>PaperlessBilling</th>\n",
       "      <th>PaymentMethod</th>\n",
       "      <th>MonthlyCharges</th>\n",
       "      <th>TotalCharges</th>\n",
       "      <th>Churn</th>\n",
       "    </tr>\n",
       "  </thead>\n",
       "  <tbody>\n",
       "    <tr>\n",
       "      <th>0</th>\n",
       "      <td>7590-VHVEG</td>\n",
       "      <td>0</td>\n",
       "      <td>0.0</td>\n",
       "      <td>1</td>\n",
       "      <td>0</td>\n",
       "      <td>1</td>\n",
       "      <td>0</td>\n",
       "      <td>1</td>\n",
       "      <td>0</td>\n",
       "      <td>0</td>\n",
       "      <td>2</td>\n",
       "      <td>0</td>\n",
       "      <td>0</td>\n",
       "      <td>0</td>\n",
       "      <td>0</td>\n",
       "      <td>0</td>\n",
       "      <td>1</td>\n",
       "      <td>2</td>\n",
       "      <td>29.85</td>\n",
       "      <td>29.85</td>\n",
       "      <td>0</td>\n",
       "    </tr>\n",
       "    <tr>\n",
       "      <th>1</th>\n",
       "      <td>5575-GNVDE</td>\n",
       "      <td>1</td>\n",
       "      <td>0.0</td>\n",
       "      <td>0</td>\n",
       "      <td>0</td>\n",
       "      <td>34</td>\n",
       "      <td>1</td>\n",
       "      <td>0</td>\n",
       "      <td>0</td>\n",
       "      <td>2</td>\n",
       "      <td>0</td>\n",
       "      <td>2</td>\n",
       "      <td>0</td>\n",
       "      <td>0</td>\n",
       "      <td>0</td>\n",
       "      <td>1</td>\n",
       "      <td>0</td>\n",
       "      <td>3</td>\n",
       "      <td>56.95</td>\n",
       "      <td>1889.50</td>\n",
       "      <td>0</td>\n",
       "    </tr>\n",
       "    <tr>\n",
       "      <th>2</th>\n",
       "      <td>3668-QPYBK</td>\n",
       "      <td>1</td>\n",
       "      <td>0.0</td>\n",
       "      <td>0</td>\n",
       "      <td>0</td>\n",
       "      <td>2</td>\n",
       "      <td>1</td>\n",
       "      <td>0</td>\n",
       "      <td>0</td>\n",
       "      <td>2</td>\n",
       "      <td>2</td>\n",
       "      <td>0</td>\n",
       "      <td>0</td>\n",
       "      <td>0</td>\n",
       "      <td>0</td>\n",
       "      <td>0</td>\n",
       "      <td>1</td>\n",
       "      <td>3</td>\n",
       "      <td>53.85</td>\n",
       "      <td>108.15</td>\n",
       "      <td>1</td>\n",
       "    </tr>\n",
       "    <tr>\n",
       "      <th>3</th>\n",
       "      <td>7795-CFOCW</td>\n",
       "      <td>1</td>\n",
       "      <td>0.0</td>\n",
       "      <td>0</td>\n",
       "      <td>0</td>\n",
       "      <td>45</td>\n",
       "      <td>0</td>\n",
       "      <td>1</td>\n",
       "      <td>0</td>\n",
       "      <td>2</td>\n",
       "      <td>0</td>\n",
       "      <td>2</td>\n",
       "      <td>2</td>\n",
       "      <td>0</td>\n",
       "      <td>0</td>\n",
       "      <td>1</td>\n",
       "      <td>0</td>\n",
       "      <td>0</td>\n",
       "      <td>42.30</td>\n",
       "      <td>1840.75</td>\n",
       "      <td>0</td>\n",
       "    </tr>\n",
       "    <tr>\n",
       "      <th>4</th>\n",
       "      <td>9237-HQITU</td>\n",
       "      <td>0</td>\n",
       "      <td>0.0</td>\n",
       "      <td>0</td>\n",
       "      <td>0</td>\n",
       "      <td>2</td>\n",
       "      <td>1</td>\n",
       "      <td>0</td>\n",
       "      <td>1</td>\n",
       "      <td>0</td>\n",
       "      <td>0</td>\n",
       "      <td>0</td>\n",
       "      <td>0</td>\n",
       "      <td>0</td>\n",
       "      <td>0</td>\n",
       "      <td>0</td>\n",
       "      <td>1</td>\n",
       "      <td>2</td>\n",
       "      <td>70.70</td>\n",
       "      <td>151.65</td>\n",
       "      <td>1</td>\n",
       "    </tr>\n",
       "  </tbody>\n",
       "</table>\n",
       "</div>"
      ],
      "text/plain": [
       "   customerID  gender  SeniorCitizen  Partner  Dependents  tenure  \\\n",
       "0  7590-VHVEG       0            0.0        1           0       1   \n",
       "1  5575-GNVDE       1            0.0        0           0      34   \n",
       "2  3668-QPYBK       1            0.0        0           0       2   \n",
       "3  7795-CFOCW       1            0.0        0           0      45   \n",
       "4  9237-HQITU       0            0.0        0           0       2   \n",
       "\n",
       "   PhoneService  MultipleLines  InternetService  OnlineSecurity  OnlineBackup  \\\n",
       "0             0              1                0               0             2   \n",
       "1             1              0                0               2             0   \n",
       "2             1              0                0               2             2   \n",
       "3             0              1                0               2             0   \n",
       "4             1              0                1               0             0   \n",
       "\n",
       "   DeviceProtection  TechSupport  StreamingTV  StreamingMovies  Contract  \\\n",
       "0                 0            0            0                0         0   \n",
       "1                 2            0            0                0         1   \n",
       "2                 0            0            0                0         0   \n",
       "3                 2            2            0                0         1   \n",
       "4                 0            0            0                0         0   \n",
       "\n",
       "   PaperlessBilling  PaymentMethod  MonthlyCharges  TotalCharges  Churn  \n",
       "0                 1              2           29.85         29.85      0  \n",
       "1                 0              3           56.95       1889.50      0  \n",
       "2                 1              3           53.85        108.15      1  \n",
       "3                 0              0           42.30       1840.75      0  \n",
       "4                 1              2           70.70        151.65      1  "
      ]
     },
     "execution_count": 57,
     "metadata": {},
     "output_type": "execute_result"
    }
   ],
   "source": [
    "# Here Converting yes/no to 1/0 values with LabelEncoder:\n",
    "from sklearn.preprocessing import LabelEncoder\n",
    "\n",
    "le = LabelEncoder() \n",
    "list1 = [\"gender\",\"Partner\",\"Dependents\",\"Churn\",\"PhoneService\",\"MultipleLines\",\"InternetService\",\"OnlineSecurity\",\"OnlineBackup\",\"DeviceProtection\",\"TechSupport\",\"StreamingTV\",\"StreamingMovies\",\"PaperlessBilling\",\"Contract\",\"PaymentMethod\",]\n",
    "for val in list1:\n",
    "    df[val] = le.fit_transform(df[val].astype(str))\n",
    "    \n",
    "df.head()"
   ]
  },
  {
   "cell_type": "markdown",
   "id": "4dcf436c",
   "metadata": {},
   "source": [
    "### Correlation:"
   ]
  },
  {
   "cell_type": "code",
   "execution_count": 58,
   "id": "0c901124",
   "metadata": {},
   "outputs": [
    {
     "data": {
      "text/html": [
       "<div>\n",
       "<style scoped>\n",
       "    .dataframe tbody tr th:only-of-type {\n",
       "        vertical-align: middle;\n",
       "    }\n",
       "\n",
       "    .dataframe tbody tr th {\n",
       "        vertical-align: top;\n",
       "    }\n",
       "\n",
       "    .dataframe thead th {\n",
       "        text-align: right;\n",
       "    }\n",
       "</style>\n",
       "<table border=\"1\" class=\"dataframe\">\n",
       "  <thead>\n",
       "    <tr style=\"text-align: right;\">\n",
       "      <th></th>\n",
       "      <th>gender</th>\n",
       "      <th>SeniorCitizen</th>\n",
       "      <th>Partner</th>\n",
       "      <th>Dependents</th>\n",
       "      <th>tenure</th>\n",
       "      <th>PhoneService</th>\n",
       "      <th>MultipleLines</th>\n",
       "      <th>InternetService</th>\n",
       "      <th>OnlineSecurity</th>\n",
       "      <th>OnlineBackup</th>\n",
       "      <th>DeviceProtection</th>\n",
       "      <th>TechSupport</th>\n",
       "      <th>StreamingTV</th>\n",
       "      <th>StreamingMovies</th>\n",
       "      <th>Contract</th>\n",
       "      <th>PaperlessBilling</th>\n",
       "      <th>PaymentMethod</th>\n",
       "      <th>MonthlyCharges</th>\n",
       "      <th>TotalCharges</th>\n",
       "      <th>Churn</th>\n",
       "    </tr>\n",
       "  </thead>\n",
       "  <tbody>\n",
       "    <tr>\n",
       "      <th>gender</th>\n",
       "      <td>1.000000</td>\n",
       "      <td>-0.001874</td>\n",
       "      <td>-0.001808</td>\n",
       "      <td>0.010517</td>\n",
       "      <td>0.005106</td>\n",
       "      <td>-0.006488</td>\n",
       "      <td>-0.006739</td>\n",
       "      <td>-0.000863</td>\n",
       "      <td>-0.015017</td>\n",
       "      <td>-0.012057</td>\n",
       "      <td>0.000549</td>\n",
       "      <td>-0.006825</td>\n",
       "      <td>-0.006421</td>\n",
       "      <td>-0.008743</td>\n",
       "      <td>0.000126</td>\n",
       "      <td>-0.011754</td>\n",
       "      <td>0.017352</td>\n",
       "      <td>-0.014569</td>\n",
       "      <td>-0.000079</td>\n",
       "      <td>-0.008612</td>\n",
       "    </tr>\n",
       "    <tr>\n",
       "      <th>SeniorCitizen</th>\n",
       "      <td>-0.001874</td>\n",
       "      <td>1.000000</td>\n",
       "      <td>0.016479</td>\n",
       "      <td>-0.211185</td>\n",
       "      <td>0.016567</td>\n",
       "      <td>0.008576</td>\n",
       "      <td>0.146185</td>\n",
       "      <td>-0.032310</td>\n",
       "      <td>-0.128221</td>\n",
       "      <td>-0.013632</td>\n",
       "      <td>-0.021398</td>\n",
       "      <td>-0.151268</td>\n",
       "      <td>0.030776</td>\n",
       "      <td>0.047266</td>\n",
       "      <td>-0.142554</td>\n",
       "      <td>0.156530</td>\n",
       "      <td>-0.038551</td>\n",
       "      <td>0.220173</td>\n",
       "      <td>0.103001</td>\n",
       "      <td>0.150889</td>\n",
       "    </tr>\n",
       "    <tr>\n",
       "      <th>Partner</th>\n",
       "      <td>-0.001808</td>\n",
       "      <td>0.016479</td>\n",
       "      <td>1.000000</td>\n",
       "      <td>0.452676</td>\n",
       "      <td>0.379697</td>\n",
       "      <td>0.017706</td>\n",
       "      <td>0.142410</td>\n",
       "      <td>0.000891</td>\n",
       "      <td>0.150828</td>\n",
       "      <td>0.153130</td>\n",
       "      <td>0.166330</td>\n",
       "      <td>0.126733</td>\n",
       "      <td>0.137341</td>\n",
       "      <td>0.129574</td>\n",
       "      <td>0.294806</td>\n",
       "      <td>-0.014877</td>\n",
       "      <td>-0.154798</td>\n",
       "      <td>0.096848</td>\n",
       "      <td>0.317518</td>\n",
       "      <td>-0.150448</td>\n",
       "    </tr>\n",
       "    <tr>\n",
       "      <th>Dependents</th>\n",
       "      <td>0.010517</td>\n",
       "      <td>-0.211185</td>\n",
       "      <td>0.452676</td>\n",
       "      <td>1.000000</td>\n",
       "      <td>0.159712</td>\n",
       "      <td>-0.001762</td>\n",
       "      <td>-0.024991</td>\n",
       "      <td>0.044590</td>\n",
       "      <td>0.152166</td>\n",
       "      <td>0.091015</td>\n",
       "      <td>0.080537</td>\n",
       "      <td>0.133524</td>\n",
       "      <td>0.046885</td>\n",
       "      <td>0.021321</td>\n",
       "      <td>0.243187</td>\n",
       "      <td>-0.111377</td>\n",
       "      <td>-0.040292</td>\n",
       "      <td>-0.113890</td>\n",
       "      <td>0.062100</td>\n",
       "      <td>-0.164221</td>\n",
       "    </tr>\n",
       "    <tr>\n",
       "      <th>tenure</th>\n",
       "      <td>0.005106</td>\n",
       "      <td>0.016567</td>\n",
       "      <td>0.379697</td>\n",
       "      <td>0.159712</td>\n",
       "      <td>1.000000</td>\n",
       "      <td>0.008448</td>\n",
       "      <td>0.343032</td>\n",
       "      <td>-0.030359</td>\n",
       "      <td>0.325468</td>\n",
       "      <td>0.370876</td>\n",
       "      <td>0.371105</td>\n",
       "      <td>0.322942</td>\n",
       "      <td>0.289373</td>\n",
       "      <td>0.296866</td>\n",
       "      <td>0.671607</td>\n",
       "      <td>0.006152</td>\n",
       "      <td>-0.370436</td>\n",
       "      <td>0.247900</td>\n",
       "      <td>0.826172</td>\n",
       "      <td>-0.352229</td>\n",
       "    </tr>\n",
       "    <tr>\n",
       "      <th>PhoneService</th>\n",
       "      <td>-0.006488</td>\n",
       "      <td>0.008576</td>\n",
       "      <td>0.017706</td>\n",
       "      <td>-0.001762</td>\n",
       "      <td>0.008448</td>\n",
       "      <td>1.000000</td>\n",
       "      <td>-0.020538</td>\n",
       "      <td>0.387436</td>\n",
       "      <td>-0.015198</td>\n",
       "      <td>0.024105</td>\n",
       "      <td>0.003727</td>\n",
       "      <td>-0.019158</td>\n",
       "      <td>0.055353</td>\n",
       "      <td>0.043870</td>\n",
       "      <td>0.002247</td>\n",
       "      <td>0.016505</td>\n",
       "      <td>-0.004184</td>\n",
       "      <td>0.247398</td>\n",
       "      <td>0.113211</td>\n",
       "      <td>0.011942</td>\n",
       "    </tr>\n",
       "    <tr>\n",
       "      <th>MultipleLines</th>\n",
       "      <td>-0.006739</td>\n",
       "      <td>0.146185</td>\n",
       "      <td>0.142410</td>\n",
       "      <td>-0.024991</td>\n",
       "      <td>0.343032</td>\n",
       "      <td>-0.020538</td>\n",
       "      <td>1.000000</td>\n",
       "      <td>-0.109216</td>\n",
       "      <td>0.007141</td>\n",
       "      <td>0.117327</td>\n",
       "      <td>0.122318</td>\n",
       "      <td>0.011466</td>\n",
       "      <td>0.175059</td>\n",
       "      <td>0.180957</td>\n",
       "      <td>0.110842</td>\n",
       "      <td>0.165146</td>\n",
       "      <td>-0.176793</td>\n",
       "      <td>0.433576</td>\n",
       "      <td>0.452583</td>\n",
       "      <td>0.038037</td>\n",
       "    </tr>\n",
       "    <tr>\n",
       "      <th>InternetService</th>\n",
       "      <td>-0.000863</td>\n",
       "      <td>-0.032310</td>\n",
       "      <td>0.000891</td>\n",
       "      <td>0.044590</td>\n",
       "      <td>-0.030359</td>\n",
       "      <td>0.387436</td>\n",
       "      <td>-0.109216</td>\n",
       "      <td>1.000000</td>\n",
       "      <td>-0.028416</td>\n",
       "      <td>0.036138</td>\n",
       "      <td>0.044944</td>\n",
       "      <td>-0.026047</td>\n",
       "      <td>0.107417</td>\n",
       "      <td>0.098350</td>\n",
       "      <td>0.099721</td>\n",
       "      <td>-0.138625</td>\n",
       "      <td>0.086140</td>\n",
       "      <td>-0.323260</td>\n",
       "      <td>-0.175753</td>\n",
       "      <td>-0.047291</td>\n",
       "    </tr>\n",
       "    <tr>\n",
       "      <th>OnlineSecurity</th>\n",
       "      <td>-0.015017</td>\n",
       "      <td>-0.128221</td>\n",
       "      <td>0.150828</td>\n",
       "      <td>0.152166</td>\n",
       "      <td>0.325468</td>\n",
       "      <td>-0.015198</td>\n",
       "      <td>0.007141</td>\n",
       "      <td>-0.028416</td>\n",
       "      <td>1.000000</td>\n",
       "      <td>0.185126</td>\n",
       "      <td>0.175985</td>\n",
       "      <td>0.285028</td>\n",
       "      <td>0.044669</td>\n",
       "      <td>0.055954</td>\n",
       "      <td>0.374416</td>\n",
       "      <td>-0.157641</td>\n",
       "      <td>-0.096726</td>\n",
       "      <td>-0.053878</td>\n",
       "      <td>0.253235</td>\n",
       "      <td>-0.289309</td>\n",
       "    </tr>\n",
       "    <tr>\n",
       "      <th>OnlineBackup</th>\n",
       "      <td>-0.012057</td>\n",
       "      <td>-0.013632</td>\n",
       "      <td>0.153130</td>\n",
       "      <td>0.091015</td>\n",
       "      <td>0.370876</td>\n",
       "      <td>0.024105</td>\n",
       "      <td>0.117327</td>\n",
       "      <td>0.036138</td>\n",
       "      <td>0.185126</td>\n",
       "      <td>1.000000</td>\n",
       "      <td>0.187757</td>\n",
       "      <td>0.195748</td>\n",
       "      <td>0.147186</td>\n",
       "      <td>0.136722</td>\n",
       "      <td>0.280980</td>\n",
       "      <td>-0.013370</td>\n",
       "      <td>-0.124847</td>\n",
       "      <td>0.119777</td>\n",
       "      <td>0.374421</td>\n",
       "      <td>-0.195525</td>\n",
       "    </tr>\n",
       "    <tr>\n",
       "      <th>DeviceProtection</th>\n",
       "      <td>0.000549</td>\n",
       "      <td>-0.021398</td>\n",
       "      <td>0.166330</td>\n",
       "      <td>0.080537</td>\n",
       "      <td>0.371105</td>\n",
       "      <td>0.003727</td>\n",
       "      <td>0.122318</td>\n",
       "      <td>0.044944</td>\n",
       "      <td>0.175985</td>\n",
       "      <td>0.187757</td>\n",
       "      <td>1.000000</td>\n",
       "      <td>0.240593</td>\n",
       "      <td>0.276652</td>\n",
       "      <td>0.288799</td>\n",
       "      <td>0.350277</td>\n",
       "      <td>-0.038234</td>\n",
       "      <td>-0.135750</td>\n",
       "      <td>0.163652</td>\n",
       "      <td>0.387908</td>\n",
       "      <td>-0.178134</td>\n",
       "    </tr>\n",
       "    <tr>\n",
       "      <th>TechSupport</th>\n",
       "      <td>-0.006825</td>\n",
       "      <td>-0.151268</td>\n",
       "      <td>0.126733</td>\n",
       "      <td>0.133524</td>\n",
       "      <td>0.322942</td>\n",
       "      <td>-0.019158</td>\n",
       "      <td>0.011466</td>\n",
       "      <td>-0.026047</td>\n",
       "      <td>0.285028</td>\n",
       "      <td>0.195748</td>\n",
       "      <td>0.240593</td>\n",
       "      <td>1.000000</td>\n",
       "      <td>0.161305</td>\n",
       "      <td>0.161316</td>\n",
       "      <td>0.425367</td>\n",
       "      <td>-0.113600</td>\n",
       "      <td>-0.104670</td>\n",
       "      <td>-0.008682</td>\n",
       "      <td>0.275637</td>\n",
       "      <td>-0.282492</td>\n",
       "    </tr>\n",
       "    <tr>\n",
       "      <th>StreamingTV</th>\n",
       "      <td>-0.006421</td>\n",
       "      <td>0.030776</td>\n",
       "      <td>0.137341</td>\n",
       "      <td>0.046885</td>\n",
       "      <td>0.289373</td>\n",
       "      <td>0.055353</td>\n",
       "      <td>0.175059</td>\n",
       "      <td>0.107417</td>\n",
       "      <td>0.044669</td>\n",
       "      <td>0.147186</td>\n",
       "      <td>0.276652</td>\n",
       "      <td>0.161305</td>\n",
       "      <td>1.000000</td>\n",
       "      <td>0.434772</td>\n",
       "      <td>0.227116</td>\n",
       "      <td>0.096642</td>\n",
       "      <td>-0.104234</td>\n",
       "      <td>0.336706</td>\n",
       "      <td>0.391480</td>\n",
       "      <td>-0.036581</td>\n",
       "    </tr>\n",
       "    <tr>\n",
       "      <th>StreamingMovies</th>\n",
       "      <td>-0.008743</td>\n",
       "      <td>0.047266</td>\n",
       "      <td>0.129574</td>\n",
       "      <td>0.021321</td>\n",
       "      <td>0.296866</td>\n",
       "      <td>0.043870</td>\n",
       "      <td>0.180957</td>\n",
       "      <td>0.098350</td>\n",
       "      <td>0.055954</td>\n",
       "      <td>0.136722</td>\n",
       "      <td>0.288799</td>\n",
       "      <td>0.161316</td>\n",
       "      <td>0.434772</td>\n",
       "      <td>1.000000</td>\n",
       "      <td>0.231226</td>\n",
       "      <td>0.083700</td>\n",
       "      <td>-0.111241</td>\n",
       "      <td>0.335459</td>\n",
       "      <td>0.398067</td>\n",
       "      <td>-0.038492</td>\n",
       "    </tr>\n",
       "    <tr>\n",
       "      <th>Contract</th>\n",
       "      <td>0.000126</td>\n",
       "      <td>-0.142554</td>\n",
       "      <td>0.294806</td>\n",
       "      <td>0.243187</td>\n",
       "      <td>0.671607</td>\n",
       "      <td>0.002247</td>\n",
       "      <td>0.110842</td>\n",
       "      <td>0.099721</td>\n",
       "      <td>0.374416</td>\n",
       "      <td>0.280980</td>\n",
       "      <td>0.350277</td>\n",
       "      <td>0.425367</td>\n",
       "      <td>0.227116</td>\n",
       "      <td>0.231226</td>\n",
       "      <td>1.000000</td>\n",
       "      <td>-0.176733</td>\n",
       "      <td>-0.227543</td>\n",
       "      <td>-0.074195</td>\n",
       "      <td>0.446882</td>\n",
       "      <td>-0.396713</td>\n",
       "    </tr>\n",
       "    <tr>\n",
       "      <th>PaperlessBilling</th>\n",
       "      <td>-0.011754</td>\n",
       "      <td>0.156530</td>\n",
       "      <td>-0.014877</td>\n",
       "      <td>-0.111377</td>\n",
       "      <td>0.006152</td>\n",
       "      <td>0.016505</td>\n",
       "      <td>0.165146</td>\n",
       "      <td>-0.138625</td>\n",
       "      <td>-0.157641</td>\n",
       "      <td>-0.013370</td>\n",
       "      <td>-0.038234</td>\n",
       "      <td>-0.113600</td>\n",
       "      <td>0.096642</td>\n",
       "      <td>0.083700</td>\n",
       "      <td>-0.176733</td>\n",
       "      <td>1.000000</td>\n",
       "      <td>-0.062904</td>\n",
       "      <td>0.352150</td>\n",
       "      <td>0.158568</td>\n",
       "      <td>0.191825</td>\n",
       "    </tr>\n",
       "    <tr>\n",
       "      <th>PaymentMethod</th>\n",
       "      <td>0.017352</td>\n",
       "      <td>-0.038551</td>\n",
       "      <td>-0.154798</td>\n",
       "      <td>-0.040292</td>\n",
       "      <td>-0.370436</td>\n",
       "      <td>-0.004184</td>\n",
       "      <td>-0.176793</td>\n",
       "      <td>0.086140</td>\n",
       "      <td>-0.096726</td>\n",
       "      <td>-0.124847</td>\n",
       "      <td>-0.135750</td>\n",
       "      <td>-0.104670</td>\n",
       "      <td>-0.104234</td>\n",
       "      <td>-0.111241</td>\n",
       "      <td>-0.227543</td>\n",
       "      <td>-0.062904</td>\n",
       "      <td>1.000000</td>\n",
       "      <td>-0.193407</td>\n",
       "      <td>-0.330914</td>\n",
       "      <td>0.107062</td>\n",
       "    </tr>\n",
       "    <tr>\n",
       "      <th>MonthlyCharges</th>\n",
       "      <td>-0.014569</td>\n",
       "      <td>0.220173</td>\n",
       "      <td>0.096848</td>\n",
       "      <td>-0.113890</td>\n",
       "      <td>0.247900</td>\n",
       "      <td>0.247398</td>\n",
       "      <td>0.433576</td>\n",
       "      <td>-0.323260</td>\n",
       "      <td>-0.053878</td>\n",
       "      <td>0.119777</td>\n",
       "      <td>0.163652</td>\n",
       "      <td>-0.008682</td>\n",
       "      <td>0.336706</td>\n",
       "      <td>0.335459</td>\n",
       "      <td>-0.074195</td>\n",
       "      <td>0.352150</td>\n",
       "      <td>-0.193407</td>\n",
       "      <td>1.000000</td>\n",
       "      <td>0.651172</td>\n",
       "      <td>0.193356</td>\n",
       "    </tr>\n",
       "    <tr>\n",
       "      <th>TotalCharges</th>\n",
       "      <td>-0.000079</td>\n",
       "      <td>0.103001</td>\n",
       "      <td>0.317518</td>\n",
       "      <td>0.062100</td>\n",
       "      <td>0.826172</td>\n",
       "      <td>0.113211</td>\n",
       "      <td>0.452583</td>\n",
       "      <td>-0.175753</td>\n",
       "      <td>0.253235</td>\n",
       "      <td>0.374421</td>\n",
       "      <td>0.387908</td>\n",
       "      <td>0.275637</td>\n",
       "      <td>0.391480</td>\n",
       "      <td>0.398067</td>\n",
       "      <td>0.446882</td>\n",
       "      <td>0.158568</td>\n",
       "      <td>-0.330914</td>\n",
       "      <td>0.651172</td>\n",
       "      <td>1.000000</td>\n",
       "      <td>-0.198335</td>\n",
       "    </tr>\n",
       "    <tr>\n",
       "      <th>Churn</th>\n",
       "      <td>-0.008612</td>\n",
       "      <td>0.150889</td>\n",
       "      <td>-0.150448</td>\n",
       "      <td>-0.164221</td>\n",
       "      <td>-0.352229</td>\n",
       "      <td>0.011942</td>\n",
       "      <td>0.038037</td>\n",
       "      <td>-0.047291</td>\n",
       "      <td>-0.289309</td>\n",
       "      <td>-0.195525</td>\n",
       "      <td>-0.178134</td>\n",
       "      <td>-0.282492</td>\n",
       "      <td>-0.036581</td>\n",
       "      <td>-0.038492</td>\n",
       "      <td>-0.396713</td>\n",
       "      <td>0.191825</td>\n",
       "      <td>0.107062</td>\n",
       "      <td>0.193356</td>\n",
       "      <td>-0.198335</td>\n",
       "      <td>1.000000</td>\n",
       "    </tr>\n",
       "  </tbody>\n",
       "</table>\n",
       "</div>"
      ],
      "text/plain": [
       "                    gender  SeniorCitizen   Partner  Dependents    tenure  \\\n",
       "gender            1.000000      -0.001874 -0.001808    0.010517  0.005106   \n",
       "SeniorCitizen    -0.001874       1.000000  0.016479   -0.211185  0.016567   \n",
       "Partner          -0.001808       0.016479  1.000000    0.452676  0.379697   \n",
       "Dependents        0.010517      -0.211185  0.452676    1.000000  0.159712   \n",
       "tenure            0.005106       0.016567  0.379697    0.159712  1.000000   \n",
       "PhoneService     -0.006488       0.008576  0.017706   -0.001762  0.008448   \n",
       "MultipleLines    -0.006739       0.146185  0.142410   -0.024991  0.343032   \n",
       "InternetService  -0.000863      -0.032310  0.000891    0.044590 -0.030359   \n",
       "OnlineSecurity   -0.015017      -0.128221  0.150828    0.152166  0.325468   \n",
       "OnlineBackup     -0.012057      -0.013632  0.153130    0.091015  0.370876   \n",
       "DeviceProtection  0.000549      -0.021398  0.166330    0.080537  0.371105   \n",
       "TechSupport      -0.006825      -0.151268  0.126733    0.133524  0.322942   \n",
       "StreamingTV      -0.006421       0.030776  0.137341    0.046885  0.289373   \n",
       "StreamingMovies  -0.008743       0.047266  0.129574    0.021321  0.296866   \n",
       "Contract          0.000126      -0.142554  0.294806    0.243187  0.671607   \n",
       "PaperlessBilling -0.011754       0.156530 -0.014877   -0.111377  0.006152   \n",
       "PaymentMethod     0.017352      -0.038551 -0.154798   -0.040292 -0.370436   \n",
       "MonthlyCharges   -0.014569       0.220173  0.096848   -0.113890  0.247900   \n",
       "TotalCharges     -0.000079       0.103001  0.317518    0.062100  0.826172   \n",
       "Churn            -0.008612       0.150889 -0.150448   -0.164221 -0.352229   \n",
       "\n",
       "                  PhoneService  MultipleLines  InternetService  \\\n",
       "gender               -0.006488      -0.006739        -0.000863   \n",
       "SeniorCitizen         0.008576       0.146185        -0.032310   \n",
       "Partner               0.017706       0.142410         0.000891   \n",
       "Dependents           -0.001762      -0.024991         0.044590   \n",
       "tenure                0.008448       0.343032        -0.030359   \n",
       "PhoneService          1.000000      -0.020538         0.387436   \n",
       "MultipleLines        -0.020538       1.000000        -0.109216   \n",
       "InternetService       0.387436      -0.109216         1.000000   \n",
       "OnlineSecurity       -0.015198       0.007141        -0.028416   \n",
       "OnlineBackup          0.024105       0.117327         0.036138   \n",
       "DeviceProtection      0.003727       0.122318         0.044944   \n",
       "TechSupport          -0.019158       0.011466        -0.026047   \n",
       "StreamingTV           0.055353       0.175059         0.107417   \n",
       "StreamingMovies       0.043870       0.180957         0.098350   \n",
       "Contract              0.002247       0.110842         0.099721   \n",
       "PaperlessBilling      0.016505       0.165146        -0.138625   \n",
       "PaymentMethod        -0.004184      -0.176793         0.086140   \n",
       "MonthlyCharges        0.247398       0.433576        -0.323260   \n",
       "TotalCharges          0.113211       0.452583        -0.175753   \n",
       "Churn                 0.011942       0.038037        -0.047291   \n",
       "\n",
       "                  OnlineSecurity  OnlineBackup  DeviceProtection  TechSupport  \\\n",
       "gender                 -0.015017     -0.012057          0.000549    -0.006825   \n",
       "SeniorCitizen          -0.128221     -0.013632         -0.021398    -0.151268   \n",
       "Partner                 0.150828      0.153130          0.166330     0.126733   \n",
       "Dependents              0.152166      0.091015          0.080537     0.133524   \n",
       "tenure                  0.325468      0.370876          0.371105     0.322942   \n",
       "PhoneService           -0.015198      0.024105          0.003727    -0.019158   \n",
       "MultipleLines           0.007141      0.117327          0.122318     0.011466   \n",
       "InternetService        -0.028416      0.036138          0.044944    -0.026047   \n",
       "OnlineSecurity          1.000000      0.185126          0.175985     0.285028   \n",
       "OnlineBackup            0.185126      1.000000          0.187757     0.195748   \n",
       "DeviceProtection        0.175985      0.187757          1.000000     0.240593   \n",
       "TechSupport             0.285028      0.195748          0.240593     1.000000   \n",
       "StreamingTV             0.044669      0.147186          0.276652     0.161305   \n",
       "StreamingMovies         0.055954      0.136722          0.288799     0.161316   \n",
       "Contract                0.374416      0.280980          0.350277     0.425367   \n",
       "PaperlessBilling       -0.157641     -0.013370         -0.038234    -0.113600   \n",
       "PaymentMethod          -0.096726     -0.124847         -0.135750    -0.104670   \n",
       "MonthlyCharges         -0.053878      0.119777          0.163652    -0.008682   \n",
       "TotalCharges            0.253235      0.374421          0.387908     0.275637   \n",
       "Churn                  -0.289309     -0.195525         -0.178134    -0.282492   \n",
       "\n",
       "                  StreamingTV  StreamingMovies  Contract  PaperlessBilling  \\\n",
       "gender              -0.006421        -0.008743  0.000126         -0.011754   \n",
       "SeniorCitizen        0.030776         0.047266 -0.142554          0.156530   \n",
       "Partner              0.137341         0.129574  0.294806         -0.014877   \n",
       "Dependents           0.046885         0.021321  0.243187         -0.111377   \n",
       "tenure               0.289373         0.296866  0.671607          0.006152   \n",
       "PhoneService         0.055353         0.043870  0.002247          0.016505   \n",
       "MultipleLines        0.175059         0.180957  0.110842          0.165146   \n",
       "InternetService      0.107417         0.098350  0.099721         -0.138625   \n",
       "OnlineSecurity       0.044669         0.055954  0.374416         -0.157641   \n",
       "OnlineBackup         0.147186         0.136722  0.280980         -0.013370   \n",
       "DeviceProtection     0.276652         0.288799  0.350277         -0.038234   \n",
       "TechSupport          0.161305         0.161316  0.425367         -0.113600   \n",
       "StreamingTV          1.000000         0.434772  0.227116          0.096642   \n",
       "StreamingMovies      0.434772         1.000000  0.231226          0.083700   \n",
       "Contract             0.227116         0.231226  1.000000         -0.176733   \n",
       "PaperlessBilling     0.096642         0.083700 -0.176733          1.000000   \n",
       "PaymentMethod       -0.104234        -0.111241 -0.227543         -0.062904   \n",
       "MonthlyCharges       0.336706         0.335459 -0.074195          0.352150   \n",
       "TotalCharges         0.391480         0.398067  0.446882          0.158568   \n",
       "Churn               -0.036581        -0.038492 -0.396713          0.191825   \n",
       "\n",
       "                  PaymentMethod  MonthlyCharges  TotalCharges     Churn  \n",
       "gender                 0.017352       -0.014569     -0.000079 -0.008612  \n",
       "SeniorCitizen         -0.038551        0.220173      0.103001  0.150889  \n",
       "Partner               -0.154798        0.096848      0.317518 -0.150448  \n",
       "Dependents            -0.040292       -0.113890      0.062100 -0.164221  \n",
       "tenure                -0.370436        0.247900      0.826172 -0.352229  \n",
       "PhoneService          -0.004184        0.247398      0.113211  0.011942  \n",
       "MultipleLines         -0.176793        0.433576      0.452583  0.038037  \n",
       "InternetService        0.086140       -0.323260     -0.175753 -0.047291  \n",
       "OnlineSecurity        -0.096726       -0.053878      0.253235 -0.289309  \n",
       "OnlineBackup          -0.124847        0.119777      0.374421 -0.195525  \n",
       "DeviceProtection      -0.135750        0.163652      0.387908 -0.178134  \n",
       "TechSupport           -0.104670       -0.008682      0.275637 -0.282492  \n",
       "StreamingTV           -0.104234        0.336706      0.391480 -0.036581  \n",
       "StreamingMovies       -0.111241        0.335459      0.398067 -0.038492  \n",
       "Contract              -0.227543       -0.074195      0.446882 -0.396713  \n",
       "PaperlessBilling      -0.062904        0.352150      0.158568  0.191825  \n",
       "PaymentMethod          1.000000       -0.193407     -0.330914  0.107062  \n",
       "MonthlyCharges        -0.193407        1.000000      0.651172  0.193356  \n",
       "TotalCharges          -0.330914        0.651172      1.000000 -0.198335  \n",
       "Churn                  0.107062        0.193356     -0.198335  1.000000  "
      ]
     },
     "execution_count": 58,
     "metadata": {},
     "output_type": "execute_result"
    }
   ],
   "source": [
    "# Correlation of data:\n",
    "corr = df.corr(method='pearson')\n",
    "corr"
   ]
  },
  {
   "cell_type": "code",
   "execution_count": 71,
   "id": "86b48a14",
   "metadata": {},
   "outputs": [
    {
     "data": {
      "image/png": "[encoded data removed]",
      "text/plain": [
       "<Figure size 1080x720 with 2 Axes>"
      ]
     },
     "metadata": {
      "needs_background": "light"
     },
     "output_type": "display_data"
    }
   ],
   "source": [
    "# Display heatmap:\n",
    "plt.figure(figsize = (15,10))\n",
    "sns.heatmap(df.corr(), annot = True, cmap = \"Blues\", fmt='.1f')\n",
    "plt.show()"
   ]
  },
  {
   "cell_type": "markdown",
   "id": "c3e07590",
   "metadata": {},
   "source": [
    "#### Observation :- here partner and dependent has correlate with each other. Tenure and Contract highly neg. correlate with churn"
   ]
  },
  {
   "cell_type": "markdown",
   "id": "0d6f99c6",
   "metadata": {},
   "source": [
    "# MultiCollinearity with Variance Inflation Factor (VIF)"
   ]
  },
  {
   "cell_type": "code",
   "execution_count": 60,
   "id": "d3c095b1",
   "metadata": {},
   "outputs": [],
   "source": [
    "from statsmodels.stats.outliers_influence import variance_inflation_factor"
   ]
  },
  {
   "cell_type": "code",
   "execution_count": 61,
   "id": "ddcbcfd4",
   "metadata": {},
   "outputs": [],
   "source": [
    "X = df.drop(columns=['customerID','Churn'],axis=1)\n",
    "Y = df[['customerID','Churn']]"
   ]
  },
  {
   "cell_type": "code",
   "execution_count": 62,
   "id": "c58622f0",
   "metadata": {},
   "outputs": [],
   "source": [
    "def calc_vif():\n",
    "    vif = pd.DataFrame()\n",
    "    vif['Features'] = X.columns\n",
    "    vif['VIF Factor'] = [variance_inflation_factor(X.values,i) for i in range(X.shape[1])]\n",
    "    print(vif)"
   ]
  },
  {
   "cell_type": "code",
   "execution_count": 63,
   "id": "d342194f",
   "metadata": {},
   "outputs": [
    {
     "name": "stdout",
     "output_type": "stream",
     "text": [
      "            Features  VIF Factor\n",
      "0             gender    1.954598\n",
      "1      SeniorCitizen    1.369687\n",
      "2            Partner    2.821595\n",
      "3         Dependents    1.964242\n",
      "4             tenure   14.907419\n",
      "5       PhoneService   15.138384\n",
      "6      MultipleLines    2.752987\n",
      "7    InternetService    4.352776\n",
      "8     OnlineSecurity    2.249503\n",
      "9       OnlineBackup    2.456184\n",
      "10  DeviceProtection    2.632381\n",
      "11       TechSupport    2.383056\n",
      "12       StreamingTV    3.240303\n",
      "13   StreamingMovies    3.262477\n",
      "14          Contract    4.164029\n",
      "15  PaperlessBilling    2.872168\n",
      "16     PaymentMethod    3.097840\n",
      "17    MonthlyCharges   20.455681\n",
      "18      TotalCharges   13.822160\n"
     ]
    }
   ],
   "source": [
    "calc_vif()"
   ]
  },
  {
   "cell_type": "code",
   "execution_count": 77,
   "id": "b9fb5da0",
   "metadata": {},
   "outputs": [
    {
     "data": {
      "text/html": [
       "<div>\n",
       "<style scoped>\n",
       "    .dataframe tbody tr th:only-of-type {\n",
       "        vertical-align: middle;\n",
       "    }\n",
       "\n",
       "    .dataframe tbody tr th {\n",
       "        vertical-align: top;\n",
       "    }\n",
       "\n",
       "    .dataframe thead th {\n",
       "        text-align: right;\n",
       "    }\n",
       "</style>\n",
       "<table border=\"1\" class=\"dataframe\">\n",
       "  <thead>\n",
       "    <tr style=\"text-align: right;\">\n",
       "      <th></th>\n",
       "      <th>customerID</th>\n",
       "      <th>gender</th>\n",
       "      <th>SeniorCitizen</th>\n",
       "      <th>Partner</th>\n",
       "      <th>Dependents</th>\n",
       "      <th>tenure</th>\n",
       "      <th>PhoneService</th>\n",
       "      <th>MultipleLines</th>\n",
       "      <th>InternetService</th>\n",
       "      <th>OnlineSecurity</th>\n",
       "      <th>OnlineBackup</th>\n",
       "      <th>DeviceProtection</th>\n",
       "      <th>TechSupport</th>\n",
       "      <th>StreamingTV</th>\n",
       "      <th>StreamingMovies</th>\n",
       "      <th>Contract</th>\n",
       "      <th>PaperlessBilling</th>\n",
       "      <th>PaymentMethod</th>\n",
       "      <th>MonthlyCharges</th>\n",
       "      <th>TotalCharges</th>\n",
       "      <th>Churn</th>\n",
       "    </tr>\n",
       "  </thead>\n",
       "  <tbody>\n",
       "    <tr>\n",
       "      <th>0</th>\n",
       "      <td>7590-VHVEG</td>\n",
       "      <td>0</td>\n",
       "      <td>0.0</td>\n",
       "      <td>1</td>\n",
       "      <td>0</td>\n",
       "      <td>1</td>\n",
       "      <td>0</td>\n",
       "      <td>1</td>\n",
       "      <td>0</td>\n",
       "      <td>0</td>\n",
       "      <td>2</td>\n",
       "      <td>0</td>\n",
       "      <td>0</td>\n",
       "      <td>0</td>\n",
       "      <td>0</td>\n",
       "      <td>0</td>\n",
       "      <td>1</td>\n",
       "      <td>2</td>\n",
       "      <td>29.85</td>\n",
       "      <td>29.85</td>\n",
       "      <td>0</td>\n",
       "    </tr>\n",
       "    <tr>\n",
       "      <th>1</th>\n",
       "      <td>5575-GNVDE</td>\n",
       "      <td>1</td>\n",
       "      <td>0.0</td>\n",
       "      <td>0</td>\n",
       "      <td>0</td>\n",
       "      <td>34</td>\n",
       "      <td>1</td>\n",
       "      <td>0</td>\n",
       "      <td>0</td>\n",
       "      <td>2</td>\n",
       "      <td>0</td>\n",
       "      <td>2</td>\n",
       "      <td>0</td>\n",
       "      <td>0</td>\n",
       "      <td>0</td>\n",
       "      <td>1</td>\n",
       "      <td>0</td>\n",
       "      <td>3</td>\n",
       "      <td>56.95</td>\n",
       "      <td>1889.50</td>\n",
       "      <td>0</td>\n",
       "    </tr>\n",
       "    <tr>\n",
       "      <th>2</th>\n",
       "      <td>3668-QPYBK</td>\n",
       "      <td>1</td>\n",
       "      <td>0.0</td>\n",
       "      <td>0</td>\n",
       "      <td>0</td>\n",
       "      <td>2</td>\n",
       "      <td>1</td>\n",
       "      <td>0</td>\n",
       "      <td>0</td>\n",
       "      <td>2</td>\n",
       "      <td>2</td>\n",
       "      <td>0</td>\n",
       "      <td>0</td>\n",
       "      <td>0</td>\n",
       "      <td>0</td>\n",
       "      <td>0</td>\n",
       "      <td>1</td>\n",
       "      <td>3</td>\n",
       "      <td>53.85</td>\n",
       "      <td>108.15</td>\n",
       "      <td>1</td>\n",
       "    </tr>\n",
       "    <tr>\n",
       "      <th>3</th>\n",
       "      <td>7795-CFOCW</td>\n",
       "      <td>1</td>\n",
       "      <td>0.0</td>\n",
       "      <td>0</td>\n",
       "      <td>0</td>\n",
       "      <td>45</td>\n",
       "      <td>0</td>\n",
       "      <td>1</td>\n",
       "      <td>0</td>\n",
       "      <td>2</td>\n",
       "      <td>0</td>\n",
       "      <td>2</td>\n",
       "      <td>2</td>\n",
       "      <td>0</td>\n",
       "      <td>0</td>\n",
       "      <td>1</td>\n",
       "      <td>0</td>\n",
       "      <td>0</td>\n",
       "      <td>42.30</td>\n",
       "      <td>1840.75</td>\n",
       "      <td>0</td>\n",
       "    </tr>\n",
       "    <tr>\n",
       "      <th>4</th>\n",
       "      <td>9237-HQITU</td>\n",
       "      <td>0</td>\n",
       "      <td>0.0</td>\n",
       "      <td>0</td>\n",
       "      <td>0</td>\n",
       "      <td>2</td>\n",
       "      <td>1</td>\n",
       "      <td>0</td>\n",
       "      <td>1</td>\n",
       "      <td>0</td>\n",
       "      <td>0</td>\n",
       "      <td>0</td>\n",
       "      <td>0</td>\n",
       "      <td>0</td>\n",
       "      <td>0</td>\n",
       "      <td>0</td>\n",
       "      <td>1</td>\n",
       "      <td>2</td>\n",
       "      <td>70.70</td>\n",
       "      <td>151.65</td>\n",
       "      <td>1</td>\n",
       "    </tr>\n",
       "  </tbody>\n",
       "</table>\n",
       "</div>"
      ],
      "text/plain": [
       "   customerID  gender  SeniorCitizen  Partner  Dependents  tenure  \\\n",
       "0  7590-VHVEG       0            0.0        1           0       1   \n",
       "1  5575-GNVDE       1            0.0        0           0      34   \n",
       "2  3668-QPYBK       1            0.0        0           0       2   \n",
       "3  7795-CFOCW       1            0.0        0           0      45   \n",
       "4  9237-HQITU       0            0.0        0           0       2   \n",
       "\n",
       "   PhoneService  MultipleLines  InternetService  OnlineSecurity  OnlineBackup  \\\n",
       "0             0              1                0               0             2   \n",
       "1             1              0                0               2             0   \n",
       "2             1              0                0               2             2   \n",
       "3             0              1                0               2             0   \n",
       "4             1              0                1               0             0   \n",
       "\n",
       "   DeviceProtection  TechSupport  StreamingTV  StreamingMovies  Contract  \\\n",
       "0                 0            0            0                0         0   \n",
       "1                 2            0            0                0         1   \n",
       "2                 0            0            0                0         0   \n",
       "3                 2            2            0                0         1   \n",
       "4                 0            0            0                0         0   \n",
       "\n",
       "   PaperlessBilling  PaymentMethod  MonthlyCharges  TotalCharges  Churn  \n",
       "0                 1              2           29.85         29.85      0  \n",
       "1                 0              3           56.95       1889.50      0  \n",
       "2                 1              3           53.85        108.15      1  \n",
       "3                 0              0           42.30       1840.75      0  \n",
       "4                 1              2           70.70        151.65      1  "
      ]
     },
     "execution_count": 77,
     "metadata": {},
     "output_type": "execute_result"
    }
   ],
   "source": [
    "df.head()"
   ]
  },
  {
   "cell_type": "markdown",
   "id": "66dd5afe",
   "metadata": {},
   "source": [
    "# Data Preprocessing"
   ]
  },
  {
   "cell_type": "code",
   "execution_count": 82,
   "id": "d52fb3ba",
   "metadata": {},
   "outputs": [],
   "source": [
    "x = df.drop(columns=['customerID','Churn'],axis=1)\n",
    "y = df['Churn']"
   ]
  },
  {
   "cell_type": "code",
   "execution_count": 83,
   "id": "12448423",
   "metadata": {},
   "outputs": [
    {
     "data": {
      "text/html": [
       "<div>\n",
       "<style scoped>\n",
       "    .dataframe tbody tr th:only-of-type {\n",
       "        vertical-align: middle;\n",
       "    }\n",
       "\n",
       "    .dataframe tbody tr th {\n",
       "        vertical-align: top;\n",
       "    }\n",
       "\n",
       "    .dataframe thead th {\n",
       "        text-align: right;\n",
       "    }\n",
       "</style>\n",
       "<table border=\"1\" class=\"dataframe\">\n",
       "  <thead>\n",
       "    <tr style=\"text-align: right;\">\n",
       "      <th></th>\n",
       "      <th>gender</th>\n",
       "      <th>SeniorCitizen</th>\n",
       "      <th>Partner</th>\n",
       "      <th>Dependents</th>\n",
       "      <th>tenure</th>\n",
       "      <th>PhoneService</th>\n",
       "      <th>MultipleLines</th>\n",
       "      <th>InternetService</th>\n",
       "      <th>OnlineSecurity</th>\n",
       "      <th>OnlineBackup</th>\n",
       "      <th>DeviceProtection</th>\n",
       "      <th>TechSupport</th>\n",
       "      <th>StreamingTV</th>\n",
       "      <th>StreamingMovies</th>\n",
       "      <th>Contract</th>\n",
       "      <th>PaperlessBilling</th>\n",
       "      <th>PaymentMethod</th>\n",
       "      <th>MonthlyCharges</th>\n",
       "      <th>TotalCharges</th>\n",
       "    </tr>\n",
       "  </thead>\n",
       "  <tbody>\n",
       "    <tr>\n",
       "      <th>0</th>\n",
       "      <td>0</td>\n",
       "      <td>0.0</td>\n",
       "      <td>1</td>\n",
       "      <td>0</td>\n",
       "      <td>1</td>\n",
       "      <td>0</td>\n",
       "      <td>1</td>\n",
       "      <td>0</td>\n",
       "      <td>0</td>\n",
       "      <td>2</td>\n",
       "      <td>0</td>\n",
       "      <td>0</td>\n",
       "      <td>0</td>\n",
       "      <td>0</td>\n",
       "      <td>0</td>\n",
       "      <td>1</td>\n",
       "      <td>2</td>\n",
       "      <td>29.85</td>\n",
       "      <td>29.85</td>\n",
       "    </tr>\n",
       "    <tr>\n",
       "      <th>1</th>\n",
       "      <td>1</td>\n",
       "      <td>0.0</td>\n",
       "      <td>0</td>\n",
       "      <td>0</td>\n",
       "      <td>34</td>\n",
       "      <td>1</td>\n",
       "      <td>0</td>\n",
       "      <td>0</td>\n",
       "      <td>2</td>\n",
       "      <td>0</td>\n",
       "      <td>2</td>\n",
       "      <td>0</td>\n",
       "      <td>0</td>\n",
       "      <td>0</td>\n",
       "      <td>1</td>\n",
       "      <td>0</td>\n",
       "      <td>3</td>\n",
       "      <td>56.95</td>\n",
       "      <td>1889.50</td>\n",
       "    </tr>\n",
       "    <tr>\n",
       "      <th>2</th>\n",
       "      <td>1</td>\n",
       "      <td>0.0</td>\n",
       "      <td>0</td>\n",
       "      <td>0</td>\n",
       "      <td>2</td>\n",
       "      <td>1</td>\n",
       "      <td>0</td>\n",
       "      <td>0</td>\n",
       "      <td>2</td>\n",
       "      <td>2</td>\n",
       "      <td>0</td>\n",
       "      <td>0</td>\n",
       "      <td>0</td>\n",
       "      <td>0</td>\n",
       "      <td>0</td>\n",
       "      <td>1</td>\n",
       "      <td>3</td>\n",
       "      <td>53.85</td>\n",
       "      <td>108.15</td>\n",
       "    </tr>\n",
       "    <tr>\n",
       "      <th>3</th>\n",
       "      <td>1</td>\n",
       "      <td>0.0</td>\n",
       "      <td>0</td>\n",
       "      <td>0</td>\n",
       "      <td>45</td>\n",
       "      <td>0</td>\n",
       "      <td>1</td>\n",
       "      <td>0</td>\n",
       "      <td>2</td>\n",
       "      <td>0</td>\n",
       "      <td>2</td>\n",
       "      <td>2</td>\n",
       "      <td>0</td>\n",
       "      <td>0</td>\n",
       "      <td>1</td>\n",
       "      <td>0</td>\n",
       "      <td>0</td>\n",
       "      <td>42.30</td>\n",
       "      <td>1840.75</td>\n",
       "    </tr>\n",
       "    <tr>\n",
       "      <th>4</th>\n",
       "      <td>0</td>\n",
       "      <td>0.0</td>\n",
       "      <td>0</td>\n",
       "      <td>0</td>\n",
       "      <td>2</td>\n",
       "      <td>1</td>\n",
       "      <td>0</td>\n",
       "      <td>1</td>\n",
       "      <td>0</td>\n",
       "      <td>0</td>\n",
       "      <td>0</td>\n",
       "      <td>0</td>\n",
       "      <td>0</td>\n",
       "      <td>0</td>\n",
       "      <td>0</td>\n",
       "      <td>1</td>\n",
       "      <td>2</td>\n",
       "      <td>70.70</td>\n",
       "      <td>151.65</td>\n",
       "    </tr>\n",
       "  </tbody>\n",
       "</table>\n",
       "</div>"
      ],
      "text/plain": [
       "   gender  SeniorCitizen  Partner  Dependents  tenure  PhoneService  \\\n",
       "0       0            0.0        1           0       1             0   \n",
       "1       1            0.0        0           0      34             1   \n",
       "2       1            0.0        0           0       2             1   \n",
       "3       1            0.0        0           0      45             0   \n",
       "4       0            0.0        0           0       2             1   \n",
       "\n",
       "   MultipleLines  InternetService  OnlineSecurity  OnlineBackup  \\\n",
       "0              1                0               0             2   \n",
       "1              0                0               2             0   \n",
       "2              0                0               2             2   \n",
       "3              1                0               2             0   \n",
       "4              0                1               0             0   \n",
       "\n",
       "   DeviceProtection  TechSupport  StreamingTV  StreamingMovies  Contract  \\\n",
       "0                 0            0            0                0         0   \n",
       "1                 2            0            0                0         1   \n",
       "2                 0            0            0                0         0   \n",
       "3                 2            2            0                0         1   \n",
       "4                 0            0            0                0         0   \n",
       "\n",
       "   PaperlessBilling  PaymentMethod  MonthlyCharges  TotalCharges  \n",
       "0                 1              2           29.85         29.85  \n",
       "1                 0              3           56.95       1889.50  \n",
       "2                 1              3           53.85        108.15  \n",
       "3                 0              0           42.30       1840.75  \n",
       "4                 1              2           70.70        151.65  "
      ]
     },
     "execution_count": 83,
     "metadata": {},
     "output_type": "execute_result"
    }
   ],
   "source": [
    "x.head()"
   ]
  },
  {
   "cell_type": "code",
   "execution_count": 84,
   "id": "ac8c8058",
   "metadata": {},
   "outputs": [
    {
     "data": {
      "text/plain": [
       "0    0\n",
       "1    0\n",
       "2    1\n",
       "3    0\n",
       "4    1\n",
       "Name: Churn, dtype: int32"
      ]
     },
     "execution_count": 84,
     "metadata": {},
     "output_type": "execute_result"
    }
   ],
   "source": [
    "y.head()"
   ]
  },
  {
   "cell_type": "code",
   "execution_count": 85,
   "id": "83850dbc",
   "metadata": {},
   "outputs": [
    {
     "name": "stdout",
     "output_type": "stream",
     "text": [
      "(7043, 19) (7043,)\n"
     ]
    }
   ],
   "source": [
    "print(x.shape, y.shape)"
   ]
  },
  {
   "cell_type": "markdown",
   "id": "f5556387",
   "metadata": {},
   "source": [
    "# Scaling the data"
   ]
  },
  {
   "cell_type": "code",
   "execution_count": 86,
   "id": "b4878c24",
   "metadata": {},
   "outputs": [],
   "source": [
    "from sklearn.preprocessing import StandardScaler"
   ]
  },
  {
   "cell_type": "code",
   "execution_count": 87,
   "id": "a816b33d",
   "metadata": {},
   "outputs": [
    {
     "data": {
      "text/plain": [
       "array([[-1.00955867, -0.43991649,  1.03453023, ...,  0.39855772,\n",
       "        -1.16032292, -0.99263828],\n",
       "       [ 0.99053183, -0.43991649, -0.96662231, ...,  1.33486261,\n",
       "        -0.25962894, -0.17218103],\n",
       "       [ 0.99053183, -0.43991649, -0.96662231, ...,  1.33486261,\n",
       "        -0.36266036, -0.95809317],\n",
       "       ...,\n",
       "       [-1.00955867, -0.43991649,  1.03453023, ...,  0.39855772,\n",
       "        -1.1686319 , -0.85295782],\n",
       "       [ 0.99053183,  2.27315869,  1.03453023, ...,  1.33486261,\n",
       "         0.32033821, -0.8705392 ],\n",
       "       [ 0.99053183, -0.43991649, -0.96662231, ..., -1.47405205,\n",
       "         1.35896134,  2.0139108 ]])"
      ]
     },
     "execution_count": 87,
     "metadata": {},
     "output_type": "execute_result"
    }
   ],
   "source": [
    "scaler=StandardScaler()\n",
    "x_scaled=scaler.fit_transform(x)\n",
    "x_scaled"
   ]
  },
  {
   "cell_type": "markdown",
   "id": "25d4d933",
   "metadata": {},
   "source": [
    "# Since the outcome has only two variables we will use binary classification model."
   ]
  },
  {
   "cell_type": "code",
   "execution_count": 88,
   "id": "c61bd030",
   "metadata": {},
   "outputs": [],
   "source": [
    "from sklearn.model_selection import train_test_split\n",
    "\n",
    "from sklearn.linear_model import LogisticRegression\n",
    "lr = LogisticRegression()\n",
    "\n",
    "from sklearn.ensemble import RandomForestClassifier\n",
    "rfc = RandomForestClassifier()\n",
    "\n",
    "from sklearn.tree import DecisionTreeClassifier\n",
    "dtc = DecisionTreeClassifier()\n",
    "\n",
    "from sklearn.svm import SVC\n",
    "svc = SVC()\n",
    "\n",
    "from sklearn.naive_bayes import GaussianNB\n",
    "gnb = GaussianNB()\n",
    "\n",
    "from sklearn.metrics import accuracy_score, confusion_matrix, classification_report"
   ]
  },
  {
   "cell_type": "markdown",
   "id": "987256d7",
   "metadata": {},
   "source": [
    "# Training process begins"
   ]
  },
  {
   "cell_type": "markdown",
   "id": "c08e0e6c",
   "metadata": {},
   "source": [
    "#### Finding best random_state"
   ]
  },
  {
   "cell_type": "code",
   "execution_count": 89,
   "id": "998519e8",
   "metadata": {},
   "outputs": [
    {
     "name": "stdout",
     "output_type": "stream",
     "text": [
      "Accuracy score correspond to random state  0 is 0.7885024840312278\n",
      "Accuracy score correspond to random state  0 is 0.7806955287437899\n",
      "Accuracy score correspond to random state  0 is 0.7189496096522356\n",
      "Accuracy score correspond to random state  0 is 0.7388218594748048\n",
      "Accuracy score correspond to random state  0 is 0.7374024130589071\n",
      "Accuracy score correspond to random state  1 is 0.8048261178140526\n",
      "Accuracy score correspond to random state  1 is 0.8062455642299503\n",
      "Accuracy score correspond to random state  1 is 0.7310149041873669\n",
      "Accuracy score correspond to random state  1 is 0.7530163236337828\n",
      "Accuracy score correspond to random state  1 is 0.7686302342086586\n",
      "Accuracy score correspond to random state  2 is 0.8026969481902059\n",
      "Accuracy score correspond to random state  2 is 0.7899219304471257\n",
      "Accuracy score correspond to random state  2 is 0.7452093683463449\n",
      "Accuracy score correspond to random state  2 is 0.7530163236337828\n",
      "Accuracy score correspond to random state  2 is 0.7466288147622427\n",
      "Accuracy score correspond to random state  3 is 0.8119233498935415\n",
      "Accuracy score correspond to random state  3 is 0.7963094393186657\n",
      "Accuracy score correspond to random state  3 is 0.7409510290986515\n",
      "Accuracy score correspond to random state  3 is 0.7423704755145494\n",
      "Accuracy score correspond to random state  3 is 0.7672107877927609\n",
      "Accuracy score correspond to random state  4 is 0.7778566359119943\n",
      "Accuracy score correspond to random state  4 is 0.7806955287437899\n",
      "Accuracy score correspond to random state  4 is 0.7019162526614621\n",
      "Accuracy score correspond to random state  4 is 0.7345635202271115\n",
      "Accuracy score correspond to random state  4 is 0.7480482611781405\n",
      "Accuracy score correspond to random state  5 is 0.7970191625266146\n",
      "Accuracy score correspond to random state  5 is 0.7892122072391767\n",
      "Accuracy score correspond to random state  5 is 0.7189496096522356\n",
      "Accuracy score correspond to random state  5 is 0.7260468417317246\n",
      "Accuracy score correspond to random state  5 is 0.7544357700496807\n",
      "Accuracy score correspond to random state  6 is 0.8076650106458482\n",
      "Accuracy score correspond to random state  6 is 0.7970191625266146\n",
      "Accuracy score correspond to random state  6 is 0.7288857345635202\n",
      "Accuracy score correspond to random state  6 is 0.7480482611781405\n",
      "Accuracy score correspond to random state  6 is 0.7551454932576295\n",
      "Accuracy score correspond to random state  7 is 0.8076650106458482\n",
      "Accuracy score correspond to random state  7 is 0.7934705464868701\n",
      "Accuracy score correspond to random state  7 is 0.7508871540099361\n",
      "Accuracy score correspond to random state  7 is 0.7246273953158269\n",
      "Accuracy score correspond to random state  7 is 0.7579843860894251\n",
      "Accuracy score correspond to random state  8 is 0.7892122072391767\n",
      "Accuracy score correspond to random state  8 is 0.7799858055358411\n",
      "Accuracy score correspond to random state  8 is 0.7118523775727467\n",
      "Accuracy score correspond to random state  8 is 0.7288857345635202\n",
      "Accuracy score correspond to random state  8 is 0.7494677075940384\n",
      "Accuracy score correspond to random state  9 is 0.7892122072391767\n",
      "Accuracy score correspond to random state  9 is 0.7821149751596878\n",
      "Accuracy score correspond to random state  9 is 0.7274662881476224\n",
      "Accuracy score correspond to random state  9 is 0.7409510290986515\n",
      "Accuracy score correspond to random state  9 is 0.7537260468417317\n",
      "Accuracy score correspond to random state  10 is 0.8026969481902059\n",
      "Accuracy score correspond to random state  10 is 0.794889992902768\n",
      "Accuracy score correspond to random state  10 is 0.7260468417317246\n",
      "Accuracy score correspond to random state  10 is 0.7565649396735273\n",
      "Accuracy score correspond to random state  10 is 0.7409510290986515\n",
      "Accuracy score correspond to random state  11 is 0.7998580553584103\n",
      "Accuracy score correspond to random state  11 is 0.7991483321504613\n",
      "Accuracy score correspond to random state  11 is 0.7473385379701917\n",
      "Accuracy score correspond to random state  11 is 0.7317246273953159\n",
      "Accuracy score correspond to random state  11 is 0.7565649396735273\n",
      "Accuracy score correspond to random state  12 is 0.801277501774308\n",
      "Accuracy score correspond to random state  12 is 0.7899219304471257\n",
      "Accuracy score correspond to random state  12 is 0.7260468417317246\n",
      "Accuracy score correspond to random state  12 is 0.7402413058907026\n",
      "Accuracy score correspond to random state  12 is 0.752306600425834\n",
      "Accuracy score correspond to random state  13 is 0.8105039034776437\n",
      "Accuracy score correspond to random state  13 is 0.7955997161107168\n",
      "Accuracy score correspond to random state  13 is 0.730305180979418\n",
      "Accuracy score correspond to random state  13 is 0.7437899219304471\n",
      "Accuracy score correspond to random state  13 is 0.7601135557132718\n",
      "Accuracy score correspond to random state  14 is 0.8126330731014905\n",
      "Accuracy score correspond to random state  14 is 0.801277501774308\n",
      "Accuracy score correspond to random state  14 is 0.7175301632363378\n",
      "Accuracy score correspond to random state  14 is 0.7537260468417317\n",
      "Accuracy score correspond to random state  14 is 0.7381121362668559\n",
      "Accuracy score correspond to random state  15 is 0.801277501774308\n",
      "Accuracy score correspond to random state  15 is 0.7934705464868701\n",
      "Accuracy score correspond to random state  15 is 0.730305180979418\n",
      "Accuracy score correspond to random state  15 is 0.7260468417317246\n",
      "Accuracy score correspond to random state  15 is 0.7508871540099361\n",
      "Accuracy score correspond to random state  16 is 0.8069552874378992\n",
      "Accuracy score correspond to random state  16 is 0.7920511000709723\n",
      "Accuracy score correspond to random state  16 is 0.7317246273953159\n",
      "Accuracy score correspond to random state  16 is 0.7459190915542938\n",
      "Accuracy score correspond to random state  16 is 0.7381121362668559\n",
      "Accuracy score correspond to random state  17 is 0.7970191625266146\n",
      "Accuracy score correspond to random state  17 is 0.7863733144073811\n",
      "Accuracy score correspond to random state  17 is 0.7366926898509581\n",
      "Accuracy score correspond to random state  17 is 0.7310149041873669\n",
      "Accuracy score correspond to random state  17 is 0.7480482611781405\n",
      "Accuracy score correspond to random state  18 is 0.8119233498935415\n",
      "Accuracy score correspond to random state  18 is 0.8097941802696949\n",
      "Accuracy score correspond to random state  18 is 0.7416607523066004\n",
      "Accuracy score correspond to random state  18 is 0.7508871540099361\n",
      "Accuracy score correspond to random state  18 is 0.7572746628814763\n",
      "Accuracy score correspond to random state  19 is 0.8097941802696949\n",
      "Accuracy score correspond to random state  19 is 0.8069552874378992\n",
      "Accuracy score correspond to random state  19 is 0.7246273953158269\n",
      "Accuracy score correspond to random state  19 is 0.7338537970191625\n",
      "Accuracy score correspond to random state  19 is 0.765791341376863\n",
      "Accuracy score correspond to random state  20 is 0.8105039034776437\n",
      "Accuracy score correspond to random state  20 is 0.8076650106458482\n",
      "Accuracy score correspond to random state  20 is 0.7366926898509581\n",
      "Accuracy score correspond to random state  20 is 0.7544357700496807\n",
      "Accuracy score correspond to random state  20 is 0.7572746628814763\n",
      "Accuracy score correspond to random state  21 is 0.7934705464868701\n",
      "Accuracy score correspond to random state  21 is 0.7842441447835344\n",
      "Accuracy score correspond to random state  21 is 0.7097232079489\n",
      "Accuracy score correspond to random state  21 is 0.7345635202271115\n",
      "Accuracy score correspond to random state  21 is 0.7452093683463449\n",
      "Accuracy score correspond to random state  22 is 0.7792760823278921\n",
      "Accuracy score correspond to random state  22 is 0.772888573456352\n",
      "Accuracy score correspond to random state  22 is 0.7139815471965933\n",
      "Accuracy score correspond to random state  22 is 0.7182398864442867\n",
      "Accuracy score correspond to random state  22 is 0.7430801987224982\n",
      "Accuracy score correspond to random state  23 is 0.8034066713981547\n",
      "Accuracy score correspond to random state  23 is 0.7913413768630234\n",
      "Accuracy score correspond to random state  23 is 0.7416607523066004\n",
      "Accuracy score correspond to random state  23 is 0.7381121362668559\n",
      "Accuracy score correspond to random state  23 is 0.7508871540099361\n",
      "Accuracy score correspond to random state  24 is 0.8204400283889283\n",
      "Accuracy score correspond to random state  24 is 0.8076650106458482\n",
      "Accuracy score correspond to random state  24 is 0.751596877217885\n"
     ]
    },
    {
     "name": "stdout",
     "output_type": "stream",
     "text": [
      "Accuracy score correspond to random state  24 is 0.7501774308019872\n",
      "Accuracy score correspond to random state  24 is 0.7650816181689141\n",
      "Accuracy score correspond to random state  25 is 0.7977288857345636\n",
      "Accuracy score correspond to random state  25 is 0.7856635911994322\n",
      "Accuracy score correspond to random state  25 is 0.7466288147622427\n",
      "Accuracy score correspond to random state  25 is 0.7281760113555713\n",
      "Accuracy score correspond to random state  25 is 0.7643718949609652\n",
      "Accuracy score correspond to random state  26 is 0.7991483321504613\n",
      "Accuracy score correspond to random state  26 is 0.7899219304471257\n",
      "Accuracy score correspond to random state  26 is 0.7366926898509581\n",
      "Accuracy score correspond to random state  26 is 0.7444996451383961\n",
      "Accuracy score correspond to random state  26 is 0.7487579843860894\n",
      "Accuracy score correspond to random state  27 is 0.7963094393186657\n",
      "Accuracy score correspond to random state  27 is 0.78708303761533\n",
      "Accuracy score correspond to random state  27 is 0.723207948899929\n",
      "Accuracy score correspond to random state  27 is 0.7203690560681334\n",
      "Accuracy score correspond to random state  27 is 0.7608232789212207\n",
      "Accuracy score correspond to random state  28 is 0.8005677785663591\n",
      "Accuracy score correspond to random state  28 is 0.8019872249822569\n",
      "Accuracy score correspond to random state  28 is 0.7274662881476224\n",
      "Accuracy score correspond to random state  28 is 0.7473385379701917\n",
      "Accuracy score correspond to random state  28 is 0.7629524485450674\n",
      "Accuracy score correspond to random state  29 is 0.7799858055358411\n",
      "Accuracy score correspond to random state  29 is 0.7863733144073811\n",
      "Accuracy score correspond to random state  29 is 0.7288857345635202\n",
      "Accuracy score correspond to random state  29 is 0.730305180979418\n",
      "Accuracy score correspond to random state  29 is 0.7473385379701917\n",
      "Accuracy score correspond to random state  30 is 0.7927608232789212\n",
      "Accuracy score correspond to random state  30 is 0.7764371894960965\n",
      "Accuracy score correspond to random state  30 is 0.730305180979418\n",
      "Accuracy score correspond to random state  30 is 0.7104329311568488\n",
      "Accuracy score correspond to random state  30 is 0.7565649396735273\n",
      "Accuracy score correspond to random state  31 is 0.8076650106458482\n",
      "Accuracy score correspond to random state  31 is 0.8026969481902059\n",
      "Accuracy score correspond to random state  31 is 0.7132718239886444\n",
      "Accuracy score correspond to random state  31 is 0.7409510290986515\n",
      "Accuracy score correspond to random state  31 is 0.7615330021291696\n",
      "Accuracy score correspond to random state  32 is 0.7913413768630234\n",
      "Accuracy score correspond to random state  32 is 0.7792760823278921\n",
      "Accuracy score correspond to random state  32 is 0.7111426543647977\n",
      "Accuracy score correspond to random state  32 is 0.7068843151171044\n",
      "Accuracy score correspond to random state  32 is 0.7388218594748048\n",
      "Accuracy score correspond to random state  33 is 0.7892122072391767\n",
      "Accuracy score correspond to random state  33 is 0.7856635911994322\n",
      "Accuracy score correspond to random state  33 is 0.7274662881476224\n",
      "Accuracy score correspond to random state  33 is 0.7281760113555713\n",
      "Accuracy score correspond to random state  33 is 0.7501774308019872\n",
      "Accuracy score correspond to random state  34 is 0.7821149751596878\n",
      "Accuracy score correspond to random state  34 is 0.772888573456352\n",
      "Accuracy score correspond to random state  34 is 0.7196593328601846\n",
      "Accuracy score correspond to random state  34 is 0.7260468417317246\n",
      "Accuracy score correspond to random state  34 is 0.7508871540099361\n",
      "Accuracy score correspond to random state  35 is 0.8190205819730305\n",
      "Accuracy score correspond to random state  35 is 0.8097941802696949\n",
      "Accuracy score correspond to random state  35 is 0.7473385379701917\n",
      "Accuracy score correspond to random state  35 is 0.7537260468417317\n",
      "Accuracy score correspond to random state  35 is 0.7757274662881476\n",
      "Accuracy score correspond to random state  36 is 0.7927608232789212\n",
      "Accuracy score correspond to random state  36 is 0.7899219304471257\n",
      "Accuracy score correspond to random state  36 is 0.7274662881476224\n",
      "Accuracy score correspond to random state  36 is 0.7125621007806955\n",
      "Accuracy score correspond to random state  36 is 0.7579843860894251\n",
      "Accuracy score correspond to random state  37 is 0.794889992902768\n",
      "Accuracy score correspond to random state  37 is 0.7799858055358411\n",
      "Accuracy score correspond to random state  37 is 0.7224982256919801\n",
      "Accuracy score correspond to random state  37 is 0.7146912704045423\n",
      "Accuracy score correspond to random state  37 is 0.7423704755145494\n",
      "Accuracy score correspond to random state  38 is 0.8005677785663591\n",
      "Accuracy score correspond to random state  38 is 0.7913413768630234\n",
      "Accuracy score correspond to random state  38 is 0.7508871540099361\n",
      "Accuracy score correspond to random state  38 is 0.7203690560681334\n",
      "Accuracy score correspond to random state  38 is 0.7643718949609652\n",
      "Accuracy score correspond to random state  39 is 0.8076650106458482\n",
      "Accuracy score correspond to random state  39 is 0.7991483321504613\n",
      "Accuracy score correspond to random state  39 is 0.7281760113555713\n",
      "Accuracy score correspond to random state  39 is 0.7345635202271115\n",
      "Accuracy score correspond to random state  39 is 0.7650816181689141\n",
      "Accuracy score correspond to random state  40 is 0.7892122072391767\n",
      "Accuracy score correspond to random state  40 is 0.7799858055358411\n",
      "Accuracy score correspond to random state  40 is 0.7083037615330021\n",
      "Accuracy score correspond to random state  40 is 0.7338537970191625\n",
      "Accuracy score correspond to random state  40 is 0.7338537970191625\n",
      "Accuracy score correspond to random state  41 is 0.794180269694819\n",
      "Accuracy score correspond to random state  41 is 0.7863733144073811\n",
      "Accuracy score correspond to random state  41 is 0.7317246273953159\n",
      "Accuracy score correspond to random state  41 is 0.7295954577714692\n",
      "Accuracy score correspond to random state  41 is 0.7345635202271115\n",
      "Accuracy score correspond to random state  42 is 0.8133427963094393\n",
      "Accuracy score correspond to random state  42 is 0.794889992902768\n",
      "Accuracy score correspond to random state  42 is 0.7260468417317246\n",
      "Accuracy score correspond to random state  42 is 0.7352732434350603\n",
      "Accuracy score correspond to random state  42 is 0.7565649396735273\n",
      "Accuracy score correspond to random state  43 is 0.8090844570617459\n",
      "Accuracy score correspond to random state  43 is 0.8062455642299503\n",
      "Accuracy score correspond to random state  43 is 0.7501774308019872\n",
      "Accuracy score correspond to random state  43 is 0.7374024130589071\n",
      "Accuracy score correspond to random state  43 is 0.7622427253371186\n",
      "Accuracy score correspond to random state  44 is 0.7977288857345636\n",
      "Accuracy score correspond to random state  44 is 0.7828246983676366\n",
      "Accuracy score correspond to random state  44 is 0.723207948899929\n",
      "Accuracy score correspond to random state  44 is 0.7288857345635202\n",
      "Accuracy score correspond to random state  44 is 0.7558552164655784\n",
      "Accuracy score correspond to random state  45 is 0.8133427963094393\n",
      "Accuracy score correspond to random state  45 is 0.8026969481902059\n",
      "Accuracy score correspond to random state  45 is 0.7416607523066004\n",
      "Accuracy score correspond to random state  45 is 0.7494677075940384\n",
      "Accuracy score correspond to random state  45 is 0.7622427253371186\n",
      "Accuracy score correspond to random state  46 is 0.7970191625266146\n",
      "Accuracy score correspond to random state  46 is 0.7934705464868701\n",
      "Accuracy score correspond to random state  46 is 0.7317246273953159\n",
      "Accuracy score correspond to random state  46 is 0.7402413058907026\n",
      "Accuracy score correspond to random state  46 is 0.7707594038325053\n",
      "Accuracy score correspond to random state  47 is 0.7828246983676366\n",
      "Accuracy score correspond to random state  47 is 0.7814052519517388\n",
      "Accuracy score correspond to random state  47 is 0.716820440028389\n",
      "Accuracy score correspond to random state  47 is 0.7267565649396736\n",
      "Accuracy score correspond to random state  47 is 0.7558552164655784\n",
      "Accuracy score correspond to random state  48 is 0.8026969481902059\n",
      "Accuracy score correspond to random state  48 is 0.7885024840312278\n",
      "Accuracy score correspond to random state  48 is 0.7196593328601846\n",
      "Accuracy score correspond to random state  48 is 0.7402413058907026\n",
      "Accuracy score correspond to random state  48 is 0.7501774308019872\n",
      "Accuracy score correspond to random state  49 is 0.801277501774308\n"
     ]
    },
    {
     "name": "stdout",
     "output_type": "stream",
     "text": [
      "Accuracy score correspond to random state  49 is 0.8019872249822569\n",
      "Accuracy score correspond to random state  49 is 0.7281760113555713\n",
      "Accuracy score correspond to random state  49 is 0.7310149041873669\n",
      "Accuracy score correspond to random state  49 is 0.7608232789212207\n",
      "Accuracy score correspond to random state  50 is 0.7920511000709723\n",
      "Accuracy score correspond to random state  50 is 0.7970191625266146\n",
      "Accuracy score correspond to random state  50 is 0.7338537970191625\n",
      "Accuracy score correspond to random state  50 is 0.7388218594748048\n",
      "Accuracy score correspond to random state  50 is 0.7565649396735273\n",
      "Accuracy score correspond to random state  51 is 0.7970191625266146\n",
      "Accuracy score correspond to random state  51 is 0.7877927608232789\n",
      "Accuracy score correspond to random state  51 is 0.7175301632363378\n",
      "Accuracy score correspond to random state  51 is 0.7416607523066004\n",
      "Accuracy score correspond to random state  51 is 0.7459190915542938\n",
      "Accuracy score correspond to random state  52 is 0.801277501774308\n",
      "Accuracy score correspond to random state  52 is 0.7856635911994322\n",
      "Accuracy score correspond to random state  52 is 0.7331440738112136\n",
      "Accuracy score correspond to random state  52 is 0.7288857345635202\n",
      "Accuracy score correspond to random state  52 is 0.752306600425834\n",
      "Accuracy score correspond to random state  53 is 0.8090844570617459\n",
      "Accuracy score correspond to random state  53 is 0.7913413768630234\n",
      "Accuracy score correspond to random state  53 is 0.7352732434350603\n",
      "Accuracy score correspond to random state  53 is 0.7345635202271115\n",
      "Accuracy score correspond to random state  53 is 0.7501774308019872\n",
      "Accuracy score correspond to random state  54 is 0.7906316536550745\n",
      "Accuracy score correspond to random state  54 is 0.772888573456352\n",
      "Accuracy score correspond to random state  54 is 0.7132718239886444\n",
      "Accuracy score correspond to random state  54 is 0.7331440738112136\n",
      "Accuracy score correspond to random state  54 is 0.7473385379701917\n",
      "Accuracy score correspond to random state  55 is 0.78708303761533\n",
      "Accuracy score correspond to random state  55 is 0.7927608232789212\n",
      "Accuracy score correspond to random state  55 is 0.7317246273953159\n",
      "Accuracy score correspond to random state  55 is 0.7324343506032647\n",
      "Accuracy score correspond to random state  55 is 0.7388218594748048\n",
      "Accuracy score correspond to random state  56 is 0.8133427963094393\n",
      "Accuracy score correspond to random state  56 is 0.8048261178140526\n",
      "Accuracy score correspond to random state  56 is 0.7182398864442867\n",
      "Accuracy score correspond to random state  56 is 0.7352732434350603\n",
      "Accuracy score correspond to random state  56 is 0.7679205110007097\n",
      "Accuracy score correspond to random state  57 is 0.7963094393186657\n",
      "Accuracy score correspond to random state  57 is 0.8019872249822569\n",
      "Accuracy score correspond to random state  57 is 0.7331440738112136\n",
      "Accuracy score correspond to random state  57 is 0.7310149041873669\n",
      "Accuracy score correspond to random state  57 is 0.765791341376863\n",
      "Accuracy score correspond to random state  58 is 0.8062455642299503\n",
      "Accuracy score correspond to random state  58 is 0.7963094393186657\n",
      "Accuracy score correspond to random state  58 is 0.7281760113555713\n",
      "Accuracy score correspond to random state  58 is 0.7288857345635202\n",
      "Accuracy score correspond to random state  58 is 0.7409510290986515\n",
      "Accuracy score correspond to random state  59 is 0.8147622427253371\n",
      "Accuracy score correspond to random state  59 is 0.8062455642299503\n",
      "Accuracy score correspond to random state  59 is 0.7317246273953159\n",
      "Accuracy score correspond to random state  59 is 0.7459190915542938\n",
      "Accuracy score correspond to random state  59 is 0.7537260468417317\n",
      "Accuracy score correspond to random state  60 is 0.7977288857345636\n",
      "Accuracy score correspond to random state  60 is 0.7814052519517388\n",
      "Accuracy score correspond to random state  60 is 0.716820440028389\n",
      "Accuracy score correspond to random state  60 is 0.7239176721078779\n",
      "Accuracy score correspond to random state  60 is 0.7402413058907026\n",
      "Accuracy score correspond to random state  61 is 0.8005677785663591\n",
      "Accuracy score correspond to random state  61 is 0.7828246983676366\n",
      "Accuracy score correspond to random state  61 is 0.7224982256919801\n",
      "Accuracy score correspond to random state  61 is 0.7217885024840313\n",
      "Accuracy score correspond to random state  61 is 0.7508871540099361\n",
      "Accuracy score correspond to random state  62 is 0.8076650106458482\n",
      "Accuracy score correspond to random state  62 is 0.7984386089425124\n",
      "Accuracy score correspond to random state  62 is 0.7182398864442867\n",
      "Accuracy score correspond to random state  62 is 0.7352732434350603\n",
      "Accuracy score correspond to random state  62 is 0.7629524485450674\n",
      "Accuracy score correspond to random state  63 is 0.7963094393186657\n",
      "Accuracy score correspond to random state  63 is 0.7849538679914834\n",
      "Accuracy score correspond to random state  63 is 0.7324343506032647\n",
      "Accuracy score correspond to random state  63 is 0.7154009936124911\n",
      "Accuracy score correspond to random state  63 is 0.7622427253371186\n",
      "Accuracy score correspond to random state  64 is 0.7991483321504613\n",
      "Accuracy score correspond to random state  64 is 0.7849538679914834\n",
      "Accuracy score correspond to random state  64 is 0.7345635202271115\n",
      "Accuracy score correspond to random state  64 is 0.7331440738112136\n",
      "Accuracy score correspond to random state  64 is 0.751596877217885\n",
      "Accuracy score correspond to random state  65 is 0.7934705464868701\n",
      "Accuracy score correspond to random state  65 is 0.7792760823278921\n",
      "Accuracy score correspond to random state  65 is 0.7366926898509581\n",
      "Accuracy score correspond to random state  65 is 0.7281760113555713\n",
      "Accuracy score correspond to random state  65 is 0.7558552164655784\n",
      "Accuracy score correspond to random state  66 is 0.7955997161107168\n",
      "Accuracy score correspond to random state  66 is 0.7984386089425124\n",
      "Accuracy score correspond to random state  66 is 0.7423704755145494\n",
      "Accuracy score correspond to random state  66 is 0.7239176721078779\n",
      "Accuracy score correspond to random state  66 is 0.7636621717530163\n",
      "Accuracy score correspond to random state  67 is 0.8119233498935415\n",
      "Accuracy score correspond to random state  67 is 0.7899219304471257\n",
      "Accuracy score correspond to random state  67 is 0.7118523775727467\n",
      "Accuracy score correspond to random state  67 is 0.730305180979418\n",
      "Accuracy score correspond to random state  67 is 0.7601135557132718\n",
      "Accuracy score correspond to random state  68 is 0.8041163946061036\n",
      "Accuracy score correspond to random state  68 is 0.7934705464868701\n",
      "Accuracy score correspond to random state  68 is 0.7267565649396736\n",
      "Accuracy score correspond to random state  68 is 0.7459190915542938\n",
      "Accuracy score correspond to random state  68 is 0.7508871540099361\n",
      "Accuracy score correspond to random state  69 is 0.8126330731014905\n",
      "Accuracy score correspond to random state  69 is 0.7927608232789212\n",
      "Accuracy score correspond to random state  69 is 0.7288857345635202\n",
      "Accuracy score correspond to random state  69 is 0.7459190915542938\n",
      "Accuracy score correspond to random state  69 is 0.7423704755145494\n",
      "Accuracy score correspond to random state  70 is 0.7892122072391767\n",
      "Accuracy score correspond to random state  70 is 0.7821149751596878\n",
      "Accuracy score correspond to random state  70 is 0.716820440028389\n",
      "Accuracy score correspond to random state  70 is 0.7217885024840313\n",
      "Accuracy score correspond to random state  70 is 0.7473385379701917\n",
      "Accuracy score correspond to random state  71 is 0.801277501774308\n",
      "Accuracy score correspond to random state  71 is 0.7863733144073811\n",
      "Accuracy score correspond to random state  71 is 0.7416607523066004\n",
      "Accuracy score correspond to random state  71 is 0.7267565649396736\n",
      "Accuracy score correspond to random state  71 is 0.7700496806245565\n",
      "Accuracy score correspond to random state  72 is 0.7984386089425124\n",
      "Accuracy score correspond to random state  72 is 0.7835344215755855\n",
      "Accuracy score correspond to random state  72 is 0.7324343506032647\n",
      "Accuracy score correspond to random state  72 is 0.7288857345635202\n",
      "Accuracy score correspond to random state  72 is 0.7579843860894251\n",
      "Accuracy score correspond to random state  73 is 0.8119233498935415\n",
      "Accuracy score correspond to random state  73 is 0.8069552874378992\n",
      "Accuracy score correspond to random state  73 is 0.7480482611781405\n"
     ]
    },
    {
     "name": "stdout",
     "output_type": "stream",
     "text": [
      "Accuracy score correspond to random state  73 is 0.7629524485450674\n",
      "Accuracy score correspond to random state  73 is 0.759403832505323\n",
      "Accuracy score correspond to random state  74 is 0.8055358410220014\n",
      "Accuracy score correspond to random state  74 is 0.7927608232789212\n",
      "Accuracy score correspond to random state  74 is 0.7452093683463449\n",
      "Accuracy score correspond to random state  74 is 0.7352732434350603\n",
      "Accuracy score correspond to random state  74 is 0.7537260468417317\n",
      "Accuracy score correspond to random state  75 is 0.7991483321504613\n",
      "Accuracy score correspond to random state  75 is 0.7998580553584103\n",
      "Accuracy score correspond to random state  75 is 0.7040454222853088\n",
      "Accuracy score correspond to random state  75 is 0.7267565649396736\n",
      "Accuracy score correspond to random state  75 is 0.758694109297374\n",
      "Accuracy score correspond to random state  76 is 0.8076650106458482\n",
      "Accuracy score correspond to random state  76 is 0.7991483321504613\n",
      "Accuracy score correspond to random state  76 is 0.7139815471965933\n",
      "Accuracy score correspond to random state  76 is 0.7423704755145494\n",
      "Accuracy score correspond to random state  76 is 0.758694109297374\n",
      "Accuracy score correspond to random state  77 is 0.7970191625266146\n",
      "Accuracy score correspond to random state  77 is 0.7806955287437899\n",
      "Accuracy score correspond to random state  77 is 0.7366926898509581\n",
      "Accuracy score correspond to random state  77 is 0.7395315826827538\n",
      "Accuracy score correspond to random state  77 is 0.7530163236337828\n",
      "Accuracy score correspond to random state  78 is 0.7927608232789212\n",
      "Accuracy score correspond to random state  78 is 0.7877927608232789\n",
      "Accuracy score correspond to random state  78 is 0.730305180979418\n",
      "Accuracy score correspond to random state  78 is 0.7388218594748048\n",
      "Accuracy score correspond to random state  78 is 0.7416607523066004\n",
      "Accuracy score correspond to random state  79 is 0.7877927608232789\n",
      "Accuracy score correspond to random state  79 is 0.7636621717530163\n",
      "Accuracy score correspond to random state  79 is 0.7097232079489\n",
      "Accuracy score correspond to random state  79 is 0.71611071682044\n",
      "Accuracy score correspond to random state  79 is 0.7487579843860894\n",
      "Accuracy score correspond to random state  80 is 0.8076650106458482\n",
      "Accuracy score correspond to random state  80 is 0.794180269694819\n",
      "Accuracy score correspond to random state  80 is 0.7352732434350603\n",
      "Accuracy score correspond to random state  80 is 0.7310149041873669\n",
      "Accuracy score correspond to random state  80 is 0.7686302342086586\n",
      "Accuracy score correspond to random state  81 is 0.7700496806245565\n",
      "Accuracy score correspond to random state  81 is 0.7714691270404542\n",
      "Accuracy score correspond to random state  81 is 0.7175301632363378\n",
      "Accuracy score correspond to random state  81 is 0.71611071682044\n",
      "Accuracy score correspond to random state  81 is 0.7324343506032647\n",
      "Accuracy score correspond to random state  82 is 0.8076650106458482\n",
      "Accuracy score correspond to random state  82 is 0.7955997161107168\n",
      "Accuracy score correspond to random state  82 is 0.730305180979418\n",
      "Accuracy score correspond to random state  82 is 0.7317246273953159\n",
      "Accuracy score correspond to random state  82 is 0.7459190915542938\n",
      "Accuracy score correspond to random state  83 is 0.794889992902768\n",
      "Accuracy score correspond to random state  83 is 0.7877927608232789\n",
      "Accuracy score correspond to random state  83 is 0.7189496096522356\n",
      "Accuracy score correspond to random state  83 is 0.7253371185237757\n",
      "Accuracy score correspond to random state  83 is 0.7579843860894251\n",
      "Accuracy score correspond to random state  84 is 0.78708303761533\n",
      "Accuracy score correspond to random state  84 is 0.7757274662881476\n",
      "Accuracy score correspond to random state  84 is 0.7295954577714692\n",
      "Accuracy score correspond to random state  84 is 0.7381121362668559\n",
      "Accuracy score correspond to random state  84 is 0.7444996451383961\n",
      "Accuracy score correspond to random state  85 is 0.794180269694819\n",
      "Accuracy score correspond to random state  85 is 0.7899219304471257\n",
      "Accuracy score correspond to random state  85 is 0.7246273953158269\n",
      "Accuracy score correspond to random state  85 is 0.7444996451383961\n",
      "Accuracy score correspond to random state  85 is 0.7508871540099361\n",
      "Accuracy score correspond to random state  86 is 0.7927608232789212\n",
      "Accuracy score correspond to random state  86 is 0.7835344215755855\n",
      "Accuracy score correspond to random state  86 is 0.7317246273953159\n",
      "Accuracy score correspond to random state  86 is 0.7423704755145494\n",
      "Accuracy score correspond to random state  86 is 0.7444996451383961\n",
      "Accuracy score correspond to random state  87 is 0.78708303761533\n",
      "Accuracy score correspond to random state  87 is 0.7814052519517388\n",
      "Accuracy score correspond to random state  87 is 0.7260468417317246\n",
      "Accuracy score correspond to random state  87 is 0.723207948899929\n",
      "Accuracy score correspond to random state  87 is 0.7565649396735273\n",
      "Accuracy score correspond to random state  88 is 0.794180269694819\n",
      "Accuracy score correspond to random state  88 is 0.7913413768630234\n",
      "Accuracy score correspond to random state  88 is 0.7331440738112136\n",
      "Accuracy score correspond to random state  88 is 0.7338537970191625\n",
      "Accuracy score correspond to random state  88 is 0.7622427253371186\n",
      "Accuracy score correspond to random state  89 is 0.8069552874378992\n",
      "Accuracy score correspond to random state  89 is 0.8026969481902059\n",
      "Accuracy score correspond to random state  89 is 0.7224982256919801\n",
      "Accuracy score correspond to random state  89 is 0.7409510290986515\n",
      "Accuracy score correspond to random state  89 is 0.7615330021291696\n",
      "Accuracy score correspond to random state  90 is 0.7906316536550745\n",
      "Accuracy score correspond to random state  90 is 0.794180269694819\n",
      "Accuracy score correspond to random state  90 is 0.7097232079489\n",
      "Accuracy score correspond to random state  90 is 0.7437899219304471\n",
      "Accuracy score correspond to random state  90 is 0.7423704755145494\n",
      "Accuracy score correspond to random state  91 is 0.7913413768630234\n",
      "Accuracy score correspond to random state  91 is 0.7835344215755855\n",
      "Accuracy score correspond to random state  91 is 0.7239176721078779\n",
      "Accuracy score correspond to random state  91 is 0.7338537970191625\n",
      "Accuracy score correspond to random state  91 is 0.7423704755145494\n",
      "Accuracy score correspond to random state  92 is 0.8232789212207239\n",
      "Accuracy score correspond to random state  92 is 0.808374733853797\n",
      "Accuracy score correspond to random state  92 is 0.7040454222853088\n",
      "Accuracy score correspond to random state  92 is 0.7388218594748048\n",
      "Accuracy score correspond to random state  92 is 0.7679205110007097\n",
      "Accuracy score correspond to random state  93 is 0.7806955287437899\n",
      "Accuracy score correspond to random state  93 is 0.78708303761533\n",
      "Accuracy score correspond to random state  93 is 0.709013484740951\n",
      "Accuracy score correspond to random state  93 is 0.7310149041873669\n",
      "Accuracy score correspond to random state  93 is 0.7452093683463449\n",
      "Accuracy score correspond to random state  94 is 0.7899219304471257\n",
      "Accuracy score correspond to random state  94 is 0.7920511000709723\n",
      "Accuracy score correspond to random state  94 is 0.7388218594748048\n",
      "Accuracy score correspond to random state  94 is 0.7381121362668559\n",
      "Accuracy score correspond to random state  94 is 0.7444996451383961\n",
      "Accuracy score correspond to random state  95 is 0.7799858055358411\n",
      "Accuracy score correspond to random state  95 is 0.7735982966643009\n",
      "Accuracy score correspond to random state  95 is 0.7132718239886444\n",
      "Accuracy score correspond to random state  95 is 0.7239176721078779\n",
      "Accuracy score correspond to random state  95 is 0.7430801987224982\n",
      "Accuracy score correspond to random state  96 is 0.7863733144073811\n",
      "Accuracy score correspond to random state  96 is 0.7757274662881476\n",
      "Accuracy score correspond to random state  96 is 0.7189496096522356\n",
      "Accuracy score correspond to random state  96 is 0.730305180979418\n",
      "Accuracy score correspond to random state  96 is 0.7459190915542938\n",
      "Accuracy score correspond to random state  97 is 0.7934705464868701\n",
      "Accuracy score correspond to random state  97 is 0.7863733144073811\n",
      "Accuracy score correspond to random state  97 is 0.7295954577714692\n",
      "Accuracy score correspond to random state  97 is 0.7508871540099361\n",
      "Accuracy score correspond to random state  97 is 0.7395315826827538\n",
      "Accuracy score correspond to random state  98 is 0.8090844570617459\n"
     ]
    },
    {
     "name": "stdout",
     "output_type": "stream",
     "text": [
      "Accuracy score correspond to random state  98 is 0.8076650106458482\n",
      "Accuracy score correspond to random state  98 is 0.7508871540099361\n",
      "Accuracy score correspond to random state  98 is 0.7572746628814763\n",
      "Accuracy score correspond to random state  98 is 0.7551454932576295\n",
      "Accuracy score correspond to random state  99 is 0.7998580553584103\n",
      "Accuracy score correspond to random state  99 is 0.7814052519517388\n",
      "Accuracy score correspond to random state  99 is 0.71611071682044\n",
      "Accuracy score correspond to random state  99 is 0.7260468417317246\n",
      "Accuracy score correspond to random state  99 is 0.7416607523066004\n"
     ]
    }
   ],
   "source": [
    "model = [lr,rfc,dtc,svc,gnb]\n",
    "maxAcc_score = 0\n",
    "for r_state in range(0,100):\n",
    "    x_train, x_test, y_train, y_test = train_test_split(x,y,test_size=.20,random_state = r_state)\n",
    "    for i in model:\n",
    "        i.fit(x_train,y_train)\n",
    "        pred_test = i.predict(x_test)\n",
    "        acc_sc = accuracy_score(y_test,pred_test)\n",
    "        print(\"Accuracy score correspond to random state \",r_state,\"is\",acc_sc)\n",
    "        if acc_sc > maxAcc_score:\n",
    "            maxAcc_score = acc_sc\n",
    "            final_state = r_state\n",
    "            final_model = i"
   ]
  },
  {
   "cell_type": "code",
   "execution_count": 90,
   "id": "610e7fda",
   "metadata": {},
   "outputs": [
    {
     "name": "stdout",
     "output_type": "stream",
     "text": [
      "max Accuracy score correspond to random state  92 is 0.8232789212207239 and model is LogisticRegression()\n"
     ]
    }
   ],
   "source": [
    "print(\"max Accuracy score correspond to random state \",final_state,\"is\",maxAcc_score,\"and model is\",final_model)"
   ]
  },
  {
   "cell_type": "markdown",
   "id": "fab9de71",
   "metadata": {},
   "source": [
    "# Creating train-test split"
   ]
  },
  {
   "cell_type": "code",
   "execution_count": 91,
   "id": "49199f88",
   "metadata": {},
   "outputs": [],
   "source": [
    "x_train, x_test, y_train, y_test = train_test_split(x,y,test_size=.20,random_state = 92)"
   ]
  },
  {
   "cell_type": "code",
   "execution_count": 92,
   "id": "368fc3b0",
   "metadata": {},
   "outputs": [
    {
     "data": {
      "text/html": [
       "<div>\n",
       "<style scoped>\n",
       "    .dataframe tbody tr th:only-of-type {\n",
       "        vertical-align: middle;\n",
       "    }\n",
       "\n",
       "    .dataframe tbody tr th {\n",
       "        vertical-align: top;\n",
       "    }\n",
       "\n",
       "    .dataframe thead th {\n",
       "        text-align: right;\n",
       "    }\n",
       "</style>\n",
       "<table border=\"1\" class=\"dataframe\">\n",
       "  <thead>\n",
       "    <tr style=\"text-align: right;\">\n",
       "      <th></th>\n",
       "      <th>gender</th>\n",
       "      <th>SeniorCitizen</th>\n",
       "      <th>Partner</th>\n",
       "      <th>Dependents</th>\n",
       "      <th>tenure</th>\n",
       "      <th>PhoneService</th>\n",
       "      <th>MultipleLines</th>\n",
       "      <th>InternetService</th>\n",
       "      <th>OnlineSecurity</th>\n",
       "      <th>OnlineBackup</th>\n",
       "      <th>DeviceProtection</th>\n",
       "      <th>TechSupport</th>\n",
       "      <th>StreamingTV</th>\n",
       "      <th>StreamingMovies</th>\n",
       "      <th>Contract</th>\n",
       "      <th>PaperlessBilling</th>\n",
       "      <th>PaymentMethod</th>\n",
       "      <th>MonthlyCharges</th>\n",
       "      <th>TotalCharges</th>\n",
       "    </tr>\n",
       "  </thead>\n",
       "  <tbody>\n",
       "    <tr>\n",
       "      <th>4645</th>\n",
       "      <td>0</td>\n",
       "      <td>0.0</td>\n",
       "      <td>1</td>\n",
       "      <td>0</td>\n",
       "      <td>33</td>\n",
       "      <td>1</td>\n",
       "      <td>2</td>\n",
       "      <td>1</td>\n",
       "      <td>0</td>\n",
       "      <td>2</td>\n",
       "      <td>2</td>\n",
       "      <td>0</td>\n",
       "      <td>2</td>\n",
       "      <td>2</td>\n",
       "      <td>0</td>\n",
       "      <td>1</td>\n",
       "      <td>2</td>\n",
       "      <td>104.40</td>\n",
       "      <td>3409.60</td>\n",
       "    </tr>\n",
       "    <tr>\n",
       "      <th>1712</th>\n",
       "      <td>0</td>\n",
       "      <td>0.0</td>\n",
       "      <td>0</td>\n",
       "      <td>0</td>\n",
       "      <td>29</td>\n",
       "      <td>1</td>\n",
       "      <td>2</td>\n",
       "      <td>0</td>\n",
       "      <td>0</td>\n",
       "      <td>2</td>\n",
       "      <td>0</td>\n",
       "      <td>0</td>\n",
       "      <td>0</td>\n",
       "      <td>0</td>\n",
       "      <td>1</td>\n",
       "      <td>1</td>\n",
       "      <td>2</td>\n",
       "      <td>55.25</td>\n",
       "      <td>1620.20</td>\n",
       "    </tr>\n",
       "    <tr>\n",
       "      <th>6436</th>\n",
       "      <td>0</td>\n",
       "      <td>0.0</td>\n",
       "      <td>0</td>\n",
       "      <td>0</td>\n",
       "      <td>70</td>\n",
       "      <td>1</td>\n",
       "      <td>0</td>\n",
       "      <td>0</td>\n",
       "      <td>2</td>\n",
       "      <td>0</td>\n",
       "      <td>2</td>\n",
       "      <td>2</td>\n",
       "      <td>2</td>\n",
       "      <td>2</td>\n",
       "      <td>2</td>\n",
       "      <td>0</td>\n",
       "      <td>0</td>\n",
       "      <td>79.60</td>\n",
       "      <td>5589.45</td>\n",
       "    </tr>\n",
       "    <tr>\n",
       "      <th>567</th>\n",
       "      <td>1</td>\n",
       "      <td>0.0</td>\n",
       "      <td>1</td>\n",
       "      <td>0</td>\n",
       "      <td>71</td>\n",
       "      <td>1</td>\n",
       "      <td>2</td>\n",
       "      <td>0</td>\n",
       "      <td>2</td>\n",
       "      <td>2</td>\n",
       "      <td>0</td>\n",
       "      <td>2</td>\n",
       "      <td>2</td>\n",
       "      <td>0</td>\n",
       "      <td>2</td>\n",
       "      <td>0</td>\n",
       "      <td>1</td>\n",
       "      <td>73.50</td>\n",
       "      <td>5357.75</td>\n",
       "    </tr>\n",
       "    <tr>\n",
       "      <th>655</th>\n",
       "      <td>1</td>\n",
       "      <td>0.0</td>\n",
       "      <td>0</td>\n",
       "      <td>0</td>\n",
       "      <td>10</td>\n",
       "      <td>1</td>\n",
       "      <td>0</td>\n",
       "      <td>1</td>\n",
       "      <td>0</td>\n",
       "      <td>0</td>\n",
       "      <td>0</td>\n",
       "      <td>2</td>\n",
       "      <td>2</td>\n",
       "      <td>2</td>\n",
       "      <td>0</td>\n",
       "      <td>1</td>\n",
       "      <td>1</td>\n",
       "      <td>95.10</td>\n",
       "      <td>865.10</td>\n",
       "    </tr>\n",
       "    <tr>\n",
       "      <th>...</th>\n",
       "      <td>...</td>\n",
       "      <td>...</td>\n",
       "      <td>...</td>\n",
       "      <td>...</td>\n",
       "      <td>...</td>\n",
       "      <td>...</td>\n",
       "      <td>...</td>\n",
       "      <td>...</td>\n",
       "      <td>...</td>\n",
       "      <td>...</td>\n",
       "      <td>...</td>\n",
       "      <td>...</td>\n",
       "      <td>...</td>\n",
       "      <td>...</td>\n",
       "      <td>...</td>\n",
       "      <td>...</td>\n",
       "      <td>...</td>\n",
       "      <td>...</td>\n",
       "      <td>...</td>\n",
       "    </tr>\n",
       "    <tr>\n",
       "      <th>710</th>\n",
       "      <td>1</td>\n",
       "      <td>0.0</td>\n",
       "      <td>0</td>\n",
       "      <td>0</td>\n",
       "      <td>1</td>\n",
       "      <td>1</td>\n",
       "      <td>0</td>\n",
       "      <td>2</td>\n",
       "      <td>1</td>\n",
       "      <td>1</td>\n",
       "      <td>1</td>\n",
       "      <td>1</td>\n",
       "      <td>1</td>\n",
       "      <td>1</td>\n",
       "      <td>0</td>\n",
       "      <td>0</td>\n",
       "      <td>3</td>\n",
       "      <td>19.55</td>\n",
       "      <td>19.55</td>\n",
       "    </tr>\n",
       "    <tr>\n",
       "      <th>6162</th>\n",
       "      <td>0</td>\n",
       "      <td>1.0</td>\n",
       "      <td>1</td>\n",
       "      <td>0</td>\n",
       "      <td>60</td>\n",
       "      <td>0</td>\n",
       "      <td>1</td>\n",
       "      <td>0</td>\n",
       "      <td>0</td>\n",
       "      <td>2</td>\n",
       "      <td>0</td>\n",
       "      <td>0</td>\n",
       "      <td>2</td>\n",
       "      <td>2</td>\n",
       "      <td>2</td>\n",
       "      <td>1</td>\n",
       "      <td>1</td>\n",
       "      <td>49.45</td>\n",
       "      <td>2907.55</td>\n",
       "    </tr>\n",
       "    <tr>\n",
       "      <th>6979</th>\n",
       "      <td>1</td>\n",
       "      <td>0.0</td>\n",
       "      <td>0</td>\n",
       "      <td>1</td>\n",
       "      <td>1</td>\n",
       "      <td>0</td>\n",
       "      <td>1</td>\n",
       "      <td>0</td>\n",
       "      <td>0</td>\n",
       "      <td>0</td>\n",
       "      <td>0</td>\n",
       "      <td>0</td>\n",
       "      <td>0</td>\n",
       "      <td>0</td>\n",
       "      <td>0</td>\n",
       "      <td>0</td>\n",
       "      <td>3</td>\n",
       "      <td>24.20</td>\n",
       "      <td>24.20</td>\n",
       "    </tr>\n",
       "    <tr>\n",
       "      <th>4138</th>\n",
       "      <td>0</td>\n",
       "      <td>0.0</td>\n",
       "      <td>0</td>\n",
       "      <td>0</td>\n",
       "      <td>1</td>\n",
       "      <td>1</td>\n",
       "      <td>0</td>\n",
       "      <td>1</td>\n",
       "      <td>0</td>\n",
       "      <td>0</td>\n",
       "      <td>2</td>\n",
       "      <td>0</td>\n",
       "      <td>2</td>\n",
       "      <td>0</td>\n",
       "      <td>0</td>\n",
       "      <td>1</td>\n",
       "      <td>2</td>\n",
       "      <td>85.45</td>\n",
       "      <td>85.45</td>\n",
       "    </tr>\n",
       "    <tr>\n",
       "      <th>4218</th>\n",
       "      <td>1</td>\n",
       "      <td>0.0</td>\n",
       "      <td>0</td>\n",
       "      <td>0</td>\n",
       "      <td>7</td>\n",
       "      <td>1</td>\n",
       "      <td>2</td>\n",
       "      <td>2</td>\n",
       "      <td>1</td>\n",
       "      <td>1</td>\n",
       "      <td>1</td>\n",
       "      <td>1</td>\n",
       "      <td>1</td>\n",
       "      <td>1</td>\n",
       "      <td>0</td>\n",
       "      <td>1</td>\n",
       "      <td>0</td>\n",
       "      <td>25.05</td>\n",
       "      <td>152.95</td>\n",
       "    </tr>\n",
       "  </tbody>\n",
       "</table>\n",
       "<p>5634 rows × 19 columns</p>\n",
       "</div>"
      ],
      "text/plain": [
       "      gender  SeniorCitizen  Partner  Dependents  tenure  PhoneService  \\\n",
       "4645       0            0.0        1           0      33             1   \n",
       "1712       0            0.0        0           0      29             1   \n",
       "6436       0            0.0        0           0      70             1   \n",
       "567        1            0.0        1           0      71             1   \n",
       "655        1            0.0        0           0      10             1   \n",
       "...      ...            ...      ...         ...     ...           ...   \n",
       "710        1            0.0        0           0       1             1   \n",
       "6162       0            1.0        1           0      60             0   \n",
       "6979       1            0.0        0           1       1             0   \n",
       "4138       0            0.0        0           0       1             1   \n",
       "4218       1            0.0        0           0       7             1   \n",
       "\n",
       "      MultipleLines  InternetService  OnlineSecurity  OnlineBackup  \\\n",
       "4645              2                1               0             2   \n",
       "1712              2                0               0             2   \n",
       "6436              0                0               2             0   \n",
       "567               2                0               2             2   \n",
       "655               0                1               0             0   \n",
       "...             ...              ...             ...           ...   \n",
       "710               0                2               1             1   \n",
       "6162              1                0               0             2   \n",
       "6979              1                0               0             0   \n",
       "4138              0                1               0             0   \n",
       "4218              2                2               1             1   \n",
       "\n",
       "      DeviceProtection  TechSupport  StreamingTV  StreamingMovies  Contract  \\\n",
       "4645                 2            0            2                2         0   \n",
       "1712                 0            0            0                0         1   \n",
       "6436                 2            2            2                2         2   \n",
       "567                  0            2            2                0         2   \n",
       "655                  0            2            2                2         0   \n",
       "...                ...          ...          ...              ...       ...   \n",
       "710                  1            1            1                1         0   \n",
       "6162                 0            0            2                2         2   \n",
       "6979                 0            0            0                0         0   \n",
       "4138                 2            0            2                0         0   \n",
       "4218                 1            1            1                1         0   \n",
       "\n",
       "      PaperlessBilling  PaymentMethod  MonthlyCharges  TotalCharges  \n",
       "4645                 1              2          104.40       3409.60  \n",
       "1712                 1              2           55.25       1620.20  \n",
       "6436                 0              0           79.60       5589.45  \n",
       "567                  0              1           73.50       5357.75  \n",
       "655                  1              1           95.10        865.10  \n",
       "...                ...            ...             ...           ...  \n",
       "710                  0              3           19.55         19.55  \n",
       "6162                 1              1           49.45       2907.55  \n",
       "6979                 0              3           24.20         24.20  \n",
       "4138                 1              2           85.45         85.45  \n",
       "4218                 1              0           25.05        152.95  \n",
       "\n",
       "[5634 rows x 19 columns]"
      ]
     },
     "execution_count": 92,
     "metadata": {},
     "output_type": "execute_result"
    }
   ],
   "source": [
    "x_train"
   ]
  },
  {
   "cell_type": "code",
   "execution_count": 93,
   "id": "93a509da",
   "metadata": {},
   "outputs": [
    {
     "data": {
      "text/html": [
       "<div>\n",
       "<style scoped>\n",
       "    .dataframe tbody tr th:only-of-type {\n",
       "        vertical-align: middle;\n",
       "    }\n",
       "\n",
       "    .dataframe tbody tr th {\n",
       "        vertical-align: top;\n",
       "    }\n",
       "\n",
       "    .dataframe thead th {\n",
       "        text-align: right;\n",
       "    }\n",
       "</style>\n",
       "<table border=\"1\" class=\"dataframe\">\n",
       "  <thead>\n",
       "    <tr style=\"text-align: right;\">\n",
       "      <th></th>\n",
       "      <th>gender</th>\n",
       "      <th>SeniorCitizen</th>\n",
       "      <th>Partner</th>\n",
       "      <th>Dependents</th>\n",
       "      <th>tenure</th>\n",
       "      <th>PhoneService</th>\n",
       "      <th>MultipleLines</th>\n",
       "      <th>InternetService</th>\n",
       "      <th>OnlineSecurity</th>\n",
       "      <th>OnlineBackup</th>\n",
       "      <th>DeviceProtection</th>\n",
       "      <th>TechSupport</th>\n",
       "      <th>StreamingTV</th>\n",
       "      <th>StreamingMovies</th>\n",
       "      <th>Contract</th>\n",
       "      <th>PaperlessBilling</th>\n",
       "      <th>PaymentMethod</th>\n",
       "      <th>MonthlyCharges</th>\n",
       "      <th>TotalCharges</th>\n",
       "    </tr>\n",
       "  </thead>\n",
       "  <tbody>\n",
       "    <tr>\n",
       "      <th>6059</th>\n",
       "      <td>0</td>\n",
       "      <td>0.0</td>\n",
       "      <td>0</td>\n",
       "      <td>0</td>\n",
       "      <td>39</td>\n",
       "      <td>0</td>\n",
       "      <td>1</td>\n",
       "      <td>0</td>\n",
       "      <td>2</td>\n",
       "      <td>2</td>\n",
       "      <td>0</td>\n",
       "      <td>2</td>\n",
       "      <td>0</td>\n",
       "      <td>0</td>\n",
       "      <td>1</td>\n",
       "      <td>1</td>\n",
       "      <td>0</td>\n",
       "      <td>40.30</td>\n",
       "      <td>1630.40</td>\n",
       "    </tr>\n",
       "    <tr>\n",
       "      <th>2795</th>\n",
       "      <td>0</td>\n",
       "      <td>1.0</td>\n",
       "      <td>0</td>\n",
       "      <td>0</td>\n",
       "      <td>9</td>\n",
       "      <td>1</td>\n",
       "      <td>2</td>\n",
       "      <td>1</td>\n",
       "      <td>0</td>\n",
       "      <td>0</td>\n",
       "      <td>0</td>\n",
       "      <td>0</td>\n",
       "      <td>0</td>\n",
       "      <td>0</td>\n",
       "      <td>0</td>\n",
       "      <td>1</td>\n",
       "      <td>2</td>\n",
       "      <td>74.55</td>\n",
       "      <td>622.90</td>\n",
       "    </tr>\n",
       "    <tr>\n",
       "      <th>958</th>\n",
       "      <td>1</td>\n",
       "      <td>0.0</td>\n",
       "      <td>0</td>\n",
       "      <td>0</td>\n",
       "      <td>25</td>\n",
       "      <td>1</td>\n",
       "      <td>2</td>\n",
       "      <td>0</td>\n",
       "      <td>2</td>\n",
       "      <td>2</td>\n",
       "      <td>2</td>\n",
       "      <td>2</td>\n",
       "      <td>0</td>\n",
       "      <td>2</td>\n",
       "      <td>0</td>\n",
       "      <td>0</td>\n",
       "      <td>0</td>\n",
       "      <td>81.75</td>\n",
       "      <td>2028.80</td>\n",
       "    </tr>\n",
       "    <tr>\n",
       "      <th>1111</th>\n",
       "      <td>0</td>\n",
       "      <td>0.0</td>\n",
       "      <td>0</td>\n",
       "      <td>0</td>\n",
       "      <td>4</td>\n",
       "      <td>1</td>\n",
       "      <td>0</td>\n",
       "      <td>1</td>\n",
       "      <td>2</td>\n",
       "      <td>0</td>\n",
       "      <td>2</td>\n",
       "      <td>2</td>\n",
       "      <td>0</td>\n",
       "      <td>2</td>\n",
       "      <td>0</td>\n",
       "      <td>1</td>\n",
       "      <td>0</td>\n",
       "      <td>94.40</td>\n",
       "      <td>387.20</td>\n",
       "    </tr>\n",
       "    <tr>\n",
       "      <th>2270</th>\n",
       "      <td>0</td>\n",
       "      <td>1.0</td>\n",
       "      <td>0</td>\n",
       "      <td>0</td>\n",
       "      <td>3</td>\n",
       "      <td>1</td>\n",
       "      <td>0</td>\n",
       "      <td>1</td>\n",
       "      <td>0</td>\n",
       "      <td>0</td>\n",
       "      <td>2</td>\n",
       "      <td>0</td>\n",
       "      <td>2</td>\n",
       "      <td>0</td>\n",
       "      <td>0</td>\n",
       "      <td>1</td>\n",
       "      <td>2</td>\n",
       "      <td>86.85</td>\n",
       "      <td>220.95</td>\n",
       "    </tr>\n",
       "    <tr>\n",
       "      <th>...</th>\n",
       "      <td>...</td>\n",
       "      <td>...</td>\n",
       "      <td>...</td>\n",
       "      <td>...</td>\n",
       "      <td>...</td>\n",
       "      <td>...</td>\n",
       "      <td>...</td>\n",
       "      <td>...</td>\n",
       "      <td>...</td>\n",
       "      <td>...</td>\n",
       "      <td>...</td>\n",
       "      <td>...</td>\n",
       "      <td>...</td>\n",
       "      <td>...</td>\n",
       "      <td>...</td>\n",
       "      <td>...</td>\n",
       "      <td>...</td>\n",
       "      <td>...</td>\n",
       "      <td>...</td>\n",
       "    </tr>\n",
       "    <tr>\n",
       "      <th>4195</th>\n",
       "      <td>0</td>\n",
       "      <td>1.0</td>\n",
       "      <td>0</td>\n",
       "      <td>0</td>\n",
       "      <td>45</td>\n",
       "      <td>1</td>\n",
       "      <td>2</td>\n",
       "      <td>0</td>\n",
       "      <td>2</td>\n",
       "      <td>0</td>\n",
       "      <td>0</td>\n",
       "      <td>2</td>\n",
       "      <td>0</td>\n",
       "      <td>2</td>\n",
       "      <td>0</td>\n",
       "      <td>1</td>\n",
       "      <td>2</td>\n",
       "      <td>70.05</td>\n",
       "      <td>3062.45</td>\n",
       "    </tr>\n",
       "    <tr>\n",
       "      <th>6472</th>\n",
       "      <td>0</td>\n",
       "      <td>0.0</td>\n",
       "      <td>1</td>\n",
       "      <td>1</td>\n",
       "      <td>60</td>\n",
       "      <td>1</td>\n",
       "      <td>2</td>\n",
       "      <td>1</td>\n",
       "      <td>2</td>\n",
       "      <td>2</td>\n",
       "      <td>0</td>\n",
       "      <td>0</td>\n",
       "      <td>2</td>\n",
       "      <td>0</td>\n",
       "      <td>1</td>\n",
       "      <td>0</td>\n",
       "      <td>0</td>\n",
       "      <td>94.15</td>\n",
       "      <td>5811.80</td>\n",
       "    </tr>\n",
       "    <tr>\n",
       "      <th>1656</th>\n",
       "      <td>0</td>\n",
       "      <td>0.0</td>\n",
       "      <td>0</td>\n",
       "      <td>0</td>\n",
       "      <td>53</td>\n",
       "      <td>1</td>\n",
       "      <td>2</td>\n",
       "      <td>1</td>\n",
       "      <td>2</td>\n",
       "      <td>2</td>\n",
       "      <td>2</td>\n",
       "      <td>0</td>\n",
       "      <td>0</td>\n",
       "      <td>0</td>\n",
       "      <td>0</td>\n",
       "      <td>0</td>\n",
       "      <td>2</td>\n",
       "      <td>90.80</td>\n",
       "      <td>4921.20</td>\n",
       "    </tr>\n",
       "    <tr>\n",
       "      <th>5252</th>\n",
       "      <td>1</td>\n",
       "      <td>1.0</td>\n",
       "      <td>1</td>\n",
       "      <td>0</td>\n",
       "      <td>71</td>\n",
       "      <td>1</td>\n",
       "      <td>2</td>\n",
       "      <td>1</td>\n",
       "      <td>2</td>\n",
       "      <td>2</td>\n",
       "      <td>2</td>\n",
       "      <td>0</td>\n",
       "      <td>2</td>\n",
       "      <td>2</td>\n",
       "      <td>0</td>\n",
       "      <td>1</td>\n",
       "      <td>2</td>\n",
       "      <td>107.50</td>\n",
       "      <td>7713.55</td>\n",
       "    </tr>\n",
       "    <tr>\n",
       "      <th>2351</th>\n",
       "      <td>0</td>\n",
       "      <td>0.0</td>\n",
       "      <td>0</td>\n",
       "      <td>0</td>\n",
       "      <td>49</td>\n",
       "      <td>1</td>\n",
       "      <td>0</td>\n",
       "      <td>0</td>\n",
       "      <td>2</td>\n",
       "      <td>2</td>\n",
       "      <td>2</td>\n",
       "      <td>2</td>\n",
       "      <td>0</td>\n",
       "      <td>0</td>\n",
       "      <td>2</td>\n",
       "      <td>0</td>\n",
       "      <td>0</td>\n",
       "      <td>67.40</td>\n",
       "      <td>3306.85</td>\n",
       "    </tr>\n",
       "  </tbody>\n",
       "</table>\n",
       "<p>1409 rows × 19 columns</p>\n",
       "</div>"
      ],
      "text/plain": [
       "      gender  SeniorCitizen  Partner  Dependents  tenure  PhoneService  \\\n",
       "6059       0            0.0        0           0      39             0   \n",
       "2795       0            1.0        0           0       9             1   \n",
       "958        1            0.0        0           0      25             1   \n",
       "1111       0            0.0        0           0       4             1   \n",
       "2270       0            1.0        0           0       3             1   \n",
       "...      ...            ...      ...         ...     ...           ...   \n",
       "4195       0            1.0        0           0      45             1   \n",
       "6472       0            0.0        1           1      60             1   \n",
       "1656       0            0.0        0           0      53             1   \n",
       "5252       1            1.0        1           0      71             1   \n",
       "2351       0            0.0        0           0      49             1   \n",
       "\n",
       "      MultipleLines  InternetService  OnlineSecurity  OnlineBackup  \\\n",
       "6059              1                0               2             2   \n",
       "2795              2                1               0             0   \n",
       "958               2                0               2             2   \n",
       "1111              0                1               2             0   \n",
       "2270              0                1               0             0   \n",
       "...             ...              ...             ...           ...   \n",
       "4195              2                0               2             0   \n",
       "6472              2                1               2             2   \n",
       "1656              2                1               2             2   \n",
       "5252              2                1               2             2   \n",
       "2351              0                0               2             2   \n",
       "\n",
       "      DeviceProtection  TechSupport  StreamingTV  StreamingMovies  Contract  \\\n",
       "6059                 0            2            0                0         1   \n",
       "2795                 0            0            0                0         0   \n",
       "958                  2            2            0                2         0   \n",
       "1111                 2            2            0                2         0   \n",
       "2270                 2            0            2                0         0   \n",
       "...                ...          ...          ...              ...       ...   \n",
       "4195                 0            2            0                2         0   \n",
       "6472                 0            0            2                0         1   \n",
       "1656                 2            0            0                0         0   \n",
       "5252                 2            0            2                2         0   \n",
       "2351                 2            2            0                0         2   \n",
       "\n",
       "      PaperlessBilling  PaymentMethod  MonthlyCharges  TotalCharges  \n",
       "6059                 1              0           40.30       1630.40  \n",
       "2795                 1              2           74.55        622.90  \n",
       "958                  0              0           81.75       2028.80  \n",
       "1111                 1              0           94.40        387.20  \n",
       "2270                 1              2           86.85        220.95  \n",
       "...                ...            ...             ...           ...  \n",
       "4195                 1              2           70.05       3062.45  \n",
       "6472                 0              0           94.15       5811.80  \n",
       "1656                 0              2           90.80       4921.20  \n",
       "5252                 1              2          107.50       7713.55  \n",
       "2351                 0              0           67.40       3306.85  \n",
       "\n",
       "[1409 rows x 19 columns]"
      ]
     },
     "execution_count": 93,
     "metadata": {},
     "output_type": "execute_result"
    }
   ],
   "source": [
    "x_test"
   ]
  },
  {
   "cell_type": "code",
   "execution_count": 94,
   "id": "103e25c1",
   "metadata": {},
   "outputs": [
    {
     "data": {
      "text/plain": [
       "4645    1\n",
       "1712    0\n",
       "6436    0\n",
       "567     0\n",
       "655     0\n",
       "       ..\n",
       "710     1\n",
       "6162    0\n",
       "6979    0\n",
       "4138    1\n",
       "4218    0\n",
       "Name: Churn, Length: 5634, dtype: int32"
      ]
     },
     "execution_count": 94,
     "metadata": {},
     "output_type": "execute_result"
    }
   ],
   "source": [
    "y_train"
   ]
  },
  {
   "cell_type": "code",
   "execution_count": 95,
   "id": "eb47daaf",
   "metadata": {},
   "outputs": [
    {
     "data": {
      "text/plain": [
       "6059    0\n",
       "2795    1\n",
       "958     0\n",
       "1111    1\n",
       "2270    1\n",
       "       ..\n",
       "4195    0\n",
       "6472    0\n",
       "1656    0\n",
       "5252    0\n",
       "2351    0\n",
       "Name: Churn, Length: 1409, dtype: int32"
      ]
     },
     "execution_count": 95,
     "metadata": {},
     "output_type": "execute_result"
    }
   ],
   "source": [
    "y_test"
   ]
  },
  {
   "cell_type": "code",
   "execution_count": 96,
   "id": "3e3d62a2",
   "metadata": {},
   "outputs": [
    {
     "name": "stdout",
     "output_type": "stream",
     "text": [
      "(7043, 19) (5634, 19) (1409, 19)\n"
     ]
    }
   ],
   "source": [
    "print(x.shape, x_train.shape, x_test.shape)"
   ]
  },
  {
   "cell_type": "code",
   "execution_count": 97,
   "id": "bc8ef347",
   "metadata": {},
   "outputs": [
    {
     "name": "stdout",
     "output_type": "stream",
     "text": [
      "(7043,) (5634,) (1409,)\n"
     ]
    }
   ],
   "source": [
    "print(y.shape, y_train.shape, y_test.shape)"
   ]
  },
  {
   "cell_type": "markdown",
   "id": "7e322b7b",
   "metadata": {},
   "source": [
    "#### Apply Best Model:"
   ]
  },
  {
   "cell_type": "code",
   "execution_count": 98,
   "id": "641f0423",
   "metadata": {},
   "outputs": [
    {
     "name": "stdout",
     "output_type": "stream",
     "text": [
      "accuracy score is: 0.8232789212207239\n",
      "[[945  96]\n",
      " [153 215]]\n",
      "              precision    recall  f1-score   support\n",
      "\n",
      "           0       0.86      0.91      0.88      1041\n",
      "           1       0.69      0.58      0.63       368\n",
      "\n",
      "    accuracy                           0.82      1409\n",
      "   macro avg       0.78      0.75      0.76      1409\n",
      "weighted avg       0.82      0.82      0.82      1409\n",
      "\n"
     ]
    }
   ],
   "source": [
    "lr.fit(x_train,y_train)\n",
    "pred = lr.predict(x_test)\n",
    "print(\"accuracy score is:\",accuracy_score(y_test,pred))\n",
    "print(confusion_matrix(y_test,pred))\n",
    "print(classification_report(y_test,pred))"
   ]
  },
  {
   "cell_type": "code",
   "execution_count": 99,
   "id": "b04bace7",
   "metadata": {},
   "outputs": [
    {
     "name": "stdout",
     "output_type": "stream",
     "text": [
      "F1 score is:  0.6332842415316642\n"
     ]
    }
   ],
   "source": [
    "from sklearn.metrics import f1_score\n",
    "print('F1 score is: ', f1_score(y_test, pred))"
   ]
  },
  {
   "cell_type": "markdown",
   "id": "b7a8352d",
   "metadata": {},
   "source": [
    "# Cross Validation of the model"
   ]
  },
  {
   "cell_type": "code",
   "execution_count": 100,
   "id": "fee7b2f1",
   "metadata": {},
   "outputs": [
    {
     "name": "stdout",
     "output_type": "stream",
     "text": [
      "At cv:- 2\n",
      "cross validation score is :- 79.93750807397039\n",
      "accuracy_score is :- 82.32789212207238\n",
      "\n",
      "\n",
      "At cv:- 3\n",
      "cross validation score is :- 79.93753186193206\n",
      "accuracy_score is :- 82.32789212207238\n",
      "\n",
      "\n",
      "At cv:- 4\n",
      "cross validation score is :- 80.02280309483247\n",
      "accuracy_score is :- 82.32789212207238\n",
      "\n",
      "\n",
      "At cv:- 5\n",
      "cross validation score is :- 80.06543768952834\n",
      "accuracy_score is :- 82.32789212207238\n",
      "\n",
      "\n",
      "At cv:- 6\n",
      "cross validation score is :- 79.83831263043696\n",
      "accuracy_score is :- 82.32789212207238\n",
      "\n",
      "\n",
      "At cv:- 7\n",
      "cross validation score is :- 80.05114440326405\n",
      "accuracy_score is :- 82.32789212207238\n",
      "\n",
      "\n",
      "At cv:- 8\n",
      "cross validation score is :- 80.03713174594985\n",
      "accuracy_score is :- 82.32789212207238\n",
      "\n",
      "\n",
      "At cv:- 9\n",
      "cross validation score is :- 80.20751788230794\n",
      "accuracy_score is :- 82.32789212207238\n",
      "\n",
      "\n"
     ]
    }
   ],
   "source": [
    "from sklearn.model_selection import cross_val_score\n",
    "lss = accuracy_score(y_test,pred)\n",
    "for i in range(2,10):\n",
    "    lsscore = cross_val_score(lr,x,y,cv=i)\n",
    "    lsc = lsscore.mean()\n",
    "    print(\"At cv:-\",i)\n",
    "    print(\"cross validation score is :-\",lsc*100)\n",
    "    print(\"accuracy_score is :-\",lss*100)\n",
    "    print(\"\\n\")"
   ]
  },
  {
   "cell_type": "code",
   "execution_count": 101,
   "id": "9791653b",
   "metadata": {},
   "outputs": [
    {
     "name": "stdout",
     "output_type": "stream",
     "text": [
      "The cv score is:  0.8020751788230794 \n",
      "The accuracy score is:  0.8232789212207239\n"
     ]
    }
   ],
   "source": [
    "lsscore_selected = cross_val_score(lr,x,y,cv=9).mean()\n",
    "print(\"The cv score is: \",lsscore_selected,\"\\nThe accuracy score is: \",lss)"
   ]
  },
  {
   "cell_type": "markdown",
   "id": "d6b6873a",
   "metadata": {},
   "source": [
    "# Hypertuning of the model:"
   ]
  },
  {
   "cell_type": "code",
   "execution_count": 105,
   "id": "6d985ac6",
   "metadata": {},
   "outputs": [],
   "source": [
    "from sklearn.model_selection import RandomizedSearchCV\n",
    "\n",
    "parameters = [    \n",
    "    {'penalty' : ['l1', 'l2', 'elasticnet', 'none'],\n",
    "    'C' : np.logspace(-4, 4, 20),\n",
    "    'solver' : ['lbfgs','newton-cg','liblinear','sag','saga'],\n",
    "    'max_iter' : [100, 1000,2500, 5000]\n",
    "    }\n",
    "]"
   ]
  },
  {
   "cell_type": "code",
   "execution_count": 107,
   "id": "bd7085a3",
   "metadata": {},
   "outputs": [
    {
     "name": "stdout",
     "output_type": "stream",
     "text": [
      "Fitting 9 folds for each of 10 candidates, totalling 90 fits\n",
      "[CV] END C=1438.44988828766, max_iter=5000, penalty=elasticnet, solver=lbfgs; total time=   0.0s\n",
      "[CV] END C=1438.44988828766, max_iter=5000, penalty=elasticnet, solver=lbfgs; total time=   0.0s\n",
      "[CV] END C=1438.44988828766, max_iter=5000, penalty=elasticnet, solver=lbfgs; total time=   0.0s\n",
      "[CV] END C=1438.44988828766, max_iter=5000, penalty=elasticnet, solver=lbfgs; total time=   0.0s\n",
      "[CV] END C=1438.44988828766, max_iter=5000, penalty=elasticnet, solver=lbfgs; total time=   0.0s\n",
      "[CV] END C=1438.44988828766, max_iter=5000, penalty=elasticnet, solver=lbfgs; total time=   0.0s\n",
      "[CV] END C=1438.44988828766, max_iter=5000, penalty=elasticnet, solver=lbfgs; total time=   0.0s\n",
      "[CV] END C=1438.44988828766, max_iter=5000, penalty=elasticnet, solver=lbfgs; total time=   0.0s\n",
      "[CV] END C=1438.44988828766, max_iter=5000, penalty=elasticnet, solver=lbfgs; total time=   0.0s\n",
      "[CV] END C=545.5594781168514, max_iter=2500, penalty=l1, solver=newton-cg; total time=   0.0s\n",
      "[CV] END C=545.5594781168514, max_iter=2500, penalty=l1, solver=newton-cg; total time=   0.0s\n",
      "[CV] END C=545.5594781168514, max_iter=2500, penalty=l1, solver=newton-cg; total time=   0.0s\n",
      "[CV] END C=545.5594781168514, max_iter=2500, penalty=l1, solver=newton-cg; total time=   0.0s\n",
      "[CV] END C=545.5594781168514, max_iter=2500, penalty=l1, solver=newton-cg; total time=   0.0s\n",
      "[CV] END C=545.5594781168514, max_iter=2500, penalty=l1, solver=newton-cg; total time=   0.0s\n",
      "[CV] END C=545.5594781168514, max_iter=2500, penalty=l1, solver=newton-cg; total time=   0.0s\n",
      "[CV] END C=545.5594781168514, max_iter=2500, penalty=l1, solver=newton-cg; total time=   0.0s\n",
      "[CV] END C=545.5594781168514, max_iter=2500, penalty=l1, solver=newton-cg; total time=   0.0s\n",
      "[CV] END C=10000.0, max_iter=1000, penalty=none, solver=lbfgs; total time=   0.1s\n",
      "[CV] END C=10000.0, max_iter=1000, penalty=none, solver=lbfgs; total time=   0.2s\n",
      "[CV] END C=10000.0, max_iter=1000, penalty=none, solver=lbfgs; total time=   0.4s\n",
      "[CV] END C=10000.0, max_iter=1000, penalty=none, solver=lbfgs; total time=   0.0s\n",
      "[CV] END C=10000.0, max_iter=1000, penalty=none, solver=lbfgs; total time=   0.2s\n",
      "[CV] END C=10000.0, max_iter=1000, penalty=none, solver=lbfgs; total time=   0.1s\n",
      "[CV] END C=10000.0, max_iter=1000, penalty=none, solver=lbfgs; total time=   0.7s\n",
      "[CV] END C=10000.0, max_iter=1000, penalty=none, solver=lbfgs; total time=   0.2s\n",
      "[CV] END C=10000.0, max_iter=1000, penalty=none, solver=lbfgs; total time=   0.0s\n",
      "[CV] END C=0.00026366508987303583, max_iter=1000, penalty=none, solver=sag; total time=   1.6s\n",
      "[CV] END C=0.00026366508987303583, max_iter=1000, penalty=none, solver=sag; total time=   1.8s\n",
      "[CV] END C=0.00026366508987303583, max_iter=1000, penalty=none, solver=sag; total time=   1.7s\n",
      "[CV] END C=0.00026366508987303583, max_iter=1000, penalty=none, solver=sag; total time=   1.5s\n",
      "[CV] END C=0.00026366508987303583, max_iter=1000, penalty=none, solver=sag; total time=   1.7s\n",
      "[CV] END C=0.00026366508987303583, max_iter=1000, penalty=none, solver=sag; total time=   1.9s\n",
      "[CV] END C=0.00026366508987303583, max_iter=1000, penalty=none, solver=sag; total time=   1.7s\n",
      "[CV] END C=0.00026366508987303583, max_iter=1000, penalty=none, solver=sag; total time=   1.4s\n",
      "[CV] END C=0.00026366508987303583, max_iter=1000, penalty=none, solver=sag; total time=   1.4s\n",
      "[CV] END C=0.615848211066026, max_iter=2500, penalty=elasticnet, solver=sag; total time=   0.0s\n",
      "[CV] END C=0.615848211066026, max_iter=2500, penalty=elasticnet, solver=sag; total time=   0.0s\n",
      "[CV] END C=0.615848211066026, max_iter=2500, penalty=elasticnet, solver=sag; total time=   0.0s\n",
      "[CV] END C=0.615848211066026, max_iter=2500, penalty=elasticnet, solver=sag; total time=   0.0s\n",
      "[CV] END C=0.615848211066026, max_iter=2500, penalty=elasticnet, solver=sag; total time=   0.0s\n",
      "[CV] END C=0.615848211066026, max_iter=2500, penalty=elasticnet, solver=sag; total time=   0.0s\n",
      "[CV] END C=0.615848211066026, max_iter=2500, penalty=elasticnet, solver=sag; total time=   0.0s\n",
      "[CV] END C=0.615848211066026, max_iter=2500, penalty=elasticnet, solver=sag; total time=   0.0s\n",
      "[CV] END C=0.615848211066026, max_iter=2500, penalty=elasticnet, solver=sag; total time=   0.0s\n",
      "[CV] END C=3792.690190732246, max_iter=100, penalty=l1, solver=saga; total time=   0.2s\n",
      "[CV] END C=3792.690190732246, max_iter=100, penalty=l1, solver=saga; total time=   0.2s\n",
      "[CV] END C=3792.690190732246, max_iter=100, penalty=l1, solver=saga; total time=   0.2s\n",
      "[CV] END C=3792.690190732246, max_iter=100, penalty=l1, solver=saga; total time=   0.2s\n",
      "[CV] END C=3792.690190732246, max_iter=100, penalty=l1, solver=saga; total time=   0.2s\n",
      "[CV] END C=3792.690190732246, max_iter=100, penalty=l1, solver=saga; total time=   0.2s\n",
      "[CV] END C=3792.690190732246, max_iter=100, penalty=l1, solver=saga; total time=   0.2s\n",
      "[CV] END C=3792.690190732246, max_iter=100, penalty=l1, solver=saga; total time=   0.2s\n",
      "[CV] END C=3792.690190732246, max_iter=100, penalty=l1, solver=saga; total time=   0.2s\n",
      "[CV] END C=0.004832930238571752, max_iter=1000, penalty=l1, solver=sag; total time=   0.0s\n",
      "[CV] END C=0.004832930238571752, max_iter=1000, penalty=l1, solver=sag; total time=   0.0s\n",
      "[CV] END C=0.004832930238571752, max_iter=1000, penalty=l1, solver=sag; total time=   0.0s\n",
      "[CV] END C=0.004832930238571752, max_iter=1000, penalty=l1, solver=sag; total time=   0.0s\n",
      "[CV] END C=0.004832930238571752, max_iter=1000, penalty=l1, solver=sag; total time=   0.0s\n",
      "[CV] END C=0.004832930238571752, max_iter=1000, penalty=l1, solver=sag; total time=   0.0s\n",
      "[CV] END C=0.004832930238571752, max_iter=1000, penalty=l1, solver=sag; total time=   0.0s\n",
      "[CV] END C=0.004832930238571752, max_iter=1000, penalty=l1, solver=sag; total time=   0.0s\n",
      "[CV] END C=0.004832930238571752, max_iter=1000, penalty=l1, solver=sag; total time=   0.0s\n",
      "[CV] END C=0.004832930238571752, max_iter=1000, penalty=elasticnet, solver=sag; total time=   0.0s\n",
      "[CV] END C=0.004832930238571752, max_iter=1000, penalty=elasticnet, solver=sag; total time=   0.0s\n",
      "[CV] END C=0.004832930238571752, max_iter=1000, penalty=elasticnet, solver=sag; total time=   0.0s\n",
      "[CV] END C=0.004832930238571752, max_iter=1000, penalty=elasticnet, solver=sag; total time=   0.0s\n",
      "[CV] END C=0.004832930238571752, max_iter=1000, penalty=elasticnet, solver=sag; total time=   0.0s\n",
      "[CV] END C=0.004832930238571752, max_iter=1000, penalty=elasticnet, solver=sag; total time=   0.0s\n",
      "[CV] END C=0.004832930238571752, max_iter=1000, penalty=elasticnet, solver=sag; total time=   0.0s\n",
      "[CV] END C=0.004832930238571752, max_iter=1000, penalty=elasticnet, solver=sag; total time=   0.0s\n",
      "[CV] END C=0.004832930238571752, max_iter=1000, penalty=elasticnet, solver=sag; total time=   0.0s\n",
      "[CV] END C=0.004832930238571752, max_iter=1000, penalty=elasticnet, solver=liblinear; total time=   0.0s\n",
      "[CV] END C=0.004832930238571752, max_iter=1000, penalty=elasticnet, solver=liblinear; total time=   0.0s\n",
      "[CV] END C=0.004832930238571752, max_iter=1000, penalty=elasticnet, solver=liblinear; total time=   0.0s\n",
      "[CV] END C=0.004832930238571752, max_iter=1000, penalty=elasticnet, solver=liblinear; total time=   0.0s\n",
      "[CV] END C=0.004832930238571752, max_iter=1000, penalty=elasticnet, solver=liblinear; total time=   0.0s\n",
      "[CV] END C=0.004832930238571752, max_iter=1000, penalty=elasticnet, solver=liblinear; total time=   0.0s\n",
      "[CV] END C=0.004832930238571752, max_iter=1000, penalty=elasticnet, solver=liblinear; total time=   0.0s\n",
      "[CV] END C=0.004832930238571752, max_iter=1000, penalty=elasticnet, solver=liblinear; total time=   0.0s\n",
      "[CV] END C=0.004832930238571752, max_iter=1000, penalty=elasticnet, solver=liblinear; total time=   0.0s\n",
      "[CV] END C=11.288378916846883, max_iter=2500, penalty=l2, solver=liblinear; total time=   0.0s\n",
      "[CV] END C=11.288378916846883, max_iter=2500, penalty=l2, solver=liblinear; total time=   0.0s\n",
      "[CV] END C=11.288378916846883, max_iter=2500, penalty=l2, solver=liblinear; total time=   0.0s\n",
      "[CV] END C=11.288378916846883, max_iter=2500, penalty=l2, solver=liblinear; total time=   0.0s\n",
      "[CV] END C=11.288378916846883, max_iter=2500, penalty=l2, solver=liblinear; total time=   0.0s\n",
      "[CV] END C=11.288378916846883, max_iter=2500, penalty=l2, solver=liblinear; total time=   0.0s\n",
      "[CV] END C=11.288378916846883, max_iter=2500, penalty=l2, solver=liblinear; total time=   0.0s\n",
      "[CV] END C=11.288378916846883, max_iter=2500, penalty=l2, solver=liblinear; total time=   0.0s\n"
     ]
    },
    {
     "name": "stdout",
     "output_type": "stream",
     "text": [
      "[CV] END C=11.288378916846883, max_iter=2500, penalty=l2, solver=liblinear; total time=   0.0s\n"
     ]
    },
    {
     "data": {
      "text/plain": [
       "RandomizedSearchCV(cv=9, estimator=LogisticRegression(), n_jobs=1,\n",
       "                   param_distributions=[{'C': array([1.00000000e-04, 2.63665090e-04, 6.95192796e-04, 1.83298071e-03,\n",
       "       4.83293024e-03, 1.27427499e-02, 3.35981829e-02, 8.85866790e-02,\n",
       "       2.33572147e-01, 6.15848211e-01, 1.62377674e+00, 4.28133240e+00,\n",
       "       1.12883789e+01, 2.97635144e+01, 7.84759970e+01, 2.06913808e+02,\n",
       "       5.45559478e+02, 1.43844989e+03, 3.79269019e+03, 1.00000000e+04]),\n",
       "                                         'max_iter': [100, 1000, 2500, 5000],\n",
       "                                         'penalty': ['l1', 'l2', 'elasticnet',\n",
       "                                                     'none'],\n",
       "                                         'solver': ['lbfgs', 'newton-cg',\n",
       "                                                    'liblinear', 'sag',\n",
       "                                                    'saga']}],\n",
       "                   random_state=95, scoring='neg_mean_squared_error',\n",
       "                   verbose=2)"
      ]
     },
     "execution_count": 107,
     "metadata": {},
     "output_type": "execute_result"
    }
   ],
   "source": [
    "lr_random = RandomizedSearchCV(estimator = lr, param_distributions = parameters, scoring='neg_mean_squared_error', n_iter = 10, cv = 9, verbose=2, random_state=95, n_jobs = 1)\n",
    "lr_random.fit(x_train,y_train)"
   ]
  },
  {
   "cell_type": "code",
   "execution_count": 108,
   "id": "d9b42b47",
   "metadata": {},
   "outputs": [
    {
     "data": {
      "text/plain": [
       "{'solver': 'liblinear',\n",
       " 'penalty': 'l2',\n",
       " 'max_iter': 2500,\n",
       " 'C': 11.288378916846883}"
      ]
     },
     "execution_count": 108,
     "metadata": {},
     "output_type": "execute_result"
    }
   ],
   "source": [
    "lr_random.best_params_"
   ]
  },
  {
   "cell_type": "code",
   "execution_count": 110,
   "id": "d7d277a7",
   "metadata": {},
   "outputs": [
    {
     "name": "stdout",
     "output_type": "stream",
     "text": [
      "Accuracy score: 82.11497515968772\n",
      "Cross Val Score is 80.26420703954487\n"
     ]
    }
   ],
   "source": [
    "lr = LogisticRegression(solver='liblinear', penalty='l2', max_iter=2500, C=11.288378916846883)\n",
    "lr.fit(x_train,y_train)\n",
    "lr.score(x_train,y_train)\n",
    "pred_decision = lr.predict(x_test)\n",
    "\n",
    "acc = accuracy_score(y_test,pred_decision)\n",
    "print(\"Accuracy score:\",acc*100)\n",
    "\n",
    "cvscore = cross_val_score(lr,x,y,cv=9)\n",
    "cv = cvscore.mean()\n",
    "print(\"Cross Val Score is\",cv*100)"
   ]
  },
  {
   "cell_type": "markdown",
   "id": "faacd700",
   "metadata": {},
   "source": [
    "# ROC AUC Plot:"
   ]
  },
  {
   "cell_type": "code",
   "execution_count": 113,
   "id": "5fb0da4e",
   "metadata": {},
   "outputs": [
    {
     "data": {
      "image/png": "[encoded data removed]",
      "text/plain": [
       "<Figure size 432x288 with 1 Axes>"
      ]
     },
     "metadata": {
      "needs_background": "light"
     },
     "output_type": "display_data"
    }
   ],
   "source": [
    "from sklearn.metrics import plot_roc_curve\n",
    "plot_roc_curve(lr_random.best_estimator_,x_test,y_test)\n",
    "plt.title(\"ROC AUC Plot\")\n",
    "plt.show()"
   ]
  },
  {
   "cell_type": "code",
   "execution_count": 114,
   "id": "f5ed561e",
   "metadata": {},
   "outputs": [
    {
     "data": {
      "image/png": "[encoded data removed]",
      "text/plain": [
       "<Figure size 432x288 with 1 Axes>"
      ]
     },
     "metadata": {
      "needs_background": "light"
     },
     "output_type": "display_data"
    }
   ],
   "source": [
    "from sklearn.metrics import roc_curve, auc\n",
    "fpr, tpr, threshold = roc_curve(y_test,pred_decision)\n",
    "roc_auc = auc(fpr,tpr)\n",
    "\n",
    "plt.figure()\n",
    "plt.plot(fpr,tpr,color = 'darkorange', lw=10, label='ROC curve (area = %0.2f)' % roc_auc)\n",
    "plt.plot([0,1],[0,1], color='navy', lw=10, linestyle='--')\n",
    "plt.xlim([0.0,1.0])\n",
    "plt.ylim([0.0,1.0])\n",
    "plt.xlabel('False Positive Rate')\n",
    "plt.ylabel('True Positive Rate')\n",
    "plt.title('Receiver operating characteristic')\n",
    "plt.legend(loc='lower right')\n",
    "plt.show()"
   ]
  },
  {
   "cell_type": "markdown",
   "id": "d35cf756",
   "metadata": {},
   "source": [
    "# Model Saving:"
   ]
  },
  {
   "cell_type": "code",
   "execution_count": 115,
   "id": "3f769fc4",
   "metadata": {},
   "outputs": [],
   "source": [
    "import pickle\n",
    "filename = 'customer_churn.pkl'\n",
    "pickle.dump(lr,open(filename,'wb'))"
   ]
  },
  {
   "cell_type": "markdown",
   "id": "4dce0fa3",
   "metadata": {},
   "source": [
    "# Conclusion:"
   ]
  },
  {
   "cell_type": "code",
   "execution_count": 116,
   "id": "aeff4b66",
   "metadata": {},
   "outputs": [
    {
     "data": {
      "text/html": [
       "<div>\n",
       "<style scoped>\n",
       "    .dataframe tbody tr th:only-of-type {\n",
       "        vertical-align: middle;\n",
       "    }\n",
       "\n",
       "    .dataframe tbody tr th {\n",
       "        vertical-align: top;\n",
       "    }\n",
       "\n",
       "    .dataframe thead th {\n",
       "        text-align: right;\n",
       "    }\n",
       "</style>\n",
       "<table border=\"1\" class=\"dataframe\">\n",
       "  <thead>\n",
       "    <tr style=\"text-align: right;\">\n",
       "      <th></th>\n",
       "      <th>original</th>\n",
       "      <th>predicted</th>\n",
       "    </tr>\n",
       "  </thead>\n",
       "  <tbody>\n",
       "    <tr>\n",
       "      <th>0</th>\n",
       "      <td>0</td>\n",
       "      <td>0</td>\n",
       "    </tr>\n",
       "    <tr>\n",
       "      <th>1</th>\n",
       "      <td>1</td>\n",
       "      <td>1</td>\n",
       "    </tr>\n",
       "    <tr>\n",
       "      <th>2</th>\n",
       "      <td>0</td>\n",
       "      <td>0</td>\n",
       "    </tr>\n",
       "    <tr>\n",
       "      <th>3</th>\n",
       "      <td>1</td>\n",
       "      <td>0</td>\n",
       "    </tr>\n",
       "    <tr>\n",
       "      <th>4</th>\n",
       "      <td>1</td>\n",
       "      <td>1</td>\n",
       "    </tr>\n",
       "    <tr>\n",
       "      <th>...</th>\n",
       "      <td>...</td>\n",
       "      <td>...</td>\n",
       "    </tr>\n",
       "    <tr>\n",
       "      <th>1404</th>\n",
       "      <td>0</td>\n",
       "      <td>0</td>\n",
       "    </tr>\n",
       "    <tr>\n",
       "      <th>1405</th>\n",
       "      <td>0</td>\n",
       "      <td>0</td>\n",
       "    </tr>\n",
       "    <tr>\n",
       "      <th>1406</th>\n",
       "      <td>0</td>\n",
       "      <td>0</td>\n",
       "    </tr>\n",
       "    <tr>\n",
       "      <th>1407</th>\n",
       "      <td>0</td>\n",
       "      <td>0</td>\n",
       "    </tr>\n",
       "    <tr>\n",
       "      <th>1408</th>\n",
       "      <td>0</td>\n",
       "      <td>0</td>\n",
       "    </tr>\n",
       "  </tbody>\n",
       "</table>\n",
       "<p>1409 rows × 2 columns</p>\n",
       "</div>"
      ],
      "text/plain": [
       "      original  predicted\n",
       "0            0          0\n",
       "1            1          1\n",
       "2            0          0\n",
       "3            1          0\n",
       "4            1          1\n",
       "...        ...        ...\n",
       "1404         0          0\n",
       "1405         0          0\n",
       "1406         0          0\n",
       "1407         0          0\n",
       "1408         0          0\n",
       "\n",
       "[1409 rows x 2 columns]"
      ]
     },
     "execution_count": 116,
     "metadata": {},
     "output_type": "execute_result"
    }
   ],
   "source": [
    "import numpy as np\n",
    "a = np.array(y_test)\n",
    "#predicted = np.array(ls.predict(x_test))\n",
    "df_comp = pd.DataFrame({'original':a,'predicted':pred_decision},index=range(len(a)))\n",
    "df_comp"
   ]
  }
 ],
 "metadata": {
  "kernelspec": {
   "display_name": "Python 3 (ipykernel)",
   "language": "python",
   "name": "python3"
  },
  "language_info": {
   "codemirror_mode": {
    "name": "ipython",
    "version": 3
   },
   "file_extension": ".py",
   "mimetype": "text/x-python",
   "name": "python",
   "nbconvert_exporter": "python",
   "pygments_lexer": "ipython3",
   "version": "3.9.7"
  },
  "varInspector": {
   "cols": {
    "lenName": 16,
    "lenType": 16,
    "lenVar": 40
   },
   "kernels_config": {
    "python": {
     "delete_cmd_postfix": "",
     "delete_cmd_prefix": "del ",
     "library": "var_list.py",
     "varRefreshCmd": "print(var_dic_list())"
    },
    "r": {
     "delete_cmd_postfix": ") ",
     "delete_cmd_prefix": "rm(",
     "library": "var_list.r",
     "varRefreshCmd": "cat(var_dic_list()) "
    }
   },
   "types_to_exclude": [
    "module",
    "function",
    "builtin_function_or_method",
    "instance",
    "_Feature"
   ],
   "window_display": false
  }
 },
 "nbformat": 4,
 "nbformat_minor": 5
}
