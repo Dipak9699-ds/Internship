{
 "cells": [
  {
   "cell_type": "markdown",
   "id": "9a18c936",
   "metadata": {},
   "source": [
    "# Importing required libraries."
   ]
  },
  {
   "cell_type": "code",
   "execution_count": 1,
   "id": "75a73744",
   "metadata": {},
   "outputs": [],
   "source": [
    "import numpy as np\n",
    "import matplotlib.pyplot as plt\n",
    "import seaborn as sns\n",
    "import warnings\n",
    "warnings.filterwarnings('ignore')"
   ]
  },
  {
   "cell_type": "markdown",
   "id": "29827f07",
   "metadata": {},
   "source": [
    "# Load the dataset."
   ]
  },
  {
   "cell_type": "code",
   "execution_count": 2,
   "id": "a6c119e7",
   "metadata": {},
   "outputs": [
    {
     "data": {
      "text/html": [
       "<div>\n",
       "<style scoped>\n",
       "    .dataframe tbody tr th:only-of-type {\n",
       "        vertical-align: middle;\n",
       "    }\n",
       "\n",
       "    .dataframe tbody tr th {\n",
       "        vertical-align: top;\n",
       "    }\n",
       "\n",
       "    .dataframe thead th {\n",
       "        text-align: right;\n",
       "    }\n",
       "</style>\n",
       "<table border=\"1\" class=\"dataframe\">\n",
       "  <thead>\n",
       "    <tr style=\"text-align: right;\">\n",
       "      <th></th>\n",
       "      <th>Airline_name</th>\n",
       "      <th>Date_of_Journey</th>\n",
       "      <th>Source</th>\n",
       "      <th>Destination</th>\n",
       "      <th>Departure_time</th>\n",
       "      <th>Arrival_time</th>\n",
       "      <th>Duration</th>\n",
       "      <th>Total_stops</th>\n",
       "      <th>Price</th>\n",
       "    </tr>\n",
       "  </thead>\n",
       "  <tbody>\n",
       "    <tr>\n",
       "      <th>0</th>\n",
       "      <td>Jet Airways</td>\n",
       "      <td>9/05/2022</td>\n",
       "      <td>Kolkata</td>\n",
       "      <td>Banglore</td>\n",
       "      <td>09:35</td>\n",
       "      <td>10:55:00</td>\n",
       "      <td>25h 20m</td>\n",
       "      <td>1 stop</td>\n",
       "      <td>10953</td>\n",
       "    </tr>\n",
       "    <tr>\n",
       "      <th>1</th>\n",
       "      <td>SpiceJet</td>\n",
       "      <td>3/04/2022</td>\n",
       "      <td>Kolkata</td>\n",
       "      <td>Banglore</td>\n",
       "      <td>17:10</td>\n",
       "      <td>19:40:00</td>\n",
       "      <td>2h 30m</td>\n",
       "      <td>non-stop</td>\n",
       "      <td>3841</td>\n",
       "    </tr>\n",
       "    <tr>\n",
       "      <th>2</th>\n",
       "      <td>IndiGo</td>\n",
       "      <td>1/06/2022</td>\n",
       "      <td>Delhi</td>\n",
       "      <td>Cochin</td>\n",
       "      <td>05:10</td>\n",
       "      <td>10:05:00</td>\n",
       "      <td>4h 55m</td>\n",
       "      <td>1 stop</td>\n",
       "      <td>6842</td>\n",
       "    </tr>\n",
       "    <tr>\n",
       "      <th>3</th>\n",
       "      <td>Jet Airways</td>\n",
       "      <td>27/05/2022</td>\n",
       "      <td>Delhi</td>\n",
       "      <td>Cochin</td>\n",
       "      <td>09:00</td>\n",
       "      <td>12:35:00</td>\n",
       "      <td>27h 35m</td>\n",
       "      <td>1 stop</td>\n",
       "      <td>12898</td>\n",
       "    </tr>\n",
       "    <tr>\n",
       "      <th>4</th>\n",
       "      <td>Vistara</td>\n",
       "      <td>7/09/2022</td>\n",
       "      <td>Mumbai</td>\n",
       "      <td>Bangalore</td>\n",
       "      <td>17:35</td>\n",
       "      <td>09:00</td>\n",
       "      <td>15h 25m</td>\n",
       "      <td>1 stop</td>\n",
       "      <td>9280</td>\n",
       "    </tr>\n",
       "    <tr>\n",
       "      <th>...</th>\n",
       "      <td>...</td>\n",
       "      <td>...</td>\n",
       "      <td>...</td>\n",
       "      <td>...</td>\n",
       "      <td>...</td>\n",
       "      <td>...</td>\n",
       "      <td>...</td>\n",
       "      <td>...</td>\n",
       "      <td>...</td>\n",
       "    </tr>\n",
       "    <tr>\n",
       "      <th>1530</th>\n",
       "      <td>SpiceJet</td>\n",
       "      <td>21/03/2022</td>\n",
       "      <td>Banglore</td>\n",
       "      <td>New Delhi</td>\n",
       "      <td>10:20</td>\n",
       "      <td>18:15:00</td>\n",
       "      <td>7h 55m</td>\n",
       "      <td>1 stop</td>\n",
       "      <td>7139</td>\n",
       "    </tr>\n",
       "    <tr>\n",
       "      <th>1531</th>\n",
       "      <td>Jet Airways</td>\n",
       "      <td>27/04/2022</td>\n",
       "      <td>Banglore</td>\n",
       "      <td>Delhi</td>\n",
       "      <td>06:00</td>\n",
       "      <td>08:45:00</td>\n",
       "      <td>2h 45m</td>\n",
       "      <td>non-stop</td>\n",
       "      <td>4544</td>\n",
       "    </tr>\n",
       "    <tr>\n",
       "      <th>1532</th>\n",
       "      <td>IndiGo</td>\n",
       "      <td>10/11/2022</td>\n",
       "      <td>Pune</td>\n",
       "      <td>Bangalore</td>\n",
       "      <td>22:20</td>\n",
       "      <td>23:55</td>\n",
       "      <td>1h 35m</td>\n",
       "      <td>non-stop</td>\n",
       "      <td>5418</td>\n",
       "    </tr>\n",
       "    <tr>\n",
       "      <th>1533</th>\n",
       "      <td>IndiGo</td>\n",
       "      <td>18/05/2022</td>\n",
       "      <td>Delhi</td>\n",
       "      <td>Cochin</td>\n",
       "      <td>08:35</td>\n",
       "      <td>16:10:00</td>\n",
       "      <td>7h 35m</td>\n",
       "      <td>1 stop</td>\n",
       "      <td>6442</td>\n",
       "    </tr>\n",
       "    <tr>\n",
       "      <th>1534</th>\n",
       "      <td>Air India</td>\n",
       "      <td>3/06/2022</td>\n",
       "      <td>Delhi</td>\n",
       "      <td>Cochin</td>\n",
       "      <td>03:50</td>\n",
       "      <td>19:15:00</td>\n",
       "      <td>15h 25m</td>\n",
       "      <td>1 stop</td>\n",
       "      <td>8669</td>\n",
       "    </tr>\n",
       "  </tbody>\n",
       "</table>\n",
       "<p>1535 rows × 9 columns</p>\n",
       "</div>"
      ],
      "text/plain": [
       "     Airline_name Date_of_Journey    Source Destination Departure_time  \\\n",
       "0     Jet Airways       9/05/2022   Kolkata    Banglore          09:35   \n",
       "1        SpiceJet       3/04/2022   Kolkata    Banglore          17:10   \n",
       "2          IndiGo       1/06/2022     Delhi      Cochin          05:10   \n",
       "3     Jet Airways      27/05/2022     Delhi      Cochin          09:00   \n",
       "4         Vistara       7/09/2022   Mumbai    Bangalore          17:35   \n",
       "...           ...             ...       ...         ...            ...   \n",
       "1530     SpiceJet      21/03/2022  Banglore   New Delhi          10:20   \n",
       "1531  Jet Airways      27/04/2022  Banglore       Delhi          06:00   \n",
       "1532       IndiGo      10/11/2022     Pune    Bangalore          22:20   \n",
       "1533       IndiGo      18/05/2022     Delhi      Cochin          08:35   \n",
       "1534    Air India       3/06/2022     Delhi      Cochin          03:50   \n",
       "\n",
       "     Arrival_time Duration Total_stops  Price  \n",
       "0        10:55:00  25h 20m      1 stop  10953  \n",
       "1        19:40:00   2h 30m    non-stop   3841  \n",
       "2        10:05:00   4h 55m      1 stop   6842  \n",
       "3        12:35:00  27h 35m      1 stop  12898  \n",
       "4           09:00  15h 25m      1 stop   9280  \n",
       "...           ...      ...         ...    ...  \n",
       "1530     18:15:00   7h 55m      1 stop   7139  \n",
       "1531     08:45:00   2h 45m    non-stop   4544  \n",
       "1532        23:55   1h 35m    non-stop   5418  \n",
       "1533     16:10:00   7h 35m      1 stop   6442  \n",
       "1534     19:15:00  15h 25m      1 stop   8669  \n",
       "\n",
       "[1535 rows x 9 columns]"
      ]
     },
     "execution_count": 2,
     "metadata": {},
     "output_type": "execute_result"
    }
   ],
   "source": [
    "import pandas as pd\n",
    "df = pd.read_excel(r'flight_data_final.xlsx')\n",
    "df"
   ]
  },
  {
   "cell_type": "code",
   "execution_count": 3,
   "id": "1b45783b",
   "metadata": {},
   "outputs": [
    {
     "data": {
      "text/plain": [
       "(1535, 9)"
      ]
     },
     "execution_count": 3,
     "metadata": {},
     "output_type": "execute_result"
    }
   ],
   "source": [
    "# Get the numbers of rows and columns.\n",
    "df.shape"
   ]
  },
  {
   "cell_type": "code",
   "execution_count": 4,
   "id": "0fe2fcc1",
   "metadata": {},
   "outputs": [
    {
     "data": {
      "text/plain": [
       "Index(['Airline_name', 'Date_of_Journey', 'Source', 'Destination',\n",
       "       'Departure_time', 'Arrival_time', 'Duration', 'Total_stops', 'Price'],\n",
       "      dtype='object')"
      ]
     },
     "execution_count": 4,
     "metadata": {},
     "output_type": "execute_result"
    }
   ],
   "source": [
    "# Check column of the dataframe.\n",
    "df.columns"
   ]
  },
  {
   "cell_type": "code",
   "execution_count": 5,
   "id": "e08de2d8",
   "metadata": {},
   "outputs": [
    {
     "data": {
      "text/plain": [
       "Airline_name       object\n",
       "Date_of_Journey    object\n",
       "Source             object\n",
       "Destination        object\n",
       "Departure_time     object\n",
       "Arrival_time       object\n",
       "Duration           object\n",
       "Total_stops        object\n",
       "Price               int64\n",
       "dtype: object"
      ]
     },
     "execution_count": 5,
     "metadata": {},
     "output_type": "execute_result"
    }
   ],
   "source": [
    "# Get the column datatypes.\n",
    "df.dtypes"
   ]
  },
  {
   "cell_type": "code",
   "execution_count": 6,
   "id": "195dad1d",
   "metadata": {},
   "outputs": [
    {
     "name": "stdout",
     "output_type": "stream",
     "text": [
      "<class 'pandas.core.frame.DataFrame'>\n",
      "RangeIndex: 1535 entries, 0 to 1534\n",
      "Data columns (total 9 columns):\n",
      " #   Column           Non-Null Count  Dtype \n",
      "---  ------           --------------  ----- \n",
      " 0   Airline_name     1535 non-null   object\n",
      " 1   Date_of_Journey  1535 non-null   object\n",
      " 2   Source           1535 non-null   object\n",
      " 3   Destination      1535 non-null   object\n",
      " 4   Departure_time   1535 non-null   object\n",
      " 5   Arrival_time     1535 non-null   object\n",
      " 6   Duration         1535 non-null   object\n",
      " 7   Total_stops      1535 non-null   object\n",
      " 8   Price            1535 non-null   int64 \n",
      "dtypes: int64(1), object(8)\n",
      "memory usage: 108.1+ KB\n"
     ]
    }
   ],
   "source": [
    "# Basic information about dataset.\n",
    "df.info()"
   ]
  },
  {
   "cell_type": "code",
   "execution_count": 7,
   "id": "6de3d685",
   "metadata": {},
   "outputs": [
    {
     "data": {
      "text/plain": [
       "Airline_name       0\n",
       "Date_of_Journey    0\n",
       "Source             0\n",
       "Destination        0\n",
       "Departure_time     0\n",
       "Arrival_time       0\n",
       "Duration           0\n",
       "Total_stops        0\n",
       "Price              0\n",
       "dtype: int64"
      ]
     },
     "execution_count": 7,
     "metadata": {},
     "output_type": "execute_result"
    }
   ],
   "source": [
    "# Get a count of the empty values for each column.\n",
    "df.isna().sum()"
   ]
  },
  {
   "cell_type": "code",
   "execution_count": 8,
   "id": "e6a728b1",
   "metadata": {},
   "outputs": [
    {
     "data": {
      "text/plain": [
       "False"
      ]
     },
     "execution_count": 8,
     "metadata": {},
     "output_type": "execute_result"
    }
   ],
   "source": [
    "# Check any missing/null values in the dataset.\n",
    "df.isnull().values.any()"
   ]
  },
  {
   "cell_type": "code",
   "execution_count": 9,
   "id": "f96b641b",
   "metadata": {},
   "outputs": [
    {
     "data": {
      "text/plain": [
       "<AxesSubplot:>"
      ]
     },
     "execution_count": 9,
     "metadata": {},
     "output_type": "execute_result"
    },
    {
     "data": {
      "image/png": "[encoded data removed]",
      "text/plain": [
       "<Figure size 432x288 with 2 Axes>"
      ]
     },
     "metadata": {
      "needs_background": "light"
     },
     "output_type": "display_data"
    }
   ],
   "source": [
    "#Checking for null values using heatmap.\n",
    "sns.heatmap(df.isnull())"
   ]
  },
  {
   "cell_type": "code",
   "execution_count": 12,
   "id": "4d824052",
   "metadata": {},
   "outputs": [
    {
     "data": {
      "text/html": [
       "<div>\n",
       "<style scoped>\n",
       "    .dataframe tbody tr th:only-of-type {\n",
       "        vertical-align: middle;\n",
       "    }\n",
       "\n",
       "    .dataframe tbody tr th {\n",
       "        vertical-align: top;\n",
       "    }\n",
       "\n",
       "    .dataframe thead th {\n",
       "        text-align: right;\n",
       "    }\n",
       "</style>\n",
       "<table border=\"1\" class=\"dataframe\">\n",
       "  <thead>\n",
       "    <tr style=\"text-align: right;\">\n",
       "      <th></th>\n",
       "      <th>Airline_name</th>\n",
       "      <th>Date_of_Journey</th>\n",
       "      <th>Source</th>\n",
       "      <th>Destination</th>\n",
       "      <th>Departure_time</th>\n",
       "      <th>Arrival_time</th>\n",
       "      <th>Duration</th>\n",
       "      <th>Total_stops</th>\n",
       "      <th>Price</th>\n",
       "    </tr>\n",
       "  </thead>\n",
       "  <tbody>\n",
       "    <tr>\n",
       "      <th>1063</th>\n",
       "      <td>Air India</td>\n",
       "      <td>21/05/2022</td>\n",
       "      <td>Delhi</td>\n",
       "      <td>Cochin</td>\n",
       "      <td>22:00</td>\n",
       "      <td>19:15:00</td>\n",
       "      <td>21h 15m</td>\n",
       "      <td>2 stops</td>\n",
       "      <td>10231</td>\n",
       "    </tr>\n",
       "    <tr>\n",
       "      <th>1429</th>\n",
       "      <td>Jet Airways</td>\n",
       "      <td>1/06/2022</td>\n",
       "      <td>Delhi</td>\n",
       "      <td>Cochin</td>\n",
       "      <td>14:35</td>\n",
       "      <td>04:25:00</td>\n",
       "      <td>13h 50m</td>\n",
       "      <td>2 stops</td>\n",
       "      <td>13376</td>\n",
       "    </tr>\n",
       "  </tbody>\n",
       "</table>\n",
       "</div>"
      ],
      "text/plain": [
       "     Airline_name Date_of_Journey Source Destination Departure_time  \\\n",
       "1063    Air India      21/05/2022  Delhi      Cochin          22:00   \n",
       "1429  Jet Airways       1/06/2022  Delhi      Cochin          14:35   \n",
       "\n",
       "     Arrival_time Duration Total_stops  Price  \n",
       "1063     19:15:00  21h 15m     2 stops  10231  \n",
       "1429     04:25:00  13h 50m     2 stops  13376  "
      ]
     },
     "execution_count": 12,
     "metadata": {},
     "output_type": "execute_result"
    }
   ],
   "source": [
    "# Checking Duplicate values of dataset:\n",
    "df[df.duplicated()]"
   ]
  },
  {
   "cell_type": "code",
   "execution_count": 13,
   "id": "e4f686ad",
   "metadata": {},
   "outputs": [
    {
     "data": {
      "text/html": [
       "<div>\n",
       "<style scoped>\n",
       "    .dataframe tbody tr th:only-of-type {\n",
       "        vertical-align: middle;\n",
       "    }\n",
       "\n",
       "    .dataframe tbody tr th {\n",
       "        vertical-align: top;\n",
       "    }\n",
       "\n",
       "    .dataframe thead th {\n",
       "        text-align: right;\n",
       "    }\n",
       "</style>\n",
       "<table border=\"1\" class=\"dataframe\">\n",
       "  <thead>\n",
       "    <tr style=\"text-align: right;\">\n",
       "      <th></th>\n",
       "      <th>Airline_name</th>\n",
       "      <th>Date_of_Journey</th>\n",
       "      <th>Source</th>\n",
       "      <th>Destination</th>\n",
       "      <th>Departure_time</th>\n",
       "      <th>Arrival_time</th>\n",
       "      <th>Duration</th>\n",
       "      <th>Total_stops</th>\n",
       "      <th>Price</th>\n",
       "    </tr>\n",
       "  </thead>\n",
       "  <tbody>\n",
       "    <tr>\n",
       "      <th>0</th>\n",
       "      <td>Jet Airways</td>\n",
       "      <td>9/05/2022</td>\n",
       "      <td>Kolkata</td>\n",
       "      <td>Banglore</td>\n",
       "      <td>09:35</td>\n",
       "      <td>10:55:00</td>\n",
       "      <td>25h 20m</td>\n",
       "      <td>1 stop</td>\n",
       "      <td>10953</td>\n",
       "    </tr>\n",
       "    <tr>\n",
       "      <th>1</th>\n",
       "      <td>SpiceJet</td>\n",
       "      <td>3/04/2022</td>\n",
       "      <td>Kolkata</td>\n",
       "      <td>Banglore</td>\n",
       "      <td>17:10</td>\n",
       "      <td>19:40:00</td>\n",
       "      <td>2h 30m</td>\n",
       "      <td>non-stop</td>\n",
       "      <td>3841</td>\n",
       "    </tr>\n",
       "    <tr>\n",
       "      <th>2</th>\n",
       "      <td>IndiGo</td>\n",
       "      <td>1/06/2022</td>\n",
       "      <td>Delhi</td>\n",
       "      <td>Cochin</td>\n",
       "      <td>05:10</td>\n",
       "      <td>10:05:00</td>\n",
       "      <td>4h 55m</td>\n",
       "      <td>1 stop</td>\n",
       "      <td>6842</td>\n",
       "    </tr>\n",
       "    <tr>\n",
       "      <th>3</th>\n",
       "      <td>Jet Airways</td>\n",
       "      <td>27/05/2022</td>\n",
       "      <td>Delhi</td>\n",
       "      <td>Cochin</td>\n",
       "      <td>09:00</td>\n",
       "      <td>12:35:00</td>\n",
       "      <td>27h 35m</td>\n",
       "      <td>1 stop</td>\n",
       "      <td>12898</td>\n",
       "    </tr>\n",
       "    <tr>\n",
       "      <th>4</th>\n",
       "      <td>Vistara</td>\n",
       "      <td>7/09/2022</td>\n",
       "      <td>Mumbai</td>\n",
       "      <td>Bangalore</td>\n",
       "      <td>17:35</td>\n",
       "      <td>09:00</td>\n",
       "      <td>15h 25m</td>\n",
       "      <td>1 stop</td>\n",
       "      <td>9280</td>\n",
       "    </tr>\n",
       "  </tbody>\n",
       "</table>\n",
       "</div>"
      ],
      "text/plain": [
       "  Airline_name Date_of_Journey   Source Destination Departure_time  \\\n",
       "0  Jet Airways       9/05/2022  Kolkata    Banglore          09:35   \n",
       "1     SpiceJet       3/04/2022  Kolkata    Banglore          17:10   \n",
       "2       IndiGo       1/06/2022    Delhi      Cochin          05:10   \n",
       "3  Jet Airways      27/05/2022    Delhi      Cochin          09:00   \n",
       "4      Vistara       7/09/2022  Mumbai    Bangalore          17:35   \n",
       "\n",
       "  Arrival_time Duration Total_stops  Price  \n",
       "0     10:55:00  25h 20m      1 stop  10953  \n",
       "1     19:40:00   2h 30m    non-stop   3841  \n",
       "2     10:05:00   4h 55m      1 stop   6842  \n",
       "3     12:35:00  27h 35m      1 stop  12898  \n",
       "4        09:00  15h 25m      1 stop   9280  "
      ]
     },
     "execution_count": 13,
     "metadata": {},
     "output_type": "execute_result"
    }
   ],
   "source": [
    "# Drop duplicate values.\n",
    "df.drop_duplicates(keep='first',inplace=True)\n",
    "df.head()"
   ]
  },
  {
   "cell_type": "code",
   "execution_count": 15,
   "id": "c5d7eaab",
   "metadata": {},
   "outputs": [
    {
     "name": "stdout",
     "output_type": "stream",
     "text": [
      "Airline_name : ['Jet Airways' 'SpiceJet' 'IndiGo' 'Vistara' 'GoAir' 'Multiple carriers'\n",
      " 'Air India' 'Air Asia' 'GO FIRST' 'Vistara Premium economy'\n",
      " 'Multiple carriers Premium economy' 'Jet Airways Business']\n",
      "Jet Airways                          423\n",
      "IndiGo                               293\n",
      "Air India                            261\n",
      "Vistara                              237\n",
      "Multiple carriers                    140\n",
      "SpiceJet                             100\n",
      "Air Asia                              46\n",
      "GoAir                                 22\n",
      "GO FIRST                               8\n",
      "Vistara Premium economy                1\n",
      "Multiple carriers Premium economy      1\n",
      "Jet Airways Business                   1\n",
      "Name: Airline_name, dtype: int64\n",
      "____________________________________________\n",
      "Date_of_Journey : ['9/05/2022' '3/04/2022' '1/06/2022' '27/05/2022' '7/09/2022' '27/06/2022'\n",
      " '1/05/2022' '24/03/2022' '21/05/2022' '6/06/2022' '9/06/2022' '3/03/2022'\n",
      " '6/04/2022' '11/08/2022' '15/06/2022' '12/04/2022' '15/04/2022'\n",
      " '12/05/2022' '18/05/2022' '9/04/2022' '21/03/2022' '12/06/2022'\n",
      " '3/05/2022' '18/03/2022' '24/05/2022' '10/11/2022' '24/06/2022'\n",
      " '6/03/2022' '03/03/2022' '27/04/2022' '12/03/2022' '3/06/2022'\n",
      " '9/03/2022' '2/10/2022' '15/05/2022' '15/03/2022' '27/03/2022'\n",
      " '6/05/2022' '24/04/2022' '18/04/2022' '20/09/2022' '21/06/2022'\n",
      " '06/03/2022' '1/04/2022' '01/03/2022' '09/03/2022' '1/03/2022'\n",
      " '21/04/2022' '18/06/2022']\n",
      "7/09/2022     196\n",
      "11/08/2022     71\n",
      "18/05/2022     62\n",
      "21/05/2022     56\n",
      "6/06/2022      55\n",
      "21/03/2022     53\n",
      "9/05/2022      52\n",
      "12/06/2022     47\n",
      "1/06/2022      47\n",
      "10/11/2022     44\n",
      "27/05/2022     44\n",
      "9/06/2022      43\n",
      "15/05/2022     42\n",
      "15/06/2022     40\n",
      "24/03/2022     38\n",
      "27/06/2022     38\n",
      "6/03/2022      37\n",
      "24/06/2022     37\n",
      "3/03/2022      34\n",
      "12/05/2022     33\n",
      "3/06/2022      33\n",
      "6/05/2022      33\n",
      "27/03/2022     28\n",
      "24/05/2022     27\n",
      "1/05/2022      27\n",
      "3/04/2022      19\n",
      "9/03/2022      19\n",
      "15/03/2022     19\n",
      "9/04/2022      18\n",
      "01/03/2022     18\n",
      "18/03/2022     16\n",
      "12/03/2022     15\n",
      "1/04/2022      15\n",
      "21/04/2022     14\n",
      "09/03/2022     14\n",
      "24/04/2022     14\n",
      "2/10/2022      13\n",
      "21/06/2022     13\n",
      "20/09/2022     12\n",
      "18/06/2022     12\n",
      "03/03/2022     12\n",
      "3/05/2022      12\n",
      "18/04/2022     11\n",
      "6/04/2022      10\n",
      "06/03/2022      9\n",
      "27/04/2022      9\n",
      "1/03/2022       9\n",
      "12/04/2022      7\n",
      "15/04/2022      6\n",
      "Name: Date_of_Journey, dtype: int64\n",
      "____________________________________________\n",
      "Source : ['Kolkata' 'Delhi' 'Mumbai ' 'Banglore' 'Mumbai' 'New Delhi ' 'Chennai'\n",
      " 'Pune ' 'Ahmedabad ']\n",
      "Delhi         517\n",
      "Kolkata       298\n",
      "Banglore      257\n",
      "Mumbai        208\n",
      "New Delhi      71\n",
      "Mumbai         65\n",
      "Chennai        60\n",
      "Pune           44\n",
      "Ahmedabad      13\n",
      "Name: Source, dtype: int64\n",
      "____________________________________________\n",
      "Destination : ['Banglore' 'Cochin' ' Bangalore' 'Delhi' 'Hyderabad' ' Chennai'\n",
      " 'New Delhi' 'Kolkata' ' Hyderabad' ' Surat']\n",
      "Cochin        517\n",
      "Banglore      298\n",
      " Bangalore    240\n",
      "Delhi         147\n",
      "New Delhi     110\n",
      " Chennai       71\n",
      "Hyderabad      65\n",
      "Kolkata        60\n",
      " Hyderabad     13\n",
      " Surat         12\n",
      "Name: Destination, dtype: int64\n",
      "____________________________________________\n",
      "Departure_time : ['09:35' '17:10' '05:10' '09:00' '17:35' '07:00' '17:30' '13:55' '12:50'\n",
      " '09:30' '09:45' '02:55' '15:45' '08:00' '20:25' '22:50' '17:45' '13:00'\n",
      " '18:05' '14:40' '08:45' '17:00' '21:10' '23:05' '22:00' '11:50' '20:55'\n",
      " '11:10' '11:40' '16:55' '07:30' '05:30' '07:20' '05:35' '14:20' '18:15'\n",
      " '16:40' '12:00' '07:10' '11:25' '21:00' '18:55' '07:05' '06:05' '17:25'\n",
      " '05:45' '06:00' '17:50' '19:10' '13:10' '14:00' '09:40' '12:30' '12:45'\n",
      " '12:55' '17:20' '19:30' '09:25' '04:25' '16:15' '06:45' '11:45' '05:55'\n",
      " '07:35' '20:00' '08:20' '12:40' '05:05' '06:30' '22:45' '21:05' '06:20'\n",
      " '22:10' '10:00' '21:40' '04:55' '16:45' '14:30' '11:00' '11:55' '05:25'\n",
      " '04:30' '19:00' '11:35' '15:00' '14:05' '20:20' '08:35' '14:35' '16:00'\n",
      " '04:00' '19:20' '09:10' '01:45' '04:05' '19:45' '12:25' '21:15' '20:35'\n",
      " '04:45' '14:45' '06:40' '20:30' '16:30' '21:20' '19:05' '20:05' '09:50'\n",
      " '05:00' '09:05' '10:20' '19:50' '11:05' '13:25' '13:20' '10:10' '21:50'\n",
      " '07:55' '19:15' '23:00' '08:30' '18:25' '15:05' '23:30' '06:55' '13:05'\n",
      " '19:35' '05:15' '22:20' '05:50' '15:30' '20:40' '15:15' '21:55' '18:20'\n",
      " '08:25' '22:40' '08:50' '01:30' '11:30' '20:45' '20:50' '17:15' '14:55'\n",
      " '11:15' '10:25' '23:25' '14:15' '02:15' '22:15' '00:05' '06:10' '06:50'\n",
      " '13:15' '19:40' '07:45' '10:55' '18:50' '15:10' '12:10' '03:15' '10:45'\n",
      " '20:10' '16:50' '04:40' '16:10' '21:25' '08:55' '00:40' '09:55' '01:50'\n",
      " '00:30' '10:35' '02:00' '17:55' '15:20' '18:00' '08:15' '14:25' '22:55'\n",
      " '19:55' '09:15' '17:40' '18:45' '18:30' '18:35' '23:55' '21:30' '20:15'\n",
      " '07:25' '15:55' '15:25' '10:30' '22:25' '15:35' '13:35' '04:50' '02:35'\n",
      " '08:10' '17:05' '15:40' '05:40' '00:45' '01:25' '00:25' '06:25' '03:50'\n",
      " '00:10' '14:10' '22:05' '15:50' '01:00']\n",
      "07:05    37\n",
      "11:40    30\n",
      "07:00    29\n",
      "21:10    29\n",
      "20:00    28\n",
      "         ..\n",
      "19:40     1\n",
      "18:50     1\n",
      "01:50     1\n",
      "03:15     1\n",
      "01:00     1\n",
      "Name: Departure_time, Length: 212, dtype: int64\n",
      "____________________________________________\n",
      "Arrival_time : ['10:55:00' '19:40:00' '10:05:00' '12:35:00' '09:00' '12:55:00' '01:30:00'\n",
      " '14:25:00' '18:10:00' '21:00:00' '12:20:00' '23:00:00' '04:20:00' '23:20'\n",
      " '18:50:00' '19:00:00' '23:05' '21:10:00' '17:50:00' '09:40:00' '13:15:00'\n",
      " '04:25:00' '19:15:00' '08:55:00' '18:50' '13:55:00' '18:25:00' '20:15'\n",
      " '08:20:00' '00:05' '08:50:00' '22:20:00' '18:20' '23:15:00' '22:40:00'\n",
      " '20:05:00' '23:55:00' '23:50:00' '04:40:00' '19:15' '22:40' '00:05:00'\n",
      " '09:20:00' '09:25:00' '23:25:00' '07:15:00' '01:35:00' '12:00:00' '20:25'\n",
      " '11:10' '19:35:00' '10:35' '16:45' '08:50' '15:50' '22:05:00' '22:15:00'\n",
      " '13:45:00' '08:45' '20:25:00' '16:10:00' '19:30' '23:35:00' '15:30:00'\n",
      " '19:25:00' '16:15' '10:35:00' '12:10:00' '01:00:00' '21:30' '00:25'\n",
      " '07:25' '14:15:00' '17:05' '10:10:00' '10:05' '20:45' '10:15:00'\n",
      " '14:00:00' '20:20:00' '22:55:00' '14:35:00' '17:45' '06:50:00' '23:25'\n",
      " '20:45:00' '09:50' '16:30' '16:20:00' '00:15:00' '10:25:00' '12:05:00'\n",
      " '19:10:00' '11:30:00' '12:45:00' '17:05:00' '10:50' '23:45:00' '07:45:00'\n",
      " '19:50:00' '19:45:00' '20:35:00' '21:35:00' '08:45:00' '09:45:00' '10:45'\n",
      " '22:50:00' '08:30:00' '22:10:00' '20:55' '19:55:00' '15:35:00' '02:15:00'\n",
      " '13:00:00' '03:35:00' '13:25:00' '23:40:00' '07:40:00' '08:55' '11:20'\n",
      " '21:20:00' '02:20:00' '09:35:00' '09:30:00' '08:15:00' '00:55:00'\n",
      " '21:05:00' '07:35:00' '07:45' '00:40:00' '11:20:00' '15:25:00' '18:05:00'\n",
      " '02:30' '14:30:00' '18:35:00' '18:15:00' '10:40:00' '13:00' '07:05:00'\n",
      " '22:10' '23:30:00' '04:15:00' '11:50' '22:25:00' '23:20:00' '01:20:00'\n",
      " '21:45:00' '00:45:00' '11:25:00' '17:25:00' '08:35:00' '18:30:00'\n",
      " '02:10:00' '16:45:00' '11:05:00' '00:50:00' '10:50:00' '08:00:00' '12:10'\n",
      " '09:05:00' '17:35:00' '03:50' '12:15:00' '07:50' '22:00:00' '19:55'\n",
      " '08:40:00' '16:25' '22:30:00' '14:45:00' '10:30:00' '19:00' '10:45:00'\n",
      " '04:35:00' '09:00:00' '05:25:00' '07:35' '18:00:00' '09:10:00' '07:10:00'\n",
      " '13:20:00' '19:50' '16:25:00' '22:45:00' '10:00' '07:55:00' '14:20:00'\n",
      " '15:50:00' '22:15' '05:05:00' '03:25:00' '11:35' '08:00' '10:20'\n",
      " '06:35:00' '00:35' '07:25:00' '04:45:00' '17:55:00' '12:25:00' '20:40'\n",
      " '21:25:00' '14:05:00' '23:05:00' '15:15:00' '18:25' '22:35:00' '22:45'\n",
      " '22:00' '23:35' '01:10:00' '01:20' '23:10' '11:50:00' '00:10' '15:10'\n",
      " '12:50:00' '19:25' '21:50:00' '13:10' '02:45:00' '20:00:00' '15:55'\n",
      " '00:30' '13:35:00' '21:55:00' '11:40' '13:30:00' '23:40' '06:25'\n",
      " '04:05:00' '13:20' '23:50' '09:55' '18:35' '12:45' '07:10' '05:35:00'\n",
      " '07:20' '09:20' '11:10:00' '03:00' '20:30' '10:30' '03:15:00' '20:50'\n",
      " '09:30' '08:15' '10:20:00' '15:30' '16:55:00' '18:45:00' '09:15:00'\n",
      " '01:55' '20:35' '14:10:00' '12:30' '03:20' '19:20:00' '22:35' '00:25:00'\n",
      " '07:40' '12:30:00' '18:55' '17:35' '02:35' '17:15:00' '21:35' '21:40:00'\n",
      " '00:30:00' '10:15' '00:20:00' '12:25' '14:45' '15:55:00' '23:10:00'\n",
      " '21:20' '23:55']\n",
      "04:25:00    74\n",
      "19:00:00    73\n",
      "19:15:00    71\n",
      "12:35:00    50\n",
      "01:30:00    36\n",
      "            ..\n",
      "18:25        1\n",
      "20:40        1\n",
      "12:25:00     1\n",
      "04:45:00     1\n",
      "23:55        1\n",
      "Name: Arrival_time, Length: 279, dtype: int64\n",
      "____________________________________________\n",
      "Duration : ['25h 20m' '2h 30m' '4h 55m' '27h 35m' '15h 25m' '5h 55m' '8h' '28h 50m'\n",
      " '28h 15m' '8h 10m' '2h 50m' '13h 15m' '1h 25m' '7h 35m' '10h 50m' '18h'\n",
      " '11h' '13h 45m' '5h 20m' '3h 5m' '3h 10m' '2h 40m' '4h 30m' '21h 25m'\n",
      " '12h 55m' '8h 30m' '29h 20m' '21h 15m' '12h 40m' '21h 5m' '25h 15m'\n",
      " '22h 5m' '2h 45m' '2h 15m' '1h 30m' '12h 45m' '12h 30m' '16h 45m'\n",
      " '3h 15m' '24h 45m' '1h 40m' '35h 15m' '15h 30m' '9h 35m' '2h 20m'\n",
      " '13h 50m' '9h 45m' '1h 45m' '13h 55m' '2h 55m' '27h 20m' '30h' '12h 50m'\n",
      " '7h 45m' '23h 50m' '7h 15m' '17h 20m' '14h 25m' '2h 35m' '26h 55m' '12h'\n",
      " '4h 50m' '4h 15m' '20h 5m' '7h 20m' '10h 20m' '16h 5m' '28h 20m' '4h 20m'\n",
      " '22h 15m' '5h 5m' '13h 25m' '9h' '12h 35m' '6h 35m' '21h 40m' '8h 25m'\n",
      " '16h 40m' '13h 20m' '11h 50m' '16h' '17h 5m' '7h 40m' '7h 5m' '13h 10m'\n",
      " '14h 20m' '5h 30m' '13h' '16h 55m' '6h 55m' '27h 55m' '4h 45m' '5h 35m'\n",
      " '25h 45m' '25h 30m' '2h 25m' '10h 30m' '8h 40m' '20h' '26h 35m' '24h'\n",
      " '10h' '16h 25m' '3h' '12h 25m' '20h 35m' '10h 15m' '37h 25m' '17h 30m'\n",
      " '4h 35m' '26h 5m' '6h' '6h 45m' '11h 25m' '1h 50m' '22h 10m' '4h 25m'\n",
      " '26h 30m' '7h' '11h 55m' '24h 35m' '20h 10m' '38h 15m' '26h 20m' '27h 5m'\n",
      " '13h 30m' '15h 10m' '11h 5m' '20h 25m' '23h 10m' '5h 15m' '12h 10m'\n",
      " '12h 15m' '4h 40m' '5h 45m' '11h 45m' '9h 10m' '14h 15m' '19h 25m'\n",
      " '20h 15m' '12h 20m' '11h 15m' '17h 15m' '27h' '25h 50m' '18h 10m'\n",
      " '11h 40m' '23h 40m' '35h 5m' '14h 55m' '8h 35m' '7h 30m' '7h 25m'\n",
      " '10h 55m' '15h 55m' '23h 5m' '5h 50m' '6h 25m' '8h 20m' '36h 10m'\n",
      " '23h 20m' '26h 25m' '9h 30m' '12h 5m' '11h 30m' '20h 55m' '34h 5m'\n",
      " '24h 55m' '4h 10m' '1h 20m' '23h 55m' '9h 15m' '14h 5m' '6h 30m'\n",
      " '15h 20m' '13h 5m' '5h' '22h 55m' '26h' '7h 50m' '25h 35m' '21h 20m'\n",
      " '6h 40m' '18h 20m' '8h 5m' '5h 25m' '3h 45m' '19h 15m' '24h 50m'\n",
      " '14h 50m' '22h 30m' '9h 20m' '3h 40m' '20h 45m' '10h 35m' '18h 25m'\n",
      " '11h 20m' '24h 10m' '21h 35m' '14h 35m' '8h 45m' '15h 5m' '23h 30m'\n",
      " '6h 20m' '15h' '8h 55m' '5h 40m' '8h 15m' '30h 20m' '20h 40m' '1h 35m'\n",
      " '6h 15m' '10h 10m' '23h 25m' '15h 50m' '6h 10m' '26h 10m' '11h 35m'\n",
      " '10h 45m' '14h 40m' '16h 35m' '8h 50m' '16h 10m' '15h 35m' '37h 20m'\n",
      " '11h 0m' '26h 45m' '22h 25m' '5h 10m' '21h 10m' '29h 35m' '27h 45m'\n",
      " '24h 15m' '16h 15m' '17h 35m' '23h 35m' '28h' '22h 35m' '19h 10m'\n",
      " '28h 40m' '8h 0m' '24h 30m' '24h 20m' '35h 35m' '15h 40m' '19h 5m'\n",
      " '16h 20m' '28h 5m' '24h 25m' '9h 5m' '21h' '17h 40m' '23h 15m' '10h 25m'\n",
      " '4h 5m' '30h 30m' '6h 5m' '19h 55m' '3h 0m' '25h 55m' '22h 0m' '23h'\n",
      " '14h 30m' '16h 50m' '1h 15m' '17h 10m' '7h 55m' '17h 25m' '23h 45m'\n",
      " '20h 20m' '3h 55m' '18h 45m' '19h 50m' '18h 40m' '14h' '21h 45m'\n",
      " '14h 10m' '25h 40m' '22h 40m' '47h' '7h 10m' '9h 40m' '18h 30m' '5h 0m'\n",
      " '4h' '10h 5m' '24h 5m' '26h 40m' '17h 45m' '29h 55m' '25h 25m' '19h 45m'\n",
      " '25h 5m' '19h' '21h 50m' '24h 0m' '20h 30m' '9h 50m' '16h 30m' '38h 20m'\n",
      " '10h 0m' '21h 55m' '22h' '28h 10m' '17h 50m' '14h 45m' '18h 15m']\n",
      "2h 50m     80\n",
      "1h 30m     42\n",
      "2h 55m     41\n",
      "2h 45m     39\n",
      "2h 35m     37\n",
      "           ..\n",
      "23h 55m     1\n",
      "17h 40m     1\n",
      "21h         1\n",
      "9h 5m       1\n",
      "18h 15m     1\n",
      "Name: Duration, Length: 307, dtype: int64\n",
      "____________________________________________\n",
      "Total_stops : ['1 stop' 'non-stop' '2 stops' '3 stops']\n",
      "1 stop      890\n",
      "non-stop    470\n",
      "2 stops     171\n",
      "3 stops       2\n",
      "Name: Total_stops, dtype: int64\n",
      "____________________________________________\n"
     ]
    }
   ],
   "source": [
    "# Print all of the data types and their unique values:\n",
    "for column in df.columns:\n",
    "    if df[column].dtype == object:\n",
    "        print(str(column) + ' : ' + str(df[column].unique()))\n",
    "        print(df[column].value_counts())\n",
    "        print('____________________________________________')"
   ]
  },
  {
   "cell_type": "markdown",
   "id": "9da83def",
   "metadata": {},
   "source": [
    "# Data Analysis and Visualization."
   ]
  },
  {
   "cell_type": "code",
   "execution_count": 16,
   "id": "9e3e21e9",
   "metadata": {},
   "outputs": [
    {
     "data": {
      "text/html": [
       "<style type=\"text/css\">\n",
       "#T_bf8ef_row0_col0 {\n",
       "  background-color: #fff7fb;\n",
       "  color: #000000;\n",
       "}\n",
       "#T_bf8ef_row1_col0, #T_bf8ef_row5_col0 {\n",
       "  background-color: #e7e3f0;\n",
       "  color: #000000;\n",
       "}\n",
       "#T_bf8ef_row2_col0 {\n",
       "  background-color: #f7f0f7;\n",
       "  color: #000000;\n",
       "}\n",
       "#T_bf8ef_row3_col0 {\n",
       "  background-color: #fef6fa;\n",
       "  color: #000000;\n",
       "}\n",
       "#T_bf8ef_row4_col0 {\n",
       "  background-color: #f4edf6;\n",
       "  color: #000000;\n",
       "}\n",
       "#T_bf8ef_row6_col0 {\n",
       "  background-color: #dbdaeb;\n",
       "  color: #000000;\n",
       "}\n",
       "#T_bf8ef_row7_col0 {\n",
       "  background-color: #023858;\n",
       "  color: #f1f1f1;\n",
       "}\n",
       "</style>\n",
       "<table id=\"T_bf8ef\">\n",
       "  <thead>\n",
       "    <tr>\n",
       "      <th class=\"blank level0\" >&nbsp;</th>\n",
       "      <th id=\"T_bf8ef_level0_col0\" class=\"col_heading level0 col0\" >Price</th>\n",
       "    </tr>\n",
       "  </thead>\n",
       "  <tbody>\n",
       "    <tr>\n",
       "      <th id=\"T_bf8ef_level0_row0\" class=\"row_heading level0 row0\" >count</th>\n",
       "      <td id=\"T_bf8ef_row0_col0\" class=\"data row0 col0\" >1533.000000</td>\n",
       "    </tr>\n",
       "    <tr>\n",
       "      <th id=\"T_bf8ef_level0_row1\" class=\"row_heading level0 row1\" >mean</th>\n",
       "      <td id=\"T_bf8ef_row1_col0\" class=\"data row1 col0\" >9229.936725</td>\n",
       "    </tr>\n",
       "    <tr>\n",
       "      <th id=\"T_bf8ef_level0_row2\" class=\"row_heading level0 row2\" >std</th>\n",
       "      <td id=\"T_bf8ef_row2_col0\" class=\"data row2 col0\" >4485.641009</td>\n",
       "    </tr>\n",
       "    <tr>\n",
       "      <th id=\"T_bf8ef_level0_row3\" class=\"row_heading level0 row3\" >min</th>\n",
       "      <td id=\"T_bf8ef_row3_col0\" class=\"data row3 col0\" >1965.000000</td>\n",
       "    </tr>\n",
       "    <tr>\n",
       "      <th id=\"T_bf8ef_level0_row4\" class=\"row_heading level0 row4\" >25%</th>\n",
       "      <td id=\"T_bf8ef_row4_col0\" class=\"data row4 col0\" >5418.000000</td>\n",
       "    </tr>\n",
       "    <tr>\n",
       "      <th id=\"T_bf8ef_level0_row5\" class=\"row_heading level0 row5\" >50%</th>\n",
       "      <td id=\"T_bf8ef_row5_col0\" class=\"data row5 col0\" >9211.000000</td>\n",
       "    </tr>\n",
       "    <tr>\n",
       "      <th id=\"T_bf8ef_level0_row6\" class=\"row_heading level0 row6\" >75%</th>\n",
       "      <td id=\"T_bf8ef_row6_col0\" class=\"data row6 col0\" >11789.000000</td>\n",
       "    </tr>\n",
       "    <tr>\n",
       "      <th id=\"T_bf8ef_level0_row7\" class=\"row_heading level0 row7\" >max</th>\n",
       "      <td id=\"T_bf8ef_row7_col0\" class=\"data row7 col0\" >52229.000000</td>\n",
       "    </tr>\n",
       "  </tbody>\n",
       "</table>\n"
      ],
      "text/plain": [
       "<pandas.io.formats.style.Styler at 0x1df0b038d00>"
      ]
     },
     "execution_count": 16,
     "metadata": {},
     "output_type": "execute_result"
    }
   ],
   "source": [
    "# Summary statistics:\n",
    "df.describe().style.background_gradient()"
   ]
  },
  {
   "cell_type": "code",
   "execution_count": 17,
   "id": "f60724a2",
   "metadata": {},
   "outputs": [
    {
     "data": {
      "image/png": "[encoded data removed]",
      "text/plain": [
       "<Figure size 864x432 with 1 Axes>"
      ]
     },
     "metadata": {
      "needs_background": "light"
     },
     "output_type": "display_data"
    }
   ],
   "source": [
    "# Here ploting Count of Airlines :\n",
    "plt.figure(figsize=(12,6))\n",
    "sns.countplot(df['Airline_name'], palette='Set2')\n",
    "plt.title('Count of Airlines', size=30)\n",
    "plt.xticks(rotation=90)\n",
    "plt.show()"
   ]
  },
  {
   "cell_type": "markdown",
   "id": "e412fe08",
   "metadata": {},
   "source": [
    "observation :- count of jet airways, indigo and air india airline is higher then others. Travellars are likes this airlines for travelling."
   ]
  },
  {
   "cell_type": "code",
   "execution_count": 19,
   "id": "ca44c98b",
   "metadata": {},
   "outputs": [
    {
     "data": {
      "image/png": "[encoded data removed]",
      "text/plain": [
       "<Figure size 864x432 with 1 Axes>"
      ]
     },
     "metadata": {
      "needs_background": "light"
     },
     "output_type": "display_data"
    }
   ],
   "source": [
    "# Here ploting Count of Source :\n",
    "plt.figure(figsize=(12,6))\n",
    "sns.countplot(df['Source'], palette='rainbow')\n",
    "plt.title('Count of Source', size=30)\n",
    "plt.xticks(rotation=90)\n",
    "plt.show()"
   ]
  },
  {
   "cell_type": "markdown",
   "id": "6378190f",
   "metadata": {},
   "source": [
    "observation :- count of Delhi source is high then other city. Kolkata and Banglore has average count. Delhi is capital of india and it's center city of india so obvious source of this city is high."
   ]
  },
  {
   "cell_type": "code",
   "execution_count": 20,
   "id": "edfe6d47",
   "metadata": {},
   "outputs": [
    {
     "data": {
      "image/png": "[encoded data removed]",
      "text/plain": [
       "<Figure size 864x432 with 1 Axes>"
      ]
     },
     "metadata": {
      "needs_background": "light"
     },
     "output_type": "display_data"
    }
   ],
   "source": [
    "# Here ploting Count of Source :\n",
    "plt.figure(figsize=(12,6))\n",
    "sns.countplot(df['Destination'], palette='coolwarm')\n",
    "plt.title('Count of Destination', size=30)\n",
    "plt.xticks(rotation=90)\n",
    "plt.show()"
   ]
  },
  {
   "cell_type": "markdown",
   "id": "43fb0643",
   "metadata": {},
   "source": [
    "observation :- count of Cochin and Banglore city destination is high then other city. All It sector releted and digital things releted banglore is first choice."
   ]
  },
  {
   "cell_type": "code",
   "execution_count": 21,
   "id": "a24ade47",
   "metadata": {},
   "outputs": [
    {
     "data": {
      "image/png": "[encoded data removed]",
      "text/plain": [
       "<Figure size 864x432 with 1 Axes>"
      ]
     },
     "metadata": {
      "needs_background": "light"
     },
     "output_type": "display_data"
    }
   ],
   "source": [
    "# Here ploting Count of Days :\n",
    "plt.figure(figsize=(12,6))\n",
    "sns.countplot(df['Date_of_Journey'], palette='Set3')\n",
    "plt.title('Count of Days', size=30)\n",
    "plt.xticks(rotation=90)\n",
    "plt.show()"
   ]
  },
  {
   "cell_type": "markdown",
   "id": "3768f557",
   "metadata": {},
   "source": [
    "Observation :-In this may and june month days are very much because of vacation time."
   ]
  },
  {
   "cell_type": "code",
   "execution_count": 22,
   "id": "1a31637b",
   "metadata": {},
   "outputs": [
    {
     "data": {
      "image/png": "[encoded data removed]",
      "text/plain": [
       "<Figure size 864x432 with 1 Axes>"
      ]
     },
     "metadata": {
      "needs_background": "light"
     },
     "output_type": "display_data"
    }
   ],
   "source": [
    "# Here Plotting days vs price plot:\n",
    "plt.figure(figsize=(12,6))\n",
    "sns.barplot(df['Date_of_Journey'], df['Price'], palette='Set3')\n",
    "plt.title('Days vs Price', size=30)\n",
    "plt.xticks(rotation=90)\n",
    "plt.show()"
   ]
  },
  {
   "cell_type": "markdown",
   "id": "f59e20e4",
   "metadata": {},
   "source": [
    "Observation :-In this april month ticket price is lower then other months. It's best time to buy tickets."
   ]
  },
  {
   "cell_type": "code",
   "execution_count": 23,
   "id": "9c46e39e",
   "metadata": {},
   "outputs": [
    {
     "data": {
      "image/png": "[encoded data removed]",
      "text/plain": [
       "<Figure size 864x432 with 1 Axes>"
      ]
     },
     "metadata": {
      "needs_background": "light"
     },
     "output_type": "display_data"
    }
   ],
   "source": [
    "# Here Plotting Price vs Airline plot:\n",
    "plt.figure(figsize=(12,6))\n",
    "sns.boxenplot(df['Airline_name'], df['Price'],palette='Set3')\n",
    "plt.title('Airlines vs Price', size=30)\n",
    "plt.xticks(rotation=90)\n",
    "plt.show()"
   ]
  },
  {
   "cell_type": "markdown",
   "id": "3581669e",
   "metadata": {},
   "source": [
    "Observation :-jet airways and multiple carriers airline has higher price than others."
   ]
  },
  {
   "cell_type": "code",
   "execution_count": 24,
   "id": "5b8d7a59",
   "metadata": {},
   "outputs": [
    {
     "data": {
      "text/plain": [
       "array([[<AxesSubplot:title={'center':'Price'}>, <AxesSubplot:>,\n",
       "        <AxesSubplot:>],\n",
       "       [<AxesSubplot:>, <AxesSubplot:>, <AxesSubplot:>],\n",
       "       [<AxesSubplot:>, <AxesSubplot:>, <AxesSubplot:>]], dtype=object)"
      ]
     },
     "execution_count": 24,
     "metadata": {},
     "output_type": "execute_result"
    },
    {
     "data": {
      "image/png": "[encoded data removed]",
      "text/plain": [
       "<Figure size 864x864 with 9 Axes>"
      ]
     },
     "metadata": {
      "needs_background": "light"
     },
     "output_type": "display_data"
    }
   ],
   "source": [
    "# display histogram:\n",
    "df.hist(figsize=(12,12), layout=(3,3), sharex=False)"
   ]
  },
  {
   "cell_type": "code",
   "execution_count": 25,
   "id": "2dd4f4d4",
   "metadata": {},
   "outputs": [
    {
     "data": {
      "text/plain": [
       "<seaborn.axisgrid.PairGrid at 0x1df0e5edcd0>"
      ]
     },
     "execution_count": 25,
     "metadata": {},
     "output_type": "execute_result"
    },
    {
     "data": {
      "image/png": "[encoded data removed]",
      "text/plain": [
       "<Figure size 180x180 with 2 Axes>"
      ]
     },
     "metadata": {
      "needs_background": "light"
     },
     "output_type": "display_data"
    }
   ],
   "source": [
    "# display pairplot:\n",
    "sns.pairplot(df)"
   ]
  },
  {
   "cell_type": "code",
   "execution_count": 27,
   "id": "7f0c0216",
   "metadata": {},
   "outputs": [
    {
     "data": {
      "image/png": "[encoded data removed]",
      "text/plain": [
       "<Figure size 576x360 with 1 Axes>"
      ]
     },
     "metadata": {
      "needs_background": "light"
     },
     "output_type": "display_data"
    }
   ],
   "source": [
    "# Let's check desity plot:\n",
    "df.plot(kind='density', subplots=True, layout=(1,1), sharex=False, legend=True, fontsize=1, figsize=(8,5))\n",
    "plt.show()"
   ]
  },
  {
   "cell_type": "code",
   "execution_count": 28,
   "id": "dedf1704",
   "metadata": {},
   "outputs": [
    {
     "data": {
      "text/plain": [
       "<AxesSubplot:xlabel='Price', ylabel='Density'>"
      ]
     },
     "execution_count": 28,
     "metadata": {},
     "output_type": "execute_result"
    },
    {
     "data": {
      "image/png": "[encoded data removed]",
      "text/plain": [
       "<Figure size 576x360 with 1 Axes>"
      ]
     },
     "metadata": {
      "needs_background": "light"
     },
     "output_type": "display_data"
    }
   ],
   "source": [
    "#display distplot of Price column:\n",
    "plt.figure(figsize=(8,5))\n",
    "sns.distplot(df['Price'])"
   ]
  },
  {
   "cell_type": "code",
   "execution_count": 29,
   "id": "09699ed8",
   "metadata": {},
   "outputs": [
    {
     "data": {
      "text/html": [
       "<div>\n",
       "<style scoped>\n",
       "    .dataframe tbody tr th:only-of-type {\n",
       "        vertical-align: middle;\n",
       "    }\n",
       "\n",
       "    .dataframe tbody tr th {\n",
       "        vertical-align: top;\n",
       "    }\n",
       "\n",
       "    .dataframe thead th {\n",
       "        text-align: right;\n",
       "    }\n",
       "</style>\n",
       "<table border=\"1\" class=\"dataframe\">\n",
       "  <thead>\n",
       "    <tr style=\"text-align: right;\">\n",
       "      <th></th>\n",
       "      <th>Airline_name_Air India</th>\n",
       "      <th>Airline_name_GO FIRST</th>\n",
       "      <th>Airline_name_GoAir</th>\n",
       "      <th>Airline_name_IndiGo</th>\n",
       "      <th>Airline_name_Jet Airways</th>\n",
       "      <th>Airline_name_Jet Airways Business</th>\n",
       "      <th>Airline_name_Multiple carriers</th>\n",
       "      <th>Airline_name_Multiple carriers Premium economy</th>\n",
       "      <th>Airline_name_SpiceJet</th>\n",
       "      <th>Airline_name_Vistara</th>\n",
       "      <th>Airline_name_Vistara Premium economy</th>\n",
       "    </tr>\n",
       "  </thead>\n",
       "  <tbody>\n",
       "    <tr>\n",
       "      <th>0</th>\n",
       "      <td>0</td>\n",
       "      <td>0</td>\n",
       "      <td>0</td>\n",
       "      <td>0</td>\n",
       "      <td>1</td>\n",
       "      <td>0</td>\n",
       "      <td>0</td>\n",
       "      <td>0</td>\n",
       "      <td>0</td>\n",
       "      <td>0</td>\n",
       "      <td>0</td>\n",
       "    </tr>\n",
       "    <tr>\n",
       "      <th>1</th>\n",
       "      <td>0</td>\n",
       "      <td>0</td>\n",
       "      <td>0</td>\n",
       "      <td>0</td>\n",
       "      <td>0</td>\n",
       "      <td>0</td>\n",
       "      <td>0</td>\n",
       "      <td>0</td>\n",
       "      <td>1</td>\n",
       "      <td>0</td>\n",
       "      <td>0</td>\n",
       "    </tr>\n",
       "    <tr>\n",
       "      <th>2</th>\n",
       "      <td>0</td>\n",
       "      <td>0</td>\n",
       "      <td>0</td>\n",
       "      <td>1</td>\n",
       "      <td>0</td>\n",
       "      <td>0</td>\n",
       "      <td>0</td>\n",
       "      <td>0</td>\n",
       "      <td>0</td>\n",
       "      <td>0</td>\n",
       "      <td>0</td>\n",
       "    </tr>\n",
       "    <tr>\n",
       "      <th>3</th>\n",
       "      <td>0</td>\n",
       "      <td>0</td>\n",
       "      <td>0</td>\n",
       "      <td>0</td>\n",
       "      <td>1</td>\n",
       "      <td>0</td>\n",
       "      <td>0</td>\n",
       "      <td>0</td>\n",
       "      <td>0</td>\n",
       "      <td>0</td>\n",
       "      <td>0</td>\n",
       "    </tr>\n",
       "    <tr>\n",
       "      <th>4</th>\n",
       "      <td>0</td>\n",
       "      <td>0</td>\n",
       "      <td>0</td>\n",
       "      <td>0</td>\n",
       "      <td>0</td>\n",
       "      <td>0</td>\n",
       "      <td>0</td>\n",
       "      <td>0</td>\n",
       "      <td>0</td>\n",
       "      <td>1</td>\n",
       "      <td>0</td>\n",
       "    </tr>\n",
       "  </tbody>\n",
       "</table>\n",
       "</div>"
      ],
      "text/plain": [
       "   Airline_name_Air India  Airline_name_GO FIRST  Airline_name_GoAir  \\\n",
       "0                       0                      0                   0   \n",
       "1                       0                      0                   0   \n",
       "2                       0                      0                   0   \n",
       "3                       0                      0                   0   \n",
       "4                       0                      0                   0   \n",
       "\n",
       "   Airline_name_IndiGo  Airline_name_Jet Airways  \\\n",
       "0                    0                         1   \n",
       "1                    0                         0   \n",
       "2                    1                         0   \n",
       "3                    0                         1   \n",
       "4                    0                         0   \n",
       "\n",
       "   Airline_name_Jet Airways Business  Airline_name_Multiple carriers  \\\n",
       "0                                  0                               0   \n",
       "1                                  0                               0   \n",
       "2                                  0                               0   \n",
       "3                                  0                               0   \n",
       "4                                  0                               0   \n",
       "\n",
       "   Airline_name_Multiple carriers Premium economy  Airline_name_SpiceJet  \\\n",
       "0                                               0                      0   \n",
       "1                                               0                      1   \n",
       "2                                               0                      0   \n",
       "3                                               0                      0   \n",
       "4                                               0                      0   \n",
       "\n",
       "   Airline_name_Vistara  Airline_name_Vistara Premium economy  \n",
       "0                     0                                     0  \n",
       "1                     0                                     0  \n",
       "2                     0                                     0  \n",
       "3                     0                                     0  \n",
       "4                     1                                     0  "
      ]
     },
     "execution_count": 29,
     "metadata": {},
     "output_type": "execute_result"
    }
   ],
   "source": [
    "# Here Airline  Nominal Categorical data:\n",
    "Airline = df[[\"Airline_name\"]]\n",
    "Airline = pd.get_dummies(Airline, drop_first =True)\n",
    "Airline.head()"
   ]
  },
  {
   "cell_type": "markdown",
   "id": "b4950a6d",
   "metadata": {},
   "source": [
    "### Feature Engineering"
   ]
  },
  {
   "cell_type": "code",
   "execution_count": 30,
   "id": "9bfa10cb",
   "metadata": {},
   "outputs": [],
   "source": [
    "# Here converting the hours in minutes:\n",
    "df['Duration'] = df['Duration'].str.replace(\"h\", '*60').str.replace(' ','+').str.replace('m','*1').apply(eval)"
   ]
  },
  {
   "cell_type": "code",
   "execution_count": 32,
   "id": "3bb82527",
   "metadata": {},
   "outputs": [],
   "source": [
    "# Here we are organizing the format of the date of journey in our dataset for better:\n",
    "df[\"Journey_day\"] = df['Date_of_Journey'].str.split('/').str[0].astype(int)\n",
    "df[\"Journey_month\"] = df['Date_of_Journey'].str.split('/').str[1].astype(int)\n",
    "df.drop([\"Date_of_Journey\"], axis = 1, inplace = True)"
   ]
  },
  {
   "cell_type": "code",
   "execution_count": 34,
   "id": "5be1a357",
   "metadata": {},
   "outputs": [],
   "source": [
    "# Converting departure time into hours and minutes:\n",
    "df[\"Dep_hour\"] = pd.to_datetime(df[\"Departure_time\"]).dt.hour\n",
    "df[\"Dep_min\"] = pd.to_datetime(df[\"Departure_time\"]).dt.minute\n",
    "df.drop([\"Departure_time\"], axis = 1, inplace = True)"
   ]
  },
  {
   "cell_type": "code",
   "execution_count": 35,
   "id": "511f6899",
   "metadata": {},
   "outputs": [],
   "source": [
    "# Here converting the arrival time into hours and minutes:\n",
    "df[\"Arrival_hour\"] = pd.to_datetime(df.Arrival_time).dt.hour\n",
    "df[\"Arrival_min\"] = pd.to_datetime(df.Arrival_time).dt.minute\n",
    "df.drop([\"Arrival_time\"], axis = 1, inplace = True)"
   ]
  },
  {
   "cell_type": "code",
   "execution_count": 36,
   "id": "72e5220b",
   "metadata": {},
   "outputs": [
    {
     "data": {
      "text/html": [
       "<div>\n",
       "<style scoped>\n",
       "    .dataframe tbody tr th:only-of-type {\n",
       "        vertical-align: middle;\n",
       "    }\n",
       "\n",
       "    .dataframe tbody tr th {\n",
       "        vertical-align: top;\n",
       "    }\n",
       "\n",
       "    .dataframe thead th {\n",
       "        text-align: right;\n",
       "    }\n",
       "</style>\n",
       "<table border=\"1\" class=\"dataframe\">\n",
       "  <thead>\n",
       "    <tr style=\"text-align: right;\">\n",
       "      <th></th>\n",
       "      <th>Airline_name</th>\n",
       "      <th>Source</th>\n",
       "      <th>Destination</th>\n",
       "      <th>Duration</th>\n",
       "      <th>Total_stops</th>\n",
       "      <th>Price</th>\n",
       "      <th>Journey_day</th>\n",
       "      <th>Journey_month</th>\n",
       "      <th>Dep_hour</th>\n",
       "      <th>Dep_min</th>\n",
       "      <th>Arrival_hour</th>\n",
       "      <th>Arrival_min</th>\n",
       "    </tr>\n",
       "  </thead>\n",
       "  <tbody>\n",
       "    <tr>\n",
       "      <th>0</th>\n",
       "      <td>Jet Airways</td>\n",
       "      <td>Kolkata</td>\n",
       "      <td>Banglore</td>\n",
       "      <td>1520</td>\n",
       "      <td>1 stop</td>\n",
       "      <td>10953</td>\n",
       "      <td>9</td>\n",
       "      <td>5</td>\n",
       "      <td>9</td>\n",
       "      <td>35</td>\n",
       "      <td>10</td>\n",
       "      <td>55</td>\n",
       "    </tr>\n",
       "    <tr>\n",
       "      <th>1</th>\n",
       "      <td>SpiceJet</td>\n",
       "      <td>Kolkata</td>\n",
       "      <td>Banglore</td>\n",
       "      <td>150</td>\n",
       "      <td>non-stop</td>\n",
       "      <td>3841</td>\n",
       "      <td>3</td>\n",
       "      <td>4</td>\n",
       "      <td>17</td>\n",
       "      <td>10</td>\n",
       "      <td>19</td>\n",
       "      <td>40</td>\n",
       "    </tr>\n",
       "    <tr>\n",
       "      <th>2</th>\n",
       "      <td>IndiGo</td>\n",
       "      <td>Delhi</td>\n",
       "      <td>Cochin</td>\n",
       "      <td>295</td>\n",
       "      <td>1 stop</td>\n",
       "      <td>6842</td>\n",
       "      <td>1</td>\n",
       "      <td>6</td>\n",
       "      <td>5</td>\n",
       "      <td>10</td>\n",
       "      <td>10</td>\n",
       "      <td>5</td>\n",
       "    </tr>\n",
       "    <tr>\n",
       "      <th>3</th>\n",
       "      <td>Jet Airways</td>\n",
       "      <td>Delhi</td>\n",
       "      <td>Cochin</td>\n",
       "      <td>1655</td>\n",
       "      <td>1 stop</td>\n",
       "      <td>12898</td>\n",
       "      <td>27</td>\n",
       "      <td>5</td>\n",
       "      <td>9</td>\n",
       "      <td>0</td>\n",
       "      <td>12</td>\n",
       "      <td>35</td>\n",
       "    </tr>\n",
       "    <tr>\n",
       "      <th>4</th>\n",
       "      <td>Vistara</td>\n",
       "      <td>Mumbai</td>\n",
       "      <td>Bangalore</td>\n",
       "      <td>925</td>\n",
       "      <td>1 stop</td>\n",
       "      <td>9280</td>\n",
       "      <td>7</td>\n",
       "      <td>9</td>\n",
       "      <td>17</td>\n",
       "      <td>35</td>\n",
       "      <td>9</td>\n",
       "      <td>0</td>\n",
       "    </tr>\n",
       "  </tbody>\n",
       "</table>\n",
       "</div>"
      ],
      "text/plain": [
       "  Airline_name   Source Destination  Duration Total_stops  Price  Journey_day  \\\n",
       "0  Jet Airways  Kolkata    Banglore      1520      1 stop  10953            9   \n",
       "1     SpiceJet  Kolkata    Banglore       150    non-stop   3841            3   \n",
       "2       IndiGo    Delhi      Cochin       295      1 stop   6842            1   \n",
       "3  Jet Airways    Delhi      Cochin      1655      1 stop  12898           27   \n",
       "4      Vistara  Mumbai    Bangalore       925      1 stop   9280            7   \n",
       "\n",
       "   Journey_month  Dep_hour  Dep_min  Arrival_hour  Arrival_min  \n",
       "0              5         9       35            10           55  \n",
       "1              4        17       10            19           40  \n",
       "2              6         5       10            10            5  \n",
       "3              5         9        0            12           35  \n",
       "4              9        17       35             9            0  "
      ]
     },
     "execution_count": 36,
     "metadata": {},
     "output_type": "execute_result"
    }
   ],
   "source": [
    "# Showing dataframe after performing feature engineering.\n",
    "df.head()"
   ]
  },
  {
   "cell_type": "markdown",
   "id": "1a1c9bb0",
   "metadata": {},
   "source": [
    "### Correlation of dataset:"
   ]
  },
  {
   "cell_type": "code",
   "execution_count": 37,
   "id": "a5cb77b5",
   "metadata": {},
   "outputs": [
    {
     "data": {
      "text/html": [
       "<div>\n",
       "<style scoped>\n",
       "    .dataframe tbody tr th:only-of-type {\n",
       "        vertical-align: middle;\n",
       "    }\n",
       "\n",
       "    .dataframe tbody tr th {\n",
       "        vertical-align: top;\n",
       "    }\n",
       "\n",
       "    .dataframe thead th {\n",
       "        text-align: right;\n",
       "    }\n",
       "</style>\n",
       "<table border=\"1\" class=\"dataframe\">\n",
       "  <thead>\n",
       "    <tr style=\"text-align: right;\">\n",
       "      <th></th>\n",
       "      <th>Duration</th>\n",
       "      <th>Price</th>\n",
       "      <th>Journey_day</th>\n",
       "      <th>Journey_month</th>\n",
       "      <th>Dep_hour</th>\n",
       "      <th>Dep_min</th>\n",
       "      <th>Arrival_hour</th>\n",
       "      <th>Arrival_min</th>\n",
       "    </tr>\n",
       "  </thead>\n",
       "  <tbody>\n",
       "    <tr>\n",
       "      <th>Duration</th>\n",
       "      <td>1.000000</td>\n",
       "      <td>0.499500</td>\n",
       "      <td>-0.037480</td>\n",
       "      <td>0.019645</td>\n",
       "      <td>0.068475</td>\n",
       "      <td>-0.002053</td>\n",
       "      <td>0.057886</td>\n",
       "      <td>-0.032554</td>\n",
       "    </tr>\n",
       "    <tr>\n",
       "      <th>Price</th>\n",
       "      <td>0.499500</td>\n",
       "      <td>1.000000</td>\n",
       "      <td>-0.152111</td>\n",
       "      <td>-0.004084</td>\n",
       "      <td>0.017663</td>\n",
       "      <td>0.043833</td>\n",
       "      <td>0.020253</td>\n",
       "      <td>-0.080204</td>\n",
       "    </tr>\n",
       "    <tr>\n",
       "      <th>Journey_day</th>\n",
       "      <td>-0.037480</td>\n",
       "      <td>-0.152111</td>\n",
       "      <td>1.000000</td>\n",
       "      <td>-0.237447</td>\n",
       "      <td>0.036540</td>\n",
       "      <td>-0.054174</td>\n",
       "      <td>-0.003746</td>\n",
       "      <td>-0.026165</td>\n",
       "    </tr>\n",
       "    <tr>\n",
       "      <th>Journey_month</th>\n",
       "      <td>0.019645</td>\n",
       "      <td>-0.004084</td>\n",
       "      <td>-0.237447</td>\n",
       "      <td>1.000000</td>\n",
       "      <td>0.024752</td>\n",
       "      <td>0.008991</td>\n",
       "      <td>0.061388</td>\n",
       "      <td>0.043930</td>\n",
       "    </tr>\n",
       "    <tr>\n",
       "      <th>Dep_hour</th>\n",
       "      <td>0.068475</td>\n",
       "      <td>0.017663</td>\n",
       "      <td>0.036540</td>\n",
       "      <td>0.024752</td>\n",
       "      <td>1.000000</td>\n",
       "      <td>-0.018710</td>\n",
       "      <td>0.007812</td>\n",
       "      <td>0.043703</td>\n",
       "    </tr>\n",
       "    <tr>\n",
       "      <th>Dep_min</th>\n",
       "      <td>-0.002053</td>\n",
       "      <td>0.043833</td>\n",
       "      <td>-0.054174</td>\n",
       "      <td>0.008991</td>\n",
       "      <td>-0.018710</td>\n",
       "      <td>1.000000</td>\n",
       "      <td>0.038423</td>\n",
       "      <td>0.019927</td>\n",
       "    </tr>\n",
       "    <tr>\n",
       "      <th>Arrival_hour</th>\n",
       "      <td>0.057886</td>\n",
       "      <td>0.020253</td>\n",
       "      <td>-0.003746</td>\n",
       "      <td>0.061388</td>\n",
       "      <td>0.007812</td>\n",
       "      <td>0.038423</td>\n",
       "      <td>1.000000</td>\n",
       "      <td>-0.124905</td>\n",
       "    </tr>\n",
       "    <tr>\n",
       "      <th>Arrival_min</th>\n",
       "      <td>-0.032554</td>\n",
       "      <td>-0.080204</td>\n",
       "      <td>-0.026165</td>\n",
       "      <td>0.043930</td>\n",
       "      <td>0.043703</td>\n",
       "      <td>0.019927</td>\n",
       "      <td>-0.124905</td>\n",
       "      <td>1.000000</td>\n",
       "    </tr>\n",
       "  </tbody>\n",
       "</table>\n",
       "</div>"
      ],
      "text/plain": [
       "               Duration     Price  Journey_day  Journey_month  Dep_hour  \\\n",
       "Duration       1.000000  0.499500    -0.037480       0.019645  0.068475   \n",
       "Price          0.499500  1.000000    -0.152111      -0.004084  0.017663   \n",
       "Journey_day   -0.037480 -0.152111     1.000000      -0.237447  0.036540   \n",
       "Journey_month  0.019645 -0.004084    -0.237447       1.000000  0.024752   \n",
       "Dep_hour       0.068475  0.017663     0.036540       0.024752  1.000000   \n",
       "Dep_min       -0.002053  0.043833    -0.054174       0.008991 -0.018710   \n",
       "Arrival_hour   0.057886  0.020253    -0.003746       0.061388  0.007812   \n",
       "Arrival_min   -0.032554 -0.080204    -0.026165       0.043930  0.043703   \n",
       "\n",
       "                Dep_min  Arrival_hour  Arrival_min  \n",
       "Duration      -0.002053      0.057886    -0.032554  \n",
       "Price          0.043833      0.020253    -0.080204  \n",
       "Journey_day   -0.054174     -0.003746    -0.026165  \n",
       "Journey_month  0.008991      0.061388     0.043930  \n",
       "Dep_hour      -0.018710      0.007812     0.043703  \n",
       "Dep_min        1.000000      0.038423     0.019927  \n",
       "Arrival_hour   0.038423      1.000000    -0.124905  \n",
       "Arrival_min    0.019927     -0.124905     1.000000  "
      ]
     },
     "execution_count": 37,
     "metadata": {},
     "output_type": "execute_result"
    }
   ],
   "source": [
    "# Check correlation of columns.\n",
    "df.corr()"
   ]
  },
  {
   "cell_type": "code",
   "execution_count": 38,
   "id": "69433838",
   "metadata": {},
   "outputs": [
    {
     "data": {
      "image/png": "[encoded data removed]",
      "text/plain": [
       "<Figure size 864x720 with 2 Axes>"
      ]
     },
     "metadata": {
      "needs_background": "light"
     },
     "output_type": "display_data"
    }
   ],
   "source": [
    "plt.figure(figsize = (12,10))\n",
    "sns.heatmap(df.corr(), annot = True, cmap = \"coolwarm\")\n",
    "plt.show()"
   ]
  },
  {
   "cell_type": "markdown",
   "id": "b86b59b6",
   "metadata": {},
   "source": [
    "##### Observation :- In this correlation matrix price and duration is highly correlate with each other."
   ]
  },
  {
   "cell_type": "code",
   "execution_count": 39,
   "id": "69faa03c",
   "metadata": {},
   "outputs": [],
   "source": [
    "# Dropping the Price column:\n",
    "data = df.drop([\"Price\"], axis=1)\n",
    "\n",
    "# Here convert into Categorical Data and Numerical Data:\n",
    "categorical_data = data.select_dtypes(exclude=['int64', 'float','int32'])\n",
    "numerical_data = data.select_dtypes(include=['int64', 'float','int32'])"
   ]
  },
  {
   "cell_type": "code",
   "execution_count": 40,
   "id": "7df69988",
   "metadata": {},
   "outputs": [
    {
     "data": {
      "text/html": [
       "<div>\n",
       "<style scoped>\n",
       "    .dataframe tbody tr th:only-of-type {\n",
       "        vertical-align: middle;\n",
       "    }\n",
       "\n",
       "    .dataframe tbody tr th {\n",
       "        vertical-align: top;\n",
       "    }\n",
       "\n",
       "    .dataframe thead th {\n",
       "        text-align: right;\n",
       "    }\n",
       "</style>\n",
       "<table border=\"1\" class=\"dataframe\">\n",
       "  <thead>\n",
       "    <tr style=\"text-align: right;\">\n",
       "      <th></th>\n",
       "      <th>Airline_name</th>\n",
       "      <th>Source</th>\n",
       "      <th>Destination</th>\n",
       "      <th>Total_stops</th>\n",
       "    </tr>\n",
       "  </thead>\n",
       "  <tbody>\n",
       "    <tr>\n",
       "      <th>0</th>\n",
       "      <td>Jet Airways</td>\n",
       "      <td>Kolkata</td>\n",
       "      <td>Banglore</td>\n",
       "      <td>1 stop</td>\n",
       "    </tr>\n",
       "    <tr>\n",
       "      <th>1</th>\n",
       "      <td>SpiceJet</td>\n",
       "      <td>Kolkata</td>\n",
       "      <td>Banglore</td>\n",
       "      <td>non-stop</td>\n",
       "    </tr>\n",
       "    <tr>\n",
       "      <th>2</th>\n",
       "      <td>IndiGo</td>\n",
       "      <td>Delhi</td>\n",
       "      <td>Cochin</td>\n",
       "      <td>1 stop</td>\n",
       "    </tr>\n",
       "    <tr>\n",
       "      <th>3</th>\n",
       "      <td>Jet Airways</td>\n",
       "      <td>Delhi</td>\n",
       "      <td>Cochin</td>\n",
       "      <td>1 stop</td>\n",
       "    </tr>\n",
       "    <tr>\n",
       "      <th>4</th>\n",
       "      <td>Vistara</td>\n",
       "      <td>Mumbai</td>\n",
       "      <td>Bangalore</td>\n",
       "      <td>1 stop</td>\n",
       "    </tr>\n",
       "  </tbody>\n",
       "</table>\n",
       "</div>"
      ],
      "text/plain": [
       "  Airline_name   Source Destination Total_stops\n",
       "0  Jet Airways  Kolkata    Banglore      1 stop\n",
       "1     SpiceJet  Kolkata    Banglore    non-stop\n",
       "2       IndiGo    Delhi      Cochin      1 stop\n",
       "3  Jet Airways    Delhi      Cochin      1 stop\n",
       "4      Vistara  Mumbai    Bangalore      1 stop"
      ]
     },
     "execution_count": 40,
     "metadata": {},
     "output_type": "execute_result"
    }
   ],
   "source": [
    "# Display categorical_data before labelEncoder.\n",
    "categorical_data.head()"
   ]
  },
  {
   "cell_type": "code",
   "execution_count": 41,
   "id": "a2de5a69",
   "metadata": {},
   "outputs": [],
   "source": [
    "# Apply Label Encoder to all datatset:\n",
    "from sklearn.preprocessing import LabelEncoder\n",
    "le = LabelEncoder()\n",
    "categorical_data = categorical_data.apply(LabelEncoder().fit_transform)"
   ]
  },
  {
   "cell_type": "code",
   "execution_count": 42,
   "id": "69af70ed",
   "metadata": {},
   "outputs": [
    {
     "data": {
      "text/html": [
       "<div>\n",
       "<style scoped>\n",
       "    .dataframe tbody tr th:only-of-type {\n",
       "        vertical-align: middle;\n",
       "    }\n",
       "\n",
       "    .dataframe tbody tr th {\n",
       "        vertical-align: top;\n",
       "    }\n",
       "\n",
       "    .dataframe thead th {\n",
       "        text-align: right;\n",
       "    }\n",
       "</style>\n",
       "<table border=\"1\" class=\"dataframe\">\n",
       "  <thead>\n",
       "    <tr style=\"text-align: right;\">\n",
       "      <th></th>\n",
       "      <th>Airline_name</th>\n",
       "      <th>Source</th>\n",
       "      <th>Destination</th>\n",
       "      <th>Total_stops</th>\n",
       "    </tr>\n",
       "  </thead>\n",
       "  <tbody>\n",
       "    <tr>\n",
       "      <th>0</th>\n",
       "      <td>5</td>\n",
       "      <td>4</td>\n",
       "      <td>4</td>\n",
       "      <td>0</td>\n",
       "    </tr>\n",
       "    <tr>\n",
       "      <th>1</th>\n",
       "      <td>9</td>\n",
       "      <td>4</td>\n",
       "      <td>4</td>\n",
       "      <td>3</td>\n",
       "    </tr>\n",
       "    <tr>\n",
       "      <th>2</th>\n",
       "      <td>4</td>\n",
       "      <td>3</td>\n",
       "      <td>5</td>\n",
       "      <td>0</td>\n",
       "    </tr>\n",
       "    <tr>\n",
       "      <th>3</th>\n",
       "      <td>5</td>\n",
       "      <td>3</td>\n",
       "      <td>5</td>\n",
       "      <td>0</td>\n",
       "    </tr>\n",
       "    <tr>\n",
       "      <th>4</th>\n",
       "      <td>10</td>\n",
       "      <td>6</td>\n",
       "      <td>0</td>\n",
       "      <td>0</td>\n",
       "    </tr>\n",
       "  </tbody>\n",
       "</table>\n",
       "</div>"
      ],
      "text/plain": [
       "   Airline_name  Source  Destination  Total_stops\n",
       "0             5       4            4            0\n",
       "1             9       4            4            3\n",
       "2             4       3            5            0\n",
       "3             5       3            5            0\n",
       "4            10       6            0            0"
      ]
     },
     "execution_count": 42,
     "metadata": {},
     "output_type": "execute_result"
    }
   ],
   "source": [
    "# Display categorical_data after labelEncoder.\n",
    "categorical_data.head()"
   ]
  },
  {
   "cell_type": "code",
   "execution_count": 43,
   "id": "fefc003a",
   "metadata": {},
   "outputs": [
    {
     "data": {
      "text/html": [
       "<div>\n",
       "<style scoped>\n",
       "    .dataframe tbody tr th:only-of-type {\n",
       "        vertical-align: middle;\n",
       "    }\n",
       "\n",
       "    .dataframe tbody tr th {\n",
       "        vertical-align: top;\n",
       "    }\n",
       "\n",
       "    .dataframe thead th {\n",
       "        text-align: right;\n",
       "    }\n",
       "</style>\n",
       "<table border=\"1\" class=\"dataframe\">\n",
       "  <thead>\n",
       "    <tr style=\"text-align: right;\">\n",
       "      <th></th>\n",
       "      <th>Duration</th>\n",
       "      <th>Journey_day</th>\n",
       "      <th>Journey_month</th>\n",
       "      <th>Dep_hour</th>\n",
       "      <th>Dep_min</th>\n",
       "      <th>Arrival_hour</th>\n",
       "      <th>Arrival_min</th>\n",
       "    </tr>\n",
       "  </thead>\n",
       "  <tbody>\n",
       "    <tr>\n",
       "      <th>0</th>\n",
       "      <td>1520</td>\n",
       "      <td>9</td>\n",
       "      <td>5</td>\n",
       "      <td>9</td>\n",
       "      <td>35</td>\n",
       "      <td>10</td>\n",
       "      <td>55</td>\n",
       "    </tr>\n",
       "    <tr>\n",
       "      <th>1</th>\n",
       "      <td>150</td>\n",
       "      <td>3</td>\n",
       "      <td>4</td>\n",
       "      <td>17</td>\n",
       "      <td>10</td>\n",
       "      <td>19</td>\n",
       "      <td>40</td>\n",
       "    </tr>\n",
       "    <tr>\n",
       "      <th>2</th>\n",
       "      <td>295</td>\n",
       "      <td>1</td>\n",
       "      <td>6</td>\n",
       "      <td>5</td>\n",
       "      <td>10</td>\n",
       "      <td>10</td>\n",
       "      <td>5</td>\n",
       "    </tr>\n",
       "    <tr>\n",
       "      <th>3</th>\n",
       "      <td>1655</td>\n",
       "      <td>27</td>\n",
       "      <td>5</td>\n",
       "      <td>9</td>\n",
       "      <td>0</td>\n",
       "      <td>12</td>\n",
       "      <td>35</td>\n",
       "    </tr>\n",
       "    <tr>\n",
       "      <th>4</th>\n",
       "      <td>925</td>\n",
       "      <td>7</td>\n",
       "      <td>9</td>\n",
       "      <td>17</td>\n",
       "      <td>35</td>\n",
       "      <td>9</td>\n",
       "      <td>0</td>\n",
       "    </tr>\n",
       "  </tbody>\n",
       "</table>\n",
       "</div>"
      ],
      "text/plain": [
       "   Duration  Journey_day  Journey_month  Dep_hour  Dep_min  Arrival_hour  \\\n",
       "0      1520            9              5         9       35            10   \n",
       "1       150            3              4        17       10            19   \n",
       "2       295            1              6         5       10            10   \n",
       "3      1655           27              5         9        0            12   \n",
       "4       925            7              9        17       35             9   \n",
       "\n",
       "   Arrival_min  \n",
       "0           55  \n",
       "1           40  \n",
       "2            5  \n",
       "3           35  \n",
       "4            0  "
      ]
     },
     "execution_count": 43,
     "metadata": {},
     "output_type": "execute_result"
    }
   ],
   "source": [
    "# Display numerical_data.\n",
    "numerical_data.head()"
   ]
  },
  {
   "cell_type": "markdown",
   "id": "6417d0b4",
   "metadata": {},
   "source": [
    "### Remove skewness and outliers."
   ]
  },
  {
   "cell_type": "code",
   "execution_count": 44,
   "id": "5976d289",
   "metadata": {},
   "outputs": [
    {
     "data": {
      "text/plain": [
       "Duration         0.845360\n",
       "Journey_month    0.681041\n",
       "Journey_day      0.417715\n",
       "Dep_min          0.128924\n",
       "Arrival_min      0.091013\n",
       "Dep_hour         0.040286\n",
       "Arrival_hour    -0.354108\n",
       "dtype: float64"
      ]
     },
     "execution_count": 44,
     "metadata": {},
     "output_type": "execute_result"
    }
   ],
   "source": [
    "# Check skewness:\n",
    "numerical_data.skew().sort_values(ascending=False)"
   ]
  },
  {
   "cell_type": "code",
   "execution_count": 45,
   "id": "be40a725",
   "metadata": {},
   "outputs": [],
   "source": [
    "# Remove skewness using log transform and sqrt method:\n",
    "import numpy as np\n",
    "numerical_data['Duration']=np.sqrt(numerical_data['Duration'])"
   ]
  },
  {
   "cell_type": "code",
   "execution_count": 46,
   "id": "ab0761b5",
   "metadata": {},
   "outputs": [
    {
     "data": {
      "text/plain": [
       "Journey_month    0.681041\n",
       "Journey_day      0.417715\n",
       "Duration         0.304736\n",
       "Dep_min          0.128924\n",
       "Arrival_min      0.091013\n",
       "Dep_hour         0.040286\n",
       "Arrival_hour    -0.354108\n",
       "dtype: float64"
      ]
     },
     "execution_count": 46,
     "metadata": {},
     "output_type": "execute_result"
    }
   ],
   "source": [
    "# Check skewness after removing skewness:\n",
    "numerical_data.skew().sort_values(ascending=False)"
   ]
  },
  {
   "cell_type": "code",
   "execution_count": 47,
   "id": "3e79fdaa",
   "metadata": {},
   "outputs": [
    {
     "data": {
      "text/plain": [
       "array([[<AxesSubplot:title={'center':'Duration'}>,\n",
       "        <AxesSubplot:title={'center':'Journey_day'}>,\n",
       "        <AxesSubplot:title={'center':'Journey_month'}>],\n",
       "       [<AxesSubplot:title={'center':'Dep_hour'}>,\n",
       "        <AxesSubplot:title={'center':'Dep_min'}>,\n",
       "        <AxesSubplot:title={'center':'Arrival_hour'}>],\n",
       "       [<AxesSubplot:title={'center':'Arrival_min'}>, <AxesSubplot:>,\n",
       "        <AxesSubplot:>]], dtype=object)"
      ]
     },
     "execution_count": 47,
     "metadata": {},
     "output_type": "execute_result"
    },
    {
     "data": {
      "image/png": "[encoded data removed]",
      "text/plain": [
       "<Figure size 1080x720 with 9 Axes>"
      ]
     },
     "metadata": {
      "needs_background": "light"
     },
     "output_type": "display_data"
    }
   ],
   "source": [
    "# Display histogram of all columns after remove skewness:\n",
    "numerical_data.hist(figsize=(15,10), layout=(3,3), sharex=False, bins=20)"
   ]
  },
  {
   "cell_type": "code",
   "execution_count": 48,
   "id": "130a7b95",
   "metadata": {},
   "outputs": [
    {
     "data": {
      "text/plain": [
       "Duration            AxesSubplot(0.125,0.657941;0.227941x0.222059)\n",
       "Journey_day      AxesSubplot(0.398529,0.657941;0.227941x0.222059)\n",
       "Journey_month    AxesSubplot(0.672059,0.657941;0.227941x0.222059)\n",
       "Dep_hour            AxesSubplot(0.125,0.391471;0.227941x0.222059)\n",
       "Dep_min          AxesSubplot(0.398529,0.391471;0.227941x0.222059)\n",
       "Arrival_hour     AxesSubplot(0.672059,0.391471;0.227941x0.222059)\n",
       "Arrival_min            AxesSubplot(0.125,0.125;0.227941x0.222059)\n",
       "dtype: object"
      ]
     },
     "execution_count": 48,
     "metadata": {},
     "output_type": "execute_result"
    },
    {
     "data": {
      "image/png": "[encoded data removed]",
      "text/plain": [
       "<Figure size 1440x1080 with 9 Axes>"
      ]
     },
     "metadata": {
      "needs_background": "light"
     },
     "output_type": "display_data"
    }
   ],
   "source": [
    "# Checking outliers with boxplot:\n",
    "numerical_data.plot(kind='box', subplots=True, layout=(3,3), figsize=(20,15))"
   ]
  },
  {
   "cell_type": "code",
   "execution_count": 50,
   "id": "ef568204",
   "metadata": {},
   "outputs": [
    {
     "data": {
      "text/plain": [
       "Duration         False\n",
       "Journey_day       True\n",
       "Journey_month     True\n",
       "Dep_hour          True\n",
       "Dep_min           True\n",
       "Arrival_hour      True\n",
       "Arrival_min       True\n",
       "dtype: bool"
      ]
     },
     "execution_count": 50,
     "metadata": {},
     "output_type": "execute_result"
    }
   ],
   "source": [
    "# Lets quantify:\n",
    "from scipy.stats import zscore\n",
    "(np.abs(zscore(numerical_data))<3).all()"
   ]
  },
  {
   "cell_type": "code",
   "execution_count": 51,
   "id": "9afe0694",
   "metadata": {},
   "outputs": [
    {
     "name": "stdout",
     "output_type": "stream",
     "text": [
      "(array([1046], dtype=int64), array([0], dtype=int64))\n"
     ]
    }
   ],
   "source": [
    "# Detecting outliers:\n",
    "from scipy.stats import zscore\n",
    "z = np.abs(zscore(numerical_data))\n",
    "print(np.where(z>3))"
   ]
  },
  {
   "cell_type": "markdown",
   "id": "54663f78",
   "metadata": {},
   "source": [
    "### Data Preprocessing (split the data into independent 'x' and dependent 'y' datasets)"
   ]
  },
  {
   "cell_type": "code",
   "execution_count": 52,
   "id": "c2030985",
   "metadata": {},
   "outputs": [],
   "source": [
    "# Here Concatenating both Categorical Data and Numerical Data:\n",
    "x = pd.concat([categorical_data, numerical_data], axis=1)\n",
    "y = df['Price']"
   ]
  },
  {
   "cell_type": "code",
   "execution_count": 54,
   "id": "45c7540a",
   "metadata": {},
   "outputs": [
    {
     "data": {
      "text/html": [
       "<div>\n",
       "<style scoped>\n",
       "    .dataframe tbody tr th:only-of-type {\n",
       "        vertical-align: middle;\n",
       "    }\n",
       "\n",
       "    .dataframe tbody tr th {\n",
       "        vertical-align: top;\n",
       "    }\n",
       "\n",
       "    .dataframe thead th {\n",
       "        text-align: right;\n",
       "    }\n",
       "</style>\n",
       "<table border=\"1\" class=\"dataframe\">\n",
       "  <thead>\n",
       "    <tr style=\"text-align: right;\">\n",
       "      <th></th>\n",
       "      <th>Airline_name</th>\n",
       "      <th>Source</th>\n",
       "      <th>Destination</th>\n",
       "      <th>Total_stops</th>\n",
       "      <th>Duration</th>\n",
       "      <th>Journey_day</th>\n",
       "      <th>Journey_month</th>\n",
       "      <th>Dep_hour</th>\n",
       "      <th>Dep_min</th>\n",
       "      <th>Arrival_hour</th>\n",
       "      <th>Arrival_min</th>\n",
       "    </tr>\n",
       "  </thead>\n",
       "  <tbody>\n",
       "    <tr>\n",
       "      <th>0</th>\n",
       "      <td>5</td>\n",
       "      <td>4</td>\n",
       "      <td>4</td>\n",
       "      <td>0</td>\n",
       "      <td>38.987177</td>\n",
       "      <td>9</td>\n",
       "      <td>5</td>\n",
       "      <td>9</td>\n",
       "      <td>35</td>\n",
       "      <td>10</td>\n",
       "      <td>55</td>\n",
       "    </tr>\n",
       "    <tr>\n",
       "      <th>1</th>\n",
       "      <td>9</td>\n",
       "      <td>4</td>\n",
       "      <td>4</td>\n",
       "      <td>3</td>\n",
       "      <td>12.247449</td>\n",
       "      <td>3</td>\n",
       "      <td>4</td>\n",
       "      <td>17</td>\n",
       "      <td>10</td>\n",
       "      <td>19</td>\n",
       "      <td>40</td>\n",
       "    </tr>\n",
       "    <tr>\n",
       "      <th>2</th>\n",
       "      <td>4</td>\n",
       "      <td>3</td>\n",
       "      <td>5</td>\n",
       "      <td>0</td>\n",
       "      <td>17.175564</td>\n",
       "      <td>1</td>\n",
       "      <td>6</td>\n",
       "      <td>5</td>\n",
       "      <td>10</td>\n",
       "      <td>10</td>\n",
       "      <td>5</td>\n",
       "    </tr>\n",
       "    <tr>\n",
       "      <th>3</th>\n",
       "      <td>5</td>\n",
       "      <td>3</td>\n",
       "      <td>5</td>\n",
       "      <td>0</td>\n",
       "      <td>40.681691</td>\n",
       "      <td>27</td>\n",
       "      <td>5</td>\n",
       "      <td>9</td>\n",
       "      <td>0</td>\n",
       "      <td>12</td>\n",
       "      <td>35</td>\n",
       "    </tr>\n",
       "    <tr>\n",
       "      <th>4</th>\n",
       "      <td>10</td>\n",
       "      <td>6</td>\n",
       "      <td>0</td>\n",
       "      <td>0</td>\n",
       "      <td>30.413813</td>\n",
       "      <td>7</td>\n",
       "      <td>9</td>\n",
       "      <td>17</td>\n",
       "      <td>35</td>\n",
       "      <td>9</td>\n",
       "      <td>0</td>\n",
       "    </tr>\n",
       "  </tbody>\n",
       "</table>\n",
       "</div>"
      ],
      "text/plain": [
       "   Airline_name  Source  Destination  Total_stops   Duration  Journey_day  \\\n",
       "0             5       4            4            0  38.987177            9   \n",
       "1             9       4            4            3  12.247449            3   \n",
       "2             4       3            5            0  17.175564            1   \n",
       "3             5       3            5            0  40.681691           27   \n",
       "4            10       6            0            0  30.413813            7   \n",
       "\n",
       "   Journey_month  Dep_hour  Dep_min  Arrival_hour  Arrival_min  \n",
       "0              5         9       35            10           55  \n",
       "1              4        17       10            19           40  \n",
       "2              6         5       10            10            5  \n",
       "3              5         9        0            12           35  \n",
       "4              9        17       35             9            0  "
      ]
     },
     "execution_count": 54,
     "metadata": {},
     "output_type": "execute_result"
    }
   ],
   "source": [
    "x.head()"
   ]
  },
  {
   "cell_type": "code",
   "execution_count": 55,
   "id": "986da32a",
   "metadata": {},
   "outputs": [
    {
     "data": {
      "text/plain": [
       "0    10953\n",
       "1     3841\n",
       "2     6842\n",
       "3    12898\n",
       "4     9280\n",
       "Name: Price, dtype: int64"
      ]
     },
     "execution_count": 55,
     "metadata": {},
     "output_type": "execute_result"
    }
   ],
   "source": [
    "y.head()"
   ]
  },
  {
   "cell_type": "code",
   "execution_count": 56,
   "id": "c8775c5f",
   "metadata": {},
   "outputs": [
    {
     "name": "stdout",
     "output_type": "stream",
     "text": [
      "(1533, 11) (1533,)\n"
     ]
    }
   ],
   "source": [
    "print(x.shape, y.shape)"
   ]
  },
  {
   "cell_type": "markdown",
   "id": "680bd542",
   "metadata": {},
   "source": [
    "# Scaling the data."
   ]
  },
  {
   "cell_type": "code",
   "execution_count": 57,
   "id": "4f776e08",
   "metadata": {},
   "outputs": [
    {
     "data": {
      "text/plain": [
       "array([[-0.05204319,  0.20716433, -0.15155037, ...,  0.54456632,\n",
       "        -0.50335041,  1.72537747],\n",
       "       [ 1.27766042,  0.20716433, -0.15155037, ..., -0.78265175,\n",
       "         0.81543531,  0.84125368],\n",
       "       [-0.3844691 , -0.3311118 ,  0.24558931, ..., -0.78265175,\n",
       "        -0.50335041, -1.22170182],\n",
       "       ...,\n",
       "       [-0.3844691 ,  2.36026881, -1.74010908, ..., -0.25176452,\n",
       "         1.4015623 ,  1.72537747],\n",
       "       [-0.3844691 , -0.3311118 ,  0.24558931, ...,  0.54456632,\n",
       "         0.37584007, -0.92699389],\n",
       "       [-1.38174681, -0.3311118 ,  0.24558931, ...,  1.34089716,\n",
       "         0.81543531, -0.63228596]])"
      ]
     },
     "execution_count": 57,
     "metadata": {},
     "output_type": "execute_result"
    }
   ],
   "source": [
    "from sklearn.preprocessing import StandardScaler\n",
    "\n",
    "st = StandardScaler()\n",
    "x = st.fit_transform(x)\n",
    "x"
   ]
  },
  {
   "cell_type": "markdown",
   "id": "86f1c1a0",
   "metadata": {},
   "source": [
    "# Training process begins."
   ]
  },
  {
   "cell_type": "markdown",
   "id": "3ddc44a6",
   "metadata": {},
   "source": [
    "#### Finding best random_state"
   ]
  },
  {
   "cell_type": "code",
   "execution_count": 58,
   "id": "1b0f044e",
   "metadata": {},
   "outputs": [],
   "source": [
    "from sklearn.linear_model import LinearRegression\n",
    "lr = LinearRegression()\n",
    "\n",
    "from sklearn.ensemble import RandomForestRegressor\n",
    "rf = RandomForestRegressor()\n",
    "\n",
    "from sklearn.ensemble import AdaBoostRegressor\n",
    "abr = AdaBoostRegressor()\n",
    "\n",
    "from sklearn.ensemble import GradientBoostingRegressor\n",
    "gbr = GradientBoostingRegressor()\n",
    "\n",
    "from sklearn.tree import DecisionTreeRegressor\n",
    "dtr = DecisionTreeRegressor()\n",
    "\n",
    "from sklearn.metrics import r2_score\n",
    "from sklearn.model_selection import train_test_split"
   ]
  },
  {
   "cell_type": "code",
   "execution_count": 59,
   "id": "53f1eadc",
   "metadata": {},
   "outputs": [
    {
     "name": "stdout",
     "output_type": "stream",
     "text": [
      "R2 score correspond to random state  0 is 0.3469653795551043\n",
      "R2 score correspond to random state  0 is 0.6035143049090321\n",
      "R2 score correspond to random state  0 is 0.4115476488733987\n",
      "R2 score correspond to random state  0 is 0.6392718713979728\n",
      "R2 score correspond to random state  0 is 0.2739793673204928\n",
      "R2 score correspond to random state  1 is 0.4065734561538936\n",
      "R2 score correspond to random state  1 is 0.7836734236308948\n",
      "R2 score correspond to random state  1 is 0.3939328711928456\n",
      "R2 score correspond to random state  1 is 0.7333091669325535\n",
      "R2 score correspond to random state  1 is 0.6124121816384613\n",
      "R2 score correspond to random state  2 is 0.3715915995241039\n",
      "R2 score correspond to random state  2 is 0.68509848290005\n",
      "R2 score correspond to random state  2 is 0.37928566324965873\n",
      "R2 score correspond to random state  2 is 0.6581272870528576\n",
      "R2 score correspond to random state  2 is 0.48967248139964303\n",
      "R2 score correspond to random state  3 is 0.3717148499326087\n",
      "R2 score correspond to random state  3 is 0.7794730553204944\n",
      "R2 score correspond to random state  3 is 0.5019212276038421\n",
      "R2 score correspond to random state  3 is 0.7577502749130998\n",
      "R2 score correspond to random state  3 is 0.6088599930317136\n",
      "R2 score correspond to random state  4 is 0.3824148496466502\n",
      "R2 score correspond to random state  4 is 0.7453277303788634\n",
      "R2 score correspond to random state  4 is 0.46246833346095073\n",
      "R2 score correspond to random state  4 is 0.6041519709441132\n",
      "R2 score correspond to random state  4 is 0.44639652870835556\n",
      "R2 score correspond to random state  5 is 0.3467190295066399\n",
      "R2 score correspond to random state  5 is 0.6277277915283985\n",
      "R2 score correspond to random state  5 is 0.47630726477124685\n",
      "R2 score correspond to random state  5 is 0.6445825741997114\n",
      "R2 score correspond to random state  5 is 0.4745886436928676\n",
      "R2 score correspond to random state  6 is 0.40417443753556115\n",
      "R2 score correspond to random state  6 is 0.7681771922959282\n",
      "R2 score correspond to random state  6 is 0.506284046069123\n",
      "R2 score correspond to random state  6 is 0.7163550458270327\n",
      "R2 score correspond to random state  6 is 0.6653903949775675\n",
      "R2 score correspond to random state  7 is 0.38712913396975746\n",
      "R2 score correspond to random state  7 is 0.8015162049713838\n",
      "R2 score correspond to random state  7 is 0.49978909791880866\n",
      "R2 score correspond to random state  7 is 0.7611347299160185\n",
      "R2 score correspond to random state  7 is 0.6512758586761833\n",
      "R2 score correspond to random state  8 is 0.31127383413580934\n",
      "R2 score correspond to random state  8 is 0.6450461371504967\n",
      "R2 score correspond to random state  8 is 0.4765771358895301\n",
      "R2 score correspond to random state  8 is 0.6143108740110005\n",
      "R2 score correspond to random state  8 is 0.6893803071921082\n",
      "R2 score correspond to random state  9 is 0.29895172287184935\n",
      "R2 score correspond to random state  9 is 0.5906612700685632\n",
      "R2 score correspond to random state  9 is 0.452379500425091\n",
      "R2 score correspond to random state  9 is 0.6196406794640958\n",
      "R2 score correspond to random state  9 is 0.3822601727419733\n",
      "R2 score correspond to random state  10 is 0.44376074740412497\n",
      "R2 score correspond to random state  10 is 0.7877210630853698\n",
      "R2 score correspond to random state  10 is 0.4924833375519503\n",
      "R2 score correspond to random state  10 is 0.7700066152629447\n",
      "R2 score correspond to random state  10 is 0.5325174298757969\n",
      "R2 score correspond to random state  11 is 0.46852978946636037\n",
      "R2 score correspond to random state  11 is 0.7388002704805672\n",
      "R2 score correspond to random state  11 is 0.5397650556851779\n",
      "R2 score correspond to random state  11 is 0.7145815649700709\n",
      "R2 score correspond to random state  11 is 0.43000474467977345\n",
      "R2 score correspond to random state  12 is 0.39447416751259723\n",
      "R2 score correspond to random state  12 is 0.8061866381796754\n",
      "R2 score correspond to random state  12 is 0.5736027845522467\n",
      "R2 score correspond to random state  12 is 0.709091996036882\n",
      "R2 score correspond to random state  12 is 0.5410057640727091\n",
      "R2 score correspond to random state  13 is 0.4178068600662399\n",
      "R2 score correspond to random state  13 is 0.7345934403372618\n",
      "R2 score correspond to random state  13 is 0.5151725353435027\n",
      "R2 score correspond to random state  13 is 0.6979780507521147\n",
      "R2 score correspond to random state  13 is 0.6230365784207956\n",
      "R2 score correspond to random state  14 is 0.327245481184527\n",
      "R2 score correspond to random state  14 is 0.7022816906509096\n",
      "R2 score correspond to random state  14 is 0.5347993113396494\n",
      "R2 score correspond to random state  14 is 0.6821546698751043\n",
      "R2 score correspond to random state  14 is 0.5058657912155988\n",
      "R2 score correspond to random state  15 is 0.3803032237706163\n",
      "R2 score correspond to random state  15 is 0.7207197555499198\n",
      "R2 score correspond to random state  15 is 0.47267825995652246\n",
      "R2 score correspond to random state  15 is 0.692027956803684\n",
      "R2 score correspond to random state  15 is 0.5589919898897722\n",
      "R2 score correspond to random state  16 is 0.28253168958717434\n",
      "R2 score correspond to random state  16 is 0.6599290815311674\n",
      "R2 score correspond to random state  16 is 0.48358765245885293\n",
      "R2 score correspond to random state  16 is 0.5883501173683507\n",
      "R2 score correspond to random state  16 is 0.6359412033905011\n",
      "R2 score correspond to random state  17 is 0.35328610849742004\n",
      "R2 score correspond to random state  17 is 0.7127106062876267\n",
      "R2 score correspond to random state  17 is 0.4536229364441816\n",
      "R2 score correspond to random state  17 is 0.685746979646286\n",
      "R2 score correspond to random state  17 is 0.5184955489804657\n",
      "R2 score correspond to random state  18 is 0.37901472827931926\n",
      "R2 score correspond to random state  18 is 0.7780490492289711\n",
      "R2 score correspond to random state  18 is 0.5000303514632842\n",
      "R2 score correspond to random state  18 is 0.7107662408222422\n",
      "R2 score correspond to random state  18 is 0.6833188198711493\n",
      "R2 score correspond to random state  19 is 0.39588758281336456\n",
      "R2 score correspond to random state  19 is 0.7212968570650808\n",
      "R2 score correspond to random state  19 is 0.48327085778953216\n",
      "R2 score correspond to random state  19 is 0.6917466516301337\n",
      "R2 score correspond to random state  19 is 0.7003833596572743\n",
      "R2 score correspond to random state  20 is 0.318944361202776\n",
      "R2 score correspond to random state  20 is 0.634449025806963\n",
      "R2 score correspond to random state  20 is 0.4729312596795785\n",
      "R2 score correspond to random state  20 is 0.613215609918648\n",
      "R2 score correspond to random state  20 is 0.31049364485459374\n",
      "R2 score correspond to random state  21 is 0.4108754727348003\n",
      "R2 score correspond to random state  21 is 0.7463947034756366\n",
      "R2 score correspond to random state  21 is 0.5677610743592747\n",
      "R2 score correspond to random state  21 is 0.7268650426303569\n",
      "R2 score correspond to random state  21 is 0.5770612031603591\n",
      "R2 score correspond to random state  22 is 0.4021821681551797\n",
      "R2 score correspond to random state  22 is 0.7723226186118733\n",
      "R2 score correspond to random state  22 is 0.49710373022575927\n",
      "R2 score correspond to random state  22 is 0.7039297108013332\n",
      "R2 score correspond to random state  22 is 0.5099675019898655\n",
      "R2 score correspond to random state  23 is 0.4169436235126023\n",
      "R2 score correspond to random state  23 is 0.73716227063223\n",
      "R2 score correspond to random state  23 is 0.5746759476590559\n",
      "R2 score correspond to random state  23 is 0.7607464820604324\n",
      "R2 score correspond to random state  23 is 0.44317273178464023\n",
      "R2 score correspond to random state  24 is 0.4010608398337715\n",
      "R2 score correspond to random state  24 is 0.792006924936507\n",
      "R2 score correspond to random state  24 is 0.46801820503211344\n",
      "R2 score correspond to random state  24 is 0.6915347566791028\n",
      "R2 score correspond to random state  24 is 0.3930409099478911\n",
      "R2 score correspond to random state  25 is 0.3138538248484932\n",
      "R2 score correspond to random state  25 is 0.6952032021451999\n",
      "R2 score correspond to random state  25 is 0.4629367871403096\n",
      "R2 score correspond to random state  25 is 0.6190783422888483\n",
      "R2 score correspond to random state  25 is 0.669946111495952\n",
      "R2 score correspond to random state  26 is 0.3040340650657002\n",
      "R2 score correspond to random state  26 is 0.6726038965228052\n",
      "R2 score correspond to random state  26 is 0.4238020962160469\n"
     ]
    },
    {
     "name": "stdout",
     "output_type": "stream",
     "text": [
      "R2 score correspond to random state  26 is 0.6822964839753428\n",
      "R2 score correspond to random state  26 is 0.3012458849873467\n",
      "R2 score correspond to random state  27 is 0.41833386389159644\n",
      "R2 score correspond to random state  27 is 0.7959828803188591\n",
      "R2 score correspond to random state  27 is 0.5356686889738205\n",
      "R2 score correspond to random state  27 is 0.7510580816132341\n",
      "R2 score correspond to random state  27 is 0.6989376199827249\n",
      "R2 score correspond to random state  28 is 0.41199201903391025\n",
      "R2 score correspond to random state  28 is 0.7796209401623959\n",
      "R2 score correspond to random state  28 is 0.44191417002369715\n",
      "R2 score correspond to random state  28 is 0.7288830311753978\n",
      "R2 score correspond to random state  28 is 0.6767943672048236\n",
      "R2 score correspond to random state  29 is 0.42147594208841976\n",
      "R2 score correspond to random state  29 is 0.804924825079143\n",
      "R2 score correspond to random state  29 is 0.5776211794431463\n",
      "R2 score correspond to random state  29 is 0.7347226539749387\n",
      "R2 score correspond to random state  29 is 0.6797291439588278\n",
      "R2 score correspond to random state  30 is 0.3925685364113244\n",
      "R2 score correspond to random state  30 is 0.7647349676436265\n",
      "R2 score correspond to random state  30 is 0.275975398289825\n",
      "R2 score correspond to random state  30 is 0.7453377248050682\n",
      "R2 score correspond to random state  30 is 0.5269874119712681\n",
      "R2 score correspond to random state  31 is 0.418057129248809\n",
      "R2 score correspond to random state  31 is 0.8302303770402322\n",
      "R2 score correspond to random state  31 is 0.6065014922667903\n",
      "R2 score correspond to random state  31 is 0.7967740367310857\n",
      "R2 score correspond to random state  31 is 0.6524871319932549\n",
      "R2 score correspond to random state  32 is 0.43402449966699674\n",
      "R2 score correspond to random state  32 is 0.752118820486411\n",
      "R2 score correspond to random state  32 is 0.5564263702503847\n",
      "R2 score correspond to random state  32 is 0.751889052952051\n",
      "R2 score correspond to random state  32 is 0.5514474994270536\n",
      "R2 score correspond to random state  33 is 0.35435032859256166\n",
      "R2 score correspond to random state  33 is 0.7265497596511592\n",
      "R2 score correspond to random state  33 is 0.5232645426320052\n",
      "R2 score correspond to random state  33 is 0.6957501187600684\n",
      "R2 score correspond to random state  33 is 0.5044470338670195\n",
      "R2 score correspond to random state  34 is 0.3401217987111612\n",
      "R2 score correspond to random state  34 is 0.6566657778881528\n",
      "R2 score correspond to random state  34 is 0.5067588413837156\n",
      "R2 score correspond to random state  34 is 0.6082410992482787\n",
      "R2 score correspond to random state  34 is 0.45295275538969626\n",
      "R2 score correspond to random state  35 is 0.41520697005228724\n",
      "R2 score correspond to random state  35 is 0.7489445459482853\n",
      "R2 score correspond to random state  35 is 0.49299775640756227\n",
      "R2 score correspond to random state  35 is 0.7556772007655064\n",
      "R2 score correspond to random state  35 is 0.6487367661685758\n",
      "R2 score correspond to random state  36 is 0.380540880301494\n",
      "R2 score correspond to random state  36 is 0.7256338173894993\n",
      "R2 score correspond to random state  36 is 0.4279244470124772\n",
      "R2 score correspond to random state  36 is 0.6542417080944629\n",
      "R2 score correspond to random state  36 is 0.5800138919098604\n",
      "R2 score correspond to random state  37 is 0.35328646635006733\n",
      "R2 score correspond to random state  37 is 0.7347571356860678\n",
      "R2 score correspond to random state  37 is 0.48137304516225354\n",
      "R2 score correspond to random state  37 is 0.6185832135092244\n",
      "R2 score correspond to random state  37 is 0.7403298504294396\n",
      "R2 score correspond to random state  38 is 0.4333562089346026\n",
      "R2 score correspond to random state  38 is 0.7621810568332141\n",
      "R2 score correspond to random state  38 is 0.40905300959558444\n",
      "R2 score correspond to random state  38 is 0.7181563778477957\n",
      "R2 score correspond to random state  38 is 0.4687929550600508\n",
      "R2 score correspond to random state  39 is 0.42196379861966604\n",
      "R2 score correspond to random state  39 is 0.7957154223224513\n",
      "R2 score correspond to random state  39 is 0.4792278426693195\n",
      "R2 score correspond to random state  39 is 0.7420167761829978\n",
      "R2 score correspond to random state  39 is 0.5817316607671066\n",
      "R2 score correspond to random state  40 is 0.2934461536267904\n",
      "R2 score correspond to random state  40 is 0.7562853156349061\n",
      "R2 score correspond to random state  40 is 0.5125404205997832\n",
      "R2 score correspond to random state  40 is 0.6584876013569956\n",
      "R2 score correspond to random state  40 is 0.6354093781119701\n",
      "R2 score correspond to random state  41 is 0.41979696952106893\n",
      "R2 score correspond to random state  41 is 0.7054219637678836\n",
      "R2 score correspond to random state  41 is 0.406092092522254\n",
      "R2 score correspond to random state  41 is 0.7217601270489893\n",
      "R2 score correspond to random state  41 is 0.6312854954421787\n",
      "R2 score correspond to random state  42 is 0.3987908773044241\n",
      "R2 score correspond to random state  42 is 0.7388353455182899\n",
      "R2 score correspond to random state  42 is 0.5013720514348979\n",
      "R2 score correspond to random state  42 is 0.7086539223511882\n",
      "R2 score correspond to random state  42 is 0.5500647382161137\n",
      "R2 score correspond to random state  43 is 0.41064636673061006\n",
      "R2 score correspond to random state  43 is 0.7318210952807553\n",
      "R2 score correspond to random state  43 is 0.49183518297996176\n",
      "R2 score correspond to random state  43 is 0.6907897336879538\n",
      "R2 score correspond to random state  43 is 0.5640530451114927\n",
      "R2 score correspond to random state  44 is 0.45887059400204944\n",
      "R2 score correspond to random state  44 is 0.7623407713767633\n",
      "R2 score correspond to random state  44 is 0.49760783189996594\n",
      "R2 score correspond to random state  44 is 0.5272284923132737\n",
      "R2 score correspond to random state  44 is 0.5825015448615318\n",
      "R2 score correspond to random state  45 is 0.3436533620835275\n",
      "R2 score correspond to random state  45 is 0.7171808145851705\n",
      "R2 score correspond to random state  45 is 0.4036503654193876\n",
      "R2 score correspond to random state  45 is 0.7079864965961662\n",
      "R2 score correspond to random state  45 is 0.5321517707328713\n",
      "R2 score correspond to random state  46 is 0.3721690954667326\n",
      "R2 score correspond to random state  46 is 0.7958391767584314\n",
      "R2 score correspond to random state  46 is 0.5133577781714403\n",
      "R2 score correspond to random state  46 is 0.7896198589534209\n",
      "R2 score correspond to random state  46 is 0.6588053154396332\n",
      "R2 score correspond to random state  47 is 0.39765564756987093\n",
      "R2 score correspond to random state  47 is 0.7859612999459278\n",
      "R2 score correspond to random state  47 is 0.586840614196781\n",
      "R2 score correspond to random state  47 is 0.7603343963181333\n",
      "R2 score correspond to random state  47 is 0.6292677615251691\n",
      "R2 score correspond to random state  48 is 0.438484198050076\n",
      "R2 score correspond to random state  48 is 0.7319199366077327\n",
      "R2 score correspond to random state  48 is 0.42545678933637543\n",
      "R2 score correspond to random state  48 is 0.7176138309725517\n",
      "R2 score correspond to random state  48 is 0.6304108095891807\n",
      "R2 score correspond to random state  49 is 0.43782211316624187\n",
      "R2 score correspond to random state  49 is 0.7630114661799405\n",
      "R2 score correspond to random state  49 is 0.4945181644759825\n",
      "R2 score correspond to random state  49 is 0.6394484586010994\n",
      "R2 score correspond to random state  49 is 0.5023220891808018\n",
      "R2 score correspond to random state  50 is 0.2824460153529239\n",
      "R2 score correspond to random state  50 is 0.572198205012842\n",
      "R2 score correspond to random state  50 is 0.4507774597546088\n",
      "R2 score correspond to random state  50 is 0.5849172849484159\n",
      "R2 score correspond to random state  50 is 0.3707996580383167\n",
      "R2 score correspond to random state  51 is 0.3900535314473875\n",
      "R2 score correspond to random state  51 is 0.7833204299548706\n",
      "R2 score correspond to random state  51 is 0.5315504642824677\n",
      "R2 score correspond to random state  51 is 0.780237539983683\n",
      "R2 score correspond to random state  51 is 0.672577112832305\n",
      "R2 score correspond to random state  52 is 0.3662763458287187\n",
      "R2 score correspond to random state  52 is 0.7504722656588518\n",
      "R2 score correspond to random state  52 is 0.5270645710760815\n",
      "R2 score correspond to random state  52 is 0.706212329720598\n",
      "R2 score correspond to random state  52 is 0.5937316330113647\n",
      "R2 score correspond to random state  53 is 0.309331903553381\n"
     ]
    },
    {
     "name": "stdout",
     "output_type": "stream",
     "text": [
      "R2 score correspond to random state  53 is 0.6824648774586559\n",
      "R2 score correspond to random state  53 is 0.49069069365916373\n",
      "R2 score correspond to random state  53 is 0.6513096819955344\n",
      "R2 score correspond to random state  53 is 0.5566418043003274\n",
      "R2 score correspond to random state  54 is 0.440175070195406\n",
      "R2 score correspond to random state  54 is 0.7953139954432775\n",
      "R2 score correspond to random state  54 is 0.47164071174983724\n",
      "R2 score correspond to random state  54 is 0.7616901304757551\n",
      "R2 score correspond to random state  54 is 0.6470261972887568\n",
      "R2 score correspond to random state  55 is 0.38571633042051734\n",
      "R2 score correspond to random state  55 is 0.7737652000232691\n",
      "R2 score correspond to random state  55 is 0.5274868303018604\n",
      "R2 score correspond to random state  55 is 0.7317790394020147\n",
      "R2 score correspond to random state  55 is 0.6019897634079772\n",
      "R2 score correspond to random state  56 is 0.3876620114540612\n",
      "R2 score correspond to random state  56 is 0.8026959788289126\n",
      "R2 score correspond to random state  56 is 0.49043391791991797\n",
      "R2 score correspond to random state  56 is 0.7626296744391993\n",
      "R2 score correspond to random state  56 is 0.7185136349135749\n",
      "R2 score correspond to random state  57 is 0.3490078297091713\n",
      "R2 score correspond to random state  57 is 0.7064436792474884\n",
      "R2 score correspond to random state  57 is 0.44991410017268485\n",
      "R2 score correspond to random state  57 is 0.6912116081121548\n",
      "R2 score correspond to random state  57 is 0.6180522808490967\n",
      "R2 score correspond to random state  58 is 0.2859817317920721\n",
      "R2 score correspond to random state  58 is 0.6452026563344302\n",
      "R2 score correspond to random state  58 is 0.5114912867638078\n",
      "R2 score correspond to random state  58 is 0.5824753461843403\n",
      "R2 score correspond to random state  58 is 0.6369311578773265\n",
      "R2 score correspond to random state  59 is 0.4535181209159539\n",
      "R2 score correspond to random state  59 is 0.8097556915747814\n",
      "R2 score correspond to random state  59 is 0.540001696635741\n",
      "R2 score correspond to random state  59 is 0.748070378833089\n",
      "R2 score correspond to random state  59 is 0.6095167391520538\n",
      "R2 score correspond to random state  60 is 0.46372937057993036\n",
      "R2 score correspond to random state  60 is 0.7460581090227433\n",
      "R2 score correspond to random state  60 is 0.5104976937179879\n",
      "R2 score correspond to random state  60 is 0.7212661611015618\n",
      "R2 score correspond to random state  60 is 0.5663171573517627\n",
      "R2 score correspond to random state  61 is 0.4000242834326443\n",
      "R2 score correspond to random state  61 is 0.7659852085581383\n",
      "R2 score correspond to random state  61 is 0.552744102772347\n",
      "R2 score correspond to random state  61 is 0.7147583326888812\n",
      "R2 score correspond to random state  61 is 0.514714855015656\n",
      "R2 score correspond to random state  62 is 0.3235352102135044\n",
      "R2 score correspond to random state  62 is 0.7114031648554653\n",
      "R2 score correspond to random state  62 is 0.4137415823965911\n",
      "R2 score correspond to random state  62 is 0.6645823721334314\n",
      "R2 score correspond to random state  62 is 0.5837194119709915\n",
      "R2 score correspond to random state  63 is 0.2918304095468012\n",
      "R2 score correspond to random state  63 is 0.5758065451667049\n",
      "R2 score correspond to random state  63 is 0.39225437817994735\n",
      "R2 score correspond to random state  63 is 0.5963579791648683\n",
      "R2 score correspond to random state  63 is 0.3846185099144419\n",
      "R2 score correspond to random state  64 is 0.39861782963360004\n",
      "R2 score correspond to random state  64 is 0.7060758894652555\n",
      "R2 score correspond to random state  64 is 0.49707466091693797\n",
      "R2 score correspond to random state  64 is 0.7315952629143534\n",
      "R2 score correspond to random state  64 is 0.4846144692924369\n",
      "R2 score correspond to random state  65 is 0.4092242187431627\n",
      "R2 score correspond to random state  65 is 0.7964694879213084\n",
      "R2 score correspond to random state  65 is 0.4862810387658252\n",
      "R2 score correspond to random state  65 is 0.7625378286398415\n",
      "R2 score correspond to random state  65 is 0.6636122749410709\n",
      "R2 score correspond to random state  66 is 0.4367070387841696\n",
      "R2 score correspond to random state  66 is 0.7941282891666637\n",
      "R2 score correspond to random state  66 is 0.49342005272877654\n",
      "R2 score correspond to random state  66 is 0.7684852347176584\n",
      "R2 score correspond to random state  66 is 0.6065411401815753\n",
      "R2 score correspond to random state  67 is 0.4589339322183733\n",
      "R2 score correspond to random state  67 is 0.7856855904648438\n",
      "R2 score correspond to random state  67 is 0.5310840012214065\n",
      "R2 score correspond to random state  67 is 0.7491772885419561\n",
      "R2 score correspond to random state  67 is 0.6270018723505355\n",
      "R2 score correspond to random state  68 is 0.44974496807200415\n",
      "R2 score correspond to random state  68 is 0.7860143850636164\n",
      "R2 score correspond to random state  68 is 0.5071351094952956\n",
      "R2 score correspond to random state  68 is 0.7743932272072763\n",
      "R2 score correspond to random state  68 is 0.7265751614558045\n",
      "R2 score correspond to random state  69 is 0.38718829468500127\n",
      "R2 score correspond to random state  69 is 0.7328932284936556\n",
      "R2 score correspond to random state  69 is 0.49165794266724305\n",
      "R2 score correspond to random state  69 is 0.6968648643621327\n",
      "R2 score correspond to random state  69 is 0.6617198803934501\n",
      "R2 score correspond to random state  70 is 0.31411361697206364\n",
      "R2 score correspond to random state  70 is 0.5139377778195582\n",
      "R2 score correspond to random state  70 is 0.4195749464747609\n",
      "R2 score correspond to random state  70 is 0.5844207572710554\n",
      "R2 score correspond to random state  70 is 0.3988105958661139\n",
      "R2 score correspond to random state  71 is 0.384525898698862\n",
      "R2 score correspond to random state  71 is 0.7643225738917707\n",
      "R2 score correspond to random state  71 is 0.5336859533539473\n",
      "R2 score correspond to random state  71 is 0.741561907991422\n",
      "R2 score correspond to random state  71 is 0.6113606572625253\n",
      "R2 score correspond to random state  72 is 0.4499385265307959\n",
      "R2 score correspond to random state  72 is 0.807411892558771\n",
      "R2 score correspond to random state  72 is 0.527327788531914\n",
      "R2 score correspond to random state  72 is 0.7509586347538955\n",
      "R2 score correspond to random state  72 is 0.561795850626823\n",
      "R2 score correspond to random state  73 is 0.34869668086636396\n",
      "R2 score correspond to random state  73 is 0.7516771423003783\n",
      "R2 score correspond to random state  73 is 0.5025019817839822\n",
      "R2 score correspond to random state  73 is 0.7032078011896965\n",
      "R2 score correspond to random state  73 is 0.6570797471634917\n",
      "R2 score correspond to random state  74 is 0.39733153508600216\n",
      "R2 score correspond to random state  74 is 0.7221543965667476\n",
      "R2 score correspond to random state  74 is 0.5172221685130116\n",
      "R2 score correspond to random state  74 is 0.7071038562776731\n",
      "R2 score correspond to random state  74 is 0.612821431401782\n",
      "R2 score correspond to random state  75 is 0.3806194250917888\n",
      "R2 score correspond to random state  75 is 0.814452148142148\n",
      "R2 score correspond to random state  75 is 0.5187166825148787\n",
      "R2 score correspond to random state  75 is 0.7598636192508421\n",
      "R2 score correspond to random state  75 is 0.5724023571408714\n",
      "R2 score correspond to random state  76 is 0.30801570816119017\n",
      "R2 score correspond to random state  76 is 0.6461120056718197\n",
      "R2 score correspond to random state  76 is 0.4636813053799612\n",
      "R2 score correspond to random state  76 is 0.6320232264110952\n",
      "R2 score correspond to random state  76 is 0.42571410880911276\n",
      "R2 score correspond to random state  77 is 0.37751221489150044\n",
      "R2 score correspond to random state  77 is 0.7504251669590631\n",
      "R2 score correspond to random state  77 is 0.4712482032426072\n",
      "R2 score correspond to random state  77 is 0.7113626001864715\n",
      "R2 score correspond to random state  77 is 0.5360925415928561\n",
      "R2 score correspond to random state  78 is 0.34172760129552227\n",
      "R2 score correspond to random state  78 is 0.8186538673193753\n",
      "R2 score correspond to random state  78 is 0.5152923553504158\n",
      "R2 score correspond to random state  78 is 0.7570035695185264\n",
      "R2 score correspond to random state  78 is 0.7513912344286093\n",
      "R2 score correspond to random state  79 is 0.4267600826437602\n",
      "R2 score correspond to random state  79 is 0.8307051042076956\n",
      "R2 score correspond to random state  79 is 0.4860292984488509\n",
      "R2 score correspond to random state  79 is 0.8051084812842849\n",
      "R2 score correspond to random state  79 is 0.6789720964112294\n",
      "R2 score correspond to random state  80 is 0.3516409586564726\n"
     ]
    },
    {
     "name": "stdout",
     "output_type": "stream",
     "text": [
      "R2 score correspond to random state  80 is 0.6839425602604934\n",
      "R2 score correspond to random state  80 is 0.49034153251249757\n",
      "R2 score correspond to random state  80 is 0.6348358438981956\n",
      "R2 score correspond to random state  80 is 0.6709612525964457\n",
      "R2 score correspond to random state  81 is 0.4494365444089631\n",
      "R2 score correspond to random state  81 is 0.7079602924510282\n",
      "R2 score correspond to random state  81 is 0.5348526042999479\n",
      "R2 score correspond to random state  81 is 0.7408268127233937\n",
      "R2 score correspond to random state  81 is 0.48207143836882627\n",
      "R2 score correspond to random state  82 is 0.40873851819872353\n",
      "R2 score correspond to random state  82 is 0.7507901025829602\n",
      "R2 score correspond to random state  82 is 0.4413514032041923\n",
      "R2 score correspond to random state  82 is 0.7281312343461082\n",
      "R2 score correspond to random state  82 is 0.49972729284679807\n",
      "R2 score correspond to random state  83 is 0.353468800306066\n",
      "R2 score correspond to random state  83 is 0.6324441429968739\n",
      "R2 score correspond to random state  83 is 0.44938377178100075\n",
      "R2 score correspond to random state  83 is 0.6284134740673784\n",
      "R2 score correspond to random state  83 is 0.5806370166877388\n",
      "R2 score correspond to random state  84 is 0.32132682831472803\n",
      "R2 score correspond to random state  84 is 0.7503378841270956\n",
      "R2 score correspond to random state  84 is 0.4521869835321719\n",
      "R2 score correspond to random state  84 is 0.678278624115449\n",
      "R2 score correspond to random state  84 is 0.6065905206876461\n",
      "R2 score correspond to random state  85 is 0.3930146036037474\n",
      "R2 score correspond to random state  85 is 0.7368174014676206\n",
      "R2 score correspond to random state  85 is 0.48442084110094485\n",
      "R2 score correspond to random state  85 is 0.7358284914666084\n",
      "R2 score correspond to random state  85 is 0.6479022723561378\n",
      "R2 score correspond to random state  86 is 0.35982403662419815\n",
      "R2 score correspond to random state  86 is 0.7732513015933714\n",
      "R2 score correspond to random state  86 is 0.49645810151570546\n",
      "R2 score correspond to random state  86 is 0.7496543457150516\n",
      "R2 score correspond to random state  86 is 0.578088920017084\n",
      "R2 score correspond to random state  87 is 0.31734305814858965\n",
      "R2 score correspond to random state  87 is 0.633737442489178\n",
      "R2 score correspond to random state  87 is 0.4169031095317576\n",
      "R2 score correspond to random state  87 is 0.6398284500320015\n",
      "R2 score correspond to random state  87 is 0.13477935039770617\n",
      "R2 score correspond to random state  88 is 0.36951007687902004\n",
      "R2 score correspond to random state  88 is 0.7602494094448716\n",
      "R2 score correspond to random state  88 is 0.5414325797551777\n",
      "R2 score correspond to random state  88 is 0.7270914518025853\n",
      "R2 score correspond to random state  88 is 0.6627760772433835\n",
      "R2 score correspond to random state  89 is 0.4538470261059012\n",
      "R2 score correspond to random state  89 is 0.7699326935596904\n",
      "R2 score correspond to random state  89 is 0.5801970328379037\n",
      "R2 score correspond to random state  89 is 0.7698478326188058\n",
      "R2 score correspond to random state  89 is 0.6076258885278323\n",
      "R2 score correspond to random state  90 is 0.4449661006994191\n",
      "R2 score correspond to random state  90 is 0.7767766510287204\n",
      "R2 score correspond to random state  90 is 0.47834706956890427\n",
      "R2 score correspond to random state  90 is 0.7712137659354605\n",
      "R2 score correspond to random state  90 is 0.5925897280339041\n",
      "R2 score correspond to random state  91 is 0.42960055828486077\n",
      "R2 score correspond to random state  91 is 0.7686057425434545\n",
      "R2 score correspond to random state  91 is 0.4658469964488122\n",
      "R2 score correspond to random state  91 is 0.7465109339604485\n",
      "R2 score correspond to random state  91 is 0.6046220648245353\n",
      "R2 score correspond to random state  92 is 0.3613520929022298\n",
      "R2 score correspond to random state  92 is 0.7217341768101471\n",
      "R2 score correspond to random state  92 is 0.47263492584596034\n",
      "R2 score correspond to random state  92 is 0.7106237293602367\n",
      "R2 score correspond to random state  92 is 0.4687763301554255\n",
      "R2 score correspond to random state  93 is 0.4090679583428405\n",
      "R2 score correspond to random state  93 is 0.8045439854429767\n",
      "R2 score correspond to random state  93 is 0.49378109142417914\n",
      "R2 score correspond to random state  93 is 0.6507229757488111\n",
      "R2 score correspond to random state  93 is 0.6479699707433577\n",
      "R2 score correspond to random state  94 is 0.35576673213391774\n",
      "R2 score correspond to random state  94 is 0.7528902241099855\n",
      "R2 score correspond to random state  94 is 0.48923147198904204\n",
      "R2 score correspond to random state  94 is 0.7308560349420332\n",
      "R2 score correspond to random state  94 is 0.6426125157610016\n",
      "R2 score correspond to random state  95 is 0.3479008145747641\n",
      "R2 score correspond to random state  95 is 0.6218805525919369\n",
      "R2 score correspond to random state  95 is 0.46410937333011193\n",
      "R2 score correspond to random state  95 is 0.6301097601474012\n",
      "R2 score correspond to random state  95 is 0.5385771672564719\n",
      "R2 score correspond to random state  96 is 0.39264936090162084\n",
      "R2 score correspond to random state  96 is 0.729317942176694\n",
      "R2 score correspond to random state  96 is 0.47370006335023496\n",
      "R2 score correspond to random state  96 is 0.697279528260739\n",
      "R2 score correspond to random state  96 is 0.570646900593443\n",
      "R2 score correspond to random state  97 is 0.3260093767163509\n",
      "R2 score correspond to random state  97 is 0.6736950876357449\n",
      "R2 score correspond to random state  97 is 0.43265561524431106\n",
      "R2 score correspond to random state  97 is 0.6215930889872454\n",
      "R2 score correspond to random state  97 is 0.36198363859823945\n",
      "R2 score correspond to random state  98 is 0.42453851165311063\n",
      "R2 score correspond to random state  98 is 0.8280761218549259\n",
      "R2 score correspond to random state  98 is 0.520896068263161\n",
      "R2 score correspond to random state  98 is 0.8194055939489358\n",
      "R2 score correspond to random state  98 is 0.5081775452311872\n",
      "R2 score correspond to random state  99 is 0.410462336224943\n",
      "R2 score correspond to random state  99 is 0.7809743555799791\n",
      "R2 score correspond to random state  99 is 0.5363357100492134\n",
      "R2 score correspond to random state  99 is 0.7614743559913988\n",
      "R2 score correspond to random state  99 is 0.6759659048153959\n"
     ]
    }
   ],
   "source": [
    "model = [lr,rf,abr,gbr,dtr]\n",
    "max_r2_score = 0\n",
    "for r_state in range(0,100):\n",
    "    x_train, x_test, y_train, y_test = train_test_split(x,y,test_size=.20,random_state = r_state)\n",
    "    for i in model:\n",
    "        i.fit(x_train,y_train)\n",
    "        pred_test = i.predict(x_test)\n",
    "        r2_sc = r2_score(y_test,pred_test)\n",
    "        print(\"R2 score correspond to random state \",r_state,\"is\",r2_sc)\n",
    "        if r2_sc > max_r2_score:\n",
    "            max_r2_score = r2_sc\n",
    "            final_state = r_state\n",
    "            final_model = i"
   ]
  },
  {
   "cell_type": "code",
   "execution_count": 60,
   "id": "23263333",
   "metadata": {},
   "outputs": [
    {
     "name": "stdout",
     "output_type": "stream",
     "text": [
      "max R2 score correspond to random state  79 is 0.8307051042076956 and model is RandomForestRegressor()\n"
     ]
    }
   ],
   "source": [
    "print(\"max R2 score correspond to random state \",final_state,\"is\",max_r2_score,\"and model is\",final_model)"
   ]
  },
  {
   "cell_type": "markdown",
   "id": "9e22d406",
   "metadata": {},
   "source": [
    "# Creating train-test split:"
   ]
  },
  {
   "cell_type": "code",
   "execution_count": 61,
   "id": "f14085a0",
   "metadata": {},
   "outputs": [],
   "source": [
    "x_train, x_test, y_train, y_test = train_test_split(x,y,test_size=.20,random_state = 79)"
   ]
  },
  {
   "cell_type": "markdown",
   "id": "e757d3b1",
   "metadata": {},
   "source": [
    "### Apply best model:"
   ]
  },
  {
   "cell_type": "code",
   "execution_count": 62,
   "id": "9f1abce8",
   "metadata": {},
   "outputs": [
    {
     "name": "stdout",
     "output_type": "stream",
     "text": [
      "r2 score :-  0.8297931346192062\n"
     ]
    }
   ],
   "source": [
    "rf.fit(x_train,y_train)\n",
    "pred = rf.predict(x_test)\n",
    "print(\"r2 score :- \",r2_score(y_test,pred))"
   ]
  },
  {
   "cell_type": "code",
   "execution_count": 63,
   "id": "06f0d4ac",
   "metadata": {},
   "outputs": [
    {
     "name": "stdout",
     "output_type": "stream",
     "text": [
      "predicted ticket price: [ 3180.86       11339.54       13469.22        5187.15\n",
      " 12701.6         7005.8         8448.695      14926.715\n",
      "  2646.035      10070.         10492.43       14472.525\n",
      "  4537.64       13219.72        6786.39        8555.87\n",
      "  4462.9825      6542.58       16606.37        7713.72866667\n",
      "  5887.95       11988.77       11428.82        9268.68\n",
      "  3846.22       11391.27       10078.43        4627.54666667\n",
      "  9282.75        3821.58       11603.04714286 11066.12833333\n",
      "  8357.63        6246.35       12048.24        3866.035\n",
      " 13268.71        4445.75        9446.03        9280.\n",
      "  8074.42        7543.49       10697.11       12118.7\n",
      " 16700.04        7618.94       11386.1        12011.775\n",
      " 13075.5275     11767.53        4083.69        6830.98\n",
      "  4426.09666667  4721.95        6553.71       12033.425\n",
      " 10242.44166667  4703.68       10128.16       12111.16166667\n",
      " 12271.13       13064.66       12244.82        9083.58166667\n",
      " 16895.73        6238.31        9596.8025      7911.72\n",
      "  4789.22        7558.76       12473.825      26440.47\n",
      " 10070.          4818.16        3881.24        9264.415\n",
      " 10319.865       4003.66        9280.          8953.49\n",
      "  4550.72       12229.85       10264.85        8291.75\n",
      "  5264.38       16749.48        4643.425      13714.39\n",
      "  7318.43        5211.4         9166.39       12738.16\n",
      "  8151.96        5207.9925      7591.71       11307.91833333\n",
      " 12464.365      10386.35916667  4254.01        5685.93333333\n",
      "  4780.17       10070.         19726.31       15320.06\n",
      " 11604.87        7626.69033333  7803.57       10070.\n",
      "  4820.7         8037.71       12851.105       3098.97\n",
      "  4431.3775     11921.22633333 13813.91        4232.34\n",
      " 17161.86        4621.27666667 10934.61        7800.4425\n",
      " 18377.32        9170.945       9190.01       11359.24\n",
      " 11781.23       12170.13333333 10381.54       14432.87\n",
      " 11239.71        5993.525      10020.47        9130.47\n",
      "  7937.92        4306.28333333 17062.83       11482.54\n",
      "  4259.515       7726.52       12807.9075     17645.96\n",
      " 12171.34       17332.02        9271.99       13518.15\n",
      " 11222.75       10681.85        4655.76        6225.24\n",
      " 12618.82       12526.435       3982.51        5596.01\n",
      " 10005.86        4815.72892857  5629.77        5945.48\n",
      "  9128.22        7449.4275      4891.37       10590.94\n",
      "  4493.83        9442.92333333  4622.09        9264.385\n",
      "  2859.14        4933.23        7237.68       12595.56\n",
      " 11522.39333333  9280.          8337.18       12978.9775\n",
      "  5830.67        9276.68        7983.64       13159.56\n",
      " 12363.73       14035.61        9538.83       10344.34\n",
      "  9279.18        4324.89333333 11368.94        4574.81\n",
      "  6945.88666667  4371.3675     13276.336      10498.79\n",
      " 11025.63        6844.6         9274.86        4032.94\n",
      "  9604.84       10344.34       11354.55       13540.66\n",
      "  3094.81        4780.95        5582.5        14104.58\n",
      "  6519.49       10408.77       11663.48        4755.33\n",
      "  7289.01        6833.45        5093.05       11900.52\n",
      "  7246.98       11328.2         9276.555       7890.57\n",
      " 10036.16       12808.7075     12505.06        5891.38\n",
      " 10041.98        6321.15        9273.3        12281.1875\n",
      " 10115.04       14202.95        7791.06       12517.3\n",
      "  2807.22        5405.58       21511.91       12327.82\n",
      "  9118.03       15145.59       13528.39       11775.31\n",
      "  5183.87        6893.92        4974.01        8912.57\n",
      " 12110.13       14037.83       10184.00833333 16702.04\n",
      "  3617.54        9351.38        2958.985       7062.13\n",
      " 14301.75        6122.65666667 11912.20180952  9837.92\n",
      "  9508.568      14510.22       13305.18        4373.26\n",
      "  9351.07        8125.84        9261.75        9352.57\n",
      "  5034.58       12226.36        6792.24       13090.12\n",
      "  6453.04833333 16888.12       10647.55        9041.4005\n",
      "  5841.18        7701.26       11611.95        4989.13\n",
      " 13815.8        11473.1975      9275.76       12846.09833333\n",
      " 10344.34       13634.89       11941.63        7358.092\n",
      "  9481.97        4265.38        8833.39       14338.0025\n",
      " 12555.05333333 14035.61        6778.25        4606.63\n",
      "  5048.53        9953.43        7522.72        9540.40833333\n",
      " 12792.18       12697.34        4300.21        9817.36\n",
      "  4745.79        9260.49       10735.01083333  9173.36\n",
      "  8518.59        4560.38       10869.488       4046.93133333\n",
      "  7050.35783333 11736.70714286  6225.24        7335.194\n",
      "  7169.85833333  4369.744       8160.27      ]\n",
      "actual ticket price 908      3625\n",
      "864     11087\n",
      "206     12819\n",
      "1235     4148\n",
      "1419    12373\n",
      "        ...  \n",
      "685      4050\n",
      "344     10156\n",
      "743      4030\n",
      "697      3873\n",
      "824      9646\n",
      "Name: Price, Length: 307, dtype: int64\n"
     ]
    }
   ],
   "source": [
    "# Predict the value:\n",
    "print(\"predicted ticket price:\",pred)\n",
    "print(\"actual ticket price\",y_test)"
   ]
  },
  {
   "cell_type": "markdown",
   "id": "9943ce29",
   "metadata": {},
   "source": [
    "### Check MAE, MSE and RMSE:"
   ]
  },
  {
   "cell_type": "code",
   "execution_count": 64,
   "id": "56aaca66",
   "metadata": {},
   "outputs": [
    {
     "name": "stdout",
     "output_type": "stream",
     "text": [
      "error:\n",
      "mean absolute error 1240.9198928959206\n",
      "mean squared error 3241536.9721175395\n",
      "Root mean squared error 1800.426886079393\n"
     ]
    }
   ],
   "source": [
    "# Display MAE, MSE and RMSE:\n",
    "from sklearn.metrics import mean_squared_error, mean_absolute_error\n",
    "print('error:')\n",
    "\n",
    "print('mean absolute error',mean_absolute_error(y_test,pred))\n",
    "print('mean squared error',mean_squared_error(y_test,pred))\n",
    "\n",
    "print('Root mean squared error',np.sqrt(mean_squared_error(y_test,pred)))"
   ]
  },
  {
   "cell_type": "markdown",
   "id": "9f821f08",
   "metadata": {},
   "source": [
    "# Cross Validation of the model:"
   ]
  },
  {
   "cell_type": "code",
   "execution_count": 65,
   "id": "02bf1032",
   "metadata": {},
   "outputs": [
    {
     "name": "stdout",
     "output_type": "stream",
     "text": [
      "At cv:- 2\n",
      "cross validation score is :- 68.43457915641702\n",
      "r2 score is :- 82.97931346192063\n",
      "\n",
      "\n",
      "At cv:- 3\n",
      "cross validation score is :- 70.66706361060356\n",
      "r2 score is :- 82.97931346192063\n",
      "\n",
      "\n",
      "At cv:- 4\n",
      "cross validation score is :- 74.69809460352386\n",
      "r2 score is :- 82.97931346192063\n",
      "\n",
      "\n",
      "At cv:- 5\n",
      "cross validation score is :- 73.20057144736649\n",
      "r2 score is :- 82.97931346192063\n",
      "\n",
      "\n",
      "At cv:- 6\n",
      "cross validation score is :- 73.94119697734138\n",
      "r2 score is :- 82.97931346192063\n",
      "\n",
      "\n",
      "At cv:- 7\n",
      "cross validation score is :- 73.66519322484486\n",
      "r2 score is :- 82.97931346192063\n",
      "\n",
      "\n",
      "At cv:- 8\n",
      "cross validation score is :- 74.26493196589652\n",
      "r2 score is :- 82.97931346192063\n",
      "\n",
      "\n",
      "At cv:- 9\n",
      "cross validation score is :- 74.38974237499241\n",
      "r2 score is :- 82.97931346192063\n",
      "\n",
      "\n"
     ]
    }
   ],
   "source": [
    "from sklearn.model_selection import cross_val_score\n",
    "lss = r2_score(y_test,pred)\n",
    "for i in range(2,10):\n",
    "    lsscore = cross_val_score(rf,x,y,cv=i)\n",
    "    lsc = lsscore.mean()\n",
    "    print(\"At cv:-\",i)\n",
    "    print(\"cross validation score is :-\",lsc*100)\n",
    "    print(\"r2 score is :-\",lss*100)\n",
    "    print(\"\\n\")"
   ]
  },
  {
   "cell_type": "code",
   "execution_count": 66,
   "id": "20f45554",
   "metadata": {},
   "outputs": [
    {
     "data": {
      "image/png": "[encoded data removed]",
      "text/plain": [
       "<Figure size 576x432 with 1 Axes>"
      ]
     },
     "metadata": {
      "needs_background": "light"
     },
     "output_type": "display_data"
    }
   ],
   "source": [
    "plt.figure(figsize=(8,6))\n",
    "plt.scatter(x=y_test, y=pred, color = 'r')\n",
    "plt.plot(y_test,y_test,color='b')\n",
    "plt.xlabel(\"predicted price\",fontsize=14)\n",
    "plt.ylabel(\"actual price\",fontsize=14)\n",
    "plt.title(\"RandomForest Regressor\",fontsize=18)\n",
    "plt.show()"
   ]
  },
  {
   "cell_type": "markdown",
   "id": "098178a4",
   "metadata": {},
   "source": [
    "# Hypertuning of the model:"
   ]
  },
  {
   "cell_type": "code",
   "execution_count": 67,
   "id": "2a1d86d7",
   "metadata": {},
   "outputs": [],
   "source": [
    "from sklearn.model_selection import RandomizedSearchCV"
   ]
  },
  {
   "cell_type": "code",
   "execution_count": 68,
   "id": "c9da7a27",
   "metadata": {},
   "outputs": [],
   "source": [
    "#Randomized Search CV\n",
    "\n",
    "# Number of trees in random forest\n",
    "n_estimators = [int(x) for x in np.linspace(start = 100, stop = 1200, num = 12)]\n",
    "\n",
    "# Number of features to consider at every split\n",
    "max_features = ['auto', 'sqrt']\n",
    "\n",
    "# Maximum number of levels in tree\n",
    "max_depth = [int(x) for x in np.linspace(5, 30, num = 6)]\n",
    "\n",
    "# Minimum number of samples required to split a node\n",
    "min_samples_split = [2, 5, 10, 15, 100]\n",
    "\n",
    "# Minimum number of samples required at each leaf node\n",
    "min_samples_leaf = [1, 2, 5, 10]"
   ]
  },
  {
   "cell_type": "code",
   "execution_count": 69,
   "id": "e9d92663",
   "metadata": {},
   "outputs": [],
   "source": [
    "parameters = {'n_estimators': n_estimators,\n",
    "               'max_features': max_features,\n",
    "               'max_depth': max_depth,\n",
    "               'min_samples_split': min_samples_split,\n",
    "               'min_samples_leaf': min_samples_leaf}"
   ]
  },
  {
   "cell_type": "code",
   "execution_count": 70,
   "id": "fbccf3f1",
   "metadata": {},
   "outputs": [],
   "source": [
    "rf_random = RandomizedSearchCV(estimator = rf, param_distributions = parameters, scoring='neg_mean_squared_error', n_iter = 10, cv = 4, verbose=2, random_state=79, n_jobs = 1)"
   ]
  },
  {
   "cell_type": "code",
   "execution_count": 71,
   "id": "d39a490d",
   "metadata": {},
   "outputs": [
    {
     "name": "stdout",
     "output_type": "stream",
     "text": [
      "Fitting 4 folds for each of 10 candidates, totalling 40 fits\n",
      "[CV] END max_depth=25, max_features=sqrt, min_samples_leaf=10, min_samples_split=100, n_estimators=400; total time=   0.6s\n",
      "[CV] END max_depth=25, max_features=sqrt, min_samples_leaf=10, min_samples_split=100, n_estimators=400; total time=   0.6s\n",
      "[CV] END max_depth=25, max_features=sqrt, min_samples_leaf=10, min_samples_split=100, n_estimators=400; total time=   0.5s\n",
      "[CV] END max_depth=25, max_features=sqrt, min_samples_leaf=10, min_samples_split=100, n_estimators=400; total time=   0.6s\n",
      "[CV] END max_depth=15, max_features=sqrt, min_samples_leaf=1, min_samples_split=5, n_estimators=200; total time=   0.4s\n",
      "[CV] END max_depth=15, max_features=sqrt, min_samples_leaf=1, min_samples_split=5, n_estimators=200; total time=   0.3s\n",
      "[CV] END max_depth=15, max_features=sqrt, min_samples_leaf=1, min_samples_split=5, n_estimators=200; total time=   0.3s\n",
      "[CV] END max_depth=15, max_features=sqrt, min_samples_leaf=1, min_samples_split=5, n_estimators=200; total time=   0.3s\n",
      "[CV] END max_depth=15, max_features=auto, min_samples_leaf=5, min_samples_split=5, n_estimators=700; total time=   2.0s\n",
      "[CV] END max_depth=15, max_features=auto, min_samples_leaf=5, min_samples_split=5, n_estimators=700; total time=   1.9s\n",
      "[CV] END max_depth=15, max_features=auto, min_samples_leaf=5, min_samples_split=5, n_estimators=700; total time=   2.0s\n",
      "[CV] END max_depth=15, max_features=auto, min_samples_leaf=5, min_samples_split=5, n_estimators=700; total time=   1.9s\n",
      "[CV] END max_depth=10, max_features=sqrt, min_samples_leaf=2, min_samples_split=100, n_estimators=800; total time=   1.2s\n",
      "[CV] END max_depth=10, max_features=sqrt, min_samples_leaf=2, min_samples_split=100, n_estimators=800; total time=   1.2s\n",
      "[CV] END max_depth=10, max_features=sqrt, min_samples_leaf=2, min_samples_split=100, n_estimators=800; total time=   1.2s\n",
      "[CV] END max_depth=10, max_features=sqrt, min_samples_leaf=2, min_samples_split=100, n_estimators=800; total time=   1.2s\n",
      "[CV] END max_depth=25, max_features=sqrt, min_samples_leaf=1, min_samples_split=15, n_estimators=100; total time=   0.1s\n",
      "[CV] END max_depth=25, max_features=sqrt, min_samples_leaf=1, min_samples_split=15, n_estimators=100; total time=   0.1s\n",
      "[CV] END max_depth=25, max_features=sqrt, min_samples_leaf=1, min_samples_split=15, n_estimators=100; total time=   0.1s\n",
      "[CV] END max_depth=25, max_features=sqrt, min_samples_leaf=1, min_samples_split=15, n_estimators=100; total time=   0.1s\n",
      "[CV] END max_depth=20, max_features=sqrt, min_samples_leaf=2, min_samples_split=5, n_estimators=100; total time=   0.1s\n",
      "[CV] END max_depth=20, max_features=sqrt, min_samples_leaf=2, min_samples_split=5, n_estimators=100; total time=   0.1s\n",
      "[CV] END max_depth=20, max_features=sqrt, min_samples_leaf=2, min_samples_split=5, n_estimators=100; total time=   0.1s\n",
      "[CV] END max_depth=20, max_features=sqrt, min_samples_leaf=2, min_samples_split=5, n_estimators=100; total time=   0.1s\n",
      "[CV] END max_depth=30, max_features=sqrt, min_samples_leaf=1, min_samples_split=2, n_estimators=300; total time=   0.6s\n",
      "[CV] END max_depth=30, max_features=sqrt, min_samples_leaf=1, min_samples_split=2, n_estimators=300; total time=   0.7s\n",
      "[CV] END max_depth=30, max_features=sqrt, min_samples_leaf=1, min_samples_split=2, n_estimators=300; total time=   0.6s\n",
      "[CV] END max_depth=30, max_features=sqrt, min_samples_leaf=1, min_samples_split=2, n_estimators=300; total time=   0.7s\n",
      "[CV] END max_depth=15, max_features=auto, min_samples_leaf=5, min_samples_split=100, n_estimators=100; total time=   0.1s\n",
      "[CV] END max_depth=15, max_features=auto, min_samples_leaf=5, min_samples_split=100, n_estimators=100; total time=   0.1s\n",
      "[CV] END max_depth=15, max_features=auto, min_samples_leaf=5, min_samples_split=100, n_estimators=100; total time=   0.1s\n",
      "[CV] END max_depth=15, max_features=auto, min_samples_leaf=5, min_samples_split=100, n_estimators=100; total time=   0.1s\n",
      "[CV] END max_depth=20, max_features=sqrt, min_samples_leaf=1, min_samples_split=2, n_estimators=800; total time=   1.9s\n",
      "[CV] END max_depth=20, max_features=sqrt, min_samples_leaf=1, min_samples_split=2, n_estimators=800; total time=   1.9s\n",
      "[CV] END max_depth=20, max_features=sqrt, min_samples_leaf=1, min_samples_split=2, n_estimators=800; total time=   1.8s\n",
      "[CV] END max_depth=20, max_features=sqrt, min_samples_leaf=1, min_samples_split=2, n_estimators=800; total time=   2.0s\n",
      "[CV] END max_depth=30, max_features=auto, min_samples_leaf=2, min_samples_split=100, n_estimators=600; total time=   1.2s\n",
      "[CV] END max_depth=30, max_features=auto, min_samples_leaf=2, min_samples_split=100, n_estimators=600; total time=   1.5s\n",
      "[CV] END max_depth=30, max_features=auto, min_samples_leaf=2, min_samples_split=100, n_estimators=600; total time=   1.2s\n",
      "[CV] END max_depth=30, max_features=auto, min_samples_leaf=2, min_samples_split=100, n_estimators=600; total time=   1.2s\n"
     ]
    },
    {
     "data": {
      "text/plain": [
       "RandomizedSearchCV(cv=4, estimator=RandomForestRegressor(), n_jobs=1,\n",
       "                   param_distributions={'max_depth': [5, 10, 15, 20, 25, 30],\n",
       "                                        'max_features': ['auto', 'sqrt'],\n",
       "                                        'min_samples_leaf': [1, 2, 5, 10],\n",
       "                                        'min_samples_split': [2, 5, 10, 15,\n",
       "                                                              100],\n",
       "                                        'n_estimators': [100, 200, 300, 400,\n",
       "                                                         500, 600, 700, 800,\n",
       "                                                         900, 1000, 1100,\n",
       "                                                         1200]},\n",
       "                   random_state=79, scoring='neg_mean_squared_error',\n",
       "                   verbose=2)"
      ]
     },
     "execution_count": 71,
     "metadata": {},
     "output_type": "execute_result"
    }
   ],
   "source": [
    "rf_random.fit(x_train,y_train)"
   ]
  },
  {
   "cell_type": "code",
   "execution_count": 72,
   "id": "3862c28b",
   "metadata": {},
   "outputs": [
    {
     "data": {
      "text/plain": [
       "{'n_estimators': 300,\n",
       " 'min_samples_split': 2,\n",
       " 'min_samples_leaf': 1,\n",
       " 'max_features': 'sqrt',\n",
       " 'max_depth': 30}"
      ]
     },
     "execution_count": 72,
     "metadata": {},
     "output_type": "execute_result"
    }
   ],
   "source": [
    "rf_random.best_params_"
   ]
  },
  {
   "cell_type": "code",
   "execution_count": 73,
   "id": "d08386eb",
   "metadata": {},
   "outputs": [
    {
     "name": "stdout",
     "output_type": "stream",
     "text": [
      "R2 score: 81.46995701280109\n",
      "Cross Val Score is 71.72954936874227\n"
     ]
    }
   ],
   "source": [
    "rf = RandomForestRegressor(n_estimators=300, min_samples_split=2, min_samples_leaf=1, max_features='sqrt', max_depth=30)\n",
    "rf.fit(x_train,y_train)\n",
    "rf.score(x_train,y_train)\n",
    "pred_decision = rf.predict(x_test)\n",
    "\n",
    "rfs = r2_score(y_test,pred_decision)\n",
    "print(\"R2 score:\",rfs*100)\n",
    "\n",
    "rfscore = cross_val_score(rf,x,y,cv=4)\n",
    "rfc = rfscore.mean()\n",
    "print(\"Cross Val Score is\",rfc*100)"
   ]
  },
  {
   "cell_type": "code",
   "execution_count": 74,
   "id": "3adbb5eb",
   "metadata": {},
   "outputs": [
    {
     "data": {
      "image/png": "[encoded data removed]",
      "text/plain": [
       "<Figure size 432x288 with 1 Axes>"
      ]
     },
     "metadata": {
      "needs_background": "light"
     },
     "output_type": "display_data"
    }
   ],
   "source": [
    "number_of_observations=50\n",
    "\n",
    "x_ax = range(len(y_test[:number_of_observations]))\n",
    "\n",
    "plt.plot(x_ax, y_test[:number_of_observations], label=\"original\")\n",
    "\n",
    "plt.plot(x_ax, pred_decision[:number_of_observations], label=\"predicted\")\n",
    "\n",
    "plt.title(\"flight price test and predicted data\")\n",
    "\n",
    "plt.xlabel('Observation Number')\n",
    "\n",
    "plt.ylabel('Price')\n",
    "\n",
    "plt.legend()\n",
    "\n",
    "plt.show()"
   ]
  },
  {
   "cell_type": "markdown",
   "id": "058e5ddc",
   "metadata": {},
   "source": [
    "# Model Saving:"
   ]
  },
  {
   "cell_type": "code",
   "execution_count": 75,
   "id": "dedeecb3",
   "metadata": {},
   "outputs": [],
   "source": [
    "import pickle\n",
    "filename = 'flight_fare.pkl'\n",
    "pickle.dump(rf,open(filename,'wb'))"
   ]
  },
  {
   "cell_type": "markdown",
   "id": "249836cc",
   "metadata": {},
   "source": [
    "# Conclusion:"
   ]
  },
  {
   "cell_type": "code",
   "execution_count": 76,
   "id": "d5de7f38",
   "metadata": {},
   "outputs": [
    {
     "data": {
      "text/html": [
       "<div>\n",
       "<style scoped>\n",
       "    .dataframe tbody tr th:only-of-type {\n",
       "        vertical-align: middle;\n",
       "    }\n",
       "\n",
       "    .dataframe tbody tr th {\n",
       "        vertical-align: top;\n",
       "    }\n",
       "\n",
       "    .dataframe thead th {\n",
       "        text-align: right;\n",
       "    }\n",
       "</style>\n",
       "<table border=\"1\" class=\"dataframe\">\n",
       "  <thead>\n",
       "    <tr style=\"text-align: right;\">\n",
       "      <th></th>\n",
       "      <th>original</th>\n",
       "      <th>predicted</th>\n",
       "    </tr>\n",
       "  </thead>\n",
       "  <tbody>\n",
       "    <tr>\n",
       "      <th>0</th>\n",
       "      <td>3625</td>\n",
       "      <td>3524.496667</td>\n",
       "    </tr>\n",
       "    <tr>\n",
       "      <th>1</th>\n",
       "      <td>11087</td>\n",
       "      <td>12003.376667</td>\n",
       "    </tr>\n",
       "    <tr>\n",
       "      <th>2</th>\n",
       "      <td>12819</td>\n",
       "      <td>13399.625000</td>\n",
       "    </tr>\n",
       "    <tr>\n",
       "      <th>3</th>\n",
       "      <td>4148</td>\n",
       "      <td>4968.530000</td>\n",
       "    </tr>\n",
       "    <tr>\n",
       "      <th>4</th>\n",
       "      <td>12373</td>\n",
       "      <td>12231.036667</td>\n",
       "    </tr>\n",
       "    <tr>\n",
       "      <th>...</th>\n",
       "      <td>...</td>\n",
       "      <td>...</td>\n",
       "    </tr>\n",
       "    <tr>\n",
       "      <th>302</th>\n",
       "      <td>4050</td>\n",
       "      <td>6096.193333</td>\n",
       "    </tr>\n",
       "    <tr>\n",
       "      <th>303</th>\n",
       "      <td>10156</td>\n",
       "      <td>7901.367222</td>\n",
       "    </tr>\n",
       "    <tr>\n",
       "      <th>304</th>\n",
       "      <td>4030</td>\n",
       "      <td>6743.411667</td>\n",
       "    </tr>\n",
       "    <tr>\n",
       "      <th>305</th>\n",
       "      <td>3873</td>\n",
       "      <td>4408.320000</td>\n",
       "    </tr>\n",
       "    <tr>\n",
       "      <th>306</th>\n",
       "      <td>9646</td>\n",
       "      <td>8737.561667</td>\n",
       "    </tr>\n",
       "  </tbody>\n",
       "</table>\n",
       "<p>307 rows × 2 columns</p>\n",
       "</div>"
      ],
      "text/plain": [
       "     original     predicted\n",
       "0        3625   3524.496667\n",
       "1       11087  12003.376667\n",
       "2       12819  13399.625000\n",
       "3        4148   4968.530000\n",
       "4       12373  12231.036667\n",
       "..        ...           ...\n",
       "302      4050   6096.193333\n",
       "303     10156   7901.367222\n",
       "304      4030   6743.411667\n",
       "305      3873   4408.320000\n",
       "306      9646   8737.561667\n",
       "\n",
       "[307 rows x 2 columns]"
      ]
     },
     "execution_count": 76,
     "metadata": {},
     "output_type": "execute_result"
    }
   ],
   "source": [
    "import numpy as np\n",
    "a = np.array(y_test)\n",
    "#predicted = np.array(ls.predict(x_test))\n",
    "df_comp = pd.DataFrame({'original':a,'predicted':pred_decision},index=range(len(a)))\n",
    "df_comp"
   ]
  }
 ],
 "metadata": {
  "kernelspec": {
   "display_name": "Python 3 (ipykernel)",
   "language": "python",
   "name": "python3"
  },
  "language_info": {
   "codemirror_mode": {
    "name": "ipython",
    "version": 3
   },
   "file_extension": ".py",
   "mimetype": "text/x-python",
   "name": "python",
   "nbconvert_exporter": "python",
   "pygments_lexer": "ipython3",
   "version": "3.9.12"
  },
  "varInspector": {
   "cols": {
    "lenName": 16,
    "lenType": 16,
    "lenVar": 40
   },
   "kernels_config": {
    "python": {
     "delete_cmd_postfix": "",
     "delete_cmd_prefix": "del ",
     "library": "var_list.py",
     "varRefreshCmd": "print(var_dic_list())"
    },
    "r": {
     "delete_cmd_postfix": ") ",
     "delete_cmd_prefix": "rm(",
     "library": "var_list.r",
     "varRefreshCmd": "cat(var_dic_list()) "
    }
   },
   "types_to_exclude": [
    "module",
    "function",
    "builtin_function_or_method",
    "instance",
    "_Feature"
   ],
   "window_display": false
  }
 },
 "nbformat": 4,
 "nbformat_minor": 5
}
