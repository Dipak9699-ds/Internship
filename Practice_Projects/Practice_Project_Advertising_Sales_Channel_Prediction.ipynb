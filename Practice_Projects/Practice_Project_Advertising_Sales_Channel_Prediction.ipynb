{
 "cells": [
  {
   "cell_type": "markdown",
   "id": "6a6f252e",
   "metadata": {},
   "source": [
    "# Importing required libararies"
   ]
  },
  {
   "cell_type": "code",
   "execution_count": 107,
   "id": "bb47d138",
   "metadata": {},
   "outputs": [],
   "source": [
    "import numpy as np\n",
    "import matplotlib.pyplot as plt\n",
    "import warnings\n",
    "import seaborn as sns\n",
    "warnings.filterwarnings('ignore')"
   ]
  },
  {
   "cell_type": "markdown",
   "id": "d72f9996",
   "metadata": {},
   "source": [
    "# Loading the dataset"
   ]
  },
  {
   "cell_type": "code",
   "execution_count": 108,
   "id": "e05acb03",
   "metadata": {},
   "outputs": [
    {
     "data": {
      "text/html": [
       "<div>\n",
       "<style scoped>\n",
       "    .dataframe tbody tr th:only-of-type {\n",
       "        vertical-align: middle;\n",
       "    }\n",
       "\n",
       "    .dataframe tbody tr th {\n",
       "        vertical-align: top;\n",
       "    }\n",
       "\n",
       "    .dataframe thead th {\n",
       "        text-align: right;\n",
       "    }\n",
       "</style>\n",
       "<table border=\"1\" class=\"dataframe\">\n",
       "  <thead>\n",
       "    <tr style=\"text-align: right;\">\n",
       "      <th></th>\n",
       "      <th>Unnamed: 0</th>\n",
       "      <th>TV</th>\n",
       "      <th>radio</th>\n",
       "      <th>newspaper</th>\n",
       "      <th>sales</th>\n",
       "    </tr>\n",
       "  </thead>\n",
       "  <tbody>\n",
       "    <tr>\n",
       "      <th>0</th>\n",
       "      <td>1</td>\n",
       "      <td>230.1</td>\n",
       "      <td>37.8</td>\n",
       "      <td>69.2</td>\n",
       "      <td>22.1</td>\n",
       "    </tr>\n",
       "    <tr>\n",
       "      <th>1</th>\n",
       "      <td>2</td>\n",
       "      <td>44.5</td>\n",
       "      <td>39.3</td>\n",
       "      <td>45.1</td>\n",
       "      <td>10.4</td>\n",
       "    </tr>\n",
       "    <tr>\n",
       "      <th>2</th>\n",
       "      <td>3</td>\n",
       "      <td>17.2</td>\n",
       "      <td>45.9</td>\n",
       "      <td>69.3</td>\n",
       "      <td>9.3</td>\n",
       "    </tr>\n",
       "    <tr>\n",
       "      <th>3</th>\n",
       "      <td>4</td>\n",
       "      <td>151.5</td>\n",
       "      <td>41.3</td>\n",
       "      <td>58.5</td>\n",
       "      <td>18.5</td>\n",
       "    </tr>\n",
       "    <tr>\n",
       "      <th>4</th>\n",
       "      <td>5</td>\n",
       "      <td>180.8</td>\n",
       "      <td>10.8</td>\n",
       "      <td>58.4</td>\n",
       "      <td>12.9</td>\n",
       "    </tr>\n",
       "    <tr>\n",
       "      <th>...</th>\n",
       "      <td>...</td>\n",
       "      <td>...</td>\n",
       "      <td>...</td>\n",
       "      <td>...</td>\n",
       "      <td>...</td>\n",
       "    </tr>\n",
       "    <tr>\n",
       "      <th>195</th>\n",
       "      <td>196</td>\n",
       "      <td>38.2</td>\n",
       "      <td>3.7</td>\n",
       "      <td>13.8</td>\n",
       "      <td>7.6</td>\n",
       "    </tr>\n",
       "    <tr>\n",
       "      <th>196</th>\n",
       "      <td>197</td>\n",
       "      <td>94.2</td>\n",
       "      <td>4.9</td>\n",
       "      <td>8.1</td>\n",
       "      <td>9.7</td>\n",
       "    </tr>\n",
       "    <tr>\n",
       "      <th>197</th>\n",
       "      <td>198</td>\n",
       "      <td>177.0</td>\n",
       "      <td>9.3</td>\n",
       "      <td>6.4</td>\n",
       "      <td>12.8</td>\n",
       "    </tr>\n",
       "    <tr>\n",
       "      <th>198</th>\n",
       "      <td>199</td>\n",
       "      <td>283.6</td>\n",
       "      <td>42.0</td>\n",
       "      <td>66.2</td>\n",
       "      <td>25.5</td>\n",
       "    </tr>\n",
       "    <tr>\n",
       "      <th>199</th>\n",
       "      <td>200</td>\n",
       "      <td>232.1</td>\n",
       "      <td>8.6</td>\n",
       "      <td>8.7</td>\n",
       "      <td>13.4</td>\n",
       "    </tr>\n",
       "  </tbody>\n",
       "</table>\n",
       "<p>200 rows × 5 columns</p>\n",
       "</div>"
      ],
      "text/plain": [
       "     Unnamed: 0     TV  radio  newspaper  sales\n",
       "0             1  230.1   37.8       69.2   22.1\n",
       "1             2   44.5   39.3       45.1   10.4\n",
       "2             3   17.2   45.9       69.3    9.3\n",
       "3             4  151.5   41.3       58.5   18.5\n",
       "4             5  180.8   10.8       58.4   12.9\n",
       "..          ...    ...    ...        ...    ...\n",
       "195         196   38.2    3.7       13.8    7.6\n",
       "196         197   94.2    4.9        8.1    9.7\n",
       "197         198  177.0    9.3        6.4   12.8\n",
       "198         199  283.6   42.0       66.2   25.5\n",
       "199         200  232.1    8.6        8.7   13.4\n",
       "\n",
       "[200 rows x 5 columns]"
      ]
     },
     "execution_count": 108,
     "metadata": {},
     "output_type": "execute_result"
    }
   ],
   "source": [
    "import pandas as pd\n",
    "df = pd.read_csv(r'https://raw.githubusercontent.com/dsrscientist/DSData/master/Advertising.csv')\n",
    "df"
   ]
  },
  {
   "cell_type": "code",
   "execution_count": 109,
   "id": "3f5099c6",
   "metadata": {},
   "outputs": [
    {
     "data": {
      "text/html": [
       "<div>\n",
       "<style scoped>\n",
       "    .dataframe tbody tr th:only-of-type {\n",
       "        vertical-align: middle;\n",
       "    }\n",
       "\n",
       "    .dataframe tbody tr th {\n",
       "        vertical-align: top;\n",
       "    }\n",
       "\n",
       "    .dataframe thead th {\n",
       "        text-align: right;\n",
       "    }\n",
       "</style>\n",
       "<table border=\"1\" class=\"dataframe\">\n",
       "  <thead>\n",
       "    <tr style=\"text-align: right;\">\n",
       "      <th></th>\n",
       "      <th>TV</th>\n",
       "      <th>radio</th>\n",
       "      <th>newspaper</th>\n",
       "      <th>sales</th>\n",
       "    </tr>\n",
       "  </thead>\n",
       "  <tbody>\n",
       "    <tr>\n",
       "      <th>0</th>\n",
       "      <td>230.1</td>\n",
       "      <td>37.8</td>\n",
       "      <td>69.2</td>\n",
       "      <td>22.1</td>\n",
       "    </tr>\n",
       "    <tr>\n",
       "      <th>1</th>\n",
       "      <td>44.5</td>\n",
       "      <td>39.3</td>\n",
       "      <td>45.1</td>\n",
       "      <td>10.4</td>\n",
       "    </tr>\n",
       "    <tr>\n",
       "      <th>2</th>\n",
       "      <td>17.2</td>\n",
       "      <td>45.9</td>\n",
       "      <td>69.3</td>\n",
       "      <td>9.3</td>\n",
       "    </tr>\n",
       "    <tr>\n",
       "      <th>3</th>\n",
       "      <td>151.5</td>\n",
       "      <td>41.3</td>\n",
       "      <td>58.5</td>\n",
       "      <td>18.5</td>\n",
       "    </tr>\n",
       "    <tr>\n",
       "      <th>4</th>\n",
       "      <td>180.8</td>\n",
       "      <td>10.8</td>\n",
       "      <td>58.4</td>\n",
       "      <td>12.9</td>\n",
       "    </tr>\n",
       "    <tr>\n",
       "      <th>...</th>\n",
       "      <td>...</td>\n",
       "      <td>...</td>\n",
       "      <td>...</td>\n",
       "      <td>...</td>\n",
       "    </tr>\n",
       "    <tr>\n",
       "      <th>195</th>\n",
       "      <td>38.2</td>\n",
       "      <td>3.7</td>\n",
       "      <td>13.8</td>\n",
       "      <td>7.6</td>\n",
       "    </tr>\n",
       "    <tr>\n",
       "      <th>196</th>\n",
       "      <td>94.2</td>\n",
       "      <td>4.9</td>\n",
       "      <td>8.1</td>\n",
       "      <td>9.7</td>\n",
       "    </tr>\n",
       "    <tr>\n",
       "      <th>197</th>\n",
       "      <td>177.0</td>\n",
       "      <td>9.3</td>\n",
       "      <td>6.4</td>\n",
       "      <td>12.8</td>\n",
       "    </tr>\n",
       "    <tr>\n",
       "      <th>198</th>\n",
       "      <td>283.6</td>\n",
       "      <td>42.0</td>\n",
       "      <td>66.2</td>\n",
       "      <td>25.5</td>\n",
       "    </tr>\n",
       "    <tr>\n",
       "      <th>199</th>\n",
       "      <td>232.1</td>\n",
       "      <td>8.6</td>\n",
       "      <td>8.7</td>\n",
       "      <td>13.4</td>\n",
       "    </tr>\n",
       "  </tbody>\n",
       "</table>\n",
       "<p>200 rows × 4 columns</p>\n",
       "</div>"
      ],
      "text/plain": [
       "        TV  radio  newspaper  sales\n",
       "0    230.1   37.8       69.2   22.1\n",
       "1     44.5   39.3       45.1   10.4\n",
       "2     17.2   45.9       69.3    9.3\n",
       "3    151.5   41.3       58.5   18.5\n",
       "4    180.8   10.8       58.4   12.9\n",
       "..     ...    ...        ...    ...\n",
       "195   38.2    3.7       13.8    7.6\n",
       "196   94.2    4.9        8.1    9.7\n",
       "197  177.0    9.3        6.4   12.8\n",
       "198  283.6   42.0       66.2   25.5\n",
       "199  232.1    8.6        8.7   13.4\n",
       "\n",
       "[200 rows x 4 columns]"
      ]
     },
     "execution_count": 109,
     "metadata": {},
     "output_type": "execute_result"
    }
   ],
   "source": [
    "#drop unnamed column\n",
    "df.drop('Unnamed: 0',axis=1,inplace=True)\n",
    "df"
   ]
  },
  {
   "cell_type": "code",
   "execution_count": 110,
   "id": "b9d978a8",
   "metadata": {},
   "outputs": [
    {
     "data": {
      "text/plain": [
       "(200, 4)"
      ]
     },
     "execution_count": 110,
     "metadata": {},
     "output_type": "execute_result"
    }
   ],
   "source": [
    "#checking data dimension\n",
    "df.shape"
   ]
  },
  {
   "cell_type": "code",
   "execution_count": 111,
   "id": "a135a393",
   "metadata": {},
   "outputs": [
    {
     "data": {
      "text/plain": [
       "Index(['TV', 'radio', 'newspaper', 'sales'], dtype='object')"
      ]
     },
     "execution_count": 111,
     "metadata": {},
     "output_type": "execute_result"
    }
   ],
   "source": [
    "#display columns of dataframe\n",
    "df.columns"
   ]
  },
  {
   "cell_type": "code",
   "execution_count": 112,
   "id": "31dc3043",
   "metadata": {},
   "outputs": [
    {
     "data": {
      "text/plain": [
       "TV           float64\n",
       "radio        float64\n",
       "newspaper    float64\n",
       "sales        float64\n",
       "dtype: object"
      ]
     },
     "execution_count": 112,
     "metadata": {},
     "output_type": "execute_result"
    }
   ],
   "source": [
    "#display datatypes of columns\n",
    "df.dtypes"
   ]
  },
  {
   "cell_type": "code",
   "execution_count": 113,
   "id": "af393c78",
   "metadata": {},
   "outputs": [
    {
     "name": "stdout",
     "output_type": "stream",
     "text": [
      "<class 'pandas.core.frame.DataFrame'>\n",
      "RangeIndex: 200 entries, 0 to 199\n",
      "Data columns (total 4 columns):\n",
      " #   Column     Non-Null Count  Dtype  \n",
      "---  ------     --------------  -----  \n",
      " 0   TV         200 non-null    float64\n",
      " 1   radio      200 non-null    float64\n",
      " 2   newspaper  200 non-null    float64\n",
      " 3   sales      200 non-null    float64\n",
      "dtypes: float64(4)\n",
      "memory usage: 6.4 KB\n"
     ]
    }
   ],
   "source": [
    "#display information of columns\n",
    "df.info()"
   ]
  },
  {
   "cell_type": "code",
   "execution_count": 114,
   "id": "c9816e36",
   "metadata": {},
   "outputs": [
    {
     "data": {
      "text/plain": [
       "TV           0\n",
       "radio        0\n",
       "newspaper    0\n",
       "sales        0\n",
       "dtype: int64"
      ]
     },
     "execution_count": 114,
     "metadata": {},
     "output_type": "execute_result"
    }
   ],
   "source": [
    "#display sum of null values in columns\n",
    "df.isnull().sum()"
   ]
  },
  {
   "cell_type": "code",
   "execution_count": 115,
   "id": "b18039b2",
   "metadata": {},
   "outputs": [
    {
     "data": {
      "text/plain": [
       "<AxesSubplot:>"
      ]
     },
     "execution_count": 115,
     "metadata": {},
     "output_type": "execute_result"
    },
    {
     "data": {
      "image/png": "[encoded data removed]",
      "text/plain": [
       "<Figure size 432x288 with 2 Axes>"
      ]
     },
     "metadata": {},
     "output_type": "display_data"
    }
   ],
   "source": [
    "#display heatmap of null values in columns\n",
    "sns.heatmap(df.isnull())"
   ]
  },
  {
   "cell_type": "markdown",
   "id": "28e6d2bf",
   "metadata": {},
   "source": [
    "# Data Analysis and Visualization"
   ]
  },
  {
   "cell_type": "code",
   "execution_count": 116,
   "id": "10d0813e",
   "metadata": {},
   "outputs": [
    {
     "data": {
      "text/html": [
       "<div>\n",
       "<style scoped>\n",
       "    .dataframe tbody tr th:only-of-type {\n",
       "        vertical-align: middle;\n",
       "    }\n",
       "\n",
       "    .dataframe tbody tr th {\n",
       "        vertical-align: top;\n",
       "    }\n",
       "\n",
       "    .dataframe thead th {\n",
       "        text-align: right;\n",
       "    }\n",
       "</style>\n",
       "<table border=\"1\" class=\"dataframe\">\n",
       "  <thead>\n",
       "    <tr style=\"text-align: right;\">\n",
       "      <th></th>\n",
       "      <th>TV</th>\n",
       "      <th>radio</th>\n",
       "      <th>newspaper</th>\n",
       "      <th>sales</th>\n",
       "    </tr>\n",
       "  </thead>\n",
       "  <tbody>\n",
       "    <tr>\n",
       "      <th>count</th>\n",
       "      <td>200.000000</td>\n",
       "      <td>200.000000</td>\n",
       "      <td>200.000000</td>\n",
       "      <td>200.000000</td>\n",
       "    </tr>\n",
       "    <tr>\n",
       "      <th>mean</th>\n",
       "      <td>147.042500</td>\n",
       "      <td>23.264000</td>\n",
       "      <td>30.554000</td>\n",
       "      <td>14.022500</td>\n",
       "    </tr>\n",
       "    <tr>\n",
       "      <th>std</th>\n",
       "      <td>85.854236</td>\n",
       "      <td>14.846809</td>\n",
       "      <td>21.778621</td>\n",
       "      <td>5.217457</td>\n",
       "    </tr>\n",
       "    <tr>\n",
       "      <th>min</th>\n",
       "      <td>0.700000</td>\n",
       "      <td>0.000000</td>\n",
       "      <td>0.300000</td>\n",
       "      <td>1.600000</td>\n",
       "    </tr>\n",
       "    <tr>\n",
       "      <th>25%</th>\n",
       "      <td>74.375000</td>\n",
       "      <td>9.975000</td>\n",
       "      <td>12.750000</td>\n",
       "      <td>10.375000</td>\n",
       "    </tr>\n",
       "    <tr>\n",
       "      <th>50%</th>\n",
       "      <td>149.750000</td>\n",
       "      <td>22.900000</td>\n",
       "      <td>25.750000</td>\n",
       "      <td>12.900000</td>\n",
       "    </tr>\n",
       "    <tr>\n",
       "      <th>75%</th>\n",
       "      <td>218.825000</td>\n",
       "      <td>36.525000</td>\n",
       "      <td>45.100000</td>\n",
       "      <td>17.400000</td>\n",
       "    </tr>\n",
       "    <tr>\n",
       "      <th>max</th>\n",
       "      <td>296.400000</td>\n",
       "      <td>49.600000</td>\n",
       "      <td>114.000000</td>\n",
       "      <td>27.000000</td>\n",
       "    </tr>\n",
       "  </tbody>\n",
       "</table>\n",
       "</div>"
      ],
      "text/plain": [
       "               TV       radio   newspaper       sales\n",
       "count  200.000000  200.000000  200.000000  200.000000\n",
       "mean   147.042500   23.264000   30.554000   14.022500\n",
       "std     85.854236   14.846809   21.778621    5.217457\n",
       "min      0.700000    0.000000    0.300000    1.600000\n",
       "25%     74.375000    9.975000   12.750000   10.375000\n",
       "50%    149.750000   22.900000   25.750000   12.900000\n",
       "75%    218.825000   36.525000   45.100000   17.400000\n",
       "max    296.400000   49.600000  114.000000   27.000000"
      ]
     },
     "execution_count": 116,
     "metadata": {},
     "output_type": "execute_result"
    }
   ],
   "source": [
    "#summary statistics.\n",
    "df.describe()"
   ]
  },
  {
   "cell_type": "code",
   "execution_count": 117,
   "id": "a2cff3cb",
   "metadata": {},
   "outputs": [
    {
     "data": {
      "text/html": [
       "<div>\n",
       "<style scoped>\n",
       "    .dataframe tbody tr th:only-of-type {\n",
       "        vertical-align: middle;\n",
       "    }\n",
       "\n",
       "    .dataframe tbody tr th {\n",
       "        vertical-align: top;\n",
       "    }\n",
       "\n",
       "    .dataframe thead th {\n",
       "        text-align: right;\n",
       "    }\n",
       "</style>\n",
       "<table border=\"1\" class=\"dataframe\">\n",
       "  <thead>\n",
       "    <tr style=\"text-align: right;\">\n",
       "      <th></th>\n",
       "      <th>TV</th>\n",
       "      <th>radio</th>\n",
       "      <th>newspaper</th>\n",
       "      <th>sales</th>\n",
       "    </tr>\n",
       "  </thead>\n",
       "  <tbody>\n",
       "    <tr>\n",
       "      <th>TV</th>\n",
       "      <td>1.000000</td>\n",
       "      <td>0.054809</td>\n",
       "      <td>0.056648</td>\n",
       "      <td>0.782224</td>\n",
       "    </tr>\n",
       "    <tr>\n",
       "      <th>radio</th>\n",
       "      <td>0.054809</td>\n",
       "      <td>1.000000</td>\n",
       "      <td>0.354104</td>\n",
       "      <td>0.576223</td>\n",
       "    </tr>\n",
       "    <tr>\n",
       "      <th>newspaper</th>\n",
       "      <td>0.056648</td>\n",
       "      <td>0.354104</td>\n",
       "      <td>1.000000</td>\n",
       "      <td>0.228299</td>\n",
       "    </tr>\n",
       "    <tr>\n",
       "      <th>sales</th>\n",
       "      <td>0.782224</td>\n",
       "      <td>0.576223</td>\n",
       "      <td>0.228299</td>\n",
       "      <td>1.000000</td>\n",
       "    </tr>\n",
       "  </tbody>\n",
       "</table>\n",
       "</div>"
      ],
      "text/plain": [
       "                 TV     radio  newspaper     sales\n",
       "TV         1.000000  0.054809   0.056648  0.782224\n",
       "radio      0.054809  1.000000   0.354104  0.576223\n",
       "newspaper  0.056648  0.354104   1.000000  0.228299\n",
       "sales      0.782224  0.576223   0.228299  1.000000"
      ]
     },
     "execution_count": 117,
     "metadata": {},
     "output_type": "execute_result"
    }
   ],
   "source": [
    "#check correlation \n",
    "df.corr()"
   ]
  },
  {
   "cell_type": "code",
   "execution_count": 118,
   "id": "3c83da5d",
   "metadata": {},
   "outputs": [
    {
     "data": {
      "image/png": "[encoded data removed]",
      "text/plain": [
       "<Figure size 720x720 with 2 Axes>"
      ]
     },
     "metadata": {},
     "output_type": "display_data"
    }
   ],
   "source": [
    "#check correlation matrix with heatmap.\n",
    "corr_mat = df.corr()\n",
    "plt.figure(figsize=(10,10))\n",
    "sns.heatmap(corr_mat, annot=True, fmt = '.1f',cmap = 'Blues')\n",
    "plt.title('Correlation matrix')\n",
    "plt.show()"
   ]
  },
  {
   "cell_type": "code",
   "execution_count": 119,
   "id": "40f61004",
   "metadata": {},
   "outputs": [
    {
     "data": {
      "text/html": [
       "<div>\n",
       "<style scoped>\n",
       "    .dataframe tbody tr th:only-of-type {\n",
       "        vertical-align: middle;\n",
       "    }\n",
       "\n",
       "    .dataframe tbody tr th {\n",
       "        vertical-align: top;\n",
       "    }\n",
       "\n",
       "    .dataframe thead th {\n",
       "        text-align: right;\n",
       "    }\n",
       "</style>\n",
       "<table border=\"1\" class=\"dataframe\">\n",
       "  <thead>\n",
       "    <tr style=\"text-align: right;\">\n",
       "      <th></th>\n",
       "      <th>TV</th>\n",
       "      <th>radio</th>\n",
       "      <th>newspaper</th>\n",
       "      <th>sales</th>\n",
       "    </tr>\n",
       "  </thead>\n",
       "  <tbody>\n",
       "    <tr>\n",
       "      <th>TV</th>\n",
       "      <td>1.000000</td>\n",
       "      <td>0.054809</td>\n",
       "      <td>0.056648</td>\n",
       "      <td>0.782224</td>\n",
       "    </tr>\n",
       "    <tr>\n",
       "      <th>radio</th>\n",
       "      <td>0.054809</td>\n",
       "      <td>1.000000</td>\n",
       "      <td>0.354104</td>\n",
       "      <td>0.576223</td>\n",
       "    </tr>\n",
       "    <tr>\n",
       "      <th>newspaper</th>\n",
       "      <td>0.056648</td>\n",
       "      <td>0.354104</td>\n",
       "      <td>1.000000</td>\n",
       "      <td>0.228299</td>\n",
       "    </tr>\n",
       "    <tr>\n",
       "      <th>sales</th>\n",
       "      <td>0.782224</td>\n",
       "      <td>0.576223</td>\n",
       "      <td>0.228299</td>\n",
       "      <td>1.000000</td>\n",
       "    </tr>\n",
       "  </tbody>\n",
       "</table>\n",
       "</div>"
      ],
      "text/plain": [
       "                 TV     radio  newspaper     sales\n",
       "TV         1.000000  0.054809   0.056648  0.782224\n",
       "radio      0.054809  1.000000   0.354104  0.576223\n",
       "newspaper  0.056648  0.354104   1.000000  0.228299\n",
       "sales      0.782224  0.576223   0.228299  1.000000"
      ]
     },
     "execution_count": 119,
     "metadata": {},
     "output_type": "execute_result"
    }
   ],
   "source": [
    "corr_matrix = df.corr()\n",
    "corr_matrix"
   ]
  },
  {
   "cell_type": "code",
   "execution_count": 120,
   "id": "5fe82855",
   "metadata": {},
   "outputs": [
    {
     "data": {
      "text/plain": [
       "pandas.core.frame.DataFrame"
      ]
     },
     "execution_count": 120,
     "metadata": {},
     "output_type": "execute_result"
    }
   ],
   "source": [
    "#check type correlation matrix.\n",
    "type(corr_matrix)"
   ]
  },
  {
   "cell_type": "code",
   "execution_count": 121,
   "id": "5fc7d080",
   "metadata": {},
   "outputs": [
    {
     "data": {
      "text/plain": [
       "sales        1.000000\n",
       "TV           0.782224\n",
       "radio        0.576223\n",
       "newspaper    0.228299\n",
       "Name: sales, dtype: float64"
      ]
     },
     "execution_count": 121,
     "metadata": {},
     "output_type": "execute_result"
    }
   ],
   "source": [
    "#check correlation with target variables in decending order.\n",
    "corr_matrix = df.corr()\n",
    "corr_matrix['sales'].sort_values(ascending=False)"
   ]
  },
  {
   "cell_type": "code",
   "execution_count": 122,
   "id": "2cc4dc97",
   "metadata": {},
   "outputs": [
    {
     "data": {
      "text/plain": [
       "9.7     5\n",
       "11.7    4\n",
       "12.9    4\n",
       "15.9    4\n",
       "20.7    3\n",
       "       ..\n",
       "17.0    1\n",
       "18.3    1\n",
       "22.3    1\n",
       "14.0    1\n",
       "25.5    1\n",
       "Name: sales, Length: 121, dtype: int64"
      ]
     },
     "execution_count": 122,
     "metadata": {},
     "output_type": "execute_result"
    }
   ],
   "source": [
    "#check count value of target variable.\n",
    "df['sales'].value_counts()"
   ]
  },
  {
   "cell_type": "code",
   "execution_count": 123,
   "id": "1af26daf",
   "metadata": {},
   "outputs": [
    {
     "data": {
      "text/plain": [
       "array([[<AxesSubplot:title={'center':'TV'}>,\n",
       "        <AxesSubplot:title={'center':'radio'}>],\n",
       "       [<AxesSubplot:title={'center':'newspaper'}>,\n",
       "        <AxesSubplot:title={'center':'sales'}>]], dtype=object)"
      ]
     },
     "execution_count": 123,
     "metadata": {},
     "output_type": "execute_result"
    },
    {
     "data": {
      "image/png": "[encoded data removed]",
      "text/plain": [
       "<Figure size 720x576 with 4 Axes>"
      ]
     },
     "metadata": {},
     "output_type": "display_data"
    }
   ],
   "source": [
    "#display histogram of all columns.\n",
    "df.hist(figsize=(10,8), layout=(2,2), sharex=False)"
   ]
  },
  {
   "cell_type": "code",
   "execution_count": 124,
   "id": "e74bd045",
   "metadata": {},
   "outputs": [
    {
     "data": {
      "image/png": "[encoded data removed]",
      "text/plain": [
       "<Figure size 432x288 with 1 Axes>"
      ]
     },
     "metadata": {},
     "output_type": "display_data"
    }
   ],
   "source": [
    "#display scatter plot between two variables.\n",
    "plt.scatter(df['TV'],df['sales'])\n",
    "plt.show()"
   ]
  },
  {
   "cell_type": "code",
   "execution_count": 125,
   "id": "efaa9a3b",
   "metadata": {},
   "outputs": [
    {
     "data": {
      "image/png": "[encoded data removed]",
      "text/plain": [
       "<Figure size 432x288 with 1 Axes>"
      ]
     },
     "metadata": {},
     "output_type": "display_data"
    }
   ],
   "source": [
    "#display scatter plot between two variables.\n",
    "plt.scatter(df['radio'],df['sales'])\n",
    "plt.show()"
   ]
  },
  {
   "cell_type": "code",
   "execution_count": 126,
   "id": "ef25bc34",
   "metadata": {},
   "outputs": [
    {
     "data": {
      "image/png": "[encoded data removed]",
      "text/plain": [
       "<Figure size 432x288 with 1 Axes>"
      ]
     },
     "metadata": {},
     "output_type": "display_data"
    }
   ],
   "source": [
    "#display scatter plot between two variables.\n",
    "plt.scatter(df['newspaper'],df['sales'])\n",
    "plt.show()"
   ]
  },
  {
   "cell_type": "code",
   "execution_count": 127,
   "id": "67f365dc",
   "metadata": {},
   "outputs": [
    {
     "data": {
      "image/png": "[encoded data removed]",
      "text/plain": [
       "<Figure size 864x864 with 20 Axes>"
      ]
     },
     "metadata": {},
     "output_type": "display_data"
    }
   ],
   "source": [
    "#display pairplot of columns.\n",
    "sns.pairplot(df, size=3)\n",
    "plt.show()"
   ]
  },
  {
   "cell_type": "code",
   "execution_count": 128,
   "id": "95a7a1dc",
   "metadata": {},
   "outputs": [
    {
     "data": {
      "image/png": "[encoded data removed]",
      "text/plain": [
       "<Figure size 432x288 with 1 Axes>"
      ]
     },
     "metadata": {},
     "output_type": "display_data"
    },
    {
     "data": {
      "image/png": "[encoded data removed]",
      "text/plain": [
       "<Figure size 432x288 with 1 Axes>"
      ]
     },
     "metadata": {},
     "output_type": "display_data"
    },
    {
     "data": {
      "image/png": "[encoded data removed]",
      "text/plain": [
       "<Figure size 432x288 with 1 Axes>"
      ]
     },
     "metadata": {},
     "output_type": "display_data"
    },
    {
     "data": {
      "image/png": "[encoded data removed]",
      "text/plain": [
       "<Figure size 432x288 with 1 Axes>"
      ]
     },
     "metadata": {},
     "output_type": "display_data"
    }
   ],
   "source": [
    "#display dist plot of each numeric columns.\n",
    "for i in df:\n",
    "    plt.figure()\n",
    "    sns.distplot(df[i])"
   ]
  },
  {
   "cell_type": "code",
   "execution_count": 129,
   "id": "1b655882",
   "metadata": {},
   "outputs": [
    {
     "data": {
      "image/png": "[encoded data removed]",
      "text/plain": [
       "<Figure size 720x576 with 4 Axes>"
      ]
     },
     "metadata": {},
     "output_type": "display_data"
    }
   ],
   "source": [
    "# Let's check the data distribution among all the columns.\n",
    "df.plot(kind='density', subplots=True, layout=(2,2), sharex=False, legend=True, fontsize=1, figsize=(10,8))\n",
    "plt.show()"
   ]
  },
  {
   "cell_type": "markdown",
   "id": "50de10be",
   "metadata": {},
   "source": [
    "# Remove skewness and outliers"
   ]
  },
  {
   "cell_type": "code",
   "execution_count": 130,
   "id": "47912dc7",
   "metadata": {},
   "outputs": [
    {
     "data": {
      "text/plain": [
       "newspaper    0.894720\n",
       "sales        0.407571\n",
       "radio        0.094175\n",
       "TV          -0.069853\n",
       "dtype: float64"
      ]
     },
     "execution_count": 130,
     "metadata": {},
     "output_type": "execute_result"
    }
   ],
   "source": [
    "#checking skewness\n",
    "df.skew().sort_values(ascending=False)"
   ]
  },
  {
   "cell_type": "code",
   "execution_count": 131,
   "id": "b59eeabf",
   "metadata": {},
   "outputs": [
    {
     "data": {
      "image/png": "[encoded data removed]",
      "text/plain": [
       "<Figure size 1440x576 with 1 Axes>"
      ]
     },
     "metadata": {},
     "output_type": "display_data"
    }
   ],
   "source": [
    "#checking outliers with boxplot\n",
    "df.iloc[:,:].boxplot(figsize=[20,8])\n",
    "plt.subplots_adjust(bottom=0.25)\n",
    "plt.show()"
   ]
  },
  {
   "cell_type": "code",
   "execution_count": 132,
   "id": "2d48e936",
   "metadata": {},
   "outputs": [
    {
     "data": {
      "text/plain": [
       "TV            True\n",
       "radio         True\n",
       "newspaper    False\n",
       "sales         True\n",
       "dtype: bool"
      ]
     },
     "execution_count": 132,
     "metadata": {},
     "output_type": "execute_result"
    }
   ],
   "source": [
    "#Lets quantify\n",
    "from scipy.stats import zscore\n",
    "(np.abs(zscore(df))<3).all()"
   ]
  },
  {
   "cell_type": "code",
   "execution_count": 133,
   "id": "1a405e11",
   "metadata": {},
   "outputs": [
    {
     "data": {
      "text/html": [
       "<div>\n",
       "<style scoped>\n",
       "    .dataframe tbody tr th:only-of-type {\n",
       "        vertical-align: middle;\n",
       "    }\n",
       "\n",
       "    .dataframe tbody tr th {\n",
       "        vertical-align: top;\n",
       "    }\n",
       "\n",
       "    .dataframe thead th {\n",
       "        text-align: right;\n",
       "    }\n",
       "</style>\n",
       "<table border=\"1\" class=\"dataframe\">\n",
       "  <thead>\n",
       "    <tr style=\"text-align: right;\">\n",
       "      <th></th>\n",
       "      <th>TV</th>\n",
       "      <th>radio</th>\n",
       "      <th>newspaper</th>\n",
       "      <th>sales</th>\n",
       "    </tr>\n",
       "  </thead>\n",
       "  <tbody>\n",
       "    <tr>\n",
       "      <th>0</th>\n",
       "      <td>0.969852</td>\n",
       "      <td>0.981522</td>\n",
       "      <td>1.778945</td>\n",
       "      <td>1.552053</td>\n",
       "    </tr>\n",
       "    <tr>\n",
       "      <th>1</th>\n",
       "      <td>1.197376</td>\n",
       "      <td>1.082808</td>\n",
       "      <td>0.669579</td>\n",
       "      <td>0.696046</td>\n",
       "    </tr>\n",
       "    <tr>\n",
       "      <th>2</th>\n",
       "      <td>1.516155</td>\n",
       "      <td>1.528463</td>\n",
       "      <td>1.783549</td>\n",
       "      <td>0.907406</td>\n",
       "    </tr>\n",
       "    <tr>\n",
       "      <th>3</th>\n",
       "      <td>0.052050</td>\n",
       "      <td>1.217855</td>\n",
       "      <td>1.286405</td>\n",
       "      <td>0.860330</td>\n",
       "    </tr>\n",
       "    <tr>\n",
       "      <th>4</th>\n",
       "      <td>0.394182</td>\n",
       "      <td>0.841614</td>\n",
       "      <td>1.281802</td>\n",
       "      <td>0.215683</td>\n",
       "    </tr>\n",
       "    <tr>\n",
       "      <th>...</th>\n",
       "      <td>...</td>\n",
       "      <td>...</td>\n",
       "      <td>...</td>\n",
       "      <td>...</td>\n",
       "    </tr>\n",
       "    <tr>\n",
       "      <th>195</th>\n",
       "      <td>1.270941</td>\n",
       "      <td>1.321031</td>\n",
       "      <td>0.771217</td>\n",
       "      <td>1.234053</td>\n",
       "    </tr>\n",
       "    <tr>\n",
       "      <th>196</th>\n",
       "      <td>0.617035</td>\n",
       "      <td>1.240003</td>\n",
       "      <td>1.033598</td>\n",
       "      <td>0.830548</td>\n",
       "    </tr>\n",
       "    <tr>\n",
       "      <th>197</th>\n",
       "      <td>0.349810</td>\n",
       "      <td>0.942899</td>\n",
       "      <td>1.111852</td>\n",
       "      <td>0.234898</td>\n",
       "    </tr>\n",
       "    <tr>\n",
       "      <th>198</th>\n",
       "      <td>1.594565</td>\n",
       "      <td>1.265121</td>\n",
       "      <td>1.640850</td>\n",
       "      <td>2.205347</td>\n",
       "    </tr>\n",
       "    <tr>\n",
       "      <th>199</th>\n",
       "      <td>0.993206</td>\n",
       "      <td>0.990165</td>\n",
       "      <td>1.005979</td>\n",
       "      <td>0.119610</td>\n",
       "    </tr>\n",
       "  </tbody>\n",
       "</table>\n",
       "<p>200 rows × 4 columns</p>\n",
       "</div>"
      ],
      "text/plain": [
       "           TV     radio  newspaper     sales\n",
       "0    0.969852  0.981522   1.778945  1.552053\n",
       "1    1.197376  1.082808   0.669579  0.696046\n",
       "2    1.516155  1.528463   1.783549  0.907406\n",
       "3    0.052050  1.217855   1.286405  0.860330\n",
       "4    0.394182  0.841614   1.281802  0.215683\n",
       "..        ...       ...        ...       ...\n",
       "195  1.270941  1.321031   0.771217  1.234053\n",
       "196  0.617035  1.240003   1.033598  0.830548\n",
       "197  0.349810  0.942899   1.111852  0.234898\n",
       "198  1.594565  1.265121   1.640850  2.205347\n",
       "199  0.993206  0.990165   1.005979  0.119610\n",
       "\n",
       "[200 rows x 4 columns]"
      ]
     },
     "execution_count": 133,
     "metadata": {},
     "output_type": "execute_result"
    }
   ],
   "source": [
    "#display zscore for removing outliers.\n",
    "from scipy.stats import zscore\n",
    "z = np.abs(zscore(df))\n",
    "z"
   ]
  },
  {
   "cell_type": "code",
   "execution_count": 134,
   "id": "9539cad8",
   "metadata": {},
   "outputs": [
    {
     "name": "stdout",
     "output_type": "stream",
     "text": [
      "(array([ 16, 101], dtype=int64), array([2, 2], dtype=int64))\n"
     ]
    }
   ],
   "source": [
    "#threshold for zscore values ----> above 3 are considerd outliers.\n",
    "threshold = 3 \n",
    "print(np.where(z>3))"
   ]
  },
  {
   "cell_type": "code",
   "execution_count": 135,
   "id": "424dc26b",
   "metadata": {},
   "outputs": [],
   "source": [
    "#removing outliers.\n",
    "df_new = df[(z<3).all(axis=1)]"
   ]
  },
  {
   "cell_type": "code",
   "execution_count": 136,
   "id": "05bcd0a3",
   "metadata": {},
   "outputs": [
    {
     "data": {
      "text/plain": [
       "(200, 4)"
      ]
     },
     "execution_count": 136,
     "metadata": {},
     "output_type": "execute_result"
    }
   ],
   "source": [
    "#display old dataset rows and columns.\n",
    "df.shape"
   ]
  },
  {
   "cell_type": "code",
   "execution_count": 137,
   "id": "9aeb2772",
   "metadata": {},
   "outputs": [
    {
     "data": {
      "text/plain": [
       "(198, 4)"
      ]
     },
     "execution_count": 137,
     "metadata": {},
     "output_type": "execute_result"
    }
   ],
   "source": [
    "#display new dataset rows and columns without outliers.\n",
    "df_new.shape"
   ]
  },
  {
   "cell_type": "code",
   "execution_count": 138,
   "id": "d4f6ea31",
   "metadata": {},
   "outputs": [
    {
     "data": {
      "text/plain": [
       "(198, 4)"
      ]
     },
     "execution_count": 138,
     "metadata": {},
     "output_type": "execute_result"
    }
   ],
   "source": [
    "#assign new dataset into old numeric dataset.\n",
    "df = df_new\n",
    "df.shape"
   ]
  },
  {
   "cell_type": "markdown",
   "id": "a90de325",
   "metadata": {},
   "source": [
    "there are no skew peresent in this dataset"
   ]
  },
  {
   "cell_type": "markdown",
   "id": "e361862f",
   "metadata": {},
   "source": [
    "# Data Preprocessing"
   ]
  },
  {
   "cell_type": "code",
   "execution_count": 139,
   "id": "02bfa4d6",
   "metadata": {},
   "outputs": [],
   "source": [
    "#Splitting the independent and target variable in x and y before removing the skewness\n",
    "x = df.drop(\"sales\",axis=1)\n",
    "y = df['sales']"
   ]
  },
  {
   "cell_type": "code",
   "execution_count": 140,
   "id": "c438c193",
   "metadata": {},
   "outputs": [
    {
     "data": {
      "text/html": [
       "<div>\n",
       "<style scoped>\n",
       "    .dataframe tbody tr th:only-of-type {\n",
       "        vertical-align: middle;\n",
       "    }\n",
       "\n",
       "    .dataframe tbody tr th {\n",
       "        vertical-align: top;\n",
       "    }\n",
       "\n",
       "    .dataframe thead th {\n",
       "        text-align: right;\n",
       "    }\n",
       "</style>\n",
       "<table border=\"1\" class=\"dataframe\">\n",
       "  <thead>\n",
       "    <tr style=\"text-align: right;\">\n",
       "      <th></th>\n",
       "      <th>TV</th>\n",
       "      <th>radio</th>\n",
       "      <th>newspaper</th>\n",
       "    </tr>\n",
       "  </thead>\n",
       "  <tbody>\n",
       "    <tr>\n",
       "      <th>0</th>\n",
       "      <td>230.1</td>\n",
       "      <td>37.8</td>\n",
       "      <td>69.2</td>\n",
       "    </tr>\n",
       "    <tr>\n",
       "      <th>1</th>\n",
       "      <td>44.5</td>\n",
       "      <td>39.3</td>\n",
       "      <td>45.1</td>\n",
       "    </tr>\n",
       "    <tr>\n",
       "      <th>2</th>\n",
       "      <td>17.2</td>\n",
       "      <td>45.9</td>\n",
       "      <td>69.3</td>\n",
       "    </tr>\n",
       "    <tr>\n",
       "      <th>3</th>\n",
       "      <td>151.5</td>\n",
       "      <td>41.3</td>\n",
       "      <td>58.5</td>\n",
       "    </tr>\n",
       "    <tr>\n",
       "      <th>4</th>\n",
       "      <td>180.8</td>\n",
       "      <td>10.8</td>\n",
       "      <td>58.4</td>\n",
       "    </tr>\n",
       "  </tbody>\n",
       "</table>\n",
       "</div>"
      ],
      "text/plain": [
       "      TV  radio  newspaper\n",
       "0  230.1   37.8       69.2\n",
       "1   44.5   39.3       45.1\n",
       "2   17.2   45.9       69.3\n",
       "3  151.5   41.3       58.5\n",
       "4  180.8   10.8       58.4"
      ]
     },
     "execution_count": 140,
     "metadata": {},
     "output_type": "execute_result"
    }
   ],
   "source": [
    "x.head()"
   ]
  },
  {
   "cell_type": "code",
   "execution_count": 141,
   "id": "9e1829a7",
   "metadata": {},
   "outputs": [
    {
     "data": {
      "text/plain": [
       "0    22.1\n",
       "1    10.4\n",
       "2     9.3\n",
       "3    18.5\n",
       "4    12.9\n",
       "Name: sales, dtype: float64"
      ]
     },
     "execution_count": 141,
     "metadata": {},
     "output_type": "execute_result"
    }
   ],
   "source": [
    "y.head()"
   ]
  },
  {
   "cell_type": "code",
   "execution_count": 142,
   "id": "7193f592",
   "metadata": {},
   "outputs": [
    {
     "name": "stdout",
     "output_type": "stream",
     "text": [
      "(198, 3) (198,)\n"
     ]
    }
   ],
   "source": [
    "print(x.shape, y.shape)"
   ]
  },
  {
   "cell_type": "markdown",
   "id": "d9501806",
   "metadata": {},
   "source": [
    "# Scaling the data using Min-Max scaler"
   ]
  },
  {
   "cell_type": "code",
   "execution_count": 143,
   "id": "2b2fc39b",
   "metadata": {},
   "outputs": [],
   "source": [
    "from sklearn.preprocessing import MinMaxScaler\n",
    "mms = MinMaxScaler()\n",
    "from sklearn.linear_model import LinearRegression\n",
    "lr = LinearRegression()\n",
    "from sklearn.metrics import r2_score\n",
    "from sklearn.model_selection import train_test_split"
   ]
  },
  {
   "cell_type": "code",
   "execution_count": 144,
   "id": "3844a3aa",
   "metadata": {},
   "outputs": [
    {
     "name": "stdout",
     "output_type": "stream",
     "text": [
      "At random state 1, the trainning accuracy is:- 0.8946050839431845\n",
      "At random state 1, the testing accuracy is:- 0.891219907737298\n",
      "\n",
      "\n",
      "At random state 2, the trainning accuracy is:- 0.9105689646648081\n",
      "At random state 2, the testing accuracy is:- 0.8381266733637571\n",
      "\n",
      "\n",
      "At random state 3, the trainning accuracy is:- 0.8944143192604463\n",
      "At random state 3, the testing accuracy is:- 0.8980994665131536\n",
      "\n",
      "\n",
      "At random state 4, the trainning accuracy is:- 0.8981805823414822\n",
      "At random state 4, the testing accuracy is:- 0.8719021920124681\n",
      "\n",
      "\n",
      "At random state 5, the trainning accuracy is:- 0.8994368014551729\n",
      "At random state 5, the testing accuracy is:- 0.8616494043950311\n",
      "\n",
      "\n",
      "At random state 6, the trainning accuracy is:- 0.8993028842288798\n",
      "At random state 6, the testing accuracy is:- 0.8760639888444909\n",
      "\n",
      "\n",
      "At random state 7, the trainning accuracy is:- 0.8907422790206732\n",
      "At random state 7, the testing accuracy is:- 0.9072259879826814\n",
      "\n",
      "\n",
      "At random state 8, the trainning accuracy is:- 0.9032084965142416\n",
      "At random state 8, the testing accuracy is:- 0.8622119821531382\n",
      "\n",
      "\n",
      "At random state 9, the trainning accuracy is:- 0.8896116143369225\n",
      "At random state 9, the testing accuracy is:- 0.9148867690563419\n",
      "\n",
      "\n",
      "At random state 10, the trainning accuracy is:- 0.9234109258384534\n",
      "At random state 10, the testing accuracy is:- 0.7847276428213539\n",
      "\n",
      "\n",
      "At random state 11, the trainning accuracy is:- 0.8849527337629283\n",
      "At random state 11, the testing accuracy is:- 0.9251344460664063\n",
      "\n",
      "\n",
      "At random state 12, the trainning accuracy is:- 0.893155890966673\n",
      "At random state 12, the testing accuracy is:- 0.9002147591940637\n",
      "\n",
      "\n",
      "At random state 13, the trainning accuracy is:- 0.9073685036587192\n",
      "At random state 13, the testing accuracy is:- 0.8379451608981883\n",
      "\n",
      "\n",
      "At random state 14, the trainning accuracy is:- 0.8856322875906846\n",
      "At random state 14, the testing accuracy is:- 0.9137433855890316\n",
      "\n",
      "\n",
      "At random state 15, the trainning accuracy is:- 0.8910311748322177\n",
      "At random state 15, the testing accuracy is:- 0.908668178012794\n",
      "\n",
      "\n",
      "At random state 16, the trainning accuracy is:- 0.8904589451941378\n",
      "At random state 16, the testing accuracy is:- 0.9092658921355936\n",
      "\n",
      "\n",
      "At random state 17, the trainning accuracy is:- 0.888899070609342\n",
      "At random state 17, the testing accuracy is:- 0.9158107183004832\n",
      "\n",
      "\n",
      "At random state 18, the trainning accuracy is:- 0.9107512319836957\n",
      "At random state 18, the testing accuracy is:- 0.8352581054144459\n",
      "\n",
      "\n",
      "At random state 19, the trainning accuracy is:- 0.8952937219888688\n",
      "At random state 19, the testing accuracy is:- 0.8777946475901691\n",
      "\n",
      "\n",
      "At random state 20, the trainning accuracy is:- 0.8861735393665224\n",
      "At random state 20, the testing accuracy is:- 0.9134618213607718\n",
      "\n",
      "\n",
      "At random state 21, the trainning accuracy is:- 0.884565335473425\n",
      "At random state 21, the testing accuracy is:- 0.9276910202519096\n",
      "\n",
      "\n",
      "At random state 22, the trainning accuracy is:- 0.8863623904193301\n",
      "At random state 22, the testing accuracy is:- 0.9272257674174519\n",
      "\n",
      "\n",
      "At random state 23, the trainning accuracy is:- 0.8851633612750962\n",
      "At random state 23, the testing accuracy is:- 0.9280846835289062\n",
      "\n",
      "\n",
      "At random state 24, the trainning accuracy is:- 0.8809757910723603\n",
      "At random state 24, the testing accuracy is:- 0.9456025807476978\n",
      "\n",
      "\n",
      "At random state 25, the trainning accuracy is:- 0.8829622259449756\n",
      "At random state 25, the testing accuracy is:- 0.9371746629622535\n",
      "\n",
      "\n",
      "At random state 26, the trainning accuracy is:- 0.9048077861193833\n",
      "At random state 26, the testing accuracy is:- 0.8203780207359677\n",
      "\n",
      "\n",
      "At random state 27, the trainning accuracy is:- 0.9094784686975189\n",
      "At random state 27, the testing accuracy is:- 0.8226901107028123\n",
      "\n",
      "\n",
      "At random state 28, the trainning accuracy is:- 0.9151656207216119\n",
      "At random state 28, the testing accuracy is:- 0.8242122179832336\n",
      "\n",
      "\n",
      "At random state 29, the trainning accuracy is:- 0.9079314459560758\n",
      "At random state 29, the testing accuracy is:- 0.8429744958016213\n",
      "\n",
      "\n",
      "At random state 30, the trainning accuracy is:- 0.9129669348136418\n",
      "At random state 30, the testing accuracy is:- 0.8232112840158844\n",
      "\n",
      "\n",
      "At random state 31, the trainning accuracy is:- 0.8807741206684752\n",
      "At random state 31, the testing accuracy is:- 0.9322873954829172\n",
      "\n",
      "\n",
      "At random state 32, the trainning accuracy is:- 0.8879237528446708\n",
      "At random state 32, the testing accuracy is:- 0.9176590893491935\n",
      "\n",
      "\n",
      "At random state 33, the trainning accuracy is:- 0.888035916659505\n",
      "At random state 33, the testing accuracy is:- 0.9168199223474399\n",
      "\n",
      "\n",
      "At random state 34, the trainning accuracy is:- 0.8961381192278818\n",
      "At random state 34, the testing accuracy is:- 0.8842687782801527\n",
      "\n",
      "\n",
      "At random state 35, the trainning accuracy is:- 0.8902893064280746\n",
      "At random state 35, the testing accuracy is:- 0.9153905766088841\n",
      "\n",
      "\n",
      "At random state 36, the trainning accuracy is:- 0.8896329800738692\n",
      "At random state 36, the testing accuracy is:- 0.9127811165767806\n",
      "\n",
      "\n",
      "At random state 37, the trainning accuracy is:- 0.8928441817473719\n",
      "At random state 37, the testing accuracy is:- 0.9089901606257965\n",
      "\n",
      "\n",
      "At random state 38, the trainning accuracy is:- 0.8897925916435414\n",
      "At random state 38, the testing accuracy is:- 0.9172706638690491\n",
      "\n",
      "\n",
      "At random state 39, the trainning accuracy is:- 0.9035389723312434\n",
      "At random state 39, the testing accuracy is:- 0.8548912714848504\n",
      "\n",
      "\n",
      "At random state 40, the trainning accuracy is:- 0.8938865309825034\n",
      "At random state 40, the testing accuracy is:- 0.8933223521136455\n",
      "\n",
      "\n",
      "At random state 41, the trainning accuracy is:- 0.8990543250257402\n",
      "At random state 41, the testing accuracy is:- 0.8663464679495857\n",
      "\n",
      "\n",
      "At random state 42, the trainning accuracy is:- 0.8935961872087126\n",
      "At random state 42, the testing accuracy is:- 0.8989454779619588\n",
      "\n",
      "\n",
      "At random state 43, the trainning accuracy is:- 0.9003196624874754\n",
      "At random state 43, the testing accuracy is:- 0.8751484803695657\n",
      "\n",
      "\n",
      "At random state 44, the trainning accuracy is:- 0.9031303879771791\n",
      "At random state 44, the testing accuracy is:- 0.8117000632290442\n",
      "\n",
      "\n",
      "At random state 45, the trainning accuracy is:- 0.8978187125535125\n",
      "At random state 45, the testing accuracy is:- 0.8747422037972019\n",
      "\n",
      "\n",
      "At random state 46, the trainning accuracy is:- 0.899102111687532\n",
      "At random state 46, the testing accuracy is:- 0.8726271917983103\n",
      "\n",
      "\n",
      "At random state 47, the trainning accuracy is:- 0.8948929338032797\n",
      "At random state 47, the testing accuracy is:- 0.8922946750347814\n",
      "\n",
      "\n",
      "At random state 48, the trainning accuracy is:- 0.9019155855266181\n",
      "At random state 48, the testing accuracy is:- 0.8662378996686709\n",
      "\n",
      "\n",
      "At random state 49, the trainning accuracy is:- 0.9105384392354211\n",
      "At random state 49, the testing accuracy is:- 0.8351144932670391\n",
      "\n",
      "\n",
      "At random state 50, the trainning accuracy is:- 0.9009231461636191\n",
      "At random state 50, the testing accuracy is:- 0.8429785403092684\n",
      "\n",
      "\n",
      "At random state 51, the trainning accuracy is:- 0.8929482650783451\n",
      "At random state 51, the testing accuracy is:- 0.8969749608189316\n",
      "\n",
      "\n",
      "At random state 52, the trainning accuracy is:- 0.8947789773965512\n",
      "At random state 52, the testing accuracy is:- 0.8925145995117166\n",
      "\n",
      "\n",
      "At random state 53, the trainning accuracy is:- 0.9048442016872695\n",
      "At random state 53, the testing accuracy is:- 0.8524939615808071\n",
      "\n",
      "\n",
      "At random state 54, the trainning accuracy is:- 0.8982293254785564\n",
      "At random state 54, the testing accuracy is:- 0.8776799027550092\n",
      "\n",
      "\n",
      "At random state 55, the trainning accuracy is:- 0.8934732789730452\n",
      "At random state 55, the testing accuracy is:- 0.897710913939017\n",
      "\n",
      "\n",
      "At random state 56, the trainning accuracy is:- 0.9062773777328017\n",
      "At random state 56, the testing accuracy is:- 0.8436665154822789\n",
      "\n",
      "\n",
      "At random state 57, the trainning accuracy is:- 0.9032862954100991\n",
      "At random state 57, the testing accuracy is:- 0.865206036731957\n",
      "\n",
      "\n",
      "At random state 58, the trainning accuracy is:- 0.8815285101634734\n",
      "At random state 58, the testing accuracy is:- 0.930113922012518\n",
      "\n",
      "\n",
      "At random state 59, the trainning accuracy is:- 0.8872670373538741\n",
      "At random state 59, the testing accuracy is:- 0.9184306555712065\n",
      "\n",
      "\n",
      "At random state 60, the trainning accuracy is:- 0.8985938448584895\n",
      "At random state 60, the testing accuracy is:- 0.8823000359749914\n",
      "\n",
      "\n",
      "At random state 61, the trainning accuracy is:- 0.9046156537711098\n",
      "At random state 61, the testing accuracy is:- 0.853297561937534\n",
      "\n",
      "\n",
      "At random state 62, the trainning accuracy is:- 0.9006118694968954\n",
      "At random state 62, the testing accuracy is:- 0.8571507573921291\n",
      "\n",
      "\n",
      "At random state 63, the trainning accuracy is:- 0.8939151551704926\n",
      "At random state 63, the testing accuracy is:- 0.8972874269449631\n",
      "\n",
      "\n",
      "At random state 64, the trainning accuracy is:- 0.8860385862322467\n",
      "At random state 64, the testing accuracy is:- 0.9267279065103223\n",
      "\n",
      "\n",
      "At random state 65, the trainning accuracy is:- 0.8979269961140793\n",
      "At random state 65, the testing accuracy is:- 0.8825466552554456\n",
      "\n",
      "\n",
      "At random state 66, the trainning accuracy is:- 0.9005426396871374\n",
      "At random state 66, the testing accuracy is:- 0.8744920660734806\n",
      "\n",
      "\n",
      "At random state 67, the trainning accuracy is:- 0.8916079358605494\n",
      "At random state 67, the testing accuracy is:- 0.9057874401170471\n",
      "\n",
      "\n",
      "At random state 68, the trainning accuracy is:- 0.9033182509577266\n",
      "At random state 68, the testing accuracy is:- 0.8617429493016013\n",
      "\n",
      "\n",
      "At random state 69, the trainning accuracy is:- 0.8914686052810469\n",
      "At random state 69, the testing accuracy is:- 0.906070694321867\n",
      "\n",
      "\n"
     ]
    },
    {
     "name": "stdout",
     "output_type": "stream",
     "text": [
      "At random state 70, the trainning accuracy is:- 0.8827162954196404\n",
      "At random state 70, the testing accuracy is:- 0.9265656652996626\n",
      "\n",
      "\n",
      "At random state 71, the trainning accuracy is:- 0.9094738850819296\n",
      "At random state 71, the testing accuracy is:- 0.8071830117377916\n",
      "\n",
      "\n",
      "At random state 72, the trainning accuracy is:- 0.8877647068250816\n",
      "At random state 72, the testing accuracy is:- 0.9212755833741662\n",
      "\n",
      "\n",
      "At random state 73, the trainning accuracy is:- 0.8960783562759226\n",
      "At random state 73, the testing accuracy is:- 0.8849214355995999\n",
      "\n",
      "\n",
      "At random state 74, the trainning accuracy is:- 0.8741050234782155\n",
      "At random state 74, the testing accuracy is:- 0.9298308020128561\n",
      "\n",
      "\n",
      "At random state 75, the trainning accuracy is:- 0.8953962394226144\n",
      "At random state 75, the testing accuracy is:- 0.8756772369429392\n",
      "\n",
      "\n",
      "At random state 76, the trainning accuracy is:- 0.9038582953449021\n",
      "At random state 76, the testing accuracy is:- 0.8516126265709411\n",
      "\n",
      "\n",
      "At random state 77, the trainning accuracy is:- 0.8890301857718985\n",
      "At random state 77, the testing accuracy is:- 0.9166905563751221\n",
      "\n",
      "\n",
      "At random state 78, the trainning accuracy is:- 0.9134603355273572\n",
      "At random state 78, the testing accuracy is:- 0.7902344027203059\n",
      "\n",
      "\n",
      "At random state 79, the trainning accuracy is:- 0.8918146350991453\n",
      "At random state 79, the testing accuracy is:- 0.9014406236580842\n",
      "\n",
      "\n",
      "At random state 80, the trainning accuracy is:- 0.8926690585654801\n",
      "At random state 80, the testing accuracy is:- 0.9037187128234276\n",
      "\n",
      "\n",
      "At random state 81, the trainning accuracy is:- 0.8877828922449127\n",
      "At random state 81, the testing accuracy is:- 0.9199455602534609\n",
      "\n",
      "\n",
      "At random state 82, the trainning accuracy is:- 0.9090696813399116\n",
      "At random state 82, the testing accuracy is:- 0.839876824043998\n",
      "\n",
      "\n",
      "At random state 83, the trainning accuracy is:- 0.900459401377182\n",
      "At random state 83, the testing accuracy is:- 0.8791148089196504\n",
      "\n",
      "\n",
      "At random state 84, the trainning accuracy is:- 0.8835761124862845\n",
      "At random state 84, the testing accuracy is:- 0.9292654473438203\n",
      "\n",
      "\n",
      "At random state 85, the trainning accuracy is:- 0.9132027063640219\n",
      "At random state 85, the testing accuracy is:- 0.7705544702687278\n",
      "\n",
      "\n",
      "At random state 86, the trainning accuracy is:- 0.8925903351276707\n",
      "At random state 86, the testing accuracy is:- 0.9047661303024038\n",
      "\n",
      "\n",
      "At random state 87, the trainning accuracy is:- 0.9141328363442639\n",
      "At random state 87, the testing accuracy is:- 0.8087421010289435\n",
      "\n",
      "\n",
      "At random state 88, the trainning accuracy is:- 0.8972954404318595\n",
      "At random state 88, the testing accuracy is:- 0.8837353565017301\n",
      "\n",
      "\n",
      "At random state 89, the trainning accuracy is:- 0.903250960526272\n",
      "At random state 89, the testing accuracy is:- 0.845842124811012\n",
      "\n",
      "\n",
      "At random state 90, the trainning accuracy is:- 0.8791542940797823\n",
      "At random state 90, the testing accuracy is:- 0.9477136584598765\n",
      "\n",
      "\n",
      "At random state 91, the trainning accuracy is:- 0.8925537988702157\n",
      "At random state 91, the testing accuracy is:- 0.8986272987144843\n",
      "\n",
      "\n",
      "At random state 92, the trainning accuracy is:- 0.89370900172804\n",
      "At random state 92, the testing accuracy is:- 0.8937806772897252\n",
      "\n",
      "\n",
      "At random state 93, the trainning accuracy is:- 0.908390049960135\n",
      "At random state 93, the testing accuracy is:- 0.8435303584836114\n",
      "\n",
      "\n",
      "At random state 94, the trainning accuracy is:- 0.9035778811399116\n",
      "At random state 94, the testing accuracy is:- 0.8679025522688203\n",
      "\n",
      "\n",
      "At random state 95, the trainning accuracy is:- 0.9081470930021118\n",
      "At random state 95, the testing accuracy is:- 0.847911640936015\n",
      "\n",
      "\n",
      "At random state 96, the trainning accuracy is:- 0.9025829262386167\n",
      "At random state 96, the testing accuracy is:- 0.8549819020058949\n",
      "\n",
      "\n",
      "At random state 97, the trainning accuracy is:- 0.8941951908750972\n",
      "At random state 97, the testing accuracy is:- 0.8975724260460941\n",
      "\n",
      "\n",
      "At random state 98, the trainning accuracy is:- 0.9090516361378773\n",
      "At random state 98, the testing accuracy is:- 0.8382459156006743\n",
      "\n",
      "\n",
      "At random state 99, the trainning accuracy is:- 0.8832087051413472\n",
      "At random state 99, the testing accuracy is:- 0.9300192208914474\n",
      "\n",
      "\n"
     ]
    }
   ],
   "source": [
    "for i in range(1,100):\n",
    "    x_train, x_test, y_train, y_test = train_test_split(x,y,test_size = .20, random_state = i)\n",
    "    lr.fit(x_train,y_train)\n",
    "    pred_train = lr.predict(x_train)\n",
    "    pred_test = lr.predict(x_test)\n",
    "    \n",
    "    train_acc = print(f\"At random state {i}, the trainning accuracy is:- {r2_score(y_train,pred_train)}\")\n",
    "    test_acc = print(f\"At random state {i}, the testing accuracy is:- {r2_score(y_test,pred_test)}\")\n",
    "    print(\"\\n\")"
   ]
  },
  {
   "cell_type": "markdown",
   "id": "490ae303",
   "metadata": {},
   "source": [
    "# Creating train-test split"
   ]
  },
  {
   "cell_type": "code",
   "execution_count": 145,
   "id": "235f3584",
   "metadata": {},
   "outputs": [],
   "source": [
    "x_train, x_test, y_train, y_test = train_test_split(x,y,test_size=.20,random_state = 24)"
   ]
  },
  {
   "cell_type": "code",
   "execution_count": 146,
   "id": "58a5cca4",
   "metadata": {},
   "outputs": [
    {
     "data": {
      "text/plain": [
       "LinearRegression()"
      ]
     },
     "execution_count": 146,
     "metadata": {},
     "output_type": "execute_result"
    }
   ],
   "source": [
    "lr.fit(x_train,y_train)"
   ]
  },
  {
   "cell_type": "code",
   "execution_count": 147,
   "id": "a5eea7c5",
   "metadata": {},
   "outputs": [],
   "source": [
    "pred_test = lr.predict(x_test)"
   ]
  },
  {
   "cell_type": "code",
   "execution_count": 148,
   "id": "d3fb78e3",
   "metadata": {},
   "outputs": [
    {
     "name": "stdout",
     "output_type": "stream",
     "text": [
      "0.9456025807476978\n"
     ]
    }
   ],
   "source": [
    "print(r2_score(y_test,pred_test))"
   ]
  },
  {
   "cell_type": "code",
   "execution_count": 149,
   "id": "759a92dd",
   "metadata": {},
   "outputs": [
    {
     "name": "stdout",
     "output_type": "stream",
     "text": [
      "predicted result price: [ 4.29631103 21.07825712 14.66962503  6.49887728  7.99693811  8.08014969\n",
      " 21.47487973 12.50227763 14.07771522  9.9194312   9.73536364 18.95497735\n",
      " 18.27863216 14.94674356 15.20926803 20.29458854 16.93859556 17.64454479\n",
      " 21.12699275 20.29604971  7.52950218 20.6940919  17.9052949   9.53162246\n",
      " 17.34547341 14.91945382 18.4108073  19.19501887 23.90716484 17.25862501\n",
      " 19.70672362  9.86063768  9.54244391 10.311802   10.04353497 15.44884444\n",
      " 14.82865231  7.29019261  7.80120291 11.85249272]\n",
      "actual price 192     5.9\n",
      "111    21.8\n",
      "103    14.7\n",
      "127     8.8\n",
      "49      9.7\n",
      "196     9.7\n",
      "30     21.4\n",
      "190    10.8\n",
      "160    14.4\n",
      "144    11.4\n",
      "73     11.0\n",
      "92     19.4\n",
      "14     19.0\n",
      "26     15.0\n",
      "146    13.2\n",
      "104    20.7\n",
      "27     15.9\n",
      "70     18.3\n",
      "55     23.7\n",
      "0      22.1\n",
      "172     7.6\n",
      "84     21.7\n",
      "20     18.0\n",
      "186    10.3\n",
      "163    18.0\n",
      "85     15.2\n",
      "184    17.6\n",
      "124    19.7\n",
      "183    26.2\n",
      "11     17.4\n",
      "139    20.7\n",
      "157    10.1\n",
      "79     11.0\n",
      "72      8.8\n",
      "82     11.3\n",
      "154    15.6\n",
      "162    14.9\n",
      "170     8.4\n",
      "65      9.3\n",
      "116    12.2\n",
      "Name: sales, dtype: float64\n"
     ]
    }
   ],
   "source": [
    "#predict the value\n",
    "print(\"predicted result price:\",pred_test)\n",
    "print(\"actual price\",y_test)"
   ]
  },
  {
   "cell_type": "code",
   "execution_count": 150,
   "id": "d9e23e43",
   "metadata": {},
   "outputs": [
    {
     "name": "stdout",
     "output_type": "stream",
     "text": [
      "error:\n",
      "mean absolute error 0.9447865127960533\n",
      "mean squared error 1.3997404528615591\n",
      "Root mean squared error 1.1831062728519188\n"
     ]
    }
   ],
   "source": [
    "#display MAE, MSE and RMSE \n",
    "from sklearn.metrics import mean_squared_error, mean_absolute_error\n",
    "print('error:')\n",
    "\n",
    "print('mean absolute error',mean_absolute_error(y_test,pred_test))\n",
    "print('mean squared error',mean_squared_error(y_test,pred_test))\n",
    "\n",
    "print('Root mean squared error',np.sqrt(mean_squared_error(y_test,pred_test)))"
   ]
  },
  {
   "cell_type": "code",
   "execution_count": 154,
   "id": "6af44560",
   "metadata": {},
   "outputs": [
    {
     "name": "stdout",
     "output_type": "stream",
     "text": [
      "At cross fold 2 the cv score is 0.8886177292201751 and accuracy score for trainning is -0.9747540261669261 and accuracy score for testing is 0.9456025807476978\n",
      "\n",
      "\n",
      "At cross fold 3 the cv score is 0.8890406332045909 and accuracy score for trainning is -0.9747540261669261 and accuracy score for testing is 0.9456025807476978\n",
      "\n",
      "\n",
      "At cross fold 4 the cv score is 0.8880501918930908 and accuracy score for trainning is -0.9747540261669261 and accuracy score for testing is 0.9456025807476978\n",
      "\n",
      "\n",
      "At cross fold 5 the cv score is 0.8853605756683912 and accuracy score for trainning is -0.9747540261669261 and accuracy score for testing is 0.9456025807476978\n",
      "\n",
      "\n",
      "At cross fold 6 the cv score is 0.8868174285063072 and accuracy score for trainning is -0.9747540261669261 and accuracy score for testing is 0.9456025807476978\n",
      "\n",
      "\n",
      "At cross fold 7 the cv score is 0.883828289486476 and accuracy score for trainning is -0.9747540261669261 and accuracy score for testing is 0.9456025807476978\n",
      "\n",
      "\n",
      "At cross fold 8 the cv score is 0.8880334554150219 and accuracy score for trainning is -0.9747540261669261 and accuracy score for testing is 0.9456025807476978\n",
      "\n",
      "\n",
      "At cross fold 9 the cv score is 0.8810485430282271 and accuracy score for trainning is -0.9747540261669261 and accuracy score for testing is 0.9456025807476978\n",
      "\n",
      "\n"
     ]
    }
   ],
   "source": [
    "train_accuracy = r2_score(y_train,pred_train)\n",
    "test_accuracy = r2_score(y_test,pred_test)\n",
    "\n",
    "from sklearn.model_selection import cross_val_score\n",
    "for j in range(2,10):\n",
    "    cv_score = cross_val_score(lr,x,y,cv=j)\n",
    "    cv_mean = cv_score.mean()\n",
    "    print(f\"At cross fold {j} the cv score is {cv_mean} and accuracy score for trainning is {train_accuracy} and accuracy score for testing is {test_accuracy}\")\n",
    "    print(\"\\n\")"
   ]
  },
  {
   "cell_type": "code",
   "execution_count": 157,
   "id": "90bace07",
   "metadata": {},
   "outputs": [
    {
     "data": {
      "image/png": "[encoded data removed]",
      "text/plain": [
       "<Figure size 576x432 with 1 Axes>"
      ]
     },
     "metadata": {},
     "output_type": "display_data"
    }
   ],
   "source": [
    "plt.figure(figsize=(8,6))\n",
    "plt.scatter(x=y_test, y=pred_test, color = 'r')\n",
    "plt.plot(y_test,y_test,color='b')\n",
    "plt.xlabel(\"predicted sales\",fontsize=14)\n",
    "plt.ylabel(\"actual sales\",fontsize=14)\n",
    "plt.title(\"linear regression\",fontsize=18)\n",
    "plt.show()"
   ]
  },
  {
   "cell_type": "markdown",
   "id": "a267a695",
   "metadata": {},
   "source": [
    "# Regularization"
   ]
  },
  {
   "cell_type": "code",
   "execution_count": 158,
   "id": "5554f6eb",
   "metadata": {},
   "outputs": [],
   "source": [
    "from sklearn.model_selection import GridSearchCV\n",
    "from sklearn.model_selection import cross_val_score"
   ]
  },
  {
   "cell_type": "code",
   "execution_count": 160,
   "id": "5502289c",
   "metadata": {},
   "outputs": [
    {
     "name": "stdout",
     "output_type": "stream",
     "text": [
      "{'alpha': 1, 'random_state': 0}\n"
     ]
    }
   ],
   "source": [
    "from sklearn.linear_model import Lasso,Ridge,ElasticNet\n",
    "\n",
    "parameters = {'alpha':[.0001,.001,.01,.1,1,10],'random_state':list(range(0,10))}\n",
    "ls = Lasso()\n",
    "clf = GridSearchCV(ls,parameters)\n",
    "clf.fit(x_train,y_train)\n",
    "\n",
    "print(clf.best_params_)"
   ]
  },
  {
   "cell_type": "code",
   "execution_count": 161,
   "id": "de2e8fe4",
   "metadata": {},
   "outputs": [
    {
     "data": {
      "text/plain": [
       "0.9474767856694469"
      ]
     },
     "execution_count": 161,
     "metadata": {},
     "output_type": "execute_result"
    }
   ],
   "source": [
    "ls = Lasso(alpha=1,random_state=0)\n",
    "ls.fit(x_train,y_train)\n",
    "ls.score(x_train,y_train)\n",
    "pred_ls = ls.predict(x_test)\n",
    "\n",
    "lss = r2_score(y_test,pred_ls)\n",
    "lss"
   ]
  },
  {
   "cell_type": "code",
   "execution_count": 162,
   "id": "017c17e6",
   "metadata": {},
   "outputs": [
    {
     "data": {
      "text/plain": [
       "0.8896859571280378"
      ]
     },
     "execution_count": 162,
     "metadata": {},
     "output_type": "execute_result"
    }
   ],
   "source": [
    "cv_score = cross_val_score(ls,x,y,cv=3)\n",
    "cv_mean = cv_score.mean()\n",
    "cv_mean"
   ]
  },
  {
   "cell_type": "markdown",
   "id": "c081fab1",
   "metadata": {},
   "source": [
    "# Ensemble technique"
   ]
  },
  {
   "cell_type": "code",
   "execution_count": 164,
   "id": "3ff2d76d",
   "metadata": {},
   "outputs": [
    {
     "name": "stdout",
     "output_type": "stream",
     "text": [
      "{'criterion': 'mae', 'max_features': 'auto'}\n"
     ]
    }
   ],
   "source": [
    "from sklearn.model_selection import GridSearchCV\n",
    "from sklearn.ensemble import RandomForestRegressor\n",
    "\n",
    "parameters = {'max_features': ['auto','sqrt','log2'],\n",
    "              'criterion':['mse','mae']}\n",
    "rf = RandomForestRegressor()\n",
    "clf = GridSearchCV(rf,parameters)\n",
    "clf.fit(x_train,y_train)\n",
    "\n",
    "print(clf.best_params_)"
   ]
  },
  {
   "cell_type": "code",
   "execution_count": 166,
   "id": "ecdf4ce8",
   "metadata": {},
   "outputs": [
    {
     "name": "stdout",
     "output_type": "stream",
     "text": [
      "R2 Score: 98.50408923413907\n",
      "Cross val Score: 97.53084962629163\n"
     ]
    }
   ],
   "source": [
    "rf = RandomForestRegressor(criterion='mae',max_features='auto')\n",
    "rf.fit(x_train,y_train)\n",
    "rf.score(x_train,y_train)\n",
    "pred_decision = rf.predict(x_test)\n",
    "\n",
    "rfs = r2_score(y_test,pred_decision)\n",
    "print('R2 Score:',rfs*100)\n",
    "\n",
    "rfscore = cross_val_score(rf,x,y,cv=3)\n",
    "rfc = rfscore.mean()\n",
    "print(\"Cross val Score:\",rfc*100)"
   ]
  },
  {
   "cell_type": "markdown",
   "id": "e96eeb1d",
   "metadata": {},
   "source": [
    "# Model Saving"
   ]
  },
  {
   "cell_type": "code",
   "execution_count": 169,
   "id": "4315bcd0",
   "metadata": {},
   "outputs": [],
   "source": [
    "import pickle\n",
    "filename = 'sales.pkl'\n",
    "pickle.dump(rf,open(filename,'wb'))"
   ]
  },
  {
   "cell_type": "markdown",
   "id": "db039e5b",
   "metadata": {},
   "source": [
    "# Conclusion"
   ]
  },
  {
   "cell_type": "code",
   "execution_count": 170,
   "id": "51d1b53d",
   "metadata": {},
   "outputs": [
    {
     "data": {
      "text/html": [
       "<div>\n",
       "<style scoped>\n",
       "    .dataframe tbody tr th:only-of-type {\n",
       "        vertical-align: middle;\n",
       "    }\n",
       "\n",
       "    .dataframe tbody tr th {\n",
       "        vertical-align: top;\n",
       "    }\n",
       "\n",
       "    .dataframe thead th {\n",
       "        text-align: right;\n",
       "    }\n",
       "</style>\n",
       "<table border=\"1\" class=\"dataframe\">\n",
       "  <thead>\n",
       "    <tr style=\"text-align: right;\">\n",
       "      <th></th>\n",
       "      <th>original</th>\n",
       "      <th>predicted</th>\n",
       "    </tr>\n",
       "  </thead>\n",
       "  <tbody>\n",
       "    <tr>\n",
       "      <th>0</th>\n",
       "      <td>5.9</td>\n",
       "      <td>6.827</td>\n",
       "    </tr>\n",
       "    <tr>\n",
       "      <th>1</th>\n",
       "      <td>21.8</td>\n",
       "      <td>21.814</td>\n",
       "    </tr>\n",
       "    <tr>\n",
       "      <th>2</th>\n",
       "      <td>14.7</td>\n",
       "      <td>14.468</td>\n",
       "    </tr>\n",
       "    <tr>\n",
       "      <th>3</th>\n",
       "      <td>8.8</td>\n",
       "      <td>9.106</td>\n",
       "    </tr>\n",
       "    <tr>\n",
       "      <th>4</th>\n",
       "      <td>9.7</td>\n",
       "      <td>10.136</td>\n",
       "    </tr>\n",
       "    <tr>\n",
       "      <th>5</th>\n",
       "      <td>9.7</td>\n",
       "      <td>9.687</td>\n",
       "    </tr>\n",
       "    <tr>\n",
       "      <th>6</th>\n",
       "      <td>21.4</td>\n",
       "      <td>20.528</td>\n",
       "    </tr>\n",
       "    <tr>\n",
       "      <th>7</th>\n",
       "      <td>10.8</td>\n",
       "      <td>10.824</td>\n",
       "    </tr>\n",
       "    <tr>\n",
       "      <th>8</th>\n",
       "      <td>14.4</td>\n",
       "      <td>13.948</td>\n",
       "    </tr>\n",
       "    <tr>\n",
       "      <th>9</th>\n",
       "      <td>11.4</td>\n",
       "      <td>11.322</td>\n",
       "    </tr>\n",
       "    <tr>\n",
       "      <th>10</th>\n",
       "      <td>11.0</td>\n",
       "      <td>11.394</td>\n",
       "    </tr>\n",
       "    <tr>\n",
       "      <th>11</th>\n",
       "      <td>19.4</td>\n",
       "      <td>19.916</td>\n",
       "    </tr>\n",
       "    <tr>\n",
       "      <th>12</th>\n",
       "      <td>19.0</td>\n",
       "      <td>18.685</td>\n",
       "    </tr>\n",
       "    <tr>\n",
       "      <th>13</th>\n",
       "      <td>15.0</td>\n",
       "      <td>16.532</td>\n",
       "    </tr>\n",
       "    <tr>\n",
       "      <th>14</th>\n",
       "      <td>13.2</td>\n",
       "      <td>12.485</td>\n",
       "    </tr>\n",
       "    <tr>\n",
       "      <th>15</th>\n",
       "      <td>20.7</td>\n",
       "      <td>20.087</td>\n",
       "    </tr>\n",
       "    <tr>\n",
       "      <th>16</th>\n",
       "      <td>15.9</td>\n",
       "      <td>15.478</td>\n",
       "    </tr>\n",
       "    <tr>\n",
       "      <th>17</th>\n",
       "      <td>18.3</td>\n",
       "      <td>18.359</td>\n",
       "    </tr>\n",
       "    <tr>\n",
       "      <th>18</th>\n",
       "      <td>23.7</td>\n",
       "      <td>22.626</td>\n",
       "    </tr>\n",
       "    <tr>\n",
       "      <th>19</th>\n",
       "      <td>22.1</td>\n",
       "      <td>21.623</td>\n",
       "    </tr>\n",
       "    <tr>\n",
       "      <th>20</th>\n",
       "      <td>7.6</td>\n",
       "      <td>7.121</td>\n",
       "    </tr>\n",
       "    <tr>\n",
       "      <th>21</th>\n",
       "      <td>21.7</td>\n",
       "      <td>22.130</td>\n",
       "    </tr>\n",
       "    <tr>\n",
       "      <th>22</th>\n",
       "      <td>18.0</td>\n",
       "      <td>19.110</td>\n",
       "    </tr>\n",
       "    <tr>\n",
       "      <th>23</th>\n",
       "      <td>10.3</td>\n",
       "      <td>10.687</td>\n",
       "    </tr>\n",
       "    <tr>\n",
       "      <th>24</th>\n",
       "      <td>18.0</td>\n",
       "      <td>17.817</td>\n",
       "    </tr>\n",
       "    <tr>\n",
       "      <th>25</th>\n",
       "      <td>15.2</td>\n",
       "      <td>14.458</td>\n",
       "    </tr>\n",
       "    <tr>\n",
       "      <th>26</th>\n",
       "      <td>17.6</td>\n",
       "      <td>16.567</td>\n",
       "    </tr>\n",
       "    <tr>\n",
       "      <th>27</th>\n",
       "      <td>19.7</td>\n",
       "      <td>20.080</td>\n",
       "    </tr>\n",
       "    <tr>\n",
       "      <th>28</th>\n",
       "      <td>26.2</td>\n",
       "      <td>25.071</td>\n",
       "    </tr>\n",
       "    <tr>\n",
       "      <th>29</th>\n",
       "      <td>17.4</td>\n",
       "      <td>17.087</td>\n",
       "    </tr>\n",
       "    <tr>\n",
       "      <th>30</th>\n",
       "      <td>20.7</td>\n",
       "      <td>20.851</td>\n",
       "    </tr>\n",
       "    <tr>\n",
       "      <th>31</th>\n",
       "      <td>10.1</td>\n",
       "      <td>10.770</td>\n",
       "    </tr>\n",
       "    <tr>\n",
       "      <th>32</th>\n",
       "      <td>11.0</td>\n",
       "      <td>11.430</td>\n",
       "    </tr>\n",
       "    <tr>\n",
       "      <th>33</th>\n",
       "      <td>8.8</td>\n",
       "      <td>8.725</td>\n",
       "    </tr>\n",
       "    <tr>\n",
       "      <th>34</th>\n",
       "      <td>11.3</td>\n",
       "      <td>11.440</td>\n",
       "    </tr>\n",
       "    <tr>\n",
       "      <th>35</th>\n",
       "      <td>15.6</td>\n",
       "      <td>15.556</td>\n",
       "    </tr>\n",
       "    <tr>\n",
       "      <th>36</th>\n",
       "      <td>14.9</td>\n",
       "      <td>14.452</td>\n",
       "    </tr>\n",
       "    <tr>\n",
       "      <th>37</th>\n",
       "      <td>8.4</td>\n",
       "      <td>9.201</td>\n",
       "    </tr>\n",
       "    <tr>\n",
       "      <th>38</th>\n",
       "      <td>9.3</td>\n",
       "      <td>10.165</td>\n",
       "    </tr>\n",
       "    <tr>\n",
       "      <th>39</th>\n",
       "      <td>12.2</td>\n",
       "      <td>13.020</td>\n",
       "    </tr>\n",
       "  </tbody>\n",
       "</table>\n",
       "</div>"
      ],
      "text/plain": [
       "    original  predicted\n",
       "0        5.9      6.827\n",
       "1       21.8     21.814\n",
       "2       14.7     14.468\n",
       "3        8.8      9.106\n",
       "4        9.7     10.136\n",
       "5        9.7      9.687\n",
       "6       21.4     20.528\n",
       "7       10.8     10.824\n",
       "8       14.4     13.948\n",
       "9       11.4     11.322\n",
       "10      11.0     11.394\n",
       "11      19.4     19.916\n",
       "12      19.0     18.685\n",
       "13      15.0     16.532\n",
       "14      13.2     12.485\n",
       "15      20.7     20.087\n",
       "16      15.9     15.478\n",
       "17      18.3     18.359\n",
       "18      23.7     22.626\n",
       "19      22.1     21.623\n",
       "20       7.6      7.121\n",
       "21      21.7     22.130\n",
       "22      18.0     19.110\n",
       "23      10.3     10.687\n",
       "24      18.0     17.817\n",
       "25      15.2     14.458\n",
       "26      17.6     16.567\n",
       "27      19.7     20.080\n",
       "28      26.2     25.071\n",
       "29      17.4     17.087\n",
       "30      20.7     20.851\n",
       "31      10.1     10.770\n",
       "32      11.0     11.430\n",
       "33       8.8      8.725\n",
       "34      11.3     11.440\n",
       "35      15.6     15.556\n",
       "36      14.9     14.452\n",
       "37       8.4      9.201\n",
       "38       9.3     10.165\n",
       "39      12.2     13.020"
      ]
     },
     "execution_count": 170,
     "metadata": {},
     "output_type": "execute_result"
    }
   ],
   "source": [
    "import numpy as np\n",
    "a = np.array(y_test)\n",
    "predicted = np.array(rf.predict(x_test))\n",
    "df_comp = pd.DataFrame({'original':a,'predicted':predicted},index=range(len(a)))\n",
    "df_comp"
   ]
  }
 ],
 "metadata": {
  "kernelspec": {
   "display_name": "Python 3 (ipykernel)",
   "language": "python",
   "name": "python3"
  },
  "language_info": {
   "codemirror_mode": {
    "name": "ipython",
    "version": 3
   },
   "file_extension": ".py",
   "mimetype": "text/x-python",
   "name": "python",
   "nbconvert_exporter": "python",
   "pygments_lexer": "ipython3",
   "version": "3.9.7"
  },
  "varInspector": {
   "cols": {
    "lenName": 16,
    "lenType": 16,
    "lenVar": 40
   },
   "kernels_config": {
    "python": {
     "delete_cmd_postfix": "",
     "delete_cmd_prefix": "del ",
     "library": "var_list.py",
     "varRefreshCmd": "print(var_dic_list())"
    },
    "r": {
     "delete_cmd_postfix": ") ",
     "delete_cmd_prefix": "rm(",
     "library": "var_list.r",
     "varRefreshCmd": "cat(var_dic_list()) "
    }
   },
   "types_to_exclude": [
    "module",
    "function",
    "builtin_function_or_method",
    "instance",
    "_Feature"
   ],
   "window_display": false
  }
 },
 "nbformat": 4,
 "nbformat_minor": 5
}
