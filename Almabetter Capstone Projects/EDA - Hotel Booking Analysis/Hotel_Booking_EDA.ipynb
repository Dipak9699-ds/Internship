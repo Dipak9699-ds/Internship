{
  "nbformat": 4,
  "nbformat_minor": 0,
  "metadata": {
    "colab": {
      "private_outputs": true,
      "provenance": []
    },
    "kernelspec": {
      "name": "python3",
      "display_name": "Python 3"
    },
    "language_info": {
      "name": "python"
    }
  },
  "cells": [
    {
      "cell_type": "markdown",
      "source": [
        "# **Project Name**    - Hotel Booking Analysis\n",
        "\n"
      ],
      "metadata": {
        "id": "vncDsAP0Gaoa"
      }
    },
    {
      "cell_type": "markdown",
      "source": [
        "##### **Project Type**    - EDA\n",
        "##### **Contribution**    - Individual\n"
      ],
      "metadata": {
        "id": "beRrZCGUAJYm"
      }
    },
    {
      "cell_type": "markdown",
      "source": [
        "# **Project Summary -**"
      ],
      "metadata": {
        "id": "FJNUwmbgGyua"
      }
    },
    {
      "cell_type": "markdown",
      "source": [
        "The Hotel Booking Analysis dataset includes information about the booking frequency and length of stay, as well as customer booking preferences and behaviors. The dataset also includes information about the characteristics of the hotel such as the type of room booked, the price, and the cancellation policy. The data can be used to analyze the customer booking patterns and predict future booking trends. Additionally, the data can be used to identify customer preferences and tailor marketing and pricing strategies accordingly."
      ],
      "metadata": {
        "id": "F6v_1wHtG2nS"
      }
    },
    {
      "cell_type": "markdown",
      "source": [
        "# **GitHub Link -**"
      ],
      "metadata": {
        "id": "w6K7xa23Elo4"
      }
    },
    {
      "cell_type": "markdown",
      "source": [
        "https://github.com/Dipak9699-ds/Internship/tree/main/Almabetter%20Capstone%20Projects"
      ],
      "metadata": {
        "id": "h1o69JH3Eqqn"
      }
    },
    {
      "cell_type": "markdown",
      "source": [
        "# **Problem Statement**\n"
      ],
      "metadata": {
        "id": "yQaldy8SH6Dl"
      }
    },
    {
      "cell_type": "markdown",
      "source": [
        "**For this project we will analysing Hotel Booking data. This data set contains booking information for a city hotel and a resort hotel, and includes information such as when the booking was made, length of stay, the number of adults, children, or babies, and the number of available parking spaces.**\n",
        "\n",
        "**Hotel industry is a very voltile industry and the booking depends on above factors and many more. Our main objective is perform EDA on the given dataset and draw useful conclusions about general trends in hotel bookings and how factors governing hotel bookings interact with each other.**\n",
        "\n",
        "**The main objective behind this project is to explore and analyse data to discover important factor that govern the bookings and give insights to hotel management, which can perform various campaigns to boost the business and performance.**"
      ],
      "metadata": {
        "id": "DpeJGUA3kjGy"
      }
    },
    {
      "cell_type": "markdown",
      "source": [
        "#### **Define Your Business Objective?**"
      ],
      "metadata": {
        "id": "PH-0ReGfmX4f"
      }
    },
    {
      "cell_type": "markdown",
      "source": [
        "The business objective of the hotel booking dataset is to identify patterns in customer behavior in order to optimize hotel booking decisions and maximize revenue. This includes analyzing customer demographics, booking preferences, and other factors that influence bookings. Additionally, the data can be used to identify potential areas of improvement, such as offering targeted promotions or discounts to certain customer segments or providing better customer service."
      ],
      "metadata": {
        "id": "PhDvGCAqmjP1"
      }
    },
    {
      "cell_type": "markdown",
      "source": [
        "# **General Guidelines** : -  "
      ],
      "metadata": {
        "id": "mDgbUHAGgjLW"
      }
    },
    {
      "cell_type": "markdown",
      "source": [
        "1.   Well-structured, formatted, and commented code is required. \n",
        "2.   Exception Handling, Production Grade Code & Deployment Ready Code will be a plus. Those students will be awarded some additional credits. \n",
        "     \n",
        "     The additional credits will have advantages over other students during Star Student selection.\n",
        "       \n",
        "             [ Note: - Deployment Ready Code is defined as, the whole .ipynb notebook should be executable in one go\n",
        "                       without a single error logged. ]\n",
        "\n",
        "3.   Each and every logic should have proper comments.\n",
        "4. You may add as many number of charts you want. Make Sure for each and every chart the following format should be answered.\n",
        "        \n",
        "\n",
        "```\n",
        "# Chart visualization code\n",
        "```\n",
        "            \n",
        "\n",
        "*   Why did you pick the specific chart?\n",
        "*   What is/are the insight(s) found from the chart?\n",
        "* Will the gained insights help creating a positive business impact? \n",
        "Are there any insights that lead to negative growth? Justify with specific reason.\n",
        "\n",
        "5. You have to create at least 20 logical & meaningful charts having important insights.\n",
        "\n",
        "\n",
        "[ Hints : - Do the Vizualization in  a structured way while following \"UBM\" Rule. \n",
        "\n",
        "U - Univariate Analysis,\n",
        "\n",
        "B - Bivariate Analysis (Numerical - Categorical, Numerical - Numerical, Categorical - Categorical)\n",
        "\n",
        "M - Multivariate Analysis\n",
        " ]\n",
        "\n",
        "\n",
        "\n"
      ],
      "metadata": {
        "id": "ZrxVaUj-hHfC"
      }
    },
    {
      "cell_type": "markdown",
      "source": [
        "# ***Let's Begin !***"
      ],
      "metadata": {
        "id": "O_i_v8NEhb9l"
      }
    },
    {
      "cell_type": "markdown",
      "source": [
        "## ***1. Know Your Data***"
      ],
      "metadata": {
        "id": "HhfV-JJviCcP"
      }
    },
    {
      "cell_type": "markdown",
      "source": [
        "### Import Libraries"
      ],
      "metadata": {
        "id": "Y3lxredqlCYt"
      }
    },
    {
      "cell_type": "code",
      "source": [
        "# Import Libraries\n",
        "import pandas as pd\n",
        "import numpy as np\n",
        "import matplotlib\n",
        "import matplotlib.pyplot as plt\n",
        "import seaborn as sns\n",
        "import warnings\n",
        "warnings.filterwarnings('ignore')\n",
        "%matplotlib inline"
      ],
      "metadata": {
        "id": "M8Vqi-pPk-HR"
      },
      "execution_count": null,
      "outputs": []
    },
    {
      "cell_type": "markdown",
      "source": [
        "### Dataset Loading"
      ],
      "metadata": {
        "id": "3RnN4peoiCZX"
      }
    },
    {
      "cell_type": "code",
      "source": [
        "# Mounting Drive\n",
        "from google.colab import drive\n",
        "drive.mount('/content/drive')"
      ],
      "metadata": {
        "id": "4CkvbW_SlZ_R"
      },
      "execution_count": null,
      "outputs": []
    },
    {
      "cell_type": "code",
      "source": [
        "# Load Dataset\n",
        "hotel_df = pd.read_csv(r'/content/drive/MyDrive/AlmaBetter Capstone Projects/Datasets/Hotel Bookings.csv')"
      ],
      "metadata": {
        "id": "9cZ43Yv9tJBK"
      },
      "execution_count": null,
      "outputs": []
    },
    {
      "cell_type": "markdown",
      "source": [
        "### Dataset First View"
      ],
      "metadata": {
        "id": "x71ZqKXriCWQ"
      }
    },
    {
      "cell_type": "code",
      "source": [
        "# Dataset First Look\n",
        "hotel_df.head()"
      ],
      "metadata": {
        "id": "LWNFOSvLl09H"
      },
      "execution_count": null,
      "outputs": []
    },
    {
      "cell_type": "markdown",
      "source": [
        "### Dataset Rows & Columns count"
      ],
      "metadata": {
        "id": "7hBIi_osiCS2"
      }
    },
    {
      "cell_type": "code",
      "source": [
        "# Dataset Rows & Columns count\n",
        "hotel_df.shape"
      ],
      "metadata": {
        "id": "Kllu7SJgmLij"
      },
      "execution_count": null,
      "outputs": []
    },
    {
      "cell_type": "markdown",
      "source": [
        "### Dataset Information"
      ],
      "metadata": {
        "id": "JlHwYmJAmNHm"
      }
    },
    {
      "cell_type": "code",
      "source": [
        "# Dataset Info\n",
        "hotel_df.info()"
      ],
      "metadata": {
        "id": "e9hRXRi6meOf"
      },
      "execution_count": null,
      "outputs": []
    },
    {
      "cell_type": "markdown",
      "source": [
        "#### Duplicate Values"
      ],
      "metadata": {
        "id": "35m5QtbWiB9F"
      }
    },
    {
      "cell_type": "code",
      "source": [
        "# Dataset Duplicate or Non Duplicate Value Count\n",
        "hotel_df.duplicated().value_counts()"
      ],
      "metadata": {
        "id": "m1NphRjf4VLG"
      },
      "execution_count": null,
      "outputs": []
    },
    {
      "cell_type": "code",
      "source": [
        "# Dataset Duplicate Value Count\n",
        "len(hotel_df[hotel_df.duplicated()])"
      ],
      "metadata": {
        "id": "1sLdpKYkmox0"
      },
      "execution_count": null,
      "outputs": []
    },
    {
      "cell_type": "markdown",
      "source": [
        "#### Missing Values/Null Values"
      ],
      "metadata": {
        "id": "PoPl-ycgm1ru"
      }
    },
    {
      "cell_type": "code",
      "source": [
        "# Missing Values/Null Values Count\n",
        "print(hotel_df.isna().sum())"
      ],
      "metadata": {
        "id": "GgHWkxvamxVg"
      },
      "execution_count": null,
      "outputs": []
    },
    {
      "cell_type": "code",
      "source": [
        "# Visualizing the missing values\n",
        "sns.heatmap(hotel_df.isnull(), cbar=False)"
      ],
      "metadata": {
        "id": "3q5wnI3om9sJ"
      },
      "execution_count": null,
      "outputs": []
    },
    {
      "cell_type": "markdown",
      "source": [
        "### What did you know about your dataset?"
      ],
      "metadata": {
        "id": "H0kj-8xxnORC"
      }
    },
    {
      "cell_type": "markdown",
      "source": [
        "The dataset given is a dataset from Hotel industry, and we have to analysis the Hotel booking data.\n",
        "\n",
        "This dataset contains booking information such as when the booking was made, length of stay, the number of adults, children, and the number of available parking spaces.\n",
        "\n",
        "Hotel industry is a very volatile industry and the bookings depends on above factors and many more.\n",
        "\n",
        "The above dataset has 119390 rows and 32 columns. There are mising values in country, agent, and company columns and also duplicate values in the dataset."
      ],
      "metadata": {
        "id": "gfoNAAC-nUe_"
      }
    },
    {
      "cell_type": "markdown",
      "source": [
        "## ***2. Understanding Your Variables***"
      ],
      "metadata": {
        "id": "nA9Y7ga8ng1Z"
      }
    },
    {
      "cell_type": "code",
      "source": [
        "# Dataset Columns\n",
        "hotel_df.columns"
      ],
      "metadata": {
        "id": "j7xfkqrt5Ag5"
      },
      "execution_count": null,
      "outputs": []
    },
    {
      "cell_type": "code",
      "source": [
        "# Dataset Describe\n",
        "hotel_df.describe(include='all').style.background_gradient()"
      ],
      "metadata": {
        "id": "DnOaZdaE5Q5t"
      },
      "execution_count": null,
      "outputs": []
    },
    {
      "cell_type": "markdown",
      "source": [
        "######We see that there are 32 columns in the dataframe and some columns like 'children', 'company', 'country' and 'agent' have null values."
      ],
      "metadata": {
        "id": "kHXkZ0FbAgAH"
      }
    },
    {
      "cell_type": "markdown",
      "source": [
        "### Variables Description "
      ],
      "metadata": {
        "id": "PBTbrJXOngz2"
      }
    },
    {
      "cell_type": "markdown",
      "source": [
        "- **hotel**: Name of hotel (City or Resort)\n",
        "- **is_canceled**: Whether the booking is canceled or not (0 for no canceled and 1 for canceled)\n",
        "- **lead_time**: time (in days) between booking transaction and actual arrival.\n",
        "- **arrival_date_year**: Year of arrival date.\n",
        "- **arrival_date_month**: Month of arrival date.\n",
        "- **arrival_date_week_number**: Week number of arrival date.\n",
        "- **arrival_date_day_of_month**: Day of month of arrival date.\n",
        "- **stays_in_weekend_nights**: No. of weekend nights spent in a hotel\n",
        "- **stays_in_week_nights**: No. of weeknights spent in a hotel\n",
        "- **adults**: No. of adults in single booking record.\n",
        "- **children**: No. of children in single booking record.\n",
        "- **babies**: No. of babies in single booking record. \n",
        "- **meal**: Type of meal chosen.\n",
        "- **country**: Country of origin of customers (as mentioned by them)\n",
        "- **market_segment**: What segment via booking was made and for what purpose.\n",
        "- **distribution_channel**: Via which medium booking was made.\n",
        "- **is_repeated_guest**: Whether the customer has made any booking before(0 for No and 1 for Yes)\n",
        "- **previous_cancellations**: No. of previous bookings cancelled by the customer prior to the current booking.\n",
        "- **previous_bookings_not_canceled**: No. of previous bookings non-cancelled by the customer prior to the current booking.\n",
        "- **reserved_room_type**: Room type reserved by a customer.\n",
        "- **assigned_room_type**: Room type assigned to the customer.\n",
        "- **booking_changes**: No. of booking changes done by customers.\n",
        "- **deposit_type**: Type of deposit at the time of making a booking (No deposit/ Refundable/ No refund)\n",
        "- **agent**: Id of the travel agent that made booking.\n",
        "- **company**: Id of the company that made a booking.\n",
        "- **days_in_waiting_list**: No. of days the booking was in the waiting list before it was confirmed to the customer.\n",
        "- **customer_type**: Type of customer(Transient, Group, etc.)\n",
        "- **adr**: Average Daily rate as defined by dividing the sum of all loading transaction by the total number of staying nights.\n",
        "- **required_car_parking_spaces**: No. of car parking spaces required by the customer.\n",
        "- **total_of_special_requests**: total no. of special request made by customer.\n",
        "- **reservation_status**: Whether a customer has checked out or canceled, or not showed.\n",
        "- **reservation_status_date**: Date of making reservation status."
      ],
      "metadata": {
        "id": "aJV4KIxSnxay"
      }
    },
    {
      "cell_type": "markdown",
      "source": [
        "### Check Unique Values for each variable."
      ],
      "metadata": {
        "id": "u3PMJOP6ngxN"
      }
    },
    {
      "cell_type": "code",
      "source": [
        "# Check Unique Values for each variable.\n",
        "for column in hotel_df.columns:\n",
        "  print(str(column) + ' : ' + str(hotel_df[column].unique()))\n",
        "  print('____________________________________________')"
      ],
      "metadata": {
        "id": "zms12Yq5n-jE"
      },
      "execution_count": null,
      "outputs": []
    },
    {
      "cell_type": "code",
      "source": [
        "# Check Unique Values for each variable.\n",
        "for i in hotel_df.columns.tolist():\n",
        "  print(\"No. of unique values in \",i,\"is\",hotel_df[i].nunique(),\".\")"
      ],
      "metadata": {
        "id": "yKIrd_9N5Y2E"
      },
      "execution_count": null,
      "outputs": []
    },
    {
      "cell_type": "markdown",
      "source": [
        "## 3. ***Data Wrangling***"
      ],
      "metadata": {
        "id": "dauF4eBmngu3"
      }
    },
    {
      "cell_type": "markdown",
      "source": [
        "### Data Wrangling Code"
      ],
      "metadata": {
        "id": "bKJF3rekwFvQ"
      }
    },
    {
      "cell_type": "code",
      "source": [
        "# Write your code to make your dataset analysis ready.\n",
        "# Create a copy of the current dataset and assigning to df\n",
        "hotel_df1 = hotel_df.copy()"
      ],
      "metadata": {
        "id": "wk-9a2fpoLcV"
      },
      "execution_count": null,
      "outputs": []
    },
    {
      "cell_type": "markdown",
      "source": [
        "##Cleaning data\n",
        "Cleaning data is crucial step before EDA as it will remove the ambigous data that can affect the outcome of EDA.\n",
        "\n",
        "While cleaning data we will perform following steps: \\\n",
        "\n",
        "*   Remove duplicate rows.\n",
        "*   Handling missing values.\n",
        "\n",
        "*   Convert columns to appropriate datatypes.\n",
        "*   Adding impoertant columns.\n",
        "\n",
        "\n"
      ],
      "metadata": {
        "id": "NxJTyeeWwgHU"
      }
    },
    {
      "cell_type": "markdown",
      "source": [
        "##Step 1: Removing duplicate rows if any"
      ],
      "metadata": {
        "id": "sTABsMZyxU1P"
      }
    },
    {
      "cell_type": "code",
      "source": [
        "# Show no. of rows of duplicate rows\n",
        "hotel_df1[hotel_df1.duplicated()].shape"
      ],
      "metadata": {
        "id": "VpIsdJv9xizp"
      },
      "execution_count": null,
      "outputs": []
    },
    {
      "cell_type": "code",
      "source": [
        "# Dropping duplicate values\n",
        "hotel_df1.drop_duplicates(inplace = True)"
      ],
      "metadata": {
        "id": "_7k04V8Jx2J7"
      },
      "execution_count": null,
      "outputs": []
    },
    {
      "cell_type": "code",
      "source": [
        "# Show no. of rows after remove duplicate rows\n",
        "hotel_df1.shape"
      ],
      "metadata": {
        "id": "K4fBgc_xx27U"
      },
      "execution_count": null,
      "outputs": []
    },
    {
      "cell_type": "markdown",
      "source": [
        "##Step2: Handling missing values."
      ],
      "metadata": {
        "id": "RufvcEnmyPrG"
      }
    },
    {
      "cell_type": "code",
      "source": [
        "# Check columns having missing values.\n",
        "hotel_df1.isnull().sum().sort_values(ascending = False)"
      ],
      "metadata": {
        "id": "Hq2iec3WyRqj"
      },
      "execution_count": null,
      "outputs": []
    },
    {
      "cell_type": "code",
      "source": [
        "# Show only missing value columns.\n",
        "hotel_df1.isnull().sum().sort_values(ascending = False)[:4]"
      ],
      "metadata": {
        "id": "WNRkPOrLySzW"
      },
      "execution_count": null,
      "outputs": []
    },
    {
      "cell_type": "markdown",
      "source": [
        "Since, company and agent columns have comany number and agent numbers as data. There may be some cases when customer didnt booked hotel via any agent or via any company. So in that case values can be null under these columns.\n",
        "We will replace null values by 0 in these columns"
      ],
      "metadata": {
        "id": "lQoAiilM0hCC"
      }
    },
    {
      "cell_type": "code",
      "source": [
        "hotel_df1[['company','agent']] = hotel_df1[['company','agent']].fillna(0)"
      ],
      "metadata": {
        "id": "b6LvLByJzigG"
      },
      "execution_count": null,
      "outputs": []
    },
    {
      "cell_type": "code",
      "source": [
        "hotel_df1['children'].unique()"
      ],
      "metadata": {
        "id": "L9ZIXaCb0jmT"
      },
      "execution_count": null,
      "outputs": []
    },
    {
      "cell_type": "markdown",
      "source": [
        "This column 'children' has 0 as value which means 0 children were present in group of customers who made that transaction.\n",
        "So, 'nan' values are the missing values due to error of recording data.\n",
        "\n",
        "We will replace the null values under this column with mean value of children."
      ],
      "metadata": {
        "id": "JIUZvHva1FDm"
      }
    },
    {
      "cell_type": "code",
      "source": [
        "hotel_df1['children'].fillna(hotel_df1['children'].mean(), inplace = True)"
      ],
      "metadata": {
        "id": "ORm6c1N00-hw"
      },
      "execution_count": null,
      "outputs": []
    },
    {
      "cell_type": "markdown",
      "source": [
        "Next column with missing value is 'country'. This column represents the country of oriigin of customer.\n",
        "Since, this column has datatype of string. We will replace the missing value with the mode of 'country' column."
      ],
      "metadata": {
        "id": "SL54m-8x2zY5"
      }
    },
    {
      "cell_type": "code",
      "source": [
        "hotel_df1['country'].fillna('others', inplace = True)"
      ],
      "metadata": {
        "id": "3sUgQzyL1Mv6"
      },
      "execution_count": null,
      "outputs": []
    },
    {
      "cell_type": "code",
      "source": [
        "# Checking if all null values are removed.\n",
        "hotel_df1.isnull().sum().sort_values(ascending = False)[:4]"
      ],
      "metadata": {
        "id": "VSsVvCAe3a-i"
      },
      "execution_count": null,
      "outputs": []
    },
    {
      "cell_type": "markdown",
      "source": [
        "There are some rows with total number of adults, children or babies equal to zero. So we will remove such rows."
      ],
      "metadata": {
        "id": "8k-r1Shb4G2_"
      }
    },
    {
      "cell_type": "code",
      "source": [
        "hotel_df1[hotel_df1['adults'] + hotel_df1['babies'] + hotel_df1['children'] == 0].shape"
      ],
      "metadata": {
        "id": "efnpl-xp4Ina"
      },
      "execution_count": null,
      "outputs": []
    },
    {
      "cell_type": "code",
      "source": [
        "hotel_df1.drop(hotel_df1[hotel_df1['adults'] + hotel_df1['babies'] + hotel_df1['children'] == 0].index, inplace = True)"
      ],
      "metadata": {
        "id": "YUq4-lRO4Iz1"
      },
      "execution_count": null,
      "outputs": []
    },
    {
      "cell_type": "markdown",
      "source": [
        "##Step 3: Converting columns to appropriate datatypes."
      ],
      "metadata": {
        "id": "EbuxBjcT44Rl"
      }
    },
    {
      "cell_type": "code",
      "source": [
        "# Converting datatype of columns 'children', 'company' and 'agent' from float to int.\n",
        "hotel_df1[['children', 'company', 'agent']] = hotel_df1[['children', 'company', 'agent']].astype('int64')"
      ],
      "metadata": {
        "id": "hc01XqQG463U"
      },
      "execution_count": null,
      "outputs": []
    },
    {
      "cell_type": "code",
      "source": [
        "# Changing datatype of column 'reservation_status_date' to data_type.\n",
        "hotel_df1['reservation_status_date'] = pd.to_datetime(hotel_df1['reservation_status_date'], format = '%Y-%m-%d')"
      ],
      "metadata": {
        "id": "4Jux3vvQ46-r"
      },
      "execution_count": null,
      "outputs": []
    },
    {
      "cell_type": "markdown",
      "source": [
        "##Step 4: Adding important columns."
      ],
      "metadata": {
        "id": "Y82OGGT35Zfb"
      }
    },
    {
      "cell_type": "code",
      "source": [
        "# Adding total staying days in hotels\n",
        "hotel_df1['total_stay'] = hotel_df1['stays_in_weekend_nights'] + hotel_df1['stays_in_week_nights']\n",
        "\n",
        "# Adding total people num as column, i.e. total people num = num of adults + children + babies\n",
        "hotel_df1['total_people'] = hotel_df1['adults'] + hotel_df1['children'] + hotel_df1['babies']"
      ],
      "metadata": {
        "id": "QIOEMaRv5cfS"
      },
      "execution_count": null,
      "outputs": []
    },
    {
      "cell_type": "markdown",
      "source": [
        "We are adding this column so that we can analyse the stay length at hotels."
      ],
      "metadata": {
        "id": "HgFzYxd855Fb"
      }
    },
    {
      "cell_type": "code",
      "source": [
        "hotel_df1.shape"
      ],
      "metadata": {
        "id": "r0-oJFBW56Lo"
      },
      "execution_count": null,
      "outputs": []
    },
    {
      "cell_type": "markdown",
      "source": [
        "### What all manipulations have you done and insights you found?"
      ],
      "metadata": {
        "id": "MSa1f5Uengrz"
      }
    },
    {
      "cell_type": "markdown",
      "source": [
        "Cleaning data is crucial step before EDA as it will remove the ambigous data that can affect the outcome of EDA. So First I have check duplicate rows and after that remove duplicate rows from dataset. \n",
        "\n",
        "After that I have check null values and replace the null values by 0 and mean as per perticular data. \n",
        "\n",
        "After that I have convert datatypes of some column like children, company and agent columns float datatype into int and convert reservation_status_date column object datatype into datetime. \n",
        "\n",
        "In the last I have adding two extra columns like total_stay and total_people for better visual understanding. In total_stay column I have merge 2 columns stays_in_weekend_nights and stays_in_week_nights and in total_people I have merge 3 columns adults, childrens and babaies. "
      ],
      "metadata": {
        "id": "LbyXE7I1olp8"
      }
    },
    {
      "cell_type": "markdown",
      "source": [
        "## ***4. Data Vizualization, Storytelling & Experimenting with charts : Understand the relationships between variables***"
      ],
      "metadata": {
        "id": "GF8Ens_Soomf"
      }
    },
    {
      "cell_type": "markdown",
      "source": [
        "#EDA (Exploratory Data Analysis)\n",
        "Univariate Analysis:-"
      ],
      "metadata": {
        "id": "TI9An3IuU5yn"
      }
    },
    {
      "cell_type": "markdown",
      "source": [
        "#### Chart - 1"
      ],
      "metadata": {
        "id": "0wOQAZs5pc--"
      }
    },
    {
      "cell_type": "markdown",
      "source": [
        "Q1) Which hotel is most preffered?"
      ],
      "metadata": {
        "id": "kDCkc41nR9Z5"
      }
    },
    {
      "cell_type": "code",
      "source": [
        "# Chart - 1 Visualization code\n",
        "# Visualizsing by pie chart.\n",
        "hotel_df1['hotel'].value_counts().plot.pie(explode = [0.05, 0.05], autopct = '%1.1f%%', shadow=True, figsize = (10,8), fontsize=20)   \n",
        "plt.title('Pie Chart for Most Preffered  Hotel')"
      ],
      "metadata": {
        "id": "7v_ESjsspbW7"
      },
      "execution_count": null,
      "outputs": []
    },
    {
      "cell_type": "markdown",
      "source": [
        "##### 1. Why did you pick the specific chart?"
      ],
      "metadata": {
        "id": "K5QZ13OEpz2H"
      }
    },
    {
      "cell_type": "markdown",
      "source": [
        "A pie chart expresses a part-to-whole relationship in your data. It's easy to explain the percentage comparison through area covered in a circle with different colors. Where differenet percentage comparison comes into action pie chart is used frequently. So, I used Pie chart and which helped me to get the percentage comparision of the feature variable."
      ],
      "metadata": {
        "id": "XESiWehPqBRc"
      }
    },
    {
      "cell_type": "markdown",
      "source": [
        "##### 2. What is/are the insight(s) found from the chart?"
      ],
      "metadata": {
        "id": "lQ7QKXXCp7Bj"
      }
    },
    {
      "cell_type": "markdown",
      "source": [
        "City hotels is the most preferred hotel type by the guests. We can say that City hotel is the busiest hotel."
      ],
      "metadata": {
        "id": "C_j1G7yiqdRP"
      }
    },
    {
      "cell_type": "markdown",
      "source": [
        "##### 3. Will the gained insights help creating a positive business impact? \n",
        "Are there any insights that lead to negative growth? Justify with specific reason."
      ],
      "metadata": {
        "id": "448CDAPjqfQr"
      }
    },
    {
      "cell_type": "markdown",
      "source": [
        "Yes, the gained insights can help create a positive business impact on city or resort hotel bookings, as they can be used to identify customer preferences and trends in the hotel industry. For example, these insights could help hotels identify peak booking times and optimize their marketing efforts, or they could be used to offer personalized discounts and packages to target customers.\n",
        "\n",
        "No, there are no insights that lead to negative growth. The insights gained from data analysis can help businesses make informed decisions and provide better customer experiences. As long as the data is used responsibly, the insights should only have a positive impact on the business."
      ],
      "metadata": {
        "id": "3cspy4FjqxJW"
      }
    },
    {
      "cell_type": "markdown",
      "source": [
        "#### Chart - 2"
      ],
      "metadata": {
        "id": "KSlN3yHqYklG"
      }
    },
    {
      "cell_type": "markdown",
      "source": [
        "Q2) Which Agent made the most bookings?"
      ],
      "metadata": {
        "id": "qmZoeLZaSJDv"
      }
    },
    {
      "cell_type": "code",
      "source": [
        "# Return highest bookings made by agents\n",
        "highest_bookings = hotel_df1.groupby(['agent'])['agent'].agg({'count'}).reset_index().rename(columns = {'count': \"Most_Bookings\" }).sort_values(by = 'Most_Bookings', ascending = False)\n",
        "\n",
        "# As agent 0 was NAN value and we replaced it with 0 and indicates no bookings.so droping.\n",
        "highest_bookings.drop(highest_bookings[highest_bookings['agent'] == 0].index, inplace=True) \n",
        "\n",
        "# Taking top 10 bookings made by agent\n",
        "top_ten_highest_bookings = highest_bookings[:10]\n",
        "\n",
        "top_ten_highest_bookings"
      ],
      "metadata": {
        "id": "CeB0T93KVz4V"
      },
      "execution_count": null,
      "outputs": []
    },
    {
      "cell_type": "code",
      "source": [
        "# Chart - 2 Visualization code\n",
        "# Visualizsing by bar chart.\n",
        "plt.figure(figsize = (18,8))\n",
        "sns.barplot(x = top_ten_highest_bookings['agent'], y = top_ten_highest_bookings['Most_Bookings'], order = top_ten_highest_bookings['agent'], palette = 'rocket')\n",
        "plt.xlabel('Agent No')\n",
        "plt.ylabel('Number of Bookings')\n",
        "plt.title(\"Most Bookings Made by the agent\")"
      ],
      "metadata": {
        "id": "R4YgtaqtYklH"
      },
      "execution_count": null,
      "outputs": []
    },
    {
      "cell_type": "markdown",
      "source": [
        "##### 1. Why did you pick the specific chart?"
      ],
      "metadata": {
        "id": "t6dVpIINYklI"
      }
    },
    {
      "cell_type": "markdown",
      "source": [
        "Bar charts show the frequency counts of values for the different levels of a categorical or nominal variable. Sometimes, bar charts show other statistics, such as percentages.\n",
        "\n",
        "To show the count of most bookings made by the agent that's why I have used Bar Chart."
      ],
      "metadata": {
        "id": "5aaW0BYyYklI"
      }
    },
    {
      "cell_type": "markdown",
      "source": [
        "##### 2. What is/are the insight(s) found from the chart?"
      ],
      "metadata": {
        "id": "ijmpgYnKYklI"
      }
    },
    {
      "cell_type": "markdown",
      "source": [
        "Agent ID no: 9 made most of the hotel bookings."
      ],
      "metadata": {
        "id": "PSx9atu2YklI"
      }
    },
    {
      "cell_type": "markdown",
      "source": [
        "##### 3. Will the gained insights help creating a positive business impact? \n",
        "Are there any insights that lead to negative growth? Justify with specific reason."
      ],
      "metadata": {
        "id": "-JiQyfWJYklI"
      }
    },
    {
      "cell_type": "markdown",
      "source": [
        "Yes, the gained insights can help create a positive business impact on most hotel bookings made by the agent. For instance, the insights might reveal certain booking patterns or preferences of customers that the agent can capitalize on, such as offering discounts or special packages to certain customers. Additionally, the insights could also provide the agent with valuable information about the most popular hotels in a given area, allowing them to make better-informed decisions when they are booking hotels.\n",
        "\n",
        "However, there could also be insights that lead to negative growth. For example, if the insights reveal that customers are consistently booking the same hotels or not taking advantage of discounts or packages being offered, this could lead to a decrease in revenue for the agent. Additionally, if the insights reveal only a limited number of customers that are booking hotels, this could also lead to a decrease in revenue."
      ],
      "metadata": {
        "id": "BcBbebzrYklV"
      }
    },
    {
      "cell_type": "markdown",
      "source": [
        "#### Chart - 3"
      ],
      "metadata": {
        "id": "EM7whBJCYoAo"
      }
    },
    {
      "cell_type": "markdown",
      "source": [
        "3) What is the Percentage of repeated guests?"
      ],
      "metadata": {
        "id": "PuUTMP0IaaRi"
      }
    },
    {
      "cell_type": "code",
      "source": [
        "# Chart - 3 Visualization code\n",
        "# Visualizsing by pie chart.\n",
        "hotel_df1['is_repeated_guest'].value_counts().plot.pie(explode = [0.05, 0.05], autopct = '%1.1f%%', shadow = True, figsize = (10,8), fontsize=20)\n",
        "plt.title(\" Percentgae (%) of repeated guests\")"
      ],
      "metadata": {
        "id": "irlUoxc8YrdO"
      },
      "execution_count": null,
      "outputs": []
    },
    {
      "cell_type": "markdown",
      "source": [
        "##### 1. Why did you pick the specific chart?"
      ],
      "metadata": {
        "id": "iky9q4vBYrdO"
      }
    },
    {
      "cell_type": "markdown",
      "source": [
        "A pie chart expresses a part-to-whole relationship in your data. It's easy to explain the percentage comparison through area covered in a circle with different colors. Where differenet percentage comparison comes into action pie chart is used frequently. So, I used Pie chart and which helped me to get the percentage comparision of the feature or target variable."
      ],
      "metadata": {
        "id": "aJRCwT6DYrdO"
      }
    },
    {
      "cell_type": "markdown",
      "source": [
        "##### 2. What is/are the insight(s) found from the chart?"
      ],
      "metadata": {
        "id": "F6T5p64dYrdO"
      }
    },
    {
      "cell_type": "markdown",
      "source": [
        "Only 3.9% people were revisited the hotels. Rest 96.1% were new guests. Thus retention rate is low. In order to retained the guests management should take feedbacks from guests and try to imporve the services."
      ],
      "metadata": {
        "id": "Xx8WAJvtYrdO"
      }
    },
    {
      "cell_type": "markdown",
      "source": [
        "##### 3. Will the gained insights help creating a positive business impact? \n",
        "Are there any insights that lead to negative growth? Justify with specific reason."
      ],
      "metadata": {
        "id": "y-Ehk30pYrdP"
      }
    },
    {
      "cell_type": "markdown",
      "source": [
        "Yes, the gained insights can help create a positive business impact on repeated guests for hotel bookings. For example, the insights can be used to identify patterns in booking behavior, customer preferences, and loyalty. This can then be used to tailor promotions, discounts, and offers to entice returning customers and improve customer loyalty. Additionally, the insights can be used to develop customer service strategies to ensure a positive customer experience and help retain customers.\n",
        "\n",
        "No, there are no insights that lead to negative growth. The insights gained from analyzing customer data can only be used to create a positive business impact on hotel bookings. The data can help to identify customer preferences and develop strategies to better serve them, leading to improved customer loyalty and increased revenue."
      ],
      "metadata": {
        "id": "jLNxxz7MYrdP"
      }
    },
    {
      "cell_type": "markdown",
      "source": [
        "#### Chart - 4"
      ],
      "metadata": {
        "id": "4Of9eVA-YrdM"
      }
    },
    {
      "cell_type": "markdown",
      "source": [
        "4) What is the pecentage of cancellation?"
      ],
      "metadata": {
        "id": "88MDoBkxYixH"
      }
    },
    {
      "cell_type": "code",
      "source": [
        "# Chart - 4 Visualization code\n",
        "# Visualizsing by pie chart.\n",
        "hotel_df1['is_canceled'].value_counts().plot.pie(explode = [0.05, 0.05], autopct = '%1.1f%%', shadow = True, figsize = (10,8), fontsize = 20)\n",
        "plt.title(\"Cancellation and non Cancellation\")"
      ],
      "metadata": {
        "id": "t6GMdE67YoAp"
      },
      "execution_count": null,
      "outputs": []
    },
    {
      "cell_type": "markdown",
      "source": [
        "##### 1. Why did you pick the specific chart?"
      ],
      "metadata": {
        "id": "fge-S5ZAYoAp"
      }
    },
    {
      "cell_type": "markdown",
      "source": [
        "A pie chart expresses a part-to-whole relationship in your data. It's easy to explain the percentage comparison through area covered in a circle with different colors. Where differenet percentage comparison comes into action pie chart is used frequently. So, I used Pie chart and which helped me to get the percentage comparision of the feature or target variable."
      ],
      "metadata": {
        "id": "5dBItgRVYoAp"
      }
    },
    {
      "cell_type": "markdown",
      "source": [
        "##### 2. What is/are the insight(s) found from the chart?"
      ],
      "metadata": {
        "id": "85gYPyotYoAp"
      }
    },
    {
      "cell_type": "markdown",
      "source": [
        "0= not cancled\\\n",
        "1= canceled\\\n",
        "27.5% bookings were got cancelled out of all the bookings."
      ],
      "metadata": {
        "id": "4jstXR6OYoAp"
      }
    },
    {
      "cell_type": "markdown",
      "source": [
        "##### 3. Will the gained insights help creating a positive business impact? \n",
        "Are there any insights that lead to negative growth? Justify with specific reason."
      ],
      "metadata": {
        "id": "RoGjAbkUYoAp"
      }
    },
    {
      "cell_type": "markdown",
      "source": [
        "The gained insights can definitely help create a positive business impact on the cancellation of hotel bookings. For example, the insights might reveal that certain customer segments are more likely to cancel their bookings and that certain booking policies are more likely to result in cancellations. This information can then be used to develop more effective booking policies and to target marketing campaigns to the customer segments who are more likely to cancel.\n",
        "\n",
        "However, it is also possible that the insights could lead to negative growth. For example, if the insights suggest that customers are cancelling bookings because of higher prices, then the hotel might have to lower its prices to reduce cancellations, which could lead to lower profits."
      ],
      "metadata": {
        "id": "zfJ8IqMcYoAp"
      }
    },
    {
      "cell_type": "markdown",
      "source": [
        "#### Chart - 5"
      ],
      "metadata": {
        "id": "OH-pJp9IphqM"
      }
    },
    {
      "cell_type": "markdown",
      "source": [
        "5) What is the percentage distribution of required_car_parking_spaces?"
      ],
      "metadata": {
        "id": "mIsr2I1rCns0"
      }
    },
    {
      "cell_type": "code",
      "source": [
        "# Chart - 5 Visualization code\n",
        "# Visualizsing by pie chart.\n",
        "hotel_df1['required_car_parking_spaces'].value_counts().plot.pie(explode = [0.05] * 5, autopct = '%1.1f%%', shadow = False, figsize = (12,8), fontsize = 15, labels = None)\n",
        "\n",
        "labels = hotel_df1['required_car_parking_spaces'].value_counts().index\n",
        "plt.title('% Distribution of required car parking spaces')\n",
        "plt.legend(bbox_to_anchor=(0.85, 1), loc='upper left', labels=labels)"
      ],
      "metadata": {
        "id": "kuRf4wtuphqN"
      },
      "execution_count": null,
      "outputs": []
    },
    {
      "cell_type": "markdown",
      "source": [
        "##### 1. Why did you pick the specific chart?"
      ],
      "metadata": {
        "id": "bbFf2-_FphqN"
      }
    },
    {
      "cell_type": "markdown",
      "source": [
        "A pie chart expresses a part-to-whole relationship in your data. It's easy to explain the percentage comparison through area covered in a circle with different colors. Where differenet percentage comparison comes into action pie chart is used frequently. So, I used Pie chart and which helped me to get the percentage comparision of the feature or target variable."
      ],
      "metadata": {
        "id": "loh7H2nzphqN"
      }
    },
    {
      "cell_type": "markdown",
      "source": [
        "##### 2. What is/are the insight(s) found from the chart?"
      ],
      "metadata": {
        "id": "_ouA3fa0phqN"
      }
    },
    {
      "cell_type": "markdown",
      "source": [
        "91.6% guests did not required the parking space. only 8.3 % guests required only 1 parking space."
      ],
      "metadata": {
        "id": "VECbqPI7phqN"
      }
    },
    {
      "cell_type": "markdown",
      "source": [
        "##### 3. Will the gained insights help creating a positive business impact? \n",
        "Are there any insights that lead to negative growth? Justify with specific reason."
      ],
      "metadata": {
        "id": "Seke61FWphqN"
      }
    },
    {
      "cell_type": "markdown",
      "source": [
        "Yes, the gained insights can help create a positive business impact on required car parking spaces for hotel bookings. Insights such as the number of cars associated with each booking, the type of cars associated with each booking, and the time length of car parking can help the hotel to better plan for the car parking spaces needed for each booking. This can help the hotel to better project their car parking needs and make sure they always have enough spaces to accommodate the number of bookings they receive.\n",
        "\n",
        "No, there are no insights that lead to negative growth. All of the insights taken from the data can help the hotel to better plan for their car parking needs and make sure they always have enough spaces to accommodate their bookings."
      ],
      "metadata": {
        "id": "DW4_bGpfphqN"
      }
    },
    {
      "cell_type": "markdown",
      "source": [
        "#### Chart - 6"
      ],
      "metadata": {
        "id": "bamQiAODYuh1"
      }
    },
    {
      "cell_type": "markdown",
      "source": [
        "6) What is the percentage distribution of \"Customer Type\"?"
      ],
      "metadata": {
        "id": "y8TGQtZqeNGS"
      }
    },
    {
      "cell_type": "code",
      "source": [
        "# Chart - 6 Visualization code\n",
        "# Visualizsing by pie chart.\n",
        "hotel_df1['customer_type'].value_counts().plot.pie(explode = [0.05] * 4, shadow = True, autopct = '%1.1f%%', figsize = (12,8), fontsize = 15, labels = None)\n",
        "\n",
        "labels = hotel_df1['customer_type'].value_counts().index.tolist()\n",
        "plt.title('% Distribution of Customer Type')\n",
        "plt.legend(bbox_to_anchor = (0.85, 1), loc = 'upper left', labels = labels)"
      ],
      "metadata": {
        "id": "TIJwrbroYuh3"
      },
      "execution_count": null,
      "outputs": []
    },
    {
      "cell_type": "markdown",
      "source": [
        "##### 1. Why did you pick the specific chart?"
      ],
      "metadata": {
        "id": "QHF8YVU7Yuh3"
      }
    },
    {
      "cell_type": "markdown",
      "source": [
        "A pie chart expresses a part-to-whole relationship in your data. It's easy to explain the percentage comparison through area covered in a circle with different colors. Where differenet percentage comparison comes into action pie chart is used frequently. So, I used Pie chart and which helped me to get the percentage comparision of the feature or target variable."
      ],
      "metadata": {
        "id": "dcxuIMRPYuh3"
      }
    },
    {
      "cell_type": "markdown",
      "source": [
        "##### 2. What is/are the insight(s) found from the chart?"
      ],
      "metadata": {
        "id": "GwzvFGzlYuh3"
      }
    },
    {
      "cell_type": "markdown",
      "source": [
        "Most of the customers/guests were Transient type(82.4%) and transient party were 13.4% and 0.6% belongs to group and remainning guests belongs to contract type.\n",
        "\n",
        "1. Contract\n",
        "\n",
        "  when the booking has an allotment or other type of contract associated to it\n",
        "\n",
        "2. Group\n",
        "\n",
        "  when the booking is associated to a group\n",
        "\n",
        "3. Transient\n",
        "\n",
        "  when the booking is not part of a group or contract, and is not associated to other transient booking\n",
        "\n",
        "4. Transient-party\n",
        "\n",
        "  when the booking is transient, but is associated to at least other transient booking\n",
        "\n",
        "Transient customer type is more which is 82.4 %. percentage of Booking associated by the Group is vey low."
      ],
      "metadata": {
        "id": "uyqkiB8YYuh3"
      }
    },
    {
      "cell_type": "markdown",
      "source": [
        "##### 3. Will the gained insights help creating a positive business impact? \n",
        "Are there any insights that lead to negative growth? Justify with specific reason."
      ],
      "metadata": {
        "id": "qYpmQ266Yuh3"
      }
    },
    {
      "cell_type": "markdown",
      "source": [
        "Yes, the gained insights can help create a positive business impact on customer type for hotel bookings. The insights can help identify popular customer types, determine which customer types are generating the most revenue, and identify which customer types are the most loyal. This information can be used to target the right types of customers and tailor the hotel’s services and marketing campaigns to best meet their needs. Additionally, the insights can help identify areas of improvement, such as areas where certain customer types are not being targeted or where customer service could be improved.\n",
        "\n",
        "However, there are also potential negative impacts from the insights. For example, if a hotel targets a certain customer type too heavily, it could lead to an oversaturation of that type of customer and lead to decreased profits. Additionally, focusing too heavily on one type of customer could lead to neglecting other customer types and could lead to a decrease in overall customer loyalty."
      ],
      "metadata": {
        "id": "_WtzZ_hCYuh4"
      }
    },
    {
      "cell_type": "markdown",
      "source": [
        "#### Chart - 7"
      ],
      "metadata": {
        "id": "PIIx-8_IphqN"
      }
    },
    {
      "cell_type": "markdown",
      "source": [
        "7) What is the percentage of booking changes made by the customer?"
      ],
      "metadata": {
        "id": "szSocD8gDvMO"
      }
    },
    {
      "cell_type": "code",
      "source": [
        "# Chart - 7 Visualization code\n",
        "# Visualizsing by bar chart.\n",
        "booking_changes_df = hotel_df1['booking_changes'].value_counts().reset_index().rename(columns = {'index':\"number_booking_changes\", 'booking_changes':'Counts'})\n",
        "\n",
        "plt.figure(figsize = (12,8))\n",
        "sns.barplot(x = booking_changes_df['number_booking_changes'], y = booking_changes_df['Counts'] * 100 / hotel_df1.shape[0], palette = 'Set2')\n",
        "plt.title(\"% of Booking change\")\n",
        "plt.xlabel('Number of booking changes')\n",
        "plt.ylabel('Percentage(%)')"
      ],
      "metadata": {
        "id": "lqAIGUfyphqO"
      },
      "execution_count": null,
      "outputs": []
    },
    {
      "cell_type": "markdown",
      "source": [
        "##### 1. Why did you pick the specific chart?"
      ],
      "metadata": {
        "id": "t27r6nlMphqO"
      }
    },
    {
      "cell_type": "markdown",
      "source": [
        "Bar charts show the frequency counts of values for the different levels of a categorical or nominal variable. Sometimes, bar charts show other statistics, such as percentages.\n",
        "\n",
        "To show the count of most bookings made by the agent that's why I have used Bar Chart."
      ],
      "metadata": {
        "id": "iv6ro40sphqO"
      }
    },
    {
      "cell_type": "markdown",
      "source": [
        "##### 2. What is/are the insight(s) found from the chart?"
      ],
      "metadata": {
        "id": "r2jJGEOYphqO"
      }
    },
    {
      "cell_type": "markdown",
      "source": [
        "Almost 82% of the bookings were not changed by guests."
      ],
      "metadata": {
        "id": "Po6ZPi4hphqO"
      }
    },
    {
      "cell_type": "markdown",
      "source": [
        "##### 3. Will the gained insights help creating a positive business impact? \n",
        "Are there any insights that lead to negative growth? Justify with specific reason."
      ],
      "metadata": {
        "id": "b0JNsNcRphqO"
      }
    },
    {
      "cell_type": "markdown",
      "source": [
        "Yes, the gained insights can help create a positive business impact on booking changes made by the customer for hotel bookings. For example, the insights can be used to better understand customer preferences and make more accurate predictions about customer behaviour, which can lead to more efficient marketing strategies and improved customer satisfaction. Additionally, the insights can be used to identify customer needs and make recommendations that will encourage customers to make more changes to their existing bookings.\n",
        "\n",
        "However, there is a possibility that the insights may lead to negative growth, particularly if the insights are misinterpreted or used in an inappropriate manner. For example, if the insights are used to create overly aggressive marketing strategies or to target customers with irrelevant or intrusive offers, this could lead to customer dissatisfaction and cause customers to avoid booking changes altogether."
      ],
      "metadata": {
        "id": "xvSq8iUTphqO"
      }
    },
    {
      "cell_type": "markdown",
      "source": [
        "#### Chart - 8"
      ],
      "metadata": {
        "id": "YJ55k-q6phqO"
      }
    },
    {
      "cell_type": "markdown",
      "source": [
        "8) Which type of food is mostly preferred by the guests?"
      ],
      "metadata": {
        "id": "DATKw7paFwl5"
      }
    },
    {
      "cell_type": "code",
      "source": [
        "# Chart - 8 Visualization code\n",
        "# Visualizsing by count plot.\n",
        "plt.figure(figsize = (18,8))\n",
        "sns.countplot(x = hotel_df1['meal'], palette = 'viridis')\n",
        "plt.xlabel('Meal Type')\n",
        "plt.ylabel('Count')\n",
        "plt.title(\"Preferred Meal Type\")"
      ],
      "metadata": {
        "id": "B2aS4O1ophqO"
      },
      "execution_count": null,
      "outputs": []
    },
    {
      "cell_type": "markdown",
      "source": [
        "##### 1. Why did you pick the specific chart?"
      ],
      "metadata": {
        "id": "gCFgpxoyphqP"
      }
    },
    {
      "cell_type": "markdown",
      "source": [
        "The countplot is used to represent the occurrence(counts) of the observation present in the categorical variable and it is used to show the counts of observations in each categorical bin using bars."
      ],
      "metadata": {
        "id": "TVxDimi2phqP"
      }
    },
    {
      "cell_type": "markdown",
      "source": [
        "##### 2. What is/are the insight(s) found from the chart?"
      ],
      "metadata": {
        "id": "OVtJsKN_phqQ"
      }
    },
    {
      "cell_type": "markdown",
      "source": [
        "Types of meal in hotels:\n",
        "\n",
        "1.   BB - (Bed and Breakfast)\n",
        "2.   HB- (Half Board)\n",
        "3.   FB- (Full Board)\n",
        "4.   SC- (Self Catering)\n",
        "\n",
        "So the most preferred meal type by the guests is BB( Bed and Breakfast).\n",
        "HB(Half Board) and SC(Self Catering) are equally preferred."
      ],
      "metadata": {
        "id": "ngGi97qjphqQ"
      }
    },
    {
      "cell_type": "markdown",
      "source": [
        "##### 3. Will the gained insights help creating a positive business impact? \n",
        "Are there any insights that lead to negative growth? Justify with specific reason."
      ],
      "metadata": {
        "id": "lssrdh5qphqQ"
      }
    },
    {
      "cell_type": "markdown",
      "source": [
        "Yes, the gained insights may help create a positive business impact on which type of food is mostly preferred by the guests for hotel bookings. With the insights gained, hotels could use the data to identify which types of food are most popular among their guests so they can adjust their menu offerings or pricing to better meet their customer needs.\n",
        "\n",
        "However, there are also potential negative impacts of the insights. For example, if the data shows that certain types of food are unpopular, the hotel may choose to discontinue those items from their menu, which could lead to a decrease in customer satisfaction. Additionally, if the data shows that certain types of food are more expensive than others, the hotel may choose to raise prices on those items, which could lead to a decrease in customer spending."
      ],
      "metadata": {
        "id": "tBpY5ekJphqQ"
      }
    },
    {
      "cell_type": "markdown",
      "source": [
        "#### Chart - 9"
      ],
      "metadata": {
        "id": "BZR9WyysphqO"
      }
    },
    {
      "cell_type": "markdown",
      "source": [
        "9) What is Percentage distribution of Deposite type?"
      ],
      "metadata": {
        "id": "czr0LiODEpY8"
      }
    },
    {
      "cell_type": "code",
      "source": [
        "# Chart - 9 Visualization code\n",
        "# Visualizsing by pie chart.\n",
        "hotel_df1['deposit_type'].value_counts().plot.pie(explode = (0.5,0.5,0.05), autopct = '%1.1f%%', shadow=False, figsize = (14,8), fontsize = 20, labels=None)\n",
        "plt.title(\"% Distribution of deposit type\")\n",
        "labels = hotel_df1['deposit_type'].value_counts().index.tolist()\n",
        "plt.legend(bbox_to_anchor = (0.85, 1), loc = 'upper left', labels = labels)"
      ],
      "metadata": {
        "id": "TdPTWpAVphqO"
      },
      "execution_count": null,
      "outputs": []
    },
    {
      "cell_type": "markdown",
      "source": [
        "##### 1. Why did you pick the specific chart?"
      ],
      "metadata": {
        "id": "jj7wYXLtphqO"
      }
    },
    {
      "cell_type": "markdown",
      "source": [
        "A pie chart expresses a part-to-whole relationship in your data. It's easy to explain the percentage comparison through area covered in a circle with different colors. Where differenet percentage comparison comes into action pie chart is used frequently. So, I used Pie chart and which helped me to get the percentage comparision of the feature or target variable."
      ],
      "metadata": {
        "id": "Ob8u6rCTphqO"
      }
    },
    {
      "cell_type": "markdown",
      "source": [
        "##### 2. What is/are the insight(s) found from the chart?"
      ],
      "metadata": {
        "id": "eZrbJ2SmphqO"
      }
    },
    {
      "cell_type": "markdown",
      "source": [
        "98.7 % of the guests prefer \"No deposit\" type of deposit."
      ],
      "metadata": {
        "id": "mZtgC_hjphqO"
      }
    },
    {
      "cell_type": "markdown",
      "source": [
        "##### 3. Will the gained insights help creating a positive business impact? \n",
        "Are there any insights that lead to negative growth? Justify with specific reason."
      ],
      "metadata": {
        "id": "rFu4xreNphqO"
      }
    },
    {
      "cell_type": "markdown",
      "source": [
        "Yes, the gained insights can help create a positive business impact on deposit type for hotel bookings. For example, insights about customer preferences for a particular type of deposit may lead to an increase in revenue as customers may be more likely to book a hotel if it offers a deposit type that they prefer. Additionally, insights about customer preferences for longer deposit periods may also lead to an increase in revenue as customers may be more likely to book a hotel for longer periods of time if it offers them a longer deposit period.\n",
        "\n",
        "However, there may also be insights that lead to negative growth. For example, insights about customer preferences for shorter deposit periods may lead to decreased revenue as customers may be more likely to book a hotel for shorter periods of time if it offers them a shorter deposit period. Additionally, insights about customer preferences for a particular type of deposit may lead to decreased revenue as customers may be less likely to book a hotel if it does not offer the type of deposit they prefer."
      ],
      "metadata": {
        "id": "ey_0qi68phqO"
      }
    },
    {
      "cell_type": "markdown",
      "source": [
        "#### Chart - 10"
      ],
      "metadata": {
        "id": "x-EpHcCOp1ci"
      }
    },
    {
      "cell_type": "markdown",
      "source": [
        "10) Which is the most preferred room type by the customers?"
      ],
      "metadata": {
        "id": "xDbmfiYDLfr6"
      }
    },
    {
      "cell_type": "code",
      "source": [
        "# Chart - 10 Visualization code\n",
        "\n",
        "# Set plotsize\n",
        "plt.figure(figsize = (18,8))\n",
        "\n",
        "# Plotting \n",
        "sns.countplot(x = hotel_df1['assigned_room_type'], order = hotel_df1['assigned_room_type'].value_counts().index, palette = 'magma')\n",
        "\n",
        "# Set xlabel for the plot\n",
        "plt.xlabel('Room Type')\n",
        "\n",
        "# Set y label for the plot\n",
        "plt.ylabel('Count of Room Type')\n",
        "\n",
        "# Set title for the plot\n",
        "plt.title(\"Most preferred Room type\")"
      ],
      "metadata": {
        "id": "mAQTIvtqp1cj"
      },
      "execution_count": null,
      "outputs": []
    },
    {
      "cell_type": "markdown",
      "source": [
        "##### 1. Why did you pick the specific chart?"
      ],
      "metadata": {
        "id": "X_VqEhTip1ck"
      }
    },
    {
      "cell_type": "markdown",
      "source": [
        "The countplot is used to represent the occurrence(counts) of the observation present in the categorical variable and it is used to show the counts of observations in each categorical bin using bars."
      ],
      "metadata": {
        "id": "-vsMzt_np1ck"
      }
    },
    {
      "cell_type": "markdown",
      "source": [
        "##### 2. What is/are the insight(s) found from the chart?"
      ],
      "metadata": {
        "id": "8zGJKyg5p1ck"
      }
    },
    {
      "cell_type": "markdown",
      "source": [
        "Room type 'A' is the most prefered by the guests and the second most prefered is 'D'."
      ],
      "metadata": {
        "id": "ZYdMsrqVp1ck"
      }
    },
    {
      "cell_type": "markdown",
      "source": [
        "##### 3. Will the gained insights help creating a positive business impact? \n",
        "Are there any insights that lead to negative growth? Justify with specific reason."
      ],
      "metadata": {
        "id": "PVzmfK_Ep1ck"
      }
    },
    {
      "cell_type": "markdown",
      "source": [
        "Yes, the insights gained can help create a positive business impact on which is the most preferred room type by customers for hotel bookings. Knowing the most preferred room type by customers can help the hotel better allocate their resources and focus on areas that will likely bring in more business. It can also help the hotel create tailored offers and promotions that are more likely to be accepted by the customer. \n",
        "\n",
        "No, there are no insights that lead to negative growth. The insights gained are all focused on understanding customer preferences and helping the hotel make more informed decisions about their operations. This would only result in more positive growth for the hotel."
      ],
      "metadata": {
        "id": "druuKYZpp1ck"
      }
    },
    {
      "cell_type": "markdown",
      "source": [
        "#### Chart - 11"
      ],
      "metadata": {
        "id": "U2RJ9gkRphqQ"
      }
    },
    {
      "cell_type": "markdown",
      "source": [
        "11) From which country the most guests are coming?"
      ],
      "metadata": {
        "id": "ZdFVDYQjIhf-"
      }
    },
    {
      "cell_type": "code",
      "source": [
        "# Chart - 11 Visualization code\n",
        "# Counting the guests from various countries.\n",
        "country_df = hotel_df1['country'].value_counts().reset_index().rename(columns = {'index':'country', 'country':'count of guests'})[:10]\n",
        "\n",
        "# Visualizsing by bar chart.\n",
        "plt.figure(figsize = (20,8))\n",
        "sns.barplot(x = country_df['country'], y = country_df['count of guests'], palette = 'rocket_r')\n",
        "plt.xlabel('Country')\n",
        "plt.ylabel('Number of guests',fontsize = 12)\n",
        "plt.title(\"Number of guests from diffrent Countries\")"
      ],
      "metadata": {
        "id": "GM7a4YP4phqQ"
      },
      "execution_count": null,
      "outputs": []
    },
    {
      "cell_type": "code",
      "source": [
        "# Importing the folium library\n",
        "import folium                          \n",
        "import plotly.express as px"
      ],
      "metadata": {
        "id": "Cgn5KYpfJdGy"
      },
      "execution_count": null,
      "outputs": []
    },
    {
      "cell_type": "code",
      "source": [
        "basemap = folium.Map()\n",
        "guests_map = px.choropleth(country_df, locations = country_df['country'], color = country_df['count of guests'], hover_name = country_df['country'])\n",
        "guests_map.show()"
      ],
      "metadata": {
        "id": "6plzm2RSJd7i"
      },
      "execution_count": null,
      "outputs": []
    },
    {
      "cell_type": "markdown",
      "source": [
        "##### 1. Why did you pick the specific chart?"
      ],
      "metadata": {
        "id": "1M8mcRywphqQ"
      }
    },
    {
      "cell_type": "markdown",
      "source": [
        "Bar charts show the frequency counts of values for the different levels of a categorical or nominal variable. Sometimes, bar charts show other statistics, such as percentages.\n",
        "\n",
        "To show the count of most bookings made by the agent that's why I have used Bar Chart."
      ],
      "metadata": {
        "id": "8agQvks0phqQ"
      }
    },
    {
      "cell_type": "markdown",
      "source": [
        "##### 2. What is/are the insight(s) found from the chart?"
      ],
      "metadata": {
        "id": "tgIPom80phqQ"
      }
    },
    {
      "cell_type": "markdown",
      "source": [
        "Abbreevations for countries-\n",
        "\n",
        "1.   PRT- Portugal\n",
        "2.   GBR- United Kingdom\n",
        "3.   FRA- France\n",
        "4.   ESP- Spain\n",
        "5.   DEU - Germany\n",
        "6.   ITA -Itlay\n",
        "7.   IRL - Ireland\n",
        "8.   BEL -Belgium\n",
        "9.   BRA -Brazil\n",
        "10.   NLD-Netherlands\n",
        "\n",
        "Most of the guests are coming from Portugal i.e more 25000 guests are from portugal. After Portugal, GBR(Great Britain), France and Sapin are the countries from where most of the guests came.\n"
      ],
      "metadata": {
        "id": "Qp13pnNzphqQ"
      }
    },
    {
      "cell_type": "markdown",
      "source": [
        "##### 3. Will the gained insights help creating a positive business impact? \n",
        "Are there any insights that lead to negative growth? Justify with specific reason."
      ],
      "metadata": {
        "id": "JMzcOPDDphqR"
      }
    },
    {
      "cell_type": "markdown",
      "source": [
        "Yes, the gained insights will help create a positive business impact on the country from which the most guests book hotel rooms. By understanding which country the most guests are coming from, a hotel can tailor its services to the specific needs of the guests from that country. This can include providing services and amenities that the guests from that country prefer, as well as increasing marketing efforts in that country to attract even more guests.\n",
        "\n",
        "There are no insights that lead to negative growth. The insights simply provide data on which country the most guests are coming from, and this data can be used to make positive business decisions."
      ],
      "metadata": {
        "id": "R4Ka1PC2phqR"
      }
    },
    {
      "cell_type": "markdown",
      "source": [
        "#### Chart - 12"
      ],
      "metadata": {
        "id": "n3dbpmDWp1ck"
      }
    },
    {
      "cell_type": "markdown",
      "source": [
        "12) In which month most of the bookings happened?"
      ],
      "metadata": {
        "id": "8pNGqvfQMNKB"
      }
    },
    {
      "cell_type": "code",
      "source": [
        "# Groupby arrival_date_month and taking the hotel count\n",
        "bookings_by_months_df = hotel_df1.groupby(['arrival_date_month'])['hotel'].count().reset_index().rename(columns={'hotel':\"Counts\"})\n",
        "\n",
        "# Create list of months in order\n",
        "months = ['January', 'February', 'March', 'April', 'May', 'June', 'July', 'August', 'September', 'October', 'November', 'December']\n",
        "\n",
        "# Creating df which will map the order of above months list without changing its values.\n",
        "bookings_by_months_df['arrival_date_month'] = pd.Categorical(bookings_by_months_df['arrival_date_month'], categories = months, ordered=True)\n",
        "\n",
        "# Sorting by arrival_date_month\n",
        "bookings_by_months_df = bookings_by_months_df.sort_values('arrival_date_month')\n",
        "\n",
        "bookings_by_months_df"
      ],
      "metadata": {
        "id": "vHgCLXJaMV_N"
      },
      "execution_count": null,
      "outputs": []
    },
    {
      "cell_type": "code",
      "source": [
        "# Chart - 12 Visualization code\n",
        "# Visualizsing by line plot.\n",
        "\n",
        "# Set plot size\n",
        "plt.figure(figsize = (20,8))\n",
        "\n",
        "# Ploting lineplot on x- months & y- booking counts\n",
        "sns.lineplot(x = bookings_by_months_df['arrival_date_month'], y = bookings_by_months_df['Counts'], palette = 'crest')\n",
        "\n",
        "# Set title for the plot\n",
        "plt.title('Number of bookings across each month')\n",
        "\n",
        "# Set x label\n",
        "plt.xlabel('Month')\n",
        "\n",
        "# Set y label\n",
        "plt.ylabel('Number of bookings')"
      ],
      "metadata": {
        "id": "bwevp1tKp1ck"
      },
      "execution_count": null,
      "outputs": []
    },
    {
      "cell_type": "markdown",
      "source": [
        "##### 1. Why did you pick the specific chart?"
      ],
      "metadata": {
        "id": "ylSl6qgtp1ck"
      }
    },
    {
      "cell_type": "markdown",
      "source": [
        "Seaborn Line Plots depict the relationship between continuous as well as categorical values in a continuous data point format. Line Plots display numerical values on one axis, and categorical values on the other."
      ],
      "metadata": {
        "id": "m2xqNkiQp1ck"
      }
    },
    {
      "cell_type": "markdown",
      "source": [
        "##### 2. What is/are the insight(s) found from the chart?"
      ],
      "metadata": {
        "id": "ZWILFDl5p1ck"
      }
    },
    {
      "cell_type": "markdown",
      "source": [
        "As we can see in the line chart, from June to September has most of the bookings happened. It's Summer time can be the reason for the most bookings. After September bookings starts declining."
      ],
      "metadata": {
        "id": "x-lUsV2mp1ck"
      }
    },
    {
      "cell_type": "markdown",
      "source": [
        "##### 3. Will the gained insights help creating a positive business impact? \n",
        "Are there any insights that lead to negative growth? Justify with specific reason."
      ],
      "metadata": {
        "id": "M7G43BXep1ck"
      }
    },
    {
      "cell_type": "markdown",
      "source": [
        "Yes, the gained insights can help create a positive business impact on which month most of the bookings happened for hotel bookings. For example, if the data reveals that the most bookings take place during the summer months, the hotel can create special discounts and promotions to draw more visitors during this time. Additionally, the insights can be used to better target potential customers and adjust marketing strategies to increase overall bookings.\n",
        "\n",
        "No, there are no insights that lead to negative growth. The insights from the data are only meant to provide information on which months are the most popular for hotel bookings. With this information, the hotel can adjust their strategy to maximize the number of bookings."
      ],
      "metadata": {
        "id": "5wwDJXsLp1cl"
      }
    },
    {
      "cell_type": "markdown",
      "source": [
        "#### Chart - 13"
      ],
      "metadata": {
        "id": "IdF_6ZaCQzlT"
      }
    },
    {
      "cell_type": "markdown",
      "source": [
        "13) Which year had the highest bookings?"
      ],
      "metadata": {
        "id": "7hwfxeDBQ8Wh"
      }
    },
    {
      "cell_type": "code",
      "source": [
        "# Chart - 13 Visualization code\n",
        "# Visualizsing by the count plot.\n",
        "\n",
        "# Set plot size\n",
        "plt.figure(figsize = (12,8))\n",
        "\n",
        "# Plot with countplot\n",
        "sns.countplot(x = hotel_df1['arrival_date_year'], hue = hotel_df1['hotel'], palette = 'husl')\n",
        "plt.title(\"Year Wise bookings\")"
      ],
      "metadata": {
        "id": "1P2TiYMtREUU"
      },
      "execution_count": null,
      "outputs": []
    },
    {
      "cell_type": "markdown",
      "source": [
        "##### 1. Why did you pick the specific chart?"
      ],
      "metadata": {
        "id": "TaQuAvsuReBk"
      }
    },
    {
      "cell_type": "markdown",
      "source": [
        "The countplot is used to represent the occurrence(counts) of the observation present in the categorical variable and it is used to show the counts of observations in each categorical bin using bars."
      ],
      "metadata": {
        "id": "NloWVQ6IRqOc"
      }
    },
    {
      "cell_type": "markdown",
      "source": [
        "##### 2. What is/are the insight(s) found from the chart?"
      ],
      "metadata": {
        "id": "hgmjAXHgRfb3"
      }
    },
    {
      "cell_type": "markdown",
      "source": [
        "Most of the bookings for City hotels and Resort hotels were happened in 2016. As we can see most of the bookings were for City hotels.\n",
        "\n",
        "2016 had the higest bookings.\\\n",
        "2015 had less 7000 bookings.\\\n",
        "Overall City hotels had the most of the bookings."
      ],
      "metadata": {
        "id": "sFbbOaUOR2xZ"
      }
    },
    {
      "cell_type": "markdown",
      "source": [
        "##### 3. Will the gained insights help creating a positive business impact? \n",
        "Are there any insights that lead to negative growth? Justify with specific reason."
      ],
      "metadata": {
        "id": "zHs_FkAaRjl6"
      }
    },
    {
      "cell_type": "markdown",
      "source": [
        "Yes, the gained insights can help create a positive business impact on which year had the highest hotel bookings. For instance, the insights may reveal which seasons were the busiest for bookings, which factors drove the highest bookings, and what strategies were successful in driving more bookings. By analyzing this data, a hotel can tailor their strategies to maximize bookings in the future. \n",
        "\n",
        "No, there are no insights that lead to negative growth. The gained insights are all focused on understanding which strategies and factors led to the highest bookings, which is information that can be used to increase bookings in the future."
      ],
      "metadata": {
        "id": "KJejuqysWdCo"
      }
    },
    {
      "cell_type": "markdown",
      "source": [
        "#### Chart - 14"
      ],
      "metadata": {
        "id": "Ag9LCva-p1cl"
      }
    },
    {
      "cell_type": "markdown",
      "source": [
        "14) Which Distribution channel is mostly used for hotel bookings?"
      ],
      "metadata": {
        "id": "KwVWDtW2PmOR"
      }
    },
    {
      "cell_type": "code",
      "source": [
        "# Chart - 14 Visualization code\n",
        "# Visualizsing by the pie chart.\n",
        "\n",
        "# Creating labels\n",
        "labels = hotel_df1['distribution_channel'].value_counts().index.tolist()\n",
        "\n",
        "# Creating new df of distribution channel\n",
        "distribution_channel_df = hotel_df1['distribution_channel'].value_counts().reset_index().rename(columns={'index':\"distribution_channel\", 'distribution_channel':'count'})\n",
        "\n",
        "# Adding percentage columns to the distribution_channel_df\n",
        "distribution_channel_df['percentage'] = round(distribution_channel_df['count'] * 100 / hotel_df1.shape[0], 1)\n",
        "\n",
        "# Creating list of percentage\n",
        "sizes = distribution_channel_df['percentage'].values.tolist()\n",
        "\n",
        "# Plotting the piw chart\n",
        "hotel_df1['distribution_channel'].value_counts().plot.pie(explode = [0.05, 0.05,0.05,0.05,0.05], shadow = False, figsize = (15,8), fontsize = 10, labels = None)   \n",
        "\n",
        "# Setting legends with the percentage values\n",
        "labels = [f'{l}, {s}%' for l, s in zip(labels, sizes)]\n",
        "plt.legend(bbox_to_anchor = (0.85, 1), loc = 'upper left', labels = labels)\n",
        "plt.title(' Mostly Used Distribution Channel for Hotel Bookings ')"
      ],
      "metadata": {
        "id": "EUfxeq9-p1cl"
      },
      "execution_count": null,
      "outputs": []
    },
    {
      "cell_type": "markdown",
      "source": [
        "##### 1. Why did you pick the specific chart?"
      ],
      "metadata": {
        "id": "E6MkPsBcp1cl"
      }
    },
    {
      "cell_type": "markdown",
      "source": [
        "A pie chart expresses a part-to-whole relationship in your data. It's easy to explain the percentage comparison through area covered in a circle with different colors. Where differenet percentage comparison comes into action pie chart is used frequently. So, I used Pie chart and which helped me to get the percentage comparision of the feature or target variable."
      ],
      "metadata": {
        "id": "V22bRsFWp1cl"
      }
    },
    {
      "cell_type": "markdown",
      "source": [
        "##### 2. What is/are the insight(s) found from the chart?"
      ],
      "metadata": {
        "id": "2cELzS2fp1cl"
      }
    },
    {
      "cell_type": "markdown",
      "source": [
        "79.1% bookings were made through TA/TO (travel agents/tour operators). Second most distribution channel is direct."
      ],
      "metadata": {
        "id": "ozQPc2_Ip1cl"
      }
    },
    {
      "cell_type": "markdown",
      "source": [
        "##### 3. Will the gained insights help creating a positive business impact? \n",
        "Are there any insights that lead to negative growth? Justify with specific reason."
      ],
      "metadata": {
        "id": "3MPXvC8up1cl"
      }
    },
    {
      "cell_type": "markdown",
      "source": [
        "The insights gained from analyzing which distribution channel is mostly used for hotel bookings can help create a positive business impact. For example, if the analysis reveals that customers prefer to book hotels through a particular distribution channel, the business can focus their marketing efforts on that channel in order to drive more bookings. Additionally, the business can focus their efforts on providing customers with a better booking experience on the preferred channel in order to increase customer satisfaction and loyalty.\n",
        "\n",
        "There are not necessarily any insights that lead to negative growth. It is possible that the analysis might reveal that customers are not using certain distribution channels, in which case the business may need to adjust their strategy in order to drive more bookings. However, the insights would still be positive in that it would help the business identify opportunities for growth."
      ],
      "metadata": {
        "id": "GL8l1tdLp1cl"
      }
    },
    {
      "cell_type": "markdown",
      "source": [
        "Bivariate and Multivariate Analysis:-"
      ],
      "metadata": {
        "id": "4cTom17LSpR8"
      }
    },
    {
      "cell_type": "code",
      "source": [
        "# Group by hotel\n",
        "grup_by_hotel = hotel_df1.groupby('hotel')"
      ],
      "metadata": {
        "id": "XbKHT3QxOjKP"
      },
      "execution_count": null,
      "outputs": []
    },
    {
      "cell_type": "markdown",
      "source": [
        "#### Chart - 15"
      ],
      "metadata": {
        "id": "O39Dr9-LXVEg"
      }
    },
    {
      "cell_type": "markdown",
      "source": [
        "1) Which Hotels has the most repeated guests?"
      ],
      "metadata": {
        "id": "T9nrnRZiZCRF"
      }
    },
    {
      "cell_type": "code",
      "source": [
        "# Chart - 15 Visualization code\n",
        "# Repeated guest = 1\n",
        "# Not repeated guest = 0\n",
        "\n",
        "# Groupby hotel\n",
        "repeated_guests_df = hotel_df1[hotel_df1['is_repeated_guest'] == 1].groupby('hotel').size().reset_index().rename(columns = {0:'number_of_repated_guests'})\n",
        "\n",
        "# Set plot size adn plot barplot\n",
        "plt.figure(figsize = (10,8))\n",
        "sns.barplot(x = repeated_guests_df['hotel'], y = repeated_guests_df['number_of_repated_guests'], palette = 'coolwarm')\n",
        "\n",
        "# Set labels\n",
        "plt.xlabel('Hotel type')\n",
        "plt.ylabel('count of repeated guests')\n",
        "plt.title(\"Most repeated guests for each hotel\")"
      ],
      "metadata": {
        "id": "xTeD_8fXZEE4"
      },
      "execution_count": null,
      "outputs": []
    },
    {
      "cell_type": "markdown",
      "source": [
        "##### 1. Why did you pick the specific chart?"
      ],
      "metadata": {
        "id": "wZKjdV3iZm3L"
      }
    },
    {
      "cell_type": "markdown",
      "source": [
        "Bar charts show the frequency counts of values for the different levels of a categorical or nominal variable. Sometimes, bar charts show other statistics, such as percentages.\n",
        "\n",
        "To show the count of most bookings made by the agent that's why I have used Bar Chart."
      ],
      "metadata": {
        "id": "J14whPfcZ3Xy"
      }
    },
    {
      "cell_type": "markdown",
      "source": [
        "##### 2. What is/are the insight(s) found from the chart?"
      ],
      "metadata": {
        "id": "-bKLCQiEZrfZ"
      }
    },
    {
      "cell_type": "markdown",
      "source": [
        "Resort Hotel has slightly more repeated guests than the City Hotels. In order to get increase the count of repeated guests hotel management need to take the valuable feedbacks from the guests and try to give good service."
      ],
      "metadata": {
        "id": "ZxJCMe-CZ0JX"
      }
    },
    {
      "cell_type": "markdown",
      "source": [
        "##### 3. Will the gained insights help creating a positive business impact? \n",
        "Are there any insights that lead to negative growth? Justify with specific reason."
      ],
      "metadata": {
        "id": "hPNoqz41qBqG"
      }
    },
    {
      "cell_type": "markdown",
      "source": [
        "The insights gained from studying the number of repeated guests at city hotels and resort hotels can help create a positive business impact by informing business decisions. For example, the insights can help identify which type of hotel is more popular among repeat guests and can help inform marketing and promotional strategies to attract more repeat customers.\n",
        "\n",
        "However, there could also be potential negative growth implications if the insights are used incorrectly. For example, if the insights are used to focus marketing efforts solely on the type of hotel that has more repeat guests, there could be a risk of alienating potential customers who may prefer to stay at the other type of hotel. Additionally, if the insights are used to reduce prices for repeat customers at the hotel with more repeat guests, there could be a risk of reducing revenue if the hotel has higher prices than the other type of hotel."
      ],
      "metadata": {
        "id": "Zy7XGOtxZl_k"
      }
    },
    {
      "cell_type": "markdown",
      "source": [
        "#### Chart - 16"
      ],
      "metadata": {
        "id": "b6pYpc10O3vV"
      }
    },
    {
      "cell_type": "markdown",
      "source": [
        "2) Which Hotel type has the highest ADR?"
      ],
      "metadata": {
        "id": "QnzwCB-WO7cT"
      }
    },
    {
      "cell_type": "code",
      "source": [
        "# Chart - 16 Visualization code\n",
        "# Visualizsing by the bar chart.\n",
        "\n",
        "# Grouping by hotel adr\n",
        "highest_adr = grup_by_hotel['adr'].mean().reset_index()\n",
        "\n",
        "# Set plot size\n",
        "plt.figure(figsize = (10,8))\n",
        "\n",
        "# Set labels\n",
        "plt.xlabel('Hotel type')\n",
        "plt.ylabel('ADR')\n",
        "plt.title(\"Avg ADR of each Hotel type\")\n",
        "\n",
        "# Plot the graph\n",
        "sns.barplot(x = highest_adr['hotel'], y=highest_adr['adr'], palette = 'Paired')"
      ],
      "metadata": {
        "id": "r6VIfAm0O-v7"
      },
      "execution_count": null,
      "outputs": []
    },
    {
      "cell_type": "markdown",
      "source": [
        "##### 1. Why did you pick the specific chart?"
      ],
      "metadata": {
        "id": "ALTikafsPeP1"
      }
    },
    {
      "cell_type": "markdown",
      "source": [
        "Bar charts show the frequency counts of values for the different levels of a categorical or nominal variable. Sometimes, bar charts show other statistics, such as percentages.\n",
        "\n",
        "To show the count of most bookings made by the agent that's why I have used Bar Chart."
      ],
      "metadata": {
        "id": "XkM4m12zPoB_"
      }
    },
    {
      "cell_type": "markdown",
      "source": [
        "##### 2. What is/are the insight(s) found from the chart?"
      ],
      "metadata": {
        "id": "5wCVCJ-zPjBw"
      }
    },
    {
      "cell_type": "markdown",
      "source": [
        "City hotel has the highest ADR. That means city hotels are generating more revenues than the resort hotels. More the ADR more is the revenue."
      ],
      "metadata": {
        "id": "xnxFBP7UP5uA"
      }
    },
    {
      "cell_type": "markdown",
      "source": [
        "##### 3. Will the gained insights help creating a positive business impact? \n",
        "Are there any insights that lead to negative growth? Justify with specific reason."
      ],
      "metadata": {
        "id": "UIVp7qlbPjwb"
      }
    },
    {
      "cell_type": "markdown",
      "source": [
        "Yes, the gained insights can help creating a positive business impact on which hotel type has the highest average daily rate city hotels or resort hotels. For example, the insights can reveal which type of hotel has higher occupancy rate, higher customer satisfaction scores, or higher revenue per available room. This information can help the hotel business to identify which type of hotel to focus more on and optimize their operations and marketing efforts accordingly.\n",
        "\n",
        "On the other hand, the insights can also lead to negative growth if there is not enough demand for certain types of hotels or if the hotel is not able to optimize their operations or marketing efforts to attract more customers. This could result in a decrease in revenue or occupancy rate, which could lead to negative growth."
      ],
      "metadata": {
        "id": "EresatddXDMi"
      }
    },
    {
      "cell_type": "markdown",
      "source": [
        "#### Chart - 17"
      ],
      "metadata": {
        "id": "aVSab24tP-5L"
      }
    },
    {
      "cell_type": "markdown",
      "source": [
        "3) Which hotel type has the more lead time?"
      ],
      "metadata": {
        "id": "7UEcDmnjQY3d"
      }
    },
    {
      "cell_type": "code",
      "source": [
        "# Chart - 17 Visualization code\n",
        "# Visualizsing by the bar chart.\n",
        "\n",
        "# Group by hotel and taking mean of lead time\n",
        "avg_lead_time = grup_by_hotel['lead_time'].mean().reset_index()\n",
        "\n",
        "# Set plot size\n",
        "plt.figure(figsize = (10,8))\n",
        "\n",
        "# Plot the bar plot\n",
        "sns.barplot(x = avg_lead_time['hotel'], y = avg_lead_time['lead_time'], palette = 'cubehelix')\n",
        "\n",
        "# Set lables\n",
        "plt.xlabel('Hotel type')\n",
        "plt.ylabel('Average Lead time')\n",
        "plt.title(\"Average Lead Time for each Hotel type\")"
      ],
      "metadata": {
        "id": "EYOjPkVOQfWS"
      },
      "execution_count": null,
      "outputs": []
    },
    {
      "cell_type": "markdown",
      "source": [
        "##### 1. Why did you pick the specific chart?"
      ],
      "metadata": {
        "id": "4THXRhx9Q1EQ"
      }
    },
    {
      "cell_type": "markdown",
      "source": [
        "Bar charts show the frequency counts of values for the different levels of a categorical or nominal variable. Sometimes, bar charts show other statistics, such as percentages.\n",
        "\n",
        "To show the count of most bookings made by the agent that's why I have used Bar Chart."
      ],
      "metadata": {
        "id": "D-QmsRGdRCul"
      }
    },
    {
      "cell_type": "markdown",
      "source": [
        "##### 2. What is/are the insight(s) found from the chart?"
      ],
      "metadata": {
        "id": "GIIo2xb2Q6O_"
      }
    },
    {
      "cell_type": "markdown",
      "source": [
        "Average lead time for resort hotel is high. It means people plan their trip too early. Usually people prefer resort hotels for longer stays. That's why people plan early."
      ],
      "metadata": {
        "id": "CfeTJ_TPRDWo"
      }
    },
    {
      "cell_type": "markdown",
      "source": [
        "##### 3. Will the gained insights help creating a positive business impact? \n",
        "Are there any insights that lead to negative growth? Justify with specific reason."
      ],
      "metadata": {
        "id": "MScXTSdmQ6lJ"
      }
    },
    {
      "cell_type": "markdown",
      "source": [
        "The gained insights may help create a positive business impact on which hotel type has the more lead time city hotels or resort hotels, depending on the findings. For example, if the insights show that city hotels have a higher lead time compared to resort hotels, then the hotel can focus their marketing efforts more on city hotels to increase their overall occupancy and profits. On the other hand, if the insights show that resort hotels have a higher lead time compared to city hotels, then the hotel can focus their marketing efforts more on resort hotels to increase their overall occupancy and profits.\n",
        "\n",
        "There are no insights that lead to negative growth as the insights are focused on understanding the lead time of city and resort hotels in order to determine which hotel type should be the focus of marketing efforts. The goal is to increase the overall occupancy and profits. Therefore, the insights should not lead to any negative growth."
      ],
      "metadata": {
        "id": "G1l7WD7-RD4j"
      }
    },
    {
      "cell_type": "markdown",
      "source": [
        "#### Chart - 18"
      ],
      "metadata": {
        "id": "lF32OSxMSK3M"
      }
    },
    {
      "cell_type": "markdown",
      "source": [
        "4) Which hotel has highest percentage of booking cancellation?"
      ],
      "metadata": {
        "id": "9r6raDJQS-Fe"
      }
    },
    {
      "cell_type": "code",
      "source": [
        "# Chart - 18 Visualization code\n",
        "# Visualizsing by the bar chart.\n",
        "\n",
        "# booking canceled = 1 \n",
        "# booking not canceled = 0\n",
        "\n",
        "# Creating new DataFrame where bookings are cancelled.\n",
        "canceled_df = hotel_df1[hotel_df1['is_canceled'] == 1]\n",
        "\n",
        "# Grouping by hotel\n",
        "canceled_df = canceled_df.groupby('hotel').size().reset_index().rename(columns = {0: \"no_of_cancelled_bookings\"})\n",
        "\n",
        "# Adding 'total booking column for calculating the percentage.\n",
        "canceled_df['total_booikngs'] = hotel_df1.groupby('hotel').size().reset_index().rename(columns = {0:\"total_bookings\"}).drop('hotel', axis = 1)\n",
        "canceled_df\n",
        "\n",
        "# Plotting the barchat\n",
        "plt.figure(figsize = (10,8))\n",
        "sns.barplot(x = canceled_df['hotel'], y = canceled_df['no_of_cancelled_bookings'] * 100 / canceled_df['total_booikngs'], palette = 'icefire')\n",
        "\n",
        "# Set labels\n",
        "plt.xlabel('Hotel type')\n",
        "plt.ylabel('Percentage(%)')\n",
        "plt.title(\"Percentage of booking cancellation\")"
      ],
      "metadata": {
        "id": "lJIKp1ZnTCSl"
      },
      "execution_count": null,
      "outputs": []
    },
    {
      "cell_type": "markdown",
      "source": [
        "##### 1. Why did you pick the specific chart?"
      ],
      "metadata": {
        "id": "lO50J-prTdtZ"
      }
    },
    {
      "cell_type": "markdown",
      "source": [
        "Bar charts show the frequency counts of values for the different levels of a categorical or nominal variable. Sometimes, bar charts show other statistics, such as percentages.\n",
        "\n",
        "To show the count of most bookings made by the agent that's why I have used Bar Chart."
      ],
      "metadata": {
        "id": "RUTyZSknTd-k"
      }
    },
    {
      "cell_type": "markdown",
      "source": [
        "##### 2. What is/are the insight(s) found from the chart?"
      ],
      "metadata": {
        "id": "lkk5GQh9TeLn"
      }
    },
    {
      "cell_type": "markdown",
      "source": [
        "Booking cancellation rate is high for City hotels which almost 30%."
      ],
      "metadata": {
        "id": "p2t-K1ouTewU"
      }
    },
    {
      "cell_type": "markdown",
      "source": [
        "##### 3. Will the gained insights help creating a positive business impact? \n",
        "Are there any insights that lead to negative growth? Justify with specific reason."
      ],
      "metadata": {
        "id": "8vu8dUsZTjaM"
      }
    },
    {
      "cell_type": "markdown",
      "source": [
        "The gained insights can help to create a positive business impact on which hotel has highest percentage of booking cancellation city hotels or resort hotels. For instance, the insights can reveal which cities have the highest rates of booking cancellation and which hotels are in those cities. From there, hotel managers can work to identify the root causes for the higher booking cancellation rate and take steps to reduce it. \n",
        "\n",
        "However, the insights gained may also lead to negative growth if the data reveals that customers are not satisfied with the services or offerings of city hotels or resort hotels. In such a case, hotel managers would need to take steps to improve the customer experience in order to encourage more bookings and reduce cancellations."
      ],
      "metadata": {
        "id": "lmP4BdhWTrcP"
      }
    },
    {
      "cell_type": "markdown",
      "source": [
        "#### Chart - 19"
      ],
      "metadata": {
        "id": "ACWPEUo0WqRv"
      }
    },
    {
      "cell_type": "markdown",
      "source": [
        "5) Which hotel has longer waiting time?"
      ],
      "metadata": {
        "id": "V-orxlnqWrvm"
      }
    },
    {
      "cell_type": "code",
      "source": [
        "# Chart - 19 Visualization code\n",
        "# Visualizsing by the bar chart.\n",
        "\n",
        "# Groupping by hoetl and takin mean of days in waiting list\n",
        "waiting_time_df = hotel_df1.groupby('hotel')['days_in_waiting_list'].mean().reset_index()\n",
        "# waiting_time_df\n",
        "\n",
        "# Set the plot size\n",
        "plt.figure(figsize = (10,8))\n",
        "\n",
        "# Plot barchart\n",
        "sns.barplot(x = waiting_time_df['hotel'],y = waiting_time_df['days_in_waiting_list'], palette = 'Spectral')\n",
        "\n",
        "# Set labels\n",
        "plt.xlabel('Hotel type')\n",
        "plt.ylabel('waiting time')\n",
        "plt.title(\"Waiting time for each hotel type\")"
      ],
      "metadata": {
        "id": "EftrZhl9WwjD"
      },
      "execution_count": null,
      "outputs": []
    },
    {
      "cell_type": "markdown",
      "source": [
        "##### 1. Why did you pick the specific chart?"
      ],
      "metadata": {
        "id": "A_x3pKByXJX_"
      }
    },
    {
      "cell_type": "markdown",
      "source": [
        "Bar charts show the frequency counts of values for the different levels of a categorical or nominal variable. Sometimes, bar charts show other statistics, such as percentages.\n",
        "\n",
        "To show the count of most bookings made by the agent that's why I have used Bar Chart."
      ],
      "metadata": {
        "id": "kkMpTaHMXTkn"
      }
    },
    {
      "cell_type": "markdown",
      "source": [
        "##### 2. What is/are the insight(s) found from the chart?"
      ],
      "metadata": {
        "id": "r0zoLQR5XJ1n"
      }
    },
    {
      "cell_type": "markdown",
      "source": [
        "Waiting time period for City hotels are high as compared to the Resort hotels. Thus we can say that City hotels are much busier than the Resort hotels."
      ],
      "metadata": {
        "id": "n4Mv034bXUh2"
      }
    },
    {
      "cell_type": "markdown",
      "source": [
        "##### 3. Will the gained insights help creating a positive business impact? \n",
        "Are there any insights that lead to negative growth? Justify with specific reason."
      ],
      "metadata": {
        "id": "YMm2uolxXKOa"
      }
    },
    {
      "cell_type": "markdown",
      "source": [
        "Yes, the gained insights can help create a positive business impact on which hotel has longer waiting time city hotels or resort hotels. By understanding the reasons why customers wait longer in either city hotels or resort hotels, businesses can make adjustments to their operations to reduce wait times and improve customer satisfaction. For example, they could implement more efficient booking systems, prioritize customer service, and make sure staff are properly trained and equipped to handle customer inquiries.\n",
        "\n",
        "On the other hand, the gained insights could lead to negative growth if the business does not make the necessary adjustments to improve their operations. For example, if the business continues to ignore customer wait times, customers may become increasingly frustrated and choose not to return. This could result in a decrease in revenue for the business, since customers are not satisfied with their experience."
      ],
      "metadata": {
        "id": "hRCOOnlAYrN9"
      }
    },
    {
      "cell_type": "markdown",
      "source": [
        "#### Chart - 20"
      ],
      "metadata": {
        "id": "Jbhnbl4y0w5L"
      }
    },
    {
      "cell_type": "code",
      "source": [
        "# ADR across the different month\n",
        "\n",
        "# Groupby\n",
        "bookings_by_months_df = hotel_df1.groupby(['arrival_date_month','hotel'])['adr'].mean().reset_index()\n",
        "\n",
        "# Create month list\n",
        "months = ['January', 'February', 'March', 'April', 'May', 'June', 'July', 'August', 'September', 'October', 'November', 'December']\n",
        "\n",
        "# It will take the order of the month list in the df along with values\n",
        "bookings_by_months_df['arrival_date_month'] = pd.Categorical(bookings_by_months_df['arrival_date_month'], categories = months, ordered = True)\n",
        "\n",
        "# Sortting\n",
        "bookings_by_months_df = bookings_by_months_df.sort_values('arrival_date_month')\n",
        "bookings_by_months_df"
      ],
      "metadata": {
        "id": "Yx2JA-iC1KGb"
      },
      "execution_count": null,
      "outputs": []
    },
    {
      "cell_type": "code",
      "source": [
        "# Chart - 20 Visualization code\n",
        "\n",
        "# Set plot size and plot the line\n",
        "plt.figure(figsize = (20,8))\n",
        "\n",
        "# Visualizsing by line plot.\n",
        "sns.lineplot(x = bookings_by_months_df['arrival_date_month'], y = bookings_by_months_df['adr'], hue = bookings_by_months_df['hotel'], palette = 'Set2')\n",
        "\n",
        "# Set lables\n",
        "plt.title('ADR across each month')\n",
        "plt.xlabel('Month')\n",
        "plt.ylabel('ADR')"
      ],
      "metadata": {
        "id": "jvXL_y2YBfmP"
      },
      "execution_count": null,
      "outputs": []
    },
    {
      "cell_type": "markdown",
      "source": [
        "##### 1. Why did you pick the specific chart?"
      ],
      "metadata": {
        "id": "twRdcCk6CPVH"
      }
    },
    {
      "cell_type": "markdown",
      "source": [
        "Seaborn Line Plots depict the relationship between continuous as well as categorical values in a continuous data point format. Line Plots display numerical values on one axis, and categorical values on the other."
      ],
      "metadata": {
        "id": "HUDMT_QhCjKh"
      }
    },
    {
      "cell_type": "markdown",
      "source": [
        "##### 2. What is/are the insight(s) found from the chart?"
      ],
      "metadata": {
        "id": "z2mh7wkOCULb"
      }
    },
    {
      "cell_type": "markdown",
      "source": [
        "For Resrot hotel is ADR is high in the months June, July, August as compared to City Hotels. May be Customers/People wants to spend their Summer vaccation in Resorts Hotels.\n",
        "\n",
        "The best time for guests to visit Resort or City hotels is January, February, March, April, October, November and December as the avrage daily rate in this month is very low."
      ],
      "metadata": {
        "id": "AHfm_pXLCY-x"
      }
    },
    {
      "cell_type": "markdown",
      "source": [
        "##### 3. Will the gained insights help creating a positive business impact? \n",
        "Are there any insights that lead to negative growth? Justify with specific reason."
      ],
      "metadata": {
        "id": "8Vw0187KCXT8"
      }
    },
    {
      "cell_type": "markdown",
      "source": [
        "Yes, the gained insights can help create a positive business impact on average daily rate across the different months for hotel bookings. For example, if the insights reveal that there are certain months that have higher booking rates due to an increase in demand for travel during those months, the hotel can increase their prices for those months to take advantage of the higher demand and increase their average daily rate.\n",
        " \n",
        "The insights can also help identify any potential negative growth. For example, if the insights show that there are certain months that have lower booking rates due to a decrease in demand for travel during those months, the hotel can decrease their prices for those months to make them more attractive to potential guests and reduce the negative growth."
      ],
      "metadata": {
        "id": "rls8e44BCZs1"
      }
    },
    {
      "cell_type": "markdown",
      "source": [
        "#### Chart - 21 - Correlation Heatmap"
      ],
      "metadata": {
        "id": "NC_X3p0fY2L0"
      }
    },
    {
      "cell_type": "code",
      "source": [
        "# Correlation Heatmap visualization code\n",
        "plt.figure(figsize = (18,10))\n",
        "sns.heatmap(hotel_df1.corr(), annot = True, cmap = 'coolwarm', vmin = -1)\n",
        "plt.title('Co-relation of the columns')"
      ],
      "metadata": {
        "id": "xyC9zolEZNRQ"
      },
      "execution_count": null,
      "outputs": []
    },
    {
      "cell_type": "markdown",
      "source": [
        "##### 1. Why did you pick the specific chart?"
      ],
      "metadata": {
        "id": "UV0SzAkaZNRQ"
      }
    },
    {
      "cell_type": "markdown",
      "source": [
        "The correlation heatmap chart is a great way to visualize correlations between multiple variables. It provides a clear and concise view of the relationships between the variables, which allows for easy and quick analysis. Additionally, the color coding used in the heatmap helps to quickly and easily identify correlations that may otherwise not be as apparent."
      ],
      "metadata": {
        "id": "DVPuT8LYZNRQ"
      }
    },
    {
      "cell_type": "markdown",
      "source": [
        "##### 2. What is/are the insight(s) found from the chart?"
      ],
      "metadata": {
        "id": "YPEH6qLeZNRQ"
      }
    },
    {
      "cell_type": "markdown",
      "source": [
        "*   is_canceled and same_room_alloted_or_not are negatively corelated. That means customer is unlikely to cancel his bookings if he don't get the same room as per reserved room. We have visualized it above.\n",
        "\n",
        "*   lead_time and total_stay is positively corelated.That means more is the stay of cutsomer more will be the lead time.\n",
        "\n",
        "*   adults,childrens and babies are corelated to each other. That means more the people more will be adr.\n",
        "\n",
        "*   is_repeated guest and previous bookings not canceled has strong corelation. may be repeated guests are not more likely to cancel their bookings.\n",
        "\n",
        "\n",
        "\n"
      ],
      "metadata": {
        "id": "bfSqtnDqZNRR"
      }
    },
    {
      "cell_type": "markdown",
      "source": [
        "#### Chart - 22 - Pair Plot "
      ],
      "metadata": {
        "id": "q29F0dvdveiT"
      }
    },
    {
      "cell_type": "code",
      "source": [
        "# Pair plot visualization code\n",
        "sns.pairplot(hotel_df1, hue = 'is_canceled')"
      ],
      "metadata": {
        "id": "o58-TEIhveiU"
      },
      "execution_count": null,
      "outputs": []
    },
    {
      "cell_type": "markdown",
      "source": [
        "##### 1. Why did you pick the specific chart?"
      ],
      "metadata": {
        "id": "EXh0U9oCveiU"
      }
    },
    {
      "cell_type": "markdown",
      "source": [
        "Pair plot is used to understand the best set of features to explain a relationship between two variables or to form the most separated clusters. It also helps to form some simple classification models by drawing some simple lines or make linear separation in our data-set.\n",
        "\n",
        "Thus, I used pair plot to analyse the patterns of data and realationship between the features. It's exactly same as the correlation map but here you will get the graphical representation."
      ],
      "metadata": {
        "id": "eMmPjTByveiU"
      }
    },
    {
      "cell_type": "markdown",
      "source": [
        "##### 2. What is/are the insight(s) found from the chart?"
      ],
      "metadata": {
        "id": "22aHeOlLveiV"
      }
    },
    {
      "cell_type": "markdown",
      "source": [
        "From the above chart I got to know, there are less linear relationship between variables and data points aren't linearly separable."
      ],
      "metadata": {
        "id": "uPQ8RGwHveiV"
      }
    },
    {
      "cell_type": "markdown",
      "source": [
        "## **5. Solution to Business Objective**"
      ],
      "metadata": {
        "id": "JcMwzZxoAimU"
      }
    },
    {
      "cell_type": "markdown",
      "source": [
        "#### What do you suggest the client to achieve Business Objective ? "
      ],
      "metadata": {
        "id": "8G2x9gOozGDZ"
      }
    },
    {
      "cell_type": "markdown",
      "source": [
        "*   Increase the visibility of the hotel by optimizing for local SEO and using digital marketing channels such as Google Ads, Facebook Ads, and other relevant social media platforms.\n",
        "\n",
        "*   Utilize email marketing campaigns to reach potential customers and promote targeted offers.\n",
        "\n",
        "*   Set up targeted campaigns with influencers and social media personalities to promote the hotel’s offerings.\n",
        "\n",
        "*   Implement a loyalty program to reward repeat customers and encourage them to book with the hotel again.\n",
        "\n",
        "*   Build relationships with travel agents, tour operators, and other hotel booking websites to increase the hotel’s reach.\n",
        "\n",
        "*   Utilize data and insights to identify customer preferences and tailor offers to meet their needs.\n",
        "\n",
        "*   Create a user-friendly website and mobile app to increase user engagement and make booking easier.\n",
        "\n",
        "\n",
        "*   Utilize online travel agents and hotel booking websites to increase visibility and bookings.\n",
        "\n",
        "*   Leverage technology to provide a seamless customer experience.\n",
        "\n",
        "*   Use booking engine software to streamline the booking process.\n",
        "\n"
      ],
      "metadata": {
        "id": "pASKb0qOza21"
      }
    },
    {
      "cell_type": "markdown",
      "source": [
        "# **Conclusion**"
      ],
      "metadata": {
        "id": "gCX9965dhzqZ"
      }
    },
    {
      "cell_type": "markdown",
      "source": [
        "*   City hotels are the most preferred hotel type by the guests. We can say City hotel is the busiest hotel.\n",
        "\n",
        "*   27.5 % bookings were got cancelled out of all the bookings.\n",
        "\n",
        "*   Only 3.9 % people were revisited the hotels. Rest 96.1 % were new guests. Thus retention rate is low.\n",
        "\n",
        "*   The percentage of 0 changes made in the booking was more than 82 %. Percentage of Single changes made was about 10%.\n",
        "\n",
        "*   Most of the customers (91.6%) do not require car parking spaces.\n",
        "\n",
        "*   79.1 % bookings were made through TA/TO (travel agents/Tour operators).\n",
        "\n",
        "*   BB( Bed & Breakfast) is the most preferred type of meal by the guests.\n",
        "\n",
        "*   Maximum number of guests were from Portugal, i.e. more than 25000 guests.\n",
        "\n",
        "*   Average ADR for city hotel is high as compared to resort hotels. These City hotels are generating more revenue than the resort hotels.\n",
        "\n",
        "*   Booking cancellation rate is high for City hotels which almost 30 %.\n",
        "\n",
        "*   Average lead time for resort hotel is high.\n",
        "\n",
        "*   Waiting time period for City hotel is high as compared to resort hotels. That means city hotels are much busier than Resort hotels.\n",
        "\n",
        "*   Resort hotels have the most repeated guests.\n",
        "\n",
        "*   Optimal stay in both the type hotel is less than 7 days. Usually people stay for a week.\n",
        "\n",
        "*   Almost 19 % people did not cancel their bookings even after not getting the same room which they reserved while booking hotel. Only 2.5 % people cancelled the booking.\n",
        "\n",
        "\n",
        "\n",
        "\n",
        "\n"
      ],
      "metadata": {
        "id": "SIXdePCWba2s"
      }
    },
    {
      "cell_type": "markdown",
      "source": [
        "### ***Hurrah! You have successfully completed your EDA Capstone Project !!!***"
      ],
      "metadata": {
        "id": "gIfDvo9L0UH2"
      }
    }
  ]
}