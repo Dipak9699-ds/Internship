{
 "cells": [
  {
   "cell_type": "markdown",
   "id": "ea44d248",
   "metadata": {},
   "source": [
    "# Import the libraries."
   ]
  },
  {
   "cell_type": "code",
   "execution_count": 1,
   "id": "dc9a19d7",
   "metadata": {},
   "outputs": [],
   "source": [
    "import numpy as np\n",
    "import matplotlib.pyplot as plt\n",
    "import seaborn as sns\n",
    "import warnings\n",
    "warnings.filterwarnings('ignore')"
   ]
  },
  {
   "cell_type": "markdown",
   "id": "c8c979c2",
   "metadata": {},
   "source": [
    "# Load the dataset."
   ]
  },
  {
   "cell_type": "code",
   "execution_count": 2,
   "id": "9b98ad55",
   "metadata": {},
   "outputs": [
    {
     "data": {
      "text/html": [
       "<div>\n",
       "<style scoped>\n",
       "    .dataframe tbody tr th:only-of-type {\n",
       "        vertical-align: middle;\n",
       "    }\n",
       "\n",
       "    .dataframe tbody tr th {\n",
       "        vertical-align: top;\n",
       "    }\n",
       "\n",
       "    .dataframe thead th {\n",
       "        text-align: right;\n",
       "    }\n",
       "</style>\n",
       "<table border=\"1\" class=\"dataframe\">\n",
       "  <thead>\n",
       "    <tr style=\"text-align: right;\">\n",
       "      <th></th>\n",
       "      <th>Brand</th>\n",
       "      <th>Model</th>\n",
       "      <th>Variant</th>\n",
       "      <th>Transmission</th>\n",
       "      <th>Driven_KM</th>\n",
       "      <th>Fuel_type</th>\n",
       "      <th>No. of owners</th>\n",
       "      <th>Manufacture_year</th>\n",
       "      <th>Location</th>\n",
       "      <th>Price</th>\n",
       "    </tr>\n",
       "  </thead>\n",
       "  <tbody>\n",
       "    <tr>\n",
       "      <th>0</th>\n",
       "      <td>Mahindra</td>\n",
       "      <td>XUV</td>\n",
       "      <td>1.2 W6 MT</td>\n",
       "      <td>NaN</td>\n",
       "      <td>9,510 km</td>\n",
       "      <td>Petrol</td>\n",
       "      <td>1st Owner</td>\n",
       "      <td>2021</td>\n",
       "      <td>Ahmedabad</td>\n",
       "      <td>₹10,67,499</td>\n",
       "    </tr>\n",
       "    <tr>\n",
       "      <th>1</th>\n",
       "      <td>Maruti</td>\n",
       "      <td>Alto</td>\n",
       "      <td>VXI Manual</td>\n",
       "      <td>Manual</td>\n",
       "      <td>8,339 km</td>\n",
       "      <td>Petrol</td>\n",
       "      <td>1st Owner</td>\n",
       "      <td>2016</td>\n",
       "      <td>Ahmedabad</td>\n",
       "      <td>₹3,37,599</td>\n",
       "    </tr>\n",
       "    <tr>\n",
       "      <th>2</th>\n",
       "      <td>Maruti</td>\n",
       "      <td>Ertiga</td>\n",
       "      <td>ZXI Plus SHVS Manual</td>\n",
       "      <td>Manual</td>\n",
       "      <td>21,596 km</td>\n",
       "      <td>Petrol</td>\n",
       "      <td>2nd Owner</td>\n",
       "      <td>2020</td>\n",
       "      <td>Ahmedabad</td>\n",
       "      <td>₹10,39,099</td>\n",
       "    </tr>\n",
       "    <tr>\n",
       "      <th>3</th>\n",
       "      <td>Maruti</td>\n",
       "      <td>Swift</td>\n",
       "      <td>LXI Manual</td>\n",
       "      <td>Manual</td>\n",
       "      <td>16,885 km</td>\n",
       "      <td>Petrol</td>\n",
       "      <td>1st Owner</td>\n",
       "      <td>2019</td>\n",
       "      <td>Ahmedabad</td>\n",
       "      <td>₹5,82,299</td>\n",
       "    </tr>\n",
       "    <tr>\n",
       "      <th>4</th>\n",
       "      <td>Volkswagen</td>\n",
       "      <td>Polo</td>\n",
       "      <td>Trendline 1.0 L Petrol Manual</td>\n",
       "      <td>Manual</td>\n",
       "      <td>14,469 km</td>\n",
       "      <td>Petrol</td>\n",
       "      <td>1st Owner</td>\n",
       "      <td>2020</td>\n",
       "      <td>Ahmedabad</td>\n",
       "      <td>₹5,82,999</td>\n",
       "    </tr>\n",
       "    <tr>\n",
       "      <th>...</th>\n",
       "      <td>...</td>\n",
       "      <td>...</td>\n",
       "      <td>...</td>\n",
       "      <td>...</td>\n",
       "      <td>...</td>\n",
       "      <td>...</td>\n",
       "      <td>...</td>\n",
       "      <td>...</td>\n",
       "      <td>...</td>\n",
       "      <td>...</td>\n",
       "    </tr>\n",
       "    <tr>\n",
       "      <th>5192</th>\n",
       "      <td>Maruti</td>\n",
       "      <td>Alto</td>\n",
       "      <td>LXI Manual</td>\n",
       "      <td>Manual</td>\n",
       "      <td>51,233 km</td>\n",
       "      <td>Petrol</td>\n",
       "      <td>1st Owner</td>\n",
       "      <td>2019</td>\n",
       "      <td>Kochi</td>\n",
       "      <td>₹3,16,399</td>\n",
       "    </tr>\n",
       "    <tr>\n",
       "      <th>5193</th>\n",
       "      <td>Maruti</td>\n",
       "      <td>Alto</td>\n",
       "      <td>VXI Manual</td>\n",
       "      <td>Manual</td>\n",
       "      <td>76,693 km</td>\n",
       "      <td>Petrol</td>\n",
       "      <td>1st Owner</td>\n",
       "      <td>2015</td>\n",
       "      <td>Kochi</td>\n",
       "      <td>₹2,56,899</td>\n",
       "    </tr>\n",
       "    <tr>\n",
       "      <th>5194</th>\n",
       "      <td>Maruti</td>\n",
       "      <td>Eeco</td>\n",
       "      <td>5 STR WITH AC PLUSHTR Manual</td>\n",
       "      <td>Manual</td>\n",
       "      <td>14,835 km</td>\n",
       "      <td>Petrol</td>\n",
       "      <td>1st Owner</td>\n",
       "      <td>2020</td>\n",
       "      <td>Kochi</td>\n",
       "      <td>₹4,43,999</td>\n",
       "    </tr>\n",
       "    <tr>\n",
       "      <th>5195</th>\n",
       "      <td>Hyundai</td>\n",
       "      <td>Grand</td>\n",
       "      <td>SPORTZ (O) 1.2 AT VTVT Automatic</td>\n",
       "      <td>Automatic</td>\n",
       "      <td>23,695 km</td>\n",
       "      <td>Petrol</td>\n",
       "      <td>2nd Owner</td>\n",
       "      <td>2017</td>\n",
       "      <td>Kochi</td>\n",
       "      <td>₹5,26,719</td>\n",
       "    </tr>\n",
       "    <tr>\n",
       "      <th>5196</th>\n",
       "      <td>Hyundai</td>\n",
       "      <td>Creta</td>\n",
       "      <td>1.6 SX CRDI Manual</td>\n",
       "      <td>Manual</td>\n",
       "      <td>54,729 km</td>\n",
       "      <td>Diesel</td>\n",
       "      <td>1st Owner</td>\n",
       "      <td>2018</td>\n",
       "      <td>Kochi</td>\n",
       "      <td>₹10,93,999</td>\n",
       "    </tr>\n",
       "  </tbody>\n",
       "</table>\n",
       "<p>5197 rows × 10 columns</p>\n",
       "</div>"
      ],
      "text/plain": [
       "           Brand   Model                           Variant Transmission  \\\n",
       "0       Mahindra     XUV                         1.2 W6 MT          NaN   \n",
       "1         Maruti    Alto                        VXI Manual       Manual   \n",
       "2         Maruti  Ertiga              ZXI Plus SHVS Manual       Manual   \n",
       "3         Maruti   Swift                        LXI Manual       Manual   \n",
       "4     Volkswagen    Polo     Trendline 1.0 L Petrol Manual       Manual   \n",
       "...          ...     ...                               ...          ...   \n",
       "5192      Maruti    Alto                        LXI Manual       Manual   \n",
       "5193      Maruti    Alto                        VXI Manual       Manual   \n",
       "5194      Maruti    Eeco      5 STR WITH AC PLUSHTR Manual       Manual   \n",
       "5195     Hyundai   Grand  SPORTZ (O) 1.2 AT VTVT Automatic    Automatic   \n",
       "5196     Hyundai   Creta                1.6 SX CRDI Manual       Manual   \n",
       "\n",
       "      Driven_KM Fuel_type No. of owners  Manufacture_year   Location  \\\n",
       "0      9,510 km    Petrol     1st Owner              2021  Ahmedabad   \n",
       "1      8,339 km    Petrol     1st Owner              2016  Ahmedabad   \n",
       "2     21,596 km    Petrol     2nd Owner              2020  Ahmedabad   \n",
       "3     16,885 km    Petrol     1st Owner              2019  Ahmedabad   \n",
       "4     14,469 km    Petrol     1st Owner              2020  Ahmedabad   \n",
       "...         ...       ...           ...               ...        ...   \n",
       "5192  51,233 km    Petrol     1st Owner              2019      Kochi   \n",
       "5193  76,693 km    Petrol     1st Owner              2015      Kochi   \n",
       "5194  14,835 km    Petrol     1st Owner              2020      Kochi   \n",
       "5195  23,695 km    Petrol     2nd Owner              2017      Kochi   \n",
       "5196  54,729 km    Diesel     1st Owner              2018      Kochi   \n",
       "\n",
       "           Price  \n",
       "0     ₹10,67,499  \n",
       "1      ₹3,37,599  \n",
       "2     ₹10,39,099  \n",
       "3      ₹5,82,299  \n",
       "4      ₹5,82,999  \n",
       "...          ...  \n",
       "5192   ₹3,16,399  \n",
       "5193   ₹2,56,899  \n",
       "5194   ₹4,43,999  \n",
       "5195   ₹5,26,719  \n",
       "5196  ₹10,93,999  \n",
       "\n",
       "[5197 rows x 10 columns]"
      ]
     },
     "execution_count": 2,
     "metadata": {},
     "output_type": "execute_result"
    }
   ],
   "source": [
    "import pandas as pd\n",
    "df = pd.read_excel(r'car_data.xlsx')\n",
    "df"
   ]
  },
  {
   "cell_type": "code",
   "execution_count": 3,
   "id": "43a17f02",
   "metadata": {},
   "outputs": [
    {
     "data": {
      "text/plain": [
       "(5197, 10)"
      ]
     },
     "execution_count": 3,
     "metadata": {},
     "output_type": "execute_result"
    }
   ],
   "source": [
    "#Get the numbers of rows and columns.\n",
    "df.shape"
   ]
  },
  {
   "cell_type": "code",
   "execution_count": 4,
   "id": "0b37a1c0",
   "metadata": {},
   "outputs": [
    {
     "data": {
      "text/plain": [
       "Index(['Brand', 'Model', 'Variant', 'Transmission', 'Driven_KM', 'Fuel_type',\n",
       "       'No. of owners', 'Manufacture_year', 'Location', 'Price'],\n",
       "      dtype='object')"
      ]
     },
     "execution_count": 4,
     "metadata": {},
     "output_type": "execute_result"
    }
   ],
   "source": [
    "#Check column of the dataframe.\n",
    "df.columns"
   ]
  },
  {
   "cell_type": "code",
   "execution_count": 5,
   "id": "4b224630",
   "metadata": {},
   "outputs": [
    {
     "data": {
      "text/plain": [
       "Brand               object\n",
       "Model               object\n",
       "Variant             object\n",
       "Transmission        object\n",
       "Driven_KM           object\n",
       "Fuel_type           object\n",
       "No. of owners       object\n",
       "Manufacture_year     int64\n",
       "Location            object\n",
       "Price               object\n",
       "dtype: object"
      ]
     },
     "execution_count": 5,
     "metadata": {},
     "output_type": "execute_result"
    }
   ],
   "source": [
    "#Get the column datatypes.\n",
    "df.dtypes"
   ]
  },
  {
   "cell_type": "code",
   "execution_count": 6,
   "id": "51dfa728",
   "metadata": {},
   "outputs": [
    {
     "name": "stdout",
     "output_type": "stream",
     "text": [
      "<class 'pandas.core.frame.DataFrame'>\n",
      "RangeIndex: 5197 entries, 0 to 5196\n",
      "Data columns (total 10 columns):\n",
      " #   Column            Non-Null Count  Dtype \n",
      "---  ------            --------------  ----- \n",
      " 0   Brand             5197 non-null   object\n",
      " 1   Model             5197 non-null   object\n",
      " 2   Variant           5197 non-null   object\n",
      " 3   Transmission      5117 non-null   object\n",
      " 4   Driven_KM         5197 non-null   object\n",
      " 5   Fuel_type         5197 non-null   object\n",
      " 6   No. of owners     5197 non-null   object\n",
      " 7   Manufacture_year  5197 non-null   int64 \n",
      " 8   Location          5197 non-null   object\n",
      " 9   Price             5197 non-null   object\n",
      "dtypes: int64(1), object(9)\n",
      "memory usage: 406.1+ KB\n"
     ]
    }
   ],
   "source": [
    "#Basic information about dataset.\n",
    "df.info()"
   ]
  },
  {
   "cell_type": "code",
   "execution_count": 7,
   "id": "1f13c2f1",
   "metadata": {},
   "outputs": [
    {
     "data": {
      "text/plain": [
       "Brand                0\n",
       "Model                0\n",
       "Variant              0\n",
       "Transmission        80\n",
       "Driven_KM            0\n",
       "Fuel_type            0\n",
       "No. of owners        0\n",
       "Manufacture_year     0\n",
       "Location             0\n",
       "Price                0\n",
       "dtype: int64"
      ]
     },
     "execution_count": 7,
     "metadata": {},
     "output_type": "execute_result"
    }
   ],
   "source": [
    "#Get a count of the empty values for each column.\n",
    "df.isna().sum()"
   ]
  },
  {
   "cell_type": "code",
   "execution_count": 8,
   "id": "2db1bc0f",
   "metadata": {},
   "outputs": [
    {
     "data": {
      "text/plain": [
       "True"
      ]
     },
     "execution_count": 8,
     "metadata": {},
     "output_type": "execute_result"
    }
   ],
   "source": [
    "#Check any missing/null values in the dataset.\n",
    "df.isnull().values.any()"
   ]
  },
  {
   "cell_type": "code",
   "execution_count": 9,
   "id": "1c6cb348",
   "metadata": {},
   "outputs": [
    {
     "data": {
      "text/plain": [
       "<AxesSubplot:>"
      ]
     },
     "execution_count": 9,
     "metadata": {},
     "output_type": "execute_result"
    },
    {
     "data": {
      "image/png": "[encoded data removed]",
      "text/plain": [
       "<Figure size 432x288 with 2 Axes>"
      ]
     },
     "metadata": {
      "needs_background": "light"
     },
     "output_type": "display_data"
    }
   ],
   "source": [
    "#Checking for null values using heatmap.\n",
    "sns.heatmap(df.isnull())"
   ]
  },
  {
   "cell_type": "code",
   "execution_count": 10,
   "id": "02cfeec5",
   "metadata": {},
   "outputs": [],
   "source": [
    "#Replacing NA values of object type with mode using SimpleImputer function.\n",
    "from sklearn.impute import SimpleImputer\n",
    "imp = SimpleImputer(strategy = \"most_frequent\")\n",
    "df['Transmission'] = imp.fit_transform(df['Transmission'].values.reshape(-1,1))"
   ]
  },
  {
   "cell_type": "code",
   "execution_count": 11,
   "id": "a8ab8273",
   "metadata": {},
   "outputs": [
    {
     "data": {
      "text/plain": [
       "Brand               0\n",
       "Model               0\n",
       "Variant             0\n",
       "Transmission        0\n",
       "Driven_KM           0\n",
       "Fuel_type           0\n",
       "No. of owners       0\n",
       "Manufacture_year    0\n",
       "Location            0\n",
       "Price               0\n",
       "dtype: int64"
      ]
     },
     "execution_count": 11,
     "metadata": {},
     "output_type": "execute_result"
    }
   ],
   "source": [
    "#Get a count of the empty values for each column.\n",
    "df.isna().sum()"
   ]
  },
  {
   "cell_type": "code",
   "execution_count": 12,
   "id": "1ae6d26d",
   "metadata": {},
   "outputs": [],
   "source": [
    "# Replace unnecessary values.\n",
    "df['Driven_KM'] = df['Driven_KM'].str.replace('km','')\n",
    "df['Driven_KM'] = df['Driven_KM'].str.replace(',','')\n",
    "df['Price'] = df['Price'].str.replace('₹','')\n",
    "df['Price'] = df['Price'].str.replace(',','')"
   ]
  },
  {
   "cell_type": "code",
   "execution_count": 13,
   "id": "3edbf31c",
   "metadata": {},
   "outputs": [
    {
     "data": {
      "text/html": [
       "<div>\n",
       "<style scoped>\n",
       "    .dataframe tbody tr th:only-of-type {\n",
       "        vertical-align: middle;\n",
       "    }\n",
       "\n",
       "    .dataframe tbody tr th {\n",
       "        vertical-align: top;\n",
       "    }\n",
       "\n",
       "    .dataframe thead th {\n",
       "        text-align: right;\n",
       "    }\n",
       "</style>\n",
       "<table border=\"1\" class=\"dataframe\">\n",
       "  <thead>\n",
       "    <tr style=\"text-align: right;\">\n",
       "      <th></th>\n",
       "      <th>Brand</th>\n",
       "      <th>Model</th>\n",
       "      <th>Variant</th>\n",
       "      <th>Transmission</th>\n",
       "      <th>Driven_KM</th>\n",
       "      <th>Fuel_type</th>\n",
       "      <th>No. of owners</th>\n",
       "      <th>Manufacture_year</th>\n",
       "      <th>Location</th>\n",
       "      <th>Price</th>\n",
       "    </tr>\n",
       "  </thead>\n",
       "  <tbody>\n",
       "    <tr>\n",
       "      <th>0</th>\n",
       "      <td>Mahindra</td>\n",
       "      <td>XUV</td>\n",
       "      <td>1.2 W6 MT</td>\n",
       "      <td>Manual</td>\n",
       "      <td>9510</td>\n",
       "      <td>Petrol</td>\n",
       "      <td>1st Owner</td>\n",
       "      <td>2021</td>\n",
       "      <td>Ahmedabad</td>\n",
       "      <td>1067499</td>\n",
       "    </tr>\n",
       "    <tr>\n",
       "      <th>1</th>\n",
       "      <td>Maruti</td>\n",
       "      <td>Alto</td>\n",
       "      <td>VXI Manual</td>\n",
       "      <td>Manual</td>\n",
       "      <td>8339</td>\n",
       "      <td>Petrol</td>\n",
       "      <td>1st Owner</td>\n",
       "      <td>2016</td>\n",
       "      <td>Ahmedabad</td>\n",
       "      <td>337599</td>\n",
       "    </tr>\n",
       "    <tr>\n",
       "      <th>2</th>\n",
       "      <td>Maruti</td>\n",
       "      <td>Ertiga</td>\n",
       "      <td>ZXI Plus SHVS Manual</td>\n",
       "      <td>Manual</td>\n",
       "      <td>21596</td>\n",
       "      <td>Petrol</td>\n",
       "      <td>2nd Owner</td>\n",
       "      <td>2020</td>\n",
       "      <td>Ahmedabad</td>\n",
       "      <td>1039099</td>\n",
       "    </tr>\n",
       "    <tr>\n",
       "      <th>3</th>\n",
       "      <td>Maruti</td>\n",
       "      <td>Swift</td>\n",
       "      <td>LXI Manual</td>\n",
       "      <td>Manual</td>\n",
       "      <td>16885</td>\n",
       "      <td>Petrol</td>\n",
       "      <td>1st Owner</td>\n",
       "      <td>2019</td>\n",
       "      <td>Ahmedabad</td>\n",
       "      <td>582299</td>\n",
       "    </tr>\n",
       "    <tr>\n",
       "      <th>4</th>\n",
       "      <td>Volkswagen</td>\n",
       "      <td>Polo</td>\n",
       "      <td>Trendline 1.0 L Petrol Manual</td>\n",
       "      <td>Manual</td>\n",
       "      <td>14469</td>\n",
       "      <td>Petrol</td>\n",
       "      <td>1st Owner</td>\n",
       "      <td>2020</td>\n",
       "      <td>Ahmedabad</td>\n",
       "      <td>582999</td>\n",
       "    </tr>\n",
       "  </tbody>\n",
       "</table>\n",
       "</div>"
      ],
      "text/plain": [
       "        Brand   Model                        Variant Transmission Driven_KM  \\\n",
       "0    Mahindra     XUV                      1.2 W6 MT       Manual     9510    \n",
       "1      Maruti    Alto                     VXI Manual       Manual     8339    \n",
       "2      Maruti  Ertiga           ZXI Plus SHVS Manual       Manual    21596    \n",
       "3      Maruti   Swift                     LXI Manual       Manual    16885    \n",
       "4  Volkswagen    Polo  Trendline 1.0 L Petrol Manual       Manual    14469    \n",
       "\n",
       "  Fuel_type No. of owners  Manufacture_year   Location    Price  \n",
       "0    Petrol     1st Owner              2021  Ahmedabad  1067499  \n",
       "1    Petrol     1st Owner              2016  Ahmedabad   337599  \n",
       "2    Petrol     2nd Owner              2020  Ahmedabad  1039099  \n",
       "3    Petrol     1st Owner              2019  Ahmedabad   582299  \n",
       "4    Petrol     1st Owner              2020  Ahmedabad   582999  "
      ]
     },
     "execution_count": 13,
     "metadata": {},
     "output_type": "execute_result"
    }
   ],
   "source": [
    "# Get the first five rows of dataframe.\n",
    "df.head()"
   ]
  },
  {
   "cell_type": "code",
   "execution_count": 14,
   "id": "297f38a6",
   "metadata": {},
   "outputs": [],
   "source": [
    "# Convert some object type into numeric type.\n",
    "df['Driven_KM'] = pd.to_numeric(df['Driven_KM'])\n",
    "df['Price'] = pd.to_numeric(df['Price'])"
   ]
  },
  {
   "cell_type": "code",
   "execution_count": 15,
   "id": "51001ac8",
   "metadata": {},
   "outputs": [
    {
     "data": {
      "text/plain": [
       "Brand               object\n",
       "Model               object\n",
       "Variant             object\n",
       "Transmission        object\n",
       "Driven_KM            int64\n",
       "Fuel_type           object\n",
       "No. of owners       object\n",
       "Manufacture_year     int64\n",
       "Location            object\n",
       "Price                int64\n",
       "dtype: object"
      ]
     },
     "execution_count": 15,
     "metadata": {},
     "output_type": "execute_result"
    }
   ],
   "source": [
    "# Get the column datatypes.\n",
    "df.dtypes"
   ]
  },
  {
   "cell_type": "code",
   "execution_count": 16,
   "id": "b2decf28",
   "metadata": {},
   "outputs": [
    {
     "name": "stdout",
     "output_type": "stream",
     "text": [
      "Brand : ['Mahindra' 'Maruti' 'Volkswagen' 'KIA' 'Renault' 'Hyundai' 'Ford'\n",
      " 'Toyota' 'Skoda' 'MG' 'Honda' 'Audi' 'Jeep' 'Tata' 'Datsun' 'Mercedes'\n",
      " 'Nissan' 'BMW' 'Jaguar']\n",
      "Maruti        2431\n",
      "Hyundai       1185\n",
      "Honda          357\n",
      "Ford           255\n",
      "Renault        196\n",
      "Toyota         133\n",
      "Tata           126\n",
      "Mahindra       105\n",
      "Volkswagen      77\n",
      "MG              75\n",
      "KIA             52\n",
      "Jeep            51\n",
      "Audi            43\n",
      "Nissan          27\n",
      "Skoda           26\n",
      "Datsun          24\n",
      "Mercedes        17\n",
      "BMW             13\n",
      "Jaguar           4\n",
      "Name: Brand, dtype: int64\n",
      "____________________________________________\n",
      "Model : ['XUV' 'Alto' 'Ertiga' 'Swift' 'Polo' 'SELTOS' 'New' 'Kiger' 'i10' 'Thar'\n",
      " 'Endeavour' 'Kwid' 'XUV500' 'Celerio' 'VENUE' 'Vitara' 'Etios' 'Baleno'\n",
      " 'Eeco' 'KUSHAQ' 'HECTOR' 'Elite' 'Grand' 'Octavia' 'Amaze' 'S' 'Dzire'\n",
      " 'A3' 'Jazz' 'Creta' 'IGNIS' 'Compass' 'NEW' 'AURA' 'Harrier' 'Xcent'\n",
      " 'Brio' 'Eon' 'Verna' 'City' 'Rapid' 'Wagon' 'TUV300' 'Vento' 'NEXON'\n",
      " 'Ecosport' 'Redi' 'i20' 'GRAND' 'ALTROZ' 'Ciaz' 'Captur' 'XL6' 'WR-V'\n",
      " 'Tucson' 'FREESTYLE' 'Innova' 'Fortuner' 'Ritz' 'Corolla' 'TRIBER'\n",
      " 'Duster' 'Tiago' 'URBAN' 'Sonata' 'Benz' 'Hexa' 'Micra' 'Scorpio' 'Figo'\n",
      " 'Civic' 'Superb' 'Ameo' 'TIGOR' 'CRV' 'Glanza' 'YARIS' 'Terrano'\n",
      " 'MARAZZO' '3' 'SONET' 'A4' 'X3' 'MAGNITE' 'Safari' 'Q3' 'Zen' 'A6' 'X1'\n",
      " 'Q5' '5' 'XF' 'Kuv100' 'Nano' 'Pulse' 'BR-V' 'Zest' 'Santro' 'Go'\n",
      " 'Accent' 'A' 'TIAGO' 'Xylo' 'PUNCH' 'Kicks']\n",
      "Alto      501\n",
      "Swift     420\n",
      "Baleno    347\n",
      "Grand     306\n",
      "Vitara    224\n",
      "         ... \n",
      "KUSHAQ      1\n",
      "Accent      1\n",
      "Sonata      1\n",
      "Pulse       1\n",
      "Kicks       1\n",
      "Name: Model, Length: 105, dtype: int64\n",
      "____________________________________________\n",
      "Variant : ['1.2 W6 MT' 'VXI Manual' 'ZXI Plus SHVS Manual' 'LXI Manual'\n",
      " 'Trendline 1.0 L Petrol Manual' 'HTK PLUS 1.5 PETROL Manual'\n",
      " 'VXI 1.0 Manual' 'HIGHLINE1.2L PETROL Manual' 'RXZ AMT 1.0 DUAL TONE'\n",
      " 'SPORTZ 1.1 IRDE2 Manual' 'LX PETROL AT 4WD Automatic'\n",
      " '2.2l 4X2 AT Trend Automatic' '1.0 RXT Opt Manual' 'W9 Manual'\n",
      " 'ZXI Manual' '1.0L Turbo GDI SX(O) MT Manual'\n",
      " 'COMFORTLINE 1.0 PETROL Manual' 'LXI 1.0 L Manual' 'GD Manual'\n",
      " 'GT TSI AT 1.0 Automatic' 'ZETA 1.2 K12 CVT Automatic'\n",
      " 'VXI AMT Automatic' '5 STR WITH AC PLUSHTR Manual' 'STYLE 1.0TSI AT'\n",
      " 'SHARP DCT PETROL Automatic' '1.0 TURBO GDI SX+ AT Automatic'\n",
      " 'RXL Manual' 'ASTA 1.2 Manual' 'SPORTZ 1.2 KAPPA VTVT Manual'\n",
      " 'HTK PLUS 1.5 DIESEL Manual' '1.8 TSI STYLE PLUS AT Automatic'\n",
      " '1.2 SMT I VTEC Manual' 'VXI PLUS Manual' 'ZDI PLUS DUAL TONE Manual'\n",
      " 'DELTA 1.2 K12 Manual' 'Magna Executive 1.2 Manual'\n",
      " '35TDI PREMIUM Automatic' 'Zxi Manual' 'ZXI 1.2 Manual'\n",
      " 'SX 1.0 GDI IMT Manual' 'ZXI+ Manual' '1.2 V MT Manual'\n",
      " 'SX PETROL MT Manual' 'ASTA 1.2 (O) Manual' 'SIGMA 1.2 K12 Manual'\n",
      " 'MAGNA 1.2 VTVT Manual' '1.2 SV MT Manual' 'SPORT PLUS PETROL Manual'\n",
      " 'ERA 1.1 Manual' 'SPORTZ 1.2 Manual' 'HTK 1.5 PETROL Manual'\n",
      " 'MAGNA 1.1 IRDE2 Manual' '1.1 SPORTS AMT Automatic' 'SX (O) MT'\n",
      " 'ZETA 1.2 K12 Manual' 'MAGNA 1.2 KAPPA VTVT Manual'\n",
      " 'XM 2.0L Kryotec Manual' 'S 1.2 Manual' '1.2 VX AT I VTEC Automatic'\n",
      " 'XT 2.0L Kryotec Manual' 'VXI 1.2L Manual' 'ERA PLUS Manual'\n",
      " '1.5 SX (O) Manual' 'Neotech Petrol 1.0 Manual'\n",
      " 'HIGH LINE PLUS 1.0 Manual' '1.6 SX VTVT Manual'\n",
      " 'LX 4WD AT CONVERTIBLE Automatic' 'V MT PETROL Manual'\n",
      " 'SX+ AT 1.2CRDI Automatic' 'ZDI+ DUAL TONE AMT Automatic'\n",
      " 'S MT 1.2 KAPPA Manual' 'SPORTS 1.2 VTVT Manual' 'ZXI AMT Automatic'\n",
      " 'VX CVT PETROL Automatic' 'AMBITION 1.6 MPFI MT Manual'\n",
      " 'XT+ 2.0 KRYOTEC Manual' 'T8 Manual' 'ZX CVT Automatic'\n",
      " '1.6 SX (O) CRDI Manual' '1.0 CLIMBER OPT Manual' 'SPORTZ 1.1 Manual'\n",
      " '1.6 VTVT SX AUTO Automatic' 'HIGHLINE PETROL Manual'\n",
      " 'DELTA DDIS 190 Manual' 'ALPHA SHVS Manual' '2.0 LIMITED Manual'\n",
      " 'XZ 1.2 Manual' '1.5TITANIUM TDCI Manual' 'Asta 1.0 GDI Turbo IMT'\n",
      " '1.6 SX CRDI Manual' 'SHARP 2.0 DIESEL Manual'\n",
      " '1.5 TITANIUM PLUS TI VCT AT Automatic' 'S 1.0 Manual' 'ZETA AT 1.5 SHVS'\n",
      " 'ASTA (O) 1.2 MT' 'ZXI + Manual' '1.2 S Manual' 'VX 1.2 Manual'\n",
      " 'E PLUS Manual' 'ALPHA 1.2 K12 Manual' 'SHARP HYBRID 1.5 DUAL TONE'\n",
      " 'SX PETROL AT Automatic' 'SPORTZ PETROL Manual' 'ZETA 1.3 SHVS Manual'\n",
      " 'ASTA (O) 1.0 TURBO GDI AT Automatic' 'GTX 1.4 GDI AT PETROL Automatic'\n",
      " 'SV MT EDGE EDITION PETROL Manual' 'ZX MT PETROL Manual' 'VDI Manual'\n",
      " 'T (O) Manual' 'XZ 1.5 RTQ' '1.5 TITANIUMTDCI OPT Manual'\n",
      " 'XZ+ 1.2 RTN DARK EDITION' 'LIMITED 1.4 AT Automatic' 'Zxi AMT Automatic'\n",
      " 'ZETA 1.4 VVT Manual' '1.2 KAPPA SPORTZ (O) Manual'\n",
      " 'RS 1.0 PETROL Manual' '1.5 TITANIUM TI VCT Manual'\n",
      " 'COMFORTLINE 1.0 TSI MT Manual' '1.2 VXMT I VTEC Manual'\n",
      " '1.5 PLATINE DIESEL Manual' '2.0 LIMITED 4*2 Manual' 'V CVT Automatic'\n",
      " 'VX MT PETROL Manual' 'LXI CNG (O) Manual' 'ALPHA SHVS MT Manual'\n",
      " 'ZETA SHVS PETROL Manual' 'SPORTZ O 1.2 Manual'\n",
      " 'ZETA 1.4 VVT AMT Automatic' '1.2 i-VTEC VX MT Manual'\n",
      " '1.6 SX AT O Automatic' '1.6 CRDI SX PLUS AUTO Automatic'\n",
      " 'LK 1.8 TSI AT Automatic' 'ZX MT PETROL' 'Sportz(O) 1.2 MT Manual'\n",
      " '2WD AT GL PETROL Automatic' 'HIGHLINE PLUS TDI AT Automatic'\n",
      " '1.6 SX AT PETROL Automatic' 'XZ+ 1.2 DUAL TONE Manual'\n",
      " 'TITANIUM + 1.2 TI-VCT Manual' 'T (O) 1.0 LIMITED EDITION'\n",
      " 'RXT PETROL Manual' 'W7 FWD Manual' 'RXT Manual'\n",
      " '2.5 VX 8 STR BS IV Manual' '1.6 CRDI SX + AT Automatic'\n",
      " '1.1 MAGNA CNG MT Manual' '3.0 AT 4X2 Automatic' 'G Manual'\n",
      " 'TRENDLINE 1.2L PETROL Manual' 'RXZ AT Automatic'\n",
      " '1.2 SAT I VTEC Automatic' 'SPORTZ 1.2 VTVT Manual'\n",
      " '110 PS RXZ DIESEL PLUS Manual' 'VDI BS IV Manual' 'GTX+ 1.4 MT Manual'\n",
      " '2.8 ZX AT 7 STR Automatic' 'XZ 1.2 REVOTRON Manual'\n",
      " 'Highline 1.0 TSI MT Manual' 'GT TSI 1.2 PETROL AT Automatic'\n",
      " 'PREMIUM DUAL TONE AT' 'RXT Opt Manual' '1.0 RXT Opt AT Automatic'\n",
      " '2.4 GDI AT Automatic' 'EDITION C Automatic' 'RXZ Manual'\n",
      " '1.0 RXZ Manual' 'S PETROL MT Manual' '1.5 GTX+ AT Automatic'\n",
      " 'ZDI Manual' 'Varicor 400 XT Manual' 'MAGNA 1.2 Manual'\n",
      " 'S 1.2 OPT Manual' 'ZXI OPT Manual' 'ZXI+ AT SHVS Automatic'\n",
      " 'SPORTZ 1.2 AT KAPPA2 Automatic' '1.0 RXT Manual' 'VXI (O) 1.2L Manual'\n",
      " '1.6 E + VTVT Manual' '1.2 S MT Manual' 'VX 1.2 CVT Automatic'\n",
      " 'VXI (O) Manual' 'ASTA 1.2 O Manual' 'XV Manual'\n",
      " 'RXT 1.0 EASY-R AT OPTION Automatic' 'S10 Intelli Hybrid 2WD Manual'\n",
      " 'VXI PLUS AGS Automatic' 'FLUIDIC 1.6 VTVT S Manual'\n",
      " '1.5 AMBIENTE TDCI Manual' 'VXI OPT Manual' 'SPORTZ 1.2 O Manual'\n",
      " 'W11 (O) Manual' 'G AT Automatic' 'magna 1.2 crdi Manual'\n",
      " '1.6 SX AT CRDI Automatic' 'J S Manual' 'MAGNA CNG Manual'\n",
      " 'ASTA 1.2 KAPPA VTVT Manual' 'VL AT Automatic'\n",
      " 'S4+Intelli Hybrid 2WD Manual' 'LXI OPT Manual' 'W8(O) Manual'\n",
      " 'DELTA 1.5 SHVS VVT MT Manual' 'XZA 1.2 REVOTRON Automatic'\n",
      " '1.2 SPORTS PLUS VTVT Manual' 'W11 AT Automatic' '1.2 E MT Manual'\n",
      " 'XZ 2.0L Kryotec Manual' '1.2 EMT I VTEC Manual' 'ZXI Plus AMT Automatic'\n",
      " '1.2 W8 OPT' 'SMART DIESEL Manual' '1.2 TITANIUM PETROL Manual'\n",
      " 'VXI CNG Manual' '1.2 V AT Automatic' '1.6 SX VTVT (O) EXECUTIVE Manual'\n",
      " '1.5AMBIENTE TI VCT Manual' 'ASTA 1.1 MT Manual' 'DELTA 1.4 VVT Manual'\n",
      " 'XZ+ DARK EDITION Manual' 'SIGMA 1.4 VVT Manual' 'MAGNA PLUS Manual'\n",
      " '1.5 TREND TI VCT Manual' '1.6 SX PLUS AUTO PETROL Automatic'\n",
      " 'VXI CNG OPT Manual' 'ZX CVT PETROL Automatic' '1.2 EXMT I VTEC Manual'\n",
      " '1.4 E PLUS CRDI Manual' '1.8 TSI STYLE AT Automatic'\n",
      " '2.0 LONGITUDE (O) Manual' 'HIGHLINE 1.2 Manual' 'VDI AMT Automatic'\n",
      " 'VX CVT i-VTEC' '1.2 TSI HIGHLINE PLUS AT Automatic' 'VDI OPT Manual'\n",
      " 'ZDI SHVS Manual' 'VX DIESEL Manual' 'HIGHLINE TDI AT Automatic'\n",
      " 'SHARP HYBIRD PETROL MT Manual' '2.0 SPORT Manual'\n",
      " 'Revotron XZA 1.2 Automatic' 'T 10 AT Automatic'\n",
      " 'MAGNA O 1.4 CRDI Manual' '2.0 LONGITUDE Manual' 'ASTA 1.4 CRDI Manual'\n",
      " 'ACTIVE 1.0 TSI Manual' 'SV MT PETROL Manual'\n",
      " '1.2 V CVT I VTEC Automatic' '2.0 SX (O) AT Automatic'\n",
      " 'HIGHLINE 1.2 TSI AT Automatic' 'ZDI+ Manual' '1.4 CRDI S MT Manual'\n",
      " '1.0L Turbo GDI SX MT Manual' 'COMFORTLINE 1.0 Manual'\n",
      " '2.4 AT 4WD AVN Automatic' '1.5 TITANIUM TI VCT AT Automatic'\n",
      " 'FLUIDIC 1.6 SX VTVT Manual' '1.2 ASTA (O) CVT Automatic' 'XV S Manual'\n",
      " '1.5 TREND TDCI Manual' 'Varicor 400 XTA Automatic'\n",
      " '1.6 SX (O) AT CRDI Automatic' 'SPORTZ CNG MT Manual'\n",
      " '1.6 SX (O) CRDI MT Manual' 'LIMITED (O) 2.0 4*4 Manual'\n",
      " 'G MT PETROL Manual' 'STYLE 1.0 AT Automatic' 'V Manual'\n",
      " 'ALPHA DDIS 190 Manual' 'SHARP DCT' '1.0 AMBITION TSI AT Automatic'\n",
      " 'XZA + 1.2 PETROL A/T Automatic' 'XZ PLUS 1.2 REVOTRON Manual'\n",
      " '2.0 TDI CR LK AT Automatic' 'G CVT Automatic' '1.4 SX Manual'\n",
      " 'XZ+ OPT PETROL Manual' 'ZETA 1.2 K12 AMT Automatic'\n",
      " '1.6 SX VTVT AT (O) Automatic' '1.5 TREND DIESEL Manual'\n",
      " '1.0 SX TURBO GDI DUAL TONE Manual' 'ALPHA 1.2 K12 AMT Automatic'\n",
      " 'Zeta 1.2 K12 SHVS' 'VX CVT' 'ZETA SHVS Manual' 'VX CVT Automatic'\n",
      " 'ZDI PLUS Manual' 'ALPHA 1.4 VVT Manual' 'ZDI Plus Manual'\n",
      " 'LXI CNG Manual' 'XL PLUS 85 PS DEISEL Manual' 'SIGMA 1.3 Manual'\n",
      " 'HIGHLINE PLUS 1.5 Manual' '1.4 GTX+ TURBO GDI PETROL AT Automatic'\n",
      " '1.6 SX (O) VTVT Manual' 'DELTA 1.3 Manual' 'G MT Manual' 'M8 7 STR'\n",
      " '1.4 LIMITED PLUS AT Automatic' 'LIMITED O 1.4 AT Automatic'\n",
      " 'SHARP CVT Automatic' '1.5 i-DTEC VX MT Manual'\n",
      " '2WD AT GL DIESEL Automatic' 'MAGNA O 1.2 Manual'\n",
      " 'ZXI SMART HYBRID AT Automatic' '320D Automatic' 'VXI 1.2 BS IV Manual'\n",
      " 'W11 (O) AT Automatic' 'GTX PLUS 1.5 DCT AT' 'XE 1.2 REVOTRON Manual'\n",
      " '2.5 GX 8 STR BS IV Manual' 'SX (O) DIESEL AT Automatic' '1.2 Manual'\n",
      " 'ZETA 1.3 Manual' 'GTX + AT PETROL Automatic'\n",
      " 'C 200 AVANTGARDE Automatic' 'ERA 1.1 IRDE Manual'\n",
      " 'SHARP HYBRID PETROL Manual' '1.2 MAGNA PLUS VTVT Manual'\n",
      " '1.4 LONGITUDE (O) AT Automatic' 'XE DIESEL Manual'\n",
      " 'ALPHA 1.5 MT VTVT SHVS Manual' 'E 250 CDI AVANTGARDE Automatic'\n",
      " '2.0 TDI S LINE Automatic' 'XDRIVE 20D Automatic' 'S MT PETROL Manual'\n",
      " 'ERA 1.4 CRDI Manual' 'GTX + 1.0 IMT' 'XTA 1.2 PETROL Automatic'\n",
      " 'ALPHA 1.5 AT SHVS Automatic' 'XL Turbo MT'\n",
      " '1.5 TITANIUM SIGNATURE (SUNROOF) TDCI Manual' 'RXS 106 PS MT Manual'\n",
      " 'VDI ABS Manual' 'RXZ 1.0 TURBO MT' 'SX(O) CRDi Manual'\n",
      " 'SPORTZ 1.4 CRDI Manual' '1.2 E MT I VTEC Manual' '1.1 MAGNA MT Manual'\n",
      " 'XMA SUNROOF 1.2 RTN Automatic' 'VX EXCLUSIVE CVT Automatic'\n",
      " 'W8 FWD Manual' 'VXI AT Automatic' '1.2 i-VTEC S MT Manual'\n",
      " 'LDI BS IV Manual' 'CROSS VD Manual' '1.2 S I VTEC Manual'\n",
      " '1.2 SX MT I VTEC Manual' '1.2 ZX MT Manual' 'SUPER DIESEL Manual'\n",
      " '1.6 S Manual' 'ZXI 1.2 BS IV Manual' '1.5 SX CRDI MT Manual'\n",
      " '1.4 S CRDI Manual' '2WD AT GLS PETROL Automatic'\n",
      " '1.6 SX PLUS PETROL Manual' 'GL Manual' 'XZ+ 1.5 Manual'\n",
      " 'XE 2.0 KRYOTEC Manual' 'LX D 4*4 MT HT Manual' 'G SP Manual'\n",
      " '1.8 G Manual' 'CRDE 4X4 BS IV Manual' 'W8 FWD AT Automatic'\n",
      " 'LXI CNG 1.0 L Manual' '1.2 VX MT I VTEC Manual' '85 PS RXL OPT Manual'\n",
      " 'VX MT DIESEL Manual' '2.0 TDI PREMIUM Automatic' '85 PS RXE Manual'\n",
      " '1.5 TDCI TITANIUM PLUS Manual' '2.0 TDI MT S EDITION Manual'\n",
      " 'ZDI Plus AMT Automatic' 'V MT DIESEL Manual' 'ZETA DDIS 190 Manual'\n",
      " 'S10 Manual' 'VDI+ SHVS Manual' 'D 4D J Manual'\n",
      " '35 TDI Quattro Automatic' 'ZDI + AMT Automatic' 'VX Manual'\n",
      " '2.0 TDI TECHNOLOGY Automatic' 'HIGHLINE PLUS DSG 1.5 Automatic'\n",
      " 'ZDI AMT Automatic' '35 TDI S LINE Automatic'\n",
      " 'DELTA 1.3 DDIS SHVS Manual' 'SDRIVE 20D Automatic'\n",
      " '2.0 TDI STYLE PLUS AT Automatic' '1.4 S PLUS Manual'\n",
      " 'S MT Turbo GDI 1.0L Manual' 'LDI O Manual' '2.0 TDI QUATTRO Automatic'\n",
      " 'VDI (O) SHVS HYBIRD Manual' 'FLUIDIC 1.4 EX CRDI Manual'\n",
      " 'GD exclusive Manual' 'E 220 CDI ELEGANCE Automatic'\n",
      " '1.4 CRDI ASTA (O) Manual' '1.5 TREND+ TDCI Manual'\n",
      " 'FLUIDIC 1.6 SX CRDI Manual' 'ALPHA 1.3 Manual' 'ASTA 1.1 CRDI Manual'\n",
      " '1.5 EMT I DTEC Manual' 'D 4D G Manual' 'S MT DIESEL Manual'\n",
      " '85 PS RXL Manual' '3.0 MT 4X2 Manual' '30 TDI PREMIUM PLUS Automatic'\n",
      " 'SPORTZ (O) 1.4 Manual' 'E 220 CDI AVANTGARDE Manual'\n",
      " 'XL 85 PS DEISEL Manual' '520D LUXURY LINE Automatic'\n",
      " '2.5 VX 7 STR BS IV Manual' 'VXI 1.3 Manual' '1.6 SX VTVT (O) Manual'\n",
      " '2.2 DIESEL Automatic' 'S CNG Manual' 'MAGNA 1.2 MT'\n",
      " 'RXT 1.0 AMT Automatic' 'V AT Automatic' '1.0 LXI (O) Manual'\n",
      " 'K4+ 6 STR Manual' 'Varicor 400 XM Manual' '7 STR Manual'\n",
      " 'VDI PLUS Manual' 'D 4D GD Manual' 'FLUIDIC 1.4 VTVT Manual'\n",
      " 'FLUIDIC 1.6 CRDI S Manual' 'S9 Manual' '2.2l 4X4 MT Trend Manual'\n",
      " 'ERA PETROL Manual' 'S7 120 BHP 2WD Manual' 'DELTA 1.2 K12 AMT Automatic'\n",
      " 'SPORTZ 1.4 Manual' 'W6 4X2 Manual' '1.5 SMT I DTEC Manual'\n",
      " 'E MT DIESEL Manual' 'W4 Manual' '30 TDI MT S EDITION Manual'\n",
      " 'XL Turbo CVT' 'PREMIUM MT' '250 CDI ELEGANCE AT Automatic'\n",
      " 'XZ+ 1.2 Revotron Manual' 'Revotron XE Manual' 'SX EXECUTIVE MT Manual'\n",
      " 'XT 1.2 REVOTRON Manual' 'RXZ 1.0 MT' 'RXL EASY R 1.0 L'\n",
      " 'CROSS 1.5 V Manual' 'GTX PLUS DCT 1.0' 'EX 1.6 VTVT AT Automatic'\n",
      " 'S CRDI Manual' 'ZXI + AMT Automatic' 'VXI (O) AMT Automatic'\n",
      " 'TRENDLINE 1.5 Manual' '220 D SPORT 4MATIC Automatic'\n",
      " 'RXL PETROL 104 Manual' 'XT TWIST Manual' 'ASTA 1.2 VTVT Manual'\n",
      " '2.4 AWD AT AVN Automatic' '1.2 S MT I VTEC Manual'\n",
      " '1.4 SPORTS PLUS CRDI Manual' '1.0 CLIMBER OPT AMT Automatic'\n",
      " 'COMFORTLINE 1.2 Manual' 'XZ+ 1.2 Manual' 'SPORTZ (O) 1.2 Manual'\n",
      " 'XL CVT (PETROL) Automatic' 'SPORTZ 1.1 CRDI Manual'\n",
      " 'SPORTZ (O) 1.2 AT VTVT Automatic' '1.4 SPORT PETROL Manual'\n",
      " '1.8V AT Automatic' '1.8 TSI LK AT Automatic' 'ASTA 1.2 (O) VTVT Manual'\n",
      " '1.4 SX(O) TURBO GDI DCT Automatic' 'ZX MT I-DTEC Manual'\n",
      " 'CLIMBER 1.0 AT Automatic' 'ZETA 1.2 K12 DUAL TONE Manual'\n",
      " '1.2 VX CVT I VTEC Automatic' 'SIGMA SHVS Manual'\n",
      " '1.2 ASTA (O) AT Automatic' 'M8 7 STR Manual' 'ASTA 1.2 AT Automatic'\n",
      " 'J CVT Automatic' 'MAGNA 1.4 AT Automatic'\n",
      " '1.0 ECOBOOST TITANIUM SPORTS(SUNROOF) Manual' 'ZETA 1.3 SHVS'\n",
      " 'J MT Manual' 'HIGHLINE DSG 1.5 Automatic' 'XZA+ 1.5 Automatic'\n",
      " '4WD AT GLS DIESEL Automatic' 'CLA 200 CDI SPORT Automatic'\n",
      " 'ZXI SMART HYBRID Manual' 'B200 CDI SPORT Automatic'\n",
      " '1.5 E MT PETROL Manual' 'LDI OPT Manual' 'DELTA 1.6 Manual'\n",
      " 'GTX 1.4 GDI PETROL Manual' 'HTK PLUS' 'RXZ 1.0 AT DUAL TONE'\n",
      " 'MAGNA 1.2 KAPPA2 Manual' 'RXS CVT 106 PS Automatic'\n",
      " '1.0 Turbo GDI DCT AT SX+ DT Automatic' 'HTX+ AT 1.5 DIESEL Automatic'\n",
      " '2.5 V 8 STR Manual' 'XM SUNROOF 1.2 RTN Manual' 'VXI BS IV Manual'\n",
      " 'RXZ DIESEL 110 Manual' 'RXL PLUS DIESEL 85 Manual'\n",
      " '1.0 RXL AT Automatic' 'W10 AT FWD Automatic' 'RX L PETROL Manual'\n",
      " '1.2 ZXI DURATEC Manual' 'HTX 1.5 DIESEL Manual'\n",
      " 'SMART HYBRID PETROL MT Manual' 'SPORTZ 1.2 AT Automatic' 'V MT Manual'\n",
      " 'SPORTZ 1.2 KAPPA2 Manual' 'BASE 1.2 Manual'\n",
      " '1.2 SPORTZ PLUS DUAL TONE VTVT Manual' '2.0 LIMITED PLUS Manual'\n",
      " 'ZXI Plus Manual' 'ASTA AT 1.2 KAPPA VTVT Automatic' 'ZXI AT Automatic'\n",
      " '1.2 S AT Automatic' '1.0 T(O) AT Automatic' 'SPORTZ Manual'\n",
      " '1.5 i-VTEC VX Manual' 'ZXI PLUS Manual' 'HIGHLINE PLUS 1.0 Manual'\n",
      " '1.5 TDI AT STYLE PLUS Automatic'\n",
      " '1.5 TITANIUM SIGNATURE TI VCT (SUNROOF) Manual'\n",
      " 'RXL 110PS EXPLORER Manual' 'SX 1.2 Manual' '1.2 TITANIUM Manual'\n",
      " 'TITANIUM 1.2 TI-VCT MT Manual' 'SPORTZ DUAL TONE 1.2 VTVT Manual'\n",
      " 'VXI PLUS AMT Automatic' 'ZETA AT SHVS Automatic'\n",
      " 'ALPHA 1.2 K12 DUAL TONE Manual' '2WD AT GLS DIESEL Automatic'\n",
      " 'XMS RT Manual' 'HTX AT PETROL Automatic' 'COMFORTLINE MT PETROL Manual'\n",
      " 'FLUIDIC 1.6 VTVT SX AT Automatic' '1.5 TDI MT STYLE Manual'\n",
      " 'Magna 1.2 AT VTVT Automatic' 'M2 8 STR' 'ZDI PLUS SHVS Manual'\n",
      " '1.2 SELECT I VTEC Manual' '1.2 SPORTS PLUS VTVT CVT Automatic'\n",
      " 'E Manual' '2.7 ZX AT 7 STR Automatic' 'SPORTZ 1.4 AT VTVT Automatic'\n",
      " 'RXT 1.0 EASY-R AT Automatic' 'GLS Manual' 'LXI LPG Manual' 'S5 Manual'\n",
      " 'D LITE PLUS Manual' '1.5 TITANIUM DIESEL Manual'\n",
      " 'ELEGANCE 1.6 MPFI MT Manual' '1.2 V MT I VTEC Manual'\n",
      " '3.0 MT 4X4 Manual' 'MAGNA PLUS OPTIONAL Manual' '1.5 SV I DTEC Manual'\n",
      " 'T Manual' 'HIGHLINE PLUS 1.0 TSI AT Automatic' '1.2 VX I-VTECH Manual'\n",
      " '1.0 TURBO GDI S IMT Manual' 'HTX+ MT 1.5 DIESEL Manual'\n",
      " 'STYLE 1.6 MPI MT Manual' 'ERA PLUS (O) Manual'\n",
      " '1.5 TITANIUM AT PETROL Automatic' '2.0 SPORT PLUS Manual'\n",
      " 'DELTA 1.2 K12 AT Automatic' 'SX 1.2 CRDI OPT Manual'\n",
      " 'LIMITED (O) 2.0 Manual' 'DELTA SHVS Manual'\n",
      " 'ASTA 1.2 AT KAPPA2 WITH SUNROOF Automatic'\n",
      " 'TRENDLINE 1.5L DIESEL Manual' 'Magna + CRDI Manual' 'EXECUTIVE Manual'\n",
      " 'VDI SHVS Manual' 'COMFORTLINE 1.2L PETROL Manual' 'Trendline 1.0 Manual'\n",
      " 'HTX 1.5 PETROL MT Manual' 'ASTA 1.2 CRDI Manual' '1.0 RXL PETROL Manual'\n",
      " 'S Manual' 'HIGHLINE PETROL AT Automatic' 'SUPER HYBRID PETROL MT Manual'\n",
      " 'XM+ 1.2 RTN' 'S Plus MT 1.2 Kappa Manual' 'VXI ABS Manual'\n",
      " 'VXI OPT AMT Automatic' '1.5 W6 MT Manual' 'LIMITED PLUS 2.0 4*4 Manual'\n",
      " 'SX 1.2 OPT Manual' 'ALPHA 1.3 DDIS SHVS Manual' 'PETROL'\n",
      " '1.6 SX PLUS VTVT Manual' 'Asta Petrol Manual' '1.5 TREND Manual'\n",
      " '1.0 RXZ' '1.5 EXMT I DTEC Manual' '1.6 SX CRDI'\n",
      " 'Style 1.5 TDI AT Automatic' '1.6 SX+ VTVT AT Automatic'\n",
      " 'ZXI OPT AMT Automatic' 'ASTA 1.2 AT VTVT Automatic' 'XV CVT Automatic'\n",
      " 'Magna Executive Diesel Manual' 'VXI AGS Automatic'\n",
      " '1.0 TURBO SPORTZ Manual' '1.2 CRDI Sportz O Manual'\n",
      " 'MAGNA 1.2 AT Automatic' 'ASTA 1.2 KAPPA VTVT OPT Manual'\n",
      " 'SPORTZ AT 1.2 KAPPA VTVT Automatic' 'VXI' '1.2 SX Manual'\n",
      " 'ALPHA 1.2K12 AT Automatic' 'VXI OPT. MT Manual'\n",
      " 'H8 ABS AIRBAG BS IV Manual' 'S MT 1.2 KAPPA' 'PURE MT' 'Tour H2 Manual'\n",
      " 'TRENDLINE 1.2 Manual' '3.0 S V6 Automatic' 'S 1.2 Kappa MT Manual'\n",
      " '1.2 S CVT I VTEC Automatic' 'W8 (O) Dual tone Diesel Manual' 'XV PETROL'\n",
      " '1.2 Trend+ Petrol Manual' 'SV CVT PETROL Automatic' '1.4 S'\n",
      " 'RXE PETROL MT Manual' 'XZ + 1.2 RTN' '1.5 SIGMA SHVS Manual'\n",
      " 'HTK+ 1.5 D AT' '1.2 TITANIUM+ PETROL Manual' 'SHARP CVT'\n",
      " 'XT QUADRAJET 90PS Manual' 'GL PLUS Manual' 'RXZ 85 PS DIESEL Manual'\n",
      " 'V MT PETROL' 'HTE 1.5 MT DIESEL Manual' 'T8 AT Automatic' 'S11 Manual'\n",
      " 'HTX 1.0 IMT' 'S+ DIESEL MT Manual' '1.2 XZA+ RTN Automatic'\n",
      " 'ASTA 1.2 MT' 'HIGHLINE PLUS 1.5L DIESEL Manual' 'TITANIUM+ SPORT Manual'\n",
      " '1.5 TITANIUM + (SUNROOF) Manual' 'MAGNA 1.2 MT Manual' 'KRAZ 1.2 Manual'\n",
      " 'ERA Manual' 'LX Manual' 'FLUIDIC 1.6 SX VTVT OPT Manual'\n",
      " '1.2 TREND Manual' 'LIMITED 2.0 4*4 Manual' 'HIGHLINE1.5L DIESEL Manual'\n",
      " 'XZ 1.05 REVOTORQ Manual' 'HIGHLINE 1.5 Manual' 'XM 1.2 Manual'\n",
      " 'XM 1.2 REVOTRON Manual' '5 STR Manual' 'K8 5 STR Manual'\n",
      " 'K6 6 STR Manual' 'V DUAL TONE Manual' 'V AT SUNROOF Automatic'\n",
      " 'ASTA 1.1 MT' 'TITANIUM 1.5 TDCI']\n",
      "VXI Manual                      586\n",
      "LXI Manual                      302\n",
      "VDI Manual                      193\n",
      "DELTA 1.2 K12 Manual            185\n",
      "SPORTZ 1.2 KAPPA VTVT Manual    135\n",
      "                               ... \n",
      "W10 AT FWD Automatic              1\n",
      "RX L PETROL Manual                1\n",
      "1.2 ZXI DURATEC Manual            1\n",
      "HTX 1.5 DIESEL Manual             1\n",
      "TITANIUM 1.5 TDCI                 1\n",
      "Name: Variant, Length: 673, dtype: int64\n",
      "____________________________________________\n",
      "Transmission : ['Manual' 'Automatic']\n",
      "Manual       4424\n",
      "Automatic     773\n",
      "Name: Transmission, dtype: int64\n",
      "____________________________________________\n",
      "Fuel_type : ['Petrol' 'Diesel' 'Petrol + CNG' 'Petrol + LPG']\n",
      "Petrol          3769\n",
      "Diesel          1372\n",
      "Petrol + CNG      55\n",
      "Petrol + LPG       1\n",
      "Name: Fuel_type, dtype: int64\n",
      "____________________________________________\n",
      "No. of owners : ['1st Owner' '2nd Owner' '3rd Owner' '4th Owner']\n",
      "1st Owner    4085\n",
      "2nd Owner    1012\n",
      "3rd Owner      99\n",
      "4th Owner       1\n",
      "Name: No. of owners, dtype: int64\n",
      "____________________________________________\n",
      "Location : ['Ahmedabad' 'Mumbai' 'New Delhi' 'Noida' 'Gurgaon' 'Pune' 'Bengaluru'\n",
      " 'Hyderabad' 'Chennai' 'Kolkata' 'Rajkot' 'Lucknow' 'Jaipur' 'Kochi']\n",
      "New Delhi    620\n",
      "Noida        610\n",
      "Gurgaon      607\n",
      "Mumbai       555\n",
      "Chennai      526\n",
      "Pune         408\n",
      "Ahmedabad    401\n",
      "Bengaluru    390\n",
      "Kochi        306\n",
      "Hyderabad    260\n",
      "Kolkata      180\n",
      "Lucknow      145\n",
      "Jaipur       141\n",
      "Rajkot        48\n",
      "Name: Location, dtype: int64\n",
      "____________________________________________\n"
     ]
    }
   ],
   "source": [
    "#Print all of the data types and their unique values.\n",
    "for column in df.columns:\n",
    "    if df[column].dtype == object:\n",
    "        print(str(column) + ' : ' + str(df[column].unique()))\n",
    "        print(df[column].value_counts())\n",
    "        print('____________________________________________')"
   ]
  },
  {
   "cell_type": "markdown",
   "id": "c3abca35",
   "metadata": {},
   "source": [
    "# Data Analysis and Visualization"
   ]
  },
  {
   "cell_type": "code",
   "execution_count": 17,
   "id": "8e19b421",
   "metadata": {},
   "outputs": [
    {
     "data": {
      "text/html": [
       "<style type=\"text/css\">\n",
       "#T_0965c_row0_col0 {\n",
       "  background-color: #fdf5fa;\n",
       "  color: #000000;\n",
       "}\n",
       "#T_0965c_row0_col1, #T_0965c_row7_col0, #T_0965c_row7_col2 {\n",
       "  background-color: #023858;\n",
       "  color: #f1f1f1;\n",
       "}\n",
       "#T_0965c_row0_col2, #T_0965c_row2_col1, #T_0965c_row3_col0 {\n",
       "  background-color: #fff7fb;\n",
       "  color: #000000;\n",
       "}\n",
       "#T_0965c_row1_col0 {\n",
       "  background-color: #efe9f3;\n",
       "  color: #000000;\n",
       "}\n",
       "#T_0965c_row1_col1, #T_0965c_row4_col1, #T_0965c_row5_col1, #T_0965c_row6_col1, #T_0965c_row7_col1 {\n",
       "  background-color: #a1bbda;\n",
       "  color: #000000;\n",
       "}\n",
       "#T_0965c_row1_col2 {\n",
       "  background-color: #dcdaeb;\n",
       "  color: #000000;\n",
       "}\n",
       "#T_0965c_row2_col0 {\n",
       "  background-color: #f4edf6;\n",
       "  color: #000000;\n",
       "}\n",
       "#T_0965c_row2_col2 {\n",
       "  background-color: #f0eaf4;\n",
       "  color: #000000;\n",
       "}\n",
       "#T_0965c_row3_col1 {\n",
       "  background-color: #a2bcda;\n",
       "  color: #000000;\n",
       "}\n",
       "#T_0965c_row3_col2 {\n",
       "  background-color: #f9f2f8;\n",
       "  color: #000000;\n",
       "}\n",
       "#T_0965c_row4_col0 {\n",
       "  background-color: #f7f0f7;\n",
       "  color: #000000;\n",
       "}\n",
       "#T_0965c_row4_col2 {\n",
       "  background-color: #ece7f2;\n",
       "  color: #000000;\n",
       "}\n",
       "#T_0965c_row5_col0 {\n",
       "  background-color: #f1ebf4;\n",
       "  color: #000000;\n",
       "}\n",
       "#T_0965c_row5_col2 {\n",
       "  background-color: #e3e0ee;\n",
       "  color: #000000;\n",
       "}\n",
       "#T_0965c_row6_col0 {\n",
       "  background-color: #e7e3f0;\n",
       "  color: #000000;\n",
       "}\n",
       "#T_0965c_row6_col2 {\n",
       "  background-color: #d4d4e8;\n",
       "  color: #000000;\n",
       "}\n",
       "</style>\n",
       "<table id=\"T_0965c\">\n",
       "  <thead>\n",
       "    <tr>\n",
       "      <th class=\"blank level0\" >&nbsp;</th>\n",
       "      <th id=\"T_0965c_level0_col0\" class=\"col_heading level0 col0\" >Driven_KM</th>\n",
       "      <th id=\"T_0965c_level0_col1\" class=\"col_heading level0 col1\" >Manufacture_year</th>\n",
       "      <th id=\"T_0965c_level0_col2\" class=\"col_heading level0 col2\" >Price</th>\n",
       "    </tr>\n",
       "  </thead>\n",
       "  <tbody>\n",
       "    <tr>\n",
       "      <th id=\"T_0965c_level0_row0\" class=\"row_heading level0 row0\" >count</th>\n",
       "      <td id=\"T_0965c_row0_col0\" class=\"data row0 col0\" >5197.000000</td>\n",
       "      <td id=\"T_0965c_row0_col1\" class=\"data row0 col1\" >5197.000000</td>\n",
       "      <td id=\"T_0965c_row0_col2\" class=\"data row0 col2\" >5197.000000</td>\n",
       "    </tr>\n",
       "    <tr>\n",
       "      <th id=\"T_0965c_level0_row1\" class=\"row_heading level0 row1\" >mean</th>\n",
       "      <td id=\"T_0965c_row1_col0\" class=\"data row1 col0\" >43790.950741</td>\n",
       "      <td id=\"T_0965c_row1_col1\" class=\"data row1 col1\" >2017.169906</td>\n",
       "      <td id=\"T_0965c_row1_col2\" class=\"data row1 col2\" >648476.928420</td>\n",
       "    </tr>\n",
       "    <tr>\n",
       "      <th id=\"T_0965c_level0_row2\" class=\"row_heading level0 row2\" >std</th>\n",
       "      <td id=\"T_0965c_row2_col0\" class=\"data row2 col0\" >31013.177890</td>\n",
       "      <td id=\"T_0965c_row2_col1\" class=\"data row2 col1\" >2.413196</td>\n",
       "      <td id=\"T_0965c_row2_col2\" class=\"data row2 col2\" >339002.018013</td>\n",
       "    </tr>\n",
       "    <tr>\n",
       "      <th id=\"T_0965c_level0_row3\" class=\"row_heading level0 row3\" >min</th>\n",
       "      <td id=\"T_0965c_row3_col0\" class=\"data row3 col0\" >71.000000</td>\n",
       "      <td id=\"T_0965c_row3_col1\" class=\"data row3 col1\" >2008.000000</td>\n",
       "      <td id=\"T_0965c_row3_col2\" class=\"data row3 col2\" >143799.000000</td>\n",
       "    </tr>\n",
       "    <tr>\n",
       "      <th id=\"T_0965c_level0_row4\" class=\"row_heading level0 row4\" >25%</th>\n",
       "      <td id=\"T_0965c_row4_col0\" class=\"data row4 col0\" >21473.000000</td>\n",
       "      <td id=\"T_0965c_row4_col1\" class=\"data row4 col1\" >2016.000000</td>\n",
       "      <td id=\"T_0965c_row4_col2\" class=\"data row4 col2\" >420299.000000</td>\n",
       "    </tr>\n",
       "    <tr>\n",
       "      <th id=\"T_0965c_level0_row5\" class=\"row_heading level0 row5\" >50%</th>\n",
       "      <td id=\"T_0965c_row5_col0\" class=\"data row5 col0\" >38225.000000</td>\n",
       "      <td id=\"T_0965c_row5_col1\" class=\"data row5 col1\" >2017.000000</td>\n",
       "      <td id=\"T_0965c_row5_col2\" class=\"data row5 col2\" >554699.000000</td>\n",
       "    </tr>\n",
       "    <tr>\n",
       "      <th id=\"T_0965c_level0_row6\" class=\"row_heading level0 row6\" >75%</th>\n",
       "      <td id=\"T_0965c_row6_col0\" class=\"data row6 col0\" >60804.000000</td>\n",
       "      <td id=\"T_0965c_row6_col1\" class=\"data row6 col1\" >2019.000000</td>\n",
       "      <td id=\"T_0965c_row6_col2\" class=\"data row6 col2\" >765099.000000</td>\n",
       "    </tr>\n",
       "    <tr>\n",
       "      <th id=\"T_0965c_level0_row7\" class=\"row_heading level0 row7\" >max</th>\n",
       "      <td id=\"T_0965c_row7_col0\" class=\"data row7 col0\" >400055.000000</td>\n",
       "      <td id=\"T_0965c_row7_col1\" class=\"data row7 col1\" >2022.000000</td>\n",
       "      <td id=\"T_0965c_row7_col2\" class=\"data row7 col2\" >3287199.000000</td>\n",
       "    </tr>\n",
       "  </tbody>\n",
       "</table>\n"
      ],
      "text/plain": [
       "<pandas.io.formats.style.Styler at 0x1d068ac5df0>"
      ]
     },
     "execution_count": 17,
     "metadata": {},
     "output_type": "execute_result"
    }
   ],
   "source": [
    "#summary statistics.\n",
    "df.describe().style.background_gradient()"
   ]
  },
  {
   "cell_type": "code",
   "execution_count": 18,
   "id": "1a764a2f",
   "metadata": {},
   "outputs": [
    {
     "data": {
      "text/html": [
       "<div>\n",
       "<style scoped>\n",
       "    .dataframe tbody tr th:only-of-type {\n",
       "        vertical-align: middle;\n",
       "    }\n",
       "\n",
       "    .dataframe tbody tr th {\n",
       "        vertical-align: top;\n",
       "    }\n",
       "\n",
       "    .dataframe thead th {\n",
       "        text-align: right;\n",
       "    }\n",
       "</style>\n",
       "<table border=\"1\" class=\"dataframe\">\n",
       "  <thead>\n",
       "    <tr style=\"text-align: right;\">\n",
       "      <th></th>\n",
       "      <th>Brand</th>\n",
       "      <th>Model</th>\n",
       "      <th>Variant</th>\n",
       "      <th>Transmission</th>\n",
       "      <th>Driven_KM</th>\n",
       "      <th>Fuel_type</th>\n",
       "      <th>No. of owners</th>\n",
       "      <th>Manufacture_year</th>\n",
       "      <th>Location</th>\n",
       "      <th>Price</th>\n",
       "    </tr>\n",
       "  </thead>\n",
       "  <tbody>\n",
       "    <tr>\n",
       "      <th>0</th>\n",
       "      <td>Mahindra</td>\n",
       "      <td>XUV</td>\n",
       "      <td>1.2 W6 MT</td>\n",
       "      <td>Manual</td>\n",
       "      <td>9510</td>\n",
       "      <td>Petrol</td>\n",
       "      <td>1st Owner</td>\n",
       "      <td>2021</td>\n",
       "      <td>Ahmedabad</td>\n",
       "      <td>1067499</td>\n",
       "    </tr>\n",
       "    <tr>\n",
       "      <th>1</th>\n",
       "      <td>Maruti</td>\n",
       "      <td>Alto</td>\n",
       "      <td>VXI Manual</td>\n",
       "      <td>Manual</td>\n",
       "      <td>8339</td>\n",
       "      <td>Petrol</td>\n",
       "      <td>1st Owner</td>\n",
       "      <td>2016</td>\n",
       "      <td>Ahmedabad</td>\n",
       "      <td>337599</td>\n",
       "    </tr>\n",
       "    <tr>\n",
       "      <th>2</th>\n",
       "      <td>Maruti</td>\n",
       "      <td>Ertiga</td>\n",
       "      <td>ZXI Plus SHVS Manual</td>\n",
       "      <td>Manual</td>\n",
       "      <td>21596</td>\n",
       "      <td>Petrol</td>\n",
       "      <td>2nd Owner</td>\n",
       "      <td>2020</td>\n",
       "      <td>Ahmedabad</td>\n",
       "      <td>1039099</td>\n",
       "    </tr>\n",
       "    <tr>\n",
       "      <th>3</th>\n",
       "      <td>Maruti</td>\n",
       "      <td>Swift</td>\n",
       "      <td>LXI Manual</td>\n",
       "      <td>Manual</td>\n",
       "      <td>16885</td>\n",
       "      <td>Petrol</td>\n",
       "      <td>1st Owner</td>\n",
       "      <td>2019</td>\n",
       "      <td>Ahmedabad</td>\n",
       "      <td>582299</td>\n",
       "    </tr>\n",
       "    <tr>\n",
       "      <th>4</th>\n",
       "      <td>Volkswagen</td>\n",
       "      <td>Polo</td>\n",
       "      <td>Trendline 1.0 L Petrol Manual</td>\n",
       "      <td>Manual</td>\n",
       "      <td>14469</td>\n",
       "      <td>Petrol</td>\n",
       "      <td>1st Owner</td>\n",
       "      <td>2020</td>\n",
       "      <td>Ahmedabad</td>\n",
       "      <td>582999</td>\n",
       "    </tr>\n",
       "  </tbody>\n",
       "</table>\n",
       "</div>"
      ],
      "text/plain": [
       "        Brand   Model                        Variant Transmission  Driven_KM  \\\n",
       "0    Mahindra     XUV                      1.2 W6 MT       Manual       9510   \n",
       "1      Maruti    Alto                     VXI Manual       Manual       8339   \n",
       "2      Maruti  Ertiga           ZXI Plus SHVS Manual       Manual      21596   \n",
       "3      Maruti   Swift                     LXI Manual       Manual      16885   \n",
       "4  Volkswagen    Polo  Trendline 1.0 L Petrol Manual       Manual      14469   \n",
       "\n",
       "  Fuel_type No. of owners  Manufacture_year   Location    Price  \n",
       "0    Petrol     1st Owner              2021  Ahmedabad  1067499  \n",
       "1    Petrol     1st Owner              2016  Ahmedabad   337599  \n",
       "2    Petrol     2nd Owner              2020  Ahmedabad  1039099  \n",
       "3    Petrol     1st Owner              2019  Ahmedabad   582299  \n",
       "4    Petrol     1st Owner              2020  Ahmedabad   582999  "
      ]
     },
     "execution_count": 18,
     "metadata": {},
     "output_type": "execute_result"
    }
   ],
   "source": [
    "df.head()"
   ]
  },
  {
   "cell_type": "code",
   "execution_count": 19,
   "id": "6f0829f5",
   "metadata": {},
   "outputs": [
    {
     "data": {
      "text/plain": [
       "<AxesSubplot:xlabel='Location', ylabel='count'>"
      ]
     },
     "execution_count": 19,
     "metadata": {},
     "output_type": "execute_result"
    },
    {
     "data": {
      "image/png": "[encoded data removed]",
      "text/plain": [
       "<Figure size 1440x2160 with 5 Axes>"
      ]
     },
     "metadata": {
      "needs_background": "light"
     },
     "output_type": "display_data"
    }
   ],
   "source": [
    "#Visualize the number of other independent categorical variables.\n",
    "fig,ax = plt.subplots(5,1,figsize=(20,30))\n",
    "sns.countplot(df['Brand'], data=df, palette='Set2',ax=ax[0])\n",
    "sns.countplot(df['Transmission'], data=df, palette='Set2',ax=ax[1])\n",
    "sns.countplot(df['Fuel_type'], data=df, palette='Set2',ax=ax[2])\n",
    "sns.countplot(df['No. of owners'], data=df, palette='Set2',ax=ax[3])\n",
    "sns.countplot(df['Location'], data=df, palette='Set2',ax=ax[4])"
   ]
  },
  {
   "cell_type": "code",
   "execution_count": 20,
   "id": "3134b78a",
   "metadata": {},
   "outputs": [
    {
     "data": {
      "text/plain": [
       "<AxesSubplot:xlabel='Price', ylabel='Location'>"
      ]
     },
     "execution_count": 20,
     "metadata": {},
     "output_type": "execute_result"
    },
    {
     "data": {
      "image/png": "[encoded data removed]",
      "text/plain": [
       "<Figure size 1152x720 with 6 Axes>"
      ]
     },
     "metadata": {
      "needs_background": "light"
     },
     "output_type": "display_data"
    }
   ],
   "source": [
    "# display boxplot for compare price.\n",
    "fig,ax = plt.subplots(3,2,figsize=(16,10))\n",
    "sns.boxplot(x='Price',y='Brand',data=df,ax=ax[0][0])\n",
    "sns.boxplot(x='Price',y='No. of owners',data=df,ax=ax[0][1])\n",
    "sns.boxplot(x='Price',y='Fuel_type',data=df,ax=ax[1][0])\n",
    "sns.boxplot(x='Price',y='Transmission',data=df,ax=ax[1][1])\n",
    "sns.boxplot(x='Price',y='Location',data=df,ax=ax[2][0])"
   ]
  },
  {
   "cell_type": "code",
   "execution_count": 21,
   "id": "68242245",
   "metadata": {},
   "outputs": [
    {
     "data": {
      "text/plain": [
       "<AxesSubplot:xlabel='Manufacture_year', ylabel='Price'>"
      ]
     },
     "execution_count": 21,
     "metadata": {},
     "output_type": "execute_result"
    },
    {
     "data": {
      "image/png": "[encoded data removed]",
      "text/plain": [
       "<Figure size 864x360 with 1 Axes>"
      ]
     },
     "metadata": {
      "needs_background": "light"
     },
     "output_type": "display_data"
    }
   ],
   "source": [
    "plt.figure(figsize=(12,5))\n",
    "sns.pointplot(x = \"Manufacture_year\", y = \"Price\", data = df)"
   ]
  },
  {
   "cell_type": "code",
   "execution_count": 22,
   "id": "5c3956ac",
   "metadata": {},
   "outputs": [
    {
     "data": {
      "image/png": "[encoded data removed]",
      "text/plain": [
       "<Figure size 640x480 with 1 Axes>"
      ]
     },
     "metadata": {},
     "output_type": "display_data"
    },
    {
     "data": {
      "text/plain": [
       "<ggplot: (124669392372)>"
      ]
     },
     "execution_count": 22,
     "metadata": {},
     "output_type": "execute_result"
    }
   ],
   "source": [
    "from plotnine.data import mpg\n",
    "from plotnine import ggplot, aes, geom_point\n",
    "\n",
    "(\n",
    "    ggplot(df) # What data to use\n",
    "    + aes(x=\"Manufacture_year\", y=\"Price\") # What variable to use\n",
    "    + geom_point() # Geometric object to use for drawing\n",
    ")"
   ]
  },
  {
   "cell_type": "code",
   "execution_count": 23,
   "id": "cec276f1",
   "metadata": {},
   "outputs": [
    {
     "data": {
      "text/plain": [
       "array([[<AxesSubplot:title={'center':'Driven_KM'}>],\n",
       "       [<AxesSubplot:title={'center':'Manufacture_year'}>],\n",
       "       [<AxesSubplot:title={'center':'Price'}>]], dtype=object)"
      ]
     },
     "execution_count": 23,
     "metadata": {},
     "output_type": "execute_result"
    },
    {
     "data": {
      "image/png": "[encoded data removed]",
      "text/plain": [
       "<Figure size 864x1800 with 3 Axes>"
      ]
     },
     "metadata": {
      "needs_background": "light"
     },
     "output_type": "display_data"
    }
   ],
   "source": [
    "# display histogram of acolumns.\n",
    "df.hist(figsize=(12,25), layout=(3,1), sharex=False, bins=20)"
   ]
  },
  {
   "cell_type": "code",
   "execution_count": 24,
   "id": "52434b7a",
   "metadata": {},
   "outputs": [
    {
     "data": {
      "text/plain": [
       "<seaborn.axisgrid.PairGrid at 0x1d06e342d90>"
      ]
     },
     "execution_count": 24,
     "metadata": {},
     "output_type": "execute_result"
    },
    {
     "data": {
      "image/png": "[encoded data removed]",
      "text/plain": [
       "<Figure size 540x540 with 12 Axes>"
      ]
     },
     "metadata": {
      "needs_background": "light"
     },
     "output_type": "display_data"
    }
   ],
   "source": [
    "# display pairplot of columns.\n",
    "sns.pairplot(df)"
   ]
  },
  {
   "cell_type": "code",
   "execution_count": 25,
   "id": "7c31060b",
   "metadata": {},
   "outputs": [
    {
     "data": {
      "image/png": "[encoded data removed]",
      "text/plain": [
       "<Figure size 1080x720 with 4 Axes>"
      ]
     },
     "metadata": {
      "needs_background": "light"
     },
     "output_type": "display_data"
    }
   ],
   "source": [
    "# Let's check the data distribution among columns.\n",
    "df.plot(kind='density', subplots=True, layout=(2,2), sharex=False, legend=True, fontsize=1, figsize=(15,10))\n",
    "plt.show()"
   ]
  },
  {
   "cell_type": "code",
   "execution_count": 26,
   "id": "edf436b1",
   "metadata": {},
   "outputs": [
    {
     "data": {
      "text/plain": [
       "<AxesSubplot:xlabel='Driven_KM', ylabel='Density'>"
      ]
     },
     "execution_count": 26,
     "metadata": {},
     "output_type": "execute_result"
    },
    {
     "data": {
      "image/png": "[encoded data removed]",
      "text/plain": [
       "<Figure size 576x360 with 1 Axes>"
      ]
     },
     "metadata": {
      "needs_background": "light"
     },
     "output_type": "display_data"
    }
   ],
   "source": [
    "# display distplot of columns.\n",
    "plt.figure(figsize=(8,5))\n",
    "sns.distplot(df['Driven_KM'])"
   ]
  },
  {
   "cell_type": "code",
   "execution_count": 27,
   "id": "27950174",
   "metadata": {},
   "outputs": [
    {
     "data": {
      "text/plain": [
       "<AxesSubplot:xlabel='Manufacture_year', ylabel='Density'>"
      ]
     },
     "execution_count": 27,
     "metadata": {},
     "output_type": "execute_result"
    },
    {
     "data": {
      "image/png": "[encoded data removed]",
      "text/plain": [
       "<Figure size 576x360 with 1 Axes>"
      ]
     },
     "metadata": {
      "needs_background": "light"
     },
     "output_type": "display_data"
    }
   ],
   "source": [
    "# display distplot of columns.\n",
    "plt.figure(figsize=(8,5))\n",
    "sns.distplot(df['Manufacture_year'])"
   ]
  },
  {
   "cell_type": "code",
   "execution_count": 28,
   "id": "fad3572a",
   "metadata": {},
   "outputs": [
    {
     "data": {
      "text/plain": [
       "<AxesSubplot:xlabel='Price', ylabel='Density'>"
      ]
     },
     "execution_count": 28,
     "metadata": {},
     "output_type": "execute_result"
    },
    {
     "data": {
      "image/png": "[encoded data removed]",
      "text/plain": [
       "<Figure size 576x360 with 1 Axes>"
      ]
     },
     "metadata": {
      "needs_background": "light"
     },
     "output_type": "display_data"
    }
   ],
   "source": [
    "# display distplot of columns.\n",
    "plt.figure(figsize=(8,5))\n",
    "sns.distplot(df['Price'])"
   ]
  },
  {
   "cell_type": "markdown",
   "id": "9dc3e07e",
   "metadata": {},
   "source": [
    "# Remove skewness and outliers"
   ]
  },
  {
   "cell_type": "code",
   "execution_count": 29,
   "id": "f5eb045a",
   "metadata": {},
   "outputs": [
    {
     "data": {
      "text/plain": [
       "Driven_KM           2.230208\n",
       "Manufacture_year   -0.579318\n",
       "Price               1.734693\n",
       "dtype: float64"
      ]
     },
     "execution_count": 29,
     "metadata": {},
     "output_type": "execute_result"
    }
   ],
   "source": [
    "# Check skewness\n",
    "df.skew()"
   ]
  },
  {
   "cell_type": "code",
   "execution_count": 30,
   "id": "c29c89f4",
   "metadata": {},
   "outputs": [
    {
     "data": {
      "text/plain": [
       "Driven_KM           0.368020\n",
       "Manufacture_year   -0.579318\n",
       "Price               1.067382\n",
       "dtype: float64"
      ]
     },
     "execution_count": 30,
     "metadata": {},
     "output_type": "execute_result"
    }
   ],
   "source": [
    "# Remove skewness using log transform and sqrt method.\n",
    "import numpy as np\n",
    "df['Driven_KM']=np.sqrt(df['Driven_KM'])\n",
    "df['Price'] = np.sqrt(df['Price'])\n",
    "df.skew()"
   ]
  },
  {
   "cell_type": "code",
   "execution_count": 31,
   "id": "9d1faffe",
   "metadata": {},
   "outputs": [
    {
     "data": {
      "text/plain": [
       "Driven_KM           0.368020\n",
       "Manufacture_year   -0.579318\n",
       "Price               0.754899\n",
       "dtype: float64"
      ]
     },
     "execution_count": 31,
     "metadata": {},
     "output_type": "execute_result"
    }
   ],
   "source": [
    "df['Price'] = np.sqrt(df['Price'])\n",
    "df.skew()"
   ]
  },
  {
   "cell_type": "code",
   "execution_count": 32,
   "id": "922bf7c2",
   "metadata": {},
   "outputs": [
    {
     "data": {
      "text/plain": [
       "array([[<AxesSubplot:title={'center':'Driven_KM'}>,\n",
       "        <AxesSubplot:title={'center':'Manufacture_year'}>,\n",
       "        <AxesSubplot:title={'center':'Price'}>]], dtype=object)"
      ]
     },
     "execution_count": 32,
     "metadata": {},
     "output_type": "execute_result"
    },
    {
     "data": {
      "image/png": "[encoded data removed]",
      "text/plain": [
       "<Figure size 1296x360 with 3 Axes>"
      ]
     },
     "metadata": {
      "needs_background": "light"
     },
     "output_type": "display_data"
    }
   ],
   "source": [
    "# display histogram of columns after remove skewnwss.\n",
    "df.hist(figsize=(18,5), layout=(1,3), sharex=False, bins=20)"
   ]
  },
  {
   "cell_type": "code",
   "execution_count": 33,
   "id": "d16efda6",
   "metadata": {},
   "outputs": [
    {
     "data": {
      "text/plain": [
       "Driven_KM              AxesSubplot(0.125,0.125;0.227941x0.755)\n",
       "Manufacture_year    AxesSubplot(0.398529,0.125;0.227941x0.755)\n",
       "Price               AxesSubplot(0.672059,0.125;0.227941x0.755)\n",
       "dtype: object"
      ]
     },
     "execution_count": 33,
     "metadata": {},
     "output_type": "execute_result"
    },
    {
     "data": {
      "image/png": "[encoded data removed]",
      "text/plain": [
       "<Figure size 1080x576 with 3 Axes>"
      ]
     },
     "metadata": {
      "needs_background": "light"
     },
     "output_type": "display_data"
    }
   ],
   "source": [
    "# checking outliers with boxplot.\n",
    "df.plot(kind='box', subplots=True, layout=(1,3), figsize=(15,8))"
   ]
  },
  {
   "cell_type": "code",
   "execution_count": 34,
   "id": "5b19b0b9",
   "metadata": {},
   "outputs": [
    {
     "data": {
      "text/html": [
       "<div>\n",
       "<style scoped>\n",
       "    .dataframe tbody tr th:only-of-type {\n",
       "        vertical-align: middle;\n",
       "    }\n",
       "\n",
       "    .dataframe tbody tr th {\n",
       "        vertical-align: top;\n",
       "    }\n",
       "\n",
       "    .dataframe thead th {\n",
       "        text-align: right;\n",
       "    }\n",
       "</style>\n",
       "<table border=\"1\" class=\"dataframe\">\n",
       "  <thead>\n",
       "    <tr style=\"text-align: right;\">\n",
       "      <th></th>\n",
       "      <th>Driven_KM</th>\n",
       "      <th>Manufacture_year</th>\n",
       "      <th>Price</th>\n",
       "    </tr>\n",
       "  </thead>\n",
       "  <tbody>\n",
       "    <tr>\n",
       "      <th>0</th>\n",
       "      <td>97.519229</td>\n",
       "      <td>2021</td>\n",
       "      <td>32.143404</td>\n",
       "    </tr>\n",
       "    <tr>\n",
       "      <th>1</th>\n",
       "      <td>91.318125</td>\n",
       "      <td>2016</td>\n",
       "      <td>24.104620</td>\n",
       "    </tr>\n",
       "    <tr>\n",
       "      <th>2</th>\n",
       "      <td>146.955776</td>\n",
       "      <td>2020</td>\n",
       "      <td>31.927450</td>\n",
       "    </tr>\n",
       "    <tr>\n",
       "      <th>3</th>\n",
       "      <td>129.942295</td>\n",
       "      <td>2019</td>\n",
       "      <td>27.623997</td>\n",
       "    </tr>\n",
       "    <tr>\n",
       "      <th>4</th>\n",
       "      <td>120.287156</td>\n",
       "      <td>2020</td>\n",
       "      <td>27.632295</td>\n",
       "    </tr>\n",
       "    <tr>\n",
       "      <th>...</th>\n",
       "      <td>...</td>\n",
       "      <td>...</td>\n",
       "      <td>...</td>\n",
       "    </tr>\n",
       "    <tr>\n",
       "      <th>5192</th>\n",
       "      <td>226.347079</td>\n",
       "      <td>2019</td>\n",
       "      <td>23.716947</td>\n",
       "    </tr>\n",
       "    <tr>\n",
       "      <th>5193</th>\n",
       "      <td>276.935010</td>\n",
       "      <td>2015</td>\n",
       "      <td>22.513375</td>\n",
       "    </tr>\n",
       "    <tr>\n",
       "      <th>5194</th>\n",
       "      <td>121.799015</td>\n",
       "      <td>2020</td>\n",
       "      <td>25.813417</td>\n",
       "    </tr>\n",
       "    <tr>\n",
       "      <th>5195</th>\n",
       "      <td>153.931803</td>\n",
       "      <td>2017</td>\n",
       "      <td>26.939824</td>\n",
       "    </tr>\n",
       "    <tr>\n",
       "      <th>5196</th>\n",
       "      <td>233.942301</td>\n",
       "      <td>2018</td>\n",
       "      <td>32.341059</td>\n",
       "    </tr>\n",
       "  </tbody>\n",
       "</table>\n",
       "<p>5197 rows × 3 columns</p>\n",
       "</div>"
      ],
      "text/plain": [
       "       Driven_KM  Manufacture_year      Price\n",
       "0      97.519229              2021  32.143404\n",
       "1      91.318125              2016  24.104620\n",
       "2     146.955776              2020  31.927450\n",
       "3     129.942295              2019  27.623997\n",
       "4     120.287156              2020  27.632295\n",
       "...          ...               ...        ...\n",
       "5192  226.347079              2019  23.716947\n",
       "5193  276.935010              2015  22.513375\n",
       "5194  121.799015              2020  25.813417\n",
       "5195  153.931803              2017  26.939824\n",
       "5196  233.942301              2018  32.341059\n",
       "\n",
       "[5197 rows x 3 columns]"
      ]
     },
     "execution_count": 34,
     "metadata": {},
     "output_type": "execute_result"
    }
   ],
   "source": [
    "# create dataframe for numeric column.\n",
    "numeric_data = df.select_dtypes(include=[np.number])\n",
    "numeric_data"
   ]
  },
  {
   "cell_type": "code",
   "execution_count": 35,
   "id": "423af6e2",
   "metadata": {},
   "outputs": [
    {
     "data": {
      "text/plain": [
       "Driven_KM           False\n",
       "Manufacture_year    False\n",
       "Price               False\n",
       "dtype: bool"
      ]
     },
     "execution_count": 35,
     "metadata": {},
     "output_type": "execute_result"
    }
   ],
   "source": [
    "# Lets quantify.\n",
    "from scipy.stats import zscore\n",
    "(np.abs(zscore(numeric_data))<3).all()"
   ]
  },
  {
   "cell_type": "code",
   "execution_count": 36,
   "id": "f1e7e304",
   "metadata": {},
   "outputs": [
    {
     "name": "stdout",
     "output_type": "stream",
     "text": [
      "(array([  15,  169,  388,  627,  919,  943,  958,  963,  970, 1106, 1196,\n",
      "       1231, 1414, 1443, 1452, 1474, 1531, 1596, 1601, 1605, 1707, 1807,\n",
      "       1896, 2032, 2059, 2067, 2099, 2144, 2205, 2213, 2218, 2297, 2400,\n",
      "       2444, 2640, 2674, 2702, 2744, 2868, 3141, 3195, 3236, 3236, 3556,\n",
      "       3594, 3601, 3602, 3630, 3630, 3732, 3748, 3798, 3804, 3941, 4294,\n",
      "       4335, 4360, 4363, 4650, 4791, 4857, 4881, 4891, 4894, 4922, 4935,\n",
      "       5071], dtype=int64), array([2, 2, 0, 2, 2, 0, 2, 1, 2, 2, 0, 1, 0, 1, 1, 1, 0, 2, 2, 1, 2, 0,\n",
      "       1, 0, 1, 1, 1, 0, 2, 2, 1, 2, 0, 1, 0, 1, 1, 0, 2, 0, 0, 0, 1, 1,\n",
      "       1, 1, 0, 0, 1, 2, 1, 1, 1, 2, 2, 0, 1, 0, 0, 0, 0, 0, 1, 1, 1, 1,\n",
      "       1], dtype=int64))\n"
     ]
    }
   ],
   "source": [
    "# detecting outliers.\n",
    "from scipy.stats import zscore\n",
    "z = np.abs(zscore(numeric_data))\n",
    "print(np.where(z>3))"
   ]
  },
  {
   "cell_type": "code",
   "execution_count": 37,
   "id": "5b01a3d5",
   "metadata": {},
   "outputs": [
    {
     "name": "stdout",
     "output_type": "stream",
     "text": [
      "dfnew shape =  (5132, 10)\n",
      "df shape =  (5132, 10)\n"
     ]
    }
   ],
   "source": [
    "# removing outliers.\n",
    "dfnew = df[(z<3).all(axis=1)]\n",
    "print('dfnew shape = ',dfnew.shape)\n",
    "\n",
    "df = dfnew\n",
    "print('df shape = ',df.shape)"
   ]
  },
  {
   "cell_type": "code",
   "execution_count": 38,
   "id": "de1fcb7a",
   "metadata": {},
   "outputs": [
    {
     "data": {
      "text/html": [
       "<div>\n",
       "<style scoped>\n",
       "    .dataframe tbody tr th:only-of-type {\n",
       "        vertical-align: middle;\n",
       "    }\n",
       "\n",
       "    .dataframe tbody tr th {\n",
       "        vertical-align: top;\n",
       "    }\n",
       "\n",
       "    .dataframe thead th {\n",
       "        text-align: right;\n",
       "    }\n",
       "</style>\n",
       "<table border=\"1\" class=\"dataframe\">\n",
       "  <thead>\n",
       "    <tr style=\"text-align: right;\">\n",
       "      <th></th>\n",
       "      <th>Brand</th>\n",
       "      <th>Model</th>\n",
       "      <th>Variant</th>\n",
       "      <th>Transmission</th>\n",
       "      <th>Driven_KM</th>\n",
       "      <th>Fuel_type</th>\n",
       "      <th>No. of owners</th>\n",
       "      <th>Manufacture_year</th>\n",
       "      <th>Location</th>\n",
       "      <th>Price</th>\n",
       "    </tr>\n",
       "  </thead>\n",
       "  <tbody>\n",
       "    <tr>\n",
       "      <th>0</th>\n",
       "      <td>Mahindra</td>\n",
       "      <td>XUV</td>\n",
       "      <td>1.2 W6 MT</td>\n",
       "      <td>Manual</td>\n",
       "      <td>97.519229</td>\n",
       "      <td>Petrol</td>\n",
       "      <td>1st Owner</td>\n",
       "      <td>2021</td>\n",
       "      <td>Ahmedabad</td>\n",
       "      <td>32.143404</td>\n",
       "    </tr>\n",
       "    <tr>\n",
       "      <th>1</th>\n",
       "      <td>Maruti</td>\n",
       "      <td>Alto</td>\n",
       "      <td>VXI Manual</td>\n",
       "      <td>Manual</td>\n",
       "      <td>91.318125</td>\n",
       "      <td>Petrol</td>\n",
       "      <td>1st Owner</td>\n",
       "      <td>2016</td>\n",
       "      <td>Ahmedabad</td>\n",
       "      <td>24.104620</td>\n",
       "    </tr>\n",
       "    <tr>\n",
       "      <th>2</th>\n",
       "      <td>Maruti</td>\n",
       "      <td>Ertiga</td>\n",
       "      <td>ZXI Plus SHVS Manual</td>\n",
       "      <td>Manual</td>\n",
       "      <td>146.955776</td>\n",
       "      <td>Petrol</td>\n",
       "      <td>2nd Owner</td>\n",
       "      <td>2020</td>\n",
       "      <td>Ahmedabad</td>\n",
       "      <td>31.927450</td>\n",
       "    </tr>\n",
       "    <tr>\n",
       "      <th>3</th>\n",
       "      <td>Maruti</td>\n",
       "      <td>Swift</td>\n",
       "      <td>LXI Manual</td>\n",
       "      <td>Manual</td>\n",
       "      <td>129.942295</td>\n",
       "      <td>Petrol</td>\n",
       "      <td>1st Owner</td>\n",
       "      <td>2019</td>\n",
       "      <td>Ahmedabad</td>\n",
       "      <td>27.623997</td>\n",
       "    </tr>\n",
       "    <tr>\n",
       "      <th>4</th>\n",
       "      <td>Volkswagen</td>\n",
       "      <td>Polo</td>\n",
       "      <td>Trendline 1.0 L Petrol Manual</td>\n",
       "      <td>Manual</td>\n",
       "      <td>120.287156</td>\n",
       "      <td>Petrol</td>\n",
       "      <td>1st Owner</td>\n",
       "      <td>2020</td>\n",
       "      <td>Ahmedabad</td>\n",
       "      <td>27.632295</td>\n",
       "    </tr>\n",
       "    <tr>\n",
       "      <th>...</th>\n",
       "      <td>...</td>\n",
       "      <td>...</td>\n",
       "      <td>...</td>\n",
       "      <td>...</td>\n",
       "      <td>...</td>\n",
       "      <td>...</td>\n",
       "      <td>...</td>\n",
       "      <td>...</td>\n",
       "      <td>...</td>\n",
       "      <td>...</td>\n",
       "    </tr>\n",
       "    <tr>\n",
       "      <th>5127</th>\n",
       "      <td>Maruti</td>\n",
       "      <td>Alto</td>\n",
       "      <td>LXI Manual</td>\n",
       "      <td>Manual</td>\n",
       "      <td>226.347079</td>\n",
       "      <td>Petrol</td>\n",
       "      <td>1st Owner</td>\n",
       "      <td>2019</td>\n",
       "      <td>Kochi</td>\n",
       "      <td>23.716947</td>\n",
       "    </tr>\n",
       "    <tr>\n",
       "      <th>5128</th>\n",
       "      <td>Maruti</td>\n",
       "      <td>Alto</td>\n",
       "      <td>VXI Manual</td>\n",
       "      <td>Manual</td>\n",
       "      <td>276.935010</td>\n",
       "      <td>Petrol</td>\n",
       "      <td>1st Owner</td>\n",
       "      <td>2015</td>\n",
       "      <td>Kochi</td>\n",
       "      <td>22.513375</td>\n",
       "    </tr>\n",
       "    <tr>\n",
       "      <th>5129</th>\n",
       "      <td>Maruti</td>\n",
       "      <td>Eeco</td>\n",
       "      <td>5 STR WITH AC PLUSHTR Manual</td>\n",
       "      <td>Manual</td>\n",
       "      <td>121.799015</td>\n",
       "      <td>Petrol</td>\n",
       "      <td>1st Owner</td>\n",
       "      <td>2020</td>\n",
       "      <td>Kochi</td>\n",
       "      <td>25.813417</td>\n",
       "    </tr>\n",
       "    <tr>\n",
       "      <th>5130</th>\n",
       "      <td>Hyundai</td>\n",
       "      <td>Grand</td>\n",
       "      <td>SPORTZ (O) 1.2 AT VTVT Automatic</td>\n",
       "      <td>Automatic</td>\n",
       "      <td>153.931803</td>\n",
       "      <td>Petrol</td>\n",
       "      <td>2nd Owner</td>\n",
       "      <td>2017</td>\n",
       "      <td>Kochi</td>\n",
       "      <td>26.939824</td>\n",
       "    </tr>\n",
       "    <tr>\n",
       "      <th>5131</th>\n",
       "      <td>Hyundai</td>\n",
       "      <td>Creta</td>\n",
       "      <td>1.6 SX CRDI Manual</td>\n",
       "      <td>Manual</td>\n",
       "      <td>233.942301</td>\n",
       "      <td>Diesel</td>\n",
       "      <td>1st Owner</td>\n",
       "      <td>2018</td>\n",
       "      <td>Kochi</td>\n",
       "      <td>32.341059</td>\n",
       "    </tr>\n",
       "  </tbody>\n",
       "</table>\n",
       "<p>5132 rows × 10 columns</p>\n",
       "</div>"
      ],
      "text/plain": [
       "           Brand   Model                           Variant Transmission  \\\n",
       "0       Mahindra     XUV                         1.2 W6 MT       Manual   \n",
       "1         Maruti    Alto                        VXI Manual       Manual   \n",
       "2         Maruti  Ertiga              ZXI Plus SHVS Manual       Manual   \n",
       "3         Maruti   Swift                        LXI Manual       Manual   \n",
       "4     Volkswagen    Polo     Trendline 1.0 L Petrol Manual       Manual   \n",
       "...          ...     ...                               ...          ...   \n",
       "5127      Maruti    Alto                        LXI Manual       Manual   \n",
       "5128      Maruti    Alto                        VXI Manual       Manual   \n",
       "5129      Maruti    Eeco      5 STR WITH AC PLUSHTR Manual       Manual   \n",
       "5130     Hyundai   Grand  SPORTZ (O) 1.2 AT VTVT Automatic    Automatic   \n",
       "5131     Hyundai   Creta                1.6 SX CRDI Manual       Manual   \n",
       "\n",
       "       Driven_KM Fuel_type No. of owners  Manufacture_year   Location  \\\n",
       "0      97.519229    Petrol     1st Owner              2021  Ahmedabad   \n",
       "1      91.318125    Petrol     1st Owner              2016  Ahmedabad   \n",
       "2     146.955776    Petrol     2nd Owner              2020  Ahmedabad   \n",
       "3     129.942295    Petrol     1st Owner              2019  Ahmedabad   \n",
       "4     120.287156    Petrol     1st Owner              2020  Ahmedabad   \n",
       "...          ...       ...           ...               ...        ...   \n",
       "5127  226.347079    Petrol     1st Owner              2019      Kochi   \n",
       "5128  276.935010    Petrol     1st Owner              2015      Kochi   \n",
       "5129  121.799015    Petrol     1st Owner              2020      Kochi   \n",
       "5130  153.931803    Petrol     2nd Owner              2017      Kochi   \n",
       "5131  233.942301    Diesel     1st Owner              2018      Kochi   \n",
       "\n",
       "          Price  \n",
       "0     32.143404  \n",
       "1     24.104620  \n",
       "2     31.927450  \n",
       "3     27.623997  \n",
       "4     27.632295  \n",
       "...         ...  \n",
       "5127  23.716947  \n",
       "5128  22.513375  \n",
       "5129  25.813417  \n",
       "5130  26.939824  \n",
       "5131  32.341059  \n",
       "\n",
       "[5132 rows x 10 columns]"
      ]
     },
     "execution_count": 38,
     "metadata": {},
     "output_type": "execute_result"
    }
   ],
   "source": [
    "# resetting the dataFrame index after removing outliers.\n",
    "df = df.reset_index()\n",
    "df.drop('index',axis=1,inplace=True)\n",
    "df"
   ]
  },
  {
   "cell_type": "markdown",
   "id": "67ecbeb3",
   "metadata": {},
   "source": [
    "# Label Encoder"
   ]
  },
  {
   "cell_type": "code",
   "execution_count": 39,
   "id": "7adcd99e",
   "metadata": {},
   "outputs": [
    {
     "data": {
      "text/html": [
       "<div>\n",
       "<style scoped>\n",
       "    .dataframe tbody tr th:only-of-type {\n",
       "        vertical-align: middle;\n",
       "    }\n",
       "\n",
       "    .dataframe tbody tr th {\n",
       "        vertical-align: top;\n",
       "    }\n",
       "\n",
       "    .dataframe thead th {\n",
       "        text-align: right;\n",
       "    }\n",
       "</style>\n",
       "<table border=\"1\" class=\"dataframe\">\n",
       "  <thead>\n",
       "    <tr style=\"text-align: right;\">\n",
       "      <th></th>\n",
       "      <th>Brand</th>\n",
       "      <th>Model</th>\n",
       "      <th>Variant</th>\n",
       "      <th>Transmission</th>\n",
       "      <th>Driven_KM</th>\n",
       "      <th>Fuel_type</th>\n",
       "      <th>No. of owners</th>\n",
       "      <th>Manufacture_year</th>\n",
       "      <th>Location</th>\n",
       "      <th>Price</th>\n",
       "    </tr>\n",
       "  </thead>\n",
       "  <tbody>\n",
       "    <tr>\n",
       "      <th>0</th>\n",
       "      <td>10</td>\n",
       "      <td>95</td>\n",
       "      <td>63</td>\n",
       "      <td>1</td>\n",
       "      <td>97.519229</td>\n",
       "      <td>1</td>\n",
       "      <td>0</td>\n",
       "      <td>2021</td>\n",
       "      <td>0</td>\n",
       "      <td>32.143404</td>\n",
       "    </tr>\n",
       "    <tr>\n",
       "      <th>1</th>\n",
       "      <td>11</td>\n",
       "      <td>8</td>\n",
       "      <td>545</td>\n",
       "      <td>1</td>\n",
       "      <td>91.318125</td>\n",
       "      <td>1</td>\n",
       "      <td>0</td>\n",
       "      <td>2016</td>\n",
       "      <td>0</td>\n",
       "      <td>24.104620</td>\n",
       "    </tr>\n",
       "    <tr>\n",
       "      <th>2</th>\n",
       "      <td>11</td>\n",
       "      <td>31</td>\n",
       "      <td>651</td>\n",
       "      <td>1</td>\n",
       "      <td>146.955776</td>\n",
       "      <td>1</td>\n",
       "      <td>1</td>\n",
       "      <td>2020</td>\n",
       "      <td>0</td>\n",
       "      <td>31.927450</td>\n",
       "    </tr>\n",
       "    <tr>\n",
       "      <th>3</th>\n",
       "      <td>11</td>\n",
       "      <td>75</td>\n",
       "      <td>349</td>\n",
       "      <td>1</td>\n",
       "      <td>129.942295</td>\n",
       "      <td>1</td>\n",
       "      <td>0</td>\n",
       "      <td>2019</td>\n",
       "      <td>0</td>\n",
       "      <td>27.623997</td>\n",
       "    </tr>\n",
       "    <tr>\n",
       "      <th>4</th>\n",
       "      <td>18</td>\n",
       "      <td>60</td>\n",
       "      <td>500</td>\n",
       "      <td>1</td>\n",
       "      <td>120.287156</td>\n",
       "      <td>1</td>\n",
       "      <td>0</td>\n",
       "      <td>2020</td>\n",
       "      <td>0</td>\n",
       "      <td>27.632295</td>\n",
       "    </tr>\n",
       "    <tr>\n",
       "      <th>...</th>\n",
       "      <td>...</td>\n",
       "      <td>...</td>\n",
       "      <td>...</td>\n",
       "      <td>...</td>\n",
       "      <td>...</td>\n",
       "      <td>...</td>\n",
       "      <td>...</td>\n",
       "      <td>...</td>\n",
       "      <td>...</td>\n",
       "      <td>...</td>\n",
       "    </tr>\n",
       "    <tr>\n",
       "      <th>5127</th>\n",
       "      <td>11</td>\n",
       "      <td>8</td>\n",
       "      <td>349</td>\n",
       "      <td>1</td>\n",
       "      <td>226.347079</td>\n",
       "      <td>1</td>\n",
       "      <td>0</td>\n",
       "      <td>2019</td>\n",
       "      <td>6</td>\n",
       "      <td>23.716947</td>\n",
       "    </tr>\n",
       "    <tr>\n",
       "      <th>5128</th>\n",
       "      <td>11</td>\n",
       "      <td>8</td>\n",
       "      <td>545</td>\n",
       "      <td>1</td>\n",
       "      <td>276.935010</td>\n",
       "      <td>1</td>\n",
       "      <td>0</td>\n",
       "      <td>2015</td>\n",
       "      <td>6</td>\n",
       "      <td>22.513375</td>\n",
       "    </tr>\n",
       "    <tr>\n",
       "      <th>5129</th>\n",
       "      <td>11</td>\n",
       "      <td>27</td>\n",
       "      <td>184</td>\n",
       "      <td>1</td>\n",
       "      <td>121.799015</td>\n",
       "      <td>1</td>\n",
       "      <td>0</td>\n",
       "      <td>2020</td>\n",
       "      <td>6</td>\n",
       "      <td>25.813417</td>\n",
       "    </tr>\n",
       "    <tr>\n",
       "      <th>5130</th>\n",
       "      <td>5</td>\n",
       "      <td>39</td>\n",
       "      <td>442</td>\n",
       "      <td>0</td>\n",
       "      <td>153.931803</td>\n",
       "      <td>1</td>\n",
       "      <td>1</td>\n",
       "      <td>2017</td>\n",
       "      <td>6</td>\n",
       "      <td>26.939824</td>\n",
       "    </tr>\n",
       "    <tr>\n",
       "      <th>5131</th>\n",
       "      <td>5</td>\n",
       "      <td>23</td>\n",
       "      <td>127</td>\n",
       "      <td>1</td>\n",
       "      <td>233.942301</td>\n",
       "      <td>0</td>\n",
       "      <td>0</td>\n",
       "      <td>2018</td>\n",
       "      <td>6</td>\n",
       "      <td>32.341059</td>\n",
       "    </tr>\n",
       "  </tbody>\n",
       "</table>\n",
       "<p>5132 rows × 10 columns</p>\n",
       "</div>"
      ],
      "text/plain": [
       "      Brand  Model  Variant  Transmission   Driven_KM  Fuel_type  \\\n",
       "0        10     95       63             1   97.519229          1   \n",
       "1        11      8      545             1   91.318125          1   \n",
       "2        11     31      651             1  146.955776          1   \n",
       "3        11     75      349             1  129.942295          1   \n",
       "4        18     60      500             1  120.287156          1   \n",
       "...     ...    ...      ...           ...         ...        ...   \n",
       "5127     11      8      349             1  226.347079          1   \n",
       "5128     11      8      545             1  276.935010          1   \n",
       "5129     11     27      184             1  121.799015          1   \n",
       "5130      5     39      442             0  153.931803          1   \n",
       "5131      5     23      127             1  233.942301          0   \n",
       "\n",
       "      No. of owners  Manufacture_year  Location      Price  \n",
       "0                 0              2021         0  32.143404  \n",
       "1                 0              2016         0  24.104620  \n",
       "2                 1              2020         0  31.927450  \n",
       "3                 0              2019         0  27.623997  \n",
       "4                 0              2020         0  27.632295  \n",
       "...             ...               ...       ...        ...  \n",
       "5127              0              2019         6  23.716947  \n",
       "5128              0              2015         6  22.513375  \n",
       "5129              0              2020         6  25.813417  \n",
       "5130              1              2017         6  26.939824  \n",
       "5131              0              2018         6  32.341059  \n",
       "\n",
       "[5132 rows x 10 columns]"
      ]
     },
     "execution_count": 39,
     "metadata": {},
     "output_type": "execute_result"
    }
   ],
   "source": [
    "from sklearn.preprocessing import LabelEncoder\n",
    "le = LabelEncoder()\n",
    "\n",
    "list1 = ['Brand','Model','Variant','Transmission','Fuel_type','No. of owners','Location']\n",
    "for val in list1:\n",
    "    df[val] = le.fit_transform(df[val].astype(str)) \n",
    "df"
   ]
  },
  {
   "cell_type": "markdown",
   "id": "f16d99d2",
   "metadata": {},
   "source": [
    "### Correlation matrix"
   ]
  },
  {
   "cell_type": "code",
   "execution_count": 40,
   "id": "8eab9c93",
   "metadata": {},
   "outputs": [
    {
     "data": {
      "text/html": [
       "<div>\n",
       "<style scoped>\n",
       "    .dataframe tbody tr th:only-of-type {\n",
       "        vertical-align: middle;\n",
       "    }\n",
       "\n",
       "    .dataframe tbody tr th {\n",
       "        vertical-align: top;\n",
       "    }\n",
       "\n",
       "    .dataframe thead th {\n",
       "        text-align: right;\n",
       "    }\n",
       "</style>\n",
       "<table border=\"1\" class=\"dataframe\">\n",
       "  <thead>\n",
       "    <tr style=\"text-align: right;\">\n",
       "      <th></th>\n",
       "      <th>Brand</th>\n",
       "      <th>Model</th>\n",
       "      <th>Variant</th>\n",
       "      <th>Transmission</th>\n",
       "      <th>Driven_KM</th>\n",
       "      <th>Fuel_type</th>\n",
       "      <th>No. of owners</th>\n",
       "      <th>Manufacture_year</th>\n",
       "      <th>Location</th>\n",
       "      <th>Price</th>\n",
       "    </tr>\n",
       "  </thead>\n",
       "  <tbody>\n",
       "    <tr>\n",
       "      <th>Brand</th>\n",
       "      <td>1.000000</td>\n",
       "      <td>0.089643</td>\n",
       "      <td>0.403388</td>\n",
       "      <td>0.040299</td>\n",
       "      <td>-0.054377</td>\n",
       "      <td>0.038137</td>\n",
       "      <td>-0.064531</td>\n",
       "      <td>0.114219</td>\n",
       "      <td>0.010296</td>\n",
       "      <td>-0.146897</td>\n",
       "    </tr>\n",
       "    <tr>\n",
       "      <th>Model</th>\n",
       "      <td>0.089643</td>\n",
       "      <td>1.000000</td>\n",
       "      <td>0.180685</td>\n",
       "      <td>-0.025665</td>\n",
       "      <td>0.084021</td>\n",
       "      <td>-0.225378</td>\n",
       "      <td>0.006843</td>\n",
       "      <td>-0.121375</td>\n",
       "      <td>0.052334</td>\n",
       "      <td>0.068782</td>\n",
       "    </tr>\n",
       "    <tr>\n",
       "      <th>Variant</th>\n",
       "      <td>0.403388</td>\n",
       "      <td>0.180685</td>\n",
       "      <td>1.000000</td>\n",
       "      <td>0.069302</td>\n",
       "      <td>0.016872</td>\n",
       "      <td>0.016377</td>\n",
       "      <td>-0.034467</td>\n",
       "      <td>-0.040760</td>\n",
       "      <td>-0.026618</td>\n",
       "      <td>-0.178273</td>\n",
       "    </tr>\n",
       "    <tr>\n",
       "      <th>Transmission</th>\n",
       "      <td>0.040299</td>\n",
       "      <td>-0.025665</td>\n",
       "      <td>0.069302</td>\n",
       "      <td>1.000000</td>\n",
       "      <td>0.070872</td>\n",
       "      <td>-0.028742</td>\n",
       "      <td>-0.041065</td>\n",
       "      <td>-0.109195</td>\n",
       "      <td>-0.061721</td>\n",
       "      <td>-0.401787</td>\n",
       "    </tr>\n",
       "    <tr>\n",
       "      <th>Driven_KM</th>\n",
       "      <td>-0.054377</td>\n",
       "      <td>0.084021</td>\n",
       "      <td>0.016872</td>\n",
       "      <td>0.070872</td>\n",
       "      <td>1.000000</td>\n",
       "      <td>-0.402994</td>\n",
       "      <td>0.085945</td>\n",
       "      <td>-0.572914</td>\n",
       "      <td>0.025802</td>\n",
       "      <td>-0.150214</td>\n",
       "    </tr>\n",
       "    <tr>\n",
       "      <th>Fuel_type</th>\n",
       "      <td>0.038137</td>\n",
       "      <td>-0.225378</td>\n",
       "      <td>0.016377</td>\n",
       "      <td>-0.028742</td>\n",
       "      <td>-0.402994</td>\n",
       "      <td>1.000000</td>\n",
       "      <td>0.001016</td>\n",
       "      <td>0.238092</td>\n",
       "      <td>-0.169561</td>\n",
       "      <td>-0.253544</td>\n",
       "    </tr>\n",
       "    <tr>\n",
       "      <th>No. of owners</th>\n",
       "      <td>-0.064531</td>\n",
       "      <td>0.006843</td>\n",
       "      <td>-0.034467</td>\n",
       "      <td>-0.041065</td>\n",
       "      <td>0.085945</td>\n",
       "      <td>0.001016</td>\n",
       "      <td>1.000000</td>\n",
       "      <td>-0.192374</td>\n",
       "      <td>-0.050880</td>\n",
       "      <td>-0.084466</td>\n",
       "    </tr>\n",
       "    <tr>\n",
       "      <th>Manufacture_year</th>\n",
       "      <td>0.114219</td>\n",
       "      <td>-0.121375</td>\n",
       "      <td>-0.040760</td>\n",
       "      <td>-0.109195</td>\n",
       "      <td>-0.572914</td>\n",
       "      <td>0.238092</td>\n",
       "      <td>-0.192374</td>\n",
       "      <td>1.000000</td>\n",
       "      <td>-0.067567</td>\n",
       "      <td>0.420814</td>\n",
       "    </tr>\n",
       "    <tr>\n",
       "      <th>Location</th>\n",
       "      <td>0.010296</td>\n",
       "      <td>0.052334</td>\n",
       "      <td>-0.026618</td>\n",
       "      <td>-0.061721</td>\n",
       "      <td>0.025802</td>\n",
       "      <td>-0.169561</td>\n",
       "      <td>-0.050880</td>\n",
       "      <td>-0.067567</td>\n",
       "      <td>1.000000</td>\n",
       "      <td>0.097982</td>\n",
       "    </tr>\n",
       "    <tr>\n",
       "      <th>Price</th>\n",
       "      <td>-0.146897</td>\n",
       "      <td>0.068782</td>\n",
       "      <td>-0.178273</td>\n",
       "      <td>-0.401787</td>\n",
       "      <td>-0.150214</td>\n",
       "      <td>-0.253544</td>\n",
       "      <td>-0.084466</td>\n",
       "      <td>0.420814</td>\n",
       "      <td>0.097982</td>\n",
       "      <td>1.000000</td>\n",
       "    </tr>\n",
       "  </tbody>\n",
       "</table>\n",
       "</div>"
      ],
      "text/plain": [
       "                     Brand     Model   Variant  Transmission  Driven_KM  \\\n",
       "Brand             1.000000  0.089643  0.403388      0.040299  -0.054377   \n",
       "Model             0.089643  1.000000  0.180685     -0.025665   0.084021   \n",
       "Variant           0.403388  0.180685  1.000000      0.069302   0.016872   \n",
       "Transmission      0.040299 -0.025665  0.069302      1.000000   0.070872   \n",
       "Driven_KM        -0.054377  0.084021  0.016872      0.070872   1.000000   \n",
       "Fuel_type         0.038137 -0.225378  0.016377     -0.028742  -0.402994   \n",
       "No. of owners    -0.064531  0.006843 -0.034467     -0.041065   0.085945   \n",
       "Manufacture_year  0.114219 -0.121375 -0.040760     -0.109195  -0.572914   \n",
       "Location          0.010296  0.052334 -0.026618     -0.061721   0.025802   \n",
       "Price            -0.146897  0.068782 -0.178273     -0.401787  -0.150214   \n",
       "\n",
       "                  Fuel_type  No. of owners  Manufacture_year  Location  \\\n",
       "Brand              0.038137      -0.064531          0.114219  0.010296   \n",
       "Model             -0.225378       0.006843         -0.121375  0.052334   \n",
       "Variant            0.016377      -0.034467         -0.040760 -0.026618   \n",
       "Transmission      -0.028742      -0.041065         -0.109195 -0.061721   \n",
       "Driven_KM         -0.402994       0.085945         -0.572914  0.025802   \n",
       "Fuel_type          1.000000       0.001016          0.238092 -0.169561   \n",
       "No. of owners      0.001016       1.000000         -0.192374 -0.050880   \n",
       "Manufacture_year   0.238092      -0.192374          1.000000 -0.067567   \n",
       "Location          -0.169561      -0.050880         -0.067567  1.000000   \n",
       "Price             -0.253544      -0.084466          0.420814  0.097982   \n",
       "\n",
       "                     Price  \n",
       "Brand            -0.146897  \n",
       "Model             0.068782  \n",
       "Variant          -0.178273  \n",
       "Transmission     -0.401787  \n",
       "Driven_KM        -0.150214  \n",
       "Fuel_type        -0.253544  \n",
       "No. of owners    -0.084466  \n",
       "Manufacture_year  0.420814  \n",
       "Location          0.097982  \n",
       "Price             1.000000  "
      ]
     },
     "execution_count": 40,
     "metadata": {},
     "output_type": "execute_result"
    }
   ],
   "source": [
    "# check correlation of columns.\n",
    "df.corr()"
   ]
  },
  {
   "cell_type": "code",
   "execution_count": 41,
   "id": "3763a956",
   "metadata": {},
   "outputs": [
    {
     "data": {
      "image/png": "[encoded data removed]",
      "text/plain": [
       "<Figure size 864x576 with 2 Axes>"
      ]
     },
     "metadata": {
      "needs_background": "light"
     },
     "output_type": "display_data"
    }
   ],
   "source": [
    "# check correlation matrix with heatmap.\n",
    "plt.figure(figsize=(12,8))\n",
    "sns.heatmap(df.corr(), annot=True, fmt = '.1f', cmap = 'Blues')\n",
    "#sns.heatmap(df.corr(), cmap='coolwarm', annot=True, fmt='.1f', linewidths=.1)\n",
    "plt.show()"
   ]
  },
  {
   "cell_type": "markdown",
   "id": "17fe7b9d",
   "metadata": {},
   "source": [
    "# MultiCollinearity with Variance Inflation Factor (VIF)"
   ]
  },
  {
   "cell_type": "code",
   "execution_count": 42,
   "id": "73ec38e6",
   "metadata": {},
   "outputs": [],
   "source": [
    "from statsmodels.stats.outliers_influence import variance_inflation_factor"
   ]
  },
  {
   "cell_type": "code",
   "execution_count": 43,
   "id": "a9e9a118",
   "metadata": {},
   "outputs": [],
   "source": [
    "X = df.drop('Price',axis=1)\n",
    "Y = df['Price']"
   ]
  },
  {
   "cell_type": "code",
   "execution_count": 44,
   "id": "709765c3",
   "metadata": {},
   "outputs": [],
   "source": [
    "def calc_vif():\n",
    "    vif = pd.DataFrame()\n",
    "    vif['Features'] = X.columns\n",
    "    vif['VIF Factor'] = [variance_inflation_factor(X.values,i) for i in range(X.shape[1])]\n",
    "    print(vif)"
   ]
  },
  {
   "cell_type": "code",
   "execution_count": 45,
   "id": "f7be5e66",
   "metadata": {},
   "outputs": [
    {
     "name": "stdout",
     "output_type": "stream",
     "text": [
      "           Features  VIF Factor\n",
      "0             Brand    7.578510\n",
      "1             Model    3.616674\n",
      "2           Variant    6.160173\n",
      "3      Transmission    6.920690\n",
      "4         Driven_KM   11.037897\n",
      "5         Fuel_type    4.743261\n",
      "6     No. of owners    1.270768\n",
      "7  Manufacture_year   36.781172\n",
      "8          Location    3.498028\n"
     ]
    }
   ],
   "source": [
    "calc_vif()"
   ]
  },
  {
   "cell_type": "markdown",
   "id": "314a5fa0",
   "metadata": {},
   "source": [
    "### Data Preprocessing (split the data into independent 'x' and dependent 'y' datasets)"
   ]
  },
  {
   "cell_type": "code",
   "execution_count": 46,
   "id": "8768a5d8",
   "metadata": {},
   "outputs": [],
   "source": [
    "x = df.drop('Price',axis=1)\n",
    "y = df['Price']"
   ]
  },
  {
   "cell_type": "code",
   "execution_count": 47,
   "id": "ea1478d6",
   "metadata": {},
   "outputs": [
    {
     "data": {
      "text/html": [
       "<div>\n",
       "<style scoped>\n",
       "    .dataframe tbody tr th:only-of-type {\n",
       "        vertical-align: middle;\n",
       "    }\n",
       "\n",
       "    .dataframe tbody tr th {\n",
       "        vertical-align: top;\n",
       "    }\n",
       "\n",
       "    .dataframe thead th {\n",
       "        text-align: right;\n",
       "    }\n",
       "</style>\n",
       "<table border=\"1\" class=\"dataframe\">\n",
       "  <thead>\n",
       "    <tr style=\"text-align: right;\">\n",
       "      <th></th>\n",
       "      <th>Brand</th>\n",
       "      <th>Model</th>\n",
       "      <th>Variant</th>\n",
       "      <th>Transmission</th>\n",
       "      <th>Driven_KM</th>\n",
       "      <th>Fuel_type</th>\n",
       "      <th>No. of owners</th>\n",
       "      <th>Manufacture_year</th>\n",
       "      <th>Location</th>\n",
       "    </tr>\n",
       "  </thead>\n",
       "  <tbody>\n",
       "    <tr>\n",
       "      <th>0</th>\n",
       "      <td>10</td>\n",
       "      <td>95</td>\n",
       "      <td>63</td>\n",
       "      <td>1</td>\n",
       "      <td>97.519229</td>\n",
       "      <td>1</td>\n",
       "      <td>0</td>\n",
       "      <td>2021</td>\n",
       "      <td>0</td>\n",
       "    </tr>\n",
       "    <tr>\n",
       "      <th>1</th>\n",
       "      <td>11</td>\n",
       "      <td>8</td>\n",
       "      <td>545</td>\n",
       "      <td>1</td>\n",
       "      <td>91.318125</td>\n",
       "      <td>1</td>\n",
       "      <td>0</td>\n",
       "      <td>2016</td>\n",
       "      <td>0</td>\n",
       "    </tr>\n",
       "    <tr>\n",
       "      <th>2</th>\n",
       "      <td>11</td>\n",
       "      <td>31</td>\n",
       "      <td>651</td>\n",
       "      <td>1</td>\n",
       "      <td>146.955776</td>\n",
       "      <td>1</td>\n",
       "      <td>1</td>\n",
       "      <td>2020</td>\n",
       "      <td>0</td>\n",
       "    </tr>\n",
       "    <tr>\n",
       "      <th>3</th>\n",
       "      <td>11</td>\n",
       "      <td>75</td>\n",
       "      <td>349</td>\n",
       "      <td>1</td>\n",
       "      <td>129.942295</td>\n",
       "      <td>1</td>\n",
       "      <td>0</td>\n",
       "      <td>2019</td>\n",
       "      <td>0</td>\n",
       "    </tr>\n",
       "    <tr>\n",
       "      <th>4</th>\n",
       "      <td>18</td>\n",
       "      <td>60</td>\n",
       "      <td>500</td>\n",
       "      <td>1</td>\n",
       "      <td>120.287156</td>\n",
       "      <td>1</td>\n",
       "      <td>0</td>\n",
       "      <td>2020</td>\n",
       "      <td>0</td>\n",
       "    </tr>\n",
       "  </tbody>\n",
       "</table>\n",
       "</div>"
      ],
      "text/plain": [
       "   Brand  Model  Variant  Transmission   Driven_KM  Fuel_type  No. of owners  \\\n",
       "0     10     95       63             1   97.519229          1              0   \n",
       "1     11      8      545             1   91.318125          1              0   \n",
       "2     11     31      651             1  146.955776          1              1   \n",
       "3     11     75      349             1  129.942295          1              0   \n",
       "4     18     60      500             1  120.287156          1              0   \n",
       "\n",
       "   Manufacture_year  Location  \n",
       "0              2021         0  \n",
       "1              2016         0  \n",
       "2              2020         0  \n",
       "3              2019         0  \n",
       "4              2020         0  "
      ]
     },
     "execution_count": 47,
     "metadata": {},
     "output_type": "execute_result"
    }
   ],
   "source": [
    "x.head()"
   ]
  },
  {
   "cell_type": "code",
   "execution_count": 48,
   "id": "94952e19",
   "metadata": {},
   "outputs": [
    {
     "data": {
      "text/plain": [
       "0    32.143404\n",
       "1    24.104620\n",
       "2    31.927450\n",
       "3    27.623997\n",
       "4    27.632295\n",
       "Name: Price, dtype: float64"
      ]
     },
     "execution_count": 48,
     "metadata": {},
     "output_type": "execute_result"
    }
   ],
   "source": [
    "y.head()"
   ]
  },
  {
   "cell_type": "code",
   "execution_count": 49,
   "id": "be49653b",
   "metadata": {},
   "outputs": [
    {
     "name": "stdout",
     "output_type": "stream",
     "text": [
      "(5132, 9) (5132,)\n"
     ]
    }
   ],
   "source": [
    "print(x.shape, y.shape)"
   ]
  },
  {
   "cell_type": "markdown",
   "id": "09f5d6a1",
   "metadata": {},
   "source": [
    "# Scaling the data"
   ]
  },
  {
   "cell_type": "code",
   "execution_count": 50,
   "id": "5d1a5d68",
   "metadata": {},
   "outputs": [
    {
     "data": {
      "text/plain": [
       "array([[ 0.25599352,  1.68925997, -1.65671813, ..., -0.4988746 ,\n",
       "         1.61647718, -1.53744764],\n",
       "       [ 0.51153889, -1.24634569,  0.93931325, ..., -0.4988746 ,\n",
       "        -0.52325996, -1.53744764],\n",
       "       [ 0.51153889, -0.47026603,  1.51022472, ...,  1.63999296,\n",
       "         1.18852975, -1.53744764],\n",
       "       ...,\n",
       "       [ 0.51153889, -0.60523641, -1.00501731, ..., -0.4988746 ,\n",
       "         1.18852975, -0.07032579],\n",
       "       [-1.02173332, -0.20032528,  0.38455966, ...,  1.63999296,\n",
       "        -0.09531253, -0.07032579],\n",
       "       [-1.02173332, -0.74020678, -1.31201687, ..., -0.4988746 ,\n",
       "         0.3326349 , -0.07032579]])"
      ]
     },
     "execution_count": 50,
     "metadata": {},
     "output_type": "execute_result"
    }
   ],
   "source": [
    "from sklearn.preprocessing import StandardScaler\n",
    "\n",
    "st = StandardScaler()\n",
    "x = st.fit_transform(x)\n",
    "x"
   ]
  },
  {
   "cell_type": "markdown",
   "id": "c73ad725",
   "metadata": {},
   "source": [
    "# Training process begins"
   ]
  },
  {
   "cell_type": "markdown",
   "id": "ad05c281",
   "metadata": {},
   "source": [
    "#### Finding best random_state"
   ]
  },
  {
   "cell_type": "code",
   "execution_count": 51,
   "id": "c57f6738",
   "metadata": {},
   "outputs": [],
   "source": [
    "from sklearn.linear_model import LinearRegression\n",
    "lr = LinearRegression()\n",
    "\n",
    "from sklearn.ensemble import RandomForestRegressor\n",
    "rf = RandomForestRegressor()\n",
    "\n",
    "from sklearn.ensemble import AdaBoostRegressor\n",
    "abr = AdaBoostRegressor()\n",
    "\n",
    "from sklearn.ensemble import GradientBoostingRegressor\n",
    "gbr = GradientBoostingRegressor()\n",
    "\n",
    "from sklearn.tree import DecisionTreeRegressor\n",
    "dtr = DecisionTreeRegressor()\n",
    "\n",
    "from sklearn.metrics import r2_score\n",
    "from sklearn.model_selection import train_test_split"
   ]
  },
  {
   "cell_type": "code",
   "execution_count": 52,
   "id": "a2db3da6",
   "metadata": {},
   "outputs": [
    {
     "name": "stdout",
     "output_type": "stream",
     "text": [
      "R2 score correspond to random state  0 is 0.4807862529115282\n",
      "R2 score correspond to random state  0 is 0.9472287823495439\n",
      "R2 score correspond to random state  0 is 0.6276511548840078\n",
      "R2 score correspond to random state  0 is 0.8852325299635763\n",
      "R2 score correspond to random state  0 is 0.9059749392762269\n",
      "R2 score correspond to random state  1 is 0.44706740411152446\n",
      "R2 score correspond to random state  1 is 0.940195549709397\n",
      "R2 score correspond to random state  1 is 0.5886074374001493\n",
      "R2 score correspond to random state  1 is 0.8650780166042737\n",
      "R2 score correspond to random state  1 is 0.8973819983846878\n",
      "R2 score correspond to random state  2 is 0.4829853081477473\n",
      "R2 score correspond to random state  2 is 0.949278449024652\n",
      "R2 score correspond to random state  2 is 0.6318258086295885\n",
      "R2 score correspond to random state  2 is 0.8768670966488437\n",
      "R2 score correspond to random state  2 is 0.9151418831165464\n",
      "R2 score correspond to random state  3 is 0.4420868858361279\n",
      "R2 score correspond to random state  3 is 0.95250979165055\n",
      "R2 score correspond to random state  3 is 0.6275617476109221\n",
      "R2 score correspond to random state  3 is 0.87488906630161\n",
      "R2 score correspond to random state  3 is 0.920474880444531\n",
      "R2 score correspond to random state  4 is 0.46058321428108806\n",
      "R2 score correspond to random state  4 is 0.9473028932108051\n",
      "R2 score correspond to random state  4 is 0.6003958970543293\n",
      "R2 score correspond to random state  4 is 0.8682629119280032\n",
      "R2 score correspond to random state  4 is 0.9017166535096509\n",
      "R2 score correspond to random state  5 is 0.500418639838774\n",
      "R2 score correspond to random state  5 is 0.9447326004529387\n",
      "R2 score correspond to random state  5 is 0.6600604960122723\n",
      "R2 score correspond to random state  5 is 0.8741503286640562\n",
      "R2 score correspond to random state  5 is 0.9085095443683078\n",
      "R2 score correspond to random state  6 is 0.4713852290191085\n",
      "R2 score correspond to random state  6 is 0.941659105696798\n",
      "R2 score correspond to random state  6 is 0.6179799259167365\n",
      "R2 score correspond to random state  6 is 0.8782497156867004\n",
      "R2 score correspond to random state  6 is 0.8947084408129108\n",
      "R2 score correspond to random state  7 is 0.4946229469268767\n",
      "R2 score correspond to random state  7 is 0.95888497739228\n",
      "R2 score correspond to random state  7 is 0.6376760926101201\n",
      "R2 score correspond to random state  7 is 0.9008211048948896\n",
      "R2 score correspond to random state  7 is 0.9305192083347671\n",
      "R2 score correspond to random state  8 is 0.4025526489972212\n",
      "R2 score correspond to random state  8 is 0.9347680200103039\n",
      "R2 score correspond to random state  8 is 0.5883800492085669\n",
      "R2 score correspond to random state  8 is 0.8460636224449645\n",
      "R2 score correspond to random state  8 is 0.90500015710014\n",
      "R2 score correspond to random state  9 is 0.4648438506345175\n",
      "R2 score correspond to random state  9 is 0.955556939359743\n",
      "R2 score correspond to random state  9 is 0.6207202402532662\n",
      "R2 score correspond to random state  9 is 0.8797640615733345\n",
      "R2 score correspond to random state  9 is 0.9239491445545963\n",
      "R2 score correspond to random state  10 is 0.4773684833150247\n",
      "R2 score correspond to random state  10 is 0.9485447642658942\n",
      "R2 score correspond to random state  10 is 0.6382834861525917\n",
      "R2 score correspond to random state  10 is 0.8885131315243242\n",
      "R2 score correspond to random state  10 is 0.9136278575606115\n",
      "R2 score correspond to random state  11 is 0.4585142020970038\n",
      "R2 score correspond to random state  11 is 0.9479885139525766\n",
      "R2 score correspond to random state  11 is 0.6399861613697967\n",
      "R2 score correspond to random state  11 is 0.8756316858597826\n",
      "R2 score correspond to random state  11 is 0.9095309533264249\n",
      "R2 score correspond to random state  12 is 0.47631817921234476\n",
      "R2 score correspond to random state  12 is 0.9489035182819702\n",
      "R2 score correspond to random state  12 is 0.6237443074217744\n",
      "R2 score correspond to random state  12 is 0.8814417589108955\n",
      "R2 score correspond to random state  12 is 0.9156096858676266\n",
      "R2 score correspond to random state  13 is 0.48715701740902007\n",
      "R2 score correspond to random state  13 is 0.951906183609093\n",
      "R2 score correspond to random state  13 is 0.6296045969412405\n",
      "R2 score correspond to random state  13 is 0.8826529078037734\n",
      "R2 score correspond to random state  13 is 0.9134431677625515\n",
      "R2 score correspond to random state  14 is 0.49933276570317453\n",
      "R2 score correspond to random state  14 is 0.9331732092168823\n",
      "R2 score correspond to random state  14 is 0.6405976482470636\n",
      "R2 score correspond to random state  14 is 0.882924146313744\n",
      "R2 score correspond to random state  14 is 0.9160074103900846\n",
      "R2 score correspond to random state  15 is 0.4933312026209892\n",
      "R2 score correspond to random state  15 is 0.9365392639893074\n",
      "R2 score correspond to random state  15 is 0.6351854049595359\n",
      "R2 score correspond to random state  15 is 0.8888551012003078\n",
      "R2 score correspond to random state  15 is 0.9137372815214037\n",
      "R2 score correspond to random state  16 is 0.49892312206222045\n",
      "R2 score correspond to random state  16 is 0.935012609686043\n",
      "R2 score correspond to random state  16 is 0.6306663177402891\n",
      "R2 score correspond to random state  16 is 0.8716364180961413\n",
      "R2 score correspond to random state  16 is 0.8896907301586748\n",
      "R2 score correspond to random state  17 is 0.44758386798547944\n",
      "R2 score correspond to random state  17 is 0.948709734702498\n",
      "R2 score correspond to random state  17 is 0.615781432565705\n",
      "R2 score correspond to random state  17 is 0.8843663844284191\n",
      "R2 score correspond to random state  17 is 0.9151438177485254\n",
      "R2 score correspond to random state  18 is 0.5242884118601361\n",
      "R2 score correspond to random state  18 is 0.9389307458247798\n",
      "R2 score correspond to random state  18 is 0.6186006682093002\n",
      "R2 score correspond to random state  18 is 0.8587617904731156\n",
      "R2 score correspond to random state  18 is 0.9060766936315279\n",
      "R2 score correspond to random state  19 is 0.4847206056546294\n",
      "R2 score correspond to random state  19 is 0.9571764295080207\n",
      "R2 score correspond to random state  19 is 0.6372699896894315\n",
      "R2 score correspond to random state  19 is 0.8855968640831247\n",
      "R2 score correspond to random state  19 is 0.9082025646787173\n",
      "R2 score correspond to random state  20 is 0.47250919444207606\n",
      "R2 score correspond to random state  20 is 0.9532763606844552\n",
      "R2 score correspond to random state  20 is 0.6404772758597308\n",
      "R2 score correspond to random state  20 is 0.8792911388593955\n",
      "R2 score correspond to random state  20 is 0.9158247593207147\n",
      "R2 score correspond to random state  21 is 0.47242042730645295\n",
      "R2 score correspond to random state  21 is 0.9459001338831732\n",
      "R2 score correspond to random state  21 is 0.6050440956752039\n",
      "R2 score correspond to random state  21 is 0.8756126737274603\n",
      "R2 score correspond to random state  21 is 0.9090421354668246\n",
      "R2 score correspond to random state  22 is 0.4946095674487381\n",
      "R2 score correspond to random state  22 is 0.9574148370104035\n",
      "R2 score correspond to random state  22 is 0.6653104640087857\n",
      "R2 score correspond to random state  22 is 0.8906738662884759\n",
      "R2 score correspond to random state  22 is 0.9254303201020093\n",
      "R2 score correspond to random state  23 is 0.4592145991515808\n",
      "R2 score correspond to random state  23 is 0.9453992358048809\n",
      "R2 score correspond to random state  23 is 0.6133377716746223\n",
      "R2 score correspond to random state  23 is 0.8757494307798296\n",
      "R2 score correspond to random state  23 is 0.8977090482051359\n",
      "R2 score correspond to random state  24 is 0.49578859297193234\n",
      "R2 score correspond to random state  24 is 0.9474556480779376\n",
      "R2 score correspond to random state  24 is 0.6577926549684779\n",
      "R2 score correspond to random state  24 is 0.8806659806161515\n",
      "R2 score correspond to random state  24 is 0.9097502040453126\n",
      "R2 score correspond to random state  25 is 0.4639463413162038\n",
      "R2 score correspond to random state  25 is 0.9483301098720867\n",
      "R2 score correspond to random state  25 is 0.6151380119450718\n",
      "R2 score correspond to random state  25 is 0.869020369748661\n",
      "R2 score correspond to random state  25 is 0.9145379211752138\n",
      "R2 score correspond to random state  26 is 0.4861449473066136\n",
      "R2 score correspond to random state  26 is 0.9529719861652955\n",
      "R2 score correspond to random state  26 is 0.6212246771519168\n",
      "R2 score correspond to random state  26 is 0.8884503307908108\n",
      "R2 score correspond to random state  26 is 0.9223925239807689\n",
      "R2 score correspond to random state  27 is 0.47029437870094515\n"
     ]
    },
    {
     "name": "stdout",
     "output_type": "stream",
     "text": [
      "R2 score correspond to random state  27 is 0.9484602897500267\n",
      "R2 score correspond to random state  27 is 0.5803676197684668\n",
      "R2 score correspond to random state  27 is 0.8765611105103466\n",
      "R2 score correspond to random state  27 is 0.9226032291572199\n",
      "R2 score correspond to random state  28 is 0.4476553698814767\n",
      "R2 score correspond to random state  28 is 0.9443768117829988\n",
      "R2 score correspond to random state  28 is 0.6260344505666742\n",
      "R2 score correspond to random state  28 is 0.8758111292009232\n",
      "R2 score correspond to random state  28 is 0.8918095687008989\n",
      "R2 score correspond to random state  29 is 0.4471722991208773\n",
      "R2 score correspond to random state  29 is 0.9462544781169486\n",
      "R2 score correspond to random state  29 is 0.6250010546202858\n",
      "R2 score correspond to random state  29 is 0.8684701716841897\n",
      "R2 score correspond to random state  29 is 0.9110163263745132\n",
      "R2 score correspond to random state  30 is 0.4849907342730264\n",
      "R2 score correspond to random state  30 is 0.9469292309292309\n",
      "R2 score correspond to random state  30 is 0.6019982618784713\n",
      "R2 score correspond to random state  30 is 0.8896404847985505\n",
      "R2 score correspond to random state  30 is 0.8895094506389001\n",
      "R2 score correspond to random state  31 is 0.4720536598871544\n",
      "R2 score correspond to random state  31 is 0.9534953335643122\n",
      "R2 score correspond to random state  31 is 0.6562156307290314\n",
      "R2 score correspond to random state  31 is 0.8799199507759996\n",
      "R2 score correspond to random state  31 is 0.9252460892168344\n",
      "R2 score correspond to random state  32 is 0.48441484564867743\n",
      "R2 score correspond to random state  32 is 0.9481331137244325\n",
      "R2 score correspond to random state  32 is 0.6302619254181183\n",
      "R2 score correspond to random state  32 is 0.8639439366116382\n",
      "R2 score correspond to random state  32 is 0.9096285239835445\n",
      "R2 score correspond to random state  33 is 0.4984212371736596\n",
      "R2 score correspond to random state  33 is 0.9578262879476593\n",
      "R2 score correspond to random state  33 is 0.6167777330912954\n",
      "R2 score correspond to random state  33 is 0.8898922973711921\n",
      "R2 score correspond to random state  33 is 0.9228546063461863\n",
      "R2 score correspond to random state  34 is 0.49607760216571084\n",
      "R2 score correspond to random state  34 is 0.9507645708453747\n",
      "R2 score correspond to random state  34 is 0.6404441674852513\n",
      "R2 score correspond to random state  34 is 0.8883127317223841\n",
      "R2 score correspond to random state  34 is 0.8940658095430136\n",
      "R2 score correspond to random state  35 is 0.5023188726407068\n",
      "R2 score correspond to random state  35 is 0.9513737708577666\n",
      "R2 score correspond to random state  35 is 0.6506984941305424\n",
      "R2 score correspond to random state  35 is 0.8800224553181626\n",
      "R2 score correspond to random state  35 is 0.9190449430406922\n",
      "R2 score correspond to random state  36 is 0.44803626845613354\n",
      "R2 score correspond to random state  36 is 0.9360611039342057\n",
      "R2 score correspond to random state  36 is 0.6396983122598747\n",
      "R2 score correspond to random state  36 is 0.8579597223604427\n",
      "R2 score correspond to random state  36 is 0.9075013975128035\n",
      "R2 score correspond to random state  37 is 0.45625274611910194\n",
      "R2 score correspond to random state  37 is 0.9412139601354891\n",
      "R2 score correspond to random state  37 is 0.6284074152990404\n",
      "R2 score correspond to random state  37 is 0.8742641989450414\n",
      "R2 score correspond to random state  37 is 0.8989598439900347\n",
      "R2 score correspond to random state  38 is 0.4570634607533014\n",
      "R2 score correspond to random state  38 is 0.9389856232342496\n",
      "R2 score correspond to random state  38 is 0.5915457196575163\n",
      "R2 score correspond to random state  38 is 0.8685464281997444\n",
      "R2 score correspond to random state  38 is 0.903849510635721\n",
      "R2 score correspond to random state  39 is 0.4805040925290839\n",
      "R2 score correspond to random state  39 is 0.9553446707762927\n",
      "R2 score correspond to random state  39 is 0.6153880454074945\n",
      "R2 score correspond to random state  39 is 0.8910931457175457\n",
      "R2 score correspond to random state  39 is 0.9241832417128255\n",
      "R2 score correspond to random state  40 is 0.49683328569441754\n",
      "R2 score correspond to random state  40 is 0.9531245014181198\n",
      "R2 score correspond to random state  40 is 0.6156614111390504\n",
      "R2 score correspond to random state  40 is 0.8870289951021972\n",
      "R2 score correspond to random state  40 is 0.9291658993071534\n",
      "R2 score correspond to random state  41 is 0.462033774497407\n",
      "R2 score correspond to random state  41 is 0.9452916027727291\n",
      "R2 score correspond to random state  41 is 0.6195157728792013\n",
      "R2 score correspond to random state  41 is 0.8723673706909016\n",
      "R2 score correspond to random state  41 is 0.9010172340111968\n",
      "R2 score correspond to random state  42 is 0.5177610632292964\n",
      "R2 score correspond to random state  42 is 0.9541531344532571\n",
      "R2 score correspond to random state  42 is 0.6216542693414696\n",
      "R2 score correspond to random state  42 is 0.8848243272965536\n",
      "R2 score correspond to random state  42 is 0.9116164374139009\n",
      "R2 score correspond to random state  43 is 0.4625731289062459\n",
      "R2 score correspond to random state  43 is 0.9563968480656309\n",
      "R2 score correspond to random state  43 is 0.6433538220133481\n",
      "R2 score correspond to random state  43 is 0.876063223368407\n",
      "R2 score correspond to random state  43 is 0.9256032216783879\n",
      "R2 score correspond to random state  44 is 0.4813618113689492\n",
      "R2 score correspond to random state  44 is 0.9554088944354144\n",
      "R2 score correspond to random state  44 is 0.644953399061482\n",
      "R2 score correspond to random state  44 is 0.8898243454626281\n",
      "R2 score correspond to random state  44 is 0.9344689503395361\n",
      "R2 score correspond to random state  45 is 0.4922584192473545\n",
      "R2 score correspond to random state  45 is 0.9408981977071768\n",
      "R2 score correspond to random state  45 is 0.6216839244294701\n",
      "R2 score correspond to random state  45 is 0.8675164676589893\n",
      "R2 score correspond to random state  45 is 0.9050011962350686\n",
      "R2 score correspond to random state  46 is 0.47640925331759154\n",
      "R2 score correspond to random state  46 is 0.9555624974453649\n",
      "R2 score correspond to random state  46 is 0.6236800406258793\n",
      "R2 score correspond to random state  46 is 0.8849363352607827\n",
      "R2 score correspond to random state  46 is 0.9174587102319578\n",
      "R2 score correspond to random state  47 is 0.5038273787217555\n",
      "R2 score correspond to random state  47 is 0.9478659760386985\n",
      "R2 score correspond to random state  47 is 0.6204593145367503\n",
      "R2 score correspond to random state  47 is 0.8846289365122719\n",
      "R2 score correspond to random state  47 is 0.9086215690823527\n",
      "R2 score correspond to random state  48 is 0.46793387799645325\n",
      "R2 score correspond to random state  48 is 0.9432183705972882\n",
      "R2 score correspond to random state  48 is 0.637995494818292\n",
      "R2 score correspond to random state  48 is 0.8737380284433829\n",
      "R2 score correspond to random state  48 is 0.9155362095723099\n",
      "R2 score correspond to random state  49 is 0.4815476229708576\n",
      "R2 score correspond to random state  49 is 0.9494642946473522\n",
      "R2 score correspond to random state  49 is 0.6208775630077178\n",
      "R2 score correspond to random state  49 is 0.8842039331974458\n",
      "R2 score correspond to random state  49 is 0.9209808762727872\n",
      "R2 score correspond to random state  50 is 0.47699312441751585\n",
      "R2 score correspond to random state  50 is 0.9572678763910052\n",
      "R2 score correspond to random state  50 is 0.6282021103981227\n",
      "R2 score correspond to random state  50 is 0.8945990042474572\n",
      "R2 score correspond to random state  50 is 0.9287864744220296\n",
      "R2 score correspond to random state  51 is 0.4641100997534281\n",
      "R2 score correspond to random state  51 is 0.9557343162476991\n",
      "R2 score correspond to random state  51 is 0.5906448426209528\n",
      "R2 score correspond to random state  51 is 0.8779662002563188\n",
      "R2 score correspond to random state  51 is 0.9214227580467135\n",
      "R2 score correspond to random state  52 is 0.4372155474120135\n",
      "R2 score correspond to random state  52 is 0.9421779382355062\n",
      "R2 score correspond to random state  52 is 0.6055858153738145\n",
      "R2 score correspond to random state  52 is 0.8752492366196634\n",
      "R2 score correspond to random state  52 is 0.8906912261583183\n",
      "R2 score correspond to random state  53 is 0.46883967465969656\n",
      "R2 score correspond to random state  53 is 0.9368109590842003\n",
      "R2 score correspond to random state  53 is 0.6293847351799586\n",
      "R2 score correspond to random state  53 is 0.8595077363723014\n",
      "R2 score correspond to random state  53 is 0.9028894655065361\n",
      "R2 score correspond to random state  54 is 0.4892938626089266\n"
     ]
    },
    {
     "name": "stdout",
     "output_type": "stream",
     "text": [
      "R2 score correspond to random state  54 is 0.9497517372693001\n",
      "R2 score correspond to random state  54 is 0.6127277710310375\n",
      "R2 score correspond to random state  54 is 0.8796434941266968\n",
      "R2 score correspond to random state  54 is 0.9157779814883956\n",
      "R2 score correspond to random state  55 is 0.4537772496702991\n",
      "R2 score correspond to random state  55 is 0.9493931797610982\n",
      "R2 score correspond to random state  55 is 0.6400092153264104\n",
      "R2 score correspond to random state  55 is 0.8804892823706129\n",
      "R2 score correspond to random state  55 is 0.935028451756069\n",
      "R2 score correspond to random state  56 is 0.4798318549780669\n",
      "R2 score correspond to random state  56 is 0.9543660202279983\n",
      "R2 score correspond to random state  56 is 0.6574386733888804\n",
      "R2 score correspond to random state  56 is 0.8858277211519364\n",
      "R2 score correspond to random state  56 is 0.9193631045843838\n",
      "R2 score correspond to random state  57 is 0.46556591057331864\n",
      "R2 score correspond to random state  57 is 0.9525835612337383\n",
      "R2 score correspond to random state  57 is 0.6567696879124849\n",
      "R2 score correspond to random state  57 is 0.8825192326111185\n",
      "R2 score correspond to random state  57 is 0.9198836264099811\n",
      "R2 score correspond to random state  58 is 0.49991589210018117\n",
      "R2 score correspond to random state  58 is 0.9550076541132625\n",
      "R2 score correspond to random state  58 is 0.6478950646046056\n",
      "R2 score correspond to random state  58 is 0.8911854430015606\n",
      "R2 score correspond to random state  58 is 0.9220556275991081\n",
      "R2 score correspond to random state  59 is 0.47699503429213796\n",
      "R2 score correspond to random state  59 is 0.9512047709588705\n",
      "R2 score correspond to random state  59 is 0.6217353782107644\n",
      "R2 score correspond to random state  59 is 0.8899101962782656\n",
      "R2 score correspond to random state  59 is 0.9149223393083442\n",
      "R2 score correspond to random state  60 is 0.4823414271637454\n",
      "R2 score correspond to random state  60 is 0.9537453678633895\n",
      "R2 score correspond to random state  60 is 0.6299028596522835\n",
      "R2 score correspond to random state  60 is 0.8921833133369498\n",
      "R2 score correspond to random state  60 is 0.9137100721564186\n",
      "R2 score correspond to random state  61 is 0.4636648656672304\n",
      "R2 score correspond to random state  61 is 0.9519119926957942\n",
      "R2 score correspond to random state  61 is 0.6287179803461016\n",
      "R2 score correspond to random state  61 is 0.8796252303232557\n",
      "R2 score correspond to random state  61 is 0.9227365213489078\n",
      "R2 score correspond to random state  62 is 0.46445654886744936\n",
      "R2 score correspond to random state  62 is 0.9459242750354168\n",
      "R2 score correspond to random state  62 is 0.6079178348774377\n",
      "R2 score correspond to random state  62 is 0.8756376779507433\n",
      "R2 score correspond to random state  62 is 0.9157199718045649\n",
      "R2 score correspond to random state  63 is 0.45445848763036656\n",
      "R2 score correspond to random state  63 is 0.9423982675054895\n",
      "R2 score correspond to random state  63 is 0.6470006174658534\n",
      "R2 score correspond to random state  63 is 0.8754462303475635\n",
      "R2 score correspond to random state  63 is 0.9081853883455061\n",
      "R2 score correspond to random state  64 is 0.49684393896394763\n",
      "R2 score correspond to random state  64 is 0.9579215904858936\n",
      "R2 score correspond to random state  64 is 0.6532223792736278\n",
      "R2 score correspond to random state  64 is 0.8882726252854475\n",
      "R2 score correspond to random state  64 is 0.9377002809210988\n",
      "R2 score correspond to random state  65 is 0.47212845808776327\n",
      "R2 score correspond to random state  65 is 0.9535561965744136\n",
      "R2 score correspond to random state  65 is 0.6130124344905813\n",
      "R2 score correspond to random state  65 is 0.8680128084223546\n",
      "R2 score correspond to random state  65 is 0.9187449231050875\n",
      "R2 score correspond to random state  66 is 0.478593399920032\n",
      "R2 score correspond to random state  66 is 0.9453812421260039\n",
      "R2 score correspond to random state  66 is 0.6130682707283726\n",
      "R2 score correspond to random state  66 is 0.873918230264407\n",
      "R2 score correspond to random state  66 is 0.913555565721498\n",
      "R2 score correspond to random state  67 is 0.44399505142090456\n",
      "R2 score correspond to random state  67 is 0.9312266748674592\n",
      "R2 score correspond to random state  67 is 0.6044242767444816\n",
      "R2 score correspond to random state  67 is 0.8806098205150193\n",
      "R2 score correspond to random state  67 is 0.8966414991288616\n",
      "R2 score correspond to random state  68 is 0.47024321203796493\n",
      "R2 score correspond to random state  68 is 0.9393832053469042\n",
      "R2 score correspond to random state  68 is 0.6489372268371387\n",
      "R2 score correspond to random state  68 is 0.8725173257556856\n",
      "R2 score correspond to random state  68 is 0.892032171715986\n",
      "R2 score correspond to random state  69 is 0.4977323443520496\n",
      "R2 score correspond to random state  69 is 0.9530075260409928\n",
      "R2 score correspond to random state  69 is 0.6330610657249336\n",
      "R2 score correspond to random state  69 is 0.8933720753966597\n",
      "R2 score correspond to random state  69 is 0.9169007107657431\n",
      "R2 score correspond to random state  70 is 0.4617772079205893\n",
      "R2 score correspond to random state  70 is 0.9363871733967797\n",
      "R2 score correspond to random state  70 is 0.6376876622440377\n",
      "R2 score correspond to random state  70 is 0.8717824985232399\n",
      "R2 score correspond to random state  70 is 0.9021256387176497\n",
      "R2 score correspond to random state  71 is 0.45955904718777674\n",
      "R2 score correspond to random state  71 is 0.9479380957096459\n",
      "R2 score correspond to random state  71 is 0.58233287826431\n",
      "R2 score correspond to random state  71 is 0.8784153778677284\n",
      "R2 score correspond to random state  71 is 0.916123630783902\n",
      "R2 score correspond to random state  72 is 0.4697024784195498\n",
      "R2 score correspond to random state  72 is 0.933116660800321\n",
      "R2 score correspond to random state  72 is 0.64249556894473\n",
      "R2 score correspond to random state  72 is 0.8827993326866818\n",
      "R2 score correspond to random state  72 is 0.8873851063427999\n",
      "R2 score correspond to random state  73 is 0.46012619357861284\n",
      "R2 score correspond to random state  73 is 0.952485307897667\n",
      "R2 score correspond to random state  73 is 0.611581327650535\n",
      "R2 score correspond to random state  73 is 0.8708684476527648\n",
      "R2 score correspond to random state  73 is 0.9172568349080827\n",
      "R2 score correspond to random state  74 is 0.4559159250041891\n",
      "R2 score correspond to random state  74 is 0.9456786086905102\n",
      "R2 score correspond to random state  74 is 0.5920213536611492\n",
      "R2 score correspond to random state  74 is 0.8713994110468402\n",
      "R2 score correspond to random state  74 is 0.9171395831675585\n",
      "R2 score correspond to random state  75 is 0.5212577967666765\n",
      "R2 score correspond to random state  75 is 0.9526717491021267\n",
      "R2 score correspond to random state  75 is 0.6388218207395645\n",
      "R2 score correspond to random state  75 is 0.893014758318593\n",
      "R2 score correspond to random state  75 is 0.9297820384363581\n",
      "R2 score correspond to random state  76 is 0.47895799556116403\n",
      "R2 score correspond to random state  76 is 0.948221098641673\n",
      "R2 score correspond to random state  76 is 0.6297726454722079\n",
      "R2 score correspond to random state  76 is 0.8716541758071112\n",
      "R2 score correspond to random state  76 is 0.9192022182690152\n",
      "R2 score correspond to random state  77 is 0.4423700443164347\n",
      "R2 score correspond to random state  77 is 0.9400994479719165\n",
      "R2 score correspond to random state  77 is 0.6171131655580847\n",
      "R2 score correspond to random state  77 is 0.868071568626178\n",
      "R2 score correspond to random state  77 is 0.91154270659066\n",
      "R2 score correspond to random state  78 is 0.47323074231481743\n",
      "R2 score correspond to random state  78 is 0.9452441800601168\n",
      "R2 score correspond to random state  78 is 0.6196484380782314\n",
      "R2 score correspond to random state  78 is 0.8760838759008323\n",
      "R2 score correspond to random state  78 is 0.8936790182272172\n",
      "R2 score correspond to random state  79 is 0.49532839891465275\n",
      "R2 score correspond to random state  79 is 0.9510743535844014\n",
      "R2 score correspond to random state  79 is 0.6439028098448771\n",
      "R2 score correspond to random state  79 is 0.8950687860863865\n",
      "R2 score correspond to random state  79 is 0.9213389004766007\n",
      "R2 score correspond to random state  80 is 0.46041738774026464\n",
      "R2 score correspond to random state  80 is 0.9518022531151076\n",
      "R2 score correspond to random state  80 is 0.6146108911426348\n",
      "R2 score correspond to random state  80 is 0.8785024059565917\n",
      "R2 score correspond to random state  80 is 0.9096648435467393\n",
      "R2 score correspond to random state  81 is 0.4757566804413057\n"
     ]
    },
    {
     "name": "stdout",
     "output_type": "stream",
     "text": [
      "R2 score correspond to random state  81 is 0.9291031259297063\n",
      "R2 score correspond to random state  81 is 0.6464609057759538\n",
      "R2 score correspond to random state  81 is 0.8719508893754843\n",
      "R2 score correspond to random state  81 is 0.8899600096850245\n",
      "R2 score correspond to random state  82 is 0.49219584648187165\n",
      "R2 score correspond to random state  82 is 0.9488194554946036\n",
      "R2 score correspond to random state  82 is 0.6679473078609088\n",
      "R2 score correspond to random state  82 is 0.8758178656073816\n",
      "R2 score correspond to random state  82 is 0.9188239143583536\n",
      "R2 score correspond to random state  83 is 0.4828342578167104\n",
      "R2 score correspond to random state  83 is 0.9523755645490362\n",
      "R2 score correspond to random state  83 is 0.5964078188509176\n",
      "R2 score correspond to random state  83 is 0.874288889894851\n",
      "R2 score correspond to random state  83 is 0.9328380737679365\n",
      "R2 score correspond to random state  84 is 0.4544991332893139\n",
      "R2 score correspond to random state  84 is 0.9539707397042927\n",
      "R2 score correspond to random state  84 is 0.6396390445665422\n",
      "R2 score correspond to random state  84 is 0.8721086139828823\n",
      "R2 score correspond to random state  84 is 0.918097120853633\n",
      "R2 score correspond to random state  85 is 0.481703170663774\n",
      "R2 score correspond to random state  85 is 0.9460046586904071\n",
      "R2 score correspond to random state  85 is 0.6263323393881934\n",
      "R2 score correspond to random state  85 is 0.8855142377231654\n",
      "R2 score correspond to random state  85 is 0.8996403384547178\n",
      "R2 score correspond to random state  86 is 0.4854966073237129\n",
      "R2 score correspond to random state  86 is 0.9583650124113994\n",
      "R2 score correspond to random state  86 is 0.6328126566712957\n",
      "R2 score correspond to random state  86 is 0.8821344014657212\n",
      "R2 score correspond to random state  86 is 0.9167073140097098\n",
      "R2 score correspond to random state  87 is 0.44627515648447047\n",
      "R2 score correspond to random state  87 is 0.9493150542565572\n",
      "R2 score correspond to random state  87 is 0.6128003914217769\n",
      "R2 score correspond to random state  87 is 0.8727281486074616\n",
      "R2 score correspond to random state  87 is 0.9150185860087116\n",
      "R2 score correspond to random state  88 is 0.5031289020913896\n",
      "R2 score correspond to random state  88 is 0.9428919293761394\n",
      "R2 score correspond to random state  88 is 0.6511990107639283\n",
      "R2 score correspond to random state  88 is 0.874077746923634\n",
      "R2 score correspond to random state  88 is 0.9108530463329294\n",
      "R2 score correspond to random state  89 is 0.5142354125168336\n",
      "R2 score correspond to random state  89 is 0.9484004778909131\n",
      "R2 score correspond to random state  89 is 0.653014400417785\n",
      "R2 score correspond to random state  89 is 0.8902235172205862\n",
      "R2 score correspond to random state  89 is 0.9109274956516464\n",
      "R2 score correspond to random state  90 is 0.5085297943702742\n",
      "R2 score correspond to random state  90 is 0.9643974488868489\n",
      "R2 score correspond to random state  90 is 0.6339981870920441\n",
      "R2 score correspond to random state  90 is 0.8886131892957999\n",
      "R2 score correspond to random state  90 is 0.9355578675532013\n",
      "R2 score correspond to random state  91 is 0.4626270868460167\n",
      "R2 score correspond to random state  91 is 0.9471281461607604\n",
      "R2 score correspond to random state  91 is 0.6355525669187763\n",
      "R2 score correspond to random state  91 is 0.8747355477208116\n",
      "R2 score correspond to random state  91 is 0.9242500902492661\n",
      "R2 score correspond to random state  92 is 0.4829289050528913\n",
      "R2 score correspond to random state  92 is 0.9543165949577194\n",
      "R2 score correspond to random state  92 is 0.6511044118295957\n",
      "R2 score correspond to random state  92 is 0.8783439537973261\n",
      "R2 score correspond to random state  92 is 0.9269307659896882\n",
      "R2 score correspond to random state  93 is 0.4676994341059043\n",
      "R2 score correspond to random state  93 is 0.9386384626417984\n",
      "R2 score correspond to random state  93 is 0.6443833012956248\n",
      "R2 score correspond to random state  93 is 0.8696608683189138\n",
      "R2 score correspond to random state  93 is 0.89049568667686\n",
      "R2 score correspond to random state  94 is 0.5133076409031208\n",
      "R2 score correspond to random state  94 is 0.9393568872824235\n",
      "R2 score correspond to random state  94 is 0.6734047744105403\n",
      "R2 score correspond to random state  94 is 0.8690692659890102\n",
      "R2 score correspond to random state  94 is 0.9060247439454218\n",
      "R2 score correspond to random state  95 is 0.47496182559478983\n",
      "R2 score correspond to random state  95 is 0.9407998366131998\n",
      "R2 score correspond to random state  95 is 0.6190496884879958\n",
      "R2 score correspond to random state  95 is 0.8593589510980248\n",
      "R2 score correspond to random state  95 is 0.8975781568848781\n",
      "R2 score correspond to random state  96 is 0.49057917989756494\n",
      "R2 score correspond to random state  96 is 0.950163095365368\n",
      "R2 score correspond to random state  96 is 0.6343059668979744\n",
      "R2 score correspond to random state  96 is 0.8896686715527802\n",
      "R2 score correspond to random state  96 is 0.9145674355531473\n",
      "R2 score correspond to random state  97 is 0.4720825876921948\n",
      "R2 score correspond to random state  97 is 0.9500550279022667\n",
      "R2 score correspond to random state  97 is 0.6395007450576173\n",
      "R2 score correspond to random state  97 is 0.8723288199258389\n",
      "R2 score correspond to random state  97 is 0.915408197089342\n",
      "R2 score correspond to random state  98 is 0.4568121905885153\n",
      "R2 score correspond to random state  98 is 0.9355444971497568\n",
      "R2 score correspond to random state  98 is 0.612501173654726\n",
      "R2 score correspond to random state  98 is 0.8648103271247161\n",
      "R2 score correspond to random state  98 is 0.8899026807084598\n",
      "R2 score correspond to random state  99 is 0.4587429963051798\n",
      "R2 score correspond to random state  99 is 0.9423335662104695\n",
      "R2 score correspond to random state  99 is 0.6201788098975815\n",
      "R2 score correspond to random state  99 is 0.8727992744989108\n",
      "R2 score correspond to random state  99 is 0.9054383454680814\n"
     ]
    }
   ],
   "source": [
    "model = [lr,rf,abr,gbr,dtr]\n",
    "max_r2_score = 0\n",
    "for r_state in range(0,100):\n",
    "    x_train, x_test, y_train, y_test = train_test_split(x,y,test_size=.20,random_state = r_state)\n",
    "    for i in model:\n",
    "        i.fit(x_train,y_train)\n",
    "        pred_test = i.predict(x_test)\n",
    "        r2_sc = r2_score(y_test,pred_test)\n",
    "        print(\"R2 score correspond to random state \",r_state,\"is\",r2_sc)\n",
    "        if r2_sc > max_r2_score:\n",
    "            max_r2_score = r2_sc\n",
    "            final_state = r_state\n",
    "            final_model = i"
   ]
  },
  {
   "cell_type": "code",
   "execution_count": 53,
   "id": "b50ad70f",
   "metadata": {},
   "outputs": [
    {
     "name": "stdout",
     "output_type": "stream",
     "text": [
      "max R2 score correspond to random state  90 is 0.9643974488868489 and model is RandomForestRegressor()\n"
     ]
    }
   ],
   "source": [
    "print(\"max R2 score correspond to random state \",final_state,\"is\",max_r2_score,\"and model is\",final_model)"
   ]
  },
  {
   "cell_type": "markdown",
   "id": "8d6fdf7b",
   "metadata": {},
   "source": [
    "# Creating train-test split"
   ]
  },
  {
   "cell_type": "code",
   "execution_count": 54,
   "id": "ad7b31fc",
   "metadata": {},
   "outputs": [],
   "source": [
    "x_train, x_test, y_train, y_test = train_test_split(x,y,test_size=.20,random_state = 90)"
   ]
  },
  {
   "cell_type": "markdown",
   "id": "57567385",
   "metadata": {},
   "source": [
    "### Apply best model"
   ]
  },
  {
   "cell_type": "code",
   "execution_count": 55,
   "id": "94a91fe7",
   "metadata": {},
   "outputs": [
    {
     "name": "stdout",
     "output_type": "stream",
     "text": [
      "r2 score :-  0.9645837930848378\n"
     ]
    }
   ],
   "source": [
    "rf.fit(x_train,y_train)\n",
    "pred = rf.predict(x_test)\n",
    "print(\"r2 score :- \",r2_score(y_test,pred))"
   ]
  },
  {
   "cell_type": "code",
   "execution_count": 56,
   "id": "3a0e7b2e",
   "metadata": {},
   "outputs": [
    {
     "name": "stdout",
     "output_type": "stream",
     "text": [
      "predicted car price: [25.96966933 29.60315804 26.76114667 ... 24.47729333 28.87047818\n",
      " 23.31595034]\n",
      "actual car price 2448    25.452737\n",
      "1583    29.717317\n",
      "3321    28.234410\n",
      "570     30.667215\n",
      "4067    27.474539\n",
      "          ...    \n",
      "992     33.837358\n",
      "3072    29.382087\n",
      "374     24.242660\n",
      "929     28.504847\n",
      "3875    23.338827\n",
      "Name: Price, Length: 1027, dtype: float64\n"
     ]
    }
   ],
   "source": [
    "# Predict the value:\n",
    "print(\"predicted car price:\",pred)\n",
    "print(\"actual car price\",y_test)"
   ]
  },
  {
   "cell_type": "markdown",
   "id": "0fd62aa8",
   "metadata": {},
   "source": [
    "### Check MAE, MSE and RMSE"
   ]
  },
  {
   "cell_type": "code",
   "execution_count": 57,
   "id": "c261df09",
   "metadata": {},
   "outputs": [
    {
     "name": "stdout",
     "output_type": "stream",
     "text": [
      "error:\n",
      "mean absolute error 0.41438353540704836\n",
      "mean squared error 0.3906260014904591\n",
      "Root mean squared error 0.6250008011918537\n"
     ]
    }
   ],
   "source": [
    "# Display MAE, MSE and RMSE:\n",
    "from sklearn.metrics import mean_squared_error, mean_absolute_error\n",
    "print('error:')\n",
    "\n",
    "print('mean absolute error',mean_absolute_error(y_test,pred))\n",
    "print('mean squared error',mean_squared_error(y_test,pred))\n",
    "\n",
    "print('Root mean squared error',np.sqrt(mean_squared_error(y_test,pred)))"
   ]
  },
  {
   "cell_type": "code",
   "execution_count": 58,
   "id": "0254fdf2",
   "metadata": {},
   "outputs": [
    {
     "name": "stdout",
     "output_type": "stream",
     "text": [
      "At cv:- 2\n",
      "cross validation score is :- 81.4732889878751\n",
      "r2 score is :- 96.45837930848377\n",
      "\n",
      "\n",
      "At cv:- 3\n",
      "cross validation score is :- 91.53606223513214\n",
      "r2 score is :- 96.45837930848377\n",
      "\n",
      "\n",
      "At cv:- 4\n",
      "cross validation score is :- 91.31372194279645\n",
      "r2 score is :- 96.45837930848377\n",
      "\n",
      "\n",
      "At cv:- 5\n",
      "cross validation score is :- 92.31805246030427\n",
      "r2 score is :- 96.45837930848377\n",
      "\n",
      "\n",
      "At cv:- 6\n",
      "cross validation score is :- 92.36019858887084\n",
      "r2 score is :- 96.45837930848377\n",
      "\n",
      "\n",
      "At cv:- 7\n",
      "cross validation score is :- 92.46320447977736\n",
      "r2 score is :- 96.45837930848377\n",
      "\n",
      "\n",
      "At cv:- 8\n",
      "cross validation score is :- 93.06020016465925\n",
      "r2 score is :- 96.45837930848377\n",
      "\n",
      "\n",
      "At cv:- 9\n",
      "cross validation score is :- 93.16398804283632\n",
      "r2 score is :- 96.45837930848377\n",
      "\n",
      "\n"
     ]
    }
   ],
   "source": [
    "from sklearn.model_selection import cross_val_score\n",
    "lss = r2_score(y_test,pred)\n",
    "for i in range(2,10):\n",
    "    lsscore = cross_val_score(rf,x,y,cv=i)\n",
    "    lsc = lsscore.mean()\n",
    "    print(\"At cv:-\",i)\n",
    "    print(\"cross validation score is :-\",lsc*100)\n",
    "    print(\"r2 score is :-\",lss*100)\n",
    "    print(\"\\n\")"
   ]
  },
  {
   "cell_type": "code",
   "execution_count": 59,
   "id": "66465618",
   "metadata": {},
   "outputs": [
    {
     "data": {
      "image/png": "[encoded data removed]",
      "text/plain": [
       "<Figure size 576x432 with 1 Axes>"
      ]
     },
     "metadata": {
      "needs_background": "light"
     },
     "output_type": "display_data"
    }
   ],
   "source": [
    "plt.figure(figsize=(8,6))\n",
    "plt.scatter(x=y_test, y=pred, color = 'r')\n",
    "plt.plot(y_test,y_test,color='b')\n",
    "plt.xlabel(\"predicted price\",fontsize=14)\n",
    "plt.ylabel(\"actual price\",fontsize=14)\n",
    "plt.title(\"RandomForest Regressor\",fontsize=18)\n",
    "plt.show()"
   ]
  },
  {
   "cell_type": "markdown",
   "id": "9ba0cfc3",
   "metadata": {},
   "source": [
    "Observation :- Best fit line is covering most of the datapoints which shows good fit of our model."
   ]
  },
  {
   "cell_type": "markdown",
   "id": "b1995b11",
   "metadata": {},
   "source": [
    "# Hypertuning of the model:"
   ]
  },
  {
   "cell_type": "code",
   "execution_count": 60,
   "id": "59a63b57",
   "metadata": {},
   "outputs": [],
   "source": [
    "from sklearn.model_selection import RandomizedSearchCV"
   ]
  },
  {
   "cell_type": "code",
   "execution_count": 61,
   "id": "c3a20175",
   "metadata": {},
   "outputs": [],
   "source": [
    "#Randomized Search CV\n",
    "\n",
    "# Number of trees in random forest\n",
    "n_estimators = [int(x) for x in np.linspace(start = 100, stop = 1200, num = 12)]\n",
    "# Number of features to consider at every split\n",
    "max_features = ['auto', 'sqrt']\n",
    "# Maximum number of levels in tree\n",
    "max_depth = [int(x) for x in np.linspace(5, 30, num = 6)]\n",
    "# Minimum number of samples required to split a node\n",
    "min_samples_split = [2, 5, 10, 15, 100]\n",
    "# Minimum number of samples required at each leaf node\n",
    "min_samples_leaf = [1, 2, 5, 10]"
   ]
  },
  {
   "cell_type": "code",
   "execution_count": 62,
   "id": "b3253dd6",
   "metadata": {},
   "outputs": [],
   "source": [
    "parameters = {'n_estimators': n_estimators,\n",
    "               'max_features': max_features,\n",
    "               'max_depth': max_depth,\n",
    "               'min_samples_split': min_samples_split,\n",
    "               'min_samples_leaf': min_samples_leaf}"
   ]
  },
  {
   "cell_type": "code",
   "execution_count": 63,
   "id": "8cdae0bc",
   "metadata": {},
   "outputs": [],
   "source": [
    "rf_random = RandomizedSearchCV(estimator = rf, param_distributions = parameters, scoring='neg_mean_squared_error', n_iter = 10, cv = 9, verbose=2, random_state=90, n_jobs = 1)"
   ]
  },
  {
   "cell_type": "code",
   "execution_count": 64,
   "id": "321f0f3d",
   "metadata": {},
   "outputs": [
    {
     "name": "stdout",
     "output_type": "stream",
     "text": [
      "Fitting 9 folds for each of 10 candidates, totalling 90 fits\n",
      "[CV] END max_depth=30, max_features=sqrt, min_samples_leaf=2, min_samples_split=5, n_estimators=600; total time=   3.5s\n",
      "[CV] END max_depth=30, max_features=sqrt, min_samples_leaf=2, min_samples_split=5, n_estimators=600; total time=   3.7s\n",
      "[CV] END max_depth=30, max_features=sqrt, min_samples_leaf=2, min_samples_split=5, n_estimators=600; total time=   3.8s\n",
      "[CV] END max_depth=30, max_features=sqrt, min_samples_leaf=2, min_samples_split=5, n_estimators=600; total time=   3.8s\n",
      "[CV] END max_depth=30, max_features=sqrt, min_samples_leaf=2, min_samples_split=5, n_estimators=600; total time=   3.8s\n",
      "[CV] END max_depth=30, max_features=sqrt, min_samples_leaf=2, min_samples_split=5, n_estimators=600; total time=   3.9s\n",
      "[CV] END max_depth=30, max_features=sqrt, min_samples_leaf=2, min_samples_split=5, n_estimators=600; total time=   3.7s\n",
      "[CV] END max_depth=30, max_features=sqrt, min_samples_leaf=2, min_samples_split=5, n_estimators=600; total time=   3.7s\n",
      "[CV] END max_depth=30, max_features=sqrt, min_samples_leaf=2, min_samples_split=5, n_estimators=600; total time=   3.5s\n",
      "[CV] END max_depth=20, max_features=auto, min_samples_leaf=10, min_samples_split=10, n_estimators=700; total time=   5.7s\n",
      "[CV] END max_depth=20, max_features=auto, min_samples_leaf=10, min_samples_split=10, n_estimators=700; total time=   5.6s\n",
      "[CV] END max_depth=20, max_features=auto, min_samples_leaf=10, min_samples_split=10, n_estimators=700; total time=   6.6s\n",
      "[CV] END max_depth=20, max_features=auto, min_samples_leaf=10, min_samples_split=10, n_estimators=700; total time=   6.5s\n",
      "[CV] END max_depth=20, max_features=auto, min_samples_leaf=10, min_samples_split=10, n_estimators=700; total time=   5.8s\n",
      "[CV] END max_depth=20, max_features=auto, min_samples_leaf=10, min_samples_split=10, n_estimators=700; total time=   5.7s\n",
      "[CV] END max_depth=20, max_features=auto, min_samples_leaf=10, min_samples_split=10, n_estimators=700; total time=   6.3s\n",
      "[CV] END max_depth=20, max_features=auto, min_samples_leaf=10, min_samples_split=10, n_estimators=700; total time=   5.7s\n",
      "[CV] END max_depth=20, max_features=auto, min_samples_leaf=10, min_samples_split=10, n_estimators=700; total time=   5.7s\n",
      "[CV] END max_depth=30, max_features=sqrt, min_samples_leaf=2, min_samples_split=5, n_estimators=800; total time=   4.5s\n",
      "[CV] END max_depth=30, max_features=sqrt, min_samples_leaf=2, min_samples_split=5, n_estimators=800; total time=   4.5s\n",
      "[CV] END max_depth=30, max_features=sqrt, min_samples_leaf=2, min_samples_split=5, n_estimators=800; total time=   4.5s\n",
      "[CV] END max_depth=30, max_features=sqrt, min_samples_leaf=2, min_samples_split=5, n_estimators=800; total time=   4.7s\n",
      "[CV] END max_depth=30, max_features=sqrt, min_samples_leaf=2, min_samples_split=5, n_estimators=800; total time=   4.6s\n",
      "[CV] END max_depth=30, max_features=sqrt, min_samples_leaf=2, min_samples_split=5, n_estimators=800; total time=   4.5s\n",
      "[CV] END max_depth=30, max_features=sqrt, min_samples_leaf=2, min_samples_split=5, n_estimators=800; total time=   5.3s\n",
      "[CV] END max_depth=30, max_features=sqrt, min_samples_leaf=2, min_samples_split=5, n_estimators=800; total time=   4.4s\n",
      "[CV] END max_depth=30, max_features=sqrt, min_samples_leaf=2, min_samples_split=5, n_estimators=800; total time=   4.6s\n",
      "[CV] END max_depth=15, max_features=sqrt, min_samples_leaf=5, min_samples_split=10, n_estimators=400; total time=   2.0s\n",
      "[CV] END max_depth=15, max_features=sqrt, min_samples_leaf=5, min_samples_split=10, n_estimators=400; total time=   2.3s\n",
      "[CV] END max_depth=15, max_features=sqrt, min_samples_leaf=5, min_samples_split=10, n_estimators=400; total time=   2.1s\n",
      "[CV] END max_depth=15, max_features=sqrt, min_samples_leaf=5, min_samples_split=10, n_estimators=400; total time=   2.0s\n",
      "[CV] END max_depth=15, max_features=sqrt, min_samples_leaf=5, min_samples_split=10, n_estimators=400; total time=   1.8s\n",
      "[CV] END max_depth=15, max_features=sqrt, min_samples_leaf=5, min_samples_split=10, n_estimators=400; total time=   1.9s\n",
      "[CV] END max_depth=15, max_features=sqrt, min_samples_leaf=5, min_samples_split=10, n_estimators=400; total time=   1.8s\n",
      "[CV] END max_depth=15, max_features=sqrt, min_samples_leaf=5, min_samples_split=10, n_estimators=400; total time=   1.9s\n",
      "[CV] END max_depth=15, max_features=sqrt, min_samples_leaf=5, min_samples_split=10, n_estimators=400; total time=   1.8s\n",
      "[CV] END max_depth=30, max_features=sqrt, min_samples_leaf=2, min_samples_split=10, n_estimators=400; total time=   2.0s\n",
      "[CV] END max_depth=30, max_features=sqrt, min_samples_leaf=2, min_samples_split=10, n_estimators=400; total time=   2.0s\n",
      "[CV] END max_depth=30, max_features=sqrt, min_samples_leaf=2, min_samples_split=10, n_estimators=400; total time=   2.0s\n",
      "[CV] END max_depth=30, max_features=sqrt, min_samples_leaf=2, min_samples_split=10, n_estimators=400; total time=   2.0s\n",
      "[CV] END max_depth=30, max_features=sqrt, min_samples_leaf=2, min_samples_split=10, n_estimators=400; total time=   2.6s\n",
      "[CV] END max_depth=30, max_features=sqrt, min_samples_leaf=2, min_samples_split=10, n_estimators=400; total time=   2.0s\n",
      "[CV] END max_depth=30, max_features=sqrt, min_samples_leaf=2, min_samples_split=10, n_estimators=400; total time=   2.1s\n",
      "[CV] END max_depth=30, max_features=sqrt, min_samples_leaf=2, min_samples_split=10, n_estimators=400; total time=   2.0s\n",
      "[CV] END max_depth=30, max_features=sqrt, min_samples_leaf=2, min_samples_split=10, n_estimators=400; total time=   2.0s\n",
      "[CV] END max_depth=30, max_features=auto, min_samples_leaf=2, min_samples_split=15, n_estimators=500; total time=   4.6s\n",
      "[CV] END max_depth=30, max_features=auto, min_samples_leaf=2, min_samples_split=15, n_estimators=500; total time=   4.6s\n",
      "[CV] END max_depth=30, max_features=auto, min_samples_leaf=2, min_samples_split=15, n_estimators=500; total time=   4.6s\n",
      "[CV] END max_depth=30, max_features=auto, min_samples_leaf=2, min_samples_split=15, n_estimators=500; total time=   5.2s\n",
      "[CV] END max_depth=30, max_features=auto, min_samples_leaf=2, min_samples_split=15, n_estimators=500; total time=   5.5s\n",
      "[CV] END max_depth=30, max_features=auto, min_samples_leaf=2, min_samples_split=15, n_estimators=500; total time=   4.6s\n",
      "[CV] END max_depth=30, max_features=auto, min_samples_leaf=2, min_samples_split=15, n_estimators=500; total time=   4.6s\n",
      "[CV] END max_depth=30, max_features=auto, min_samples_leaf=2, min_samples_split=15, n_estimators=500; total time=   4.6s\n",
      "[CV] END max_depth=30, max_features=auto, min_samples_leaf=2, min_samples_split=15, n_estimators=500; total time=   4.6s\n",
      "[CV] END max_depth=30, max_features=auto, min_samples_leaf=10, min_samples_split=15, n_estimators=300; total time=   2.4s\n",
      "[CV] END max_depth=30, max_features=auto, min_samples_leaf=10, min_samples_split=15, n_estimators=300; total time=   2.4s\n",
      "[CV] END max_depth=30, max_features=auto, min_samples_leaf=10, min_samples_split=15, n_estimators=300; total time=   2.4s\n",
      "[CV] END max_depth=30, max_features=auto, min_samples_leaf=10, min_samples_split=15, n_estimators=300; total time=   2.4s\n",
      "[CV] END max_depth=30, max_features=auto, min_samples_leaf=10, min_samples_split=15, n_estimators=300; total time=   2.5s\n",
      "[CV] END max_depth=30, max_features=auto, min_samples_leaf=10, min_samples_split=15, n_estimators=300; total time=   2.2s\n",
      "[CV] END max_depth=30, max_features=auto, min_samples_leaf=10, min_samples_split=15, n_estimators=300; total time=   2.0s\n",
      "[CV] END max_depth=30, max_features=auto, min_samples_leaf=10, min_samples_split=15, n_estimators=300; total time=   2.0s\n",
      "[CV] END max_depth=30, max_features=auto, min_samples_leaf=10, min_samples_split=15, n_estimators=300; total time=   1.9s\n",
      "[CV] END max_depth=10, max_features=sqrt, min_samples_leaf=2, min_samples_split=10, n_estimators=200; total time=   0.7s\n",
      "[CV] END max_depth=10, max_features=sqrt, min_samples_leaf=2, min_samples_split=10, n_estimators=200; total time=   0.6s\n",
      "[CV] END max_depth=10, max_features=sqrt, min_samples_leaf=2, min_samples_split=10, n_estimators=200; total time=   0.6s\n",
      "[CV] END max_depth=10, max_features=sqrt, min_samples_leaf=2, min_samples_split=10, n_estimators=200; total time=   0.6s\n",
      "[CV] END max_depth=10, max_features=sqrt, min_samples_leaf=2, min_samples_split=10, n_estimators=200; total time=   0.6s\n"
     ]
    },
    {
     "name": "stdout",
     "output_type": "stream",
     "text": [
      "[CV] END max_depth=10, max_features=sqrt, min_samples_leaf=2, min_samples_split=10, n_estimators=200; total time=   0.6s\n",
      "[CV] END max_depth=10, max_features=sqrt, min_samples_leaf=2, min_samples_split=10, n_estimators=200; total time=   0.6s\n",
      "[CV] END max_depth=10, max_features=sqrt, min_samples_leaf=2, min_samples_split=10, n_estimators=200; total time=   0.6s\n",
      "[CV] END max_depth=10, max_features=sqrt, min_samples_leaf=2, min_samples_split=10, n_estimators=200; total time=   0.6s\n",
      "[CV] END max_depth=15, max_features=sqrt, min_samples_leaf=10, min_samples_split=15, n_estimators=1100; total time=   3.8s\n",
      "[CV] END max_depth=15, max_features=sqrt, min_samples_leaf=10, min_samples_split=15, n_estimators=1100; total time=   3.8s\n",
      "[CV] END max_depth=15, max_features=sqrt, min_samples_leaf=10, min_samples_split=15, n_estimators=1100; total time=   3.7s\n",
      "[CV] END max_depth=15, max_features=sqrt, min_samples_leaf=10, min_samples_split=15, n_estimators=1100; total time=   3.7s\n",
      "[CV] END max_depth=15, max_features=sqrt, min_samples_leaf=10, min_samples_split=15, n_estimators=1100; total time=   3.7s\n",
      "[CV] END max_depth=15, max_features=sqrt, min_samples_leaf=10, min_samples_split=15, n_estimators=1100; total time=   3.7s\n",
      "[CV] END max_depth=15, max_features=sqrt, min_samples_leaf=10, min_samples_split=15, n_estimators=1100; total time=   3.8s\n",
      "[CV] END max_depth=15, max_features=sqrt, min_samples_leaf=10, min_samples_split=15, n_estimators=1100; total time=   4.0s\n",
      "[CV] END max_depth=15, max_features=sqrt, min_samples_leaf=10, min_samples_split=15, n_estimators=1100; total time=   3.9s\n",
      "[CV] END max_depth=5, max_features=auto, min_samples_leaf=2, min_samples_split=15, n_estimators=1200; total time=   6.7s\n",
      "[CV] END max_depth=5, max_features=auto, min_samples_leaf=2, min_samples_split=15, n_estimators=1200; total time=   5.3s\n",
      "[CV] END max_depth=5, max_features=auto, min_samples_leaf=2, min_samples_split=15, n_estimators=1200; total time=   5.3s\n",
      "[CV] END max_depth=5, max_features=auto, min_samples_leaf=2, min_samples_split=15, n_estimators=1200; total time=   5.3s\n",
      "[CV] END max_depth=5, max_features=auto, min_samples_leaf=2, min_samples_split=15, n_estimators=1200; total time=   5.4s\n",
      "[CV] END max_depth=5, max_features=auto, min_samples_leaf=2, min_samples_split=15, n_estimators=1200; total time=   5.7s\n",
      "[CV] END max_depth=5, max_features=auto, min_samples_leaf=2, min_samples_split=15, n_estimators=1200; total time=   6.0s\n",
      "[CV] END max_depth=5, max_features=auto, min_samples_leaf=2, min_samples_split=15, n_estimators=1200; total time=   5.3s\n",
      "[CV] END max_depth=5, max_features=auto, min_samples_leaf=2, min_samples_split=15, n_estimators=1200; total time=   5.3s\n"
     ]
    },
    {
     "data": {
      "text/plain": [
       "RandomizedSearchCV(cv=9, estimator=RandomForestRegressor(), n_jobs=1,\n",
       "                   param_distributions={'max_depth': [5, 10, 15, 20, 25, 30],\n",
       "                                        'max_features': ['auto', 'sqrt'],\n",
       "                                        'min_samples_leaf': [1, 2, 5, 10],\n",
       "                                        'min_samples_split': [2, 5, 10, 15,\n",
       "                                                              100],\n",
       "                                        'n_estimators': [100, 200, 300, 400,\n",
       "                                                         500, 600, 700, 800,\n",
       "                                                         900, 1000, 1100,\n",
       "                                                         1200]},\n",
       "                   random_state=90, scoring='neg_mean_squared_error',\n",
       "                   verbose=2)"
      ]
     },
     "execution_count": 64,
     "metadata": {},
     "output_type": "execute_result"
    }
   ],
   "source": [
    "rf_random.fit(x_train,y_train)"
   ]
  },
  {
   "cell_type": "code",
   "execution_count": 65,
   "id": "3eff29b7",
   "metadata": {},
   "outputs": [
    {
     "data": {
      "text/plain": [
       "{'n_estimators': 600,\n",
       " 'min_samples_split': 5,\n",
       " 'min_samples_leaf': 2,\n",
       " 'max_features': 'sqrt',\n",
       " 'max_depth': 30}"
      ]
     },
     "execution_count": 65,
     "metadata": {},
     "output_type": "execute_result"
    }
   ],
   "source": [
    "rf_random.best_params_"
   ]
  },
  {
   "cell_type": "code",
   "execution_count": 66,
   "id": "8c635880",
   "metadata": {},
   "outputs": [
    {
     "name": "stdout",
     "output_type": "stream",
     "text": [
      "R2 score: 94.83165879115599\n",
      "Cross Val Score is 91.68902393232194\n"
     ]
    }
   ],
   "source": [
    "rf = RandomForestRegressor(n_estimators=600, min_samples_split=5, min_samples_leaf=2, max_features='sqrt', max_depth=30)\n",
    "rf.fit(x_train,y_train)\n",
    "rf.score(x_train,y_train)\n",
    "pred_decision = rf.predict(x_test)\n",
    "\n",
    "rfs = r2_score(y_test,pred_decision)\n",
    "print(\"R2 score:\",rfs*100)\n",
    "\n",
    "rfscore = cross_val_score(rf,x,y,cv=9)\n",
    "rfc = rfscore.mean()\n",
    "print(\"Cross Val Score is\",rfc*100)"
   ]
  },
  {
   "cell_type": "code",
   "execution_count": 67,
   "id": "3318a674",
   "metadata": {},
   "outputs": [
    {
     "data": {
      "image/png": "[encoded data removed]",
      "text/plain": [
       "<Figure size 432x288 with 1 Axes>"
      ]
     },
     "metadata": {
      "needs_background": "light"
     },
     "output_type": "display_data"
    }
   ],
   "source": [
    "number_of_observations=50\n",
    "\n",
    "x_ax = range(len(y_test[:number_of_observations]))\n",
    "\n",
    "plt.plot(x_ax, y_test[:number_of_observations], label=\"original\")\n",
    "\n",
    "plt.plot(x_ax, pred_decision[:number_of_observations], label=\"predicted\")\n",
    "\n",
    "plt.title(\"Car Price test and predicted data\")\n",
    "\n",
    "plt.xlabel('Observation Number')\n",
    "\n",
    "plt.ylabel('Price')\n",
    "\n",
    "plt.legend()\n",
    "\n",
    "plt.show()"
   ]
  },
  {
   "cell_type": "markdown",
   "id": "97e2e1ac",
   "metadata": {},
   "source": [
    "# Model Saving:"
   ]
  },
  {
   "cell_type": "code",
   "execution_count": 68,
   "id": "ac73fec9",
   "metadata": {},
   "outputs": [],
   "source": [
    "import pickle\n",
    "filename = 'car_price.pkl'\n",
    "pickle.dump(rf,open(filename,'wb'))"
   ]
  },
  {
   "cell_type": "markdown",
   "id": "1c656ce0",
   "metadata": {},
   "source": [
    "# Conclusion:"
   ]
  },
  {
   "cell_type": "code",
   "execution_count": 69,
   "id": "42ad57bc",
   "metadata": {},
   "outputs": [
    {
     "data": {
      "text/html": [
       "<div>\n",
       "<style scoped>\n",
       "    .dataframe tbody tr th:only-of-type {\n",
       "        vertical-align: middle;\n",
       "    }\n",
       "\n",
       "    .dataframe tbody tr th {\n",
       "        vertical-align: top;\n",
       "    }\n",
       "\n",
       "    .dataframe thead th {\n",
       "        text-align: right;\n",
       "    }\n",
       "</style>\n",
       "<table border=\"1\" class=\"dataframe\">\n",
       "  <thead>\n",
       "    <tr style=\"text-align: right;\">\n",
       "      <th></th>\n",
       "      <th>original</th>\n",
       "      <th>predicted</th>\n",
       "    </tr>\n",
       "  </thead>\n",
       "  <tbody>\n",
       "    <tr>\n",
       "      <th>0</th>\n",
       "      <td>25.452737</td>\n",
       "      <td>26.205690</td>\n",
       "    </tr>\n",
       "    <tr>\n",
       "      <th>1</th>\n",
       "      <td>29.717317</td>\n",
       "      <td>29.419181</td>\n",
       "    </tr>\n",
       "    <tr>\n",
       "      <th>2</th>\n",
       "      <td>28.234410</td>\n",
       "      <td>27.240314</td>\n",
       "    </tr>\n",
       "    <tr>\n",
       "      <th>3</th>\n",
       "      <td>30.667215</td>\n",
       "      <td>29.265376</td>\n",
       "    </tr>\n",
       "    <tr>\n",
       "      <th>4</th>\n",
       "      <td>27.474539</td>\n",
       "      <td>26.627484</td>\n",
       "    </tr>\n",
       "    <tr>\n",
       "      <th>...</th>\n",
       "      <td>...</td>\n",
       "      <td>...</td>\n",
       "    </tr>\n",
       "    <tr>\n",
       "      <th>1022</th>\n",
       "      <td>33.837358</td>\n",
       "      <td>33.344751</td>\n",
       "    </tr>\n",
       "    <tr>\n",
       "      <th>1023</th>\n",
       "      <td>29.382087</td>\n",
       "      <td>29.709850</td>\n",
       "    </tr>\n",
       "    <tr>\n",
       "      <th>1024</th>\n",
       "      <td>24.242660</td>\n",
       "      <td>24.627506</td>\n",
       "    </tr>\n",
       "    <tr>\n",
       "      <th>1025</th>\n",
       "      <td>28.504847</td>\n",
       "      <td>29.300742</td>\n",
       "    </tr>\n",
       "    <tr>\n",
       "      <th>1026</th>\n",
       "      <td>23.338827</td>\n",
       "      <td>23.398169</td>\n",
       "    </tr>\n",
       "  </tbody>\n",
       "</table>\n",
       "<p>1027 rows × 2 columns</p>\n",
       "</div>"
      ],
      "text/plain": [
       "       original  predicted\n",
       "0     25.452737  26.205690\n",
       "1     29.717317  29.419181\n",
       "2     28.234410  27.240314\n",
       "3     30.667215  29.265376\n",
       "4     27.474539  26.627484\n",
       "...         ...        ...\n",
       "1022  33.837358  33.344751\n",
       "1023  29.382087  29.709850\n",
       "1024  24.242660  24.627506\n",
       "1025  28.504847  29.300742\n",
       "1026  23.338827  23.398169\n",
       "\n",
       "[1027 rows x 2 columns]"
      ]
     },
     "execution_count": 69,
     "metadata": {},
     "output_type": "execute_result"
    }
   ],
   "source": [
    "import numpy as np\n",
    "a = np.array(y_test)\n",
    "#predicted = np.array(ls.predict(x_test))\n",
    "df_comp = pd.DataFrame({'original':a,'predicted':pred_decision},index=range(len(a)))\n",
    "df_comp"
   ]
  }
 ],
 "metadata": {
  "kernelspec": {
   "display_name": "Python 3 (ipykernel)",
   "language": "python",
   "name": "python3"
  },
  "language_info": {
   "codemirror_mode": {
    "name": "ipython",
    "version": 3
   },
   "file_extension": ".py",
   "mimetype": "text/x-python",
   "name": "python",
   "nbconvert_exporter": "python",
   "pygments_lexer": "ipython3",
   "version": "3.9.12"
  },
  "varInspector": {
   "cols": {
    "lenName": 16,
    "lenType": 16,
    "lenVar": 40
   },
   "kernels_config": {
    "python": {
     "delete_cmd_postfix": "",
     "delete_cmd_prefix": "del ",
     "library": "var_list.py",
     "varRefreshCmd": "print(var_dic_list())"
    },
    "r": {
     "delete_cmd_postfix": ") ",
     "delete_cmd_prefix": "rm(",
     "library": "var_list.r",
     "varRefreshCmd": "cat(var_dic_list()) "
    }
   },
   "types_to_exclude": [
    "module",
    "function",
    "builtin_function_or_method",
    "instance",
    "_Feature"
   ],
   "window_display": false
  }
 },
 "nbformat": 4,
 "nbformat_minor": 5
}
