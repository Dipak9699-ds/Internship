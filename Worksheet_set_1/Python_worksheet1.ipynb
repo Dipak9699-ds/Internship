{
 "cells": [
  {
   "cell_type": "markdown",
   "id": "b55c8797",
   "metadata": {},
   "source": [
    "# Python Worksheet1 Answers:-"
   ]
  },
  {
   "cell_type": "markdown",
   "id": "1b2feaaa",
   "metadata": {},
   "source": [
    "Ans.1 :-\n",
    "\n",
    "%"
   ]
  },
  {
   "cell_type": "markdown",
   "id": "6b403350",
   "metadata": {},
   "source": [
    "Ans.2 :- "
   ]
  },
  {
   "cell_type": "code",
   "execution_count": 8,
   "id": "201fa528",
   "metadata": {},
   "outputs": [
    {
     "data": {
      "text/plain": [
       "0"
      ]
     },
     "execution_count": 8,
     "metadata": {},
     "output_type": "execute_result"
    }
   ],
   "source": [
    "2//3"
   ]
  },
  {
   "cell_type": "markdown",
   "id": "a155ff59",
   "metadata": {},
   "source": [
    "Ans.3 :-"
   ]
  },
  {
   "cell_type": "code",
   "execution_count": 9,
   "id": "7025cd0c",
   "metadata": {},
   "outputs": [
    {
     "data": {
      "text/plain": [
       "24"
      ]
     },
     "execution_count": 9,
     "metadata": {},
     "output_type": "execute_result"
    }
   ],
   "source": [
    "6<<2"
   ]
  },
  {
   "cell_type": "markdown",
   "id": "a286945e",
   "metadata": {},
   "source": [
    "Ans.4 :-"
   ]
  },
  {
   "cell_type": "code",
   "execution_count": 10,
   "id": "5655398a",
   "metadata": {},
   "outputs": [
    {
     "data": {
      "text/plain": [
       "2"
      ]
     },
     "execution_count": 10,
     "metadata": {},
     "output_type": "execute_result"
    }
   ],
   "source": [
    "6 & 2"
   ]
  },
  {
   "cell_type": "markdown",
   "id": "f68e3ae3",
   "metadata": {},
   "source": [
    "Ans. 5 :-"
   ]
  },
  {
   "cell_type": "code",
   "execution_count": 11,
   "id": "f1f52f01",
   "metadata": {},
   "outputs": [
    {
     "data": {
      "text/plain": [
       "6"
      ]
     },
     "execution_count": 11,
     "metadata": {},
     "output_type": "execute_result"
    }
   ],
   "source": [
    "6 | 2"
   ]
  },
  {
   "cell_type": "markdown",
   "id": "60e82d13",
   "metadata": {},
   "source": [
    "Ans. 6 :-\n",
    "\n",
    "the finally block will be executed no matter if the try block raises an error or not."
   ]
  },
  {
   "cell_type": "markdown",
   "id": "0beb5aa9",
   "metadata": {},
   "source": [
    "Ans. 7 :-\n",
    "    \n",
    "It is used to raise an exception."
   ]
  },
  {
   "cell_type": "markdown",
   "id": "6739caca",
   "metadata": {},
   "source": [
    "Ans. 8  :-\n",
    "    \n",
    "in defining a generator"
   ]
  },
  {
   "cell_type": "markdown",
   "id": "631f4688",
   "metadata": {},
   "source": [
    "Ans. 9 :-\n",
    "\n",
    "(A) _abc (C) abc2"
   ]
  },
  {
   "cell_type": "markdown",
   "id": "edf9edf9",
   "metadata": {},
   "source": [
    "Ans. 10  :-\n",
    "\n",
    "(A) yield (B) raise"
   ]
  },
  {
   "cell_type": "markdown",
   "id": "5262e972",
   "metadata": {},
   "source": [
    "Ans. 11  :-"
   ]
  },
  {
   "cell_type": "code",
   "execution_count": 12,
   "id": "f101d7d5",
   "metadata": {},
   "outputs": [
    {
     "name": "stdout",
     "output_type": "stream",
     "text": [
      "enter a number :- 5\n",
      "Factorial of the given number is:  120\n"
     ]
    }
   ],
   "source": [
    "# find the factorial of a number.\n",
    "\n",
    "number = int(input(\"enter a number :- \"))\n",
    "factorial = 1\n",
    "\n",
    "if(number < 0):\n",
    "    print(\"Factorial number can't calculated for negative numbers\")\n",
    "    \n",
    "elif(number == 0):\n",
    "    print(\"Factorial number is 1\")\n",
    "    \n",
    "else:\n",
    "    for i in range(1,number+1):\n",
    "        factorial = factorial * i\n",
    "    print(\"Factorial of the given number is: \",factorial)"
   ]
  },
  {
   "cell_type": "markdown",
   "id": "8e9841fc",
   "metadata": {},
   "source": [
    "Ans. 12  :-"
   ]
  },
  {
   "cell_type": "code",
   "execution_count": 13,
   "id": "fc22822e",
   "metadata": {},
   "outputs": [
    {
     "name": "stdout",
     "output_type": "stream",
     "text": [
      "enter a number :- 6\n",
      "number is not prime or composite\n"
     ]
    }
   ],
   "source": [
    "# find whether a number is prime or composite.\n",
    "\n",
    "number = int(input(\"enter a number :- \"))\n",
    "\n",
    "if(number == 0 or number == 1):\n",
    "    print(\"number is nither prime nor composite\")\n",
    "    \n",
    "elif(number > 1):\n",
    "    for i in range(2,number):\n",
    "        if(number % i == 0):\n",
    "            print(\"number is not prime or composite\")\n",
    "            break\n",
    "    else:\n",
    "        print(\"number is prime\")\n",
    "else:\n",
    "    print(\"enter positivie number only\")"
   ]
  },
  {
   "cell_type": "markdown",
   "id": "5d91738b",
   "metadata": {},
   "source": [
    "Ans.13 :-"
   ]
  },
  {
   "cell_type": "code",
   "execution_count": 14,
   "id": "2b87fa17",
   "metadata": {},
   "outputs": [
    {
     "name": "stdout",
     "output_type": "stream",
     "text": [
      "enter any text :- aba\n",
      "string is palindrome\n"
     ]
    }
   ],
   "source": [
    "# check whether a given string is palindrome or not.\n",
    "\n",
    "string = input(\"enter any text :- \")\n",
    "string2 = ''\n",
    "\n",
    "for i in string:\n",
    "    string2 = i+string2\n",
    "    \n",
    "if(string == string2):\n",
    "    print('string is palindrome')\n",
    "    \n",
    "else:\n",
    "    print('string is not palindrome')"
   ]
  },
  {
   "cell_type": "markdown",
   "id": "f7077bf7",
   "metadata": {},
   "source": [
    "Ans.14 :-"
   ]
  },
  {
   "cell_type": "code",
   "execution_count": 15,
   "id": "d8e4fd67",
   "metadata": {},
   "outputs": [
    {
     "name": "stdout",
     "output_type": "stream",
     "text": [
      "Hypotenuse = 5.0\n",
      "Adjacent = 4.0\n",
      "Opposite = 3.0\n",
      "You know the answer!\n"
     ]
    }
   ],
   "source": [
    "# get the third side of right-angled triangle from two given sides.\n",
    "\n",
    "def pythagoras(opposite_side,adjacent_side,hypotenuse):\n",
    "        if opposite_side == str(\"x\"):\n",
    "            return (\"Opposite = \" + str(((hypotenuse**2) - (adjacent_side**2))**0.5))\n",
    "        elif adjacent_side == str(\"x\"):\n",
    "            return (\"Adjacent = \" + str(((hypotenuse**2) - (opposite_side**2))**0.5))\n",
    "        elif hypotenuse == str(\"x\"):\n",
    "            return (\"Hypotenuse = \" + str(((opposite_side**2) + (adjacent_side**2))**0.5))\n",
    "        else:\n",
    "            return \"You know the answer!\"\n",
    "    \n",
    "print(pythagoras(3,4,'x'))\n",
    "print(pythagoras(3,'x',5))\n",
    "print(pythagoras('x',4,5))\n",
    "print(pythagoras(3,4,5))"
   ]
  },
  {
   "cell_type": "markdown",
   "id": "9f246601",
   "metadata": {},
   "source": [
    "Ans.15 :-"
   ]
  },
  {
   "cell_type": "code",
   "execution_count": 16,
   "id": "f560eb4f",
   "metadata": {},
   "outputs": [
    {
     "name": "stdout",
     "output_type": "stream",
     "text": [
      "enter a string :- dipakds\n",
      "frequency of given string :-  {'d': 2, 'i': 1, 'p': 1, 'a': 1, 'k': 1, 's': 1}\n"
     ]
    }
   ],
   "source": [
    "# print the frequency of each of the characters present in a given string.\n",
    "\n",
    "str1 = input(\"enter a string :- \")\n",
    "def char_frequency(str1):\n",
    "    dict = {}\n",
    "    for n in str1:\n",
    "        keys = dict.keys()\n",
    "        if n in keys:\n",
    "            dict[n] += 1\n",
    "        else:\n",
    "            dict[n] = 1\n",
    "    return dict\n",
    "print('frequency of given string :- ',char_frequency(str1))"
   ]
  }
 ],
 "metadata": {
  "kernelspec": {
   "display_name": "Python 3 (ipykernel)",
   "language": "python",
   "name": "python3"
  },
  "language_info": {
   "codemirror_mode": {
    "name": "ipython",
    "version": 3
   },
   "file_extension": ".py",
   "mimetype": "text/x-python",
   "name": "python",
   "nbconvert_exporter": "python",
   "pygments_lexer": "ipython3",
   "version": "3.9.7"
  }
 },
 "nbformat": 4,
 "nbformat_minor": 5
}
