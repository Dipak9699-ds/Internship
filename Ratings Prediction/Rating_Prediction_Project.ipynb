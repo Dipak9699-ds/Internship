{
 "cells": [
  {
   "cell_type": "markdown",
   "id": "9d7a10a1",
   "metadata": {},
   "source": [
    "# Import the libraries."
   ]
  },
  {
   "cell_type": "code",
   "execution_count": 1,
   "id": "271a6610",
   "metadata": {},
   "outputs": [],
   "source": [
    "import numpy as np\n",
    "import matplotlib.pyplot as plt\n",
    "import seaborn as sns\n",
    "import warnings\n",
    "warnings.filterwarnings('ignore')"
   ]
  },
  {
   "cell_type": "markdown",
   "id": "b52d852f",
   "metadata": {},
   "source": [
    "# Load the dataset."
   ]
  },
  {
   "cell_type": "code",
   "execution_count": 2,
   "id": "2d13ff8e",
   "metadata": {},
   "outputs": [
    {
     "data": {
      "text/html": [
       "<div>\n",
       "<style scoped>\n",
       "    .dataframe tbody tr th:only-of-type {\n",
       "        vertical-align: middle;\n",
       "    }\n",
       "\n",
       "    .dataframe tbody tr th {\n",
       "        vertical-align: top;\n",
       "    }\n",
       "\n",
       "    .dataframe thead th {\n",
       "        text-align: right;\n",
       "    }\n",
       "</style>\n",
       "<table border=\"1\" class=\"dataframe\">\n",
       "  <thead>\n",
       "    <tr style=\"text-align: right;\">\n",
       "      <th></th>\n",
       "      <th>Unnamed: 0</th>\n",
       "      <th>Review_title</th>\n",
       "      <th>Reiew_text</th>\n",
       "      <th>Ratings</th>\n",
       "    </tr>\n",
       "  </thead>\n",
       "  <tbody>\n",
       "    <tr>\n",
       "      <th>0</th>\n",
       "      <td>0</td>\n",
       "      <td>Terrific purchase</td>\n",
       "      <td>Booting time is simply excellent\\nLook is prem...</td>\n",
       "      <td>5</td>\n",
       "    </tr>\n",
       "    <tr>\n",
       "      <th>1</th>\n",
       "      <td>1</td>\n",
       "      <td>Awesome</td>\n",
       "      <td>Good processor\\nLong lasting battery\\nCompatib...</td>\n",
       "      <td>5</td>\n",
       "    </tr>\n",
       "    <tr>\n",
       "      <th>2</th>\n",
       "      <td>2</td>\n",
       "      <td>Wonderful</td>\n",
       "      <td>Good product</td>\n",
       "      <td>5</td>\n",
       "    </tr>\n",
       "    <tr>\n",
       "      <th>3</th>\n",
       "      <td>3</td>\n",
       "      <td>Good choice</td>\n",
       "      <td>Good light weight laptop in this budget range....</td>\n",
       "      <td>4</td>\n",
       "    </tr>\n",
       "    <tr>\n",
       "      <th>4</th>\n",
       "      <td>4</td>\n",
       "      <td>Awesome</td>\n",
       "      <td>Go for it</td>\n",
       "      <td>5</td>\n",
       "    </tr>\n",
       "    <tr>\n",
       "      <th>...</th>\n",
       "      <td>...</td>\n",
       "      <td>...</td>\n",
       "      <td>...</td>\n",
       "      <td>...</td>\n",
       "    </tr>\n",
       "    <tr>\n",
       "      <th>36540</th>\n",
       "      <td>36540</td>\n",
       "      <td>Good</td>\n",
       "      <td>NaN</td>\n",
       "      <td>4.0 out of 5 stars</td>\n",
       "    </tr>\n",
       "    <tr>\n",
       "      <th>36541</th>\n",
       "      <td>36541</td>\n",
       "      <td>Look of the phone is nice...</td>\n",
       "      <td>Like it...</td>\n",
       "      <td>4.0 out of 5 stars</td>\n",
       "    </tr>\n",
       "    <tr>\n",
       "      <th>36542</th>\n",
       "      <td>36542</td>\n",
       "      <td>Nice mobile</td>\n",
       "      <td>Working fine still</td>\n",
       "      <td>4.0 out of 5 stars</td>\n",
       "    </tr>\n",
       "    <tr>\n",
       "      <th>36543</th>\n",
       "      <td>36543</td>\n",
       "      <td>Not bad</td>\n",
       "      <td>Just okay</td>\n",
       "      <td>4.0 out of 5 stars</td>\n",
       "    </tr>\n",
       "    <tr>\n",
       "      <th>36544</th>\n",
       "      <td>36544</td>\n",
       "      <td>NaN</td>\n",
       "      <td>NaN</td>\n",
       "      <td>NaN</td>\n",
       "    </tr>\n",
       "  </tbody>\n",
       "</table>\n",
       "<p>36545 rows × 4 columns</p>\n",
       "</div>"
      ],
      "text/plain": [
       "       Unnamed: 0                  Review_title  \\\n",
       "0               0             Terrific purchase   \n",
       "1               1                       Awesome   \n",
       "2               2                     Wonderful   \n",
       "3               3                   Good choice   \n",
       "4               4                       Awesome   \n",
       "...           ...                           ...   \n",
       "36540       36540                          Good   \n",
       "36541       36541  Look of the phone is nice...   \n",
       "36542       36542                   Nice mobile   \n",
       "36543       36543                       Not bad   \n",
       "36544       36544                           NaN   \n",
       "\n",
       "                                              Reiew_text             Ratings  \n",
       "0      Booting time is simply excellent\\nLook is prem...                   5  \n",
       "1      Good processor\\nLong lasting battery\\nCompatib...                   5  \n",
       "2                                           Good product                   5  \n",
       "3      Good light weight laptop in this budget range....                   4  \n",
       "4                                              Go for it                   5  \n",
       "...                                                  ...                 ...  \n",
       "36540                                                NaN  4.0 out of 5 stars  \n",
       "36541                                         Like it...  4.0 out of 5 stars  \n",
       "36542                                 Working fine still  4.0 out of 5 stars  \n",
       "36543                                          Just okay  4.0 out of 5 stars  \n",
       "36544                                                NaN                 NaN  \n",
       "\n",
       "[36545 rows x 4 columns]"
      ]
     },
     "execution_count": 2,
     "metadata": {},
     "output_type": "execute_result"
    }
   ],
   "source": [
    "import pandas as pd\n",
    "df = pd.read_csv(r'Review_rating.csv')\n",
    "df"
   ]
  },
  {
   "cell_type": "code",
   "execution_count": 3,
   "id": "a716a3a1",
   "metadata": {},
   "outputs": [
    {
     "data": {
      "text/html": [
       "<div>\n",
       "<style scoped>\n",
       "    .dataframe tbody tr th:only-of-type {\n",
       "        vertical-align: middle;\n",
       "    }\n",
       "\n",
       "    .dataframe tbody tr th {\n",
       "        vertical-align: top;\n",
       "    }\n",
       "\n",
       "    .dataframe thead th {\n",
       "        text-align: right;\n",
       "    }\n",
       "</style>\n",
       "<table border=\"1\" class=\"dataframe\">\n",
       "  <thead>\n",
       "    <tr style=\"text-align: right;\">\n",
       "      <th></th>\n",
       "      <th>Review_title</th>\n",
       "      <th>Reiew_text</th>\n",
       "      <th>Ratings</th>\n",
       "    </tr>\n",
       "  </thead>\n",
       "  <tbody>\n",
       "    <tr>\n",
       "      <th>0</th>\n",
       "      <td>Terrific purchase</td>\n",
       "      <td>Booting time is simply excellent\\nLook is prem...</td>\n",
       "      <td>5</td>\n",
       "    </tr>\n",
       "    <tr>\n",
       "      <th>1</th>\n",
       "      <td>Awesome</td>\n",
       "      <td>Good processor\\nLong lasting battery\\nCompatib...</td>\n",
       "      <td>5</td>\n",
       "    </tr>\n",
       "    <tr>\n",
       "      <th>2</th>\n",
       "      <td>Wonderful</td>\n",
       "      <td>Good product</td>\n",
       "      <td>5</td>\n",
       "    </tr>\n",
       "    <tr>\n",
       "      <th>3</th>\n",
       "      <td>Good choice</td>\n",
       "      <td>Good light weight laptop in this budget range....</td>\n",
       "      <td>4</td>\n",
       "    </tr>\n",
       "    <tr>\n",
       "      <th>4</th>\n",
       "      <td>Awesome</td>\n",
       "      <td>Go for it</td>\n",
       "      <td>5</td>\n",
       "    </tr>\n",
       "  </tbody>\n",
       "</table>\n",
       "</div>"
      ],
      "text/plain": [
       "        Review_title                                         Reiew_text  \\\n",
       "0  Terrific purchase  Booting time is simply excellent\\nLook is prem...   \n",
       "1            Awesome  Good processor\\nLong lasting battery\\nCompatib...   \n",
       "2          Wonderful                                       Good product   \n",
       "3        Good choice  Good light weight laptop in this budget range....   \n",
       "4            Awesome                                          Go for it   \n",
       "\n",
       "  Ratings  \n",
       "0       5  \n",
       "1       5  \n",
       "2       5  \n",
       "3       4  \n",
       "4       5  "
      ]
     },
     "execution_count": 3,
     "metadata": {},
     "output_type": "execute_result"
    }
   ],
   "source": [
    "# Drop unnamed column.\n",
    "df.drop(columns='Unnamed: 0',axis=1,inplace=True)\n",
    "df.head()"
   ]
  },
  {
   "cell_type": "code",
   "execution_count": 4,
   "id": "b1518c58",
   "metadata": {},
   "outputs": [
    {
     "data": {
      "text/plain": [
       "(36545, 3)"
      ]
     },
     "execution_count": 4,
     "metadata": {},
     "output_type": "execute_result"
    }
   ],
   "source": [
    "# Get the numbers of rows and columns.\n",
    "df.shape"
   ]
  },
  {
   "cell_type": "code",
   "execution_count": 5,
   "id": "b60932c1",
   "metadata": {},
   "outputs": [
    {
     "data": {
      "text/plain": [
       "Index(['Review_title', 'Reiew_text', 'Ratings'], dtype='object')"
      ]
     },
     "execution_count": 5,
     "metadata": {},
     "output_type": "execute_result"
    }
   ],
   "source": [
    "# Check column of the dataframe.\n",
    "df.columns"
   ]
  },
  {
   "cell_type": "code",
   "execution_count": 6,
   "id": "192039fd",
   "metadata": {},
   "outputs": [
    {
     "data": {
      "text/plain": [
       "Review_title    object\n",
       "Reiew_text      object\n",
       "Ratings         object\n",
       "dtype: object"
      ]
     },
     "execution_count": 6,
     "metadata": {},
     "output_type": "execute_result"
    }
   ],
   "source": [
    "# Get the column datatypes.\n",
    "df.dtypes"
   ]
  },
  {
   "cell_type": "code",
   "execution_count": 7,
   "id": "8527fcf1",
   "metadata": {},
   "outputs": [
    {
     "name": "stdout",
     "output_type": "stream",
     "text": [
      "<class 'pandas.core.frame.DataFrame'>\n",
      "RangeIndex: 36545 entries, 0 to 36544\n",
      "Data columns (total 3 columns):\n",
      " #   Column        Non-Null Count  Dtype \n",
      "---  ------        --------------  ----- \n",
      " 0   Review_title  34547 non-null  object\n",
      " 1   Reiew_text    34225 non-null  object\n",
      " 2   Ratings       34548 non-null  object\n",
      "dtypes: object(3)\n",
      "memory usage: 856.6+ KB\n"
     ]
    }
   ],
   "source": [
    "# Basic information about dataset.\n",
    "df.info()"
   ]
  },
  {
   "cell_type": "code",
   "execution_count": 8,
   "id": "92e0d75c",
   "metadata": {},
   "outputs": [
    {
     "data": {
      "text/plain": [
       "Review_title    1998\n",
       "Reiew_text      2320\n",
       "Ratings         1997\n",
       "dtype: int64"
      ]
     },
     "execution_count": 8,
     "metadata": {},
     "output_type": "execute_result"
    }
   ],
   "source": [
    "# Get a count of the empty values for each column.\n",
    "df.isna().sum()"
   ]
  },
  {
   "cell_type": "code",
   "execution_count": 9,
   "id": "a9f99964",
   "metadata": {},
   "outputs": [
    {
     "data": {
      "text/plain": [
       "True"
      ]
     },
     "execution_count": 9,
     "metadata": {},
     "output_type": "execute_result"
    }
   ],
   "source": [
    "# Check any missing/null values in the dataset.\n",
    "df.isnull().values.any()"
   ]
  },
  {
   "cell_type": "code",
   "execution_count": 10,
   "id": "b2366867",
   "metadata": {},
   "outputs": [
    {
     "data": {
      "text/plain": [
       "<AxesSubplot:>"
      ]
     },
     "execution_count": 10,
     "metadata": {},
     "output_type": "execute_result"
    },
    {
     "data": {
      "image/png": "[encoded data removed]",
      "text/plain": [
       "<Figure size 432x288 with 2 Axes>"
      ]
     },
     "metadata": {
      "needs_background": "light"
     },
     "output_type": "display_data"
    }
   ],
   "source": [
    "# Checking for null values using heatmap.\n",
    "sns.heatmap(df.isnull())"
   ]
  },
  {
   "cell_type": "code",
   "execution_count": 11,
   "id": "1ab5c11c",
   "metadata": {},
   "outputs": [
    {
     "data": {
      "text/html": [
       "<div>\n",
       "<style scoped>\n",
       "    .dataframe tbody tr th:only-of-type {\n",
       "        vertical-align: middle;\n",
       "    }\n",
       "\n",
       "    .dataframe tbody tr th {\n",
       "        vertical-align: top;\n",
       "    }\n",
       "\n",
       "    .dataframe thead th {\n",
       "        text-align: right;\n",
       "    }\n",
       "</style>\n",
       "<table border=\"1\" class=\"dataframe\">\n",
       "  <thead>\n",
       "    <tr style=\"text-align: right;\">\n",
       "      <th></th>\n",
       "      <th>Review_title</th>\n",
       "      <th>Reiew_text</th>\n",
       "      <th>Ratings</th>\n",
       "    </tr>\n",
       "  </thead>\n",
       "  <tbody>\n",
       "    <tr>\n",
       "      <th>0</th>\n",
       "      <td>Terrific purchase</td>\n",
       "      <td>Booting time is simply excellent\\nLook is prem...</td>\n",
       "      <td>5</td>\n",
       "    </tr>\n",
       "    <tr>\n",
       "      <th>1</th>\n",
       "      <td>Awesome</td>\n",
       "      <td>Good processor\\nLong lasting battery\\nCompatib...</td>\n",
       "      <td>5</td>\n",
       "    </tr>\n",
       "    <tr>\n",
       "      <th>2</th>\n",
       "      <td>Wonderful</td>\n",
       "      <td>Good product</td>\n",
       "      <td>5</td>\n",
       "    </tr>\n",
       "    <tr>\n",
       "      <th>3</th>\n",
       "      <td>Good choice</td>\n",
       "      <td>Good light weight laptop in this budget range....</td>\n",
       "      <td>4</td>\n",
       "    </tr>\n",
       "    <tr>\n",
       "      <th>4</th>\n",
       "      <td>Awesome</td>\n",
       "      <td>Go for it</td>\n",
       "      <td>5</td>\n",
       "    </tr>\n",
       "    <tr>\n",
       "      <th>...</th>\n",
       "      <td>...</td>\n",
       "      <td>...</td>\n",
       "      <td>...</td>\n",
       "    </tr>\n",
       "    <tr>\n",
       "      <th>36540</th>\n",
       "      <td>Good</td>\n",
       "      <td>NaN</td>\n",
       "      <td>4.0 out of 5 stars</td>\n",
       "    </tr>\n",
       "    <tr>\n",
       "      <th>36541</th>\n",
       "      <td>Look of the phone is nice...</td>\n",
       "      <td>Like it...</td>\n",
       "      <td>4.0 out of 5 stars</td>\n",
       "    </tr>\n",
       "    <tr>\n",
       "      <th>36542</th>\n",
       "      <td>Nice mobile</td>\n",
       "      <td>Working fine still</td>\n",
       "      <td>4.0 out of 5 stars</td>\n",
       "    </tr>\n",
       "    <tr>\n",
       "      <th>36543</th>\n",
       "      <td>Not bad</td>\n",
       "      <td>Just okay</td>\n",
       "      <td>4.0 out of 5 stars</td>\n",
       "    </tr>\n",
       "    <tr>\n",
       "      <th>36544</th>\n",
       "      <td>NaN</td>\n",
       "      <td>NaN</td>\n",
       "      <td>NaN</td>\n",
       "    </tr>\n",
       "  </tbody>\n",
       "</table>\n",
       "<p>36545 rows × 3 columns</p>\n",
       "</div>"
      ],
      "text/plain": [
       "                       Review_title  \\\n",
       "0                 Terrific purchase   \n",
       "1                           Awesome   \n",
       "2                         Wonderful   \n",
       "3                       Good choice   \n",
       "4                           Awesome   \n",
       "...                             ...   \n",
       "36540                          Good   \n",
       "36541  Look of the phone is nice...   \n",
       "36542                   Nice mobile   \n",
       "36543                       Not bad   \n",
       "36544                           NaN   \n",
       "\n",
       "                                              Reiew_text             Ratings  \n",
       "0      Booting time is simply excellent\\nLook is prem...                   5  \n",
       "1      Good processor\\nLong lasting battery\\nCompatib...                   5  \n",
       "2                                           Good product                   5  \n",
       "3      Good light weight laptop in this budget range....                   4  \n",
       "4                                              Go for it                   5  \n",
       "...                                                  ...                 ...  \n",
       "36540                                                NaN  4.0 out of 5 stars  \n",
       "36541                                         Like it...  4.0 out of 5 stars  \n",
       "36542                                 Working fine still  4.0 out of 5 stars  \n",
       "36543                                          Just okay  4.0 out of 5 stars  \n",
       "36544                                                NaN                 NaN  \n",
       "\n",
       "[36545 rows x 3 columns]"
      ]
     },
     "execution_count": 11,
     "metadata": {},
     "output_type": "execute_result"
    }
   ],
   "source": [
    "df"
   ]
  },
  {
   "cell_type": "code",
   "execution_count": 12,
   "id": "80ec4111",
   "metadata": {},
   "outputs": [],
   "source": [
    "# Replace unnecessary words from rating column. \n",
    "df['Ratings']= df['Ratings'].str.replace('.0 out of 5 stars','')"
   ]
  },
  {
   "cell_type": "code",
   "execution_count": 18,
   "id": "fcbb5608",
   "metadata": {},
   "outputs": [],
   "source": [
    "# Drop NA values from dataframe.\n",
    "df.dropna(axis=0,inplace=True)"
   ]
  },
  {
   "cell_type": "code",
   "execution_count": 20,
   "id": "0cef4339",
   "metadata": {},
   "outputs": [],
   "source": [
    "# Reset indexing of dataframe after removing NA values.\n",
    "df.reset_index(drop=True, inplace=True)"
   ]
  },
  {
   "cell_type": "code",
   "execution_count": 21,
   "id": "4386eaef",
   "metadata": {},
   "outputs": [
    {
     "data": {
      "text/html": [
       "<div>\n",
       "<style scoped>\n",
       "    .dataframe tbody tr th:only-of-type {\n",
       "        vertical-align: middle;\n",
       "    }\n",
       "\n",
       "    .dataframe tbody tr th {\n",
       "        vertical-align: top;\n",
       "    }\n",
       "\n",
       "    .dataframe thead th {\n",
       "        text-align: right;\n",
       "    }\n",
       "</style>\n",
       "<table border=\"1\" class=\"dataframe\">\n",
       "  <thead>\n",
       "    <tr style=\"text-align: right;\">\n",
       "      <th></th>\n",
       "      <th>Review_title</th>\n",
       "      <th>Reiew_text</th>\n",
       "      <th>Ratings</th>\n",
       "    </tr>\n",
       "  </thead>\n",
       "  <tbody>\n",
       "    <tr>\n",
       "      <th>0</th>\n",
       "      <td>Terrific purchase</td>\n",
       "      <td>Booting time is simply excellent\\nLook is prem...</td>\n",
       "      <td>5</td>\n",
       "    </tr>\n",
       "    <tr>\n",
       "      <th>1</th>\n",
       "      <td>Awesome</td>\n",
       "      <td>Good processor\\nLong lasting battery\\nCompatib...</td>\n",
       "      <td>5</td>\n",
       "    </tr>\n",
       "    <tr>\n",
       "      <th>2</th>\n",
       "      <td>Wonderful</td>\n",
       "      <td>Good product</td>\n",
       "      <td>5</td>\n",
       "    </tr>\n",
       "    <tr>\n",
       "      <th>3</th>\n",
       "      <td>Good choice</td>\n",
       "      <td>Good light weight laptop in this budget range....</td>\n",
       "      <td>4</td>\n",
       "    </tr>\n",
       "    <tr>\n",
       "      <th>4</th>\n",
       "      <td>Awesome</td>\n",
       "      <td>Go for it</td>\n",
       "      <td>5</td>\n",
       "    </tr>\n",
       "    <tr>\n",
       "      <th>...</th>\n",
       "      <td>...</td>\n",
       "      <td>...</td>\n",
       "      <td>...</td>\n",
       "    </tr>\n",
       "    <tr>\n",
       "      <th>34220</th>\n",
       "      <td>Overall good</td>\n",
       "      <td>Overall good</td>\n",
       "      <td>4</td>\n",
       "    </tr>\n",
       "    <tr>\n",
       "      <th>34221</th>\n",
       "      <td>Good</td>\n",
       "      <td>Good</td>\n",
       "      <td>4</td>\n",
       "    </tr>\n",
       "    <tr>\n",
       "      <th>34222</th>\n",
       "      <td>Look of the phone is nice...</td>\n",
       "      <td>Like it...</td>\n",
       "      <td>4</td>\n",
       "    </tr>\n",
       "    <tr>\n",
       "      <th>34223</th>\n",
       "      <td>Nice mobile</td>\n",
       "      <td>Working fine still</td>\n",
       "      <td>4</td>\n",
       "    </tr>\n",
       "    <tr>\n",
       "      <th>34224</th>\n",
       "      <td>Not bad</td>\n",
       "      <td>Just okay</td>\n",
       "      <td>4</td>\n",
       "    </tr>\n",
       "  </tbody>\n",
       "</table>\n",
       "<p>34225 rows × 3 columns</p>\n",
       "</div>"
      ],
      "text/plain": [
       "                       Review_title  \\\n",
       "0                 Terrific purchase   \n",
       "1                           Awesome   \n",
       "2                         Wonderful   \n",
       "3                       Good choice   \n",
       "4                           Awesome   \n",
       "...                             ...   \n",
       "34220                  Overall good   \n",
       "34221                          Good   \n",
       "34222  Look of the phone is nice...   \n",
       "34223                   Nice mobile   \n",
       "34224                       Not bad   \n",
       "\n",
       "                                              Reiew_text Ratings  \n",
       "0      Booting time is simply excellent\\nLook is prem...       5  \n",
       "1      Good processor\\nLong lasting battery\\nCompatib...       5  \n",
       "2                                           Good product       5  \n",
       "3      Good light weight laptop in this budget range....       4  \n",
       "4                                              Go for it       5  \n",
       "...                                                  ...     ...  \n",
       "34220                                       Overall good       4  \n",
       "34221                                               Good       4  \n",
       "34222                                         Like it...       4  \n",
       "34223                                 Working fine still       4  \n",
       "34224                                          Just okay       4  \n",
       "\n",
       "[34225 rows x 3 columns]"
      ]
     },
     "execution_count": 21,
     "metadata": {},
     "output_type": "execute_result"
    }
   ],
   "source": [
    "df"
   ]
  },
  {
   "cell_type": "code",
   "execution_count": 23,
   "id": "d0b97104",
   "metadata": {},
   "outputs": [],
   "source": [
    "# Convert obj into int of rating column.\n",
    "df['Ratings'] = pd.to_numeric(df['Ratings'])"
   ]
  },
  {
   "cell_type": "code",
   "execution_count": 24,
   "id": "2f95e2ab",
   "metadata": {},
   "outputs": [
    {
     "data": {
      "text/plain": [
       "Review_title    object\n",
       "Reiew_text      object\n",
       "Ratings          int64\n",
       "dtype: object"
      ]
     },
     "execution_count": 24,
     "metadata": {},
     "output_type": "execute_result"
    }
   ],
   "source": [
    "# Get the column datatypes.\n",
    "df.dtypes"
   ]
  },
  {
   "cell_type": "code",
   "execution_count": 35,
   "id": "30c6a209",
   "metadata": {},
   "outputs": [
    {
     "data": {
      "text/plain": [
       "16386"
      ]
     },
     "execution_count": 35,
     "metadata": {},
     "output_type": "execute_result"
    }
   ],
   "source": [
    "# sum of duplicates values.\n",
    "df.duplicated().sum()"
   ]
  },
  {
   "cell_type": "code",
   "execution_count": 36,
   "id": "a9ab692a",
   "metadata": {},
   "outputs": [],
   "source": [
    "# dropping duplicates rows.\n",
    "df.drop_duplicates(inplace=True)"
   ]
  },
  {
   "cell_type": "markdown",
   "id": "d26054f3",
   "metadata": {},
   "source": [
    "# Data Analysis and Visualization"
   ]
  },
  {
   "cell_type": "code",
   "execution_count": 37,
   "id": "7c251901",
   "metadata": {},
   "outputs": [
    {
     "data": {
      "text/html": [
       "<style type=\"text/css\">\n",
       "#T_094ef_row0_col0 {\n",
       "  background-color: #023858;\n",
       "  color: #f1f1f1;\n",
       "}\n",
       "#T_094ef_row1_col0, #T_094ef_row2_col0, #T_094ef_row3_col0, #T_094ef_row4_col0, #T_094ef_row5_col0, #T_094ef_row6_col0, #T_094ef_row7_col0 {\n",
       "  background-color: #fff7fb;\n",
       "  color: #000000;\n",
       "}\n",
       "</style>\n",
       "<table id=\"T_094ef\">\n",
       "  <thead>\n",
       "    <tr>\n",
       "      <th class=\"blank level0\" >&nbsp;</th>\n",
       "      <th id=\"T_094ef_level0_col0\" class=\"col_heading level0 col0\" >Ratings</th>\n",
       "    </tr>\n",
       "  </thead>\n",
       "  <tbody>\n",
       "    <tr>\n",
       "      <th id=\"T_094ef_level0_row0\" class=\"row_heading level0 row0\" >count</th>\n",
       "      <td id=\"T_094ef_row0_col0\" class=\"data row0 col0\" >17839.000000</td>\n",
       "    </tr>\n",
       "    <tr>\n",
       "      <th id=\"T_094ef_level0_row1\" class=\"row_heading level0 row1\" >mean</th>\n",
       "      <td id=\"T_094ef_row1_col0\" class=\"data row1 col0\" >3.660743</td>\n",
       "    </tr>\n",
       "    <tr>\n",
       "      <th id=\"T_094ef_level0_row2\" class=\"row_heading level0 row2\" >std</th>\n",
       "      <td id=\"T_094ef_row2_col0\" class=\"data row2 col0\" >1.499987</td>\n",
       "    </tr>\n",
       "    <tr>\n",
       "      <th id=\"T_094ef_level0_row3\" class=\"row_heading level0 row3\" >min</th>\n",
       "      <td id=\"T_094ef_row3_col0\" class=\"data row3 col0\" >1.000000</td>\n",
       "    </tr>\n",
       "    <tr>\n",
       "      <th id=\"T_094ef_level0_row4\" class=\"row_heading level0 row4\" >25%</th>\n",
       "      <td id=\"T_094ef_row4_col0\" class=\"data row4 col0\" >2.000000</td>\n",
       "    </tr>\n",
       "    <tr>\n",
       "      <th id=\"T_094ef_level0_row5\" class=\"row_heading level0 row5\" >50%</th>\n",
       "      <td id=\"T_094ef_row5_col0\" class=\"data row5 col0\" >4.000000</td>\n",
       "    </tr>\n",
       "    <tr>\n",
       "      <th id=\"T_094ef_level0_row6\" class=\"row_heading level0 row6\" >75%</th>\n",
       "      <td id=\"T_094ef_row6_col0\" class=\"data row6 col0\" >5.000000</td>\n",
       "    </tr>\n",
       "    <tr>\n",
       "      <th id=\"T_094ef_level0_row7\" class=\"row_heading level0 row7\" >max</th>\n",
       "      <td id=\"T_094ef_row7_col0\" class=\"data row7 col0\" >5.000000</td>\n",
       "    </tr>\n",
       "  </tbody>\n",
       "</table>\n"
      ],
      "text/plain": [
       "<pandas.io.formats.style.Styler at 0x1bae855bfa0>"
      ]
     },
     "execution_count": 37,
     "metadata": {},
     "output_type": "execute_result"
    }
   ],
   "source": [
    "#summary statistics.\n",
    "df.describe().style.background_gradient()"
   ]
  },
  {
   "cell_type": "code",
   "execution_count": 38,
   "id": "3f24dee5",
   "metadata": {},
   "outputs": [
    {
     "data": {
      "text/plain": [
       "<AxesSubplot:xlabel='Ratings', ylabel='count'>"
      ]
     },
     "execution_count": 38,
     "metadata": {},
     "output_type": "execute_result"
    },
    {
     "data": {
      "image/png": "[encoded data removed]",
      "text/plain": [
       "<Figure size 432x288 with 1 Axes>"
      ]
     },
     "metadata": {
      "needs_background": "light"
     },
     "output_type": "display_data"
    }
   ],
   "source": [
    "#Visualize the rating column.\n",
    "sns.countplot(df['Ratings'])"
   ]
  },
  {
   "cell_type": "code",
   "execution_count": 39,
   "id": "b473c3f1",
   "metadata": {},
   "outputs": [
    {
     "data": {
      "text/plain": [
       "array([[<AxesSubplot:title={'center':'Ratings'}>]], dtype=object)"
      ]
     },
     "execution_count": 39,
     "metadata": {},
     "output_type": "execute_result"
    },
    {
     "data": {
      "image/png": "[encoded data removed]",
      "text/plain": [
       "<Figure size 576x288 with 1 Axes>"
      ]
     },
     "metadata": {
      "needs_background": "light"
     },
     "output_type": "display_data"
    }
   ],
   "source": [
    "# display histogram of a rating column.\n",
    "df.hist(figsize=(8,4), layout=(1,1), sharex=False, bins=20)"
   ]
  },
  {
   "cell_type": "code",
   "execution_count": 41,
   "id": "e2e7515d",
   "metadata": {},
   "outputs": [
    {
     "data": {
      "text/plain": [
       "Ratings    AxesSubplot(0.125,0.125;0.775x0.755)\n",
       "dtype: object"
      ]
     },
     "execution_count": 41,
     "metadata": {},
     "output_type": "execute_result"
    },
    {
     "data": {
      "image/png": "[encoded data removed]",
      "text/plain": [
       "<Figure size 576x288 with 1 Axes>"
      ]
     },
     "metadata": {
      "needs_background": "light"
     },
     "output_type": "display_data"
    }
   ],
   "source": [
    "# checking outliers with boxplot.\n",
    "df.plot(kind='box', subplots=True, layout=(1,1), figsize=(8,4))"
   ]
  },
  {
   "cell_type": "markdown",
   "id": "da9f873e",
   "metadata": {},
   "source": [
    "# Data Preprocessing with NLP"
   ]
  },
  {
   "cell_type": "code",
   "execution_count": 42,
   "id": "ec92c890",
   "metadata": {},
   "outputs": [],
   "source": [
    "# expanding English language contractions: https://stackoverflow.com/a/47091490/4084039\n",
    "\n",
    "import re\n",
    "\n",
    "def decontracted(phrase):\n",
    "    # specific\n",
    "    phrase = re.sub(r\"“\", '\"', phrase)\n",
    "    phrase = re.sub(r\"”\", '\"', phrase)\n",
    "    phrase = re.sub(r\"‘\", \"'\", phrase)\n",
    "    phrase = re.sub(r\"’\", \"'\", phrase)\n",
    "    phrase = re.sub(r\"won\\'t\", \"will not\", phrase)\n",
    "    phrase = re.sub(r\"can\\'t\", \"can not\", phrase)\n",
    "\n",
    "    # general\n",
    "    phrase = re.sub(r\"n\\'t\", \" not\", phrase)\n",
    "    phrase = re.sub(r\"\\'re\", \" are\", phrase)\n",
    "    phrase = re.sub(r\"\\'s\", \" is\", phrase)\n",
    "    phrase = re.sub(r\"\\'d\", \" would\", phrase)\n",
    "    phrase = re.sub(r\"\\'ll\", \" will\", phrase)\n",
    "    phrase = re.sub(r\"\\'t\", \" not\", phrase)\n",
    "    phrase = re.sub(r\"\\'ve\", \" have\", phrase)\n",
    "    phrase = re.sub(r\"\\'m\", \" am\", phrase)\n",
    "    return phrase"
   ]
  },
  {
   "cell_type": "code",
   "execution_count": 44,
   "id": "68c8c135",
   "metadata": {},
   "outputs": [],
   "source": [
    "import nltk\n",
    "from nltk.corpus import stopwords\n",
    "from nltk.stem import WordNetLemmatizer"
   ]
  },
  {
   "cell_type": "code",
   "execution_count": 46,
   "id": "9133f7e2",
   "metadata": {},
   "outputs": [],
   "source": [
    "stop_words = stopwords.words('english')"
   ]
  },
  {
   "cell_type": "code",
   "execution_count": 47,
   "id": "8c783900",
   "metadata": {},
   "outputs": [],
   "source": [
    "lemmatizer = WordNetLemmatizer()"
   ]
  },
  {
   "cell_type": "code",
   "execution_count": 49,
   "id": "7d735994",
   "metadata": {},
   "outputs": [
    {
     "name": "stderr",
     "output_type": "stream",
     "text": [
      "100%|██████████████████████████████████████████████████████████████████████████| 17839/17839 [00:03<00:00, 4610.43it/s]\n"
     ]
    }
   ],
   "source": [
    "from tqdm import tqdm\n",
    "preprocessed_titles = []\n",
    "# tqdm is for printing the status bar\n",
    "for sentance in tqdm(df['Review_title'].values):\n",
    "    sent = decontracted(sentance)\n",
    "    sent = re.sub(r'https?:\\/\\/.*[\\r\\n]*','',sent) # remove hyperlinks\n",
    "    sent = re.sub('[^A-Za-z]+',' ',sent) # remove spacial character, numbers: https://stackoverflow.com/a/5843547/4084039\n",
    "    sent = ' '.join(e for e in sent.split() if e not in stop_words) #removing stop words\n",
    "    sent = ' '.join(lemmatizer.lemmatize(e) for e in sent.split()) #lemmatization\n",
    "    preprocessed_titles.append(sent.lower().strip())"
   ]
  },
  {
   "cell_type": "code",
   "execution_count": 50,
   "id": "0e46280f",
   "metadata": {},
   "outputs": [],
   "source": [
    "df['Review_title'] = preprocessed_titles"
   ]
  },
  {
   "cell_type": "code",
   "execution_count": 51,
   "id": "3de07953",
   "metadata": {},
   "outputs": [
    {
     "name": "stderr",
     "output_type": "stream",
     "text": [
      "100%|██████████████████████████████████████████████████████████████████████████| 17839/17839 [00:03<00:00, 4659.75it/s]\n"
     ]
    }
   ],
   "source": [
    "from tqdm import tqdm\n",
    "preprocessed_texts = []\n",
    "# tqdm is for printing the status bar\n",
    "for sentance in tqdm(df['Reiew_text'].values):\n",
    "    sent = decontracted(sentance)\n",
    "    sent = re.sub(r'https?:\\/\\/.*[\\r\\n]*','',sent) # remove hyperlinks\n",
    "    sent = re.sub('[^A-Za-z]+',' ',sent) # remove spacial character, numbers: https://stackoverflow.com/a/5843547/4084039\n",
    "    sent = ' '.join(e for e in sent.split() if e not in stop_words) #removing stop words\n",
    "    sent = ' '.join(lemmatizer.lemmatize(e) for e in sent.split()) #lemmatization\n",
    "    preprocessed_texts.append(sent.lower().strip())"
   ]
  },
  {
   "cell_type": "code",
   "execution_count": 52,
   "id": "0435fe10",
   "metadata": {},
   "outputs": [],
   "source": [
    "df['Reiew_text'] = preprocessed_texts"
   ]
  },
  {
   "cell_type": "code",
   "execution_count": 53,
   "id": "598f6270",
   "metadata": {},
   "outputs": [
    {
     "data": {
      "text/html": [
       "<div>\n",
       "<style scoped>\n",
       "    .dataframe tbody tr th:only-of-type {\n",
       "        vertical-align: middle;\n",
       "    }\n",
       "\n",
       "    .dataframe tbody tr th {\n",
       "        vertical-align: top;\n",
       "    }\n",
       "\n",
       "    .dataframe thead th {\n",
       "        text-align: right;\n",
       "    }\n",
       "</style>\n",
       "<table border=\"1\" class=\"dataframe\">\n",
       "  <thead>\n",
       "    <tr style=\"text-align: right;\">\n",
       "      <th></th>\n",
       "      <th>Review_title</th>\n",
       "      <th>Reiew_text</th>\n",
       "      <th>Ratings</th>\n",
       "    </tr>\n",
       "  </thead>\n",
       "  <tbody>\n",
       "    <tr>\n",
       "      <th>0</th>\n",
       "      <td>terrific purchase</td>\n",
       "      <td>booting time simply excellent look premium bes...</td>\n",
       "      <td>5</td>\n",
       "    </tr>\n",
       "    <tr>\n",
       "      <th>1</th>\n",
       "      <td>awesome</td>\n",
       "      <td>good processor long lasting battery compatible...</td>\n",
       "      <td>5</td>\n",
       "    </tr>\n",
       "    <tr>\n",
       "      <th>2</th>\n",
       "      <td>wonderful</td>\n",
       "      <td>good product</td>\n",
       "      <td>5</td>\n",
       "    </tr>\n",
       "    <tr>\n",
       "      <th>3</th>\n",
       "      <td>good choice</td>\n",
       "      <td>good light weight laptop budget range awesome ...</td>\n",
       "      <td>4</td>\n",
       "    </tr>\n",
       "    <tr>\n",
       "      <th>4</th>\n",
       "      <td>awesome</td>\n",
       "      <td>go</td>\n",
       "      <td>5</td>\n",
       "    </tr>\n",
       "    <tr>\n",
       "      <th>...</th>\n",
       "      <td>...</td>\n",
       "      <td>...</td>\n",
       "      <td>...</td>\n",
       "    </tr>\n",
       "    <tr>\n",
       "      <th>33734</th>\n",
       "      <td>best budget king</td>\n",
       "      <td>budget king br best design br nice camera br d...</td>\n",
       "      <td>4</td>\n",
       "    </tr>\n",
       "    <tr>\n",
       "      <th>33735</th>\n",
       "      <td>more important best phone low budget</td>\n",
       "      <td>honest review narzo a prime br br best camera ...</td>\n",
       "      <td>4</td>\n",
       "    </tr>\n",
       "    <tr>\n",
       "      <th>33736</th>\n",
       "      <td>best budget phone recent time go</td>\n",
       "      <td>value money br camera quality br overall perfo...</td>\n",
       "      <td>4</td>\n",
       "    </tr>\n",
       "    <tr>\n",
       "      <th>33737</th>\n",
       "      <td>this nice phone prize</td>\n",
       "      <td>it amazing phone prize br and super backup bet...</td>\n",
       "      <td>4</td>\n",
       "    </tr>\n",
       "    <tr>\n",
       "      <th>33837</th>\n",
       "      <td>if i buy flipkart save rupee unexpected tried ...</td>\n",
       "      <td>mobile good br if i buy flipkart save rupee un...</td>\n",
       "      <td>3</td>\n",
       "    </tr>\n",
       "  </tbody>\n",
       "</table>\n",
       "<p>17839 rows × 3 columns</p>\n",
       "</div>"
      ],
      "text/plain": [
       "                                            Review_title  \\\n",
       "0                                      terrific purchase   \n",
       "1                                                awesome   \n",
       "2                                              wonderful   \n",
       "3                                            good choice   \n",
       "4                                                awesome   \n",
       "...                                                  ...   \n",
       "33734                                   best budget king   \n",
       "33735               more important best phone low budget   \n",
       "33736                   best budget phone recent time go   \n",
       "33737                              this nice phone prize   \n",
       "33837  if i buy flipkart save rupee unexpected tried ...   \n",
       "\n",
       "                                              Reiew_text  Ratings  \n",
       "0      booting time simply excellent look premium bes...        5  \n",
       "1      good processor long lasting battery compatible...        5  \n",
       "2                                           good product        5  \n",
       "3      good light weight laptop budget range awesome ...        4  \n",
       "4                                                     go        5  \n",
       "...                                                  ...      ...  \n",
       "33734  budget king br best design br nice camera br d...        4  \n",
       "33735  honest review narzo a prime br br best camera ...        4  \n",
       "33736  value money br camera quality br overall perfo...        4  \n",
       "33737  it amazing phone prize br and super backup bet...        4  \n",
       "33837  mobile good br if i buy flipkart save rupee un...        3  \n",
       "\n",
       "[17839 rows x 3 columns]"
      ]
     },
     "execution_count": 53,
     "metadata": {},
     "output_type": "execute_result"
    }
   ],
   "source": [
    "df"
   ]
  },
  {
   "cell_type": "code",
   "execution_count": 59,
   "id": "405f09f0",
   "metadata": {},
   "outputs": [],
   "source": [
    "# 1. Convert text into vectors using TF-IDF\n",
    "# 2. Instantiate MultinomialNB classifier\n",
    "# 3. Split feature and label\n",
    "\n",
    "from sklearn.feature_extraction.text import TfidfVectorizer\n",
    "from sklearn.naive_bayes import MultinomialNB\n",
    "from sklearn.linear_model import LogisticRegression\n",
    "from sklearn.model_selection import train_test_split\n",
    "from sklearn.metrics import accuracy_score, confusion_matrix, classification_report\n",
    "\n",
    "tf_vec = TfidfVectorizer()\n",
    "\n",
    "naiveMNB = MultinomialNB()\n",
    "lr = LogisticRegression()\n",
    "\n",
    "features = tf_vec.fit_transform(df['Review_title'],df['Reiew_text'])\n",
    "\n",
    "X = features\n",
    "y = df['Ratings']"
   ]
  },
  {
   "cell_type": "markdown",
   "id": "a4b55e65",
   "metadata": {},
   "source": [
    "# Training process begins."
   ]
  },
  {
   "cell_type": "markdown",
   "id": "6eeb83f6",
   "metadata": {},
   "source": [
    "#### Finding best random_state"
   ]
  },
  {
   "cell_type": "code",
   "execution_count": 67,
   "id": "d4837f7a",
   "metadata": {},
   "outputs": [
    {
     "name": "stdout",
     "output_type": "stream",
     "text": [
      "Accuracy score correspond to random state  0 is 0.6995515695067265\n",
      "Accuracy score correspond to random state  0 is 0.7121636771300448\n",
      "Accuracy score correspond to random state  1 is 0.6931053811659192\n",
      "Accuracy score correspond to random state  1 is 0.7144058295964125\n",
      "Accuracy score correspond to random state  2 is 0.6975896860986547\n",
      "Accuracy score correspond to random state  2 is 0.6989910313901345\n",
      "Accuracy score correspond to random state  3 is 0.7040358744394619\n",
      "Accuracy score correspond to random state  3 is 0.7149663677130045\n",
      "Accuracy score correspond to random state  4 is 0.7076793721973094\n",
      "Accuracy score correspond to random state  4 is 0.7138452914798207\n",
      "Accuracy score correspond to random state  5 is 0.7037556053811659\n",
      "Accuracy score correspond to random state  5 is 0.7244955156950673\n",
      "Accuracy score correspond to random state  6 is 0.7037556053811659\n",
      "Accuracy score correspond to random state  6 is 0.7155269058295964\n",
      "Accuracy score correspond to random state  7 is 0.6992713004484304\n",
      "Accuracy score correspond to random state  7 is 0.7093609865470852\n",
      "Accuracy score correspond to random state  8 is 0.6967488789237668\n",
      "Accuracy score correspond to random state  8 is 0.7141255605381166\n",
      "Accuracy score correspond to random state  9 is 0.6914237668161435\n",
      "Accuracy score correspond to random state  9 is 0.7051569506726457\n",
      "Accuracy score correspond to random state  10 is 0.710482062780269\n",
      "Accuracy score correspond to random state  10 is 0.7169282511210763\n",
      "Accuracy score correspond to random state  11 is 0.7037556053811659\n",
      "Accuracy score correspond to random state  11 is 0.7200112107623319\n",
      "Accuracy score correspond to random state  12 is 0.7051569506726457\n",
      "Accuracy score correspond to random state  12 is 0.7194506726457399\n",
      "Accuracy score correspond to random state  13 is 0.6998318385650224\n",
      "Accuracy score correspond to random state  13 is 0.7144058295964125\n",
      "Accuracy score correspond to random state  14 is 0.7138452914798207\n",
      "Accuracy score correspond to random state  14 is 0.7219730941704036\n",
      "Accuracy score correspond to random state  15 is 0.7037556053811659\n",
      "Accuracy score correspond to random state  15 is 0.7113228699551569\n",
      "Accuracy score correspond to random state  16 is 0.6832959641255605\n",
      "Accuracy score correspond to random state  16 is 0.7006726457399103\n",
      "Accuracy score correspond to random state  17 is 0.6939461883408071\n",
      "Accuracy score correspond to random state  17 is 0.710482062780269\n",
      "Accuracy score correspond to random state  18 is 0.6939461883408071\n",
      "Accuracy score correspond to random state  18 is 0.7079596412556054\n",
      "Accuracy score correspond to random state  19 is 0.7172085201793722\n",
      "Accuracy score correspond to random state  19 is 0.7309417040358744\n",
      "Accuracy score correspond to random state  20 is 0.70347533632287\n",
      "Accuracy score correspond to random state  20 is 0.7160874439461884\n",
      "Accuracy score correspond to random state  21 is 0.7163677130044843\n",
      "Accuracy score correspond to random state  21 is 0.7303811659192825\n",
      "Accuracy score correspond to random state  22 is 0.7059977578475336\n",
      "Accuracy score correspond to random state  22 is 0.7211322869955157\n",
      "Accuracy score correspond to random state  23 is 0.6987107623318386\n",
      "Accuracy score correspond to random state  23 is 0.7135650224215246\n",
      "Accuracy score correspond to random state  24 is 0.7057174887892377\n",
      "Accuracy score correspond to random state  24 is 0.7166479820627802\n",
      "Accuracy score correspond to random state  25 is 0.6970291479820628\n",
      "Accuracy score correspond to random state  25 is 0.7065582959641256\n",
      "Accuracy score correspond to random state  26 is 0.6978699551569507\n",
      "Accuracy score correspond to random state  26 is 0.7102017937219731\n",
      "Accuracy score correspond to random state  27 is 0.7043161434977578\n",
      "Accuracy score correspond to random state  27 is 0.7205717488789237\n",
      "Accuracy score correspond to random state  28 is 0.7093609865470852\n",
      "Accuracy score correspond to random state  28 is 0.7250560538116592\n",
      "Accuracy score correspond to random state  29 is 0.7062780269058296\n",
      "Accuracy score correspond to random state  29 is 0.7169282511210763\n",
      "Accuracy score correspond to random state  30 is 0.6925448430493274\n",
      "Accuracy score correspond to random state  30 is 0.7102017937219731\n",
      "Accuracy score correspond to random state  31 is 0.7009529147982063\n",
      "Accuracy score correspond to random state  31 is 0.7174887892376681\n",
      "Accuracy score correspond to random state  32 is 0.6984304932735426\n",
      "Accuracy score correspond to random state  32 is 0.7121636771300448\n",
      "Accuracy score correspond to random state  33 is 0.7099215246636771\n",
      "Accuracy score correspond to random state  33 is 0.7275784753363229\n",
      "Accuracy score correspond to random state  34 is 0.7113228699551569\n",
      "Accuracy score correspond to random state  34 is 0.7298206278026906\n",
      "Accuracy score correspond to random state  35 is 0.7149663677130045\n",
      "Accuracy score correspond to random state  35 is 0.7242152466367713\n",
      "Accuracy score correspond to random state  36 is 0.6998318385650224\n",
      "Accuracy score correspond to random state  36 is 0.7146860986547086\n",
      "Accuracy score correspond to random state  37 is 0.7093609865470852\n",
      "Accuracy score correspond to random state  37 is 0.7272982062780269\n",
      "Accuracy score correspond to random state  38 is 0.7124439461883408\n",
      "Accuracy score correspond to random state  38 is 0.7174887892376681\n",
      "Accuracy score correspond to random state  39 is 0.7059977578475336\n",
      "Accuracy score correspond to random state  39 is 0.7228139013452914\n",
      "Accuracy score correspond to random state  40 is 0.6995515695067265\n",
      "Accuracy score correspond to random state  40 is 0.7146860986547086\n",
      "Accuracy score correspond to random state  41 is 0.7068385650224215\n",
      "Accuracy score correspond to random state  41 is 0.7079596412556054\n",
      "Accuracy score correspond to random state  42 is 0.70347533632287\n",
      "Accuracy score correspond to random state  42 is 0.711603139013453\n",
      "Accuracy score correspond to random state  43 is 0.6939461883408071\n",
      "Accuracy score correspond to random state  43 is 0.7043161434977578\n",
      "Accuracy score correspond to random state  44 is 0.6973094170403588\n",
      "Accuracy score correspond to random state  44 is 0.7085201793721974\n",
      "Accuracy score correspond to random state  45 is 0.7127242152466368\n",
      "Accuracy score correspond to random state  45 is 0.719170403587444\n",
      "Accuracy score correspond to random state  46 is 0.7057174887892377\n",
      "Accuracy score correspond to random state  46 is 0.7113228699551569\n",
      "Accuracy score correspond to random state  47 is 0.6964686098654709\n",
      "Accuracy score correspond to random state  47 is 0.7026345291479821\n",
      "Accuracy score correspond to random state  48 is 0.702354260089686\n",
      "Accuracy score correspond to random state  48 is 0.7202914798206278\n",
      "Accuracy score correspond to random state  49 is 0.695627802690583\n",
      "Accuracy score correspond to random state  49 is 0.7141255605381166\n",
      "Accuracy score correspond to random state  50 is 0.7079596412556054\n",
      "Accuracy score correspond to random state  50 is 0.7166479820627802\n",
      "Accuracy score correspond to random state  51 is 0.6995515695067265\n",
      "Accuracy score correspond to random state  51 is 0.7141255605381166\n",
      "Accuracy score correspond to random state  52 is 0.6978699551569507\n",
      "Accuracy score correspond to random state  52 is 0.7132847533632287\n",
      "Accuracy score correspond to random state  53 is 0.7146860986547086\n",
      "Accuracy score correspond to random state  53 is 0.7286995515695067\n",
      "Accuracy score correspond to random state  54 is 0.6877802690582959\n",
      "Accuracy score correspond to random state  54 is 0.7045964125560538\n",
      "Accuracy score correspond to random state  55 is 0.7040358744394619\n",
      "Accuracy score correspond to random state  55 is 0.7202914798206278\n",
      "Accuracy score correspond to random state  56 is 0.7146860986547086\n",
      "Accuracy score correspond to random state  56 is 0.7286995515695067\n",
      "Accuracy score correspond to random state  57 is 0.7082399103139013\n",
      "Accuracy score correspond to random state  57 is 0.7233744394618834\n",
      "Accuracy score correspond to random state  58 is 0.7015134529147982\n",
      "Accuracy score correspond to random state  58 is 0.7079596412556054\n",
      "Accuracy score correspond to random state  59 is 0.7003923766816144\n",
      "Accuracy score correspond to random state  59 is 0.711603139013453\n",
      "Accuracy score correspond to random state  60 is 0.7017937219730942\n"
     ]
    },
    {
     "name": "stdout",
     "output_type": "stream",
     "text": [
      "Accuracy score correspond to random state  60 is 0.7155269058295964\n",
      "Accuracy score correspond to random state  61 is 0.6936659192825112\n",
      "Accuracy score correspond to random state  61 is 0.7085201793721974\n",
      "Accuracy score correspond to random state  62 is 0.7040358744394619\n",
      "Accuracy score correspond to random state  62 is 0.7062780269058296\n",
      "Accuracy score correspond to random state  63 is 0.7113228699551569\n",
      "Accuracy score correspond to random state  63 is 0.7197309417040358\n",
      "Accuracy score correspond to random state  64 is 0.7169282511210763\n",
      "Accuracy score correspond to random state  64 is 0.7261771300448431\n",
      "Accuracy score correspond to random state  65 is 0.7045964125560538\n",
      "Accuracy score correspond to random state  65 is 0.7228139013452914\n",
      "Accuracy score correspond to random state  66 is 0.6995515695067265\n",
      "Accuracy score correspond to random state  66 is 0.7051569506726457\n",
      "Accuracy score correspond to random state  67 is 0.7017937219730942\n",
      "Accuracy score correspond to random state  67 is 0.7163677130044843\n",
      "Accuracy score correspond to random state  68 is 0.7043161434977578\n",
      "Accuracy score correspond to random state  68 is 0.7059977578475336\n",
      "Accuracy score correspond to random state  69 is 0.7085201793721974\n",
      "Accuracy score correspond to random state  69 is 0.7239349775784754\n",
      "Accuracy score correspond to random state  70 is 0.6989910313901345\n",
      "Accuracy score correspond to random state  70 is 0.7057174887892377\n",
      "Accuracy score correspond to random state  71 is 0.6981502242152466\n",
      "Accuracy score correspond to random state  71 is 0.7141255605381166\n",
      "Accuracy score correspond to random state  72 is 0.7059977578475336\n",
      "Accuracy score correspond to random state  72 is 0.7163677130044843\n",
      "Accuracy score correspond to random state  73 is 0.7138452914798207\n",
      "Accuracy score correspond to random state  73 is 0.7200112107623319\n",
      "Accuracy score correspond to random state  74 is 0.703195067264574\n",
      "Accuracy score correspond to random state  74 is 0.7132847533632287\n",
      "Accuracy score correspond to random state  75 is 0.7057174887892377\n",
      "Accuracy score correspond to random state  75 is 0.7121636771300448\n",
      "Accuracy score correspond to random state  76 is 0.7037556053811659\n",
      "Accuracy score correspond to random state  76 is 0.7177690582959642\n",
      "Accuracy score correspond to random state  77 is 0.7059977578475336\n",
      "Accuracy score correspond to random state  77 is 0.7127242152466368\n",
      "Accuracy score correspond to random state  78 is 0.7076793721973094\n",
      "Accuracy score correspond to random state  78 is 0.7130044843049327\n",
      "Accuracy score correspond to random state  79 is 0.711603139013453\n",
      "Accuracy score correspond to random state  79 is 0.7230941704035875\n",
      "Accuracy score correspond to random state  80 is 0.6998318385650224\n",
      "Accuracy score correspond to random state  80 is 0.7155269058295964\n",
      "Accuracy score correspond to random state  81 is 0.7071188340807175\n",
      "Accuracy score correspond to random state  81 is 0.7163677130044843\n",
      "Accuracy score correspond to random state  82 is 0.7062780269058296\n",
      "Accuracy score correspond to random state  82 is 0.7121636771300448\n",
      "Accuracy score correspond to random state  83 is 0.7073991031390134\n",
      "Accuracy score correspond to random state  83 is 0.7172085201793722\n",
      "Accuracy score correspond to random state  84 is 0.695347533632287\n",
      "Accuracy score correspond to random state  84 is 0.7096412556053812\n",
      "Accuracy score correspond to random state  85 is 0.702354260089686\n",
      "Accuracy score correspond to random state  85 is 0.7230941704035875\n",
      "Accuracy score correspond to random state  86 is 0.7012331838565022\n",
      "Accuracy score correspond to random state  86 is 0.7146860986547086\n",
      "Accuracy score correspond to random state  87 is 0.7001121076233184\n",
      "Accuracy score correspond to random state  87 is 0.7051569506726457\n",
      "Accuracy score correspond to random state  88 is 0.7135650224215246\n",
      "Accuracy score correspond to random state  88 is 0.718609865470852\n",
      "Accuracy score correspond to random state  89 is 0.6925448430493274\n",
      "Accuracy score correspond to random state  89 is 0.7079596412556054\n",
      "Accuracy score correspond to random state  90 is 0.7099215246636771\n",
      "Accuracy score correspond to random state  90 is 0.7278587443946188\n",
      "Accuracy score correspond to random state  91 is 0.7040358744394619\n",
      "Accuracy score correspond to random state  91 is 0.7247757847533632\n",
      "Accuracy score correspond to random state  92 is 0.711042600896861\n",
      "Accuracy score correspond to random state  92 is 0.718609865470852\n",
      "Accuracy score correspond to random state  93 is 0.7127242152466368\n",
      "Accuracy score correspond to random state  93 is 0.7298206278026906\n",
      "Accuracy score correspond to random state  94 is 0.6992713004484304\n",
      "Accuracy score correspond to random state  94 is 0.7085201793721974\n",
      "Accuracy score correspond to random state  95 is 0.695067264573991\n",
      "Accuracy score correspond to random state  95 is 0.7127242152466368\n",
      "Accuracy score correspond to random state  96 is 0.7082399103139013\n",
      "Accuracy score correspond to random state  96 is 0.7292600896860987\n",
      "Accuracy score correspond to random state  97 is 0.7009529147982063\n",
      "Accuracy score correspond to random state  97 is 0.7214125560538116\n",
      "Accuracy score correspond to random state  98 is 0.6992713004484304\n",
      "Accuracy score correspond to random state  98 is 0.7166479820627802\n",
      "Accuracy score correspond to random state  99 is 0.7009529147982063\n",
      "Accuracy score correspond to random state  99 is 0.7256165919282511\n"
     ]
    }
   ],
   "source": [
    "model = [naiveMNB,lr]\n",
    "max_acc_score = 0\n",
    "for r_state in range(0,100):\n",
    "    X_train, x_test, Y_train, y_test = train_test_split(X,y,test_size=.20,random_state = r_state)\n",
    "    for i in model:\n",
    "        i.fit(X_train,Y_train)\n",
    "        pred_test = i.predict(x_test)\n",
    "        acc_sc = accuracy_score(y_test,pred_test)\n",
    "        print(\"Accuracy score correspond to random state \",r_state,\"is\",acc_sc)\n",
    "        if acc_sc > max_acc_score:\n",
    "            max_acc_score = acc_sc\n",
    "            final_state = r_state\n",
    "            final_model = i"
   ]
  },
  {
   "cell_type": "code",
   "execution_count": 68,
   "id": "d5bd3a02",
   "metadata": {},
   "outputs": [
    {
     "name": "stdout",
     "output_type": "stream",
     "text": [
      "max Accuracy score correspond to random state  19 is 0.7309417040358744 and model is LogisticRegression()\n"
     ]
    }
   ],
   "source": [
    "print(\"max Accuracy score correspond to random state \",final_state,\"is\",max_acc_score,\"and model is\",final_model)"
   ]
  },
  {
   "cell_type": "markdown",
   "id": "1bb7b5e3",
   "metadata": {},
   "source": [
    "# Creating train-test split"
   ]
  },
  {
   "cell_type": "code",
   "execution_count": 69,
   "id": "2dd49784",
   "metadata": {},
   "outputs": [],
   "source": [
    "X_train, x_test, Y_train, y_test = train_test_split(X,y,test_size=.20,random_state = 19)"
   ]
  },
  {
   "cell_type": "markdown",
   "id": "09aeee9d",
   "metadata": {},
   "source": [
    "### Apply best model"
   ]
  },
  {
   "cell_type": "code",
   "execution_count": 74,
   "id": "071af545",
   "metadata": {},
   "outputs": [
    {
     "name": "stdout",
     "output_type": "stream",
     "text": [
      "Accuracy score =>  0.7172085201793722\n"
     ]
    }
   ],
   "source": [
    "naiveMNB.fit(X_train,Y_train)\n",
    "y_pred = naiveMNB.predict(x_test)\n",
    "print(\"Accuracy score => \",accuracy_score(y_test,y_pred))"
   ]
  },
  {
   "cell_type": "code",
   "execution_count": 75,
   "id": "14796743",
   "metadata": {},
   "outputs": [
    {
     "name": "stdout",
     "output_type": "stream",
     "text": [
      "              precision    recall  f1-score   support\n",
      "\n",
      "           1       0.64      0.79      0.71       571\n",
      "           2       0.41      0.18      0.25       318\n",
      "           3       0.56      0.36      0.44       352\n",
      "           4       0.61      0.68      0.64       713\n",
      "           5       0.85      0.89      0.87      1614\n",
      "\n",
      "    accuracy                           0.72      3568\n",
      "   macro avg       0.61      0.58      0.58      3568\n",
      "weighted avg       0.70      0.72      0.70      3568\n",
      "\n"
     ]
    }
   ],
   "source": [
    "print(classification_report(y_test,y_pred))"
   ]
  },
  {
   "cell_type": "code",
   "execution_count": 77,
   "id": "2e905fc3",
   "metadata": {},
   "outputs": [
    {
     "data": {
      "image/png": "[encoded data removed]",
      "text/plain": [
       "<Figure size 432x288 with 2 Axes>"
      ]
     },
     "metadata": {
      "needs_background": "light"
     },
     "output_type": "display_data"
    }
   ],
   "source": [
    "# plot confusion matrix heatmap\n",
    "conf_mat = confusion_matrix(y_test,y_pred)\n",
    "\n",
    "ax = plt.subplot()\n",
    "\n",
    "sns.heatmap(conf_mat,annot=True,ax=ax,linewidths=5,linecolor='r',center=0)\n",
    "\n",
    "ax.set_xlabel(\"Predicted ratings\");ax.set_ylabel('Actual ratings')\n",
    "\n",
    "ax.set_title('Confusion matrix')\n",
    "plt.show()"
   ]
  },
  {
   "cell_type": "code",
   "execution_count": 78,
   "id": "9dc73c49",
   "metadata": {},
   "outputs": [
    {
     "data": {
      "text/plain": [
       "array([[ 453,   27,   24,   42,   25],\n",
       "       [ 140,   58,   45,   41,   34],\n",
       "       [  63,   35,  128,   93,   33],\n",
       "       [  23,   12,   25,  485,  168],\n",
       "       [  26,    8,    8,  137, 1435]], dtype=int64)"
      ]
     },
     "execution_count": 78,
     "metadata": {},
     "output_type": "execute_result"
    }
   ],
   "source": [
    "conf_mat"
   ]
  },
  {
   "cell_type": "markdown",
   "id": "4bb6cd3d",
   "metadata": {},
   "source": [
    "# Cross-Validation"
   ]
  },
  {
   "cell_type": "code",
   "execution_count": 85,
   "id": "70bba2e2",
   "metadata": {},
   "outputs": [
    {
     "name": "stdout",
     "output_type": "stream",
     "text": [
      "At cv:- 2\n",
      "cross validation score is :- 54.04422689104783\n",
      "accuracy score is :- 71.72085201793722\n",
      "\n",
      "\n",
      "At cv:- 3\n",
      "cross validation score is :- 59.44217932243846\n",
      "accuracy score is :- 71.72085201793722\n",
      "\n",
      "\n",
      "At cv:- 4\n",
      "cross validation score is :- 62.91110612184557\n",
      "accuracy score is :- 71.72085201793722\n",
      "\n",
      "\n",
      "At cv:- 5\n",
      "cross validation score is :- 65.54581043722916\n",
      "accuracy score is :- 71.72085201793722\n",
      "\n",
      "\n",
      "At cv:- 6\n",
      "cross validation score is :- 65.09237135565076\n",
      "accuracy score is :- 71.72085201793722\n",
      "\n",
      "\n",
      "At cv:- 7\n",
      "cross validation score is :- 66.00476588447061\n",
      "accuracy score is :- 71.72085201793722\n",
      "\n",
      "\n",
      "At cv:- 8\n",
      "cross validation score is :- 66.01688504768975\n",
      "accuracy score is :- 71.72085201793722\n",
      "\n",
      "\n",
      "At cv:- 9\n",
      "cross validation score is :- 67.44109887513989\n",
      "accuracy score is :- 71.72085201793722\n",
      "\n",
      "\n"
     ]
    }
   ],
   "source": [
    "from sklearn.model_selection import cross_val_score\n",
    "lss = accuracy_score(y_test,y_pred)\n",
    "for i in range(2,10):\n",
    "    lsscore = cross_val_score(naiveMNB,X,y,cv=i)\n",
    "    lsc = lsscore.mean()\n",
    "    print(\"At cv:-\",i)\n",
    "    print(\"cross validation score is :-\",lsc*100)\n",
    "    print(\"accuracy score is :-\",lss*100)\n",
    "    print(\"\\n\")"
   ]
  },
  {
   "cell_type": "markdown",
   "id": "aadc8eb4",
   "metadata": {},
   "source": [
    "# Model Saving:"
   ]
  },
  {
   "cell_type": "code",
   "execution_count": 99,
   "id": "bb2d19ec",
   "metadata": {},
   "outputs": [],
   "source": [
    "import pickle\n",
    "filename = 'rating_prediction.pkl'\n",
    "pickle.dump(naiveMNB,open(filename,'wb'))"
   ]
  },
  {
   "cell_type": "markdown",
   "id": "baa61dcd",
   "metadata": {},
   "source": [
    "# Conclusion:"
   ]
  },
  {
   "cell_type": "code",
   "execution_count": 100,
   "id": "2af9538d",
   "metadata": {},
   "outputs": [
    {
     "data": {
      "text/html": [
       "<div>\n",
       "<style scoped>\n",
       "    .dataframe tbody tr th:only-of-type {\n",
       "        vertical-align: middle;\n",
       "    }\n",
       "\n",
       "    .dataframe tbody tr th {\n",
       "        vertical-align: top;\n",
       "    }\n",
       "\n",
       "    .dataframe thead th {\n",
       "        text-align: right;\n",
       "    }\n",
       "</style>\n",
       "<table border=\"1\" class=\"dataframe\">\n",
       "  <thead>\n",
       "    <tr style=\"text-align: right;\">\n",
       "      <th></th>\n",
       "      <th>original</th>\n",
       "      <th>predicted</th>\n",
       "    </tr>\n",
       "  </thead>\n",
       "  <tbody>\n",
       "    <tr>\n",
       "      <th>0</th>\n",
       "      <td>4</td>\n",
       "      <td>4</td>\n",
       "    </tr>\n",
       "    <tr>\n",
       "      <th>1</th>\n",
       "      <td>2</td>\n",
       "      <td>1</td>\n",
       "    </tr>\n",
       "    <tr>\n",
       "      <th>2</th>\n",
       "      <td>4</td>\n",
       "      <td>5</td>\n",
       "    </tr>\n",
       "    <tr>\n",
       "      <th>3</th>\n",
       "      <td>5</td>\n",
       "      <td>5</td>\n",
       "    </tr>\n",
       "    <tr>\n",
       "      <th>4</th>\n",
       "      <td>2</td>\n",
       "      <td>3</td>\n",
       "    </tr>\n",
       "    <tr>\n",
       "      <th>...</th>\n",
       "      <td>...</td>\n",
       "      <td>...</td>\n",
       "    </tr>\n",
       "    <tr>\n",
       "      <th>3563</th>\n",
       "      <td>4</td>\n",
       "      <td>5</td>\n",
       "    </tr>\n",
       "    <tr>\n",
       "      <th>3564</th>\n",
       "      <td>1</td>\n",
       "      <td>1</td>\n",
       "    </tr>\n",
       "    <tr>\n",
       "      <th>3565</th>\n",
       "      <td>4</td>\n",
       "      <td>4</td>\n",
       "    </tr>\n",
       "    <tr>\n",
       "      <th>3566</th>\n",
       "      <td>5</td>\n",
       "      <td>5</td>\n",
       "    </tr>\n",
       "    <tr>\n",
       "      <th>3567</th>\n",
       "      <td>1</td>\n",
       "      <td>1</td>\n",
       "    </tr>\n",
       "  </tbody>\n",
       "</table>\n",
       "<p>3568 rows × 2 columns</p>\n",
       "</div>"
      ],
      "text/plain": [
       "      original  predicted\n",
       "0            4          4\n",
       "1            2          1\n",
       "2            4          5\n",
       "3            5          5\n",
       "4            2          3\n",
       "...        ...        ...\n",
       "3563         4          5\n",
       "3564         1          1\n",
       "3565         4          4\n",
       "3566         5          5\n",
       "3567         1          1\n",
       "\n",
       "[3568 rows x 2 columns]"
      ]
     },
     "execution_count": 100,
     "metadata": {},
     "output_type": "execute_result"
    }
   ],
   "source": [
    "import numpy as np\n",
    "a = np.array(y_test)\n",
    "#predicted = np.array(ls.predict(x_test))\n",
    "df_comp = pd.DataFrame({'original':a,'predicted':y_pred},index=range(len(a)))\n",
    "df_comp"
   ]
  }
 ],
 "metadata": {
  "kernelspec": {
   "display_name": "Python 3 (ipykernel)",
   "language": "python",
   "name": "python3"
  },
  "language_info": {
   "codemirror_mode": {
    "name": "ipython",
    "version": 3
   },
   "file_extension": ".py",
   "mimetype": "text/x-python",
   "name": "python",
   "nbconvert_exporter": "python",
   "pygments_lexer": "ipython3",
   "version": "3.9.12"
  },
  "varInspector": {
   "cols": {
    "lenName": 16,
    "lenType": 16,
    "lenVar": 40
   },
   "kernels_config": {
    "python": {
     "delete_cmd_postfix": "",
     "delete_cmd_prefix": "del ",
     "library": "var_list.py",
     "varRefreshCmd": "print(var_dic_list())"
    },
    "r": {
     "delete_cmd_postfix": ") ",
     "delete_cmd_prefix": "rm(",
     "library": "var_list.r",
     "varRefreshCmd": "cat(var_dic_list()) "
    }
   },
   "types_to_exclude": [
    "module",
    "function",
    "builtin_function_or_method",
    "instance",
    "_Feature"
   ],
   "window_display": false
  }
 },
 "nbformat": 4,
 "nbformat_minor": 5
}
